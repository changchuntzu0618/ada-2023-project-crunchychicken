{
 "cells": [
  {
   "cell_type": "code",
   "execution_count": 1,
   "id": "c8d49464",
   "metadata": {},
   "outputs": [
    {
     "data": {
      "text/html": [
       "<style>.container { width:90% !important; }</style>"
      ],
      "text/plain": [
       "<IPython.core.display.HTML object>"
      ]
     },
     "metadata": {},
     "output_type": "display_data"
    }
   ],
   "source": [
    "# mutliple outputs in cell\n",
    "from IPython.core.interactiveshell import InteractiveShell\n",
    "InteractiveShell.ast_node_interactivity = \"all\"\n",
    "\n",
    "# cell width\n",
    "from IPython.display import display, HTML\n",
    "display(HTML(\"<style>.container { width:90% !important; }</style>\"))"
   ]
  },
  {
   "cell_type": "markdown",
   "id": "b877b219",
   "metadata": {},
   "source": [
    "### Imports and data folder path"
   ]
  },
  {
   "cell_type": "code",
   "execution_count": 2,
   "id": "f5743d3e",
   "metadata": {},
   "outputs": [],
   "source": [
    "import pandas as pd\n",
    "import os\n",
    "import numpy as np\n",
    "import matplotlib.pyplot as plt\n",
    "import seaborn as sns\n",
    "import ast\n",
    "import json\n",
    "\n",
    "PATH_IN = './data/'\n",
    "\n",
    "colors = sns.color_palette(\"colorblind\")\n",
    "sns.set_palette(colors)\n",
    "plt.rcParams['axes.prop_cycle'] = plt.cycler(color=colors)"
   ]
  },
  {
   "cell_type": "markdown",
   "id": "e0ef2122",
   "metadata": {},
   "source": [
    "### Plot Summaries (Train data 1)\n",
    "Plot summaries of 42,306 movies extracted from the November 2, 2012 dump of English-language Wikipedia. Each line contains the Wikipedia movie ID (which indexes into movie.metadata.tsv) followed by the summary."
   ]
  },
  {
   "cell_type": "code",
   "execution_count": 3,
   "id": "8903ff3a",
   "metadata": {},
   "outputs": [
    {
     "name": "stdout",
     "output_type": "stream",
     "text": [
      "<class 'pandas.core.frame.DataFrame'>\n",
      "RangeIndex: 42303 entries, 0 to 42302\n",
      "Data columns (total 2 columns):\n",
      " #   Column              Non-Null Count  Dtype \n",
      "---  ------              --------------  ----- \n",
      " 0   Wikipedia movie id  42303 non-null  int32 \n",
      " 1   plot_summary        42303 non-null  string\n",
      "dtypes: int32(1), string(1)\n",
      "memory usage: 495.9 KB\n"
     ]
    }
   ],
   "source": [
    "plot_summaries_fname = os.path.join(PATH_IN, 'plot_summaries.txt')\n",
    "\n",
    "plot_summaries = pd.read_csv(plot_summaries_fname, sep='\\t', names=['Wikipedia movie id', 'plot_summary'])\n",
    "plot_summaries['Wikipedia movie id'] = pd.to_numeric(plot_summaries['Wikipedia movie id'], downcast='integer') # unsigned for uint, in terms of memory same result\n",
    "plot_summaries['plot_summary'] = plot_summaries['plot_summary'].astype('string')\n",
    "\n",
    "plot_summaries.info()"
   ]
  },
  {
   "cell_type": "markdown",
   "id": "bc070804",
   "metadata": {},
   "source": [
    "### Stanford CoreNLP processed XML datasets (Train data 2)\n",
    "The plot summaries, run through the Stanford CoreNLP pipeline (tagging, parsing, NER and coref). Each filename begins with the Wikipedia movie ID (which indexes into movie.metadata.tsv).\n",
    "\n",
    "[Paper](https://www.cs.cmu.edu/~dbamman/pubs/pdf/bamman+oconnor+smith.acl13.pdf)\n",
    "\n",
    "[Dependency glossary](https://downloads.cs.stanford.edu/nlp/software/dependencies_manual.pdf)"
   ]
  },
  {
   "cell_type": "code",
   "execution_count": 4,
   "id": "d11dab14",
   "metadata": {},
   "outputs": [
    {
     "name": "stdout",
     "output_type": "stream",
     "text": [
      "<class 'pandas.core.frame.DataFrame'>\n",
      "RangeIndex: 14905203 entries, 0 to 14905202\n",
      "Data columns (total 9 columns):\n",
      " #   Column       Dtype \n",
      "---  ------       ----- \n",
      " 0   movie_id     int32 \n",
      " 1   sentence_id  int16 \n",
      " 2   token_id     int16 \n",
      " 3   word         string\n",
      " 4   lemma        string\n",
      " 5   COB          int16 \n",
      " 6   COE          int16 \n",
      " 7   POS          string\n",
      " 8   NER          string\n",
      "dtypes: int16(4), int32(1), string(4)\n",
      "memory usage: 625.4 MB\n",
      "<class 'pandas.core.frame.DataFrame'>\n",
      "RangeIndex: 34199068 entries, 0 to 34199067\n",
      "Data columns (total 8 columns):\n",
      " #   Column            Dtype \n",
      "---  ------            ----- \n",
      " 0   movie_id          int32 \n",
      " 1   sentence_id       int16 \n",
      " 2   dependency_class  string\n",
      " 3   dependency_type   string\n",
      " 4   governor_id       int16 \n",
      " 5   governor_word     string\n",
      " 6   dependent_id      int16 \n",
      " 7   dependent_word    string\n",
      "dtypes: int16(3), int32(1), string(4)\n",
      "memory usage: 1.3 GB\n",
      "<class 'pandas.core.frame.DataFrame'>\n",
      "RangeIndex: 665586 entries, 0 to 665585\n",
      "Data columns (total 3 columns):\n",
      " #   Column       Non-Null Count   Dtype \n",
      "---  ------       --------------   ----- \n",
      " 0   movie_id     665586 non-null  int32 \n",
      " 1   sentence_id  665586 non-null  int16 \n",
      " 2   parse        665586 non-null  string\n",
      "dtypes: int16(1), int32(1), string(1)\n",
      "memory usage: 8.9 MB\n",
      "<class 'pandas.core.frame.DataFrame'>\n",
      "RangeIndex: 2921142 entries, 0 to 2921141\n",
      "Data columns (total 6 columns):\n",
      " #   Column          Dtype\n",
      "---  ------          -----\n",
      " 0   movie_id        int32\n",
      " 1   sentence_id     int16\n",
      " 2   start           int16\n",
      " 3   end             int16\n",
      " 4   head            int16\n",
      " 5   representative  bool \n",
      "dtypes: bool(1), int16(4), int32(1)\n",
      "memory usage: 36.2 MB\n"
     ]
    }
   ],
   "source": [
    "tokens_fname = os.path.join(PATH_IN, 'tokens.parquet')\n",
    "dependencies_fname = os.path.join(PATH_IN, 'dependencies.parquet')\n",
    "parses_fname = os.path.join(PATH_IN, 'parses.parquet')\n",
    "coref_fname = os.path.join(PATH_IN, 'coref.parquet')\n",
    "\n",
    "tokens = pd.read_parquet(tokens_fname)\n",
    "dependencies = pd.read_parquet(dependencies_fname)\n",
    "parses = pd.read_parquet(parses_fname)\n",
    "coref = pd.read_parquet(coref_fname)\n",
    "\n",
    "tokens.info()\n",
    "dependencies.info()\n",
    "parses.info()\n",
    "coref.info()"
   ]
  },
  {
   "cell_type": "markdown",
   "id": "dccdf9e3",
   "metadata": {},
   "source": [
    "### Movies metadata (Train data 3)\n",
    "\n",
    "Metadata for 81,741 movies, extracted from the Noverber 4, 2012 dump of Freebase. Tab-separated; columns.\n",
    "1. Wikipedia movie ID\n",
    "2. Freebase movie ID\n",
    "3. Movie name\n",
    "4. Movie release date\n",
    "5. Movie box office revenue\n",
    "6. Movie runtime\n",
    "7. Movie languages (Freebase ID:name tuples)\n",
    "8. Movie countries (Freebase ID:name tuples)\n",
    "9. Movie genres (Freebase ID:name tuples)"
   ]
  },
  {
   "cell_type": "code",
   "execution_count": 114,
   "id": "2b9c2d17",
   "metadata": {},
   "outputs": [
    {
     "name": "stdout",
     "output_type": "stream",
     "text": [
      "<class 'pandas.core.frame.DataFrame'>\n",
      "RangeIndex: 81741 entries, 0 to 81740\n",
      "Data columns (total 9 columns):\n",
      " #   Column                    Non-Null Count  Dtype  \n",
      "---  ------                    --------------  -----  \n",
      " 0   Wikipedia movie ID        81741 non-null  int64  \n",
      " 1   Freebase movie ID         81741 non-null  object \n",
      " 2   Movie name                81741 non-null  object \n",
      " 3   Movie release date        74839 non-null  object \n",
      " 4   Movie box office revenue  8401 non-null   float64\n",
      " 5   Movie runtime             61291 non-null  float64\n",
      " 6   Movie languages           81741 non-null  object \n",
      " 7   Movie countries           81741 non-null  object \n",
      " 8   Movie genres              81741 non-null  object \n",
      "dtypes: float64(2), int64(1), object(6)\n",
      "memory usage: 5.6+ MB\n",
      "\n",
      "\n",
      "<class 'pandas.core.frame.DataFrame'>\n",
      "RangeIndex: 81741 entries, 0 to 81740\n",
      "Data columns (total 10 columns):\n",
      " #   Column                    Non-Null Count  Dtype  \n",
      "---  ------                    --------------  -----  \n",
      " 0   Wikipedia movie ID        81741 non-null  int32  \n",
      " 1   Movie name                81741 non-null  string \n",
      " 2   Movie release Year        74839 non-null  Int16  \n",
      " 3   Movie box office revenue  8401 non-null   float64\n",
      " 4   Movie runtime             61291 non-null  float32\n",
      " 5   Movie languages           81741 non-null  string \n",
      " 6   Movie countries           81741 non-null  string \n",
      " 7   Movie genres              81741 non-null  string \n",
      " 8   Movie release Month       42667 non-null  Int8   \n",
      " 9   Movie release Day         39373 non-null  Int8   \n",
      "dtypes: Int16(1), Int8(2), float32(1), float64(1), int32(1), string(4)\n",
      "memory usage: 4.3 MB\n",
      "<class 'pandas.core.frame.DataFrame'>\n",
      "RangeIndex: 81741 entries, 0 to 81740\n",
      "Data columns (total 4 columns):\n",
      " #   Column             Non-Null Count  Dtype \n",
      "---  ------             --------------  ----- \n",
      " 0   Freebase movie ID  81741 non-null  string\n",
      " 1   language codes     81741 non-null  string\n",
      " 2   countries codes    81741 non-null  string\n",
      " 3   genres codes       81741 non-null  string\n",
      "dtypes: string(4)\n",
      "memory usage: 2.5 MB\n"
     ]
    }
   ],
   "source": [
    "movie_fname = os.path.join(PATH_IN, 'movie.metadata.tsv')\n",
    "\n",
    "movie_column_names = [\n",
    "    \"Wikipedia movie ID\", \n",
    "    \"Freebase movie ID\", \n",
    "    \"Movie name\", \n",
    "    \"Movie release date\", \n",
    "    \"Movie box office revenue\", \n",
    "    \"Movie runtime\", \n",
    "    \"Movie languages\", \n",
    "    \"Movie countries\", \n",
    "    \"Movie genres\",\n",
    "]\n",
    "\n",
    "movies = pd.read_csv(movie_fname,  sep= '\\t', names= movie_column_names)\n",
    "movies.info()\n",
    "\n",
    "movies.loc[46808, 'Movie countries'] = '{\"/m/03rk0\": \"India\"}'\n",
    "movies.loc[67202, 'Movie countries'] = '{\"/m/03rk0\": \"India\"}'\n",
    "movies.loc[67202, 'Movie languages'] = '{\"/m/0999q\": \"Malayalam Language\"}'\n",
    "movies.loc[72685, 'Movie countries'] = '{\"/m/084n_\": \"Weimar Republic\", \"/m/0345h\": \"Germany\"}'\n",
    "\n",
    "movies.loc[1825, \"Movie languages\"] = '{\"/m/04306rv\": \"German Language\"}'\n",
    "movies.loc[7855, \"Movie languages\"] = '{\"/m/02bjrlw\": \"Italian Language\", \"/m/06nm1\": \"Spanish Language\", \"/m/064_8sq\": \"French Language\", \"/m/04h9h\": \"Latin Language\", \"/m/02h40lc\": \"English Language\", \"/m/05qqm\": \"Polish Language\", \"/m/04306rv\": \"German Language\"}'\n",
    "movies.loc[20807, \"Movie languages\"] = '{\"/m/0k0sv\": \"Croatian language\", \"/m/02bjrlw\": \"Italian Language\", \"/m/06b_j\": \"Russian Language\", \"/m/06nm1\": \"Spanish Language\", \"/m/064_8sq\": \"French Language\", \"/m/05zjd\": \"Portuguese Language\", \"/m/02h40lc\": \"English Language\", \"/m/06zvd\": \"Slovenian language\", \"/m/04306rv\": \"German Language\", \"/m/02hwhyv\": \"Korean Language\"}'\n",
    "movies.loc[25679, \"Movie languages\"] = '{\"/m/05qqm\": \"Polish Language\", \"/m/0cjk9\": \"Ukrainian Language\", \"/m/0880p\": \"Yiddish Language\", \"/m/04306rv\": \"German Language\"}'\n",
    "movies.loc[30562, \"Movie languages\"] = '{\"/m/02h40lc\": \"English Language\", \"/m/06b_j\": \"Russian Language\", \"/m/04306rv\": \"German Language\"}'\n",
    "movies.loc[68137, \"Movie languages\"] = '{\"/m/02hwyss\": \"Turkish Language\", \"/m/04306rv\": \"German Language\"}'\n",
    "\n",
    "movies['Movie release Year'] = movies['Movie release date'].str.split('-').str[0].astype('Int64')\n",
    "movies['Movie release Month'] = movies['Movie release date'].str.split('-').str[1].astype('Int64')\n",
    "movies['Movie release Day'] = movies['Movie release date'].str.split('-').str[2].astype('Int64')\n",
    "movies.drop(columns=['Movie release date'], inplace=True)\n",
    "\n",
    "movies['parsed languages'] = movies['Movie languages'].apply(ast.literal_eval)\n",
    "movies['language codes'] = movies['parsed languages'].apply(lambda x: ','.join(list(x.keys())))\n",
    "movies['languages'] = movies['parsed languages'].apply(lambda x: ','.join([val.replace(' Language', '') for val in list(x.values())]))\n",
    "movies.drop(columns=['Movie languages', 'parsed languages'], inplace=True)\n",
    "\n",
    "movies['parsed countries'] = movies['Movie countries'].apply(ast.literal_eval)\n",
    "movies['countries codes'] = movies['parsed countries'].apply(lambda x: ','.join(list(x.keys())))\n",
    "movies['countries'] = movies['parsed countries'].apply(lambda x: ','.join(list(x.values())))\n",
    "movies.drop(columns=['Movie countries', 'parsed countries'], inplace=True)\n",
    "\n",
    "movies['parsed genres'] = movies['Movie genres'].apply(ast.literal_eval)\n",
    "movies['genres codes'] = movies['parsed genres'].apply(lambda x: ','.join(list(x.keys())))\n",
    "movies['genres'] = movies['parsed genres'].apply(lambda x: ','.join(list(x.values())))\n",
    "movies.drop(columns=['Movie genres', 'parsed genres'], inplace=True)\n",
    "\n",
    "\n",
    "movies_probably_not_useful = movies[['Freebase movie ID', 'language codes', 'countries codes', 'genres codes']]\n",
    "movies.drop(columns=['Freebase movie ID', 'language codes', 'countries codes', 'genres codes'], inplace=True)\n",
    "\n",
    "movies.rename(columns={\n",
    "    'languages': 'Movie languages',\n",
    "    'countries': 'Movie countries',\n",
    "    'genres': 'Movie genres'\n",
    "}, inplace=True)\n",
    "movies = movies[['Wikipedia movie ID', 'Movie name', 'Movie release Year', 'Movie box office revenue', 'Movie runtime', 'Movie languages', 'Movie countries', 'Movie genres', \n",
    "                 'Movie release Month', 'Movie release Day']]\n",
    "\n",
    "movies['Movie name'] = movies['Movie name'].astype('string')\n",
    "movies['Movie languages'] = movies['Movie languages'].astype('string')\n",
    "movies['Movie countries'] = movies['Movie countries'].astype('string')\n",
    "movies['Movie genres'] = movies['Movie genres'].astype('string')\n",
    "movies['Wikipedia movie ID'] = pd.to_numeric(movies['Wikipedia movie ID'], downcast='integer')\n",
    "movies['Movie release Year'] = pd.to_numeric(movies['Movie release Year'], downcast='integer')\n",
    "movies['Movie release Month'] = pd.to_numeric(movies['Movie release Month'], downcast='integer')\n",
    "movies['Movie release Day'] = pd.to_numeric(movies['Movie release Day'], downcast='integer')\n",
    "movies['Movie box office revenue'] = pd.to_numeric(movies['Movie box office revenue'], downcast='float')\n",
    "movies['Movie runtime'] = pd.to_numeric(movies['Movie runtime'], downcast='float')\n",
    "\n",
    "movies_probably_not_useful['Freebase movie ID'] = movies_probably_not_useful['Freebase movie ID'].astype('string')\n",
    "movies_probably_not_useful['language codes'] = movies_probably_not_useful['language codes'].astype('string')\n",
    "movies_probably_not_useful['countries codes'] = movies_probably_not_useful['countries codes'].astype('string')\n",
    "movies_probably_not_useful['genres codes'] = movies_probably_not_useful['genres codes'].astype('string')\n",
    "\n",
    "print(\"\\n\")\n",
    "movies.info()\n",
    "movies_probably_not_useful.info()"
   ]
  },
  {
   "cell_type": "markdown",
   "id": "ea15b958",
   "metadata": {},
   "source": [
    "### Characters metadata (Train data 4)\n",
    "\n",
    "Metadata for 450,669 characters aligned to the movies above, extracted from the Noverber 4, 2012 dump of Freebase. Tab-separated; columns:\n",
    "\n",
    "1. Wikipedia movie ID\n",
    "2. Freebase movie ID\n",
    "3. Movie release date\n",
    "4. Character name\n",
    "5. Actor date of birth\n",
    "6. Actor gender\n",
    "7. Actor height (in meters)\n",
    "8. Actor ethnicity (Freebase ID)\n",
    "9. Actor name\n",
    "10. Actor age at movie release\n",
    "11. Freebase character/actor map ID\n",
    "12. Freebase character ID\n",
    "13. Freebase actor ID"
   ]
  },
  {
   "cell_type": "code",
   "execution_count": 6,
   "id": "809a1984",
   "metadata": {},
   "outputs": [
    {
     "name": "stdout",
     "output_type": "stream",
     "text": [
      "<class 'pandas.core.frame.DataFrame'>\n",
      "RangeIndex: 450669 entries, 0 to 450668\n",
      "Data columns (total 13 columns):\n",
      " #   Column                           Non-Null Count   Dtype  \n",
      "---  ------                           --------------   -----  \n",
      " 0   Wikipedia movie ID               450669 non-null  int64  \n",
      " 1   Freebase movie ID                450669 non-null  object \n",
      " 2   Movie release date               440674 non-null  object \n",
      " 3   Character name                   192794 non-null  object \n",
      " 4   Actor DOB                        344524 non-null  object \n",
      " 5   Actor gender                     405060 non-null  object \n",
      " 6   Actor height                     154824 non-null  float64\n",
      " 7   Actor ethnicity                  106058 non-null  object \n",
      " 8   Actor name                       449441 non-null  object \n",
      " 9   Actor age at movie release       292556 non-null  float64\n",
      " 10  Freebase character/actor map ID  450669 non-null  object \n",
      " 11  Freebase character ID            192804 non-null  object \n",
      " 12  Freebase actor ID                449854 non-null  object \n",
      "dtypes: float64(2), int64(1), object(10)\n",
      "memory usage: 44.7+ MB\n",
      "\n",
      "\n",
      "<class 'pandas.core.frame.DataFrame'>\n",
      "RangeIndex: 450669 entries, 0 to 450668\n",
      "Data columns (total 13 columns):\n",
      " #   Column                      Non-Null Count   Dtype   \n",
      "---  ------                      --------------   -----   \n",
      " 0   Wikipedia movie ID          450669 non-null  int32   \n",
      " 1   Movie release Year          440674 non-null  Int16   \n",
      " 2   Character name              192794 non-null  string  \n",
      " 3   Actor DOB Year              344524 non-null  Int16   \n",
      " 4   Actor gender                405060 non-null  category\n",
      " 5   Actor height                154824 non-null  float32 \n",
      " 6   Actor ethnicity             106058 non-null  string  \n",
      " 7   Actor name                  449441 non-null  string  \n",
      " 8   Actor age at movie release  292556 non-null  float64 \n",
      " 9   Movie release Month         290872 non-null  Int8    \n",
      " 10  Movie release Day           273887 non-null  Int8    \n",
      " 11  Actor DOB Month             330658 non-null  Int8    \n",
      " 12  Actor DOB Day               329918 non-null  Int8    \n",
      "dtypes: Int16(2), Int8(4), category(1), float32(1), float64(1), int32(1), string(3)\n",
      "memory usage: 23.6 MB\n",
      "<class 'pandas.core.frame.DataFrame'>\n",
      "RangeIndex: 450669 entries, 0 to 450668\n",
      "Data columns (total 4 columns):\n",
      " #   Column                           Non-Null Count   Dtype \n",
      "---  ------                           --------------   ----- \n",
      " 0   Freebase movie ID                450669 non-null  string\n",
      " 1   Freebase character/actor map ID  450669 non-null  string\n",
      " 2   Freebase character ID            192804 non-null  string\n",
      " 3   Freebase actor ID                449854 non-null  string\n",
      "dtypes: string(4)\n",
      "memory usage: 13.8 MB\n"
     ]
    }
   ],
   "source": [
    "character_fname = os.path.join(PATH_IN, 'character.metadata.tsv')\n",
    "\n",
    "character_column_names = [\n",
    "    \"Wikipedia movie ID\",\n",
    "    \"Freebase movie ID\",\n",
    "    \"Movie release date\",\n",
    "    \"Character name\",\n",
    "    \"Actor DOB\",\n",
    "    \"Actor gender\",\n",
    "    \"Actor height\",\n",
    "    \"Actor ethnicity\",\n",
    "    \"Actor name\",\n",
    "    \"Actor age at movie release\",\n",
    "    \"Freebase character/actor map ID\",\n",
    "    \"Freebase character ID\",\n",
    "    \"Freebase actor ID\",\n",
    "]\n",
    "        \n",
    "characters = pd.read_csv(character_fname, sep= '\\t', names= character_column_names)\n",
    "characters.info()\n",
    "\n",
    "characters['Movie release Year'] = characters['Movie release date'].str.split('-').str[0].astype('Int64')\n",
    "characters['Movie release Month'] = characters['Movie release date'].str.split('-').str[1].astype('Int64')\n",
    "characters['Movie release Day'] = characters['Movie release date'].str.split('-').str[2].astype('Int64')\n",
    "characters.drop(columns=['Movie release date'], inplace=True)\n",
    "\n",
    "characters['Actor DOB'] = characters['Actor DOB'].str.split('T', expand=True)[0]\n",
    "characters['Actor DOB Year'] = characters['Actor DOB'].str.split('-').str[0].astype('Int64')\n",
    "characters['Actor DOB Month'] = characters['Actor DOB'].str.split('-').str[1].astype('Int64')\n",
    "characters['Actor DOB Day'] = characters['Actor DOB'].str.split('-').str[2].astype('Int64')\n",
    "characters.drop(columns=['Actor DOB'], inplace=True)\n",
    "\n",
    "\n",
    "characters_probably_not_useful = characters[['Freebase movie ID', 'Freebase character/actor map ID', 'Freebase character ID', 'Freebase actor ID']]\n",
    "characters.drop(columns=['Freebase movie ID', 'Freebase character/actor map ID', 'Freebase character ID', 'Freebase actor ID'], inplace=True)\n",
    "\n",
    "characters = characters[['Wikipedia movie ID', 'Movie release Year', 'Character name', 'Actor DOB Year', 'Actor gender', 'Actor height', 'Actor ethnicity', 'Actor name', \n",
    "                 'Actor age at movie release', 'Movie release Month', 'Movie release Day', 'Actor DOB Month', 'Actor DOB Day']]\n",
    "\n",
    "characters['Character name'] = characters['Character name'].astype('string')\n",
    "characters['Actor ethnicity'] = characters['Actor ethnicity'].astype('string')\n",
    "characters['Actor name'] = characters['Actor name'].astype('string')\n",
    "\n",
    "\n",
    "characters['Actor gender'] = characters['Actor gender'].astype('category')\n",
    "\n",
    "characters['Wikipedia movie ID'] = pd.to_numeric(characters['Wikipedia movie ID'], downcast='integer')\n",
    "characters['Movie release Year'] = pd.to_numeric(characters['Movie release Year'], downcast='integer')\n",
    "characters['Actor DOB Year'] = pd.to_numeric(characters['Actor DOB Year'], downcast='integer')\n",
    "characters['Actor height'] = pd.to_numeric(characters['Actor height'], downcast='float')\n",
    "characters['Actor age at movie release'] = pd.to_numeric(characters['Actor age at movie release'], downcast='integer')\n",
    "characters['Movie release Month'] = pd.to_numeric(characters['Movie release Month'], downcast='integer')\n",
    "characters['Movie release Day'] = pd.to_numeric(characters['Movie release Day'], downcast='integer')\n",
    "characters['Actor DOB Month'] = pd.to_numeric(characters['Actor DOB Month'], downcast='integer')\n",
    "characters['Actor DOB Day'] = pd.to_numeric(characters['Actor DOB Day'], downcast='integer')\n",
    "\n",
    "characters_probably_not_useful['Freebase movie ID'] = characters_probably_not_useful['Freebase movie ID'].astype('string')\n",
    "characters_probably_not_useful['Freebase character/actor map ID'] = characters_probably_not_useful['Freebase character/actor map ID'].astype('string')\n",
    "characters_probably_not_useful['Freebase character ID'] = characters_probably_not_useful['Freebase character ID'].astype('string')\n",
    "characters_probably_not_useful['Freebase actor ID'] = characters_probably_not_useful['Freebase actor ID'].astype('string')\n",
    "\n",
    "print(\"\\n\")\n",
    "characters.info()\n",
    "characters_probably_not_useful.info()"
   ]
  },
  {
   "cell_type": "markdown",
   "id": "f09203c9",
   "metadata": {},
   "source": [
    "### tvtropes clusters (Test data 1)\n",
    "\n",
    "72 character types drawn from tvtropes.com, along with 501 instances of those types. The ID field indexes into the Freebase character/actor map ID in character.metadata.tsv."
   ]
  },
  {
   "cell_type": "code",
   "execution_count": 7,
   "id": "d12defde",
   "metadata": {},
   "outputs": [
    {
     "name": "stdout",
     "output_type": "stream",
     "text": [
      "<class 'pandas.core.frame.DataFrame'>\n",
      "RangeIndex: 501 entries, 0 to 500\n",
      "Data columns (total 5 columns):\n",
      " #   Column                           Non-Null Count  Dtype \n",
      "---  ------                           --------------  ----- \n",
      " 0   Character type                   501 non-null    string\n",
      " 1   Character name                   501 non-null    string\n",
      " 2   Movie name                       501 non-null    string\n",
      " 3   Freebase character/actor map ID  501 non-null    string\n",
      " 4   Actor name                       501 non-null    string\n",
      "dtypes: string(5)\n",
      "memory usage: 19.7 KB\n"
     ]
    }
   ],
   "source": [
    "tvtropes_clusters_fname = os.path.join(PATH_IN, 'tvtropes.clusters.txt')\n",
    "\n",
    "rows = []\n",
    "with open(tvtropes_clusters_fname, 'r') as file:\n",
    "    for line in file:\n",
    "        char_type, json_string = line.strip().split('\\t', 1)\n",
    "        \n",
    "        char_info = json.loads(json_string)\n",
    "        \n",
    "        row = {\n",
    "            'Character type': char_type,\n",
    "            'Character name': char_info['char'],\n",
    "            'Movie name': char_info['movie'],\n",
    "            'Freebase character/actor map ID': char_info['id'],\n",
    "            'Actor name': char_info['actor']\n",
    "        }\n",
    "        rows.append(row)\n",
    "\n",
    "tvtropes_clusters = pd.DataFrame(rows)\n",
    "tvtropes_clusters = tvtropes_clusters.astype('string')\n",
    "\n",
    "tvtropes_clusters.info()"
   ]
  },
  {
   "cell_type": "markdown",
   "id": "f1110df9",
   "metadata": {},
   "source": [
    "### Name clusters (Test data 2)\n",
    "\n",
    "970 unique character names used in at least two different movies, along with 2,666 instances of those types. The ID field indexes into the Freebase character/actor map ID in character.metadata.tsv."
   ]
  },
  {
   "cell_type": "code",
   "execution_count": 10,
   "id": "2ab55a57",
   "metadata": {},
   "outputs": [
    {
     "name": "stdout",
     "output_type": "stream",
     "text": [
      "<class 'pandas.core.frame.DataFrame'>\n",
      "RangeIndex: 2666 entries, 0 to 2665\n",
      "Data columns (total 2 columns):\n",
      " #   Column                           Non-Null Count  Dtype \n",
      "---  ------                           --------------  ----- \n",
      " 0   Character name                   2666 non-null   string\n",
      " 1   Freebase character/actor map ID  2666 non-null   string\n",
      "dtypes: string(2)\n",
      "memory usage: 41.8 KB\n"
     ]
    }
   ],
   "source": [
    "name_clusters_fname = os.path.join(PATH_IN, 'name.clusters.txt')\n",
    "\n",
    "names_clusters = pd.read_csv(name_clusters_fname, sep='\\t', names=['Character name', 'Freebase character/actor map ID'], dtype='string')\n",
    "\n",
    "names_clusters.info()"
   ]
  },
  {
   "cell_type": "markdown",
   "metadata": {},
   "source": [
    "# Data Exploration for idea B : about characters, roles, revenue, etc."
   ]
  },
  {
   "cell_type": "markdown",
   "metadata": {},
   "source": [
    "----------------------------------------------------------------------------------\n",
    "\n",
    "##### Nothing fancy first, just exploring the different dataframes to see what it's all about"
   ]
  },
  {
   "cell_type": "markdown",
   "metadata": {},
   "source": [
    "### 1. Exploring the movies dataset"
   ]
  },
  {
   "cell_type": "markdown",
   "metadata": {},
   "source": [
    "From ealier, we know that the movies dataset has 81741 entries.\n",
    "\n",
    " #### --> Checking if all entries correspond to unique movies:"
   ]
  },
  {
   "cell_type": "code",
   "execution_count": 33,
   "metadata": {},
   "outputs": [
    {
     "name": "stdout",
     "output_type": "stream",
     "text": [
      "We have 0 missing Wikipedia movie IDs\n"
     ]
    }
   ],
   "source": [
    "print('We have',movies['Wikipedia movie ID'].isna().sum(),'missing Wikipedia movie IDs')"
   ]
  },
  {
   "cell_type": "code",
   "execution_count": 20,
   "metadata": {},
   "outputs": [
    {
     "name": "stdout",
     "output_type": "stream",
     "text": [
      "We have 81741 unique Wikipedia movie Ids in the dataset\n"
     ]
    }
   ],
   "source": [
    "print('We have',len(movies['Wikipedia movie ID'].unique()),'unique Wikipedia movie Ids in the dataset')"
   ]
  },
  {
   "cell_type": "code",
   "execution_count": 22,
   "metadata": {},
   "outputs": [
    {
     "name": "stdout",
     "output_type": "stream",
     "text": [
      "We have 75478 unique movie names in the dataset\n"
     ]
    }
   ],
   "source": [
    "print('We have',len(movies['Movie name'].unique()),'unique movie names in the dataset')"
   ]
  },
  {
   "cell_type": "markdown",
   "metadata": {},
   "source": [
    "All wikipedia movie IDs are unique, but not all movie names. Might be some duplicate movie names. Examples of movie names that are shared by several wikipedia movie IDs ?"
   ]
  },
  {
   "cell_type": "code",
   "execution_count": 28,
   "metadata": {},
   "outputs": [
    {
     "data": {
      "text/html": [
       "<div>\n",
       "<style scoped>\n",
       "    .dataframe tbody tr th:only-of-type {\n",
       "        vertical-align: middle;\n",
       "    }\n",
       "\n",
       "    .dataframe tbody tr th {\n",
       "        vertical-align: top;\n",
       "    }\n",
       "\n",
       "    .dataframe thead th {\n",
       "        text-align: right;\n",
       "    }\n",
       "</style>\n",
       "<table border=\"1\" class=\"dataframe\">\n",
       "  <thead>\n",
       "    <tr style=\"text-align: right;\">\n",
       "      <th></th>\n",
       "      <th>Wikipedia movie ID</th>\n",
       "      <th>Movie name</th>\n",
       "      <th>Movie release Year</th>\n",
       "      <th>Movie box office revenue</th>\n",
       "      <th>Movie runtime</th>\n",
       "      <th>Movie languages</th>\n",
       "      <th>Movie countries</th>\n",
       "      <th>Movie genres</th>\n",
       "      <th>Movie release Month</th>\n",
       "      <th>Movie release Day</th>\n",
       "    </tr>\n",
       "  </thead>\n",
       "  <tbody>\n",
       "    <tr>\n",
       "      <th>5</th>\n",
       "      <td>13696889</td>\n",
       "      <td>The Gangsters</td>\n",
       "      <td>1913</td>\n",
       "      <td>NaN</td>\n",
       "      <td>35.0</td>\n",
       "      <td>Silent film,English</td>\n",
       "      <td>United States of America</td>\n",
       "      <td>Short Film,Silent film,Indie,Black-and-white,C...</td>\n",
       "      <td>5</td>\n",
       "      <td>29</td>\n",
       "    </tr>\n",
       "    <tr>\n",
       "      <th>6</th>\n",
       "      <td>18998739</td>\n",
       "      <td>The Sorcerer's Apprentice</td>\n",
       "      <td>2002</td>\n",
       "      <td>NaN</td>\n",
       "      <td>86.0</td>\n",
       "      <td>English</td>\n",
       "      <td>South Africa</td>\n",
       "      <td>Family Film,Fantasy,Adventure,World cinema</td>\n",
       "      <td>&lt;NA&gt;</td>\n",
       "      <td>&lt;NA&gt;</td>\n",
       "    </tr>\n",
       "    <tr>\n",
       "      <th>13</th>\n",
       "      <td>171005</td>\n",
       "      <td>Henry V</td>\n",
       "      <td>1989</td>\n",
       "      <td>10161099.0</td>\n",
       "      <td>137.0</td>\n",
       "      <td>English</td>\n",
       "      <td>United Kingdom</td>\n",
       "      <td>Costume drama,War film,Epic,Period piece,Drama...</td>\n",
       "      <td>11</td>\n",
       "      <td>8</td>\n",
       "    </tr>\n",
       "    <tr>\n",
       "      <th>24</th>\n",
       "      <td>31983669</td>\n",
       "      <td>Road to Life</td>\n",
       "      <td>1931</td>\n",
       "      <td>NaN</td>\n",
       "      <td>104.0</td>\n",
       "      <td>Russian</td>\n",
       "      <td>Soviet Union</td>\n",
       "      <td>Drama</td>\n",
       "      <td>9</td>\n",
       "      <td>30</td>\n",
       "    </tr>\n",
       "    <tr>\n",
       "      <th>43</th>\n",
       "      <td>26878691</td>\n",
       "      <td>Mysterious Island</td>\n",
       "      <td>1982</td>\n",
       "      <td>NaN</td>\n",
       "      <td>100.0</td>\n",
       "      <td>Standard Mandarin</td>\n",
       "      <td>Hong Kong</td>\n",
       "      <td>Action/Adventure,Wuxia,Martial Arts Film,Chine...</td>\n",
       "      <td>&lt;NA&gt;</td>\n",
       "      <td>&lt;NA&gt;</td>\n",
       "    </tr>\n",
       "  </tbody>\n",
       "</table>\n",
       "</div>"
      ],
      "text/plain": [
       "    Wikipedia movie ID                 Movie name  Movie release Year  \\\n",
       "5             13696889              The Gangsters                1913   \n",
       "6             18998739  The Sorcerer's Apprentice                2002   \n",
       "13              171005                    Henry V                1989   \n",
       "24            31983669               Road to Life                1931   \n",
       "43            26878691          Mysterious Island                1982   \n",
       "\n",
       "    Movie box office revenue  Movie runtime      Movie languages  \\\n",
       "5                        NaN           35.0  Silent film,English   \n",
       "6                        NaN           86.0              English   \n",
       "13                10161099.0          137.0              English   \n",
       "24                       NaN          104.0              Russian   \n",
       "43                       NaN          100.0    Standard Mandarin   \n",
       "\n",
       "             Movie countries  \\\n",
       "5   United States of America   \n",
       "6               South Africa   \n",
       "13            United Kingdom   \n",
       "24              Soviet Union   \n",
       "43                 Hong Kong   \n",
       "\n",
       "                                         Movie genres  Movie release Month  \\\n",
       "5   Short Film,Silent film,Indie,Black-and-white,C...                    5   \n",
       "6          Family Film,Fantasy,Adventure,World cinema                 <NA>   \n",
       "13  Costume drama,War film,Epic,Period piece,Drama...                   11   \n",
       "24                                              Drama                    9   \n",
       "43  Action/Adventure,Wuxia,Martial Arts Film,Chine...                 <NA>   \n",
       "\n",
       "    Movie release Day  \n",
       "5                  29  \n",
       "6                <NA>  \n",
       "13                  8  \n",
       "24                 30  \n",
       "43               <NA>  "
      ]
     },
     "execution_count": 28,
     "metadata": {},
     "output_type": "execute_result"
    }
   ],
   "source": [
    "duplicate_movie_names = movies.groupby('Movie name')['Wikipedia movie ID'].nunique()\n",
    "\n",
    "# Filter for the duplicate movie names\n",
    "duplicate_movie_names = duplicate_movie_names[duplicate_movie_names > 1]\n",
    "\n",
    "# Get a list of duplicate movie names\n",
    "duplicate_movie_names_list = duplicate_movie_names.index.tolist()\n",
    "\n",
    "# Create a DataFrame containing only the rows with duplicate movie names\n",
    "duplicates = movies[movies['Movie name'].isin(duplicate_movie_names_list)]\n",
    "\n",
    "# Print the DataFrame with duplicate movie names\n",
    "duplicates.head()"
   ]
  },
  {
   "cell_type": "code",
   "execution_count": 29,
   "metadata": {},
   "outputs": [
    {
     "data": {
      "text/html": [
       "<div>\n",
       "<style scoped>\n",
       "    .dataframe tbody tr th:only-of-type {\n",
       "        vertical-align: middle;\n",
       "    }\n",
       "\n",
       "    .dataframe tbody tr th {\n",
       "        vertical-align: top;\n",
       "    }\n",
       "\n",
       "    .dataframe thead th {\n",
       "        text-align: right;\n",
       "    }\n",
       "</style>\n",
       "<table border=\"1\" class=\"dataframe\">\n",
       "  <thead>\n",
       "    <tr style=\"text-align: right;\">\n",
       "      <th></th>\n",
       "      <th>Wikipedia movie ID</th>\n",
       "      <th>Movie name</th>\n",
       "      <th>Movie release Year</th>\n",
       "      <th>Movie box office revenue</th>\n",
       "      <th>Movie runtime</th>\n",
       "      <th>Movie languages</th>\n",
       "      <th>Movie countries</th>\n",
       "      <th>Movie genres</th>\n",
       "      <th>Movie release Month</th>\n",
       "      <th>Movie release Day</th>\n",
       "    </tr>\n",
       "  </thead>\n",
       "  <tbody>\n",
       "    <tr>\n",
       "      <th>6</th>\n",
       "      <td>18998739</td>\n",
       "      <td>The Sorcerer's Apprentice</td>\n",
       "      <td>2002</td>\n",
       "      <td>NaN</td>\n",
       "      <td>86.0</td>\n",
       "      <td>English</td>\n",
       "      <td>South Africa</td>\n",
       "      <td>Family Film,Fantasy,Adventure,World cinema</td>\n",
       "      <td>&lt;NA&gt;</td>\n",
       "      <td>&lt;NA&gt;</td>\n",
       "    </tr>\n",
       "    <tr>\n",
       "      <th>18151</th>\n",
       "      <td>18997933</td>\n",
       "      <td>The Sorcerer's Apprentice</td>\n",
       "      <td>1955</td>\n",
       "      <td>NaN</td>\n",
       "      <td>13.0</td>\n",
       "      <td>English</td>\n",
       "      <td>United States of America,West Germany</td>\n",
       "      <td>Short Film</td>\n",
       "      <td>5</td>\n",
       "      <td>&lt;NA&gt;</td>\n",
       "    </tr>\n",
       "    <tr>\n",
       "      <th>49733</th>\n",
       "      <td>12621957</td>\n",
       "      <td>The Sorcerer's Apprentice</td>\n",
       "      <td>2010</td>\n",
       "      <td>215283742.0</td>\n",
       "      <td>111.0</td>\n",
       "      <td>English</td>\n",
       "      <td>United States of America</td>\n",
       "      <td>Science Fiction,Adventure,Fantasy,Comedy,Drama...</td>\n",
       "      <td>7</td>\n",
       "      <td>8</td>\n",
       "    </tr>\n",
       "  </tbody>\n",
       "</table>\n",
       "</div>"
      ],
      "text/plain": [
       "       Wikipedia movie ID                 Movie name  Movie release Year  \\\n",
       "6                18998739  The Sorcerer's Apprentice                2002   \n",
       "18151            18997933  The Sorcerer's Apprentice                1955   \n",
       "49733            12621957  The Sorcerer's Apprentice                2010   \n",
       "\n",
       "       Movie box office revenue  Movie runtime Movie languages  \\\n",
       "6                           NaN           86.0         English   \n",
       "18151                       NaN           13.0         English   \n",
       "49733               215283742.0          111.0         English   \n",
       "\n",
       "                             Movie countries  \\\n",
       "6                               South Africa   \n",
       "18151  United States of America,West Germany   \n",
       "49733               United States of America   \n",
       "\n",
       "                                            Movie genres  Movie release Month  \\\n",
       "6             Family Film,Fantasy,Adventure,World cinema                 <NA>   \n",
       "18151                                         Short Film                    5   \n",
       "49733  Science Fiction,Adventure,Fantasy,Comedy,Drama...                    7   \n",
       "\n",
       "       Movie release Day  \n",
       "6                   <NA>  \n",
       "18151               <NA>  \n",
       "49733                  8  "
      ]
     },
     "execution_count": 29,
     "metadata": {},
     "output_type": "execute_result"
    }
   ],
   "source": [
    "movies[movies['Movie name'] == 'The Sorcerer\\'s Apprentice']"
   ]
  },
  {
   "cell_type": "markdown",
   "metadata": {},
   "source": [
    "As expected, very \"generic\" movie names that are given to different movies in our dataset.\n",
    "\n",
    "<div class=\"alert alert-block alert-warning\"> --> Retrieve the movies based on their ID, not their name to be safer. </div>"
   ]
  },
  {
   "cell_type": "markdown",
   "metadata": {},
   "source": [
    "#### --> How many of our movies have NaN values of Box office revenue ?"
   ]
  },
  {
   "cell_type": "code",
   "execution_count": 31,
   "metadata": {},
   "outputs": [
    {
     "name": "stdout",
     "output_type": "stream",
     "text": [
      "Out of the 81741 movies in the dataset, 73340 have no exploitable Box office revenue values.\n"
     ]
    }
   ],
   "source": [
    "print('Out of the 81741 movies in the dataset,', movies['Movie box office revenue'].isna().sum(),'have no exploitable Box office revenue values.')"
   ]
  },
  {
   "cell_type": "code",
   "execution_count": null,
   "metadata": {},
   "outputs": [],
   "source": [
    "movies."
   ]
  },
  {
   "cell_type": "markdown",
   "metadata": {},
   "source": [
    "That's 89.7 % of all the movie entries.\n",
    "\n",
    "<div class=\"alert alert-block alert-warning\"> Need to use another dataset to scrape all the box office revenues we can, clearly insufficient for now</div>"
   ]
  },
  {
   "cell_type": "code",
   "execution_count": 205,
   "metadata": {},
   "outputs": [],
   "source": [
    "def working_strip(curr_string, separator):\n",
    "    li = []\n",
    "    string_left = True\n",
    "    working_string = curr_string\n",
    "    while string_left:\n",
    "        loc = working_string.find(separator)\n",
    "        string_left = (loc != -1)\n",
    "        if string_left :\n",
    "            while (working_string[:loc])[0] == ' ' :\n",
    "                  working_string = working_string[1:]\n",
    "                  loc-=1 \n",
    "            li.append(working_string[:loc])\n",
    "            working_string = working_string[loc + 1:]\n",
    "        else:\n",
    "            \n",
    "            while working_string[:loc][0] == ' ' :\n",
    "                  working_string = working_string[1:]\n",
    "                  loc-=1\n",
    "            li.append(working_string)       \n",
    "    return li\n",
    "\n",
    "def string_to_str_lists(str_input):\n",
    "        process = working_strip(str_input, ',')\n",
    "        return process\n",
    "\n",
    "\n",
    "def count_dict(df, column):\n",
    "    languages_count_dic = {}\n",
    "\n",
    "    for j, value in enumerate(df.loc[:,column]):\n",
    "    \n",
    "        if len(value) != 0 :\n",
    "\n",
    "            curr_movie_languages = string_to_str_lists(value)\n",
    "            for lang in curr_movie_languages :\n",
    "            \n",
    "                if lang in languages_count_dic :\n",
    "                    languages_count_dic[lang] += 1 \n",
    "\n",
    "                else :\n",
    "                    languages_count_dic[lang] = 1\n",
    "                #print(languages_count_dic)\n",
    "    return languages_count_dic"
   ]
  },
  {
   "cell_type": "code",
   "execution_count": 230,
   "metadata": {},
   "outputs": [],
   "source": [
    "lang_count_dict = count_dict(movies,'Movie languages')\n",
    "\n",
    "def plot_language_histogram(languages_count_dict) :\n",
    "\n",
    "    sorted_language_counts = sorted(lang_count_dict.items(), key=lambda x: x[1], reverse=True)\n",
    "\n",
    "    top_languages, top_counts = zip(*sorted_language_counts[:20])\n",
    "\n",
    "    # Create a histogram\n",
    "    plt.figure(figsize=(12, 6))\n",
    "    plt.bar(top_languages, top_counts)\n",
    "    plt.xlabel('Languages')\n",
    "    plt.ylabel('Counts')\n",
    "    plt.title('Language Counts Histogram')\n",
    "    plt.xticks(rotation=75)  # Rotate x-axis labels for better readability\n",
    "    \n",
    "    plt.xticks(fontsize=8)\n",
    "    \n",
    "    plt.show()  "
   ]
  },
  {
   "cell_type": "code",
   "execution_count": 231,
   "metadata": {},
   "outputs": [
    {
     "data": {
      "image/png": "[encoded data removed]",
      "text/plain": [
       "<Figure size 1200x600 with 1 Axes>"
      ]
     },
     "metadata": {},
     "output_type": "display_data"
    }
   ],
   "source": [
    "plot_language_histogram(lang_count_dict)"
   ]
  },
  {
   "cell_type": "code",
   "execution_count": null,
   "metadata": {},
   "outputs": [],
   "source": []
  }
 ],
 "metadata": {
  "kernelspec": {
   "display_name": "Python 3 (ipykernel)",
   "language": "python",
   "name": "python3"
  },
  "language_info": {
   "codemirror_mode": {
    "name": "ipython",
    "version": 3
   },
   "file_extension": ".py",
   "mimetype": "text/x-python",
   "name": "python",
   "nbconvert_exporter": "python",
   "pygments_lexer": "ipython3",
   "version": "3.10.8"
  }
 },
 "nbformat": 4,
 "nbformat_minor": 5
}

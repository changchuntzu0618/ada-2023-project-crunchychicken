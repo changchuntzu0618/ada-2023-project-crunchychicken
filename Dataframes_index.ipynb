{
 "cells": [
  {
   "cell_type": "code",
   "execution_count": 1,
   "id": "a49f10de",
   "metadata": {},
   "outputs": [],
   "source": [
    "import pandas as pd\n",
    "\n",
    "from helpers.readers import read_dataframe"
   ]
  },
  {
   "cell_type": "markdown",
   "id": "42f073d2",
   "metadata": {},
   "source": [
    "<img src=\"https://i.postimg.cc/d3X75w5g/cmu-with-nlp.png\" width=\"600\"/>\n",
    "<img src=\"https://i.postimg.cc/NjvFFNS8/imdb.png\" width=\"400\"/>\n",
    "<img src=\"https://i.postimg.cc/yNVNXDVk/mappings.png\" width=\"500\"/>\n",
    "<img src=\"https://i.postimg.cc/KvTnQPp9/movielens.png\" width=\"500\"/>"
   ]
  },
  {
   "cell_type": "markdown",
   "id": "4bc358c8",
   "metadata": {},
   "source": [
    "<a id=\"Contents\"></a> <br>\n",
    "# Content\n",
    "* [1 - Loading default dataframes](#default)\n",
    "<br>\n",
    "* [2 - Merged Dataframes](#merged)\n",
    "<br>"
   ]
  },
  {
   "cell_type": "markdown",
   "id": "41f0ba79",
   "metadata": {},
   "source": [
    "<a class=\"anchor\" id=\"default\"></a>\n",
    "## Loading default dataframes\n",
    "[Back to Table of Contents](#Contents)"
   ]
  },
  {
   "cell_type": "markdown",
   "id": "0783f5ff",
   "metadata": {},
   "source": [
    "### CMU Metadata"
   ]
  },
  {
   "cell_type": "code",
   "execution_count": null,
   "id": "b63d2374",
   "metadata": {},
   "outputs": [],
   "source": [
    "cmu_movies = read_dataframe(name='cmu/movies', preprocess=True, usecols=[\n",
    "    \"Wikipedia movie ID\", \n",
    "    \"Freebase movie ID\", \n",
    "    \"Movie name\", \n",
    "    \"Movie release date\", \n",
    "    \"Movie box office revenue\", \n",
    "    \"Movie runtime\", \n",
    "    \"Movie languages\", \n",
    "    \"Movie countries\", \n",
    "    \"Movie genres\",\n",
    "])\n",
    "\n",
    "cmu_movies.info()\n",
    "cmu_movies.head(1)"
   ]
  },
  {
   "cell_type": "code",
   "execution_count": null,
   "id": "b32f0efc",
   "metadata": {},
   "outputs": [],
   "source": [
    "cmu_characters = read_dataframe(name='cmu/characters', preprocess=True, usecols=[\n",
    "    \"Wikipedia movie ID\",\n",
    "    \"Freebase movie ID\",\n",
    "    \"Movie release date\",\n",
    "    \"Character name\",\n",
    "    \"Actor DOB\",\n",
    "    \"Actor gender\",\n",
    "    \"Actor height\",\n",
    "    \"Actor ethnicity\",\n",
    "    \"Actor name\",\n",
    "    \"Actor age at movie release\",\n",
    "    \"Freebase character/actor map ID\",\n",
    "    \"Freebase character ID\",\n",
    "    \"Freebase actor ID\",\n",
    "])\n",
    "\n",
    "cmu_characters.info()\n",
    "cmu_characters.head(1)"
   ]
  },
  {
   "cell_type": "markdown",
   "id": "3e7567be",
   "metadata": {},
   "source": [
    "### IMDb (https://developer.imdb.com/non-commercial-datasets/) (4/7)"
   ]
  },
  {
   "cell_type": "code",
   "execution_count": null,
   "id": "fc041c5e",
   "metadata": {},
   "outputs": [],
   "source": [
    "imdb_people = read_dataframe(name='imdb/names')\n",
    "imdb_people.info()\n",
    "imdb_people.head(1)"
   ]
  },
  {
   "cell_type": "code",
   "execution_count": null,
   "id": "41375f77",
   "metadata": {},
   "outputs": [],
   "source": [
    "imdb_info = read_dataframe(name='imdb/movies', preprocess=True)\n",
    "imdb_info.info()\n",
    "imdb_info.head(1)"
   ]
  },
  {
   "cell_type": "code",
   "execution_count": null,
   "id": "ef308bdd",
   "metadata": {},
   "outputs": [],
   "source": [
    "imdb_principals = read_dataframe(name='imdb/principals')\n",
    "imdb_principals.info()\n",
    "imdb_principals.head(1)"
   ]
  },
  {
   "cell_type": "code",
   "execution_count": null,
   "id": "4a05c443",
   "metadata": {},
   "outputs": [],
   "source": [
    "imdb_ratings = read_dataframe(name='imdb/ratings')\n",
    "imdb_ratings.info()\n",
    "imdb_ratings.head(1)"
   ]
  },
  {
   "cell_type": "markdown",
   "id": "bcdc3ab4",
   "metadata": {},
   "source": [
    "### Unused IMDb (3/7):"
   ]
  },
  {
   "cell_type": "code",
   "execution_count": null,
   "id": "c443bb43",
   "metadata": {},
   "outputs": [],
   "source": [
    "imdb_akas = read_dataframe(name='imdb/akas')\n",
    "imdb_akas.info()\n",
    "imdb_akas.head(1)"
   ]
  },
  {
   "cell_type": "code",
   "execution_count": null,
   "id": "ab062ed2",
   "metadata": {},
   "outputs": [],
   "source": [
    "imdb_crew = read_dataframe(name='imdb/crew')\n",
    "imdb_crew.info()\n",
    "imdb_crew.head(1)"
   ]
  },
  {
   "cell_type": "code",
   "execution_count": null,
   "id": "19305f99",
   "metadata": {},
   "outputs": [],
   "source": [
    "imdb_episode = read_dataframe(name='imdb/episode')\n",
    "imdb_episode.info()\n",
    "imdb_episode.head(1)"
   ]
  },
  {
   "cell_type": "markdown",
   "id": "a01a59e9",
   "metadata": {},
   "source": [
    "### Mappings"
   ]
  },
  {
   "cell_type": "code",
   "execution_count": null,
   "id": "6b93bbcd",
   "metadata": {},
   "outputs": [],
   "source": [
    "mapping_w_i_f = read_dataframe(name='mapping_wikipedia_imdb_freebase')\n",
    "mapping_w_i_f.info()\n",
    "mapping_w_i_f.head(1)"
   ]
  },
  {
   "cell_type": "code",
   "execution_count": null,
   "id": "72ae89a5",
   "metadata": {},
   "outputs": [],
   "source": [
    "mapping_w_i = read_dataframe(name='mapping_wikipedia_imdb')\n",
    "mapping_w_i.info()\n",
    "mapping_w_i.head(1)"
   ]
  },
  {
   "cell_type": "code",
   "execution_count": null,
   "id": "6f890d0d",
   "metadata": {},
   "outputs": [],
   "source": [
    "mapping_f_i = read_dataframe(name='mapping_freebase_imdb')\n",
    "mapping_f_i.info()\n",
    "mapping_f_i.head(1)"
   ]
  },
  {
   "cell_type": "markdown",
   "id": "55ab6a2e",
   "metadata": {},
   "source": [
    "### MovieLens (https://www.kaggle.com/datasets/rounakbanik/the-movies-dataset) 1/5"
   ]
  },
  {
   "cell_type": "code",
   "execution_count": 6,
   "id": "d36a1640",
   "metadata": {},
   "outputs": [
    {
     "name": "stdout",
     "output_type": "stream",
     "text": [
      "Preprocess logs:\n",
      "✅ Aligned bad rows\n",
      "<class 'pandas.core.frame.DataFrame'>\n",
      "RangeIndex: 45466 entries, 0 to 45465\n",
      "Data columns (total 24 columns):\n",
      " #   Column                 Non-Null Count  Dtype   \n",
      "---  ------                 --------------  -----   \n",
      " 0   adult                  45463 non-null  category\n",
      " 1   belongs_to_collection  4491 non-null   string  \n",
      " 2   budget                 45463 non-null  Int32   \n",
      " 3   genres                 45463 non-null  string  \n",
      " 4   homepage               7779 non-null   string  \n",
      " 5   id                     45463 non-null  Int32   \n",
      " 6   imdb_id                45446 non-null  string  \n",
      " 7   original_language      45452 non-null  string  \n",
      " 8   original_title         45463 non-null  string  \n",
      " 9   overview               44512 non-null  string  \n",
      " 10  popularity             45463 non-null  float32 \n",
      " 11  poster_path            45080 non-null  string  \n",
      " 12  production_companies   45463 non-null  string  \n",
      " 13  production_countries   45463 non-null  string  \n",
      " 14  release_date           45379 non-null  string  \n",
      " 15  revenue                45463 non-null  Int64   \n",
      " 16  runtime                45206 non-null  Int16   \n",
      " 17  spoken_languages       45463 non-null  string  \n",
      " 18  status                 45382 non-null  string  \n",
      " 19  tagline                20413 non-null  string  \n",
      " 20  title                  45463 non-null  string  \n",
      " 21  video                  45463 non-null  category\n",
      " 22  vote_average           45463 non-null  float32 \n",
      " 23  vote_count             45463 non-null  Int16   \n",
      "dtypes: Int16(2), Int32(2), Int64(1), category(2), float32(2), string(15)\n",
      "memory usage: 6.7 MB\n"
     ]
    },
    {
     "data": {
      "text/html": [
       "<div>\n",
       "<style scoped>\n",
       "    .dataframe tbody tr th:only-of-type {\n",
       "        vertical-align: middle;\n",
       "    }\n",
       "\n",
       "    .dataframe tbody tr th {\n",
       "        vertical-align: top;\n",
       "    }\n",
       "\n",
       "    .dataframe thead th {\n",
       "        text-align: right;\n",
       "    }\n",
       "</style>\n",
       "<table border=\"1\" class=\"dataframe\">\n",
       "  <thead>\n",
       "    <tr style=\"text-align: right;\">\n",
       "      <th></th>\n",
       "      <th>adult</th>\n",
       "      <th>belongs_to_collection</th>\n",
       "      <th>budget</th>\n",
       "      <th>genres</th>\n",
       "      <th>homepage</th>\n",
       "      <th>id</th>\n",
       "      <th>imdb_id</th>\n",
       "      <th>original_language</th>\n",
       "      <th>original_title</th>\n",
       "      <th>overview</th>\n",
       "      <th>...</th>\n",
       "      <th>release_date</th>\n",
       "      <th>revenue</th>\n",
       "      <th>runtime</th>\n",
       "      <th>spoken_languages</th>\n",
       "      <th>status</th>\n",
       "      <th>tagline</th>\n",
       "      <th>title</th>\n",
       "      <th>video</th>\n",
       "      <th>vote_average</th>\n",
       "      <th>vote_count</th>\n",
       "    </tr>\n",
       "  </thead>\n",
       "  <tbody>\n",
       "    <tr>\n",
       "      <th>0</th>\n",
       "      <td>False</td>\n",
       "      <td>{'id': 10194, 'name': 'Toy Story Collection', ...</td>\n",
       "      <td>30000000</td>\n",
       "      <td>[{'id': 16, 'name': 'Animation'}, {'id': 35, '...</td>\n",
       "      <td>http://toystory.disney.com/toy-story</td>\n",
       "      <td>862</td>\n",
       "      <td>tt0114709</td>\n",
       "      <td>en</td>\n",
       "      <td>Toy Story</td>\n",
       "      <td>Led by Woody, Andy's toys live happily in his ...</td>\n",
       "      <td>...</td>\n",
       "      <td>1995-10-30</td>\n",
       "      <td>373554033</td>\n",
       "      <td>81</td>\n",
       "      <td>[{'iso_639_1': 'en', 'name': 'English'}]</td>\n",
       "      <td>Released</td>\n",
       "      <td>&lt;NA&gt;</td>\n",
       "      <td>Toy Story</td>\n",
       "      <td>False</td>\n",
       "      <td>7.7</td>\n",
       "      <td>5415</td>\n",
       "    </tr>\n",
       "  </tbody>\n",
       "</table>\n",
       "<p>1 rows × 24 columns</p>\n",
       "</div>"
      ],
      "text/plain": [
       "   adult                              belongs_to_collection    budget  \\\n",
       "0  False  {'id': 10194, 'name': 'Toy Story Collection', ...  30000000   \n",
       "\n",
       "                                              genres  \\\n",
       "0  [{'id': 16, 'name': 'Animation'}, {'id': 35, '...   \n",
       "\n",
       "                               homepage   id    imdb_id original_language  \\\n",
       "0  http://toystory.disney.com/toy-story  862  tt0114709                en   \n",
       "\n",
       "  original_title                                           overview  ...  \\\n",
       "0      Toy Story  Led by Woody, Andy's toys live happily in his ...  ...   \n",
       "\n",
       "   release_date    revenue runtime                          spoken_languages  \\\n",
       "0    1995-10-30  373554033      81  [{'iso_639_1': 'en', 'name': 'English'}]   \n",
       "\n",
       "     status  tagline      title  video vote_average vote_count  \n",
       "0  Released     <NA>  Toy Story  False          7.7       5415  \n",
       "\n",
       "[1 rows x 24 columns]"
      ]
     },
     "execution_count": 6,
     "metadata": {},
     "output_type": "execute_result"
    }
   ],
   "source": [
    "movieLens_movies = read_dataframe(name='movieLens/movies', preprocess=True)\n",
    "movieLens_movies.info()\n",
    "movieLens_movies.head(1)"
   ]
  },
  {
   "cell_type": "markdown",
   "id": "46dec6f4",
   "metadata": {},
   "source": [
    "### Unused MovieLens (4/5)"
   ]
  },
  {
   "cell_type": "code",
   "execution_count": 2,
   "id": "b6656f09",
   "metadata": {},
   "outputs": [
    {
     "name": "stdout",
     "output_type": "stream",
     "text": [
      "<class 'pandas.core.frame.DataFrame'>\n",
      "RangeIndex: 45476 entries, 0 to 45475\n",
      "Data columns (total 3 columns):\n",
      " #   Column  Non-Null Count  Dtype \n",
      "---  ------  --------------  ----- \n",
      " 0   cast    45476 non-null  string\n",
      " 1   crew    45476 non-null  string\n",
      " 2   id      45476 non-null  int32 \n",
      "dtypes: int32(1), string(2)\n",
      "memory usage: 888.3 KB\n"
     ]
    },
    {
     "data": {
      "text/html": [
       "<div>\n",
       "<style scoped>\n",
       "    .dataframe tbody tr th:only-of-type {\n",
       "        vertical-align: middle;\n",
       "    }\n",
       "\n",
       "    .dataframe tbody tr th {\n",
       "        vertical-align: top;\n",
       "    }\n",
       "\n",
       "    .dataframe thead th {\n",
       "        text-align: right;\n",
       "    }\n",
       "</style>\n",
       "<table border=\"1\" class=\"dataframe\">\n",
       "  <thead>\n",
       "    <tr style=\"text-align: right;\">\n",
       "      <th></th>\n",
       "      <th>cast</th>\n",
       "      <th>crew</th>\n",
       "      <th>id</th>\n",
       "    </tr>\n",
       "  </thead>\n",
       "  <tbody>\n",
       "    <tr>\n",
       "      <th>0</th>\n",
       "      <td>[{'cast_id': 14, 'character': 'Woody (voice)',...</td>\n",
       "      <td>[{'credit_id': '52fe4284c3a36847f8024f49', 'de...</td>\n",
       "      <td>862</td>\n",
       "    </tr>\n",
       "  </tbody>\n",
       "</table>\n",
       "</div>"
      ],
      "text/plain": [
       "                                                cast  \\\n",
       "0  [{'cast_id': 14, 'character': 'Woody (voice)',...   \n",
       "\n",
       "                                                crew   id  \n",
       "0  [{'credit_id': '52fe4284c3a36847f8024f49', 'de...  862  "
      ]
     },
     "execution_count": 2,
     "metadata": {},
     "output_type": "execute_result"
    }
   ],
   "source": [
    "movieLens_credits = read_dataframe('movieLens/credits')\n",
    "movieLens_credits.info()\n",
    "movieLens_credits.head(1)"
   ]
  },
  {
   "cell_type": "code",
   "execution_count": 3,
   "id": "9cae1224",
   "metadata": {},
   "outputs": [
    {
     "name": "stdout",
     "output_type": "stream",
     "text": [
      "<class 'pandas.core.frame.DataFrame'>\n",
      "RangeIndex: 46419 entries, 0 to 46418\n",
      "Data columns (total 2 columns):\n",
      " #   Column    Non-Null Count  Dtype \n",
      "---  ------    --------------  ----- \n",
      " 0   id        46419 non-null  int32 \n",
      " 1   keywords  46419 non-null  string\n",
      "dtypes: int32(1), string(1)\n",
      "memory usage: 544.1 KB\n"
     ]
    },
    {
     "data": {
      "text/html": [
       "<div>\n",
       "<style scoped>\n",
       "    .dataframe tbody tr th:only-of-type {\n",
       "        vertical-align: middle;\n",
       "    }\n",
       "\n",
       "    .dataframe tbody tr th {\n",
       "        vertical-align: top;\n",
       "    }\n",
       "\n",
       "    .dataframe thead th {\n",
       "        text-align: right;\n",
       "    }\n",
       "</style>\n",
       "<table border=\"1\" class=\"dataframe\">\n",
       "  <thead>\n",
       "    <tr style=\"text-align: right;\">\n",
       "      <th></th>\n",
       "      <th>id</th>\n",
       "      <th>keywords</th>\n",
       "    </tr>\n",
       "  </thead>\n",
       "  <tbody>\n",
       "    <tr>\n",
       "      <th>0</th>\n",
       "      <td>862</td>\n",
       "      <td>[{'id': 931, 'name': 'jealousy'}, {'id': 4290,...</td>\n",
       "    </tr>\n",
       "  </tbody>\n",
       "</table>\n",
       "</div>"
      ],
      "text/plain": [
       "    id                                           keywords\n",
       "0  862  [{'id': 931, 'name': 'jealousy'}, {'id': 4290,..."
      ]
     },
     "execution_count": 3,
     "metadata": {},
     "output_type": "execute_result"
    }
   ],
   "source": [
    "movieLens_keywords = read_dataframe('movieLens/keywords')\n",
    "movieLens_keywords.info()\n",
    "movieLens_keywords.head(1)"
   ]
  },
  {
   "cell_type": "code",
   "execution_count": 4,
   "id": "cb536eb8",
   "metadata": {},
   "outputs": [
    {
     "name": "stdout",
     "output_type": "stream",
     "text": [
      "<class 'pandas.core.frame.DataFrame'>\n",
      "RangeIndex: 45843 entries, 0 to 45842\n",
      "Data columns (total 3 columns):\n",
      " #   Column   Non-Null Count  Dtype\n",
      "---  ------   --------------  -----\n",
      " 0   movieId  45843 non-null  int32\n",
      " 1   imdbId   45843 non-null  int32\n",
      " 2   tmdbId   45624 non-null  Int32\n",
      "dtypes: Int32(1), int32(2)\n",
      "memory usage: 582.1 KB\n"
     ]
    },
    {
     "data": {
      "text/html": [
       "<div>\n",
       "<style scoped>\n",
       "    .dataframe tbody tr th:only-of-type {\n",
       "        vertical-align: middle;\n",
       "    }\n",
       "\n",
       "    .dataframe tbody tr th {\n",
       "        vertical-align: top;\n",
       "    }\n",
       "\n",
       "    .dataframe thead th {\n",
       "        text-align: right;\n",
       "    }\n",
       "</style>\n",
       "<table border=\"1\" class=\"dataframe\">\n",
       "  <thead>\n",
       "    <tr style=\"text-align: right;\">\n",
       "      <th></th>\n",
       "      <th>movieId</th>\n",
       "      <th>imdbId</th>\n",
       "      <th>tmdbId</th>\n",
       "    </tr>\n",
       "  </thead>\n",
       "  <tbody>\n",
       "    <tr>\n",
       "      <th>0</th>\n",
       "      <td>1</td>\n",
       "      <td>114709</td>\n",
       "      <td>862</td>\n",
       "    </tr>\n",
       "  </tbody>\n",
       "</table>\n",
       "</div>"
      ],
      "text/plain": [
       "   movieId  imdbId  tmdbId\n",
       "0        1  114709     862"
      ]
     },
     "execution_count": 4,
     "metadata": {},
     "output_type": "execute_result"
    }
   ],
   "source": [
    "movieLens_links = read_dataframe('movieLens/links')\n",
    "movieLens_links.info()\n",
    "movieLens_links.head(1)"
   ]
  },
  {
   "cell_type": "code",
   "execution_count": 5,
   "id": "f1091106",
   "metadata": {},
   "outputs": [
    {
     "name": "stdout",
     "output_type": "stream",
     "text": [
      "<class 'pandas.core.frame.DataFrame'>\n",
      "RangeIndex: 26024289 entries, 0 to 26024288\n",
      "Data columns (total 4 columns):\n",
      " #   Column     Dtype  \n",
      "---  ------     -----  \n",
      " 0   userId     int32  \n",
      " 1   movieId    int32  \n",
      " 2   rating     float32\n",
      " 3   timestamp  int32  \n",
      "dtypes: float32(1), int32(3)\n",
      "memory usage: 397.1 MB\n"
     ]
    },
    {
     "data": {
      "text/html": [
       "<div>\n",
       "<style scoped>\n",
       "    .dataframe tbody tr th:only-of-type {\n",
       "        vertical-align: middle;\n",
       "    }\n",
       "\n",
       "    .dataframe tbody tr th {\n",
       "        vertical-align: top;\n",
       "    }\n",
       "\n",
       "    .dataframe thead th {\n",
       "        text-align: right;\n",
       "    }\n",
       "</style>\n",
       "<table border=\"1\" class=\"dataframe\">\n",
       "  <thead>\n",
       "    <tr style=\"text-align: right;\">\n",
       "      <th></th>\n",
       "      <th>userId</th>\n",
       "      <th>movieId</th>\n",
       "      <th>rating</th>\n",
       "      <th>timestamp</th>\n",
       "    </tr>\n",
       "  </thead>\n",
       "  <tbody>\n",
       "    <tr>\n",
       "      <th>0</th>\n",
       "      <td>1</td>\n",
       "      <td>110</td>\n",
       "      <td>1.0</td>\n",
       "      <td>1425941529</td>\n",
       "    </tr>\n",
       "  </tbody>\n",
       "</table>\n",
       "</div>"
      ],
      "text/plain": [
       "   userId  movieId  rating   timestamp\n",
       "0       1      110     1.0  1425941529"
      ]
     },
     "execution_count": 5,
     "metadata": {},
     "output_type": "execute_result"
    }
   ],
   "source": [
    "movieLens_ratings = read_dataframe('movieLens/ratings')\n",
    "movieLens_ratings.info()\n",
    "movieLens_ratings.head(1)"
   ]
  },
  {
   "cell_type": "markdown",
   "id": "6792e6f6",
   "metadata": {},
   "source": [
    "### CMU Summaries NLP"
   ]
  },
  {
   "cell_type": "code",
   "execution_count": null,
   "id": "816d7e60",
   "metadata": {},
   "outputs": [],
   "source": [
    "cmu_summaries = read_dataframe(name='cmu/summaries', usecols=[\n",
    "    \"Wikipedia movie ID\", \n",
    "    \"Plot Summary\"\n",
    "])\n",
    "cmu_summaries.info()\n",
    "\n",
    "cmu_nameclusters = read_dataframe(name='cmu/nameclusters', usecols=['Character name', 'Freebase character/actor map ID'])\n",
    "cmu_nameclusters.info()\n",
    "\n",
    "cmu_tvtropes = read_dataframe(name='cmu/tvtropes')\n",
    "cmu_tvtropes.info()"
   ]
  },
  {
   "cell_type": "code",
   "execution_count": null,
   "id": "e8befe8b",
   "metadata": {},
   "outputs": [],
   "source": [
    "cmu_characters = read_dataframe('cmu/characters_2023')\n",
    "cmu_characters.info()\n",
    "cmu_characters.head(1)"
   ]
  },
  {
   "cell_type": "markdown",
   "id": "db2b29a6",
   "metadata": {},
   "source": [
    "<a class=\"anchor\" id=\"merged\"></a>\n",
    "## Merged Dataframes\n",
    "[Back to Table of Contents](#Contents)"
   ]
  },
  {
   "cell_type": "markdown",
   "id": "3eb8b216",
   "metadata": {},
   "source": [
    "### CMU Movies IMDb merge (+ MovieLens?)"
   ]
  },
  {
   "cell_type": "code",
   "execution_count": null,
   "id": "7cae0e9d",
   "metadata": {},
   "outputs": [],
   "source": []
  },
  {
   "cell_type": "markdown",
   "id": "ca3758d9",
   "metadata": {},
   "source": [
    "### CMU Movies IMDb NLP characters  (+ MovieLens?)"
   ]
  },
  {
   "cell_type": "code",
   "execution_count": null,
   "id": "a7516e5f",
   "metadata": {},
   "outputs": [],
   "source": [
    "### add merged dataframes that we will use to solve our questions"
   ]
  }
 ],
 "metadata": {
  "kernelspec": {
   "display_name": "Python 3 (ipykernel)",
   "language": "python",
   "name": "python3"
  },
  "language_info": {
   "codemirror_mode": {
    "name": "ipython",
    "version": 3
   },
   "file_extension": ".py",
   "mimetype": "text/x-python",
   "name": "python",
   "nbconvert_exporter": "python",
   "pygments_lexer": "ipython3",
   "version": "3.10.11"
  }
 },
 "nbformat": 4,
 "nbformat_minor": 5
}

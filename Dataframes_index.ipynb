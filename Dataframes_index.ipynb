{
 "cells": [
  {
   "cell_type": "code",
   "execution_count": 1,
   "id": "a49f10de",
   "metadata": {},
   "outputs": [],
   "source": [
    "import pandas as pd\n",
    "import gc\n",
    "\n",
    "from helpers.readers import read_dataframe"
   ]
  },
  {
   "cell_type": "markdown",
   "id": "4bc358c8",
   "metadata": {},
   "source": [
    "<a id=\"Contents\"></a> <br>\n",
    "# Content\n",
    "* [1 - Loading default dataframes](#default)\n",
    "<br>\n",
    "* [2 - Merged Dataframes](#merged)\n",
    "<br>"
   ]
  },
  {
   "cell_type": "markdown",
   "id": "0adcc7d4",
   "metadata": {},
   "source": [
    "- **Q1: How impactful is the team surrounding the director on the success of a movie?**\n",
    "- **Q2: To what extent does the director’s choice of movie genre affect the success of the movie?**\n",
    "- **Q3: What is the impact of the director’s character choices on the success of the movie?**\n",
    "- **Q4 (opt.): Can we spot bright underrated directors who are in the early stages of their career?**"
   ]
  },
  {
   "cell_type": "markdown",
   "id": "5202e12f",
   "metadata": {},
   "source": [
    "<img src=\"https://i.postimg.cc/d3X75w5g/cmu-with-nlp.png\" width=\"600\"/>\n",
    "<img src=\"https://i.postimg.cc/NjvFFNS8/imdb.png\" width=\"400\"/>\n",
    "<img src=\"https://i.postimg.cc/yNVNXDVk/mappings.png\" width=\"500\"/>\n",
    "<img src=\"https://i.postimg.cc/KvTnQPp9/movielens.png\" width=\"550\"/>"
   ]
  },
  {
   "cell_type": "markdown",
   "id": "41f0ba79",
   "metadata": {},
   "source": [
    "<a class=\"anchor\" id=\"default\"></a>\n",
    "## Loading default dataframes\n",
    "[Back to Table of Contents](#Contents)"
   ]
  },
  {
   "cell_type": "markdown",
   "id": "0783f5ff",
   "metadata": {},
   "source": [
    "### CMU Metadata"
   ]
  },
  {
   "cell_type": "code",
   "execution_count": 2,
   "id": "b63d2374",
   "metadata": {},
   "outputs": [
    {
     "name": "stdout",
     "output_type": "stream",
     "text": [
      "Preprocess logs:\n",
      "✅ Fixed Movie Languages inside Movie Countries\n",
      "✅ Removed Deseret characters\n",
      "✅ Movie release date splitted to three columns: Movie release Year, Movie release Month, Movie release Day\n",
      "✅ Seperated freebase identifiers from Movie Languages, Movie Countries and Movie Genres\n",
      "<class 'pandas.core.frame.DataFrame'>\n",
      "RangeIndex: 81741 entries, 0 to 81740\n",
      "Data columns (total 11 columns):\n",
      " #   Column                    Non-Null Count  Dtype  \n",
      "---  ------                    --------------  -----  \n",
      " 0   Wikipedia movie ID        81741 non-null  int32  \n",
      " 1   Freebase movie ID         81741 non-null  string \n",
      " 2   Movie name                81741 non-null  string \n",
      " 3   Movie box office revenue  8401 non-null   float64\n",
      " 4   Movie runtime             61291 non-null  float32\n",
      " 5   Movie release Year        74839 non-null  Int16  \n",
      " 6   Movie release Month       42667 non-null  Int8   \n",
      " 7   Movie release Day         39373 non-null  Int8   \n",
      " 8   Movie languages           81741 non-null  string \n",
      " 9   Movie countries           81741 non-null  string \n",
      " 10  Movie genres              81741 non-null  string \n",
      "dtypes: Int16(1), Int8(2), float32(1), float64(1), int32(1), string(5)\n",
      "memory usage: 4.9 MB\n"
     ]
    },
    {
     "data": {
      "text/html": [
       "<div>\n",
       "<style scoped>\n",
       "    .dataframe tbody tr th:only-of-type {\n",
       "        vertical-align: middle;\n",
       "    }\n",
       "\n",
       "    .dataframe tbody tr th {\n",
       "        vertical-align: top;\n",
       "    }\n",
       "\n",
       "    .dataframe thead th {\n",
       "        text-align: right;\n",
       "    }\n",
       "</style>\n",
       "<table border=\"1\" class=\"dataframe\">\n",
       "  <thead>\n",
       "    <tr style=\"text-align: right;\">\n",
       "      <th></th>\n",
       "      <th>Wikipedia movie ID</th>\n",
       "      <th>Freebase movie ID</th>\n",
       "      <th>Movie name</th>\n",
       "      <th>Movie box office revenue</th>\n",
       "      <th>Movie runtime</th>\n",
       "      <th>Movie release Year</th>\n",
       "      <th>Movie release Month</th>\n",
       "      <th>Movie release Day</th>\n",
       "      <th>Movie languages</th>\n",
       "      <th>Movie countries</th>\n",
       "      <th>Movie genres</th>\n",
       "    </tr>\n",
       "  </thead>\n",
       "  <tbody>\n",
       "    <tr>\n",
       "      <th>0</th>\n",
       "      <td>975900</td>\n",
       "      <td>/m/03vyhn</td>\n",
       "      <td>Ghosts of Mars</td>\n",
       "      <td>14010832.0</td>\n",
       "      <td>98.0</td>\n",
       "      <td>2001</td>\n",
       "      <td>8</td>\n",
       "      <td>24</td>\n",
       "      <td>English</td>\n",
       "      <td>United States of America</td>\n",
       "      <td>Thriller,Science Fiction,Horror,Adventure,Supe...</td>\n",
       "    </tr>\n",
       "  </tbody>\n",
       "</table>\n",
       "</div>"
      ],
      "text/plain": [
       "   Wikipedia movie ID Freebase movie ID      Movie name  \\\n",
       "0              975900         /m/03vyhn  Ghosts of Mars   \n",
       "\n",
       "   Movie box office revenue  Movie runtime  Movie release Year  \\\n",
       "0                14010832.0           98.0                2001   \n",
       "\n",
       "   Movie release Month  Movie release Day Movie languages  \\\n",
       "0                    8                 24         English   \n",
       "\n",
       "            Movie countries                                       Movie genres  \n",
       "0  United States of America  Thriller,Science Fiction,Horror,Adventure,Supe...  "
      ]
     },
     "execution_count": 2,
     "metadata": {},
     "output_type": "execute_result"
    }
   ],
   "source": [
    "cmu_movies = read_dataframe(name='cmu/movies', preprocess=True, usecols=[\n",
    "    \"Wikipedia movie ID\", \n",
    "    \"Freebase movie ID\", \n",
    "    \"Movie name\", \n",
    "    \"Movie release date\", \n",
    "    \"Movie box office revenue\", \n",
    "    \"Movie runtime\", \n",
    "    \"Movie languages\", \n",
    "    \"Movie countries\", \n",
    "    \"Movie genres\",\n",
    "])\n",
    "\n",
    "cmu_movies.info()\n",
    "cmu_movies.head(1)"
   ]
  },
  {
   "cell_type": "code",
   "execution_count": 3,
   "id": "b32f0efc",
   "metadata": {},
   "outputs": [
    {
     "name": "stdout",
     "output_type": "stream",
     "text": [
      "Preprocess logs:\n",
      "✅ Movie release date splitted to three columns: Movie release Year, Movie release Month, Movie release Day\n",
      "✅ Actor DOB splitted to three columns: Actor DOB Year, Actor DOB Month, Actor DOB Day\n",
      "✅ Dropped Freebase character/actor map ID and Freebase character ID\n",
      "<class 'pandas.core.frame.DataFrame'>\n",
      "RangeIndex: 450669 entries, 0 to 450668\n",
      "Data columns (total 15 columns):\n",
      " #   Column                           Non-Null Count   Dtype  \n",
      "---  ------                           --------------   -----  \n",
      " 0   Wikipedia movie ID               450669 non-null  int32  \n",
      " 1   Freebase movie ID                450669 non-null  string \n",
      " 2   Character name                   192794 non-null  string \n",
      " 3   Actor gender                     405060 non-null  string \n",
      " 4   Actor height                     154824 non-null  float32\n",
      " 5   Actor ethnicity                  106058 non-null  string \n",
      " 6   Actor name                       449441 non-null  string \n",
      " 7   Actor age at movie release       292556 non-null  float32\n",
      " 8   Freebase character/actor map ID  450669 non-null  string \n",
      " 9   Movie release Year               440674 non-null  Int16  \n",
      " 10  Movie release Month              290872 non-null  Int8   \n",
      " 11  Movie release Day                273887 non-null  Int8   \n",
      " 12  Actor DOB Year                   344524 non-null  Int16  \n",
      " 13  Actor DOB Month                  330658 non-null  Int8   \n",
      " 14  Actor DOB Day                    329918 non-null  Int8   \n",
      "dtypes: Int16(2), Int8(4), float32(2), int32(1), string(6)\n",
      "memory usage: 31.8 MB\n"
     ]
    },
    {
     "data": {
      "text/html": [
       "<div>\n",
       "<style scoped>\n",
       "    .dataframe tbody tr th:only-of-type {\n",
       "        vertical-align: middle;\n",
       "    }\n",
       "\n",
       "    .dataframe tbody tr th {\n",
       "        vertical-align: top;\n",
       "    }\n",
       "\n",
       "    .dataframe thead th {\n",
       "        text-align: right;\n",
       "    }\n",
       "</style>\n",
       "<table border=\"1\" class=\"dataframe\">\n",
       "  <thead>\n",
       "    <tr style=\"text-align: right;\">\n",
       "      <th></th>\n",
       "      <th>Wikipedia movie ID</th>\n",
       "      <th>Freebase movie ID</th>\n",
       "      <th>Character name</th>\n",
       "      <th>Actor gender</th>\n",
       "      <th>Actor height</th>\n",
       "      <th>Actor ethnicity</th>\n",
       "      <th>Actor name</th>\n",
       "      <th>Actor age at movie release</th>\n",
       "      <th>Freebase character/actor map ID</th>\n",
       "      <th>Movie release Year</th>\n",
       "      <th>Movie release Month</th>\n",
       "      <th>Movie release Day</th>\n",
       "      <th>Actor DOB Year</th>\n",
       "      <th>Actor DOB Month</th>\n",
       "      <th>Actor DOB Day</th>\n",
       "    </tr>\n",
       "  </thead>\n",
       "  <tbody>\n",
       "    <tr>\n",
       "      <th>0</th>\n",
       "      <td>975900</td>\n",
       "      <td>/m/03vyhn</td>\n",
       "      <td>Akooshay</td>\n",
       "      <td>F</td>\n",
       "      <td>1.62</td>\n",
       "      <td>&lt;NA&gt;</td>\n",
       "      <td>Wanda De Jesus</td>\n",
       "      <td>42.0</td>\n",
       "      <td>/m/0bgchxw</td>\n",
       "      <td>2001</td>\n",
       "      <td>8</td>\n",
       "      <td>24</td>\n",
       "      <td>1958</td>\n",
       "      <td>8</td>\n",
       "      <td>26</td>\n",
       "    </tr>\n",
       "  </tbody>\n",
       "</table>\n",
       "</div>"
      ],
      "text/plain": [
       "   Wikipedia movie ID Freebase movie ID Character name Actor gender  \\\n",
       "0              975900         /m/03vyhn       Akooshay            F   \n",
       "\n",
       "   Actor height Actor ethnicity      Actor name  Actor age at movie release  \\\n",
       "0          1.62            <NA>  Wanda De Jesus                        42.0   \n",
       "\n",
       "  Freebase character/actor map ID  Movie release Year  Movie release Month  \\\n",
       "0                      /m/0bgchxw                2001                    8   \n",
       "\n",
       "   Movie release Day  Actor DOB Year  Actor DOB Month  Actor DOB Day  \n",
       "0                 24            1958                8             26  "
      ]
     },
     "execution_count": 3,
     "metadata": {},
     "output_type": "execute_result"
    }
   ],
   "source": [
    "cmu_characters = read_dataframe(name='cmu/characters', preprocess=True, usecols=[\n",
    "    \"Wikipedia movie ID\",\n",
    "    \"Freebase movie ID\",\n",
    "    \"Movie release date\",\n",
    "    \"Character name\",\n",
    "    \"Actor DOB\",\n",
    "    \"Actor gender\",\n",
    "    \"Actor height\",\n",
    "    \"Actor ethnicity\",\n",
    "    \"Actor name\",\n",
    "    \"Actor age at movie release\",\n",
    "    \"Freebase character/actor map ID\",\n",
    "    \"Freebase character ID\",\n",
    "    \"Freebase actor ID\",\n",
    "])\n",
    "\n",
    "cmu_characters.info()\n",
    "cmu_characters.head(1)"
   ]
  },
  {
   "cell_type": "markdown",
   "id": "3e7567be",
   "metadata": {},
   "source": [
    "### IMDb (https://developer.imdb.com/non-commercial-datasets/) (4/7)"
   ]
  },
  {
   "cell_type": "code",
   "execution_count": 4,
   "id": "fc041c5e",
   "metadata": {},
   "outputs": [
    {
     "name": "stdout",
     "output_type": "stream",
     "text": [
      "<class 'pandas.core.frame.DataFrame'>\n",
      "RangeIndex: 12904751 entries, 0 to 12904750\n",
      "Data columns (total 6 columns):\n",
      " #   Column             Dtype \n",
      "---  ------             ----- \n",
      " 0   nconst             string\n",
      " 1   primaryName        string\n",
      " 2   birthYear          Int16 \n",
      " 3   deathYear          Int16 \n",
      " 4   primaryProfession  string\n",
      " 5   knownForTitles     string\n",
      "dtypes: Int16(2), string(4)\n",
      "memory usage: 467.7 MB\n"
     ]
    },
    {
     "data": {
      "text/html": [
       "<div>\n",
       "<style scoped>\n",
       "    .dataframe tbody tr th:only-of-type {\n",
       "        vertical-align: middle;\n",
       "    }\n",
       "\n",
       "    .dataframe tbody tr th {\n",
       "        vertical-align: top;\n",
       "    }\n",
       "\n",
       "    .dataframe thead th {\n",
       "        text-align: right;\n",
       "    }\n",
       "</style>\n",
       "<table border=\"1\" class=\"dataframe\">\n",
       "  <thead>\n",
       "    <tr style=\"text-align: right;\">\n",
       "      <th></th>\n",
       "      <th>nconst</th>\n",
       "      <th>primaryName</th>\n",
       "      <th>birthYear</th>\n",
       "      <th>deathYear</th>\n",
       "      <th>primaryProfession</th>\n",
       "      <th>knownForTitles</th>\n",
       "    </tr>\n",
       "  </thead>\n",
       "  <tbody>\n",
       "    <tr>\n",
       "      <th>0</th>\n",
       "      <td>nm0000001</td>\n",
       "      <td>Fred Astaire</td>\n",
       "      <td>1899</td>\n",
       "      <td>1987</td>\n",
       "      <td>soundtrack,actor,miscellaneous</td>\n",
       "      <td>tt0053137,tt0050419,tt0072308,tt0031983</td>\n",
       "    </tr>\n",
       "  </tbody>\n",
       "</table>\n",
       "</div>"
      ],
      "text/plain": [
       "      nconst   primaryName  birthYear  deathYear  \\\n",
       "0  nm0000001  Fred Astaire       1899       1987   \n",
       "\n",
       "                primaryProfession                           knownForTitles  \n",
       "0  soundtrack,actor,miscellaneous  tt0053137,tt0050419,tt0072308,tt0031983  "
      ]
     },
     "execution_count": 4,
     "metadata": {},
     "output_type": "execute_result"
    }
   ],
   "source": [
    "imdb_people = read_dataframe(name='imdb/names')\n",
    "imdb_people.info()\n",
    "imdb_people.head(1)"
   ]
  },
  {
   "cell_type": "code",
   "execution_count": 5,
   "id": "41375f77",
   "metadata": {},
   "outputs": [
    {
     "name": "stdout",
     "output_type": "stream",
     "text": [
      "Preprocess logs:\n",
      "✅ Moved genres from runtimeMinutes to genres column\n",
      "<class 'pandas.core.frame.DataFrame'>\n",
      "RangeIndex: 10218119 entries, 0 to 10218118\n",
      "Data columns (total 9 columns):\n",
      " #   Column          Dtype   \n",
      "---  ------          -----   \n",
      " 0   tconst          string  \n",
      " 1   titleType       category\n",
      " 2   primaryTitle    string  \n",
      " 3   originalTitle   string  \n",
      " 4   isAdult         Int16   \n",
      " 5   startYear       Int16   \n",
      " 6   endYear         Int16   \n",
      " 7   runtimeMinutes  Int32   \n",
      " 8   genres          string  \n",
      "dtypes: Int16(3), Int32(1), category(1), string(4)\n",
      "memory usage: 458.0 MB\n"
     ]
    },
    {
     "data": {
      "text/html": [
       "<div>\n",
       "<style scoped>\n",
       "    .dataframe tbody tr th:only-of-type {\n",
       "        vertical-align: middle;\n",
       "    }\n",
       "\n",
       "    .dataframe tbody tr th {\n",
       "        vertical-align: top;\n",
       "    }\n",
       "\n",
       "    .dataframe thead th {\n",
       "        text-align: right;\n",
       "    }\n",
       "</style>\n",
       "<table border=\"1\" class=\"dataframe\">\n",
       "  <thead>\n",
       "    <tr style=\"text-align: right;\">\n",
       "      <th></th>\n",
       "      <th>tconst</th>\n",
       "      <th>titleType</th>\n",
       "      <th>primaryTitle</th>\n",
       "      <th>originalTitle</th>\n",
       "      <th>isAdult</th>\n",
       "      <th>startYear</th>\n",
       "      <th>endYear</th>\n",
       "      <th>runtimeMinutes</th>\n",
       "      <th>genres</th>\n",
       "    </tr>\n",
       "  </thead>\n",
       "  <tbody>\n",
       "    <tr>\n",
       "      <th>0</th>\n",
       "      <td>tt0000001</td>\n",
       "      <td>short</td>\n",
       "      <td>Carmencita</td>\n",
       "      <td>Carmencita</td>\n",
       "      <td>0</td>\n",
       "      <td>1894</td>\n",
       "      <td>&lt;NA&gt;</td>\n",
       "      <td>1</td>\n",
       "      <td>Documentary,Short</td>\n",
       "    </tr>\n",
       "  </tbody>\n",
       "</table>\n",
       "</div>"
      ],
      "text/plain": [
       "      tconst titleType primaryTitle originalTitle  isAdult  startYear  \\\n",
       "0  tt0000001     short   Carmencita    Carmencita        0       1894   \n",
       "\n",
       "   endYear  runtimeMinutes             genres  \n",
       "0     <NA>               1  Documentary,Short  "
      ]
     },
     "execution_count": 5,
     "metadata": {},
     "output_type": "execute_result"
    }
   ],
   "source": [
    "imdb_info = read_dataframe(name='imdb/movies', preprocess=True)\n",
    "imdb_info.info()\n",
    "imdb_info.head(1)"
   ]
  },
  {
   "cell_type": "code",
   "execution_count": 6,
   "id": "ef308bdd",
   "metadata": {},
   "outputs": [
    {
     "name": "stdout",
     "output_type": "stream",
     "text": [
      "<class 'pandas.core.frame.DataFrame'>\n",
      "RangeIndex: 58535121 entries, 0 to 58535120\n",
      "Data columns (total 6 columns):\n",
      " #   Column      Dtype   \n",
      "---  ------      -----   \n",
      " 0   tconst      string  \n",
      " 1   ordering    int8    \n",
      " 2   nconst      string  \n",
      " 3   category    category\n",
      " 4   job         string  \n",
      " 5   characters  string  \n",
      "dtypes: category(1), int8(1), string(4)\n",
      "memory usage: 1.9 GB\n"
     ]
    },
    {
     "data": {
      "text/html": [
       "<div>\n",
       "<style scoped>\n",
       "    .dataframe tbody tr th:only-of-type {\n",
       "        vertical-align: middle;\n",
       "    }\n",
       "\n",
       "    .dataframe tbody tr th {\n",
       "        vertical-align: top;\n",
       "    }\n",
       "\n",
       "    .dataframe thead th {\n",
       "        text-align: right;\n",
       "    }\n",
       "</style>\n",
       "<table border=\"1\" class=\"dataframe\">\n",
       "  <thead>\n",
       "    <tr style=\"text-align: right;\">\n",
       "      <th></th>\n",
       "      <th>tconst</th>\n",
       "      <th>ordering</th>\n",
       "      <th>nconst</th>\n",
       "      <th>category</th>\n",
       "      <th>job</th>\n",
       "      <th>characters</th>\n",
       "    </tr>\n",
       "  </thead>\n",
       "  <tbody>\n",
       "    <tr>\n",
       "      <th>0</th>\n",
       "      <td>tt0000001</td>\n",
       "      <td>1</td>\n",
       "      <td>nm1588970</td>\n",
       "      <td>self</td>\n",
       "      <td>&lt;NA&gt;</td>\n",
       "      <td>[\"Self\"]</td>\n",
       "    </tr>\n",
       "  </tbody>\n",
       "</table>\n",
       "</div>"
      ],
      "text/plain": [
       "      tconst  ordering     nconst category   job characters\n",
       "0  tt0000001         1  nm1588970     self  <NA>   [\"Self\"]"
      ]
     },
     "execution_count": 6,
     "metadata": {},
     "output_type": "execute_result"
    }
   ],
   "source": [
    "imdb_principals = read_dataframe(name='imdb/principals')\n",
    "imdb_principals.info()\n",
    "imdb_principals.head(1)"
   ]
  },
  {
   "cell_type": "code",
   "execution_count": 7,
   "id": "4a05c443",
   "metadata": {},
   "outputs": [
    {
     "name": "stdout",
     "output_type": "stream",
     "text": [
      "<class 'pandas.core.frame.DataFrame'>\n",
      "RangeIndex: 1356511 entries, 0 to 1356510\n",
      "Data columns (total 3 columns):\n",
      " #   Column         Non-Null Count    Dtype  \n",
      "---  ------         --------------    -----  \n",
      " 0   tconst         1356511 non-null  string \n",
      " 1   averageRating  1356511 non-null  float32\n",
      " 2   numVotes       1356511 non-null  int32  \n",
      "dtypes: float32(1), int32(1), string(1)\n",
      "memory usage: 20.7 MB\n"
     ]
    },
    {
     "data": {
      "text/html": [
       "<div>\n",
       "<style scoped>\n",
       "    .dataframe tbody tr th:only-of-type {\n",
       "        vertical-align: middle;\n",
       "    }\n",
       "\n",
       "    .dataframe tbody tr th {\n",
       "        vertical-align: top;\n",
       "    }\n",
       "\n",
       "    .dataframe thead th {\n",
       "        text-align: right;\n",
       "    }\n",
       "</style>\n",
       "<table border=\"1\" class=\"dataframe\">\n",
       "  <thead>\n",
       "    <tr style=\"text-align: right;\">\n",
       "      <th></th>\n",
       "      <th>tconst</th>\n",
       "      <th>averageRating</th>\n",
       "      <th>numVotes</th>\n",
       "    </tr>\n",
       "  </thead>\n",
       "  <tbody>\n",
       "    <tr>\n",
       "      <th>0</th>\n",
       "      <td>tt0000001</td>\n",
       "      <td>5.7</td>\n",
       "      <td>1997</td>\n",
       "    </tr>\n",
       "  </tbody>\n",
       "</table>\n",
       "</div>"
      ],
      "text/plain": [
       "      tconst  averageRating  numVotes\n",
       "0  tt0000001            5.7      1997"
      ]
     },
     "execution_count": 7,
     "metadata": {},
     "output_type": "execute_result"
    }
   ],
   "source": [
    "imdb_ratings = read_dataframe(name='imdb/ratings')\n",
    "imdb_ratings.info()\n",
    "imdb_ratings.head(1)"
   ]
  },
  {
   "cell_type": "markdown",
   "id": "bcdc3ab4",
   "metadata": {},
   "source": [
    "### Unused IMDb (3/7):"
   ]
  },
  {
   "cell_type": "code",
   "execution_count": 8,
   "id": "c443bb43",
   "metadata": {},
   "outputs": [
    {
     "name": "stdout",
     "output_type": "stream",
     "text": [
      "<class 'pandas.core.frame.DataFrame'>\n",
      "RangeIndex: 37422067 entries, 0 to 37422066\n",
      "Data columns (total 8 columns):\n",
      " #   Column           Dtype \n",
      "---  ------           ----- \n",
      " 0   titleId          string\n",
      " 1   ordering         int16 \n",
      " 2   title            string\n",
      " 3   region           string\n",
      " 4   language         string\n",
      " 5   types            string\n",
      " 6   attributes       string\n",
      " 7   isOriginalTitle  Int8  \n",
      "dtypes: Int8(1), int16(1), string(6)\n",
      "memory usage: 1.8 GB\n"
     ]
    },
    {
     "data": {
      "text/html": [
       "<div>\n",
       "<style scoped>\n",
       "    .dataframe tbody tr th:only-of-type {\n",
       "        vertical-align: middle;\n",
       "    }\n",
       "\n",
       "    .dataframe tbody tr th {\n",
       "        vertical-align: top;\n",
       "    }\n",
       "\n",
       "    .dataframe thead th {\n",
       "        text-align: right;\n",
       "    }\n",
       "</style>\n",
       "<table border=\"1\" class=\"dataframe\">\n",
       "  <thead>\n",
       "    <tr style=\"text-align: right;\">\n",
       "      <th></th>\n",
       "      <th>titleId</th>\n",
       "      <th>ordering</th>\n",
       "      <th>title</th>\n",
       "      <th>region</th>\n",
       "      <th>language</th>\n",
       "      <th>types</th>\n",
       "      <th>attributes</th>\n",
       "      <th>isOriginalTitle</th>\n",
       "    </tr>\n",
       "  </thead>\n",
       "  <tbody>\n",
       "    <tr>\n",
       "      <th>0</th>\n",
       "      <td>tt0000001</td>\n",
       "      <td>1</td>\n",
       "      <td>Карменсіта</td>\n",
       "      <td>UA</td>\n",
       "      <td>&lt;NA&gt;</td>\n",
       "      <td>imdbDisplay</td>\n",
       "      <td>&lt;NA&gt;</td>\n",
       "      <td>0</td>\n",
       "    </tr>\n",
       "  </tbody>\n",
       "</table>\n",
       "</div>"
      ],
      "text/plain": [
       "     titleId  ordering       title region language        types attributes  \\\n",
       "0  tt0000001         1  Карменсіта     UA     <NA>  imdbDisplay       <NA>   \n",
       "\n",
       "   isOriginalTitle  \n",
       "0                0  "
      ]
     },
     "execution_count": 8,
     "metadata": {},
     "output_type": "execute_result"
    }
   ],
   "source": [
    "imdb_akas = read_dataframe(name='imdb/akas')\n",
    "imdb_akas.info()\n",
    "imdb_akas.head(1)"
   ]
  },
  {
   "cell_type": "code",
   "execution_count": 9,
   "id": "ab062ed2",
   "metadata": {},
   "outputs": [
    {
     "name": "stdout",
     "output_type": "stream",
     "text": [
      "<class 'pandas.core.frame.DataFrame'>\n",
      "RangeIndex: 10218119 entries, 0 to 10218118\n",
      "Data columns (total 3 columns):\n",
      " #   Column     Dtype \n",
      "---  ------     ----- \n",
      " 0   tconst     string\n",
      " 1   directors  string\n",
      " 2   writers    string\n",
      "dtypes: string(3)\n",
      "memory usage: 233.9 MB\n"
     ]
    },
    {
     "data": {
      "text/html": [
       "<div>\n",
       "<style scoped>\n",
       "    .dataframe tbody tr th:only-of-type {\n",
       "        vertical-align: middle;\n",
       "    }\n",
       "\n",
       "    .dataframe tbody tr th {\n",
       "        vertical-align: top;\n",
       "    }\n",
       "\n",
       "    .dataframe thead th {\n",
       "        text-align: right;\n",
       "    }\n",
       "</style>\n",
       "<table border=\"1\" class=\"dataframe\">\n",
       "  <thead>\n",
       "    <tr style=\"text-align: right;\">\n",
       "      <th></th>\n",
       "      <th>tconst</th>\n",
       "      <th>directors</th>\n",
       "      <th>writers</th>\n",
       "    </tr>\n",
       "  </thead>\n",
       "  <tbody>\n",
       "    <tr>\n",
       "      <th>0</th>\n",
       "      <td>tt0000001</td>\n",
       "      <td>nm0005690</td>\n",
       "      <td>&lt;NA&gt;</td>\n",
       "    </tr>\n",
       "  </tbody>\n",
       "</table>\n",
       "</div>"
      ],
      "text/plain": [
       "      tconst  directors writers\n",
       "0  tt0000001  nm0005690    <NA>"
      ]
     },
     "execution_count": 9,
     "metadata": {},
     "output_type": "execute_result"
    }
   ],
   "source": [
    "imdb_crew = read_dataframe(name='imdb/crew')\n",
    "imdb_crew.info()\n",
    "imdb_crew.head(1)"
   ]
  },
  {
   "cell_type": "code",
   "execution_count": 10,
   "id": "19305f99",
   "metadata": {},
   "outputs": [
    {
     "name": "stdout",
     "output_type": "stream",
     "text": [
      "<class 'pandas.core.frame.DataFrame'>\n",
      "RangeIndex: 7788792 entries, 0 to 7788791\n",
      "Data columns (total 4 columns):\n",
      " #   Column         Dtype \n",
      "---  ------         ----- \n",
      " 0   tconst         string\n",
      " 1   parentTconst   string\n",
      " 2   seasonNumber   Int16 \n",
      " 3   episodeNumber  Int32 \n",
      "dtypes: Int16(1), Int32(1), string(2)\n",
      "memory usage: 178.3 MB\n"
     ]
    },
    {
     "data": {
      "text/html": [
       "<div>\n",
       "<style scoped>\n",
       "    .dataframe tbody tr th:only-of-type {\n",
       "        vertical-align: middle;\n",
       "    }\n",
       "\n",
       "    .dataframe tbody tr th {\n",
       "        vertical-align: top;\n",
       "    }\n",
       "\n",
       "    .dataframe thead th {\n",
       "        text-align: right;\n",
       "    }\n",
       "</style>\n",
       "<table border=\"1\" class=\"dataframe\">\n",
       "  <thead>\n",
       "    <tr style=\"text-align: right;\">\n",
       "      <th></th>\n",
       "      <th>tconst</th>\n",
       "      <th>parentTconst</th>\n",
       "      <th>seasonNumber</th>\n",
       "      <th>episodeNumber</th>\n",
       "    </tr>\n",
       "  </thead>\n",
       "  <tbody>\n",
       "    <tr>\n",
       "      <th>0</th>\n",
       "      <td>tt0041951</td>\n",
       "      <td>tt0041038</td>\n",
       "      <td>1</td>\n",
       "      <td>9</td>\n",
       "    </tr>\n",
       "  </tbody>\n",
       "</table>\n",
       "</div>"
      ],
      "text/plain": [
       "      tconst parentTconst  seasonNumber  episodeNumber\n",
       "0  tt0041951    tt0041038             1              9"
      ]
     },
     "execution_count": 10,
     "metadata": {},
     "output_type": "execute_result"
    }
   ],
   "source": [
    "imdb_episode = read_dataframe(name='imdb/episode')\n",
    "imdb_episode.info()\n",
    "imdb_episode.head(1)"
   ]
  },
  {
   "cell_type": "markdown",
   "id": "a01a59e9",
   "metadata": {},
   "source": [
    "### Mappings"
   ]
  },
  {
   "cell_type": "code",
   "execution_count": 11,
   "id": "6b93bbcd",
   "metadata": {},
   "outputs": [
    {
     "name": "stdout",
     "output_type": "stream",
     "text": [
      "<class 'pandas.core.frame.DataFrame'>\n",
      "RangeIndex: 76954 entries, 0 to 76953\n",
      "Data columns (total 3 columns):\n",
      " #   Column     Non-Null Count  Dtype \n",
      "---  ------     --------------  ----- \n",
      " 0   wikipedia  72189 non-null  Int32 \n",
      " 1   imdb       76954 non-null  string\n",
      " 2   freebase   73947 non-null  string\n",
      "dtypes: Int32(1), string(2)\n",
      "memory usage: 1.5 MB\n"
     ]
    },
    {
     "data": {
      "text/html": [
       "<div>\n",
       "<style scoped>\n",
       "    .dataframe tbody tr th:only-of-type {\n",
       "        vertical-align: middle;\n",
       "    }\n",
       "\n",
       "    .dataframe tbody tr th {\n",
       "        vertical-align: top;\n",
       "    }\n",
       "\n",
       "    .dataframe thead th {\n",
       "        text-align: right;\n",
       "    }\n",
       "</style>\n",
       "<table border=\"1\" class=\"dataframe\">\n",
       "  <thead>\n",
       "    <tr style=\"text-align: right;\">\n",
       "      <th></th>\n",
       "      <th>wikipedia</th>\n",
       "      <th>imdb</th>\n",
       "      <th>freebase</th>\n",
       "    </tr>\n",
       "  </thead>\n",
       "  <tbody>\n",
       "    <tr>\n",
       "      <th>0</th>\n",
       "      <td>975900</td>\n",
       "      <td>tt0228333</td>\n",
       "      <td>/m/03vyhn</td>\n",
       "    </tr>\n",
       "  </tbody>\n",
       "</table>\n",
       "</div>"
      ],
      "text/plain": [
       "   wikipedia       imdb   freebase\n",
       "0     975900  tt0228333  /m/03vyhn"
      ]
     },
     "execution_count": 11,
     "metadata": {},
     "output_type": "execute_result"
    }
   ],
   "source": [
    "mapping_w_i_f = read_dataframe(name='mapping_wikipedia_imdb_freebase')\n",
    "mapping_w_i_f.info()\n",
    "mapping_w_i_f.head(1)"
   ]
  },
  {
   "cell_type": "code",
   "execution_count": 12,
   "id": "72ae89a5",
   "metadata": {},
   "outputs": [
    {
     "name": "stdout",
     "output_type": "stream",
     "text": [
      "<class 'pandas.core.frame.DataFrame'>\n",
      "RangeIndex: 72180 entries, 0 to 72179\n",
      "Data columns (total 2 columns):\n",
      " #   Column     Non-Null Count  Dtype \n",
      "---  ------     --------------  ----- \n",
      " 0   wikipedia  72180 non-null  int32 \n",
      " 1   imdb       72180 non-null  string\n",
      "dtypes: int32(1), string(1)\n",
      "memory usage: 846.0 KB\n"
     ]
    },
    {
     "data": {
      "text/html": [
       "<div>\n",
       "<style scoped>\n",
       "    .dataframe tbody tr th:only-of-type {\n",
       "        vertical-align: middle;\n",
       "    }\n",
       "\n",
       "    .dataframe tbody tr th {\n",
       "        vertical-align: top;\n",
       "    }\n",
       "\n",
       "    .dataframe thead th {\n",
       "        text-align: right;\n",
       "    }\n",
       "</style>\n",
       "<table border=\"1\" class=\"dataframe\">\n",
       "  <thead>\n",
       "    <tr style=\"text-align: right;\">\n",
       "      <th></th>\n",
       "      <th>wikipedia</th>\n",
       "      <th>imdb</th>\n",
       "    </tr>\n",
       "  </thead>\n",
       "  <tbody>\n",
       "    <tr>\n",
       "      <th>0</th>\n",
       "      <td>975900</td>\n",
       "      <td>tt0228333</td>\n",
       "    </tr>\n",
       "  </tbody>\n",
       "</table>\n",
       "</div>"
      ],
      "text/plain": [
       "   wikipedia       imdb\n",
       "0     975900  tt0228333"
      ]
     },
     "execution_count": 12,
     "metadata": {},
     "output_type": "execute_result"
    }
   ],
   "source": [
    "mapping_w_i = read_dataframe(name='mapping_wikipedia_imdb')\n",
    "mapping_w_i.info()\n",
    "mapping_w_i.head(1)"
   ]
  },
  {
   "cell_type": "code",
   "execution_count": 13,
   "id": "6f890d0d",
   "metadata": {},
   "outputs": [
    {
     "name": "stdout",
     "output_type": "stream",
     "text": [
      "<class 'pandas.core.frame.DataFrame'>\n",
      "RangeIndex: 73894 entries, 0 to 73893\n",
      "Data columns (total 2 columns):\n",
      " #   Column    Non-Null Count  Dtype \n",
      "---  ------    --------------  ----- \n",
      " 0   freebase  73894 non-null  string\n",
      " 1   imdb      73894 non-null  string\n",
      "dtypes: string(2)\n",
      "memory usage: 1.1 MB\n"
     ]
    },
    {
     "data": {
      "text/html": [
       "<div>\n",
       "<style scoped>\n",
       "    .dataframe tbody tr th:only-of-type {\n",
       "        vertical-align: middle;\n",
       "    }\n",
       "\n",
       "    .dataframe tbody tr th {\n",
       "        vertical-align: top;\n",
       "    }\n",
       "\n",
       "    .dataframe thead th {\n",
       "        text-align: right;\n",
       "    }\n",
       "</style>\n",
       "<table border=\"1\" class=\"dataframe\">\n",
       "  <thead>\n",
       "    <tr style=\"text-align: right;\">\n",
       "      <th></th>\n",
       "      <th>freebase</th>\n",
       "      <th>imdb</th>\n",
       "    </tr>\n",
       "  </thead>\n",
       "  <tbody>\n",
       "    <tr>\n",
       "      <th>0</th>\n",
       "      <td>/m/0kcn7</td>\n",
       "      <td>tt0058331</td>\n",
       "    </tr>\n",
       "  </tbody>\n",
       "</table>\n",
       "</div>"
      ],
      "text/plain": [
       "   freebase       imdb\n",
       "0  /m/0kcn7  tt0058331"
      ]
     },
     "execution_count": 13,
     "metadata": {},
     "output_type": "execute_result"
    }
   ],
   "source": [
    "mapping_f_i = read_dataframe(name='mapping_freebase_imdb')\n",
    "mapping_f_i.info()\n",
    "mapping_f_i.head(1)"
   ]
  },
  {
   "cell_type": "markdown",
   "id": "55ab6a2e",
   "metadata": {},
   "source": [
    "### MovieLens (https://www.kaggle.com/datasets/rounakbanik/the-movies-dataset) 1/5"
   ]
  },
  {
   "cell_type": "code",
   "execution_count": 14,
   "id": "d36a1640",
   "metadata": {},
   "outputs": [
    {
     "name": "stdout",
     "output_type": "stream",
     "text": [
      "Preprocess logs:\n",
      "✅ Aligned bad rows\n",
      "<class 'pandas.core.frame.DataFrame'>\n",
      "RangeIndex: 45466 entries, 0 to 45465\n",
      "Data columns (total 24 columns):\n",
      " #   Column                 Non-Null Count  Dtype   \n",
      "---  ------                 --------------  -----   \n",
      " 0   adult                  45463 non-null  category\n",
      " 1   belongs_to_collection  4491 non-null   string  \n",
      " 2   budget                 45463 non-null  Int32   \n",
      " 3   genres                 45463 non-null  string  \n",
      " 4   homepage               7779 non-null   string  \n",
      " 5   id                     45463 non-null  Int32   \n",
      " 6   imdb_id                45446 non-null  string  \n",
      " 7   original_language      45452 non-null  string  \n",
      " 8   original_title         45463 non-null  string  \n",
      " 9   overview               44512 non-null  string  \n",
      " 10  popularity             45463 non-null  float32 \n",
      " 11  poster_path            45080 non-null  string  \n",
      " 12  production_companies   45463 non-null  string  \n",
      " 13  production_countries   45463 non-null  string  \n",
      " 14  release_date           45379 non-null  string  \n",
      " 15  revenue                45463 non-null  Int64   \n",
      " 16  runtime                45206 non-null  Int16   \n",
      " 17  spoken_languages       45463 non-null  string  \n",
      " 18  status                 45382 non-null  string  \n",
      " 19  tagline                20413 non-null  string  \n",
      " 20  title                  45463 non-null  string  \n",
      " 21  video                  45463 non-null  category\n",
      " 22  vote_average           45463 non-null  float32 \n",
      " 23  vote_count             45463 non-null  Int16   \n",
      "dtypes: Int16(2), Int32(2), Int64(1), category(2), float32(2), string(15)\n",
      "memory usage: 6.7 MB\n"
     ]
    },
    {
     "data": {
      "text/html": [
       "<div>\n",
       "<style scoped>\n",
       "    .dataframe tbody tr th:only-of-type {\n",
       "        vertical-align: middle;\n",
       "    }\n",
       "\n",
       "    .dataframe tbody tr th {\n",
       "        vertical-align: top;\n",
       "    }\n",
       "\n",
       "    .dataframe thead th {\n",
       "        text-align: right;\n",
       "    }\n",
       "</style>\n",
       "<table border=\"1\" class=\"dataframe\">\n",
       "  <thead>\n",
       "    <tr style=\"text-align: right;\">\n",
       "      <th></th>\n",
       "      <th>adult</th>\n",
       "      <th>belongs_to_collection</th>\n",
       "      <th>budget</th>\n",
       "      <th>genres</th>\n",
       "      <th>homepage</th>\n",
       "      <th>id</th>\n",
       "      <th>imdb_id</th>\n",
       "      <th>original_language</th>\n",
       "      <th>original_title</th>\n",
       "      <th>overview</th>\n",
       "      <th>...</th>\n",
       "      <th>release_date</th>\n",
       "      <th>revenue</th>\n",
       "      <th>runtime</th>\n",
       "      <th>spoken_languages</th>\n",
       "      <th>status</th>\n",
       "      <th>tagline</th>\n",
       "      <th>title</th>\n",
       "      <th>video</th>\n",
       "      <th>vote_average</th>\n",
       "      <th>vote_count</th>\n",
       "    </tr>\n",
       "  </thead>\n",
       "  <tbody>\n",
       "    <tr>\n",
       "      <th>0</th>\n",
       "      <td>False</td>\n",
       "      <td>{'id': 10194, 'name': 'Toy Story Collection', ...</td>\n",
       "      <td>30000000</td>\n",
       "      <td>[{'id': 16, 'name': 'Animation'}, {'id': 35, '...</td>\n",
       "      <td>http://toystory.disney.com/toy-story</td>\n",
       "      <td>862</td>\n",
       "      <td>tt0114709</td>\n",
       "      <td>en</td>\n",
       "      <td>Toy Story</td>\n",
       "      <td>Led by Woody, Andy's toys live happily in his ...</td>\n",
       "      <td>...</td>\n",
       "      <td>1995-10-30</td>\n",
       "      <td>373554033</td>\n",
       "      <td>81</td>\n",
       "      <td>[{'iso_639_1': 'en', 'name': 'English'}]</td>\n",
       "      <td>Released</td>\n",
       "      <td>&lt;NA&gt;</td>\n",
       "      <td>Toy Story</td>\n",
       "      <td>False</td>\n",
       "      <td>7.7</td>\n",
       "      <td>5415</td>\n",
       "    </tr>\n",
       "  </tbody>\n",
       "</table>\n",
       "<p>1 rows × 24 columns</p>\n",
       "</div>"
      ],
      "text/plain": [
       "   adult                              belongs_to_collection    budget  \\\n",
       "0  False  {'id': 10194, 'name': 'Toy Story Collection', ...  30000000   \n",
       "\n",
       "                                              genres  \\\n",
       "0  [{'id': 16, 'name': 'Animation'}, {'id': 35, '...   \n",
       "\n",
       "                               homepage   id    imdb_id original_language  \\\n",
       "0  http://toystory.disney.com/toy-story  862  tt0114709                en   \n",
       "\n",
       "  original_title                                           overview  ...  \\\n",
       "0      Toy Story  Led by Woody, Andy's toys live happily in his ...  ...   \n",
       "\n",
       "   release_date    revenue runtime                          spoken_languages  \\\n",
       "0    1995-10-30  373554033      81  [{'iso_639_1': 'en', 'name': 'English'}]   \n",
       "\n",
       "     status  tagline      title  video vote_average vote_count  \n",
       "0  Released     <NA>  Toy Story  False          7.7       5415  \n",
       "\n",
       "[1 rows x 24 columns]"
      ]
     },
     "execution_count": 14,
     "metadata": {},
     "output_type": "execute_result"
    }
   ],
   "source": [
    "movieLens_movies = read_dataframe(name='movieLens/movies', preprocess=True)\n",
    "movieLens_movies.info()\n",
    "movieLens_movies.head(1)"
   ]
  },
  {
   "cell_type": "markdown",
   "id": "bd2c97d8",
   "metadata": {},
   "source": [
    "### Unused MovieLens (4/5)"
   ]
  },
  {
   "cell_type": "code",
   "execution_count": 15,
   "id": "3d2e3b20",
   "metadata": {},
   "outputs": [
    {
     "name": "stdout",
     "output_type": "stream",
     "text": [
      "<class 'pandas.core.frame.DataFrame'>\n",
      "RangeIndex: 45476 entries, 0 to 45475\n",
      "Data columns (total 3 columns):\n",
      " #   Column  Non-Null Count  Dtype \n",
      "---  ------  --------------  ----- \n",
      " 0   cast    45476 non-null  string\n",
      " 1   crew    45476 non-null  string\n",
      " 2   id      45476 non-null  int32 \n",
      "dtypes: int32(1), string(2)\n",
      "memory usage: 888.3 KB\n"
     ]
    },
    {
     "data": {
      "text/html": [
       "<div>\n",
       "<style scoped>\n",
       "    .dataframe tbody tr th:only-of-type {\n",
       "        vertical-align: middle;\n",
       "    }\n",
       "\n",
       "    .dataframe tbody tr th {\n",
       "        vertical-align: top;\n",
       "    }\n",
       "\n",
       "    .dataframe thead th {\n",
       "        text-align: right;\n",
       "    }\n",
       "</style>\n",
       "<table border=\"1\" class=\"dataframe\">\n",
       "  <thead>\n",
       "    <tr style=\"text-align: right;\">\n",
       "      <th></th>\n",
       "      <th>cast</th>\n",
       "      <th>crew</th>\n",
       "      <th>id</th>\n",
       "    </tr>\n",
       "  </thead>\n",
       "  <tbody>\n",
       "    <tr>\n",
       "      <th>0</th>\n",
       "      <td>[{'cast_id': 14, 'character': 'Woody (voice)',...</td>\n",
       "      <td>[{'credit_id': '52fe4284c3a36847f8024f49', 'de...</td>\n",
       "      <td>862</td>\n",
       "    </tr>\n",
       "  </tbody>\n",
       "</table>\n",
       "</div>"
      ],
      "text/plain": [
       "                                                cast  \\\n",
       "0  [{'cast_id': 14, 'character': 'Woody (voice)',...   \n",
       "\n",
       "                                                crew   id  \n",
       "0  [{'credit_id': '52fe4284c3a36847f8024f49', 'de...  862  "
      ]
     },
     "execution_count": 15,
     "metadata": {},
     "output_type": "execute_result"
    }
   ],
   "source": [
    "movieLens_credits = read_dataframe('movieLens/credits')\n",
    "movieLens_credits.info()\n",
    "movieLens_credits.head(1)"
   ]
  },
  {
   "cell_type": "code",
   "execution_count": 16,
   "id": "e50431cb",
   "metadata": {},
   "outputs": [
    {
     "name": "stdout",
     "output_type": "stream",
     "text": [
      "<class 'pandas.core.frame.DataFrame'>\n",
      "RangeIndex: 46419 entries, 0 to 46418\n",
      "Data columns (total 2 columns):\n",
      " #   Column    Non-Null Count  Dtype \n",
      "---  ------    --------------  ----- \n",
      " 0   id        46419 non-null  int32 \n",
      " 1   keywords  46419 non-null  string\n",
      "dtypes: int32(1), string(1)\n",
      "memory usage: 544.1 KB\n"
     ]
    },
    {
     "data": {
      "text/html": [
       "<div>\n",
       "<style scoped>\n",
       "    .dataframe tbody tr th:only-of-type {\n",
       "        vertical-align: middle;\n",
       "    }\n",
       "\n",
       "    .dataframe tbody tr th {\n",
       "        vertical-align: top;\n",
       "    }\n",
       "\n",
       "    .dataframe thead th {\n",
       "        text-align: right;\n",
       "    }\n",
       "</style>\n",
       "<table border=\"1\" class=\"dataframe\">\n",
       "  <thead>\n",
       "    <tr style=\"text-align: right;\">\n",
       "      <th></th>\n",
       "      <th>id</th>\n",
       "      <th>keywords</th>\n",
       "    </tr>\n",
       "  </thead>\n",
       "  <tbody>\n",
       "    <tr>\n",
       "      <th>0</th>\n",
       "      <td>862</td>\n",
       "      <td>[{'id': 931, 'name': 'jealousy'}, {'id': 4290,...</td>\n",
       "    </tr>\n",
       "  </tbody>\n",
       "</table>\n",
       "</div>"
      ],
      "text/plain": [
       "    id                                           keywords\n",
       "0  862  [{'id': 931, 'name': 'jealousy'}, {'id': 4290,..."
      ]
     },
     "execution_count": 16,
     "metadata": {},
     "output_type": "execute_result"
    }
   ],
   "source": [
    "movieLens_keywords = read_dataframe('movieLens/keywords')\n",
    "movieLens_keywords.info()\n",
    "movieLens_keywords.head(1)"
   ]
  },
  {
   "cell_type": "code",
   "execution_count": 17,
   "id": "b88cc824",
   "metadata": {},
   "outputs": [
    {
     "name": "stdout",
     "output_type": "stream",
     "text": [
      "<class 'pandas.core.frame.DataFrame'>\n",
      "RangeIndex: 45843 entries, 0 to 45842\n",
      "Data columns (total 3 columns):\n",
      " #   Column   Non-Null Count  Dtype \n",
      "---  ------   --------------  ----- \n",
      " 0   movieId  45843 non-null  int32 \n",
      " 1   imdbId   45843 non-null  string\n",
      " 2   tmdbId   45624 non-null  Int32 \n",
      "dtypes: Int32(1), int32(1), string(1)\n",
      "memory usage: 761.2 KB\n"
     ]
    },
    {
     "data": {
      "text/html": [
       "<div>\n",
       "<style scoped>\n",
       "    .dataframe tbody tr th:only-of-type {\n",
       "        vertical-align: middle;\n",
       "    }\n",
       "\n",
       "    .dataframe tbody tr th {\n",
       "        vertical-align: top;\n",
       "    }\n",
       "\n",
       "    .dataframe thead th {\n",
       "        text-align: right;\n",
       "    }\n",
       "</style>\n",
       "<table border=\"1\" class=\"dataframe\">\n",
       "  <thead>\n",
       "    <tr style=\"text-align: right;\">\n",
       "      <th></th>\n",
       "      <th>movieId</th>\n",
       "      <th>imdbId</th>\n",
       "      <th>tmdbId</th>\n",
       "    </tr>\n",
       "  </thead>\n",
       "  <tbody>\n",
       "    <tr>\n",
       "      <th>0</th>\n",
       "      <td>1</td>\n",
       "      <td>tt0114709</td>\n",
       "      <td>862</td>\n",
       "    </tr>\n",
       "  </tbody>\n",
       "</table>\n",
       "</div>"
      ],
      "text/plain": [
       "   movieId     imdbId  tmdbId\n",
       "0        1  tt0114709     862"
      ]
     },
     "execution_count": 17,
     "metadata": {},
     "output_type": "execute_result"
    }
   ],
   "source": [
    "movieLens_links = read_dataframe('movieLens/links', preprocess=True)\n",
    "movieLens_links.info()\n",
    "movieLens_links.head(1)"
   ]
  },
  {
   "cell_type": "code",
   "execution_count": 18,
   "id": "96c9002b",
   "metadata": {},
   "outputs": [
    {
     "name": "stdout",
     "output_type": "stream",
     "text": [
      "<class 'pandas.core.frame.DataFrame'>\n",
      "RangeIndex: 26024289 entries, 0 to 26024288\n",
      "Data columns (total 4 columns):\n",
      " #   Column     Dtype  \n",
      "---  ------     -----  \n",
      " 0   userId     int32  \n",
      " 1   movieId    int32  \n",
      " 2   rating     float32\n",
      " 3   timestamp  int32  \n",
      "dtypes: float32(1), int32(3)\n",
      "memory usage: 397.1 MB\n"
     ]
    },
    {
     "data": {
      "text/html": [
       "<div>\n",
       "<style scoped>\n",
       "    .dataframe tbody tr th:only-of-type {\n",
       "        vertical-align: middle;\n",
       "    }\n",
       "\n",
       "    .dataframe tbody tr th {\n",
       "        vertical-align: top;\n",
       "    }\n",
       "\n",
       "    .dataframe thead th {\n",
       "        text-align: right;\n",
       "    }\n",
       "</style>\n",
       "<table border=\"1\" class=\"dataframe\">\n",
       "  <thead>\n",
       "    <tr style=\"text-align: right;\">\n",
       "      <th></th>\n",
       "      <th>userId</th>\n",
       "      <th>movieId</th>\n",
       "      <th>rating</th>\n",
       "      <th>timestamp</th>\n",
       "    </tr>\n",
       "  </thead>\n",
       "  <tbody>\n",
       "    <tr>\n",
       "      <th>0</th>\n",
       "      <td>1</td>\n",
       "      <td>110</td>\n",
       "      <td>1.0</td>\n",
       "      <td>1425941529</td>\n",
       "    </tr>\n",
       "  </tbody>\n",
       "</table>\n",
       "</div>"
      ],
      "text/plain": [
       "   userId  movieId  rating   timestamp\n",
       "0       1      110     1.0  1425941529"
      ]
     },
     "execution_count": 18,
     "metadata": {},
     "output_type": "execute_result"
    }
   ],
   "source": [
    "movieLens_ratings = read_dataframe('movieLens/ratings')\n",
    "movieLens_ratings.info()\n",
    "movieLens_ratings.head(1)"
   ]
  },
  {
   "cell_type": "markdown",
   "id": "6792e6f6",
   "metadata": {},
   "source": [
    "### CMU Summaries NLP"
   ]
  },
  {
   "cell_type": "code",
   "execution_count": 19,
   "id": "816d7e60",
   "metadata": {},
   "outputs": [
    {
     "name": "stdout",
     "output_type": "stream",
     "text": [
      "<class 'pandas.core.frame.DataFrame'>\n",
      "RangeIndex: 42303 entries, 0 to 42302\n",
      "Data columns (total 2 columns):\n",
      " #   Column              Non-Null Count  Dtype \n",
      "---  ------              --------------  ----- \n",
      " 0   Wikipedia movie ID  42303 non-null  int32 \n",
      " 1   Plot Summary        42303 non-null  string\n",
      "dtypes: int32(1), string(1)\n",
      "memory usage: 495.9 KB\n",
      "<class 'pandas.core.frame.DataFrame'>\n",
      "RangeIndex: 2666 entries, 0 to 2665\n",
      "Data columns (total 2 columns):\n",
      " #   Column                           Non-Null Count  Dtype \n",
      "---  ------                           --------------  ----- \n",
      " 0   Character name                   2666 non-null   string\n",
      " 1   Freebase character/actor map ID  2666 non-null   string\n",
      "dtypes: string(2)\n",
      "memory usage: 41.8 KB\n",
      "<class 'pandas.core.frame.DataFrame'>\n",
      "RangeIndex: 501 entries, 0 to 500\n",
      "Data columns (total 5 columns):\n",
      " #   Column                           Non-Null Count  Dtype \n",
      "---  ------                           --------------  ----- \n",
      " 0   Character type                   501 non-null    string\n",
      " 1   Character name                   501 non-null    string\n",
      " 2   Movie name                       501 non-null    string\n",
      " 3   Freebase character/actor map ID  501 non-null    string\n",
      " 4   Actor name                       501 non-null    string\n",
      "dtypes: string(5)\n",
      "memory usage: 19.7 KB\n"
     ]
    }
   ],
   "source": [
    "cmu_summaries = read_dataframe(name='cmu/summaries', usecols=[\n",
    "    \"Wikipedia movie ID\", \n",
    "    \"Plot Summary\"\n",
    "])\n",
    "cmu_summaries.info()\n",
    "\n",
    "cmu_nameclusters = read_dataframe(name='cmu/nameclusters', usecols=['Character name', 'Freebase character/actor map ID'])\n",
    "cmu_nameclusters.info()\n",
    "\n",
    "cmu_tvtropes = read_dataframe(name='cmu/tvtropes')\n",
    "cmu_tvtropes.info()"
   ]
  },
  {
   "cell_type": "code",
   "execution_count": 20,
   "id": "e8befe8b",
   "metadata": {},
   "outputs": [
    {
     "name": "stdout",
     "output_type": "stream",
     "text": [
      "<class 'pandas.core.frame.DataFrame'>\n",
      "RangeIndex: 229420 entries, 0 to 229419\n",
      "Data columns (total 5 columns):\n",
      " #   Column              Non-Null Count   Dtype \n",
      "---  ------              --------------   ----- \n",
      " 0   Wikipedia_movie_id  229420 non-null  int64 \n",
      " 1   Character           229420 non-null  object\n",
      " 2   AV                  229420 non-null  object\n",
      " 3   PV                  229420 non-null  object\n",
      " 4   Att                 229420 non-null  object\n",
      "dtypes: int64(1), object(4)\n",
      "memory usage: 8.8+ MB\n"
     ]
    },
    {
     "data": {
      "text/html": [
       "<div>\n",
       "<style scoped>\n",
       "    .dataframe tbody tr th:only-of-type {\n",
       "        vertical-align: middle;\n",
       "    }\n",
       "\n",
       "    .dataframe tbody tr th {\n",
       "        vertical-align: top;\n",
       "    }\n",
       "\n",
       "    .dataframe thead th {\n",
       "        text-align: right;\n",
       "    }\n",
       "</style>\n",
       "<table border=\"1\" class=\"dataframe\">\n",
       "  <thead>\n",
       "    <tr style=\"text-align: right;\">\n",
       "      <th></th>\n",
       "      <th>Wikipedia_movie_id</th>\n",
       "      <th>Character</th>\n",
       "      <th>AV</th>\n",
       "      <th>PV</th>\n",
       "      <th>Att</th>\n",
       "    </tr>\n",
       "  </thead>\n",
       "  <tbody>\n",
       "    <tr>\n",
       "      <th>0</th>\n",
       "      <td>11784534</td>\n",
       "      <td>Ingrid Bergman</td>\n",
       "      <td>[]</td>\n",
       "      <td>[]</td>\n",
       "      <td>[Ingrid, Bergman]</td>\n",
       "    </tr>\n",
       "  </tbody>\n",
       "</table>\n",
       "</div>"
      ],
      "text/plain": [
       "   Wikipedia_movie_id       Character  AV  PV                Att\n",
       "0            11784534  Ingrid Bergman  []  []  [Ingrid, Bergman]"
      ]
     },
     "execution_count": 20,
     "metadata": {},
     "output_type": "execute_result"
    }
   ],
   "source": [
    "cmu_characters = read_dataframe('cmu/characters_2023')\n",
    "cmu_characters.info()\n",
    "cmu_characters.head(1)"
   ]
  },
  {
   "cell_type": "markdown",
   "id": "db2b29a6",
   "metadata": {},
   "source": [
    "## Merged Dataframes"
   ]
  },
  {
   "cell_type": "markdown",
   "id": "584eb1cd",
   "metadata": {},
   "source": [
    "### Mappings preliminary analysis"
   ]
  },
  {
   "cell_type": "code",
   "execution_count": 21,
   "id": "1721cedf",
   "metadata": {},
   "outputs": [
    {
     "data": {
      "text/plain": [
       "wikipedia     True\n",
       "imdb         False\n",
       "freebase      True\n",
       "dtype: bool"
      ]
     },
     "execution_count": 21,
     "metadata": {},
     "output_type": "execute_result"
    }
   ],
   "source": [
    "mapping_w_i_f.isna().any()"
   ]
  },
  {
   "cell_type": "code",
   "execution_count": 22,
   "id": "a3e023e2",
   "metadata": {},
   "outputs": [
    {
     "data": {
      "text/plain": [
       "wikipedia    False\n",
       "imdb         False\n",
       "dtype: bool"
      ]
     },
     "execution_count": 22,
     "metadata": {},
     "output_type": "execute_result"
    }
   ],
   "source": [
    "mapping_w_i.isna().any()"
   ]
  },
  {
   "cell_type": "code",
   "execution_count": 23,
   "id": "28409ef4",
   "metadata": {},
   "outputs": [
    {
     "data": {
      "text/plain": [
       "freebase    False\n",
       "imdb        False\n",
       "dtype: bool"
      ]
     },
     "execution_count": 23,
     "metadata": {},
     "output_type": "execute_result"
    }
   ],
   "source": [
    "mapping_f_i.isna().any()"
   ]
  },
  {
   "cell_type": "code",
   "execution_count": 24,
   "id": "7cae0e9d",
   "metadata": {},
   "outputs": [
    {
     "data": {
      "text/plain": [
       "(76954, 72180, 73894)"
      ]
     },
     "execution_count": 24,
     "metadata": {},
     "output_type": "execute_result"
    }
   ],
   "source": [
    "len(mapping_w_i_f), len(mapping_w_i), len(mapping_f_i)"
   ]
  },
  {
   "cell_type": "code",
   "execution_count": 25,
   "id": "c04aba61",
   "metadata": {},
   "outputs": [
    {
     "data": {
      "text/plain": [
       "(72180, 69121, 73759)"
      ]
     },
     "execution_count": 25,
     "metadata": {},
     "output_type": "execute_result"
    }
   ],
   "source": [
    "w_ids_from_w_i_f = set(mapping_w_i_f['wikipedia'])\n",
    "i_ids_from_w_i_f = set(mapping_w_i_f['imdb']) # tconst\n",
    "f_ids_from_w_i_f = set(mapping_w_i_f['freebase'])\n",
    "\n",
    "w_ids_from_w_i = set(mapping_w_i['wikipedia'])\n",
    "i_ids_from_w_i = set(mapping_w_i['imdb']) # tconst\n",
    "\n",
    "f_ids_from_f_i = set(mapping_f_i['freebase'])\n",
    "i_ids_from_f_i = set(mapping_f_i['imdb']) # # tconst\n",
    "\n",
    "\n",
    "# Intersections involving Wikipedia IDs\n",
    "intersection_w = w_ids_from_w_i_f.intersection(w_ids_from_w_i)\n",
    "\n",
    "# Intersections involving IMDb IDs\n",
    "intersection_i = i_ids_from_w_i_f.intersection(i_ids_from_w_i, i_ids_from_f_i)\n",
    "\n",
    "# Intersections involving Freebase IDs\n",
    "intersection_f = f_ids_from_w_i_f.intersection(f_ids_from_f_i)\n",
    "\n",
    "len(intersection_w), len(intersection_i), len(intersection_f)"
   ]
  },
  {
   "cell_type": "code",
   "execution_count": 26,
   "id": "2271389a",
   "metadata": {},
   "outputs": [
    {
     "data": {
      "text/plain": [
       "69182"
      ]
     },
     "execution_count": 26,
     "metadata": {},
     "output_type": "execute_result"
    }
   ],
   "source": [
    "len(mapping_w_i_f.dropna())\n",
    "# equivalent to pd.merge(mapping_w_i, mapping_f_i, left_on=\"imdb\", right_on=\"imdb\", how=\"inner\")"
   ]
  },
  {
   "cell_type": "markdown",
   "id": "3e6b1f0d",
   "metadata": {},
   "source": [
    "<a class=\"anchor\" id=\"merged\"></a>\n",
    "## CMU IMDb movie merge\n",
    "\n",
    "[Back to Table of Contents](#Contents)"
   ]
  },
  {
   "cell_type": "markdown",
   "id": "3eb8b216",
   "metadata": {},
   "source": [
    "### 1) Using \"wikipedia\" and \"imdb\" of mapping_w_i"
   ]
  },
  {
   "cell_type": "code",
   "execution_count": 27,
   "id": "63f0fe45",
   "metadata": {},
   "outputs": [
    {
     "name": "stdout",
     "output_type": "stream",
     "text": [
      "<class 'pandas.core.frame.DataFrame'>\n",
      "RangeIndex: 72003 entries, 0 to 72002\n",
      "Data columns (total 20 columns):\n",
      " #   Column                    Non-Null Count  Dtype   \n",
      "---  ------                    --------------  -----   \n",
      " 0   Wikipedia movie ID        72003 non-null  int32   \n",
      " 1   Freebase movie ID         72003 non-null  string  \n",
      " 2   Movie name                72003 non-null  string  \n",
      " 3   Movie box office revenue  8329 non-null   float64 \n",
      " 4   Movie runtime             56527 non-null  float32 \n",
      " 5   Movie release Year        67169 non-null  Int16   \n",
      " 6   Movie release Month       39293 non-null  Int8    \n",
      " 7   Movie release Day         36235 non-null  Int8    \n",
      " 8   Movie languages           72003 non-null  string  \n",
      " 9   Movie countries           72003 non-null  string  \n",
      " 10  Movie genres              72003 non-null  string  \n",
      " 11  tconst                    72003 non-null  string  \n",
      " 12  titleType                 72003 non-null  category\n",
      " 13  primaryTitle              72003 non-null  string  \n",
      " 14  originalTitle             72003 non-null  string  \n",
      " 15  isAdult                   72003 non-null  Int16   \n",
      " 16  startYear                 71988 non-null  Int16   \n",
      " 17  endYear                   475 non-null    Int16   \n",
      " 18  runtimeMinutes            67007 non-null  Int32   \n",
      " 19  genres                    70395 non-null  string  \n",
      "dtypes: Int16(4), Int32(1), Int8(2), category(1), float32(1), float64(1), int32(1), string(9)\n",
      "memory usage: 7.6 MB\n"
     ]
    },
    {
     "data": {
      "text/html": [
       "<div>\n",
       "<style scoped>\n",
       "    .dataframe tbody tr th:only-of-type {\n",
       "        vertical-align: middle;\n",
       "    }\n",
       "\n",
       "    .dataframe tbody tr th {\n",
       "        vertical-align: top;\n",
       "    }\n",
       "\n",
       "    .dataframe thead th {\n",
       "        text-align: right;\n",
       "    }\n",
       "</style>\n",
       "<table border=\"1\" class=\"dataframe\">\n",
       "  <thead>\n",
       "    <tr style=\"text-align: right;\">\n",
       "      <th></th>\n",
       "      <th>Wikipedia movie ID</th>\n",
       "      <th>Freebase movie ID</th>\n",
       "      <th>Movie name</th>\n",
       "      <th>Movie box office revenue</th>\n",
       "      <th>Movie runtime</th>\n",
       "      <th>Movie release Year</th>\n",
       "      <th>Movie release Month</th>\n",
       "      <th>Movie release Day</th>\n",
       "      <th>Movie languages</th>\n",
       "      <th>Movie countries</th>\n",
       "      <th>Movie genres</th>\n",
       "      <th>tconst</th>\n",
       "      <th>titleType</th>\n",
       "      <th>primaryTitle</th>\n",
       "      <th>originalTitle</th>\n",
       "      <th>isAdult</th>\n",
       "      <th>startYear</th>\n",
       "      <th>endYear</th>\n",
       "      <th>runtimeMinutes</th>\n",
       "      <th>genres</th>\n",
       "    </tr>\n",
       "  </thead>\n",
       "  <tbody>\n",
       "    <tr>\n",
       "      <th>0</th>\n",
       "      <td>975900</td>\n",
       "      <td>/m/03vyhn</td>\n",
       "      <td>Ghosts of Mars</td>\n",
       "      <td>14010832.0</td>\n",
       "      <td>98.0</td>\n",
       "      <td>2001</td>\n",
       "      <td>8</td>\n",
       "      <td>24</td>\n",
       "      <td>English</td>\n",
       "      <td>United States of America</td>\n",
       "      <td>Thriller,Science Fiction,Horror,Adventure,Supe...</td>\n",
       "      <td>tt0228333</td>\n",
       "      <td>movie</td>\n",
       "      <td>Ghosts of Mars</td>\n",
       "      <td>Ghosts of Mars</td>\n",
       "      <td>0</td>\n",
       "      <td>2001</td>\n",
       "      <td>&lt;NA&gt;</td>\n",
       "      <td>98</td>\n",
       "      <td>Action,Horror,Sci-Fi</td>\n",
       "    </tr>\n",
       "  </tbody>\n",
       "</table>\n",
       "</div>"
      ],
      "text/plain": [
       "   Wikipedia movie ID Freebase movie ID      Movie name  \\\n",
       "0              975900         /m/03vyhn  Ghosts of Mars   \n",
       "\n",
       "   Movie box office revenue  Movie runtime  Movie release Year  \\\n",
       "0                14010832.0           98.0                2001   \n",
       "\n",
       "   Movie release Month  Movie release Day Movie languages  \\\n",
       "0                    8                 24         English   \n",
       "\n",
       "            Movie countries  \\\n",
       "0  United States of America   \n",
       "\n",
       "                                        Movie genres     tconst titleType  \\\n",
       "0  Thriller,Science Fiction,Horror,Adventure,Supe...  tt0228333     movie   \n",
       "\n",
       "     primaryTitle   originalTitle  isAdult  startYear  endYear  \\\n",
       "0  Ghosts of Mars  Ghosts of Mars        0       2001     <NA>   \n",
       "\n",
       "   runtimeMinutes                genres  \n",
       "0              98  Action,Horror,Sci-Fi  "
      ]
     },
     "execution_count": 27,
     "metadata": {},
     "output_type": "execute_result"
    }
   ],
   "source": [
    "cmu_movies['Wikipedia movie ID'] = cmu_movies['Wikipedia movie ID'].astype('int64')\n",
    "mapping_w_i['wikipedia'] = mapping_w_i['wikipedia'].astype('int64')\n",
    "\n",
    "merged_df = pd.merge(cmu_movies, mapping_w_i, left_on='Wikipedia movie ID', right_on='wikipedia', how='inner')\n",
    "\n",
    "cmu_imdb_movies = pd.merge(merged_df, imdb_info, left_on='imdb', right_on='tconst', how='inner')\n",
    "cmu_imdb_movies.drop(['wikipedia', 'imdb'], axis=1, inplace=True)\n",
    "\n",
    "cmu_movies[\"Wikipedia movie ID\"] = pd.to_numeric(cmu_movies[\"Wikipedia movie ID\"], downcast='integer')\n",
    "mapping_w_i[\"wikipedia\"] = pd.to_numeric(mapping_w_i[\"wikipedia\"], downcast='integer')\n",
    "cmu_imdb_movies[\"Wikipedia movie ID\"] = pd.to_numeric(cmu_imdb_movies[\"Wikipedia movie ID\"], downcast='integer')\n",
    "\n",
    "del merged_df\n",
    "gc.collect()\n",
    "\n",
    "cmu_imdb_movies.info()\n",
    "cmu_imdb_movies.head(1)"
   ]
  },
  {
   "cell_type": "markdown",
   "id": "0eeb7c32",
   "metadata": {},
   "source": [
    "### 2) Using \"freebase\" and \"imdb\" of mapping_f_i"
   ]
  },
  {
   "cell_type": "code",
   "execution_count": 28,
   "id": "f9a931d9",
   "metadata": {},
   "outputs": [
    {
     "name": "stdout",
     "output_type": "stream",
     "text": [
      "<class 'pandas.core.frame.DataFrame'>\n",
      "RangeIndex: 73881 entries, 0 to 73880\n",
      "Data columns (total 20 columns):\n",
      " #   Column                    Non-Null Count  Dtype   \n",
      "---  ------                    --------------  -----   \n",
      " 0   Wikipedia movie ID        73881 non-null  int32   \n",
      " 1   Freebase movie ID         73881 non-null  string  \n",
      " 2   Movie name                73881 non-null  string  \n",
      " 3   Movie box office revenue  8329 non-null   float64 \n",
      " 4   Movie runtime             56932 non-null  float32 \n",
      " 5   Movie release Year        68860 non-null  Int16   \n",
      " 6   Movie release Month       39996 non-null  Int8    \n",
      " 7   Movie release Day         36964 non-null  Int8    \n",
      " 8   Movie languages           73881 non-null  string  \n",
      " 9   Movie countries           73881 non-null  string  \n",
      " 10  Movie genres              73881 non-null  string  \n",
      " 11  tconst                    73881 non-null  string  \n",
      " 12  titleType                 73881 non-null  category\n",
      " 13  primaryTitle              73881 non-null  string  \n",
      " 14  originalTitle             73881 non-null  string  \n",
      " 15  isAdult                   73881 non-null  Int16   \n",
      " 16  startYear                 73844 non-null  Int16   \n",
      " 17  endYear                   512 non-null    Int16   \n",
      " 18  runtimeMinutes            68270 non-null  Int32   \n",
      " 19  genres                    72101 non-null  string  \n",
      "dtypes: Int16(4), Int32(1), Int8(2), category(1), float32(1), float64(1), int32(1), string(9)\n",
      "memory usage: 7.8 MB\n"
     ]
    },
    {
     "data": {
      "text/html": [
       "<div>\n",
       "<style scoped>\n",
       "    .dataframe tbody tr th:only-of-type {\n",
       "        vertical-align: middle;\n",
       "    }\n",
       "\n",
       "    .dataframe tbody tr th {\n",
       "        vertical-align: top;\n",
       "    }\n",
       "\n",
       "    .dataframe thead th {\n",
       "        text-align: right;\n",
       "    }\n",
       "</style>\n",
       "<table border=\"1\" class=\"dataframe\">\n",
       "  <thead>\n",
       "    <tr style=\"text-align: right;\">\n",
       "      <th></th>\n",
       "      <th>Wikipedia movie ID</th>\n",
       "      <th>Freebase movie ID</th>\n",
       "      <th>Movie name</th>\n",
       "      <th>Movie box office revenue</th>\n",
       "      <th>Movie runtime</th>\n",
       "      <th>Movie release Year</th>\n",
       "      <th>Movie release Month</th>\n",
       "      <th>Movie release Day</th>\n",
       "      <th>Movie languages</th>\n",
       "      <th>Movie countries</th>\n",
       "      <th>Movie genres</th>\n",
       "      <th>tconst</th>\n",
       "      <th>titleType</th>\n",
       "      <th>primaryTitle</th>\n",
       "      <th>originalTitle</th>\n",
       "      <th>isAdult</th>\n",
       "      <th>startYear</th>\n",
       "      <th>endYear</th>\n",
       "      <th>runtimeMinutes</th>\n",
       "      <th>genres</th>\n",
       "    </tr>\n",
       "  </thead>\n",
       "  <tbody>\n",
       "    <tr>\n",
       "      <th>0</th>\n",
       "      <td>975900</td>\n",
       "      <td>/m/03vyhn</td>\n",
       "      <td>Ghosts of Mars</td>\n",
       "      <td>14010832.0</td>\n",
       "      <td>98.0</td>\n",
       "      <td>2001</td>\n",
       "      <td>8</td>\n",
       "      <td>24</td>\n",
       "      <td>English</td>\n",
       "      <td>United States of America</td>\n",
       "      <td>Thriller,Science Fiction,Horror,Adventure,Supe...</td>\n",
       "      <td>tt0228333</td>\n",
       "      <td>movie</td>\n",
       "      <td>Ghosts of Mars</td>\n",
       "      <td>Ghosts of Mars</td>\n",
       "      <td>0</td>\n",
       "      <td>2001</td>\n",
       "      <td>&lt;NA&gt;</td>\n",
       "      <td>98</td>\n",
       "      <td>Action,Horror,Sci-Fi</td>\n",
       "    </tr>\n",
       "  </tbody>\n",
       "</table>\n",
       "</div>"
      ],
      "text/plain": [
       "   Wikipedia movie ID Freebase movie ID      Movie name  \\\n",
       "0              975900         /m/03vyhn  Ghosts of Mars   \n",
       "\n",
       "   Movie box office revenue  Movie runtime  Movie release Year  \\\n",
       "0                14010832.0           98.0                2001   \n",
       "\n",
       "   Movie release Month  Movie release Day Movie languages  \\\n",
       "0                    8                 24         English   \n",
       "\n",
       "            Movie countries  \\\n",
       "0  United States of America   \n",
       "\n",
       "                                        Movie genres     tconst titleType  \\\n",
       "0  Thriller,Science Fiction,Horror,Adventure,Supe...  tt0228333     movie   \n",
       "\n",
       "     primaryTitle   originalTitle  isAdult  startYear  endYear  \\\n",
       "0  Ghosts of Mars  Ghosts of Mars        0       2001     <NA>   \n",
       "\n",
       "   runtimeMinutes                genres  \n",
       "0              98  Action,Horror,Sci-Fi  "
      ]
     },
     "execution_count": 28,
     "metadata": {},
     "output_type": "execute_result"
    }
   ],
   "source": [
    "merged_df = pd.merge(cmu_movies, mapping_f_i, left_on='Freebase movie ID', right_on='freebase', how='inner')\n",
    "\n",
    "cmu_imdb_movies_v2 = pd.merge(merged_df, imdb_info, left_on='imdb', right_on='tconst', how='inner')\n",
    "\n",
    "cmu_imdb_movies_v2.drop(['freebase', 'imdb'], axis=1, inplace=True)\n",
    "\n",
    "del merged_df\n",
    "gc.collect()\n",
    "\n",
    "cmu_imdb_movies_v2.info()\n",
    "cmu_imdb_movies_v2.head(1)"
   ]
  },
  {
   "cell_type": "markdown",
   "id": "a4fb102e",
   "metadata": {},
   "source": [
    "### 3) Using \"wikipedia\" and \"imdb\" of mapping_w_i_f"
   ]
  },
  {
   "cell_type": "code",
   "execution_count": 29,
   "id": "5fa180f6",
   "metadata": {},
   "outputs": [
    {
     "name": "stdout",
     "output_type": "stream",
     "text": [
      "<class 'pandas.core.frame.DataFrame'>\n",
      "RangeIndex: 72012 entries, 0 to 72011\n",
      "Data columns (total 21 columns):\n",
      " #   Column                    Non-Null Count  Dtype   \n",
      "---  ------                    --------------  -----   \n",
      " 0   Wikipedia movie ID        72012 non-null  int32   \n",
      " 1   Freebase movie ID         72012 non-null  string  \n",
      " 2   Movie name                72012 non-null  string  \n",
      " 3   Movie box office revenue  8330 non-null   float64 \n",
      " 4   Movie runtime             56532 non-null  float32 \n",
      " 5   Movie release Year        67178 non-null  Int16   \n",
      " 6   Movie release Month       39299 non-null  Int8    \n",
      " 7   Movie release Day         36241 non-null  Int8    \n",
      " 8   Movie languages           72012 non-null  string  \n",
      " 9   Movie countries           72012 non-null  string  \n",
      " 10  Movie genres              72012 non-null  string  \n",
      " 11  freebase                  69177 non-null  string  \n",
      " 12  tconst                    72012 non-null  string  \n",
      " 13  titleType                 72012 non-null  category\n",
      " 14  primaryTitle              72012 non-null  string  \n",
      " 15  originalTitle             72012 non-null  string  \n",
      " 16  isAdult                   72012 non-null  Int16   \n",
      " 17  startYear                 71997 non-null  Int16   \n",
      " 18  endYear                   475 non-null    Int16   \n",
      " 19  runtimeMinutes            67015 non-null  Int32   \n",
      " 20  genres                    70404 non-null  string  \n",
      "dtypes: Int16(4), Int32(1), Int8(2), category(1), float32(1), float64(1), int32(1), string(10)\n",
      "memory usage: 8.1 MB\n"
     ]
    },
    {
     "data": {
      "text/html": [
       "<div>\n",
       "<style scoped>\n",
       "    .dataframe tbody tr th:only-of-type {\n",
       "        vertical-align: middle;\n",
       "    }\n",
       "\n",
       "    .dataframe tbody tr th {\n",
       "        vertical-align: top;\n",
       "    }\n",
       "\n",
       "    .dataframe thead th {\n",
       "        text-align: right;\n",
       "    }\n",
       "</style>\n",
       "<table border=\"1\" class=\"dataframe\">\n",
       "  <thead>\n",
       "    <tr style=\"text-align: right;\">\n",
       "      <th></th>\n",
       "      <th>Wikipedia movie ID</th>\n",
       "      <th>Freebase movie ID</th>\n",
       "      <th>Movie name</th>\n",
       "      <th>Movie box office revenue</th>\n",
       "      <th>Movie runtime</th>\n",
       "      <th>Movie release Year</th>\n",
       "      <th>Movie release Month</th>\n",
       "      <th>Movie release Day</th>\n",
       "      <th>Movie languages</th>\n",
       "      <th>Movie countries</th>\n",
       "      <th>...</th>\n",
       "      <th>freebase</th>\n",
       "      <th>tconst</th>\n",
       "      <th>titleType</th>\n",
       "      <th>primaryTitle</th>\n",
       "      <th>originalTitle</th>\n",
       "      <th>isAdult</th>\n",
       "      <th>startYear</th>\n",
       "      <th>endYear</th>\n",
       "      <th>runtimeMinutes</th>\n",
       "      <th>genres</th>\n",
       "    </tr>\n",
       "  </thead>\n",
       "  <tbody>\n",
       "    <tr>\n",
       "      <th>0</th>\n",
       "      <td>975900</td>\n",
       "      <td>/m/03vyhn</td>\n",
       "      <td>Ghosts of Mars</td>\n",
       "      <td>14010832.0</td>\n",
       "      <td>98.0</td>\n",
       "      <td>2001</td>\n",
       "      <td>8</td>\n",
       "      <td>24</td>\n",
       "      <td>English</td>\n",
       "      <td>United States of America</td>\n",
       "      <td>...</td>\n",
       "      <td>/m/03vyhn</td>\n",
       "      <td>tt0228333</td>\n",
       "      <td>movie</td>\n",
       "      <td>Ghosts of Mars</td>\n",
       "      <td>Ghosts of Mars</td>\n",
       "      <td>0</td>\n",
       "      <td>2001</td>\n",
       "      <td>&lt;NA&gt;</td>\n",
       "      <td>98</td>\n",
       "      <td>Action,Horror,Sci-Fi</td>\n",
       "    </tr>\n",
       "  </tbody>\n",
       "</table>\n",
       "<p>1 rows × 21 columns</p>\n",
       "</div>"
      ],
      "text/plain": [
       "   Wikipedia movie ID Freebase movie ID      Movie name  \\\n",
       "0              975900         /m/03vyhn  Ghosts of Mars   \n",
       "\n",
       "   Movie box office revenue  Movie runtime  Movie release Year  \\\n",
       "0                14010832.0           98.0                2001   \n",
       "\n",
       "   Movie release Month  Movie release Day Movie languages  \\\n",
       "0                    8                 24         English   \n",
       "\n",
       "            Movie countries  ...   freebase     tconst titleType  \\\n",
       "0  United States of America  ...  /m/03vyhn  tt0228333     movie   \n",
       "\n",
       "     primaryTitle   originalTitle isAdult  startYear  endYear  runtimeMinutes  \\\n",
       "0  Ghosts of Mars  Ghosts of Mars       0       2001     <NA>              98   \n",
       "\n",
       "                 genres  \n",
       "0  Action,Horror,Sci-Fi  \n",
       "\n",
       "[1 rows x 21 columns]"
      ]
     },
     "execution_count": 29,
     "metadata": {},
     "output_type": "execute_result"
    }
   ],
   "source": [
    "cmu_movies['Wikipedia movie ID'] = cmu_movies['Wikipedia movie ID'].astype('int64')\n",
    "mapping_w_i['wikipedia'] = mapping_w_i['wikipedia'].astype('int64')\n",
    "\n",
    "merged_df = pd.merge(cmu_movies, mapping_w_i_f, left_on='Wikipedia movie ID', right_on='wikipedia', how='inner')\n",
    "\n",
    "cmu_imdb_movies_v3 = pd.merge(merged_df, imdb_info, left_on='imdb', right_on='tconst', how='inner')\n",
    "cmu_imdb_movies_v3.drop(['wikipedia', 'imdb'], axis=1, inplace=True)\n",
    "\n",
    "cmu_movies[\"Wikipedia movie ID\"] = pd.to_numeric(cmu_movies[\"Wikipedia movie ID\"], downcast='integer')\n",
    "mapping_w_i[\"wikipedia\"] = pd.to_numeric(mapping_w_i[\"wikipedia\"], downcast='integer')\n",
    "cmu_imdb_movies_v3[\"Wikipedia movie ID\"] = pd.to_numeric(cmu_imdb_movies_v3[\"Wikipedia movie ID\"], downcast='integer')\n",
    "\n",
    "del merged_df\n",
    "gc.collect()\n",
    "\n",
    "cmu_imdb_movies_v3.info()\n",
    "cmu_imdb_movies_v3.head(1)"
   ]
  },
  {
   "cell_type": "markdown",
   "id": "b176bb2b",
   "metadata": {},
   "source": [
    "### 4) Using \"freebase\" and \"imdb\" of mapping_w_i_f"
   ]
  },
  {
   "cell_type": "code",
   "execution_count": 30,
   "id": "f834082a",
   "metadata": {},
   "outputs": [
    {
     "name": "stdout",
     "output_type": "stream",
     "text": [
      "<class 'pandas.core.frame.DataFrame'>\n",
      "RangeIndex: 73934 entries, 0 to 73933\n",
      "Data columns (total 21 columns):\n",
      " #   Column                    Non-Null Count  Dtype   \n",
      "---  ------                    --------------  -----   \n",
      " 0   Wikipedia movie ID        73934 non-null  int32   \n",
      " 1   Freebase movie ID         73934 non-null  string  \n",
      " 2   Movie name                73934 non-null  string  \n",
      " 3   Movie box office revenue  8338 non-null   float64 \n",
      " 4   Movie runtime             56980 non-null  float32 \n",
      " 5   Movie release Year        68911 non-null  Int16   \n",
      " 6   Movie release Month       40030 non-null  Int8    \n",
      " 7   Movie release Day         36996 non-null  Int8    \n",
      " 8   Movie languages           73934 non-null  string  \n",
      " 9   Movie countries           73934 non-null  string  \n",
      " 10  Movie genres              73934 non-null  string  \n",
      " 11  wikipedia                 69177 non-null  Int32   \n",
      " 12  tconst                    73934 non-null  string  \n",
      " 13  titleType                 73934 non-null  category\n",
      " 14  primaryTitle              73934 non-null  string  \n",
      " 15  originalTitle             73934 non-null  string  \n",
      " 16  isAdult                   73934 non-null  Int16   \n",
      " 17  startYear                 73897 non-null  Int16   \n",
      " 18  endYear                   512 non-null    Int16   \n",
      " 19  runtimeMinutes            68322 non-null  Int32   \n",
      " 20  genres                    72153 non-null  string  \n",
      "dtypes: Int16(4), Int32(2), Int8(2), category(1), float32(1), float64(1), int32(1), string(9)\n",
      "memory usage: 8.1 MB\n"
     ]
    },
    {
     "data": {
      "text/html": [
       "<div>\n",
       "<style scoped>\n",
       "    .dataframe tbody tr th:only-of-type {\n",
       "        vertical-align: middle;\n",
       "    }\n",
       "\n",
       "    .dataframe tbody tr th {\n",
       "        vertical-align: top;\n",
       "    }\n",
       "\n",
       "    .dataframe thead th {\n",
       "        text-align: right;\n",
       "    }\n",
       "</style>\n",
       "<table border=\"1\" class=\"dataframe\">\n",
       "  <thead>\n",
       "    <tr style=\"text-align: right;\">\n",
       "      <th></th>\n",
       "      <th>Wikipedia movie ID</th>\n",
       "      <th>Freebase movie ID</th>\n",
       "      <th>Movie name</th>\n",
       "      <th>Movie box office revenue</th>\n",
       "      <th>Movie runtime</th>\n",
       "      <th>Movie release Year</th>\n",
       "      <th>Movie release Month</th>\n",
       "      <th>Movie release Day</th>\n",
       "      <th>Movie languages</th>\n",
       "      <th>Movie countries</th>\n",
       "      <th>...</th>\n",
       "      <th>wikipedia</th>\n",
       "      <th>tconst</th>\n",
       "      <th>titleType</th>\n",
       "      <th>primaryTitle</th>\n",
       "      <th>originalTitle</th>\n",
       "      <th>isAdult</th>\n",
       "      <th>startYear</th>\n",
       "      <th>endYear</th>\n",
       "      <th>runtimeMinutes</th>\n",
       "      <th>genres</th>\n",
       "    </tr>\n",
       "  </thead>\n",
       "  <tbody>\n",
       "    <tr>\n",
       "      <th>0</th>\n",
       "      <td>975900</td>\n",
       "      <td>/m/03vyhn</td>\n",
       "      <td>Ghosts of Mars</td>\n",
       "      <td>14010832.0</td>\n",
       "      <td>98.0</td>\n",
       "      <td>2001</td>\n",
       "      <td>8</td>\n",
       "      <td>24</td>\n",
       "      <td>English</td>\n",
       "      <td>United States of America</td>\n",
       "      <td>...</td>\n",
       "      <td>975900</td>\n",
       "      <td>tt0228333</td>\n",
       "      <td>movie</td>\n",
       "      <td>Ghosts of Mars</td>\n",
       "      <td>Ghosts of Mars</td>\n",
       "      <td>0</td>\n",
       "      <td>2001</td>\n",
       "      <td>&lt;NA&gt;</td>\n",
       "      <td>98</td>\n",
       "      <td>Action,Horror,Sci-Fi</td>\n",
       "    </tr>\n",
       "  </tbody>\n",
       "</table>\n",
       "<p>1 rows × 21 columns</p>\n",
       "</div>"
      ],
      "text/plain": [
       "   Wikipedia movie ID Freebase movie ID      Movie name  \\\n",
       "0              975900         /m/03vyhn  Ghosts of Mars   \n",
       "\n",
       "   Movie box office revenue  Movie runtime  Movie release Year  \\\n",
       "0                14010832.0           98.0                2001   \n",
       "\n",
       "   Movie release Month  Movie release Day Movie languages  \\\n",
       "0                    8                 24         English   \n",
       "\n",
       "            Movie countries  ... wikipedia     tconst titleType  \\\n",
       "0  United States of America  ...    975900  tt0228333     movie   \n",
       "\n",
       "     primaryTitle   originalTitle isAdult  startYear  endYear  runtimeMinutes  \\\n",
       "0  Ghosts of Mars  Ghosts of Mars       0       2001     <NA>              98   \n",
       "\n",
       "                 genres  \n",
       "0  Action,Horror,Sci-Fi  \n",
       "\n",
       "[1 rows x 21 columns]"
      ]
     },
     "execution_count": 30,
     "metadata": {},
     "output_type": "execute_result"
    }
   ],
   "source": [
    "merged_df = pd.merge(cmu_movies, mapping_w_i_f, left_on='Freebase movie ID', right_on='freebase', how='inner')\n",
    "\n",
    "cmu_imdb_movies_v4 = pd.merge(merged_df, imdb_info, left_on='imdb', right_on='tconst', how='inner')\n",
    "\n",
    "cmu_imdb_movies_v4.drop(['freebase', 'imdb'], axis=1, inplace=True)\n",
    "\n",
    "del merged_df\n",
    "gc.collect()\n",
    "\n",
    "cmu_imdb_movies_v4.info()\n",
    "cmu_imdb_movies_v4.head(1)"
   ]
  },
  {
   "cell_type": "markdown",
   "id": "490687bf",
   "metadata": {},
   "source": [
    "## CMU IMDb MovieLens movie merge"
   ]
  },
  {
   "cell_type": "markdown",
   "id": "e1f22028",
   "metadata": {},
   "source": [
    "### 1) Direct approach "
   ]
  },
  {
   "cell_type": "code",
   "execution_count": 31,
   "id": "e7d89954",
   "metadata": {},
   "outputs": [
    {
     "name": "stdout",
     "output_type": "stream",
     "text": [
      "<class 'pandas.core.frame.DataFrame'>\n",
      "RangeIndex: 27468 entries, 0 to 27467\n",
      "Data columns (total 44 columns):\n",
      " #   Column                    Non-Null Count  Dtype   \n",
      "---  ------                    --------------  -----   \n",
      " 0   Wikipedia movie ID        27468 non-null  int32   \n",
      " 1   Freebase movie ID         27468 non-null  string  \n",
      " 2   Movie name                27468 non-null  string  \n",
      " 3   Movie box office revenue  7577 non-null   float64 \n",
      " 4   Movie runtime             26192 non-null  float32 \n",
      " 5   Movie release Year        26804 non-null  Int16   \n",
      " 6   Movie release Month       17455 non-null  Int8    \n",
      " 7   Movie release Day         16537 non-null  Int8    \n",
      " 8   Movie languages           27468 non-null  string  \n",
      " 9   Movie countries           27468 non-null  string  \n",
      " 10  Movie genres              27468 non-null  string  \n",
      " 11  wikipedia                 26882 non-null  Int32   \n",
      " 12  tconst                    27468 non-null  string  \n",
      " 13  titleType                 27468 non-null  category\n",
      " 14  primaryTitle              27468 non-null  string  \n",
      " 15  originalTitle             27468 non-null  string  \n",
      " 16  isAdult                   27468 non-null  Int16   \n",
      " 17  startYear                 27468 non-null  Int16   \n",
      " 18  endYear                   140 non-null    Int16   \n",
      " 19  runtimeMinutes            27454 non-null  Int32   \n",
      " 20  genres_x                  27465 non-null  string  \n",
      " 21  adult                     27468 non-null  category\n",
      " 22  belongs_to_collection     3316 non-null   string  \n",
      " 23  budget                    27468 non-null  Int32   \n",
      " 24  genres_y                  27468 non-null  string  \n",
      " 25  homepage                  3717 non-null   string  \n",
      " 26  id                        27468 non-null  Int32   \n",
      " 27  original_language         27464 non-null  string  \n",
      " 28  original_title            27468 non-null  string  \n",
      " 29  overview                  27296 non-null  string  \n",
      " 30  popularity                27468 non-null  float32 \n",
      " 31  poster_path               27426 non-null  string  \n",
      " 32  production_companies      27468 non-null  string  \n",
      " 33  production_countries      27468 non-null  string  \n",
      " 34  release_date              27461 non-null  string  \n",
      " 35  revenue                   27468 non-null  Int64   \n",
      " 36  runtime                   27446 non-null  Int16   \n",
      " 37  spoken_languages          27468 non-null  string  \n",
      " 38  status                    27438 non-null  string  \n",
      " 39  tagline                   14807 non-null  string  \n",
      " 40  title                     27468 non-null  string  \n",
      " 41  video                     27468 non-null  category\n",
      " 42  vote_average              27468 non-null  float32 \n",
      " 43  vote_count                27468 non-null  Int16   \n",
      "dtypes: Int16(6), Int32(4), Int64(1), Int8(2), category(3), float32(3), float64(1), int32(1), string(23)\n",
      "memory usage: 6.9 MB\n"
     ]
    },
    {
     "data": {
      "text/html": [
       "<div>\n",
       "<style scoped>\n",
       "    .dataframe tbody tr th:only-of-type {\n",
       "        vertical-align: middle;\n",
       "    }\n",
       "\n",
       "    .dataframe tbody tr th {\n",
       "        vertical-align: top;\n",
       "    }\n",
       "\n",
       "    .dataframe thead th {\n",
       "        text-align: right;\n",
       "    }\n",
       "</style>\n",
       "<table border=\"1\" class=\"dataframe\">\n",
       "  <thead>\n",
       "    <tr style=\"text-align: right;\">\n",
       "      <th></th>\n",
       "      <th>Wikipedia movie ID</th>\n",
       "      <th>Freebase movie ID</th>\n",
       "      <th>Movie name</th>\n",
       "      <th>Movie box office revenue</th>\n",
       "      <th>Movie runtime</th>\n",
       "      <th>Movie release Year</th>\n",
       "      <th>Movie release Month</th>\n",
       "      <th>Movie release Day</th>\n",
       "      <th>Movie languages</th>\n",
       "      <th>Movie countries</th>\n",
       "      <th>...</th>\n",
       "      <th>release_date</th>\n",
       "      <th>revenue</th>\n",
       "      <th>runtime</th>\n",
       "      <th>spoken_languages</th>\n",
       "      <th>status</th>\n",
       "      <th>tagline</th>\n",
       "      <th>title</th>\n",
       "      <th>video</th>\n",
       "      <th>vote_average</th>\n",
       "      <th>vote_count</th>\n",
       "    </tr>\n",
       "  </thead>\n",
       "  <tbody>\n",
       "    <tr>\n",
       "      <th>0</th>\n",
       "      <td>975900</td>\n",
       "      <td>/m/03vyhn</td>\n",
       "      <td>Ghosts of Mars</td>\n",
       "      <td>14010832.0</td>\n",
       "      <td>98.0</td>\n",
       "      <td>2001</td>\n",
       "      <td>8</td>\n",
       "      <td>24</td>\n",
       "      <td>English</td>\n",
       "      <td>United States of America</td>\n",
       "      <td>...</td>\n",
       "      <td>2001-08-24</td>\n",
       "      <td>14010832</td>\n",
       "      <td>98</td>\n",
       "      <td>[{'iso_639_1': 'en', 'name': 'English'}]</td>\n",
       "      <td>Released</td>\n",
       "      <td>Terror is the same on any planet.</td>\n",
       "      <td>Ghosts of Mars</td>\n",
       "      <td>False</td>\n",
       "      <td>4.8</td>\n",
       "      <td>299</td>\n",
       "    </tr>\n",
       "  </tbody>\n",
       "</table>\n",
       "<p>1 rows × 44 columns</p>\n",
       "</div>"
      ],
      "text/plain": [
       "   Wikipedia movie ID Freebase movie ID      Movie name  \\\n",
       "0              975900         /m/03vyhn  Ghosts of Mars   \n",
       "\n",
       "   Movie box office revenue  Movie runtime  Movie release Year  \\\n",
       "0                14010832.0           98.0                2001   \n",
       "\n",
       "   Movie release Month  Movie release Day Movie languages  \\\n",
       "0                    8                 24         English   \n",
       "\n",
       "            Movie countries  ... release_date   revenue runtime  \\\n",
       "0  United States of America  ...   2001-08-24  14010832      98   \n",
       "\n",
       "                           spoken_languages    status  \\\n",
       "0  [{'iso_639_1': 'en', 'name': 'English'}]  Released   \n",
       "\n",
       "                             tagline           title  video  vote_average  \\\n",
       "0  Terror is the same on any planet.  Ghosts of Mars  False           4.8   \n",
       "\n",
       "   vote_count  \n",
       "0         299  \n",
       "\n",
       "[1 rows x 44 columns]"
      ]
     },
     "execution_count": 31,
     "metadata": {},
     "output_type": "execute_result"
    }
   ],
   "source": [
    "# arbitrary choice of using cmu_imdb_movies_v4\n",
    "cmu_imdb_movieLens_movies = pd.merge(cmu_imdb_movies_v4, movieLens_movies, left_on=\"tconst\", right_on=\"imdb_id\", how=\"inner\")\n",
    "cmu_imdb_movieLens_movies.drop(['imdb_id'], axis=1, inplace=True)\n",
    "\n",
    "cmu_imdb_movieLens_movies.info()\n",
    "cmu_imdb_movieLens_movies.head(1)"
   ]
  },
  {
   "cell_type": "markdown",
   "id": "c445f3ef",
   "metadata": {},
   "source": [
    "### 2) Use movieLens_links"
   ]
  },
  {
   "cell_type": "code",
   "execution_count": 43,
   "id": "b160b18e",
   "metadata": {},
   "outputs": [
    {
     "name": "stdout",
     "output_type": "stream",
     "text": [
      "<class 'pandas.core.frame.DataFrame'>\n",
      "RangeIndex: 27449 entries, 0 to 27448\n",
      "Data columns (total 46 columns):\n",
      " #   Column                    Non-Null Count  Dtype   \n",
      "---  ------                    --------------  -----   \n",
      " 0   movieId                   27449 non-null  int32   \n",
      " 1   tmdbId                    27449 non-null  Int32   \n",
      " 2   adult                     27449 non-null  category\n",
      " 3   belongs_to_collection     3315 non-null   string  \n",
      " 4   budget                    27449 non-null  Int32   \n",
      " 5   genres_x                  27449 non-null  string  \n",
      " 6   homepage                  3713 non-null   string  \n",
      " 7   imdb_id                   27449 non-null  string  \n",
      " 8   original_language         27445 non-null  string  \n",
      " 9   original_title            27449 non-null  string  \n",
      " 10  overview                  27279 non-null  string  \n",
      " 11  popularity                27449 non-null  float32 \n",
      " 12  poster_path               27408 non-null  string  \n",
      " 13  production_companies      27449 non-null  string  \n",
      " 14  production_countries      27449 non-null  string  \n",
      " 15  release_date              27442 non-null  string  \n",
      " 16  revenue                   27449 non-null  Int64   \n",
      " 17  runtime                   27427 non-null  Int16   \n",
      " 18  spoken_languages          27449 non-null  string  \n",
      " 19  status                    27420 non-null  string  \n",
      " 20  tagline                   14799 non-null  string  \n",
      " 21  title                     27449 non-null  string  \n",
      " 22  video                     27449 non-null  category\n",
      " 23  vote_average              27449 non-null  float32 \n",
      " 24  vote_count                27449 non-null  Int16   \n",
      " 25  Wikipedia movie ID        27449 non-null  int32   \n",
      " 26  Freebase movie ID         27449 non-null  string  \n",
      " 27  Movie name                27449 non-null  string  \n",
      " 28  Movie box office revenue  7576 non-null   float64 \n",
      " 29  Movie runtime             26173 non-null  float32 \n",
      " 30  Movie release Year        26786 non-null  Int16   \n",
      " 31  Movie release Month       17443 non-null  Int8    \n",
      " 32  Movie release Day         16526 non-null  Int8    \n",
      " 33  Movie languages           27449 non-null  string  \n",
      " 34  Movie countries           27449 non-null  string  \n",
      " 35  Movie genres              27449 non-null  string  \n",
      " 36  wikipedia                 26868 non-null  Int32   \n",
      " 37  tconst                    27449 non-null  string  \n",
      " 38  titleType                 27449 non-null  category\n",
      " 39  primaryTitle              27449 non-null  string  \n",
      " 40  originalTitle             27449 non-null  string  \n",
      " 41  isAdult                   27449 non-null  Int16   \n",
      " 42  startYear                 27449 non-null  Int16   \n",
      " 43  endYear                   139 non-null    Int16   \n",
      " 44  runtimeMinutes            27435 non-null  Int32   \n",
      " 45  genres_y                  27446 non-null  string  \n",
      "dtypes: Int16(6), Int32(4), Int64(1), Int8(2), category(3), float32(3), float64(1), int32(2), string(24)\n",
      "memory usage: 7.2 MB\n"
     ]
    },
    {
     "data": {
      "text/html": [
       "<div>\n",
       "<style scoped>\n",
       "    .dataframe tbody tr th:only-of-type {\n",
       "        vertical-align: middle;\n",
       "    }\n",
       "\n",
       "    .dataframe tbody tr th {\n",
       "        vertical-align: top;\n",
       "    }\n",
       "\n",
       "    .dataframe thead th {\n",
       "        text-align: right;\n",
       "    }\n",
       "</style>\n",
       "<table border=\"1\" class=\"dataframe\">\n",
       "  <thead>\n",
       "    <tr style=\"text-align: right;\">\n",
       "      <th></th>\n",
       "      <th>movieId</th>\n",
       "      <th>tmdbId</th>\n",
       "      <th>adult</th>\n",
       "      <th>belongs_to_collection</th>\n",
       "      <th>budget</th>\n",
       "      <th>genres_x</th>\n",
       "      <th>homepage</th>\n",
       "      <th>imdb_id</th>\n",
       "      <th>original_language</th>\n",
       "      <th>original_title</th>\n",
       "      <th>...</th>\n",
       "      <th>wikipedia</th>\n",
       "      <th>tconst</th>\n",
       "      <th>titleType</th>\n",
       "      <th>primaryTitle</th>\n",
       "      <th>originalTitle</th>\n",
       "      <th>isAdult</th>\n",
       "      <th>startYear</th>\n",
       "      <th>endYear</th>\n",
       "      <th>runtimeMinutes</th>\n",
       "      <th>genres_y</th>\n",
       "    </tr>\n",
       "  </thead>\n",
       "  <tbody>\n",
       "    <tr>\n",
       "      <th>0</th>\n",
       "      <td>1</td>\n",
       "      <td>862</td>\n",
       "      <td>False</td>\n",
       "      <td>{'id': 10194, 'name': 'Toy Story Collection', ...</td>\n",
       "      <td>30000000</td>\n",
       "      <td>[{'id': 16, 'name': 'Animation'}, {'id': 35, '...</td>\n",
       "      <td>http://toystory.disney.com/toy-story</td>\n",
       "      <td>tt0114709</td>\n",
       "      <td>en</td>\n",
       "      <td>Toy Story</td>\n",
       "      <td>...</td>\n",
       "      <td>53085</td>\n",
       "      <td>tt0114709</td>\n",
       "      <td>movie</td>\n",
       "      <td>Toy Story</td>\n",
       "      <td>Toy Story</td>\n",
       "      <td>0</td>\n",
       "      <td>1995</td>\n",
       "      <td>&lt;NA&gt;</td>\n",
       "      <td>81</td>\n",
       "      <td>Adventure,Animation,Comedy</td>\n",
       "    </tr>\n",
       "  </tbody>\n",
       "</table>\n",
       "<p>1 rows × 46 columns</p>\n",
       "</div>"
      ],
      "text/plain": [
       "   movieId  tmdbId  adult                              belongs_to_collection  \\\n",
       "0        1     862  False  {'id': 10194, 'name': 'Toy Story Collection', ...   \n",
       "\n",
       "     budget                                           genres_x  \\\n",
       "0  30000000  [{'id': 16, 'name': 'Animation'}, {'id': 35, '...   \n",
       "\n",
       "                               homepage    imdb_id original_language  \\\n",
       "0  http://toystory.disney.com/toy-story  tt0114709                en   \n",
       "\n",
       "  original_title  ... wikipedia     tconst titleType primaryTitle  \\\n",
       "0      Toy Story  ...     53085  tt0114709     movie    Toy Story   \n",
       "\n",
       "  originalTitle isAdult  startYear  endYear runtimeMinutes  \\\n",
       "0     Toy Story       0       1995     <NA>             81   \n",
       "\n",
       "                     genres_y  \n",
       "0  Adventure,Animation,Comedy  \n",
       "\n",
       "[1 rows x 46 columns]"
      ]
     },
     "execution_count": 43,
     "metadata": {},
     "output_type": "execute_result"
    }
   ],
   "source": [
    "movieLens_movies_merge = pd.merge(movieLens_links, movieLens_movies, left_on=\"imdbId\", right_on=\"imdb_id\", how=\"inner\")\n",
    "movieLens_movies_merge.drop(['id','imdbId'], axis=1, inplace=True)\n",
    "\n",
    "cmu_imdb_movieLens_movies_v2 = pd.merge(movieLens_movies_merge, cmu_imdb_movies_v4, left_on=\"imdb_id\", right_on=\"tconst\", how=\"inner\")\n",
    "\n",
    "del movieLens_movies_merge\n",
    "gc.collect()\n",
    "\n",
    "cmu_imdb_movieLens_movies_v2.info()\n",
    "cmu_imdb_movieLens_movies_v2.head(1)"
   ]
  },
  {
   "cell_type": "markdown",
   "id": "ca3758d9",
   "metadata": {},
   "source": [
    "## IMDb People Info Principals Ratings merge"
   ]
  },
  {
   "cell_type": "code",
   "execution_count": 52,
   "id": "789e73c0",
   "metadata": {},
   "outputs": [
    {
     "name": "stdout",
     "output_type": "stream",
     "text": [
      "<class 'pandas.core.frame.DataFrame'>\n",
      "RangeIndex: 11295521 entries, 0 to 11295520\n",
      "Data columns (total 21 columns):\n",
      " #   Column             Dtype   \n",
      "---  ------             -----   \n",
      " 0   tconst             string  \n",
      " 1   ordering           int8    \n",
      " 2   nconst             string  \n",
      " 3   category           category\n",
      " 4   job                string  \n",
      " 5   characters         string  \n",
      " 6   averageRating      float32 \n",
      " 7   numVotes           int32   \n",
      " 8   primaryName        string  \n",
      " 9   birthYear          Int16   \n",
      " 10  deathYear          Int16   \n",
      " 11  primaryProfession  string  \n",
      " 12  knownForTitles     string  \n",
      " 13  titleType          category\n",
      " 14  primaryTitle       string  \n",
      " 15  originalTitle      string  \n",
      " 16  isAdult            Int16   \n",
      " 17  startYear          Int16   \n",
      " 18  endYear            Int16   \n",
      " 19  runtimeMinutes     Int32   \n",
      " 20  genres             string  \n",
      "dtypes: Int16(5), Int32(1), category(2), float32(1), int32(1), int8(1), string(10)\n",
      "memory usage: 1.2 GB\n"
     ]
    },
    {
     "data": {
      "text/html": [
       "<div>\n",
       "<style scoped>\n",
       "    .dataframe tbody tr th:only-of-type {\n",
       "        vertical-align: middle;\n",
       "    }\n",
       "\n",
       "    .dataframe tbody tr th {\n",
       "        vertical-align: top;\n",
       "    }\n",
       "\n",
       "    .dataframe thead th {\n",
       "        text-align: right;\n",
       "    }\n",
       "</style>\n",
       "<table border=\"1\" class=\"dataframe\">\n",
       "  <thead>\n",
       "    <tr style=\"text-align: right;\">\n",
       "      <th></th>\n",
       "      <th>tconst</th>\n",
       "      <th>ordering</th>\n",
       "      <th>nconst</th>\n",
       "      <th>category</th>\n",
       "      <th>job</th>\n",
       "      <th>characters</th>\n",
       "      <th>averageRating</th>\n",
       "      <th>numVotes</th>\n",
       "      <th>primaryName</th>\n",
       "      <th>birthYear</th>\n",
       "      <th>...</th>\n",
       "      <th>primaryProfession</th>\n",
       "      <th>knownForTitles</th>\n",
       "      <th>titleType</th>\n",
       "      <th>primaryTitle</th>\n",
       "      <th>originalTitle</th>\n",
       "      <th>isAdult</th>\n",
       "      <th>startYear</th>\n",
       "      <th>endYear</th>\n",
       "      <th>runtimeMinutes</th>\n",
       "      <th>genres</th>\n",
       "    </tr>\n",
       "  </thead>\n",
       "  <tbody>\n",
       "    <tr>\n",
       "      <th>0</th>\n",
       "      <td>tt0000001</td>\n",
       "      <td>1</td>\n",
       "      <td>nm1588970</td>\n",
       "      <td>self</td>\n",
       "      <td>&lt;NA&gt;</td>\n",
       "      <td>[\"Self\"]</td>\n",
       "      <td>5.7</td>\n",
       "      <td>1997</td>\n",
       "      <td>Carmencita</td>\n",
       "      <td>1868</td>\n",
       "      <td>...</td>\n",
       "      <td>soundtrack</td>\n",
       "      <td>tt0000001,tt0057728</td>\n",
       "      <td>short</td>\n",
       "      <td>Carmencita</td>\n",
       "      <td>Carmencita</td>\n",
       "      <td>0</td>\n",
       "      <td>1894</td>\n",
       "      <td>&lt;NA&gt;</td>\n",
       "      <td>1</td>\n",
       "      <td>Documentary,Short</td>\n",
       "    </tr>\n",
       "  </tbody>\n",
       "</table>\n",
       "<p>1 rows × 21 columns</p>\n",
       "</div>"
      ],
      "text/plain": [
       "      tconst  ordering     nconst category   job characters  averageRating  \\\n",
       "0  tt0000001         1  nm1588970     self  <NA>   [\"Self\"]            5.7   \n",
       "\n",
       "   numVotes primaryName  birthYear  ...  primaryProfession  \\\n",
       "0      1997  Carmencita       1868  ...         soundtrack   \n",
       "\n",
       "        knownForTitles titleType primaryTitle originalTitle isAdult  \\\n",
       "0  tt0000001,tt0057728     short   Carmencita    Carmencita       0   \n",
       "\n",
       "   startYear  endYear  runtimeMinutes             genres  \n",
       "0       1894     <NA>               1  Documentary,Short  \n",
       "\n",
       "[1 rows x 21 columns]"
      ]
     },
     "execution_count": 52,
     "metadata": {},
     "output_type": "execute_result"
    }
   ],
   "source": [
    "merged_df = pd.merge(imdb_principals, imdb_ratings, left_on=\"tconst\", right_on=\"tconst\", how=\"inner\")\n",
    "merged_df = pd.merge(merged_df, imdb_people, left_on=\"nconst\",right_on=\"nconst\", how=\"inner\")\n",
    "imdb_merged = pd.merge(merged_df, imdb_info, left_on=\"tconst\", right_on=\"tconst\", how=\"inner\")\n",
    "\n",
    "del merged_df\n",
    "gc.collect()\n",
    "\n",
    "imdb_merged.info(1)\n",
    "imdb_merged.head(1)"
   ]
  },
  {
   "cell_type": "code",
   "execution_count": 53,
   "id": "7767ea72",
   "metadata": {},
   "outputs": [
    {
     "data": {
      "text/plain": [
       "Index(['tconst', 'ordering', 'nconst', 'category', 'job', 'characters',\n",
       "       'averageRating', 'numVotes', 'primaryName', 'birthYear', 'deathYear',\n",
       "       'primaryProfession', 'knownForTitles', 'titleType', 'primaryTitle',\n",
       "       'originalTitle', 'isAdult', 'startYear', 'endYear', 'runtimeMinutes',\n",
       "       'genres'],\n",
       "      dtype='object')"
      ]
     },
     "execution_count": 53,
     "metadata": {},
     "output_type": "execute_result"
    }
   ],
   "source": [
    "imdb_merged.columns"
   ]
  },
  {
   "cell_type": "markdown",
   "id": "af05348f",
   "metadata": {},
   "source": [
    "## MovieLens merge"
   ]
  },
  {
   "cell_type": "code",
   "execution_count": null,
   "id": "d6759c3f",
   "metadata": {},
   "outputs": [],
   "source": [
    "movieLens_links['movieId'] = movieLens_links['movieId'].astype('int64')\n",
    "movieLens_ratings['movieId'] = movieLens_ratings['movieId'].astype('int64')\n",
    "\n",
    "merged_df = pd.merge(movieLens_links, movieLens_ratings, left_on=\"movieId\", right_on=\"movieId\", how=\"inner\")\n",
    "merged_df = pd.merge(merged_df, movieLens_keywords, left_on=\"tmdbId\", right_on=\"id\", how=\"inner\")\n",
    "merged_df.drop(['id'], axis=1, inplace=True)\n",
    "\n",
    "merged_df = pd.merge(merged_df, movieLens_credits, left_on=\"tmdbId\", right_on=\"id\", how=\"inner\")\n",
    "merged_df.drop(['id'], axis=1, inplace=True)\n",
    "\n",
    "movieLens_merged = pd.merge(merged_df, movieLens_movies, left_on=['tmdbId', 'imdbId'], right_on=['id', 'imdb_id'], how=\"inner\")\n",
    "movieLens_merged.drop(['id', 'imdb_id'], axis=1, inplace=True)\n",
    "\n",
    "del merged_df\n",
    "gc.collect()\n",
    "\n",
    "movieLens_links[\"movieId\"] = pd.to_numeric(movieLens_links[\"movieId\"], downcast='integer')\n",
    "movieLens_ratings[\"movieId\"] = pd.to_numeric(movieLens_ratings[\"movieId\"], downcast='integer')\n",
    "movieLens_merged[\"movieId\"] = pd.to_numeric(movieLens_merged[\"movieId\"], downcast='integer')\n",
    "\n",
    "movieLens_merged.info()\n",
    "movieLens_merged.head(1)"
   ]
  },
  {
   "cell_type": "code",
   "execution_count": null,
   "id": "1790bcf4",
   "metadata": {},
   "outputs": [],
   "source": []
  }
 ],
 "metadata": {
  "kernelspec": {
   "display_name": "Python 3 (ipykernel)",
   "language": "python",
   "name": "python3"
  },
  "language_info": {
   "codemirror_mode": {
    "name": "ipython",
    "version": 3
   },
   "file_extension": ".py",
   "mimetype": "text/x-python",
   "name": "python",
   "nbconvert_exporter": "python",
   "pygments_lexer": "ipython3",
   "version": "3.10.11"
  }
 },
 "nbformat": 4,
 "nbformat_minor": 5
}

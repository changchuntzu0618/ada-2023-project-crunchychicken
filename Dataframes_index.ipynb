{
 "cells": [
  {
   "cell_type": "code",
   "execution_count": null,
   "id": "a49f10de",
   "metadata": {},
   "outputs": [],
   "source": [
    "import pandas as pd\n",
    "import gc\n",
    "\n",
    "from helpers.readers import read_dataframe"
   ]
  },
  {
   "cell_type": "markdown",
   "id": "4bc358c8",
   "metadata": {},
   "source": [
    "<a id=\"Contents\"></a> <br>\n",
    "# Content\n",
    "* [1 - Loading default dataframes](#default)\n",
    "<br>\n",
    "* [2 - Merged Dataframes](#merged)\n",
    "<br>"
   ]
  },
  {
   "cell_type": "markdown",
   "id": "41feba29",
   "metadata": {},
   "source": [
    "- **Q1: How impactful is the team surrounding the director on the success of a movie?**\n",
    "- **Q2: To what extent does the director’s choice of movie genre affect the success of the movie?**\n",
    "- **Q3: What is the impact of the director’s character choices on the success of the movie?**\n",
    "- **Q4 (opt.): Can we spot bright underrated directors who are in the early stages of their career?**"
   ]
  },
  {
   "cell_type": "markdown",
   "id": "a20f4927",
   "metadata": {},
   "source": [
    "<img src=\"https://i.postimg.cc/d3X75w5g/cmu-with-nlp.png\" width=\"600\"/>\n",
    "<img src=\"https://i.ibb.co/ZxFYrXx/image-2023-12-04-132642806.png\" width=\"200\"/>\n",
    "<img src=\"https://i.postimg.cc/NjvFFNS8/imdb.png\" width=\"400\"/>\n",
    "<img src=\"https://iili.io/JzZN5CJ.png\" width=\"200\"/>\n",
    "<img src=\"https://i.postimg.cc/LsGSmhPG/image-2023-12-13-165209855.png\" width=\"250\"/>\n",
    "<img src=\"https://i.postimg.cc/yNVNXDVk/mappings.png\" width=\"500\"/>\n",
    "<img src=\"https://i.postimg.cc/KvTnQPp9/movielens.png\" width=\"550\"/>"
   ]
  },
  {
   "cell_type": "markdown",
   "id": "41f0ba79",
   "metadata": {},
   "source": [
    "<a class=\"anchor\" id=\"default\"></a>\n",
    "## Loading default dataframes\n",
    "[Back to Table of Contents](#Contents)"
   ]
  },
  {
   "cell_type": "markdown",
   "id": "0783f5ff",
   "metadata": {},
   "source": [
    "### CMU Metadata"
   ]
  },
  {
   "cell_type": "code",
   "execution_count": null,
   "id": "b63d2374",
   "metadata": {},
   "outputs": [],
   "source": [
    "cmu_movies = read_dataframe(name='cmu/movies', preprocess=True, usecols=[\n",
    "    \"Wikipedia movie ID\", \n",
    "    \"Freebase movie ID\", \n",
    "    \"Movie name\", \n",
    "    \"Movie release date\", \n",
    "    \"Movie box office revenue\", \n",
    "    \"Movie runtime\", \n",
    "    \"Movie languages\", \n",
    "    \"Movie countries\", \n",
    "    \"Movie genres\",\n",
    "])\n",
    "\n",
    "cmu_movies.info()\n",
    "cmu_movies.head(1)"
   ]
  },
  {
   "cell_type": "code",
   "execution_count": null,
   "id": "b32f0efc",
   "metadata": {},
   "outputs": [],
   "source": [
    "cmu_characters = read_dataframe(name='cmu/characters', preprocess=True, usecols=[\n",
    "    \"Wikipedia movie ID\",\n",
    "    \"Freebase movie ID\",\n",
    "    \"Movie release date\",\n",
    "    \"Character name\",\n",
    "    \"Actor DOB\",\n",
    "    \"Actor gender\",\n",
    "    \"Actor height\",\n",
    "    \"Actor ethnicity\",\n",
    "    \"Actor name\",\n",
    "    \"Actor age at movie release\",\n",
    "    \"Freebase character/actor map ID\",\n",
    "    \"Freebase character ID\",\n",
    "    \"Freebase actor ID\",\n",
    "])\n",
    "\n",
    "cmu_characters.info()\n",
    "cmu_characters.head(1)"
   ]
  },
  {
   "cell_type": "markdown",
   "id": "deed02d8",
   "metadata": {},
   "source": [
    "### CMU Scraped Infobox"
   ]
  },
  {
   "cell_type": "code",
   "execution_count": null,
   "id": "f0c48f37",
   "metadata": {},
   "outputs": [],
   "source": [
    "cmu_scraped_movies = read_dataframe(name='cmu/movies_scraped')\n",
    "cmu_scraped_movies.info()\n",
    "cmu_scraped_movies.head(1)"
   ]
  },
  {
   "cell_type": "markdown",
   "id": "3e7567be",
   "metadata": {},
   "source": [
    "### IMDb (https://developer.imdb.com/non-commercial-datasets/) (4/7)"
   ]
  },
  {
   "cell_type": "code",
   "execution_count": null,
   "id": "fc041c5e",
   "metadata": {},
   "outputs": [],
   "source": [
    "imdb_people = read_dataframe(name='imdb/names')\n",
    "imdb_people.info()\n",
    "imdb_people.head(1)"
   ]
  },
  {
   "cell_type": "code",
   "execution_count": null,
   "id": "41375f77",
   "metadata": {},
   "outputs": [],
   "source": [
    "imdb_info = read_dataframe(name='imdb/movies', preprocess=True)\n",
    "imdb_info.info()\n",
    "imdb_info.head(1)"
   ]
  },
  {
   "cell_type": "code",
   "execution_count": null,
   "id": "ef308bdd",
   "metadata": {},
   "outputs": [],
   "source": [
    "imdb_principals = read_dataframe(name='imdb/principals')\n",
    "imdb_principals.info()\n",
    "imdb_principals.head(1)"
   ]
  },
  {
   "cell_type": "code",
   "execution_count": null,
   "id": "4a05c443",
   "metadata": {},
   "outputs": [],
   "source": [
    "imdb_ratings = read_dataframe(name='imdb/ratings')\n",
    "imdb_ratings.info()\n",
    "imdb_ratings.head(1)"
   ]
  },
  {
   "cell_type": "markdown",
   "id": "bcdc3ab4",
   "metadata": {},
   "source": [
    "### Unused IMDb (3/7):"
   ]
  },
  {
   "cell_type": "code",
   "execution_count": null,
   "id": "c443bb43",
   "metadata": {},
   "outputs": [],
   "source": [
    "imdb_akas = read_dataframe(name='imdb/akas')\n",
    "imdb_akas.info()\n",
    "imdb_akas.head(1)"
   ]
  },
  {
   "cell_type": "code",
   "execution_count": null,
   "id": "ab062ed2",
   "metadata": {},
   "outputs": [],
   "source": [
    "imdb_crew = read_dataframe(name='imdb/crew')\n",
    "imdb_crew.info()\n",
    "imdb_crew.head(1)"
   ]
  },
  {
   "cell_type": "code",
   "execution_count": null,
   "id": "19305f99",
   "metadata": {},
   "outputs": [],
   "source": [
    "imdb_episode = read_dataframe(name='imdb/episode')\n",
    "imdb_episode.info()\n",
    "imdb_episode.head(1)"
   ]
  },
  {
   "cell_type": "markdown",
   "id": "76f6a350",
   "metadata": {},
   "source": [
    "### Additional external IMDb dataset"
   ]
  },
  {
   "cell_type": "code",
   "execution_count": null,
   "id": "ccd10121",
   "metadata": {},
   "outputs": [],
   "source": [
    "enhanced_imdb_movies = read_dataframe('imdb/enhanced_movies')\n",
    "enhanced_imdb_movies.info()\n",
    "enhanced_imdb_movies.head(1)"
   ]
  },
  {
   "cell_type": "markdown",
   "id": "5be8d175",
   "metadata": {},
   "source": [
    "### Additional external IMDb dataset (from Kaggle: https://www.kaggle.com/datasets/iwooloowi/film-awards-imdb)"
   ]
  },
  {
   "cell_type": "code",
   "execution_count": null,
   "id": "7db9ee1b",
   "metadata": {},
   "outputs": [],
   "source": [
    "awards = read_dataframe('imdb/awards')\n",
    "awards.info()\n",
    "awards.head(1)"
   ]
  },
  {
   "cell_type": "markdown",
   "id": "a01a59e9",
   "metadata": {},
   "source": [
    "### Mappings"
   ]
  },
  {
   "cell_type": "code",
   "execution_count": null,
   "id": "6b93bbcd",
   "metadata": {},
   "outputs": [],
   "source": [
    "mapping_w_i_f = read_dataframe(name='mapping_wikipedia_imdb_freebase')\n",
    "mapping_w_i_f.info()\n",
    "mapping_w_i_f.head(1)"
   ]
  },
  {
   "cell_type": "code",
   "execution_count": null,
   "id": "72ae89a5",
   "metadata": {},
   "outputs": [],
   "source": [
    "mapping_w_i = read_dataframe(name='mapping_wikipedia_imdb')\n",
    "mapping_w_i.info()\n",
    "mapping_w_i.head(1)"
   ]
  },
  {
   "cell_type": "code",
   "execution_count": null,
   "id": "6f890d0d",
   "metadata": {},
   "outputs": [],
   "source": [
    "mapping_f_i = read_dataframe(name='mapping_freebase_imdb')\n",
    "mapping_f_i.info()\n",
    "mapping_f_i.head(1)"
   ]
  },
  {
   "cell_type": "markdown",
   "id": "55ab6a2e",
   "metadata": {},
   "source": [
    "### MovieLens (https://www.kaggle.com/datasets/rounakbanik/the-movies-dataset) 1/5"
   ]
  },
  {
   "cell_type": "code",
   "execution_count": null,
   "id": "d36a1640",
   "metadata": {},
   "outputs": [],
   "source": [
    "movieLens_movies = read_dataframe(name='movieLens/movies', preprocess=True)\n",
    "movieLens_movies.info()\n",
    "movieLens_movies.head(1)"
   ]
  },
  {
   "cell_type": "markdown",
   "id": "e9bab446",
   "metadata": {},
   "source": [
    "### Unused MovieLens (4/5)"
   ]
  },
  {
   "cell_type": "code",
   "execution_count": null,
   "id": "375876c0",
   "metadata": {},
   "outputs": [],
   "source": [
    "movieLens_credits = read_dataframe('movieLens/credits')\n",
    "movieLens_credits.info()\n",
    "movieLens_credits.head(1)"
   ]
  },
  {
   "cell_type": "code",
   "execution_count": null,
   "id": "f52f1092",
   "metadata": {},
   "outputs": [],
   "source": [
    "movieLens_keywords = read_dataframe('movieLens/keywords')\n",
    "movieLens_keywords.info()\n",
    "movieLens_keywords.head(1)"
   ]
  },
  {
   "cell_type": "code",
   "execution_count": null,
   "id": "a4bb75b6",
   "metadata": {},
   "outputs": [],
   "source": [
    "movieLens_links = read_dataframe('movieLens/links', preprocess=True)\n",
    "movieLens_links.info()\n",
    "movieLens_links.head(1)"
   ]
  },
  {
   "cell_type": "code",
   "execution_count": null,
   "id": "51d0811b",
   "metadata": {},
   "outputs": [],
   "source": [
    "movieLens_ratings = read_dataframe('movieLens/ratings')\n",
    "movieLens_ratings.info()\n",
    "movieLens_ratings.head(1)"
   ]
  },
  {
   "cell_type": "markdown",
   "id": "6792e6f6",
   "metadata": {},
   "source": [
    "### CMU Summaries NLP"
   ]
  },
  {
   "cell_type": "code",
   "execution_count": null,
   "id": "816d7e60",
   "metadata": {},
   "outputs": [],
   "source": [
    "cmu_summaries = read_dataframe(name='cmu/summaries', usecols=[\n",
    "    \"Wikipedia movie ID\", \n",
    "    \"Plot Summary\"\n",
    "])\n",
    "cmu_summaries.info()\n",
    "\n",
    "cmu_nameclusters = read_dataframe(name='cmu/nameclusters', usecols=['Character name', 'Freebase character/actor map ID'])\n",
    "cmu_nameclusters.info()\n",
    "\n",
    "cmu_tvtropes = read_dataframe(name='cmu/tvtropes')\n",
    "cmu_tvtropes.info()"
   ]
  },
  {
   "cell_type": "code",
   "execution_count": null,
   "id": "e8befe8b",
   "metadata": {},
   "outputs": [],
   "source": [
    "cmu_characters = read_dataframe('cmu/characters_2023')\n",
    "cmu_characters.info()\n",
    "cmu_characters.head(1)"
   ]
  },
  {
   "cell_type": "markdown",
   "id": "db2b29a6",
   "metadata": {},
   "source": [
    "## Merged Dataframes"
   ]
  },
  {
   "cell_type": "markdown",
   "id": "60d3492a",
   "metadata": {},
   "source": [
    "### Mappings preliminary analysis"
   ]
  },
  {
   "cell_type": "code",
   "execution_count": null,
   "id": "95aa3345",
   "metadata": {},
   "outputs": [],
   "source": [
    "mapping_w_i_f.isna().any()"
   ]
  },
  {
   "cell_type": "code",
   "execution_count": null,
   "id": "b0a4dbc9",
   "metadata": {},
   "outputs": [],
   "source": [
    "mapping_w_i.isna().any()"
   ]
  },
  {
   "cell_type": "code",
   "execution_count": null,
   "id": "146b9649",
   "metadata": {},
   "outputs": [],
   "source": [
    "mapping_f_i.isna().any()"
   ]
  },
  {
   "cell_type": "code",
   "execution_count": null,
   "id": "7cae0e9d",
   "metadata": {},
   "outputs": [],
   "source": [
    "len(mapping_w_i_f), len(mapping_w_i), len(mapping_f_i)"
   ]
  },
  {
   "cell_type": "code",
   "execution_count": null,
   "id": "66413116",
   "metadata": {},
   "outputs": [],
   "source": [
    "w_ids_from_w_i_f = set(mapping_w_i_f['wikipedia'])\n",
    "i_ids_from_w_i_f = set(mapping_w_i_f['imdb']) # tconst\n",
    "f_ids_from_w_i_f = set(mapping_w_i_f['freebase'])\n",
    "\n",
    "w_ids_from_w_i = set(mapping_w_i['wikipedia'])\n",
    "i_ids_from_w_i = set(mapping_w_i['imdb']) # tconst\n",
    "\n",
    "f_ids_from_f_i = set(mapping_f_i['freebase'])\n",
    "i_ids_from_f_i = set(mapping_f_i['imdb']) # # tconst\n",
    "\n",
    "\n",
    "# Intersections involving Wikipedia IDs\n",
    "intersection_w = w_ids_from_w_i_f.intersection(w_ids_from_w_i)\n",
    "\n",
    "# Intersections involving IMDb IDs\n",
    "intersection_i = i_ids_from_w_i_f.intersection(i_ids_from_w_i, i_ids_from_f_i)\n",
    "\n",
    "# Intersections involving Freebase IDs\n",
    "intersection_f = f_ids_from_w_i_f.intersection(f_ids_from_f_i)\n",
    "\n",
    "len(intersection_w), len(intersection_i), len(intersection_f)"
   ]
  },
  {
   "cell_type": "code",
   "execution_count": null,
   "id": "03d153cd",
   "metadata": {},
   "outputs": [],
   "source": [
    "len(mapping_w_i_f.dropna())\n",
    "# equivalent to pd.merge(mapping_w_i, mapping_f_i, left_on=\"imdb\", right_on=\"imdb\", how=\"inner\")"
   ]
  },
  {
   "cell_type": "markdown",
   "id": "bb9c4196",
   "metadata": {},
   "source": [
    "***\n",
    "<a class=\"anchor\" id=\"merged\"></a>\n",
    "## CMU IMDb movie merge\n",
    "\n",
    "[Back to Table of Contents](#Contents)"
   ]
  },
  {
   "cell_type": "markdown",
   "id": "3eb8b216",
   "metadata": {},
   "source": [
    "### 1) Using \"wikipedia\" and \"imdb\" of mapping_w_i"
   ]
  },
  {
   "cell_type": "code",
   "execution_count": null,
   "id": "332506d9",
   "metadata": {},
   "outputs": [],
   "source": [
    "cmu_movies['Wikipedia movie ID'] = cmu_movies['Wikipedia movie ID'].astype('int64')\n",
    "mapping_w_i['wikipedia'] = mapping_w_i['wikipedia'].astype('int64')\n",
    "\n",
    "merged_df = pd.merge(cmu_movies, mapping_w_i, left_on='Wikipedia movie ID', right_on='wikipedia', how='inner')\n",
    "\n",
    "cmu_imdb_movies = pd.merge(merged_df, imdb_info, left_on='imdb', right_on='tconst', how='inner')\n",
    "cmu_imdb_movies.drop(['wikipedia', 'imdb'], axis=1, inplace=True)\n",
    "\n",
    "cmu_movies[\"Wikipedia movie ID\"] = pd.to_numeric(cmu_movies[\"Wikipedia movie ID\"], downcast='integer')\n",
    "mapping_w_i[\"wikipedia\"] = pd.to_numeric(mapping_w_i[\"wikipedia\"], downcast='integer')\n",
    "cmu_imdb_movies[\"Wikipedia movie ID\"] = pd.to_numeric(cmu_imdb_movies[\"Wikipedia movie ID\"], downcast='integer')\n",
    "\n",
    "del merged_df\n",
    "gc.collect()\n",
    "\n",
    "cmu_imdb_movies.info()\n",
    "cmu_imdb_movies.head(1)"
   ]
  },
  {
   "cell_type": "code",
   "execution_count": null,
   "id": "ec31c38a",
   "metadata": {},
   "outputs": [],
   "source": [
    "cmu_imdb_movies['Movie box office revenue'].notna().sum()"
   ]
  },
  {
   "cell_type": "markdown",
   "id": "82e2e3e1",
   "metadata": {},
   "source": [
    "### 2) Using \"freebase\" and \"imdb\" of mapping_f_i"
   ]
  },
  {
   "cell_type": "code",
   "execution_count": null,
   "id": "88637adb",
   "metadata": {},
   "outputs": [],
   "source": [
    "merged_df = pd.merge(cmu_movies, mapping_f_i, left_on='Freebase movie ID', right_on='freebase', how='inner')\n",
    "\n",
    "cmu_imdb_movies_v2 = pd.merge(merged_df, imdb_info, left_on='imdb', right_on='tconst', how='inner')\n",
    "\n",
    "cmu_imdb_movies_v2.drop(['freebase', 'imdb'], axis=1, inplace=True)\n",
    "\n",
    "del merged_df\n",
    "gc.collect()\n",
    "\n",
    "cmu_imdb_movies_v2.info()\n",
    "cmu_imdb_movies_v2.head(1)"
   ]
  },
  {
   "cell_type": "code",
   "execution_count": null,
   "id": "837e6a55",
   "metadata": {},
   "outputs": [],
   "source": [
    "cmu_imdb_movies_v2['Movie box office revenue'].notna().sum()"
   ]
  },
  {
   "cell_type": "markdown",
   "id": "f2976395",
   "metadata": {},
   "source": [
    "### 3) Using \"wikipedia\" and \"imdb\" of mapping_w_i_f"
   ]
  },
  {
   "cell_type": "code",
   "execution_count": null,
   "id": "f10daf8f",
   "metadata": {},
   "outputs": [],
   "source": [
    "cmu_movies['Wikipedia movie ID'] = cmu_movies['Wikipedia movie ID'].astype('int64')\n",
    "mapping_w_i['wikipedia'] = mapping_w_i['wikipedia'].astype('int64')\n",
    "\n",
    "merged_df = pd.merge(cmu_movies, mapping_w_i_f, left_on='Wikipedia movie ID', right_on='wikipedia', how='inner')\n",
    "\n",
    "cmu_imdb_movies_v3 = pd.merge(merged_df, imdb_info, left_on='imdb', right_on='tconst', how='inner')\n",
    "cmu_imdb_movies_v3.drop(['wikipedia', 'imdb'], axis=1, inplace=True)\n",
    "\n",
    "cmu_movies[\"Wikipedia movie ID\"] = pd.to_numeric(cmu_movies[\"Wikipedia movie ID\"], downcast='integer')\n",
    "mapping_w_i[\"wikipedia\"] = pd.to_numeric(mapping_w_i[\"wikipedia\"], downcast='integer')\n",
    "cmu_imdb_movies_v3[\"Wikipedia movie ID\"] = pd.to_numeric(cmu_imdb_movies_v3[\"Wikipedia movie ID\"], downcast='integer')\n",
    "\n",
    "del merged_df\n",
    "gc.collect()\n",
    "\n",
    "cmu_imdb_movies_v3.info()\n",
    "cmu_imdb_movies_v3.head(1)"
   ]
  },
  {
   "cell_type": "markdown",
   "id": "2401bd78",
   "metadata": {},
   "source": [
    "### 4) Using \"freebase\" and \"imdb\" of mapping_w_i_f"
   ]
  },
  {
   "cell_type": "code",
   "execution_count": null,
   "id": "5b47175d",
   "metadata": {},
   "outputs": [],
   "source": [
    "merged_df = pd.merge(cmu_movies, mapping_w_i_f, left_on='Freebase movie ID', right_on='freebase', how='inner')\n",
    "\n",
    "cmu_imdb_movies_v4 = pd.merge(merged_df, imdb_info, left_on='imdb', right_on='tconst', how='inner')\n",
    "\n",
    "cmu_imdb_movies_v4.drop(['freebase', 'imdb'], axis=1, inplace=True)\n",
    "\n",
    "del merged_df\n",
    "gc.collect()\n",
    "\n",
    "cmu_imdb_movies_v4.info()\n",
    "cmu_imdb_movies_v4.head(1)"
   ]
  },
  {
   "cell_type": "code",
   "execution_count": null,
   "id": "0286d574",
   "metadata": {},
   "outputs": [],
   "source": [
    "cmu_imdb_movies_v4['Movie box office revenue'].notna().sum()"
   ]
  },
  {
   "cell_type": "markdown",
   "id": "3bbeeced",
   "metadata": {},
   "source": [
    "***\n",
    "## CMU IMDb MovieLens movie merge"
   ]
  },
  {
   "cell_type": "markdown",
   "id": "38fa7dc0",
   "metadata": {},
   "source": [
    "### 1) Direct approach "
   ]
  },
  {
   "cell_type": "code",
   "execution_count": null,
   "id": "d45d432a",
   "metadata": {},
   "outputs": [],
   "source": [
    "# arbitrary choice of using cmu_imdb_movies_v4\n",
    "cmu_imdb_movieLens_movies = pd.merge(cmu_imdb_movies_v4, movieLens_movies, left_on=\"tconst\", right_on=\"imdb_id\", how=\"inner\")\n",
    "cmu_imdb_movieLens_movies.drop(['imdb_id'], axis=1, inplace=True)\n",
    "\n",
    "cmu_imdb_movieLens_movies.info()\n",
    "cmu_imdb_movieLens_movies.head(1)"
   ]
  },
  {
   "cell_type": "markdown",
   "id": "24736974",
   "metadata": {},
   "source": [
    "### 2) Use movieLens_links"
   ]
  },
  {
   "cell_type": "code",
   "execution_count": null,
   "id": "8a979b90",
   "metadata": {},
   "outputs": [],
   "source": [
    "movieLens_movies_merge = pd.merge(movieLens_links, movieLens_movies, left_on=\"imdbId\", right_on=\"imdb_id\", how=\"inner\")\n",
    "movieLens_movies_merge.drop(['id','imdbId'], axis=1, inplace=True)\n",
    "\n",
    "cmu_imdb_movieLens_movies_v2 = pd.merge(movieLens_movies_merge, cmu_imdb_movies_v4, left_on=\"imdb_id\", right_on=\"tconst\", how=\"inner\")\n",
    "\n",
    "del movieLens_movies_merge\n",
    "gc.collect()\n",
    "\n",
    "cmu_imdb_movieLens_movies_v2.info()\n",
    "cmu_imdb_movieLens_movies_v2.head(1)"
   ]
  },
  {
   "cell_type": "markdown",
   "id": "ca3758d9",
   "metadata": {},
   "source": [
    "## IMDb People Info Principals Ratings merge"
   ]
  },
  {
   "cell_type": "code",
   "execution_count": null,
   "id": "906308f4",
   "metadata": {},
   "outputs": [],
   "source": [
    "merged_df = pd.merge(imdb_principals, imdb_ratings, left_on=\"tconst\", right_on=\"tconst\", how=\"inner\")\n",
    "merged_df = pd.merge(merged_df, imdb_people, left_on=\"nconst\",right_on=\"nconst\", how=\"inner\")\n",
    "imdb_merged = pd.merge(merged_df, imdb_info, left_on=\"tconst\", right_on=\"tconst\", how=\"inner\")\n",
    "\n",
    "del merged_df\n",
    "gc.collect()\n",
    "\n",
    "imdb_merged.info(1)\n",
    "imdb_merged.head(1)"
   ]
  },
  {
   "cell_type": "markdown",
   "id": "002f4ebf",
   "metadata": {},
   "source": [
    "## MovieLens merge"
   ]
  },
  {
   "cell_type": "code",
   "execution_count": null,
   "id": "cf57060a",
   "metadata": {},
   "outputs": [],
   "source": [
    "movieLens_links['movieId'] = movieLens_links['movieId'].astype('int64')\n",
    "movieLens_ratings['movieId'] = movieLens_ratings['movieId'].astype('int64')\n",
    "\n",
    "merged_df = pd.merge(movieLens_links, movieLens_ratings, left_on=\"movieId\", right_on=\"movieId\", how=\"inner\")\n",
    "merged_df = pd.merge(merged_df, movieLens_keywords, left_on=\"tmdbId\", right_on=\"id\", how=\"inner\")\n",
    "merged_df.drop(['id'], axis=1, inplace=True)\n",
    "\n",
    "merged_df = pd.merge(merged_df, movieLens_credits, left_on=\"tmdbId\", right_on=\"id\", how=\"inner\")\n",
    "merged_df.drop(['id'], axis=1, inplace=True)\n",
    "\n",
    "movieLens_merged = pd.merge(merged_df, movieLens_movies, left_on=['tmdbId', 'imdbId'], right_on=['id', 'imdb_id'], how=\"inner\")\n",
    "movieLens_merged.drop(['id', 'imdb_id'], axis=1, inplace=True)\n",
    "\n",
    "del merged_df\n",
    "gc.collect()\n",
    "\n",
    "movieLens_links[\"movieId\"] = pd.to_numeric(movieLens_links[\"movieId\"], downcast='integer')\n",
    "movieLens_ratings[\"movieId\"] = pd.to_numeric(movieLens_ratings[\"movieId\"], downcast='integer')\n",
    "movieLens_merged[\"movieId\"] = pd.to_numeric(movieLens_merged[\"movieId\"], downcast='integer')\n",
    "\n",
    "movieLens_merged.info()\n",
    "movieLens_merged.head(1)"
   ]
  },
  {
   "cell_type": "markdown",
   "id": "9ff05097",
   "metadata": {},
   "source": [
    "***\n",
    "\n",
    "## Trying to get movies with a box office / revenue for score computation"
   ]
  },
  {
   "cell_type": "markdown",
   "id": "929a3c8c",
   "metadata": {},
   "source": [
    "#### 1) Adding enhanced imdb"
   ]
  },
  {
   "cell_type": "code",
   "execution_count": null,
   "id": "60bb32c7",
   "metadata": {},
   "outputs": [],
   "source": [
    "#Just to see how much usable movies we have with regard to revenue in the 4th merge technique\n",
    "filtered_df = cmu_imdb_movieLens_movies[(pd.notna(cmu_imdb_movieLens_movies['Movie box office revenue']) & (cmu_imdb_movieLens_movies['Movie box office revenue'] != 0)) | \n",
    "                 (pd.notna(cmu_imdb_movieLens_movies['revenue']) & (cmu_imdb_movieLens_movies['revenue'] != 0))]\n",
    "\n",
    "display(filtered_df)"
   ]
  },
  {
   "cell_type": "code",
   "execution_count": null,
   "id": "b409e2e7",
   "metadata": {},
   "outputs": [],
   "source": [
    "#matching our '4th merge' df with the new enhanced imdb movies dataset\n",
    "matched_enhanced_imdb_movies = pd.merge(enhanced_imdb_movies, cmu_imdb_movieLens_movies, left_on='imdb_title_id',right_on='tconst',how='inner')#.drop(columns='imdb')\n",
    "display(matched_enhanced_imdb_movies)"
   ]
  },
  {
   "cell_type": "code",
   "execution_count": null,
   "id": "f423ab02",
   "metadata": {},
   "outputs": [],
   "source": [
    "# For this merged df, only see the ones with valid values for the revenue (can come from three columns : worlwide_gross_income (imdb enhanced), Movie box office revenue (CMU) and revenue (MovieLens))\n",
    "meim_revenue_valid = matched_enhanced_imdb_movies[((pd.notna(matched_enhanced_imdb_movies['worlwide_gross_income']) & (matched_enhanced_imdb_movies['worlwide_gross_income'] != 0)) | \n",
    "                 (pd.notna(matched_enhanced_imdb_movies['revenue']) & (matched_enhanced_imdb_movies['revenue'] != 0)) | (pd.notna(matched_enhanced_imdb_movies['Movie box office revenue']) & (matched_enhanced_imdb_movies['Movie box office revenue'] != 0)) )]\n",
    "\n",
    "display(meim_revenue_valid[['Wikipedia movie ID','imdb_title_id','primaryTitle','release_date','Movie box office revenue','revenue','worlwide_gross_income','budget_x','budget_y']])"
   ]
  },
  {
   "cell_type": "code",
   "execution_count": null,
   "id": "a2ce26e8",
   "metadata": {},
   "outputs": [],
   "source": [
    "# We 'merge' these three columns naively by taking the one from CMU if it exists, if not from MovieLens, if both not then from enhanced imdb\n",
    "# Not optimal, but i haven't thought of anything better right now. Maybe better to not add this new dataset and stick to what we have\n",
    "import numpy as np\n",
    "meim_revenue_valid_v2 = meim_revenue_valid.copy()\n",
    "meim_revenue_valid_v2['worlwide_gross_income'] = pd.to_numeric(meim_revenue_valid_v2['worlwide_gross_income'].str.replace('[\\$,]', '', regex=True), errors='coerce')\n",
    "meim_revenue_valid_v2['movie_revenue'] = meim_revenue_valid_v2['Movie box office revenue'].replace(0, np.nan).fillna(meim_revenue_valid_v2['revenue']).replace(0, np.nan).fillna(meim_revenue_valid_v2['worlwide_gross_income'])\n",
    "meim_revenue_valid_v2.drop(columns=['worlwide_gross_income','revenue','Movie box office revenue'], inplace=True)\n",
    "\n",
    "movies_data = meim_revenue_valid_v2[['tconst','Wikipedia movie ID', 'Freebase movie ID', 'runtimeMinutes','title_x','date_published','country','language','genres_x', 'production_companies','vote_average', 'vote_count', 'movie_revenue']]\n",
    "display(movies_data)"
   ]
  },
  {
   "cell_type": "markdown",
   "id": "22c6ee8f",
   "metadata": {},
   "source": [
    "#### 2) Adding enhanced imdb and scraped cmu (only revenue not taking budget into account)"
   ]
  },
  {
   "cell_type": "code",
   "execution_count": null,
   "id": "ade12591",
   "metadata": {},
   "outputs": [],
   "source": [
    "# 8401\n",
    "cmu_revenue = cmu_movies[cmu_movies[\"Movie box office revenue\"].notna()].copy() \n",
    "# 32174\n",
    "imdb_revenue = enhanced_imdb_movies[enhanced_imdb_movies[['usa_gross_income', 'worlwide_gross_income']].notna().any(axis=1)].copy()\n",
    "# 45463\n",
    "movieLens_revenue = movieLens_movies[movieLens_movies[\"revenue\"].notna()].copy()\n",
    "# 18410\n",
    "scraped_revenue = cmu_scraped_movies[cmu_scraped_movies[\"Box office\"].notna()].copy()"
   ]
  },
  {
   "cell_type": "code",
   "execution_count": null,
   "id": "26685a59",
   "metadata": {},
   "outputs": [],
   "source": [
    "merged_df = pd.merge(cmu_imdb_movieLens_movies, enhanced_imdb_movies, left_on=\"tconst\", right_on=\"imdb_title_id\", how=\"inner\")\n",
    "\n",
    "merged_df[\"Wikipedia movie ID\"] = merged_df[\"Wikipedia movie ID\"].astype(\"int64\")\n",
    "scraped_revenue[\"Wikipedia movie ID\"] = scraped_revenue[\"Wikipedia movie ID\"].astype(\"int64\")\n",
    "\n",
    "# outer merge\n",
    "merged_df = pd.merge(merged_df, scraped_revenue, left_on=\"Wikipedia movie ID\", right_on=\"Wikipedia movie ID\", how=\"outer\")\n",
    "\n",
    "columns_to_check = [\"Movie box office revenue\", \"Box office\", \"usa_gross_income\", \"worlwide_gross_income\", \"revenue\"]\n",
    "revenue_df = merged_df.dropna(subset=columns_to_check, how='all')\n",
    "\n",
    "del merged_df\n",
    "gc.collect()\n",
    "\n",
    "revenue_df[\"Wikipedia movie ID\"] = pd.to_numeric(revenue_df[\"Wikipedia movie ID\"], downcast=\"integer\")\n",
    "scraped_revenue[\"Wikipedia movie ID\"] = pd.to_numeric(scraped_revenue[\"Wikipedia movie ID\"], downcast=\"integer\")\n",
    "\n",
    "len(revenue_df)"
   ]
  },
  {
   "cell_type": "markdown",
   "id": "e670e4d8",
   "metadata": {},
   "source": [
    "***\n",
    "\n",
    "## Looking at the awards for our selected movies"
   ]
  },
  {
   "cell_type": "markdown",
   "id": "9ca9109d",
   "metadata": {},
   "source": [
    "##### Let's just take cmu_imdb_movies_v4 (4th merge) as the basis for the dataset exploration"
   ]
  },
  {
   "cell_type": "code",
   "execution_count": null,
   "id": "5f7daf63",
   "metadata": {},
   "outputs": [],
   "source": [
    "#Only keeping the movies awards for now, discarding the ones for the actors.\n",
    "awards = awards[awards['isTitle']]\n",
    "cmu_imdb_awards = pd.merge(awards,cmu_imdb_movies_v4['tconst'], left_on='const',right_on='tconst',how='inner').drop(columns=['tconst'])\n",
    "cmu_imdb_awards.const.nunique()"
   ]
  },
  {
   "cell_type": "markdown",
   "id": "6d699382",
   "metadata": {},
   "source": [
    "Awards info about 29 049 movies of the 4th merge."
   ]
  },
  {
   "cell_type": "code",
   "execution_count": null,
   "id": "53b952bc",
   "metadata": {},
   "outputs": [],
   "source": [
    "unique_events = cmu_imdb_awards[['eventId','eventName']].drop_duplicates('eventId')\n",
    "display(unique_events)\n",
    "#2148 Cinema awards ceremonies in the dataset."
   ]
  },
  {
   "cell_type": "code",
   "execution_count": null,
   "id": "f3322272",
   "metadata": {},
   "outputs": [],
   "source": [
    "event_counts = cmu_imdb_awards['eventName'].value_counts()\n",
    "plt.figure(figsize=(10, 6))\n",
    "event_counts[:10].plot(kind='bar', color='skyblue')\n",
    "plt.title('Most frequent Award names')\n",
    "plt.xlabel('Event Name')\n",
    "plt.ylabel('Frequency')\n",
    "plt.xticks(rotation=45, ha='right') \n",
    "plt.tight_layout()\n",
    "plt.show()"
   ]
  },
  {
   "cell_type": "code",
   "execution_count": null,
   "id": "f2d68d39",
   "metadata": {},
   "outputs": [],
   "source": [
    "nominations_per_movie = cmu_imdb_awards.groupby(['const', 'eventName', 'year']).agg({\n",
    "    'categoryName': ['size', lambda x: ', '.join(x.fillna('Not mentioned'))],\n",
    "    'isWinner': lambda x: x.tolist()\n",
    "}).reset_index()\n",
    "\n",
    "# Rename the columns for clarity\n",
    "nominations_per_movie.columns = ['tconst', 'eventName', 'year', 'numNominations', 'nominationsList', 'isWinnerList']"
   ]
  },
  {
   "cell_type": "code",
   "execution_count": null,
   "id": "70b1a2ee",
   "metadata": {},
   "outputs": [],
   "source": [
    "#For the famous movie Se7ven for instance\n",
    "nominations_per_movie[nominations_per_movie['tconst'] == 'tt0114369']"
   ]
  },
  {
   "cell_type": "markdown",
   "id": "1ea07c14",
   "metadata": {},
   "source": [
    "Basically what's on the IMDb page of the movies. Let's take another less known [movie](https://www.imdb.com/title/tt0191173/) to see if what where they've been nominated."
   ]
  },
  {
   "cell_type": "code",
   "execution_count": null,
   "id": "094d4c8e",
   "metadata": {},
   "outputs": [],
   "source": [
    "nominations_per_movie[nominations_per_movie['tconst'] =='tt0191173']"
   ]
  }
 ],
 "metadata": {
  "kernelspec": {
   "display_name": "Python 3 (ipykernel)",
   "language": "python",
   "name": "python3"
  },
  "language_info": {
   "codemirror_mode": {
    "name": "ipython",
    "version": 3
   },
   "file_extension": ".py",
   "mimetype": "text/x-python",
   "name": "python",
   "nbconvert_exporter": "python",
   "pygments_lexer": "ipython3",
   "version": "3.10.11"
  }
 },
 "nbformat": 4,
 "nbformat_minor": 5
}

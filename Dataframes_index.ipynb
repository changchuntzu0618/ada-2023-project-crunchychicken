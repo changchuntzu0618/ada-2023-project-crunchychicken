{
 "cells": [
  {
   "cell_type": "code",
   "execution_count": 1,
   "id": "a49f10de",
   "metadata": {},
   "outputs": [],
   "source": [
    "import pandas as pd\n",
    "import gc\n",
    "\n",
    "from helpers.readers import read_dataframe"
   ]
  },
  {
   "cell_type": "markdown",
   "id": "4bc358c8",
   "metadata": {},
   "source": [
    "<a id=\"Contents\"></a> <br>\n",
    "# Content\n",
    "* [1 - Loading default dataframes](#default)\n",
    "<br>\n",
    "* [2 - Merged Dataframes](#merged)\n",
    "<br>"
   ]
  },
  {
   "cell_type": "markdown",
   "id": "00653d60",
   "metadata": {},
   "source": [
    "- **Q1: How impactful is the team surrounding the director on the success of a movie?**\n",
    "- **Q2: To what extent does the director’s choice of movie genre affect the success of the movie?**\n",
    "- **Q3: What is the impact of the director’s character choices on the success of the movie?**\n",
    "- **Q4 (opt.): Can we spot bright underrated directors who are in the early stages of their career?**"
   ]
  },
  {
   "cell_type": "markdown",
   "id": "70b81712",
   "metadata": {},
   "source": [
    "<img src=\"https://i.postimg.cc/d3X75w5g/cmu-with-nlp.png\" width=\"600\"/>\n",
    "<img src=\"https://i.postimg.cc/NjvFFNS8/imdb.png\" width=\"400\"/>\n",
    "<img src=\"https://i.postimg.cc/yNVNXDVk/mappings.png\" width=\"500\"/>\n",
    "<img src=\"https://i.postimg.cc/KvTnQPp9/movielens.png\" width=\"550\"/>"
   ]
  },
  {
   "cell_type": "markdown",
   "id": "41f0ba79",
   "metadata": {},
   "source": [
    "<a class=\"anchor\" id=\"default\"></a>\n",
    "## Loading default dataframes\n",
    "[Back to Table of Contents](#Contents)"
   ]
  },
  {
   "cell_type": "markdown",
   "id": "0783f5ff",
   "metadata": {},
   "source": [
    "### CMU Metadata"
   ]
  },
  {
   "cell_type": "code",
   "execution_count": 2,
   "id": "b63d2374",
   "metadata": {},
   "outputs": [
    {
     "name": "stdout",
     "output_type": "stream",
     "text": [
      "Preprocess logs:\n",
      "✅ Fixed Movie Languages inside Movie Countries\n",
      "✅ Removed Deseret characters\n",
      "✅ Movie release date splitted to three columns: Movie release Year, Movie release Month, Movie release Day\n",
      "✅ Seperated freebase identifiers from Movie Languages, Movie Countries and Movie Genres\n",
      "<class 'pandas.core.frame.DataFrame'>\n",
      "RangeIndex: 81741 entries, 0 to 81740\n",
      "Data columns (total 11 columns):\n",
      " #   Column                    Non-Null Count  Dtype  \n",
      "---  ------                    --------------  -----  \n",
      " 0   Wikipedia movie ID        81741 non-null  int32  \n",
      " 1   Freebase movie ID         81741 non-null  string \n",
      " 2   Movie name                81741 non-null  string \n",
      " 3   Movie box office revenue  8401 non-null   float64\n",
      " 4   Movie runtime             61291 non-null  float32\n",
      " 5   Movie release Year        74839 non-null  Int16  \n",
      " 6   Movie release Month       42667 non-null  Int8   \n",
      " 7   Movie release Day         39373 non-null  Int8   \n",
      " 8   Movie languages           81741 non-null  string \n",
      " 9   Movie countries           81741 non-null  string \n",
      " 10  Movie genres              81741 non-null  string \n",
      "dtypes: Int16(1), Int8(2), float32(1), float64(1), int32(1), string(5)\n",
      "memory usage: 4.9 MB\n"
     ]
    },
    {
     "data": {
      "text/html": [
       "<div>\n",
       "<style scoped>\n",
       "    .dataframe tbody tr th:only-of-type {\n",
       "        vertical-align: middle;\n",
       "    }\n",
       "\n",
       "    .dataframe tbody tr th {\n",
       "        vertical-align: top;\n",
       "    }\n",
       "\n",
       "    .dataframe thead th {\n",
       "        text-align: right;\n",
       "    }\n",
       "</style>\n",
       "<table border=\"1\" class=\"dataframe\">\n",
       "  <thead>\n",
       "    <tr style=\"text-align: right;\">\n",
       "      <th></th>\n",
       "      <th>Wikipedia movie ID</th>\n",
       "      <th>Freebase movie ID</th>\n",
       "      <th>Movie name</th>\n",
       "      <th>Movie box office revenue</th>\n",
       "      <th>Movie runtime</th>\n",
       "      <th>Movie release Year</th>\n",
       "      <th>Movie release Month</th>\n",
       "      <th>Movie release Day</th>\n",
       "      <th>Movie languages</th>\n",
       "      <th>Movie countries</th>\n",
       "      <th>Movie genres</th>\n",
       "    </tr>\n",
       "  </thead>\n",
       "  <tbody>\n",
       "    <tr>\n",
       "      <th>0</th>\n",
       "      <td>975900</td>\n",
       "      <td>/m/03vyhn</td>\n",
       "      <td>Ghosts of Mars</td>\n",
       "      <td>14010832.0</td>\n",
       "      <td>98.0</td>\n",
       "      <td>2001</td>\n",
       "      <td>8</td>\n",
       "      <td>24</td>\n",
       "      <td>English</td>\n",
       "      <td>United States of America</td>\n",
       "      <td>Thriller,Science Fiction,Horror,Adventure,Supe...</td>\n",
       "    </tr>\n",
       "  </tbody>\n",
       "</table>\n",
       "</div>"
      ],
      "text/plain": [
       "   Wikipedia movie ID Freebase movie ID      Movie name  \\\n",
       "0              975900         /m/03vyhn  Ghosts of Mars   \n",
       "\n",
       "   Movie box office revenue  Movie runtime  Movie release Year  \\\n",
       "0                14010832.0           98.0                2001   \n",
       "\n",
       "   Movie release Month  Movie release Day Movie languages  \\\n",
       "0                    8                 24         English   \n",
       "\n",
       "            Movie countries                                       Movie genres  \n",
       "0  United States of America  Thriller,Science Fiction,Horror,Adventure,Supe...  "
      ]
     },
     "execution_count": 2,
     "metadata": {},
     "output_type": "execute_result"
    }
   ],
   "source": [
    "cmu_movies = read_dataframe(name='cmu/movies', preprocess=True, usecols=[\n",
    "    \"Wikipedia movie ID\", \n",
    "    \"Freebase movie ID\", \n",
    "    \"Movie name\", \n",
    "    \"Movie release date\", \n",
    "    \"Movie box office revenue\", \n",
    "    \"Movie runtime\", \n",
    "    \"Movie languages\", \n",
    "    \"Movie countries\", \n",
    "    \"Movie genres\",\n",
    "])\n",
    "\n",
    "cmu_movies.info()\n",
    "cmu_movies.head(1)"
   ]
  },
  {
   "cell_type": "code",
   "execution_count": 3,
   "id": "b32f0efc",
   "metadata": {},
   "outputs": [
    {
     "name": "stdout",
     "output_type": "stream",
     "text": [
      "Preprocess logs:\n",
      "✅ Movie release date splitted to three columns: Movie release Year, Movie release Month, Movie release Day\n",
      "✅ Actor DOB splitted to three columns: Actor DOB Year, Actor DOB Month, Actor DOB Day\n",
      "✅ Dropped Freebase character/actor map ID and Freebase character ID\n",
      "<class 'pandas.core.frame.DataFrame'>\n",
      "RangeIndex: 450669 entries, 0 to 450668\n",
      "Data columns (total 15 columns):\n",
      " #   Column                           Non-Null Count   Dtype  \n",
      "---  ------                           --------------   -----  \n",
      " 0   Wikipedia movie ID               450669 non-null  int32  \n",
      " 1   Freebase movie ID                450669 non-null  string \n",
      " 2   Character name                   192794 non-null  string \n",
      " 3   Actor gender                     405060 non-null  string \n",
      " 4   Actor height                     154824 non-null  float32\n",
      " 5   Actor ethnicity                  106058 non-null  string \n",
      " 6   Actor name                       449441 non-null  string \n",
      " 7   Actor age at movie release       292556 non-null  float32\n",
      " 8   Freebase character/actor map ID  450669 non-null  string \n",
      " 9   Movie release Year               440674 non-null  Int16  \n",
      " 10  Movie release Month              290872 non-null  Int8   \n",
      " 11  Movie release Day                273887 non-null  Int8   \n",
      " 12  Actor DOB Year                   344524 non-null  Int16  \n",
      " 13  Actor DOB Month                  330658 non-null  Int8   \n",
      " 14  Actor DOB Day                    329918 non-null  Int8   \n",
      "dtypes: Int16(2), Int8(4), float32(2), int32(1), string(6)\n",
      "memory usage: 31.8 MB\n"
     ]
    },
    {
     "data": {
      "text/html": [
       "<div>\n",
       "<style scoped>\n",
       "    .dataframe tbody tr th:only-of-type {\n",
       "        vertical-align: middle;\n",
       "    }\n",
       "\n",
       "    .dataframe tbody tr th {\n",
       "        vertical-align: top;\n",
       "    }\n",
       "\n",
       "    .dataframe thead th {\n",
       "        text-align: right;\n",
       "    }\n",
       "</style>\n",
       "<table border=\"1\" class=\"dataframe\">\n",
       "  <thead>\n",
       "    <tr style=\"text-align: right;\">\n",
       "      <th></th>\n",
       "      <th>Wikipedia movie ID</th>\n",
       "      <th>Freebase movie ID</th>\n",
       "      <th>Character name</th>\n",
       "      <th>Actor gender</th>\n",
       "      <th>Actor height</th>\n",
       "      <th>Actor ethnicity</th>\n",
       "      <th>Actor name</th>\n",
       "      <th>Actor age at movie release</th>\n",
       "      <th>Freebase character/actor map ID</th>\n",
       "      <th>Movie release Year</th>\n",
       "      <th>Movie release Month</th>\n",
       "      <th>Movie release Day</th>\n",
       "      <th>Actor DOB Year</th>\n",
       "      <th>Actor DOB Month</th>\n",
       "      <th>Actor DOB Day</th>\n",
       "    </tr>\n",
       "  </thead>\n",
       "  <tbody>\n",
       "    <tr>\n",
       "      <th>0</th>\n",
       "      <td>975900</td>\n",
       "      <td>/m/03vyhn</td>\n",
       "      <td>Akooshay</td>\n",
       "      <td>F</td>\n",
       "      <td>1.62</td>\n",
       "      <td>&lt;NA&gt;</td>\n",
       "      <td>Wanda De Jesus</td>\n",
       "      <td>42.0</td>\n",
       "      <td>/m/0bgchxw</td>\n",
       "      <td>2001</td>\n",
       "      <td>8</td>\n",
       "      <td>24</td>\n",
       "      <td>1958</td>\n",
       "      <td>8</td>\n",
       "      <td>26</td>\n",
       "    </tr>\n",
       "  </tbody>\n",
       "</table>\n",
       "</div>"
      ],
      "text/plain": [
       "   Wikipedia movie ID Freebase movie ID Character name Actor gender  \\\n",
       "0              975900         /m/03vyhn       Akooshay            F   \n",
       "\n",
       "   Actor height Actor ethnicity      Actor name  Actor age at movie release  \\\n",
       "0          1.62            <NA>  Wanda De Jesus                        42.0   \n",
       "\n",
       "  Freebase character/actor map ID  Movie release Year  Movie release Month  \\\n",
       "0                      /m/0bgchxw                2001                    8   \n",
       "\n",
       "   Movie release Day  Actor DOB Year  Actor DOB Month  Actor DOB Day  \n",
       "0                 24            1958                8             26  "
      ]
     },
     "execution_count": 3,
     "metadata": {},
     "output_type": "execute_result"
    }
   ],
   "source": [
    "cmu_characters = read_dataframe(name='cmu/characters', preprocess=True, usecols=[\n",
    "    \"Wikipedia movie ID\",\n",
    "    \"Freebase movie ID\",\n",
    "    \"Movie release date\",\n",
    "    \"Character name\",\n",
    "    \"Actor DOB\",\n",
    "    \"Actor gender\",\n",
    "    \"Actor height\",\n",
    "    \"Actor ethnicity\",\n",
    "    \"Actor name\",\n",
    "    \"Actor age at movie release\",\n",
    "    \"Freebase character/actor map ID\",\n",
    "    \"Freebase character ID\",\n",
    "    \"Freebase actor ID\",\n",
    "])\n",
    "\n",
    "cmu_characters.info()\n",
    "cmu_characters.head(1)"
   ]
  },
  {
   "cell_type": "markdown",
   "id": "3e7567be",
   "metadata": {},
   "source": [
    "### IMDb (https://developer.imdb.com/non-commercial-datasets/) (4/7)"
   ]
  },
  {
   "cell_type": "code",
   "execution_count": 4,
   "id": "fc041c5e",
   "metadata": {},
   "outputs": [
    {
     "name": "stdout",
     "output_type": "stream",
     "text": [
      "<class 'pandas.core.frame.DataFrame'>\n",
      "RangeIndex: 12904751 entries, 0 to 12904750\n",
      "Data columns (total 6 columns):\n",
      " #   Column             Dtype \n",
      "---  ------             ----- \n",
      " 0   nconst             string\n",
      " 1   primaryName        string\n",
      " 2   birthYear          Int16 \n",
      " 3   deathYear          Int16 \n",
      " 4   primaryProfession  string\n",
      " 5   knownForTitles     string\n",
      "dtypes: Int16(2), string(4)\n",
      "memory usage: 467.7 MB\n"
     ]
    },
    {
     "data": {
      "text/html": [
       "<div>\n",
       "<style scoped>\n",
       "    .dataframe tbody tr th:only-of-type {\n",
       "        vertical-align: middle;\n",
       "    }\n",
       "\n",
       "    .dataframe tbody tr th {\n",
       "        vertical-align: top;\n",
       "    }\n",
       "\n",
       "    .dataframe thead th {\n",
       "        text-align: right;\n",
       "    }\n",
       "</style>\n",
       "<table border=\"1\" class=\"dataframe\">\n",
       "  <thead>\n",
       "    <tr style=\"text-align: right;\">\n",
       "      <th></th>\n",
       "      <th>nconst</th>\n",
       "      <th>primaryName</th>\n",
       "      <th>birthYear</th>\n",
       "      <th>deathYear</th>\n",
       "      <th>primaryProfession</th>\n",
       "      <th>knownForTitles</th>\n",
       "    </tr>\n",
       "  </thead>\n",
       "  <tbody>\n",
       "    <tr>\n",
       "      <th>0</th>\n",
       "      <td>nm0000001</td>\n",
       "      <td>Fred Astaire</td>\n",
       "      <td>1899</td>\n",
       "      <td>1987</td>\n",
       "      <td>soundtrack,actor,miscellaneous</td>\n",
       "      <td>tt0053137,tt0050419,tt0072308,tt0031983</td>\n",
       "    </tr>\n",
       "  </tbody>\n",
       "</table>\n",
       "</div>"
      ],
      "text/plain": [
       "      nconst   primaryName  birthYear  deathYear  \\\n",
       "0  nm0000001  Fred Astaire       1899       1987   \n",
       "\n",
       "                primaryProfession                           knownForTitles  \n",
       "0  soundtrack,actor,miscellaneous  tt0053137,tt0050419,tt0072308,tt0031983  "
      ]
     },
     "execution_count": 4,
     "metadata": {},
     "output_type": "execute_result"
    }
   ],
   "source": [
    "imdb_people = read_dataframe(name='imdb/names')\n",
    "imdb_people.info()\n",
    "imdb_people.head(1)"
   ]
  },
  {
   "cell_type": "code",
   "execution_count": null,
   "id": "41375f77",
   "metadata": {},
   "outputs": [],
   "source": [
    "imdb_info = read_dataframe(name='imdb/movies', preprocess=True)\n",
    "imdb_info.info()\n",
    "imdb_info.head(1)"
   ]
  },
  {
   "cell_type": "code",
   "execution_count": null,
   "id": "ef308bdd",
   "metadata": {},
   "outputs": [],
   "source": [
    "imdb_principals = read_dataframe(name='imdb/principals')\n",
    "imdb_principals.info()\n",
    "imdb_principals.head(1)"
   ]
  },
  {
   "cell_type": "code",
   "execution_count": null,
   "id": "4a05c443",
   "metadata": {},
   "outputs": [],
   "source": [
    "imdb_ratings = read_dataframe(name='imdb/ratings')\n",
    "imdb_ratings.info()\n",
    "imdb_ratings.head(1)"
   ]
  },
  {
   "cell_type": "markdown",
   "id": "bcdc3ab4",
   "metadata": {},
   "source": [
    "### Unused IMDb (3/7):"
   ]
  },
  {
   "cell_type": "code",
   "execution_count": null,
   "id": "c443bb43",
   "metadata": {},
   "outputs": [],
   "source": [
    "imdb_akas = read_dataframe(name='imdb/akas')\n",
    "imdb_akas.info()\n",
    "imdb_akas.head(1)"
   ]
  },
  {
   "cell_type": "code",
   "execution_count": null,
   "id": "ab062ed2",
   "metadata": {},
   "outputs": [],
   "source": [
    "imdb_crew = read_dataframe(name='imdb/crew')\n",
    "imdb_crew.info()\n",
    "imdb_crew.head(1)"
   ]
  },
  {
   "cell_type": "code",
   "execution_count": null,
   "id": "19305f99",
   "metadata": {},
   "outputs": [],
   "source": [
    "imdb_episode = read_dataframe(name='imdb/episode')\n",
    "imdb_episode.info()\n",
    "imdb_episode.head(1)"
   ]
  },
  {
   "cell_type": "markdown",
   "id": "a01a59e9",
   "metadata": {},
   "source": [
    "### Mappings"
   ]
  },
  {
   "cell_type": "code",
   "execution_count": null,
   "id": "6b93bbcd",
   "metadata": {},
   "outputs": [],
   "source": [
    "mapping_w_i_f = read_dataframe(name='mapping_wikipedia_imdb_freebase')\n",
    "mapping_w_i_f.info()\n",
    "mapping_w_i_f.head(1)"
   ]
  },
  {
   "cell_type": "code",
   "execution_count": null,
   "id": "72ae89a5",
   "metadata": {},
   "outputs": [],
   "source": [
    "mapping_w_i = read_dataframe(name='mapping_wikipedia_imdb')\n",
    "mapping_w_i.info()\n",
    "mapping_w_i.head(1)"
   ]
  },
  {
   "cell_type": "code",
   "execution_count": null,
   "id": "6f890d0d",
   "metadata": {},
   "outputs": [],
   "source": [
    "mapping_f_i = read_dataframe(name='mapping_freebase_imdb')\n",
    "mapping_f_i.info()\n",
    "mapping_f_i.head(1)"
   ]
  },
  {
   "cell_type": "markdown",
   "id": "55ab6a2e",
   "metadata": {},
   "source": [
    "### MovieLens (https://www.kaggle.com/datasets/rounakbanik/the-movies-dataset) 1/5"
   ]
  },
  {
   "cell_type": "code",
   "execution_count": null,
   "id": "d36a1640",
   "metadata": {},
   "outputs": [],
   "source": [
    "movieLens_movies = read_dataframe(name='movieLens/movies', preprocess=True)\n",
    "movieLens_movies.info()\n",
    "movieLens_movies.head(1)"
   ]
  },
  {
   "cell_type": "markdown",
   "id": "85265c26",
   "metadata": {},
   "source": [
    "### Unused MovieLens (4/5)"
   ]
  },
  {
   "cell_type": "code",
   "execution_count": null,
   "id": "460df3a0",
   "metadata": {},
   "outputs": [],
   "source": [
    "movieLens_credits = read_dataframe('movieLens/credits')\n",
    "movieLens_credits.info()\n",
    "movieLens_credits.head(1)"
   ]
  },
  {
   "cell_type": "code",
   "execution_count": null,
   "id": "2b25091c",
   "metadata": {},
   "outputs": [],
   "source": [
    "movieLens_keywords = read_dataframe('movieLens/keywords')\n",
    "movieLens_keywords.info()\n",
    "movieLens_keywords.head(1)"
   ]
  },
  {
   "cell_type": "code",
   "execution_count": null,
   "id": "42971bb6",
   "metadata": {},
   "outputs": [],
   "source": [
    "movieLens_links = read_dataframe('movieLens/links', preprocess=True)\n",
    "movieLens_links.info()\n",
    "movieLens_links.head(1)"
   ]
  },
  {
   "cell_type": "code",
   "execution_count": null,
   "id": "33b72a79",
   "metadata": {},
   "outputs": [],
   "source": [
    "movieLens_ratings = read_dataframe('movieLens/ratings')\n",
    "movieLens_ratings.info()\n",
    "movieLens_ratings.head(1)"
   ]
  },
  {
   "cell_type": "markdown",
   "id": "6792e6f6",
   "metadata": {},
   "source": [
    "### CMU Summaries NLP"
   ]
  },
  {
   "cell_type": "code",
   "execution_count": null,
   "id": "816d7e60",
   "metadata": {},
   "outputs": [],
   "source": [
    "cmu_summaries = read_dataframe(name='cmu/summaries', usecols=[\n",
    "    \"Wikipedia movie ID\", \n",
    "    \"Plot Summary\"\n",
    "])\n",
    "cmu_summaries.info()\n",
    "\n",
    "cmu_nameclusters = read_dataframe(name='cmu/nameclusters', usecols=['Character name', 'Freebase character/actor map ID'])\n",
    "cmu_nameclusters.info()\n",
    "\n",
    "cmu_tvtropes = read_dataframe(name='cmu/tvtropes')\n",
    "cmu_tvtropes.info()"
   ]
  },
  {
   "cell_type": "code",
   "execution_count": null,
   "id": "e8befe8b",
   "metadata": {},
   "outputs": [],
   "source": [
    "cmu_characters = read_dataframe('cmu/characters_2023')\n",
    "cmu_characters.info()\n",
    "cmu_characters.head(1)"
   ]
  },
  {
   "cell_type": "markdown",
   "id": "db2b29a6",
   "metadata": {},
   "source": [
    "## Merged Dataframes"
   ]
  },
  {
   "cell_type": "markdown",
   "id": "1bb49f44",
   "metadata": {},
   "source": [
    "### Mappings preliminary analysis"
   ]
  },
  {
   "cell_type": "code",
   "execution_count": null,
   "id": "0f707394",
   "metadata": {},
   "outputs": [],
   "source": [
    "mapping_w_i_f.isna().any()"
   ]
  },
  {
   "cell_type": "code",
   "execution_count": null,
   "id": "cfb4c6c8",
   "metadata": {},
   "outputs": [],
   "source": [
    "mapping_w_i.isna().any()"
   ]
  },
  {
   "cell_type": "code",
   "execution_count": null,
   "id": "e4eab3e6",
   "metadata": {},
   "outputs": [],
   "source": [
    "mapping_f_i.isna().any()"
   ]
  },
  {
   "cell_type": "code",
   "execution_count": null,
   "id": "7cae0e9d",
   "metadata": {},
   "outputs": [],
   "source": [
    "len(mapping_w_i_f), len(mapping_w_i), len(mapping_f_i)"
   ]
  },
  {
   "cell_type": "code",
   "execution_count": null,
   "id": "5616e7fe",
   "metadata": {},
   "outputs": [],
   "source": [
    "w_ids_from_w_i_f = set(mapping_w_i_f['wikipedia'])\n",
    "i_ids_from_w_i_f = set(mapping_w_i_f['imdb']) # tconst\n",
    "f_ids_from_w_i_f = set(mapping_w_i_f['freebase'])\n",
    "\n",
    "w_ids_from_w_i = set(mapping_w_i['wikipedia'])\n",
    "i_ids_from_w_i = set(mapping_w_i['imdb']) # tconst\n",
    "\n",
    "f_ids_from_f_i = set(mapping_f_i['freebase'])\n",
    "i_ids_from_f_i = set(mapping_f_i['imdb']) # # tconst\n",
    "\n",
    "\n",
    "# Intersections involving Wikipedia IDs\n",
    "intersection_w = w_ids_from_w_i_f.intersection(w_ids_from_w_i)\n",
    "\n",
    "# Intersections involving IMDb IDs\n",
    "intersection_i = i_ids_from_w_i_f.intersection(i_ids_from_w_i, i_ids_from_f_i)\n",
    "\n",
    "# Intersections involving Freebase IDs\n",
    "intersection_f = f_ids_from_w_i_f.intersection(f_ids_from_f_i)\n",
    "\n",
    "len(intersection_w), len(intersection_i), len(intersection_f)"
   ]
  },
  {
   "cell_type": "code",
   "execution_count": null,
   "id": "09a98a3b",
   "metadata": {},
   "outputs": [],
   "source": [
    "len(mapping_w_i_f.dropna())\n",
    "# equivalent to pd.merge(mapping_w_i, mapping_f_i, left_on=\"imdb\", right_on=\"imdb\", how=\"inner\")"
   ]
  },
  {
   "cell_type": "markdown",
   "id": "3ecce820",
   "metadata": {},
   "source": [
    "<a class=\"anchor\" id=\"merged\"></a>\n",
    "## CMU IMDb movie merge\n",
    "\n",
    "[Back to Table of Contents](#Contents)"
   ]
  },
  {
   "cell_type": "markdown",
   "id": "3eb8b216",
   "metadata": {},
   "source": [
    "### 1) Using \"wikipedia\" and \"imdb\" of mapping_w_i"
   ]
  },
  {
   "cell_type": "code",
   "execution_count": null,
   "id": "b2a2bca1",
   "metadata": {},
   "outputs": [],
   "source": [
    "cmu_movies['Wikipedia movie ID'] = cmu_movies['Wikipedia movie ID'].astype('int64')\n",
    "mapping_w_i['wikipedia'] = mapping_w_i['wikipedia'].astype('int64')\n",
    "\n",
    "merged_df = pd.merge(cmu_movies, mapping_w_i, left_on='Wikipedia movie ID', right_on='wikipedia', how='inner')\n",
    "\n",
    "cmu_imdb_movies = pd.merge(merged_df, imdb_info, left_on='imdb', right_on='tconst', how='inner')\n",
    "cmu_imdb_movies.drop(['wikipedia', 'imdb'], axis=1, inplace=True)\n",
    "\n",
    "cmu_movies[\"Wikipedia movie ID\"] = pd.to_numeric(cmu_movies[\"Wikipedia movie ID\"], downcast='integer')\n",
    "mapping_w_i[\"wikipedia\"] = pd.to_numeric(mapping_w_i[\"wikipedia\"], downcast='integer')\n",
    "cmu_imdb_movies[\"Wikipedia movie ID\"] = pd.to_numeric(cmu_imdb_movies[\"Wikipedia movie ID\"], downcast='integer')\n",
    "\n",
    "del merged_df\n",
    "gc.collect()\n",
    "\n",
    "cmu_imdb_movies.info()\n",
    "cmu_imdb_movies.head(1)"
   ]
  },
  {
   "cell_type": "markdown",
   "id": "c3683ab6",
   "metadata": {},
   "source": [
    "### 2) Using \"freebase\" and \"imdb\" of mapping_f_i"
   ]
  },
  {
   "cell_type": "code",
   "execution_count": null,
   "id": "487bf78b",
   "metadata": {},
   "outputs": [],
   "source": [
    "merged_df = pd.merge(cmu_movies, mapping_f_i, left_on='Freebase movie ID', right_on='freebase', how='inner')\n",
    "\n",
    "cmu_imdb_movies_v2 = pd.merge(merged_df, imdb_info, left_on='imdb', right_on='tconst', how='inner')\n",
    "\n",
    "cmu_imdb_movies_v2.drop(['freebase', 'imdb'], axis=1, inplace=True)\n",
    "\n",
    "del merged_df\n",
    "gc.collect()\n",
    "\n",
    "cmu_imdb_movies_v2.info()\n",
    "cmu_imdb_movies_v2.head(1)"
   ]
  },
  {
   "cell_type": "markdown",
   "id": "9d58d59e",
   "metadata": {},
   "source": [
    "### 3) Using \"wikipedia\" and \"imdb\" of mapping_w_i_f"
   ]
  },
  {
   "cell_type": "code",
   "execution_count": null,
   "id": "e3c75c5d",
   "metadata": {},
   "outputs": [],
   "source": [
    "cmu_movies['Wikipedia movie ID'] = cmu_movies['Wikipedia movie ID'].astype('int64')\n",
    "mapping_w_i['wikipedia'] = mapping_w_i['wikipedia'].astype('int64')\n",
    "\n",
    "merged_df = pd.merge(cmu_movies, mapping_w_i_f, left_on='Wikipedia movie ID', right_on='wikipedia', how='inner')\n",
    "\n",
    "cmu_imdb_movies_v3 = pd.merge(merged_df, imdb_info, left_on='imdb', right_on='tconst', how='inner')\n",
    "cmu_imdb_movies_v3.drop(['wikipedia', 'imdb'], axis=1, inplace=True)\n",
    "\n",
    "cmu_movies[\"Wikipedia movie ID\"] = pd.to_numeric(cmu_movies[\"Wikipedia movie ID\"], downcast='integer')\n",
    "mapping_w_i[\"wikipedia\"] = pd.to_numeric(mapping_w_i[\"wikipedia\"], downcast='integer')\n",
    "cmu_imdb_movies_v3[\"Wikipedia movie ID\"] = pd.to_numeric(cmu_imdb_movies_v3[\"Wikipedia movie ID\"], downcast='integer')\n",
    "\n",
    "del merged_df\n",
    "gc.collect()\n",
    "\n",
    "cmu_imdb_movies_v3.info()\n",
    "cmu_imdb_movies_v3.head(1)"
   ]
  },
  {
   "cell_type": "markdown",
   "id": "45cb727c",
   "metadata": {},
   "source": [
    "### 4) Using \"freebase\" and \"imdb\" of mapping_w_i_f"
   ]
  },
  {
   "cell_type": "code",
   "execution_count": null,
   "id": "9bd41999",
   "metadata": {},
   "outputs": [],
   "source": [
    "merged_df = pd.merge(cmu_movies, mapping_w_i_f, left_on='Freebase movie ID', right_on='freebase', how='inner')\n",
    "\n",
    "cmu_imdb_movies_v4 = pd.merge(merged_df, imdb_info, left_on='imdb', right_on='tconst', how='inner')\n",
    "\n",
    "cmu_imdb_movies_v4.drop(['freebase', 'imdb'], axis=1, inplace=True)\n",
    "\n",
    "del merged_df\n",
    "gc.collect()\n",
    "\n",
    "cmu_imdb_movies_v4.info()\n",
    "cmu_imdb_movies_v4.head(1)"
   ]
  },
  {
   "cell_type": "markdown",
   "id": "dfd99967",
   "metadata": {},
   "source": [
    "## CMU IMDb MovieLens movie merge"
   ]
  },
  {
   "cell_type": "markdown",
   "id": "dd2389e4",
   "metadata": {},
   "source": [
    "### 1) Direct approach "
   ]
  },
  {
   "cell_type": "code",
   "execution_count": null,
   "id": "9a380d94",
   "metadata": {},
   "outputs": [],
   "source": [
    "# arbitrary choice of using cmu_imdb_movies_v4\n",
    "cmu_imdb_movieLens_movies = pd.merge(cmu_imdb_movies_v4, movieLens_movies, left_on=\"tconst\", right_on=\"imdb_id\", how=\"inner\")\n",
    "cmu_imdb_movieLens_movies.drop(['imdb_id'], axis=1, inplace=True)\n",
    "\n",
    "cmu_imdb_movieLens_movies.info()\n",
    "cmu_imdb_movieLens_movies.head(1)"
   ]
  },
  {
   "cell_type": "markdown",
   "id": "73c8b822",
   "metadata": {},
   "source": [
    "### 2) Use movieLens_links"
   ]
  },
  {
   "cell_type": "code",
   "execution_count": null,
   "id": "9060ff8e",
   "metadata": {},
   "outputs": [],
   "source": [
    "movieLens_movies_merge = pd.merge(movieLens_links, movieLens_movies, left_on=\"imdbId\", right_on=\"imdb_id\", how=\"inner\")\n",
    "#cmu_imdb_movieLens_movies.drop(['imdbId'], axis=1, inplace=True)\n",
    "\n",
    "#cmu_imdb_movieLens_movies_v2.info()\n",
    "#cmu_imdb_movieLens_movies_v2.head(1)"
   ]
  },
  {
   "cell_type": "markdown",
   "id": "ca3758d9",
   "metadata": {},
   "source": [
    "## CMU Movies IMDb NLP characters  (+ MovieLens?)"
   ]
  },
  {
   "cell_type": "code",
   "execution_count": null,
   "id": "a7516e5f",
   "metadata": {},
   "outputs": [],
   "source": [
    "### add merged dataframes that we will use to solve our questions"
   ]
  }
 ],
 "metadata": {
  "kernelspec": {
   "display_name": "Python 3 (ipykernel)",
   "language": "python",
   "name": "python3"
  },
  "language_info": {
   "codemirror_mode": {
    "name": "ipython",
    "version": 3
   },
   "file_extension": ".py",
   "mimetype": "text/x-python",
   "name": "python",
   "nbconvert_exporter": "python",
   "pygments_lexer": "ipython3",
   "version": "3.10.11"
  }
 },
 "nbformat": 4,
 "nbformat_minor": 5
}

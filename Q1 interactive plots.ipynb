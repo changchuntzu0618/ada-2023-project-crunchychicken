{
 "cells": [
  {
   "cell_type": "code",
   "execution_count": 1,
   "id": "1aa25e5c",
   "metadata": {},
   "outputs": [],
   "source": [
    "import ipywidgets as widgets\n",
    "from IPython.display import display, HTML\n",
    "import os"
   ]
  },
  {
   "cell_type": "code",
   "execution_count": 18,
   "id": "eec288c7",
   "metadata": {},
   "outputs": [],
   "source": [
    "directory_path = './generated/Q1 graphs/'\n",
    "\n",
    "html_files = [f for f in os.listdir(directory_path) if f.endswith('.html')]\n",
    "\n",
    "def extract_number(file_name):\n",
    "    return int(file_name.replace('interactive_plot_', '').replace('.html', ''))\n",
    "\n",
    "sorted_html_files = sorted(html_files, key=extract_number)"
   ]
  },
  {
   "cell_type": "code",
   "execution_count": 19,
   "id": "1b547c12",
   "metadata": {},
   "outputs": [
    {
     "data": {
      "text/plain": [
       "['interactive_plot_0.html',\n",
       " 'interactive_plot_200.html',\n",
       " 'interactive_plot_400.html',\n",
       " 'interactive_plot_600.html',\n",
       " 'interactive_plot_1000.html',\n",
       " 'interactive_plot_1600.html',\n",
       " 'interactive_plot_1800.html',\n",
       " 'interactive_plot_2000.html',\n",
       " 'interactive_plot_3200.html',\n",
       " 'interactive_plot_3400.html']"
      ]
     },
     "execution_count": 19,
     "metadata": {},
     "output_type": "execute_result"
    }
   ],
   "source": [
    "sorted_html_files"
   ]
  },
  {
   "cell_type": "code",
   "execution_count": 20,
   "id": "5ad725cd",
   "metadata": {},
   "outputs": [],
   "source": [
    "plotly_plots = {}\n",
    "for file_name in sorted_html_files:\n",
    "    with open(os.path.join(directory_path, file_name), 'r') as file:\n",
    "        plotly_plots[file_name] = file.read()"
   ]
  },
  {
   "cell_type": "code",
   "execution_count": 24,
   "id": "13e2f060",
   "metadata": {},
   "outputs": [
    {
     "ename": "KeyError",
     "evalue": "'0'",
     "output_type": "error",
     "traceback": [
      "\u001b[1;31m---------------------------------------------------------------------------\u001b[0m",
      "\u001b[1;31mKeyError\u001b[0m                                  Traceback (most recent call last)",
      "Cell \u001b[1;32mIn[24], line 19\u001b[0m\n\u001b[0;32m     16\u001b[0m slider\u001b[38;5;241m.\u001b[39mobserve(update_plot, names\u001b[38;5;241m=\u001b[39m\u001b[38;5;124m'\u001b[39m\u001b[38;5;124mvalue\u001b[39m\u001b[38;5;124m'\u001b[39m)\n\u001b[0;32m     18\u001b[0m \u001b[38;5;66;03m# Display initial plot and slider\u001b[39;00m\n\u001b[1;32m---> 19\u001b[0m display(HTML(\u001b[43mplotly_plots\u001b[49m\u001b[43m[\u001b[49m\u001b[38;5;124;43m'\u001b[39;49m\u001b[38;5;124;43m0\u001b[39;49m\u001b[38;5;124;43m'\u001b[39;49m\u001b[43m]\u001b[49m))\n\u001b[0;32m     20\u001b[0m display(slider)\n",
      "\u001b[1;31mKeyError\u001b[0m: '0'"
     ]
    }
   ],
   "source": [
    "slider = widgets.IntSlider(\n",
    "    value=0,\n",
    "    min=0,\n",
    "    max=400,\n",
    "    step=200,\n",
    "    description='Plot:',\n",
    "    continuous_update=False\n",
    ")\n",
    "\n",
    "# Function to update plot based on slider\n",
    "def update_plot(change):\n",
    "    selected_plot = plotly_plots[str(change['new'])]\n",
    "    display(HTML(selected_plot))\n",
    "\n",
    "# Add observer to the slider\n",
    "slider.observe(update_plot, names='value')\n",
    "\n",
    "# Display initial plot and slider\n",
    "display(HTML(plotly_plots['0']))\n",
    "display(slider)\n"
   ]
  },
  {
   "cell_type": "code",
   "execution_count": null,
   "id": "da4e061d",
   "metadata": {},
   "outputs": [],
   "source": []
  }
 ],
 "metadata": {
  "kernelspec": {
   "display_name": "Python 3 (ipykernel)",
   "language": "python",
   "name": "python3"
  },
  "language_info": {
   "codemirror_mode": {
    "name": "ipython",
    "version": 3
   },
   "file_extension": ".py",
   "mimetype": "text/x-python",
   "name": "python",
   "nbconvert_exporter": "python",
   "pygments_lexer": "ipython3",
   "version": "3.10.11"
  }
 },
 "nbformat": 4,
 "nbformat_minor": 5
}

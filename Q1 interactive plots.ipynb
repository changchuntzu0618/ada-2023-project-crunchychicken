{
 "cells": [
  {
   "cell_type": "code",
   "execution_count": 1,
   "id": "e7fee78a",
   "metadata": {},
   "outputs": [],
   "source": [
    "import ipywidgets as widgets\n",
    "from IPython.display import display, HTML\n",
    "import os"
   ]
  },
  {
   "cell_type": "code",
   "execution_count": 18,
   "id": "6169b39b",
   "metadata": {},
   "outputs": [],
   "source": [
    "directory_path = './generated/Q1 graphs/'\n",
    "\n",
    "html_files = [f for f in os.listdir(directory_path) if f.endswith('.html')]\n",
    "\n",
    "def extract_number(file_name):\n",
    "    return int(file_name.replace('interactive_plot_', '').replace('.html', ''))\n",
    "\n",
    "sorted_html_files = sorted(html_files, key=extract_number)"
   ]
  },
  {
   "cell_type": "code",
   "execution_count": 19,
   "id": "b82e5024",
   "metadata": {},
   "outputs": [
    {
     "data": {
      "text/plain": [
       "['interactive_plot_0.html',\n",
       " 'interactive_plot_200.html',\n",
       " 'interactive_plot_400.html',\n",
       " 'interactive_plot_600.html',\n",
       " 'interactive_plot_1000.html',\n",
       " 'interactive_plot_1600.html',\n",
       " 'interactive_plot_1800.html',\n",
       " 'interactive_plot_2000.html',\n",
       " 'interactive_plot_3200.html',\n",
       " 'interactive_plot_3400.html']"
      ]
     },
     "execution_count": 19,
     "metadata": {},
     "output_type": "execute_result"
    }
   ],
   "source": [
    "sorted_html_files"
   ]
  },
  {
   "cell_type": "code",
   "execution_count": 20,
   "id": "b065e144",
   "metadata": {},
   "outputs": [],
   "source": [
    "plotly_plots = {}\n",
    "for file_name in sorted_html_files:\n",
    "    with open(os.path.join(directory_path, file_name), 'r') as file:\n",
    "        plotly_plots[file_name] = file.read()"
   ]
  },
  {
   "cell_type": "code",
   "execution_count": null,
   "id": "e8f2dde3",
   "metadata": {},
   "outputs": [],
   "source": [
    "slider = widgets.IntSlider(\n",
    "    value=0,\n",
    "    min=0,\n",
    "    max=400,\n",
    "    step=200,\n",
    "    description='Plot:',\n",
    "    continuous_update=False\n",
    ")\n",
    "\n",
    "# Function to update plot based on slider\n",
    "def update_plot(change):\n",
    "    selected_plot = plots[str(change['new'])]\n",
    "    display(HTML(selected_plot))\n",
    "\n",
    "# Add observer to the slider\n",
    "slider.observe(update_plot, names='value')\n",
    "\n",
    "# Display initial plot and slider\n",
    "display(HTML(plots['0']))\n",
    "display(slider)\n"
   ]
  }
 ],
 "metadata": {
  "kernelspec": {
   "display_name": "Python 3 (ipykernel)",
   "language": "python",
   "name": "python3"
  },
  "language_info": {
   "codemirror_mode": {
    "name": "ipython",
    "version": 3
   },
   "file_extension": ".py",
   "mimetype": "text/x-python",
   "name": "python",
   "nbconvert_exporter": "python",
   "pygments_lexer": "ipython3",
   "version": "3.10.11"
  }
 },
 "nbformat": 4,
 "nbformat_minor": 5
}

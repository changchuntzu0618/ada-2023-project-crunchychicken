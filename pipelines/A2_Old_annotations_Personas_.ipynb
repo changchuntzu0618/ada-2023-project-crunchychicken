{
 "cells": [
  {
   "cell_type": "code",
   "execution_count": 2,
   "id": "2580e385",
   "metadata": {},
   "outputs": [],
   "source": [
    "import pandas as pd\n",
    "import os\n",
    "from tqdm.notebook import tqdm\n",
    "from joblib import Parallel, delayed\n",
    "import joblib\n",
    "from collections import defaultdict\n",
    "from sklearn.feature_extraction.text import CountVectorizer\n",
    "from sklearn.decomposition import LatentDirichletAllocation\n",
    "import matplotlib.pyplot as plt\n",
    "%matplotlib inline\n",
    "\n",
    "PATH_IN = '../generated/'"
   ]
  },
  {
   "cell_type": "code",
   "execution_count": 3,
   "id": "85045515",
   "metadata": {},
   "outputs": [],
   "source": [
    "# Loading NLP data\n",
    "tokens_fname = os.path.join(PATH_IN, 'tokens.parquet')\n",
    "dependencies_fname = os.path.join(PATH_IN, 'dependencies.parquet')\n",
    "\n",
    "tokens = pd.read_parquet(tokens_fname)\n",
    "dependencies = pd.read_parquet(dependencies_fname)"
   ]
  },
  {
   "cell_type": "markdown",
   "id": "4b1c2882",
   "metadata": {},
   "source": [
    "### Preprocessing\n",
    "Find movies that contain at least one character (from tokens check for atleast one `NER==\"PERSON\"`) and check that dependencies contain only the dependencies we are looking for as in *Learning Latent Personas of Film Characters* from David Bamman Brendan O’Connor Noah A. Smith.\n",
    "![dep_needed](https://i.postimg.cc/sfbxBMV6/image-2023-11-15-113351627.png)"
   ]
  },
  {
   "cell_type": "code",
   "execution_count": 5,
   "id": "34686580",
   "metadata": {},
   "outputs": [
    {
     "data": {
      "text/html": [
       "<div>\n",
       "<style scoped>\n",
       "    .dataframe tbody tr th:only-of-type {\n",
       "        vertical-align: middle;\n",
       "    }\n",
       "\n",
       "    .dataframe tbody tr th {\n",
       "        vertical-align: top;\n",
       "    }\n",
       "\n",
       "    .dataframe thead th {\n",
       "        text-align: right;\n",
       "    }\n",
       "</style>\n",
       "<table border=\"1\" class=\"dataframe\">\n",
       "  <thead>\n",
       "    <tr style=\"text-align: right;\">\n",
       "      <th></th>\n",
       "      <th>movie_id</th>\n",
       "      <th>sentence_id</th>\n",
       "      <th>token_id</th>\n",
       "      <th>word</th>\n",
       "      <th>lemma</th>\n",
       "      <th>COB</th>\n",
       "      <th>COE</th>\n",
       "      <th>POS</th>\n",
       "      <th>NER</th>\n",
       "    </tr>\n",
       "  </thead>\n",
       "  <tbody>\n",
       "    <tr>\n",
       "      <th>2</th>\n",
       "      <td>10000053</td>\n",
       "      <td>1</td>\n",
       "      <td>3</td>\n",
       "      <td>Jean</td>\n",
       "      <td>Jean</td>\n",
       "      <td>12</td>\n",
       "      <td>16</td>\n",
       "      <td>NNP</td>\n",
       "      <td>PERSON</td>\n",
       "    </tr>\n",
       "    <tr>\n",
       "      <th>3</th>\n",
       "      <td>10000053</td>\n",
       "      <td>1</td>\n",
       "      <td>4</td>\n",
       "      <td>La</td>\n",
       "      <td>La</td>\n",
       "      <td>17</td>\n",
       "      <td>19</td>\n",
       "      <td>NNP</td>\n",
       "      <td>PERSON</td>\n",
       "    </tr>\n",
       "    <tr>\n",
       "      <th>4</th>\n",
       "      <td>10000053</td>\n",
       "      <td>1</td>\n",
       "      <td>5</td>\n",
       "      <td>B</td>\n",
       "      <td>B</td>\n",
       "      <td>20</td>\n",
       "      <td>21</td>\n",
       "      <td>NNP</td>\n",
       "      <td>PERSON</td>\n",
       "    </tr>\n",
       "  </tbody>\n",
       "</table>\n",
       "</div>"
      ],
      "text/plain": [
       "   movie_id  sentence_id  token_id  word lemma  COB  COE  POS     NER\n",
       "2  10000053            1         3  Jean  Jean   12   16  NNP  PERSON\n",
       "3  10000053            1         4    La    La   17   19  NNP  PERSON\n",
       "4  10000053            1         5     B     B   20   21  NNP  PERSON"
      ]
     },
     "execution_count": 5,
     "metadata": {},
     "output_type": "execute_result"
    },
    {
     "data": {
      "text/plain": [
       "38164"
      ]
     },
     "execution_count": 5,
     "metadata": {},
     "output_type": "execute_result"
    }
   ],
   "source": [
    "tokens[tokens[\"NER\"] == \"PERSON\"].head(3) # using old annotations, NER can miss some characters, for example label them as ORGANIZATION\n",
    "movies_with_atleast_one_person = tokens[tokens[\"NER\"] == \"PERSON\"][\"movie_id\"].unique().tolist()\n",
    "len(movies_with_atleast_one_person)"
   ]
  },
  {
   "cell_type": "code",
   "execution_count": 6,
   "id": "ac1ad268",
   "metadata": {},
   "outputs": [
    {
     "data": {
      "text/html": [
       "<div>\n",
       "<style scoped>\n",
       "    .dataframe tbody tr th:only-of-type {\n",
       "        vertical-align: middle;\n",
       "    }\n",
       "\n",
       "    .dataframe tbody tr th {\n",
       "        vertical-align: top;\n",
       "    }\n",
       "\n",
       "    .dataframe thead th {\n",
       "        text-align: right;\n",
       "    }\n",
       "</style>\n",
       "<table border=\"1\" class=\"dataframe\">\n",
       "  <thead>\n",
       "    <tr style=\"text-align: right;\">\n",
       "      <th></th>\n",
       "      <th>movie_id</th>\n",
       "      <th>sentence_id</th>\n",
       "      <th>dependency_class</th>\n",
       "      <th>dependency_type</th>\n",
       "      <th>governor_id</th>\n",
       "      <th>governor_word</th>\n",
       "      <th>dependent_id</th>\n",
       "      <th>dependent_word</th>\n",
       "    </tr>\n",
       "  </thead>\n",
       "  <tbody>\n",
       "    <tr>\n",
       "      <th>41</th>\n",
       "      <td>10000053</td>\n",
       "      <td>1</td>\n",
       "      <td>collapsed-ccprocessed</td>\n",
       "      <td>nn</td>\n",
       "      <td>6</td>\n",
       "      <td>te</td>\n",
       "      <td>1</td>\n",
       "      <td>Fur</td>\n",
       "    </tr>\n",
       "    <tr>\n",
       "      <th>42</th>\n",
       "      <td>10000053</td>\n",
       "      <td>1</td>\n",
       "      <td>collapsed-ccprocessed</td>\n",
       "      <td>nn</td>\n",
       "      <td>6</td>\n",
       "      <td>te</td>\n",
       "      <td>2</td>\n",
       "      <td>trapper</td>\n",
       "    </tr>\n",
       "    <tr>\n",
       "      <th>43</th>\n",
       "      <td>10000053</td>\n",
       "      <td>1</td>\n",
       "      <td>collapsed-ccprocessed</td>\n",
       "      <td>nn</td>\n",
       "      <td>6</td>\n",
       "      <td>te</td>\n",
       "      <td>3</td>\n",
       "      <td>Jean</td>\n",
       "    </tr>\n",
       "  </tbody>\n",
       "</table>\n",
       "</div>"
      ],
      "text/plain": [
       "    movie_id  sentence_id       dependency_class dependency_type  governor_id  \\\n",
       "41  10000053            1  collapsed-ccprocessed              nn            6   \n",
       "42  10000053            1  collapsed-ccprocessed              nn            6   \n",
       "43  10000053            1  collapsed-ccprocessed              nn            6   \n",
       "\n",
       "   governor_word  dependent_id dependent_word  \n",
       "41            te             1            Fur  \n",
       "42            te             2        trapper  \n",
       "43            te             3           Jean  "
      ]
     },
     "execution_count": 6,
     "metadata": {},
     "output_type": "execute_result"
    },
    {
     "data": {
      "text/plain": [
       "42304"
      ]
     },
     "execution_count": 6,
     "metadata": {},
     "output_type": "execute_result"
    }
   ],
   "source": [
    "agent_verbs = [\"agent\", \"nsubj\"]\n",
    "patient_verbs = [\"dobj\", \"nsubjpass\", \"iobj\"] # + prep_* (handled seperatly)\n",
    "attributes_av = [\"nsubj\", \"appos\"]\n",
    "attributes_pv = [\"nsubj\", \"appos\", \"amod\", \"nn\"]\n",
    "\n",
    "dependencies_needed = dependencies[(dependencies[\"dependency_class\"] == \"collapsed-ccprocessed\") & \n",
    "                                   ((dependencies[\"dependency_type\"].isin(agent_verbs + patient_verbs + attributes_av + attributes_pv)) |  \n",
    "                                    (dependencies[\"dependency_type\"].str.startswith(\"prep_\")))].copy()\n",
    "\n",
    "dependencies_needed.head(3)\n",
    "\n",
    "movies_with_atleast_one_dep = dependencies_needed[\"movie_id\"].unique().tolist()\n",
    "\n",
    "len(movies_with_atleast_one_dep)"
   ]
  },
  {
   "cell_type": "code",
   "execution_count": 7,
   "id": "6697fc8f",
   "metadata": {},
   "outputs": [
    {
     "data": {
      "text/plain": [
       "38162"
      ]
     },
     "execution_count": 7,
     "metadata": {},
     "output_type": "execute_result"
    }
   ],
   "source": [
    "set_movies_with_person = set(movies_with_atleast_one_person)\n",
    "set_movies_with_dep = set(movies_with_atleast_one_dep)\n",
    "\n",
    "common_movies = set_movies_with_person.intersection(set_movies_with_dep)\n",
    "\n",
    "common_movies_list = list(common_movies)\n",
    "\n",
    "len(common_movies_list)"
   ]
  },
  {
   "cell_type": "code",
   "execution_count": 8,
   "id": "d63ed4a0",
   "metadata": {},
   "outputs": [],
   "source": [
    "filtered_tokens = tokens[tokens[\"movie_id\"].isin(common_movies_list)].copy()\n",
    "filtered_dependencies = dependencies_needed[dependencies_needed[\"movie_id\"].isin(common_movies_list)].copy()\n",
    "\n",
    "filtered_tokens = filtered_tokens.drop([\"COB\", \"COE\"], axis=1)\n",
    "filtered_dependencies = filtered_dependencies.drop([\"dependency_class\"], axis=1)"
   ]
  },
  {
   "cell_type": "code",
   "execution_count": 9,
   "id": "eecd3731",
   "metadata": {},
   "outputs": [
    {
     "name": "stdout",
     "output_type": "stream",
     "text": [
      "CPU times: total: 59.3 s\n",
      "Wall time: 59.4 s\n"
     ]
    },
    {
     "data": {
      "text/html": [
       "<div>\n",
       "<style scoped>\n",
       "    .dataframe tbody tr th:only-of-type {\n",
       "        vertical-align: middle;\n",
       "    }\n",
       "\n",
       "    .dataframe tbody tr th {\n",
       "        vertical-align: top;\n",
       "    }\n",
       "\n",
       "    .dataframe thead th {\n",
       "        text-align: right;\n",
       "    }\n",
       "</style>\n",
       "<table border=\"1\" class=\"dataframe\">\n",
       "  <thead>\n",
       "    <tr style=\"text-align: right;\">\n",
       "      <th></th>\n",
       "      <th>movie_id</th>\n",
       "      <th>sentence_id</th>\n",
       "      <th>token_id</th>\n",
       "      <th>word</th>\n",
       "      <th>lemma</th>\n",
       "      <th>POS</th>\n",
       "      <th>NER</th>\n",
       "      <th>dependency_type</th>\n",
       "      <th>governor_id</th>\n",
       "      <th>governor_word</th>\n",
       "      <th>dependent_id</th>\n",
       "      <th>dependent_word</th>\n",
       "    </tr>\n",
       "  </thead>\n",
       "  <tbody>\n",
       "    <tr>\n",
       "      <th>0</th>\n",
       "      <td>10000053</td>\n",
       "      <td>1</td>\n",
       "      <td>6</td>\n",
       "      <td>te</td>\n",
       "      <td>te</td>\n",
       "      <td>NN</td>\n",
       "      <td>O</td>\n",
       "      <td>nn</td>\n",
       "      <td>6</td>\n",
       "      <td>te</td>\n",
       "      <td>1</td>\n",
       "      <td>Fur</td>\n",
       "    </tr>\n",
       "    <tr>\n",
       "      <th>1</th>\n",
       "      <td>10000053</td>\n",
       "      <td>1</td>\n",
       "      <td>6</td>\n",
       "      <td>te</td>\n",
       "      <td>te</td>\n",
       "      <td>NN</td>\n",
       "      <td>O</td>\n",
       "      <td>nn</td>\n",
       "      <td>6</td>\n",
       "      <td>te</td>\n",
       "      <td>2</td>\n",
       "      <td>trapper</td>\n",
       "    </tr>\n",
       "    <tr>\n",
       "      <th>2</th>\n",
       "      <td>10000053</td>\n",
       "      <td>1</td>\n",
       "      <td>6</td>\n",
       "      <td>te</td>\n",
       "      <td>te</td>\n",
       "      <td>NN</td>\n",
       "      <td>O</td>\n",
       "      <td>nn</td>\n",
       "      <td>6</td>\n",
       "      <td>te</td>\n",
       "      <td>3</td>\n",
       "      <td>Jean</td>\n",
       "    </tr>\n",
       "    <tr>\n",
       "      <th>3</th>\n",
       "      <td>10000053</td>\n",
       "      <td>1</td>\n",
       "      <td>6</td>\n",
       "      <td>te</td>\n",
       "      <td>te</td>\n",
       "      <td>NN</td>\n",
       "      <td>O</td>\n",
       "      <td>nn</td>\n",
       "      <td>6</td>\n",
       "      <td>te</td>\n",
       "      <td>4</td>\n",
       "      <td>La</td>\n",
       "    </tr>\n",
       "    <tr>\n",
       "      <th>4</th>\n",
       "      <td>10000053</td>\n",
       "      <td>1</td>\n",
       "      <td>6</td>\n",
       "      <td>te</td>\n",
       "      <td>te</td>\n",
       "      <td>NN</td>\n",
       "      <td>O</td>\n",
       "      <td>nn</td>\n",
       "      <td>6</td>\n",
       "      <td>te</td>\n",
       "      <td>5</td>\n",
       "      <td>B</td>\n",
       "    </tr>\n",
       "    <tr>\n",
       "      <th>...</th>\n",
       "      <td>...</td>\n",
       "      <td>...</td>\n",
       "      <td>...</td>\n",
       "      <td>...</td>\n",
       "      <td>...</td>\n",
       "      <td>...</td>\n",
       "      <td>...</td>\n",
       "      <td>...</td>\n",
       "      <td>...</td>\n",
       "      <td>...</td>\n",
       "      <td>...</td>\n",
       "      <td>...</td>\n",
       "    </tr>\n",
       "    <tr>\n",
       "      <th>10077137</th>\n",
       "      <td>9999280</td>\n",
       "      <td>6</td>\n",
       "      <td>5</td>\n",
       "      <td>reasons</td>\n",
       "      <td>reason</td>\n",
       "      <td>NNS</td>\n",
       "      <td>O</td>\n",
       "      <td>dobj</td>\n",
       "      <td>3</td>\n",
       "      <td>discovers</td>\n",
       "      <td>5</td>\n",
       "      <td>reasons</td>\n",
       "    </tr>\n",
       "    <tr>\n",
       "      <th>10077138</th>\n",
       "      <td>9999280</td>\n",
       "      <td>6</td>\n",
       "      <td>10</td>\n",
       "      <td>separation</td>\n",
       "      <td>separation</td>\n",
       "      <td>NN</td>\n",
       "      <td>O</td>\n",
       "      <td>prep_for</td>\n",
       "      <td>5</td>\n",
       "      <td>reasons</td>\n",
       "      <td>10</td>\n",
       "      <td>separation</td>\n",
       "    </tr>\n",
       "    <tr>\n",
       "      <th>10077139</th>\n",
       "      <td>9999280</td>\n",
       "      <td>6</td>\n",
       "      <td>13</td>\n",
       "      <td>Marcelo</td>\n",
       "      <td>Marcelo</td>\n",
       "      <td>NNP</td>\n",
       "      <td>PERSON</td>\n",
       "      <td>nn</td>\n",
       "      <td>15</td>\n",
       "      <td>reality</td>\n",
       "      <td>13</td>\n",
       "      <td>Marcelo</td>\n",
       "    </tr>\n",
       "    <tr>\n",
       "      <th>10077140</th>\n",
       "      <td>9999280</td>\n",
       "      <td>6</td>\n",
       "      <td>14</td>\n",
       "      <td>face</td>\n",
       "      <td>face</td>\n",
       "      <td>NN</td>\n",
       "      <td>O</td>\n",
       "      <td>nn</td>\n",
       "      <td>15</td>\n",
       "      <td>reality</td>\n",
       "      <td>14</td>\n",
       "      <td>face</td>\n",
       "    </tr>\n",
       "    <tr>\n",
       "      <th>10077141</th>\n",
       "      <td>9999280</td>\n",
       "      <td>6</td>\n",
       "      <td>15</td>\n",
       "      <td>reality</td>\n",
       "      <td>reality</td>\n",
       "      <td>NN</td>\n",
       "      <td>O</td>\n",
       "      <td>nsubj</td>\n",
       "      <td>17</td>\n",
       "      <td>clearly</td>\n",
       "      <td>15</td>\n",
       "      <td>reality</td>\n",
       "    </tr>\n",
       "  </tbody>\n",
       "</table>\n",
       "<p>10077142 rows × 12 columns</p>\n",
       "</div>"
      ],
      "text/plain": [
       "          movie_id  sentence_id  token_id        word       lemma  POS  \\\n",
       "0         10000053            1         6          te          te   NN   \n",
       "1         10000053            1         6          te          te   NN   \n",
       "2         10000053            1         6          te          te   NN   \n",
       "3         10000053            1         6          te          te   NN   \n",
       "4         10000053            1         6          te          te   NN   \n",
       "...            ...          ...       ...         ...         ...  ...   \n",
       "10077137   9999280            6         5     reasons      reason  NNS   \n",
       "10077138   9999280            6        10  separation  separation   NN   \n",
       "10077139   9999280            6        13     Marcelo     Marcelo  NNP   \n",
       "10077140   9999280            6        14        face        face   NN   \n",
       "10077141   9999280            6        15     reality     reality   NN   \n",
       "\n",
       "             NER dependency_type  governor_id governor_word  dependent_id  \\\n",
       "0              O              nn            6            te             1   \n",
       "1              O              nn            6            te             2   \n",
       "2              O              nn            6            te             3   \n",
       "3              O              nn            6            te             4   \n",
       "4              O              nn            6            te             5   \n",
       "...          ...             ...          ...           ...           ...   \n",
       "10077137       O            dobj            3     discovers             5   \n",
       "10077138       O        prep_for            5       reasons            10   \n",
       "10077139  PERSON              nn           15       reality            13   \n",
       "10077140       O              nn           15       reality            14   \n",
       "10077141       O           nsubj           17       clearly            15   \n",
       "\n",
       "         dependent_word  \n",
       "0                   Fur  \n",
       "1               trapper  \n",
       "2                  Jean  \n",
       "3                    La  \n",
       "4                     B  \n",
       "...                 ...  \n",
       "10077137        reasons  \n",
       "10077138     separation  \n",
       "10077139        Marcelo  \n",
       "10077140           face  \n",
       "10077141        reality  \n",
       "\n",
       "[10077142 rows x 12 columns]"
      ]
     },
     "execution_count": 9,
     "metadata": {},
     "output_type": "execute_result"
    }
   ],
   "source": [
    "%%time\n",
    "merge1 = pd.merge(filtered_tokens, filtered_dependencies,\n",
    "                 left_on=['movie_id', 'sentence_id', 'token_id'],\n",
    "                 right_on=['movie_id', 'sentence_id', 'governor_id'],\n",
    "                 how='inner')\n",
    "\n",
    "merge2 = pd.merge(filtered_tokens, filtered_dependencies,\n",
    "                 left_on=['movie_id', 'sentence_id', 'token_id'],\n",
    "                 right_on=['movie_id', 'sentence_id', 'dependent_id'],\n",
    "                 how='inner')\n",
    "\n",
    "merged_data = pd.concat([merge1, merge2]).drop_duplicates().reset_index(drop=True)\n",
    "merged_data"
   ]
  },
  {
   "cell_type": "code",
   "execution_count": 11,
   "id": "bb1097a8",
   "metadata": {},
   "outputs": [
    {
     "data": {
      "text/html": [
       "<div>\n",
       "<style scoped>\n",
       "    .dataframe tbody tr th:only-of-type {\n",
       "        vertical-align: middle;\n",
       "    }\n",
       "\n",
       "    .dataframe tbody tr th {\n",
       "        vertical-align: top;\n",
       "    }\n",
       "\n",
       "    .dataframe thead th {\n",
       "        text-align: right;\n",
       "    }\n",
       "</style>\n",
       "<table border=\"1\" class=\"dataframe\">\n",
       "  <thead>\n",
       "    <tr style=\"text-align: right;\">\n",
       "      <th></th>\n",
       "      <th>movie_id</th>\n",
       "      <th>sentence_id</th>\n",
       "      <th>token_id</th>\n",
       "      <th>word</th>\n",
       "      <th>lemma</th>\n",
       "      <th>POS</th>\n",
       "      <th>NER</th>\n",
       "      <th>dependency_type</th>\n",
       "      <th>governor_id</th>\n",
       "      <th>governor_word</th>\n",
       "      <th>dependent_id</th>\n",
       "      <th>dependent_word</th>\n",
       "    </tr>\n",
       "  </thead>\n",
       "  <tbody>\n",
       "  </tbody>\n",
       "</table>\n",
       "</div>"
      ],
      "text/plain": [
       "Empty DataFrame\n",
       "Columns: [movie_id, sentence_id, token_id, word, lemma, POS, NER, dependency_type, governor_id, governor_word, dependent_id, dependent_word]\n",
       "Index: []"
      ]
     },
     "execution_count": 11,
     "metadata": {},
     "output_type": "execute_result"
    }
   ],
   "source": [
    "merged_data[(merged_data[\"token_id\"] != merged_data[\"governor_id\"]) & (merged_data[\"token_id\"] != merged_data[\"dependent_id\"])] # should be empty ✅"
   ]
  },
  {
   "cell_type": "code",
   "execution_count": 14,
   "id": "21d89fc6",
   "metadata": {},
   "outputs": [
    {
     "name": "stdout",
     "output_type": "stream",
     "text": [
      "peak memory: 16591.61 MiB, increment: 0.11 MiB\n"
     ]
    },
    {
     "data": {
      "text/plain": [
       "26"
      ]
     },
     "execution_count": 14,
     "metadata": {},
     "output_type": "execute_result"
    },
    {
     "name": "stdout",
     "output_type": "stream",
     "text": [
      "peak memory: 10968.22 MiB, increment: 0.00 MiB\n"
     ]
    }
   ],
   "source": [
    "# !pip install memory_profiler\n",
    "\n",
    "%load_ext memory_profiler # install memory_profiler to use it, use %whos to see what's in memory\n",
    "%memit\n",
    "import gc\n",
    "\n",
    "del common_movies\n",
    "del set_movies_with_dep\n",
    "del set_movies_with_person\n",
    "del common_movies_list\n",
    "del movies_with_atleast_one_dep\n",
    "del movies_with_atleast_one_person\n",
    "\n",
    "del dependencies_fname\n",
    "del tokens_fname\n",
    "\n",
    "del merge1\n",
    "del merge2\n",
    "\n",
    "del filtered_tokens\n",
    "del filtered_dependencies\n",
    "\n",
    "del dependencies_needed\n",
    "del dependencies\n",
    "del tokens\n",
    "\n",
    "gc.collect()\n",
    "%memit"
   ]
  },
  {
   "cell_type": "markdown",
   "id": "8bcf179a",
   "metadata": {},
   "source": [
    "### For each plot:\n",
    "1. Extract the characters (NER=PERSON)\n",
    "2. For each character extract (dependencies + coreference)\n",
    "    - agent verbs\n",
    "    - patient verbs\n",
    "    - attributes"
   ]
  },
  {
   "cell_type": "code",
   "execution_count": 15,
   "id": "71773e1a",
   "metadata": {},
   "outputs": [],
   "source": [
    "characters = pd.DataFrame(columns=['movie_id', 'character', 'AV', 'PV', 'Att']) # dataframe where we will store the character, its actions (agent and patient) and attributes\n",
    "verb_pos_tags = [\"VB\", \"VBD\", \"VBG\", \"VBN\", \"VBP\", \"VBZ\"] # to indentify verbs from attributes"
   ]
  },
  {
   "cell_type": "markdown",
   "id": "6cc7992b",
   "metadata": {},
   "source": [
    "### Extractor using parallelization"
   ]
  },
  {
   "cell_type": "code",
   "execution_count": null,
   "id": "96f9c960",
   "metadata": {},
   "outputs": [],
   "source": [
    "%%time\n",
    "# there are more precise ways to do it, but as we are using not very accurate annotations data, we will spend more time enhancing the new annotations.\n",
    "\n",
    "def process_group(chunk):\n",
    "    temp_data = []\n",
    "    for (movie_id, character), group in chunk.groupby(['movie_id', 'word']):\n",
    "        AV, PV, Att = [], [], [] \n",
    "\n",
    "        for _, row in group.iterrows():\n",
    "            if row['governor_word'] == character:\n",
    "                dependency_word = row['dependent_word']\n",
    "                dependency_idx = row['dependent_id']\n",
    "            elif row['dependent_word'] == character:\n",
    "                dependency_word = row['governor_word']\n",
    "                dependency_idx = row['governor_id']\n",
    "            else:\n",
    "                print(\"Error\")\n",
    "\n",
    "            pos_row = merged_data[(merged_data['movie_id'] == movie_id) & \n",
    "                                  (merged_data['sentence_id'] == row['sentence_id']) & \n",
    "                                  (merged_data['token_id'] == dependency_idx)]\n",
    "\n",
    "            if not pos_row.empty and pos_row.iloc[0]['POS'] in verb_pos_tags:\n",
    "                if row['dependency_type'] in agent_verbs or row['dependency_type'].startswith(\"prep_\"):\n",
    "                    AV.append(pos_row.iloc[0]['lemma'])\n",
    "                elif row['dependency_type'] in patient_verbs:\n",
    "                    PV.append(pos_row.iloc[0]['lemma'])\n",
    "            else:\n",
    "                Att.append(pos_row.iloc[0]['lemma'])\n",
    "\n",
    "        temp_data.append({\n",
    "            'movie_id': movie_id,\n",
    "            'character': character,\n",
    "            'AV': AV,\n",
    "            'PV': PV,\n",
    "            'Att': Att\n",
    "        })\n",
    "    return temp_data\n",
    "\n",
    "character_data = merged_data[merged_data[\"NER\"] == \"PERSON\"]\n",
    "\n",
    "num_partitions = joblib.cpu_count() \n",
    "chunk_size = int(character_data.shape[0] / num_partitions)\n",
    "chunks = [character_data.iloc[i:i + chunk_size] for i in range(0, character_data.shape[0], chunk_size)]\n",
    "\n",
    "results = Parallel(n_jobs=num_partitions)(delayed(process_group)(chunk) for chunk in tqdm(chunks))\n",
    "\n",
    "flattened_results = [item for sublist in results for item in sublist]\n",
    "characters = pd.concat([pd.DataFrame(flattened_results)], ignore_index=True)"
   ]
  },
  {
   "cell_type": "code",
   "execution_count": null,
   "id": "fab952fe",
   "metadata": {},
   "outputs": [],
   "source": [
    "characters.to_parquet(os.path.join(PATH_IN, \"characters_old_annotations.parquet\"))"
   ]
  },
  {
   "cell_type": "code",
   "execution_count": null,
   "id": "386c0f5f",
   "metadata": {},
   "outputs": [],
   "source": [
    "characters # PV looks empty but it's not"
   ]
  },
  {
   "cell_type": "markdown",
   "id": "eb138724",
   "metadata": {},
   "source": [
    "### Generate bag of words\n",
    "A bag is a tupple of $(r,w)$, where $r$ is of {agent verb, patient verb, attribute} and $w$ is the lemma of the word."
   ]
  },
  {
   "cell_type": "code",
   "execution_count": null,
   "id": "5ef9b73b",
   "metadata": {},
   "outputs": [],
   "source": [
    "def generate_bags_of_words(characters_df: pd.DataFrame):\n",
    "    bags_of_words = []\n",
    "\n",
    "    for _, row in tqdm(characters_df.iterrows()):\n",
    "        movie_id = row['movie_id']\n",
    "        character_name = row['character']\n",
    "\n",
    "        av = row['AV'] if isinstance(row['AV'], list) else []\n",
    "        pv = row['PV'] if isinstance(row['PV'], list) else []\n",
    "        att = row['Att'] if isinstance(row['Att'], list) else []\n",
    "\n",
    "        for verb in av:\n",
    "            bags_of_words.append((movie_id, character_name, 'agent_verb', verb))\n",
    "\n",
    "        for verb in pv:\n",
    "            bags_of_words.append((movie_id, character_name, 'patient_verb', verb))\n",
    "\n",
    "        for attribute in att:\n",
    "            bags_of_words.append((movie_id, character_name, 'attribute', attribute))\n",
    "\n",
    "    return bags_of_words\n",
    "\n",
    "bags_of_words = generate_bags_of_words(characters)"
   ]
  },
  {
   "cell_type": "code",
   "execution_count": null,
   "id": "cbe7a2c9",
   "metadata": {},
   "outputs": [],
   "source": [
    "bags_df = pd.DataFrame(bags_of_words, columns=['movie_id', 'character_name', 'type', 'word'])\n",
    "bags_df.to_parquet(os.path.join(PATH_IN, \"bags_old_annotations.parquet\"))"
   ]
  },
  {
   "cell_type": "markdown",
   "id": "a214f6db",
   "metadata": {},
   "source": [
    "### From tupples to topics using LDA"
   ]
  },
  {
   "cell_type": "code",
   "execution_count": 21,
   "id": "eb930aca",
   "metadata": {},
   "outputs": [
    {
     "data": {
      "text/html": [
       "<div>\n",
       "<style scoped>\n",
       "    .dataframe tbody tr th:only-of-type {\n",
       "        vertical-align: middle;\n",
       "    }\n",
       "\n",
       "    .dataframe tbody tr th {\n",
       "        vertical-align: top;\n",
       "    }\n",
       "\n",
       "    .dataframe thead th {\n",
       "        text-align: right;\n",
       "    }\n",
       "</style>\n",
       "<table border=\"1\" class=\"dataframe\">\n",
       "  <thead>\n",
       "    <tr style=\"text-align: right;\">\n",
       "      <th></th>\n",
       "      <th>movie_id</th>\n",
       "      <th>character_name</th>\n",
       "      <th>type</th>\n",
       "      <th>word</th>\n",
       "    </tr>\n",
       "  </thead>\n",
       "  <tbody>\n",
       "    <tr>\n",
       "      <th>0</th>\n",
       "      <td>10193</td>\n",
       "      <td>Braithwaite</td>\n",
       "      <td>attribute</td>\n",
       "      <td>Intelligence</td>\n",
       "    </tr>\n",
       "    <tr>\n",
       "      <th>1</th>\n",
       "      <td>10193</td>\n",
       "      <td>Kelly</td>\n",
       "      <td>attribute</td>\n",
       "      <td>Jim</td>\n",
       "    </tr>\n",
       "    <tr>\n",
       "      <th>2</th>\n",
       "      <td>10193</td>\n",
       "      <td>Lee</td>\n",
       "      <td>attribute</td>\n",
       "      <td>attack</td>\n",
       "    </tr>\n",
       "  </tbody>\n",
       "</table>\n",
       "</div>"
      ],
      "text/plain": [
       "   movie_id character_name       type          word\n",
       "0     10193    Braithwaite  attribute  Intelligence\n",
       "1     10193          Kelly  attribute           Jim\n",
       "2     10193            Lee  attribute        attack"
      ]
     },
     "execution_count": 21,
     "metadata": {},
     "output_type": "execute_result"
    }
   ],
   "source": [
    "# loading bags of words\n",
    "bags_fname = os.path.join(PATH_IN,'bags_old_annotations.parquet')\n",
    "bags_df = pd.read_parquet(bags_fname)\n",
    "bags_of_words=bags_df.values\n",
    "\n",
    "bags_df.head(3)"
   ]
  },
  {
   "cell_type": "code",
   "execution_count": 22,
   "id": "9eb705da",
   "metadata": {},
   "outputs": [],
   "source": [
    "# currently global character version (doesn't make the distinction of the same character in different movies)\n",
    "character_docs = defaultdict(list)\n",
    "for _, character, _, word in bags_of_words:\n",
    "    character_docs[character].append(word)\n",
    "    \n",
    "for character in character_docs:\n",
    "    character_docs[character] = \" \".join(character_docs[character])\n",
    "    \n",
    "vectorizer = CountVectorizer()\n",
    "X = vectorizer.fit_transform(character_docs.values())\n",
    "\n",
    "n_topics = 50\n",
    "lda = LatentDirichletAllocation(n_components=n_topics, verbose=2, max_iter=10, random_state = 0)\n",
    "lda.fit(X)"
   ]
  },
  {
   "cell_type": "code",
   "execution_count": null,
   "id": "694a8ca8",
   "metadata": {},
   "outputs": [],
   "source": [
    "joblib.dump(lda, os.path.join(PATH_IN, \"lda_model_old_annotations.pkl\"))"
   ]
  },
  {
   "cell_type": "code",
   "execution_count": 14,
   "id": "4a6b54ea",
   "metadata": {},
   "outputs": [
    {
     "name": "stderr",
     "output_type": "stream",
     "text": [
      "/home/jessica/anaconda3/envs/ada/lib/python3.9/site-packages/sklearn/base.py:347: InconsistentVersionWarning: Trying to unpickle estimator LatentDirichletAllocation from version 1.2.1 when using version 1.3.0. This might lead to breaking code or invalid results. Use at your own risk. For more info please refer to:\n",
      "https://scikit-learn.org/stable/model_persistence.html#security-maintainability-limitations\n",
      "  warnings.warn(\n"
     ]
    }
   ],
   "source": [
    "lda = joblib.load(os.path.join(PATH_IN,'lda_model_old_annotations.pkl'))"
   ]
  },
  {
   "cell_type": "code",
   "execution_count": 25,
   "id": "aff637bd",
   "metadata": {},
   "outputs": [
    {
     "name": "stdout",
     "output_type": "stream",
     "text": [
      "Topic #0: find kill tell take meet confront leave begin have force\n",
      "Topic #1: von frank baron lt victor ray guy bobby head jake\n",
      "Topic #2: peter james woo marie betty prasad he alfred christ fudd\n",
      "Topic #3: dr scientist lead member doctor le psychiatrist explain kill have\n",
      "Topic #4: chief robert kim ho cao mayor nick hai dan portray\n",
      "Topic #5: thomas kill meet son raja go get try francis davis\n",
      "Topic #6: officer ms lieutenant johnny anne jimmy set secretary lin movie\n",
      "Topic #7: singh sir tom al major boy hyun involve company red\n",
      "Topic #8: john charlie george detective president joseph reporter danny attorney play\n",
      "Topic #9: don ali la anna evil jekyll lewis shah hill anand\n",
      "Topic #10: miss ben eddie follow alice ed deputy neighbor long join\n",
      "Topic #11: marry daughter fall have meet take wife tell be love\n",
      "Topic #12: tell find go have leave take meet see be give\n",
      "Topic #13: khan joe max commander superior die reverend jerry meet use\n",
      "Topic #14: lord general mary eun bruce tell elmer san jin take\n",
      "Topic #15: captain xiao mei li meet ching leo ling doc kill\n",
      "Topic #16: jack helsing star feature madame martin mithun dee wong larry\n",
      "Topic #17: sergeant doctor li wang destroy jr hu ken lo bin\n",
      "Topic #18: liu bush fei find min tae call ji see franz\n",
      "Topic #19: name wife mary wile adolf roger coyote yu little kill\n",
      "Topic #20: man in law robin gangster kill chen relationship samuel transform\n",
      "Topic #21: old live year prince bob wu base son ivan brian\n",
      "Topic #22: kill hung threaten meet cause mickey have demand take shoot\n",
      "Topic #23: tell go take find kill have get leave try see\n",
      "Topic #24: girl david one rao eric meet albert clan beautiful young\n",
      "Topic #25: william jones rider fu mistress julius carlos robinson morgan wilson\n",
      "Topic #26: inspector police kill ram meet officer chakraborty man name support\n",
      "Topic #27: queen alex christopher kill kutty deal guard kang battle dog\n",
      "Topic #28: mrs dr meet name john agent kill captain michael mr\n",
      "Topic #29: maria feng laura edgar island marshal shi elder crew yadav\n",
      "Topic #30: take brown have ah visit be tell leave keep find\n",
      "Topic #31: friend save group sarah believe kill sai help be das\n",
      "Topic #32: tony el johnson black white worker hyde park antonio band\n",
      "Topic #33: brother count roy defeat kill simon servant consist billy alexander\n",
      "Topic #34: character nair steve pierre story bo raj harvey narasimha kevin\n",
      "Topic #35: van sheriff kill know arthur donald babu arrest meet tell\n",
      "Topic #36: sister jean judge mark andrew belong agree imprison discover roosevelt\n",
      "Topic #37: lady menon sgt vincent kill affair ravi caesar lama pair\n",
      "Topic #38: de lee master jim louis producer yu senator seth anthony\n",
      "Topic #39: be return woman find kill take decide have arrive barbara\n",
      "Topic #40: play father mother teacher priest interview elizabeth tell actor st\n",
      "Topic #41: charles minister aunt soo face prime ronald novel winston gene\n",
      "Topic #42: come decide son love meet kill go fall have marry\n",
      "Topic #43: ann mike lou jane hitler po say tai kay chun\n",
      "Topic #44: mr sam princess wei walter emperor mrs driver abu junior\n",
      "Topic #45: king uncle harry call kill madam meet bond take father\n",
      "Topic #46: tell find go take try have leave kill give meet\n",
      "Topic #47: family boss bill gang command death cho crime second kapoor\n",
      "Topic #48: colonel henry jo arrive edward attack col pilot kill partner\n",
      "Topic #49: professor paul richard juan murder ma luis meet take assistant\n"
     ]
    }
   ],
   "source": [
    "def print_top_words(model, feature_names, n_top_words):\n",
    "    for topic_idx, topic in enumerate(model.components_):\n",
    "        message = f\"Topic {topic_idx}: \"\n",
    "        message += \" \".join([feature_names[i] for i in topic.argsort()[:-n_top_words - 1:-1]])\n",
    "        print(message)\n",
    "\n",
    "n_topic_words = 10\n",
    "print_top_words(lda, vectorizer.get_feature_names_out(), n_topic_words)"
   ]
  },
  {
   "cell_type": "code",
   "execution_count": 32,
   "id": "50a72c6b",
   "metadata": {},
   "outputs": [
    {
     "name": "stderr",
     "output_type": "stream",
     "text": [
      "[Parallel(n_jobs=1)]: Using backend SequentialBackend with 1 concurrent workers.\n",
      "[Parallel(n_jobs=1)]: Done   1 out of   1 | elapsed:   26.7s finished\n"
     ]
    },
    {
     "data": {
      "text/html": [
       "<div>\n",
       "<style scoped>\n",
       "    .dataframe tbody tr th:only-of-type {\n",
       "        vertical-align: middle;\n",
       "    }\n",
       "\n",
       "    .dataframe tbody tr th {\n",
       "        vertical-align: top;\n",
       "    }\n",
       "\n",
       "    .dataframe thead th {\n",
       "        text-align: right;\n",
       "    }\n",
       "</style>\n",
       "<table border=\"1\" class=\"dataframe\">\n",
       "  <thead>\n",
       "    <tr style=\"text-align: right;\">\n",
       "      <th></th>\n",
       "      <th>character_name</th>\n",
       "      <th>topic</th>\n",
       "      <th>topic_dist</th>\n",
       "    </tr>\n",
       "  </thead>\n",
       "  <tbody>\n",
       "    <tr>\n",
       "      <th>0</th>\n",
       "      <td>Braithwaite</td>\n",
       "      <td>8</td>\n",
       "      <td>[0.0011764705882365894, 0.0011764705882365894,...</td>\n",
       "    </tr>\n",
       "    <tr>\n",
       "      <th>1</th>\n",
       "      <td>Kelly</td>\n",
       "      <td>23</td>\n",
       "      <td>[1.7021276595851307e-05, 1.7021276595851307e-0...</td>\n",
       "    </tr>\n",
       "    <tr>\n",
       "      <th>2</th>\n",
       "      <td>Lee</td>\n",
       "      <td>28</td>\n",
       "      <td>[0.008421474304820637, 9.029345372522596e-06, ...</td>\n",
       "    </tr>\n",
       "  </tbody>\n",
       "</table>\n",
       "</div>"
      ],
      "text/plain": [
       "  character_name  topic                                         topic_dist\n",
       "0    Braithwaite      8  [0.0011764705882365894, 0.0011764705882365894,...\n",
       "1          Kelly     23  [1.7021276595851307e-05, 1.7021276595851307e-0...\n",
       "2            Lee     28  [0.008421474304820637, 9.029345372522596e-06, ..."
      ]
     },
     "execution_count": 32,
     "metadata": {},
     "output_type": "execute_result"
    }
   ],
   "source": [
    "character_topic = lda.transform(X)\n",
    "character_names = list(character_docs.keys())\n",
    "\n",
    "character_classification=[]\n",
    "\n",
    "for i, topic_dist in enumerate(character_topic):\n",
    "    topic_most_prob = topic_dist.argmax()\n",
    "    character_classification.append((character_names[i], topic_most_prob, topic_dist))\n",
    "\n",
    "character_classification_df=pd.DataFrame(character_classification,columns=['character_name', 'topic', 'topic_dist'])\n",
    "character_classification_df.head(3)"
   ]
  },
  {
   "cell_type": "code",
   "execution_count": 23,
   "id": "5216f1da",
   "metadata": {},
   "outputs": [
    {
     "data": {
      "text/html": [
       "<div>\n",
       "<style scoped>\n",
       "    .dataframe tbody tr th:only-of-type {\n",
       "        vertical-align: middle;\n",
       "    }\n",
       "\n",
       "    .dataframe tbody tr th {\n",
       "        vertical-align: top;\n",
       "    }\n",
       "\n",
       "    .dataframe thead th {\n",
       "        text-align: right;\n",
       "    }\n",
       "</style>\n",
       "<table border=\"1\" class=\"dataframe\">\n",
       "  <thead>\n",
       "    <tr style=\"text-align: right;\">\n",
       "      <th></th>\n",
       "      <th>character_name</th>\n",
       "      <th>topic</th>\n",
       "    </tr>\n",
       "  </thead>\n",
       "  <tbody>\n",
       "    <tr>\n",
       "      <th>0</th>\n",
       "      <td>Braithwaite</td>\n",
       "      <td>8</td>\n",
       "    </tr>\n",
       "    <tr>\n",
       "      <th>1</th>\n",
       "      <td>Kelly</td>\n",
       "      <td>23</td>\n",
       "    </tr>\n",
       "    <tr>\n",
       "      <th>2</th>\n",
       "      <td>Lee</td>\n",
       "      <td>28</td>\n",
       "    </tr>\n",
       "    <tr>\n",
       "      <th>3</th>\n",
       "      <td>Lin</td>\n",
       "      <td>48</td>\n",
       "    </tr>\n",
       "    <tr>\n",
       "      <th>4</th>\n",
       "      <td>Ling</td>\n",
       "      <td>15</td>\n",
       "    </tr>\n",
       "    <tr>\n",
       "      <th>5</th>\n",
       "      <td>Roper</td>\n",
       "      <td>23</td>\n",
       "    </tr>\n",
       "    <tr>\n",
       "      <th>6</th>\n",
       "      <td>Saxon</td>\n",
       "      <td>8</td>\n",
       "    </tr>\n",
       "    <tr>\n",
       "      <th>7</th>\n",
       "      <td>Williams</td>\n",
       "      <td>28</td>\n",
       "    </tr>\n",
       "    <tr>\n",
       "      <th>8</th>\n",
       "      <td>Annie</td>\n",
       "      <td>12</td>\n",
       "    </tr>\n",
       "    <tr>\n",
       "      <th>9</th>\n",
       "      <td>Getley</td>\n",
       "      <td>10</td>\n",
       "    </tr>\n",
       "  </tbody>\n",
       "</table>\n",
       "</div>"
      ],
      "text/plain": [
       "  character_name  topic\n",
       "0    Braithwaite      8\n",
       "1          Kelly     23\n",
       "2            Lee     28\n",
       "3            Lin     48\n",
       "4           Ling     15\n",
       "5          Roper     23\n",
       "6          Saxon      8\n",
       "7       Williams     28\n",
       "8          Annie     12\n",
       "9         Getley     10"
      ]
     },
     "metadata": {},
     "output_type": "display_data"
    }
   ],
   "source": [
    "character_classification_df.to_parquet(os.path.join(PATH_IN, \"character_classification_old_annotations.parquet\"))"
   ]
  },
  {
   "cell_type": "code",
   "execution_count": 39,
   "id": "3aa86635",
   "metadata": {},
   "outputs": [
    {
     "data": {
      "text/plain": [
       "<Figure size 1600x600 with 0 Axes>"
      ]
     },
     "execution_count": 39,
     "metadata": {},
     "output_type": "execute_result"
    },
    {
     "data": {
      "text/plain": [
       "<BarContainer object of 50 artists>"
      ]
     },
     "execution_count": 39,
     "metadata": {},
     "output_type": "execute_result"
    },
    {
     "data": {
      "text/plain": [
       "Text(0.5, 0, 'Topic')"
      ]
     },
     "execution_count": 39,
     "metadata": {},
     "output_type": "execute_result"
    },
    {
     "data": {
      "text/plain": [
       "Text(0, 0.5, 'Probability')"
      ]
     },
     "execution_count": 39,
     "metadata": {},
     "output_type": "execute_result"
    },
    {
     "data": {
      "text/plain": [
       "Text(0.5, 1.0, 'Topic Distribution for Batman')"
      ]
     },
     "execution_count": 39,
     "metadata": {},
     "output_type": "execute_result"
    },
    {
     "data": {
      "text/plain": [
       "([<matplotlib.axis.XTick at 0x1852e64ac20>,\n",
       "  <matplotlib.axis.XTick at 0x1852e64abf0>,\n",
       "  <matplotlib.axis.XTick at 0x1852e64a800>,\n",
       "  <matplotlib.axis.XTick at 0x1852e649810>,\n",
       "  <matplotlib.axis.XTick at 0x1852e5c9000>,\n",
       "  <matplotlib.axis.XTick at 0x1852e5c97e0>,\n",
       "  <matplotlib.axis.XTick at 0x1852e5c9fc0>,\n",
       "  <matplotlib.axis.XTick at 0x1852e5c9540>,\n",
       "  <matplotlib.axis.XTick at 0x1852e5ca440>,\n",
       "  <matplotlib.axis.XTick at 0x1852e5cac20>,\n",
       "  <matplotlib.axis.XTick at 0x1852e5cb400>,\n",
       "  <matplotlib.axis.XTick at 0x1852e5cbbe0>,\n",
       "  <matplotlib.axis.XTick at 0x1852e5cb580>,\n",
       "  <matplotlib.axis.XTick at 0x1852e5c9180>,\n",
       "  <matplotlib.axis.XTick at 0x1852e5ac760>,\n",
       "  <matplotlib.axis.XTick at 0x1852e5acf40>,\n",
       "  <matplotlib.axis.XTick at 0x1852e5ad720>,\n",
       "  <matplotlib.axis.XTick at 0x1852e5adf00>,\n",
       "  <matplotlib.axis.XTick at 0x1852e5ad480>,\n",
       "  <matplotlib.axis.XTick at 0x1852e5ad000>,\n",
       "  <matplotlib.axis.XTick at 0x1852e5ae800>,\n",
       "  <matplotlib.axis.XTick at 0x1852e5aefe0>,\n",
       "  <matplotlib.axis.XTick at 0x1852e5af7c0>,\n",
       "  <matplotlib.axis.XTick at 0x1852e5af160>,\n",
       "  <matplotlib.axis.XTick at 0x1852e5ad0c0>,\n",
       "  <matplotlib.axis.XTick at 0x1852e5aee60>,\n",
       "  <matplotlib.axis.XTick at 0x185733cc970>,\n",
       "  <matplotlib.axis.XTick at 0x185733cd150>,\n",
       "  <matplotlib.axis.XTick at 0x1852e5afc10>,\n",
       "  <matplotlib.axis.XTick at 0x185733cccd0>,\n",
       "  <matplotlib.axis.XTick at 0x185733cdb70>,\n",
       "  <matplotlib.axis.XTick at 0x185733ce350>,\n",
       "  <matplotlib.axis.XTick at 0x185733ceb30>,\n",
       "  <matplotlib.axis.XTick at 0x185733cf310>,\n",
       "  <matplotlib.axis.XTick at 0x185733ce5f0>,\n",
       "  <matplotlib.axis.XTick at 0x185733cf4c0>,\n",
       "  <matplotlib.axis.XTick at 0x185733cfca0>,\n",
       "  <matplotlib.axis.XTick at 0x185733bc4c0>,\n",
       "  <matplotlib.axis.XTick at 0x185733bcca0>,\n",
       "  <matplotlib.axis.XTick at 0x185733cd750>,\n",
       "  <matplotlib.axis.XTick at 0x185733bc730>,\n",
       "  <matplotlib.axis.XTick at 0x185733bd630>,\n",
       "  <matplotlib.axis.XTick at 0x185733bde10>,\n",
       "  <matplotlib.axis.XTick at 0x185733be5f0>,\n",
       "  <matplotlib.axis.XTick at 0x185733cf940>,\n",
       "  <matplotlib.axis.XTick at 0x1852e5ca350>,\n",
       "  <matplotlib.axis.XTick at 0x185733bd7b0>,\n",
       "  <matplotlib.axis.XTick at 0x185733beef0>,\n",
       "  <matplotlib.axis.XTick at 0x185733bf6d0>,\n",
       "  <matplotlib.axis.XTick at 0x185733bfeb0>],\n",
       " [Text(0, 0, '0'),\n",
       "  Text(1, 0, '1'),\n",
       "  Text(2, 0, '2'),\n",
       "  Text(3, 0, '3'),\n",
       "  Text(4, 0, '4'),\n",
       "  Text(5, 0, '5'),\n",
       "  Text(6, 0, '6'),\n",
       "  Text(7, 0, '7'),\n",
       "  Text(8, 0, '8'),\n",
       "  Text(9, 0, '9'),\n",
       "  Text(10, 0, '10'),\n",
       "  Text(11, 0, '11'),\n",
       "  Text(12, 0, '12'),\n",
       "  Text(13, 0, '13'),\n",
       "  Text(14, 0, '14'),\n",
       "  Text(15, 0, '15'),\n",
       "  Text(16, 0, '16'),\n",
       "  Text(17, 0, '17'),\n",
       "  Text(18, 0, '18'),\n",
       "  Text(19, 0, '19'),\n",
       "  Text(20, 0, '20'),\n",
       "  Text(21, 0, '21'),\n",
       "  Text(22, 0, '22'),\n",
       "  Text(23, 0, '23'),\n",
       "  Text(24, 0, '24'),\n",
       "  Text(25, 0, '25'),\n",
       "  Text(26, 0, '26'),\n",
       "  Text(27, 0, '27'),\n",
       "  Text(28, 0, '28'),\n",
       "  Text(29, 0, '29'),\n",
       "  Text(30, 0, '30'),\n",
       "  Text(31, 0, '31'),\n",
       "  Text(32, 0, '32'),\n",
       "  Text(33, 0, '33'),\n",
       "  Text(34, 0, '34'),\n",
       "  Text(35, 0, '35'),\n",
       "  Text(36, 0, '36'),\n",
       "  Text(37, 0, '37'),\n",
       "  Text(38, 0, '38'),\n",
       "  Text(39, 0, '39'),\n",
       "  Text(40, 0, '40'),\n",
       "  Text(41, 0, '41'),\n",
       "  Text(42, 0, '42'),\n",
       "  Text(43, 0, '43'),\n",
       "  Text(44, 0, '44'),\n",
       "  Text(45, 0, '45'),\n",
       "  Text(46, 0, '46'),\n",
       "  Text(47, 0, '47'),\n",
       "  Text(48, 0, '48'),\n",
       "  Text(49, 0, '49')])"
      ]
     },
     "execution_count": 39,
     "metadata": {},
     "output_type": "execute_result"
    },
    {
     "data": {
      "image/png": "[encoded data removed]",
      "text/plain": [
       "<Figure size 1600x600 with 1 Axes>"
      ]
     },
     "metadata": {},
     "output_type": "display_data"
    }
   ],
   "source": [
    "character='Batman'\n",
    "\n",
    "character_topics = character_classification_df[character_classification_df['character_name'] == character]['topic_dist'].iloc[0]\n",
    "\n",
    "topics = range(len(character_topics))\n",
    "\n",
    "# Creating the plot\n",
    "plt.figure(figsize=(16, 6))\n",
    "plt.bar(topics, batman_topics)\n",
    "plt.xlabel('Topic')\n",
    "plt.ylabel('Probability (log scale)')\n",
    "plt.title(f'Topic Distribution for {character}')\n",
    "plt.yscale('log')  \n",
    "plt.xticks(topics)\n",
    "plt.show()"
   ]
  },
  {
   "cell_type": "code",
   "execution_count": 42,
   "id": "a497ae37",
   "metadata": {},
   "outputs": [
    {
     "data": {
      "text/plain": [
       "<Figure size 1600x600 with 0 Axes>"
      ]
     },
     "execution_count": 42,
     "metadata": {},
     "output_type": "execute_result"
    },
    {
     "data": {
      "text/plain": [
       "<BarContainer object of 50 artists>"
      ]
     },
     "execution_count": 42,
     "metadata": {},
     "output_type": "execute_result"
    },
    {
     "data": {
      "text/plain": [
       "Text(0.5, 0, 'Topic')"
      ]
     },
     "execution_count": 42,
     "metadata": {},
     "output_type": "execute_result"
    },
    {
     "data": {
      "text/plain": [
       "Text(0, 0.5, 'Number of Characters')"
      ]
     },
     "execution_count": 42,
     "metadata": {},
     "output_type": "execute_result"
    },
    {
     "data": {
      "text/plain": [
       "Text(0.5, 1.0, 'Distribution of Characters Across Topics')"
      ]
     },
     "execution_count": 42,
     "metadata": {},
     "output_type": "execute_result"
    },
    {
     "data": {
      "text/plain": [
       "([<matplotlib.axis.XTick at 0x1856e4d96f0>,\n",
       "  <matplotlib.axis.XTick at 0x1856e4da110>,\n",
       "  <matplotlib.axis.XTick at 0x1852e6691b0>,\n",
       "  <matplotlib.axis.XTick at 0x1856e487d90>,\n",
       "  <matplotlib.axis.XTick at 0x1856e450be0>,\n",
       "  <matplotlib.axis.XTick at 0x1856e451690>,\n",
       "  <matplotlib.axis.XTick at 0x1856e452140>,\n",
       "  <matplotlib.axis.XTick at 0x1856e451300>,\n",
       "  <matplotlib.axis.XTick at 0x1856e452b60>,\n",
       "  <matplotlib.axis.XTick at 0x1856e453610>,\n",
       "  <matplotlib.axis.XTick at 0x1856e453d60>,\n",
       "  <matplotlib.axis.XTick at 0x1856dc30bb0>,\n",
       "  <matplotlib.axis.XTick at 0x1856e450430>,\n",
       "  <matplotlib.axis.XTick at 0x1856dc31300>,\n",
       "  <matplotlib.axis.XTick at 0x1856dc31db0>,\n",
       "  <matplotlib.axis.XTick at 0x1856dc32860>,\n",
       "  <matplotlib.axis.XTick at 0x1856dc33310>,\n",
       "  <matplotlib.axis.XTick at 0x1856dc319f0>,\n",
       "  <matplotlib.axis.XTick at 0x1856dc33af0>,\n",
       "  <matplotlib.axis.XTick at 0x1856dc2c5e0>,\n",
       "  <matplotlib.axis.XTick at 0x1856dc2d090>,\n",
       "  <matplotlib.axis.XTick at 0x1856dc31540>,\n",
       "  <matplotlib.axis.XTick at 0x1856dc2c190>,\n",
       "  <matplotlib.axis.XTick at 0x1856dc2dff0>,\n",
       "  <matplotlib.axis.XTick at 0x1856dc2e7d0>,\n",
       "  <matplotlib.axis.XTick at 0x1856dc2efb0>,\n",
       "  <matplotlib.axis.XTick at 0x1856dc2f1f0>,\n",
       "  <matplotlib.axis.XTick at 0x1856dc2db40>,\n",
       "  <matplotlib.axis.XTick at 0x1856dc2faf0>,\n",
       "  <matplotlib.axis.XTick at 0x1856dc10310>,\n",
       "  <matplotlib.axis.XTick at 0x1856dc10af0>,\n",
       "  <matplotlib.axis.XTick at 0x1856dc112d0>,\n",
       "  <matplotlib.axis.XTick at 0x1856dc2ee00>,\n",
       "  <matplotlib.axis.XTick at 0x1856dc11480>,\n",
       "  <matplotlib.axis.XTick at 0x1856dc11c60>,\n",
       "  <matplotlib.axis.XTick at 0x1856dc12440>,\n",
       "  <matplotlib.axis.XTick at 0x1856dc12c20>,\n",
       "  <matplotlib.axis.XTick at 0x1856dc12a10>,\n",
       "  <matplotlib.axis.XTick at 0x1856dc104c0>,\n",
       "  <matplotlib.axis.XTick at 0x1856dc135b0>,\n",
       "  <matplotlib.axis.XTick at 0x1856dc13d90>,\n",
       "  <matplotlib.axis.XTick at 0x1856dc005b0>,\n",
       "  <matplotlib.axis.XTick at 0x1856dc13910>,\n",
       "  <matplotlib.axis.XTick at 0x1856dc12590>,\n",
       "  <matplotlib.axis.XTick at 0x1856dc00fd0>,\n",
       "  <matplotlib.axis.XTick at 0x1856dc017b0>,\n",
       "  <matplotlib.axis.XTick at 0x1856dc01f90>,\n",
       "  <matplotlib.axis.XTick at 0x1856dc02770>,\n",
       "  <matplotlib.axis.XTick at 0x1856dc01d80>,\n",
       "  <matplotlib.axis.XTick at 0x1856dc02920>],\n",
       " [Text(0, 0, '0'),\n",
       "  Text(1, 0, '1'),\n",
       "  Text(2, 0, '2'),\n",
       "  Text(3, 0, '3'),\n",
       "  Text(4, 0, '4'),\n",
       "  Text(5, 0, '5'),\n",
       "  Text(6, 0, '6'),\n",
       "  Text(7, 0, '7'),\n",
       "  Text(8, 0, '8'),\n",
       "  Text(9, 0, '9'),\n",
       "  Text(10, 0, '10'),\n",
       "  Text(11, 0, '11'),\n",
       "  Text(12, 0, '12'),\n",
       "  Text(13, 0, '13'),\n",
       "  Text(14, 0, '14'),\n",
       "  Text(15, 0, '15'),\n",
       "  Text(16, 0, '16'),\n",
       "  Text(17, 0, '17'),\n",
       "  Text(18, 0, '18'),\n",
       "  Text(19, 0, '19'),\n",
       "  Text(20, 0, '20'),\n",
       "  Text(21, 0, '21'),\n",
       "  Text(22, 0, '22'),\n",
       "  Text(23, 0, '23'),\n",
       "  Text(24, 0, '24'),\n",
       "  Text(25, 0, '25'),\n",
       "  Text(26, 0, '26'),\n",
       "  Text(27, 0, '27'),\n",
       "  Text(28, 0, '28'),\n",
       "  Text(29, 0, '29'),\n",
       "  Text(30, 0, '30'),\n",
       "  Text(31, 0, '31'),\n",
       "  Text(32, 0, '32'),\n",
       "  Text(33, 0, '33'),\n",
       "  Text(34, 0, '34'),\n",
       "  Text(35, 0, '35'),\n",
       "  Text(36, 0, '36'),\n",
       "  Text(37, 0, '37'),\n",
       "  Text(38, 0, '38'),\n",
       "  Text(39, 0, '39'),\n",
       "  Text(40, 0, '40'),\n",
       "  Text(41, 0, '41'),\n",
       "  Text(42, 0, '42'),\n",
       "  Text(43, 0, '43'),\n",
       "  Text(44, 0, '44'),\n",
       "  Text(45, 0, '45'),\n",
       "  Text(46, 0, '46'),\n",
       "  Text(47, 0, '47'),\n",
       "  Text(48, 0, '48'),\n",
       "  Text(49, 0, '49')])"
      ]
     },
     "execution_count": 42,
     "metadata": {},
     "output_type": "execute_result"
    },
    {
     "data": {
      "image/png": "[encoded data removed]",
      "text/plain": [
       "<Figure size 1600x600 with 1 Axes>"
      ]
     },
     "metadata": {},
     "output_type": "display_data"
    }
   ],
   "source": [
    "topic_counts = character_classification_df['topic'].value_counts()\n",
    "\n",
    "topic_counts = topic_counts.sort_index()\n",
    "\n",
    "plt.figure(figsize=(16, 6))\n",
    "plt.bar(topic_counts.index, topic_counts.values)\n",
    "\n",
    "plt.xlabel('Topic')\n",
    "plt.ylabel('Number of Characters')\n",
    "plt.title('Distribution of Characters Across Topics')\n",
    "plt.xticks(topic_counts.index)\n",
    "plt.show()"
   ]
  }
 ],
 "metadata": {
  "kernelspec": {
   "display_name": "Python 3 (ipykernel)",
   "language": "python",
   "name": "python3"
  },
  "language_info": {
   "codemirror_mode": {
    "name": "ipython",
    "version": 3
   },
   "file_extension": ".py",
   "mimetype": "text/x-python",
   "name": "python",
   "nbconvert_exporter": "python",
   "pygments_lexer": "ipython3",
   "version": "3.10.11"
  }
 },
 "nbformat": 4,
 "nbformat_minor": 5
}

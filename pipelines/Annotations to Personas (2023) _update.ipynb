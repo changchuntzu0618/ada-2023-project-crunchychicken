{
 "cells": [
  {
   "cell_type": "code",
   "execution_count": 2,
   "id": "2f74e0f3",
   "metadata": {},
   "outputs": [],
   "source": [
    "import pandas as pd\n",
    "import os\n",
    "from joblib import Parallel, delayed\n",
    "from tqdm.notebook import tqdm\n",
    "import numpy as np\n",
    "import joblib\n",
    "from collections import defaultdict\n",
    "from sklearn.feature_extraction.text import CountVectorizer\n",
    "from sklearn.decomposition import LatentDirichletAllocation\n",
    "import matplotlib.pyplot as plt\n",
    "%matplotlib inline\n",
    "import sys\n",
    "\n",
    "sys.path.append('..')\n",
    "from helpers.readers import read_dataframe\n",
    "\n",
    "DATA_PATH = '../generated/annotations_2023/'"
   ]
  },
  {
   "cell_type": "markdown",
   "id": "02c62b20",
   "metadata": {},
   "source": [
    "### How to get the data\n",
    "1. Download from [here](https://drive.google.com/drive/folders/1pSyWy1uQqbTe4xCt9TtvIQM0YTyVZ8Tr?usp=drive_link) `tokens.parquet`, `dependencies.parquet` and `entities.parquet` (generated from [`Text to Dataframes (2023).ipnyb`](https://github.com/epfl-ada/ada-2023-project-crunchychicken/blob/main/pipelines/Text%20to%20Dataframes%20(2023).ipynb))\n",
    "2. Place the files inside `annotations_2023/`:\n",
    "```\n",
    "project_root/\n",
    "│\n",
    "├── P2.ipynb\n",
    "│\n",
    "├── generated/\n",
    "│   ├── annotations_2023/\n",
    "```"
   ]
  },
  {
   "cell_type": "code",
   "execution_count": 2,
   "id": "1d0766a0",
   "metadata": {},
   "outputs": [],
   "source": [
    "tokens = read_dataframe('cmu/tokens_2023')\n",
    "dependencies = read_dataframe('cmu/dependencies_2023')\n",
    "entities = read_dataframe('cmu/entities_2023')\n",
    "# coreference is complex to integrate, for now we will use these three dataframes"
   ]
  },
  {
   "cell_type": "code",
   "execution_count": 3,
   "id": "4e60bc59",
   "metadata": {},
   "outputs": [],
   "source": [
    "tokens['token_id'] = tokens.groupby(['Wikipedia_movie_id', 'Sentence_id']).cumcount() + 1 # adding token id, not present by default in 4.5.5\n",
    "tokens = tokens.drop(['Sentiment', 'COB', 'COE'], axis=1) # can use Sentiment later"
   ]
  },
  {
   "cell_type": "code",
   "execution_count": 4,
   "id": "336cb08f",
   "metadata": {},
   "outputs": [
    {
     "data": {
      "text/plain": [
       "(15046378, 15376339, 2220379)"
      ]
     },
     "execution_count": 4,
     "metadata": {},
     "output_type": "execute_result"
    }
   ],
   "source": [
    "# 15M            15M                 2.2M\n",
    "len(tokens), len(dependencies), len(entities)"
   ]
  },
  {
   "cell_type": "markdown",
   "id": "912c5a42",
   "metadata": {},
   "source": [
    "### Preprocessing\n",
    "Running on such big dataframes will take too much time. To solve this, we will first filter on movie plots that contain a character (from the entities dataframe check for `Entity_type == PERSON` and a non NaN `Optional_probability`) and on also filter on the dependencies (from the dependencies dataframe check that the `Dependency_type` satisfies an agent verb, patient verb or attribute)."
   ]
  },
  {
   "cell_type": "code",
   "execution_count": 5,
   "id": "8c69e9ab",
   "metadata": {},
   "outputs": [
    {
     "name": "stdout",
     "output_type": "stream",
     "text": [
      "CPU times: total: 19.4 s\n",
      "Wall time: 20 s\n"
     ]
    }
   ],
   "source": [
    "%%time\n",
    "agent_verbs = [\"agent\", \"nsubj\"]\n",
    "patient_verbs = [\"dobj\", \"nsubjpass\", \"iobj\"] # no prep_ using coreNLP4.5.5\n",
    "attributes_av = [\"nsubj\", \"appos\"]\n",
    "attributes_pv = [\"nsubj\", \"appos\", \"amod\", \"nn\"]\n",
    "\n",
    "def is_matching_dependency(dep_type):\n",
    "    if dep_type in agent_verbs or dep_type in patient_verbs or dep_type in attributes_av or dep_type in attributes_pv:\n",
    "        return True\n",
    "    else: return False\n",
    "\n",
    "tokens_with_character = tokens[tokens[\"NER\"] == \"PERSON\"][\"Wikipedia_movie_id\"].tolist()\n",
    "entities_with_character = entities[(entities['Entity_type'] == 'PERSON') & (entities['Optional_probability'].notna())][\"Wikipedia_movie_id\"].tolist()\n",
    "prefiltered_entities = entities[(entities['Entity_type'] == 'PERSON') & (entities['Optional_probability'].notna())].copy()\n",
    "dependencies_with_dep = dependencies[dependencies['Dependency_type'].apply(is_matching_dependency)][\"Wikipedia_movie_id\"].tolist()\n",
    "prefiltered_dependencies = dependencies[dependencies['Dependency_type'].apply(is_matching_dependency)].copy()\n",
    "\n",
    "set_tokens = set(tokens_with_character)\n",
    "set_entities = set(entities_with_character)\n",
    "set_dependencies = set(dependencies_with_dep)\n",
    "\n",
    "intersection_set = set_tokens & set_entities & set_dependencies\n",
    "\n",
    "filtered_tokens = tokens[tokens[\"Wikipedia_movie_id\"].isin(intersection_set)]\n",
    "filtered_entities = prefiltered_entities[prefiltered_entities[\"Wikipedia_movie_id\"].isin(intersection_set)]\n",
    "filtered_dependencies = prefiltered_dependencies[prefiltered_dependencies[\"Wikipedia_movie_id\"].isin(intersection_set)]"
   ]
  },
  {
   "cell_type": "code",
   "execution_count": 6,
   "id": "7e81993f",
   "metadata": {},
   "outputs": [
    {
     "data": {
      "text/plain": [
       "(14714763, 3603836, 848088)"
      ]
     },
     "execution_count": 6,
     "metadata": {},
     "output_type": "execute_result"
    }
   ],
   "source": [
    "len(filtered_tokens), len(filtered_dependencies), len(filtered_entities)"
   ]
  },
  {
   "cell_type": "code",
   "execution_count": 7,
   "id": "fc7077d7",
   "metadata": {},
   "outputs": [
    {
     "name": "stdout",
     "output_type": "stream",
     "text": [
      "CPU times: total: 3min 22s\n",
      "Wall time: 3min 25s\n"
     ]
    }
   ],
   "source": [
    "%%time\n",
    "word_to_character = {}\n",
    "for _, row in filtered_entities.iterrows():\n",
    "    character_name = row['Word']\n",
    "    movie_id = row['Wikipedia_movie_id']\n",
    "    sentence_id = row['Sentence_id']\n",
    "    for word in character_name.split():\n",
    "        key = (movie_id, sentence_id, word)\n",
    "        word_to_character[key] = character_name\n",
    "\n",
    "filtered_tokens_copy = filtered_tokens.copy()\n",
    "\n",
    "def map_word_to_character(row):\n",
    "    key = (row['Wikipedia_movie_id'], row['Sentence_id'], row['Word'])\n",
    "    return word_to_character.get(key, '')\n",
    "\n",
    "filtered_tokens_copy['Character'] = filtered_tokens_copy.apply(map_word_to_character, axis=1)"
   ]
  },
  {
   "cell_type": "code",
   "execution_count": 8,
   "id": "49e899fd",
   "metadata": {},
   "outputs": [
    {
     "name": "stdout",
     "output_type": "stream",
     "text": [
      "CPU times: total: 27.5 s\n",
      "Wall time: 27.9 s\n"
     ]
    }
   ],
   "source": [
    "%%time\n",
    "merge1 = pd.merge(filtered_tokens_copy, filtered_dependencies, left_on=['Wikipedia_movie_id', 'Sentence_id', 'token_id'], right_on=['Wikipedia_movie_id', 'Sentence_id', 'Word_1_idx'])\n",
    "\n",
    "merge2 = pd.merge(filtered_tokens_copy, filtered_dependencies, left_on=['Wikipedia_movie_id', 'Sentence_id', 'token_id'], right_on=['Wikipedia_movie_id', 'Sentence_id', 'Word_2_idx'])\n",
    "\n",
    "final_merged_df = pd.concat([merge1, merge2], ignore_index=True)"
   ]
  },
  {
   "cell_type": "code",
   "execution_count": 9,
   "id": "0295d319",
   "metadata": {},
   "outputs": [
    {
     "data": {
      "text/html": [
       "<div>\n",
       "<style scoped>\n",
       "    .dataframe tbody tr th:only-of-type {\n",
       "        vertical-align: middle;\n",
       "    }\n",
       "\n",
       "    .dataframe tbody tr th {\n",
       "        vertical-align: top;\n",
       "    }\n",
       "\n",
       "    .dataframe thead th {\n",
       "        text-align: right;\n",
       "    }\n",
       "</style>\n",
       "<table border=\"1\" class=\"dataframe\">\n",
       "  <thead>\n",
       "    <tr style=\"text-align: right;\">\n",
       "      <th></th>\n",
       "      <th>Wikipedia_movie_id</th>\n",
       "      <th>Sentence_id</th>\n",
       "      <th>Word</th>\n",
       "      <th>POS</th>\n",
       "      <th>Lemma</th>\n",
       "      <th>NER</th>\n",
       "      <th>token_id</th>\n",
       "      <th>Character</th>\n",
       "      <th>Dependency_type</th>\n",
       "      <th>Word_1</th>\n",
       "      <th>Word_1_idx</th>\n",
       "      <th>Word_2</th>\n",
       "      <th>Word_2_idx</th>\n",
       "    </tr>\n",
       "  </thead>\n",
       "  <tbody>\n",
       "    <tr>\n",
       "      <th>0</th>\n",
       "      <td>11784534</td>\n",
       "      <td>1</td>\n",
       "      <td>Bergman</td>\n",
       "      <td>NNP</td>\n",
       "      <td>Bergman</td>\n",
       "      <td>PERSON</td>\n",
       "      <td>7</td>\n",
       "      <td>Ingrid Bergman</td>\n",
       "      <td>nn</td>\n",
       "      <td>Bergman</td>\n",
       "      <td>7</td>\n",
       "      <td>Ingrid</td>\n",
       "      <td>6</td>\n",
       "    </tr>\n",
       "    <tr>\n",
       "      <th>1</th>\n",
       "      <td>11784534</td>\n",
       "      <td>1</td>\n",
       "      <td>Sanders</td>\n",
       "      <td>NNP</td>\n",
       "      <td>Sanders</td>\n",
       "      <td>PERSON</td>\n",
       "      <td>10</td>\n",
       "      <td>George Sanders</td>\n",
       "      <td>nn</td>\n",
       "      <td>Sanders</td>\n",
       "      <td>10</td>\n",
       "      <td>George</td>\n",
       "      <td>9</td>\n",
       "    </tr>\n",
       "    <tr>\n",
       "      <th>2</th>\n",
       "      <td>11784534</td>\n",
       "      <td>1</td>\n",
       "      <td>couple</td>\n",
       "      <td>NN</td>\n",
       "      <td>couple</td>\n",
       "      <td>O</td>\n",
       "      <td>15</td>\n",
       "      <td></td>\n",
       "      <td>nsubj</td>\n",
       "      <td>couple</td>\n",
       "      <td>15</td>\n",
       "      <td>Joyces</td>\n",
       "      <td>2</td>\n",
       "    </tr>\n",
       "    <tr>\n",
       "      <th>3</th>\n",
       "      <td>11784534</td>\n",
       "      <td>1</td>\n",
       "      <td>couple</td>\n",
       "      <td>NN</td>\n",
       "      <td>couple</td>\n",
       "      <td>O</td>\n",
       "      <td>15</td>\n",
       "      <td></td>\n",
       "      <td>amod</td>\n",
       "      <td>couple</td>\n",
       "      <td>15</td>\n",
       "      <td>English</td>\n",
       "      <td>14</td>\n",
       "    </tr>\n",
       "    <tr>\n",
       "      <th>4</th>\n",
       "      <td>11784534</td>\n",
       "      <td>1</td>\n",
       "      <td>gone</td>\n",
       "      <td>VBN</td>\n",
       "      <td>go</td>\n",
       "      <td>O</td>\n",
       "      <td>18</td>\n",
       "      <td></td>\n",
       "      <td>nsubj</td>\n",
       "      <td>gone</td>\n",
       "      <td>18</td>\n",
       "      <td>who</td>\n",
       "      <td>16</td>\n",
       "    </tr>\n",
       "    <tr>\n",
       "      <th>...</th>\n",
       "      <td>...</td>\n",
       "      <td>...</td>\n",
       "      <td>...</td>\n",
       "      <td>...</td>\n",
       "      <td>...</td>\n",
       "      <td>...</td>\n",
       "      <td>...</td>\n",
       "      <td>...</td>\n",
       "      <td>...</td>\n",
       "      <td>...</td>\n",
       "      <td>...</td>\n",
       "      <td>...</td>\n",
       "      <td>...</td>\n",
       "    </tr>\n",
       "    <tr>\n",
       "      <th>7207667</th>\n",
       "      <td>9990262</td>\n",
       "      <td>48</td>\n",
       "      <td>min</td>\n",
       "      <td>NNP</td>\n",
       "      <td>min</td>\n",
       "      <td>O</td>\n",
       "      <td>10</td>\n",
       "      <td></td>\n",
       "      <td>nsubj</td>\n",
       "      <td>asks</td>\n",
       "      <td>12</td>\n",
       "      <td>min</td>\n",
       "      <td>10</td>\n",
       "    </tr>\n",
       "    <tr>\n",
       "      <th>7207668</th>\n",
       "      <td>9990262</td>\n",
       "      <td>48</td>\n",
       "      <td>min</td>\n",
       "      <td>NNP</td>\n",
       "      <td>min</td>\n",
       "      <td>O</td>\n",
       "      <td>10</td>\n",
       "      <td></td>\n",
       "      <td>nsubj</td>\n",
       "      <td>get</td>\n",
       "      <td>14</td>\n",
       "      <td>min</td>\n",
       "      <td>10</td>\n",
       "    </tr>\n",
       "    <tr>\n",
       "      <th>7207669</th>\n",
       "      <td>9990262</td>\n",
       "      <td>48</td>\n",
       "      <td>head</td>\n",
       "      <td>NN</td>\n",
       "      <td>head</td>\n",
       "      <td>O</td>\n",
       "      <td>16</td>\n",
       "      <td></td>\n",
       "      <td>nn</td>\n",
       "      <td>surgery</td>\n",
       "      <td>22</td>\n",
       "      <td>head</td>\n",
       "      <td>16</td>\n",
       "    </tr>\n",
       "    <tr>\n",
       "      <th>7207670</th>\n",
       "      <td>9990262</td>\n",
       "      <td>48</td>\n",
       "      <td>toe</td>\n",
       "      <td>NN</td>\n",
       "      <td>toe</td>\n",
       "      <td>O</td>\n",
       "      <td>20</td>\n",
       "      <td></td>\n",
       "      <td>nn</td>\n",
       "      <td>plastic</td>\n",
       "      <td>21</td>\n",
       "      <td>toe</td>\n",
       "      <td>20</td>\n",
       "    </tr>\n",
       "    <tr>\n",
       "      <th>7207671</th>\n",
       "      <td>9990262</td>\n",
       "      <td>48</td>\n",
       "      <td>surgery</td>\n",
       "      <td>NN</td>\n",
       "      <td>surgery</td>\n",
       "      <td>CAUSE_OF_DEATH</td>\n",
       "      <td>22</td>\n",
       "      <td></td>\n",
       "      <td>dobj</td>\n",
       "      <td>get</td>\n",
       "      <td>14</td>\n",
       "      <td>surgery</td>\n",
       "      <td>22</td>\n",
       "    </tr>\n",
       "  </tbody>\n",
       "</table>\n",
       "<p>7207672 rows × 13 columns</p>\n",
       "</div>"
      ],
      "text/plain": [
       "         Wikipedia_movie_id  Sentence_id     Word  POS    Lemma  \\\n",
       "0                  11784534            1  Bergman  NNP  Bergman   \n",
       "1                  11784534            1  Sanders  NNP  Sanders   \n",
       "2                  11784534            1   couple   NN   couple   \n",
       "3                  11784534            1   couple   NN   couple   \n",
       "4                  11784534            1     gone  VBN       go   \n",
       "...                     ...          ...      ...  ...      ...   \n",
       "7207667             9990262           48      min  NNP      min   \n",
       "7207668             9990262           48      min  NNP      min   \n",
       "7207669             9990262           48     head   NN     head   \n",
       "7207670             9990262           48      toe   NN      toe   \n",
       "7207671             9990262           48  surgery   NN  surgery   \n",
       "\n",
       "                    NER  token_id       Character Dependency_type   Word_1  \\\n",
       "0                PERSON         7  Ingrid Bergman              nn  Bergman   \n",
       "1                PERSON        10  George Sanders              nn  Sanders   \n",
       "2                     O        15                           nsubj   couple   \n",
       "3                     O        15                            amod   couple   \n",
       "4                     O        18                           nsubj     gone   \n",
       "...                 ...       ...             ...             ...      ...   \n",
       "7207667               O        10                           nsubj     asks   \n",
       "7207668               O        10                           nsubj      get   \n",
       "7207669               O        16                              nn  surgery   \n",
       "7207670               O        20                              nn  plastic   \n",
       "7207671  CAUSE_OF_DEATH        22                            dobj      get   \n",
       "\n",
       "         Word_1_idx   Word_2  Word_2_idx  \n",
       "0                 7   Ingrid           6  \n",
       "1                10   George           9  \n",
       "2                15   Joyces           2  \n",
       "3                15  English          14  \n",
       "4                18      who          16  \n",
       "...             ...      ...         ...  \n",
       "7207667          12      min          10  \n",
       "7207668          14      min          10  \n",
       "7207669          22     head          16  \n",
       "7207670          21      toe          20  \n",
       "7207671          14  surgery          22  \n",
       "\n",
       "[7207672 rows x 13 columns]"
      ]
     },
     "execution_count": 9,
     "metadata": {},
     "output_type": "execute_result"
    }
   ],
   "source": [
    "final_merged_df"
   ]
  },
  {
   "cell_type": "code",
   "execution_count": 10,
   "id": "f39ecbaa",
   "metadata": {},
   "outputs": [
    {
     "name": "stdout",
     "output_type": "stream",
     "text": [
      "peak memory: 10949.94 MiB, increment: 0.04 MiB\n",
      "peak memory: 6863.02 MiB, increment: 0.00 MiB\n"
     ]
    }
   ],
   "source": [
    "# !pip install memory_profiler\n",
    "# install and load memory_profiler to use %memit, use %whos to see what's in memory\n",
    "%load_ext memory_profiler\n",
    "%memit\n",
    "import gc\n",
    "\n",
    "del filtered_entities\n",
    "del filtered_tokens_copy\n",
    "del filtered_dependencies\n",
    "del filtered_tokens\n",
    "del dependencies\n",
    "del dependencies_with_dep\n",
    "del entities\n",
    "del entities_with_character\n",
    "del intersection_set\n",
    "del merge1\n",
    "del merge2 \n",
    "del prefiltered_dependencies\n",
    "del prefiltered_entities\n",
    "del set_dependencies        \n",
    "del set_entities              \n",
    "del set_tokens\n",
    "del tokens\n",
    "del tokens_with_character\n",
    "\n",
    "gc.collect()\n",
    "%memit"
   ]
  },
  {
   "cell_type": "markdown",
   "id": "23d90c59",
   "metadata": {},
   "source": [
    "### Adding the POS and lemma of dependencies to the merged dataframe before running extractor"
   ]
  },
  {
   "cell_type": "code",
   "execution_count": null,
   "id": "7d44f4cb",
   "metadata": {},
   "outputs": [],
   "source": [
    "def get_dependency_pos_lemma(row):\n",
    "    if row['Character']:\n",
    "        dependency_idx = row['Word_2_idx'] if row['Word'] == row['Word_1'] else row['Word_1_idx']\n",
    "\n",
    "        pos_lemma = final_merged_df.loc[(final_merged_df['Wikipedia_movie_id'] == row['Wikipedia_movie_id']) &\n",
    "                                        (final_merged_df['Sentence_id'] == row['Sentence_id']) &\n",
    "                                        (final_merged_df['token_id'] == dependency_idx), ['POS', 'Lemma']].iloc[0]\n",
    "        return pos_lemma.POS, pos_lemma.Lemma\n",
    "    return '', ''"
   ]
  },
  {
   "cell_type": "markdown",
   "id": "ff1c3941",
   "metadata": {},
   "source": [
    "Will take around 2 hours 👇"
   ]
  },
  {
   "cell_type": "code",
   "execution_count": null,
   "id": "46be925e",
   "metadata": {},
   "outputs": [],
   "source": [
    "%%time\n",
    "def process_chunk(chunk):\n",
    "    return chunk.apply(get_dependency_pos_lemma, axis=1)\n",
    "\n",
    "num_partitions = joblib.cpu_count()\n",
    "chunk_size = int(np.ceil(final_merged_df.shape[0] / num_partitions))\n",
    "chunks = [final_merged_df.iloc[i:i + chunk_size] for i in range(0, final_merged_df.shape[0], chunk_size)]\n",
    "\n",
    "results = Parallel(n_jobs=num_partitions)(delayed(process_chunk)(chunk) for chunk in chunks)\n",
    "\n",
    "pos_lemma_df = pd.concat(results, ignore_index=True)\n",
    "\n",
    "final_merged_df = pd.concat([final_merged_df.reset_index(drop=True), pos_lemma_df], axis=1)\n",
    "\n",
    "final_merged_df_filtered = final_merged_df[final_merged_df['Character'] != '']"
   ]
  },
  {
   "cell_type": "code",
   "execution_count": null,
   "id": "77de439a",
   "metadata": {},
   "outputs": [],
   "source": [
    "final_merged_df_filtered = final_merged_df_filtered.copy()\n",
    "\n",
    "final_merged_df_filtered.loc[:, 'Dependency_POS'] = final_merged_df_filtered[0].apply(lambda x: x[0])\n",
    "final_merged_df_filtered.loc[:, 'Dependency_Lemma'] = final_merged_df_filtered[0].apply(lambda x: x[1])\n",
    "\n",
    "final_merged_df_filtered = final_merged_df_filtered.drop(columns=[0])\n",
    "\n",
    "final_merged_df_filtered"
   ]
  },
  {
   "cell_type": "code",
   "execution_count": null,
   "id": "665c278b",
   "metadata": {},
   "outputs": [],
   "source": [
    "del results\n",
    "del pos_lemma_df\n",
    "del final_merged_df\n",
    "gc.collect()"
   ]
  },
  {
   "cell_type": "code",
   "execution_count": null,
   "id": "d017599d",
   "metadata": {},
   "outputs": [],
   "source": [
    "final_merged_df_filtered"
   ]
  },
  {
   "cell_type": "markdown",
   "id": "c8160741",
   "metadata": {},
   "source": [
    "### Extractor"
   ]
  },
  {
   "cell_type": "code",
   "execution_count": null,
   "id": "27de19e2",
   "metadata": {},
   "outputs": [],
   "source": [
    "characters = pd.DataFrame(columns=['Wikipedia_movie_id', 'Character', 'AV', 'PV', 'Att']) # dataframe where we will store the character, its actions (agent and patient) and attributes\n",
    "verb_pos_tags = [\"VB\", \"VBD\", \"VBG\", \"VBN\", \"VBP\", \"VBZ\"] # to indentify verbs from attributes"
   ]
  },
  {
   "cell_type": "code",
   "execution_count": null,
   "id": "1d310235",
   "metadata": {},
   "outputs": [],
   "source": [
    "%%time\n",
    "def process_chunk(chunk):\n",
    "    temp_data = defaultdict(lambda: {'AV': [], 'PV': [], 'Att': []})\n",
    "    for _, row in chunk.iterrows():\n",
    "        result = process_row(row)\n",
    "        key = (result['Wikipedia_movie_id'], result['Character'])\n",
    "        temp_data[key]['AV'].extend(result['AV'])\n",
    "        temp_data[key]['PV'].extend(result['PV'])\n",
    "        temp_data[key]['Att'].extend(result['Att'])\n",
    "    return temp_data\n",
    "\n",
    "num_partitions = joblib.cpu_count()\n",
    "chunk_size = int(np.ceil(final_merged_df_filtered.shape[0] / num_partitions))\n",
    "chunks = [final_merged_df_filtered.iloc[i:i + chunk_size] for i in range(0, final_merged_df_filtered.shape[0], chunk_size)]\n",
    "\n",
    "chunk_results = Parallel(n_jobs=num_partitions)(delayed(process_chunk)(chunk) for chunk in chunks)\n",
    "\n",
    "combined_results = defaultdict(lambda: {'AV': [], 'PV': [], 'Att': []})\n",
    "for chunk_result in chunk_results:\n",
    "    for key, values in chunk_result.items():\n",
    "        combined_results[key]['AV'].extend(values['AV'])\n",
    "        combined_results[key]['PV'].extend(values['PV'])\n",
    "        combined_results[key]['Att'].extend(values['Att'])\n",
    "\n",
    "character_data = []\n",
    "for (movie_id, character), values in combined_results.items():\n",
    "    character_data.append({\n",
    "        'Wikipedia_movie_id': movie_id,\n",
    "        'Character': character,\n",
    "        'AV': values['AV'],\n",
    "        'PV': values['PV'],\n",
    "        'Att': values['Att']\n",
    "    })\n",
    "\n",
    "characters = pd.DataFrame(character_data)"
   ]
  },
  {
   "cell_type": "code",
   "execution_count": null,
   "id": "68c490f9",
   "metadata": {},
   "outputs": [],
   "source": [
    "characters.to_parquet(os.path.join(DATA_PATH, \"characters.parquet\"), compression= \"brotli\")"
   ]
  },
  {
   "cell_type": "code",
   "execution_count": null,
   "id": "c3e0dbad",
   "metadata": {},
   "outputs": [],
   "source": [
    "characters"
   ]
  },
  {
   "cell_type": "markdown",
   "id": "f897ae88",
   "metadata": {},
   "source": [
    "### Generate bag of words\n",
    "A bag is a tupple of $(r,w)$, where $r$ is of {agent verb, patient verb, attribute} and $w$ is the lemma of the word."
   ]
  },
  {
   "cell_type": "code",
   "execution_count": null,
   "id": "d63f1433",
   "metadata": {},
   "outputs": [],
   "source": [
    "def generate_bags_of_words(characters_df: pd.DataFrame):\n",
    "    bags_of_words = []\n",
    "\n",
    "    for _, row in tqdm(characters_df.iterrows()):\n",
    "        movie_id = row['Wikipedia_movie_id']\n",
    "        character_name = row['Character']\n",
    "\n",
    "        av = row['AV'] if isinstance(row['AV'], list) else []\n",
    "        pv = row['PV'] if isinstance(row['PV'], list) else []\n",
    "        att = row['Att'] if isinstance(row['Att'], list) else []\n",
    "\n",
    "        for verb in av:\n",
    "            bags_of_words.append((movie_id, character_name, 'agent_verb', verb))\n",
    "\n",
    "        for verb in pv:\n",
    "            bags_of_words.append((movie_id, character_name, 'patient_verb', verb))\n",
    "\n",
    "        for attribute in att:\n",
    "            bags_of_words.append((movie_id, character_name, 'attribute', attribute))\n",
    "\n",
    "    return bags_of_words\n",
    "\n",
    "bags_of_words = generate_bags_of_words(characters)"
   ]
  },
  {
   "cell_type": "code",
   "execution_count": null,
   "id": "b3f20245",
   "metadata": {},
   "outputs": [],
   "source": [
    "bags_df = pd.DataFrame(bags_of_words, columns=['movie_id', 'character_name', 'type', 'word'])\n",
    "bags_df.to_parquet(os.path.join(DATA_PATH, \"bags.parquet\"), compression= \"brotli\")"
   ]
  },
  {
   "cell_type": "markdown",
   "id": "1cc210d5",
   "metadata": {},
   "source": [
    "### From tupples to topics using LDA"
   ]
  },
  {
   "cell_type": "code",
   "execution_count": 5,
   "id": "0509f481",
   "metadata": {},
   "outputs": [
    {
     "data": {
      "text/html": [
       "<div>\n",
       "<style scoped>\n",
       "    .dataframe tbody tr th:only-of-type {\n",
       "        vertical-align: middle;\n",
       "    }\n",
       "\n",
       "    .dataframe tbody tr th {\n",
       "        vertical-align: top;\n",
       "    }\n",
       "\n",
       "    .dataframe thead th {\n",
       "        text-align: right;\n",
       "    }\n",
       "</style>\n",
       "<table border=\"1\" class=\"dataframe\">\n",
       "  <thead>\n",
       "    <tr style=\"text-align: right;\">\n",
       "      <th></th>\n",
       "      <th>movie_id</th>\n",
       "      <th>character_name</th>\n",
       "      <th>type</th>\n",
       "      <th>word</th>\n",
       "    </tr>\n",
       "  </thead>\n",
       "  <tbody>\n",
       "    <tr>\n",
       "      <th>0</th>\n",
       "      <td>11784534</td>\n",
       "      <td>Ingrid Bergman</td>\n",
       "      <td>attribute</td>\n",
       "      <td>Ingrid</td>\n",
       "    </tr>\n",
       "    <tr>\n",
       "      <th>1</th>\n",
       "      <td>11784534</td>\n",
       "      <td>Ingrid Bergman</td>\n",
       "      <td>attribute</td>\n",
       "      <td>Bergman</td>\n",
       "    </tr>\n",
       "    <tr>\n",
       "      <th>2</th>\n",
       "      <td>11784534</td>\n",
       "      <td>George Sanders</td>\n",
       "      <td>attribute</td>\n",
       "      <td>George</td>\n",
       "    </tr>\n",
       "  </tbody>\n",
       "</table>\n",
       "</div>"
      ],
      "text/plain": [
       "   movie_id  character_name       type     word\n",
       "0  11784534  Ingrid Bergman  attribute   Ingrid\n",
       "1  11784534  Ingrid Bergman  attribute  Bergman\n",
       "2  11784534  George Sanders  attribute   George"
      ]
     },
     "execution_count": 5,
     "metadata": {},
     "output_type": "execute_result"
    }
   ],
   "source": [
    "bags_df = read_dataframe('cmu/bags_2023')\n",
    "bags_of_words=bags_df.values\n",
    "\n",
    "bags_df.head(3)"
   ]
  },
  {
   "cell_type": "markdown",
   "metadata": {},
   "source": [
    "<span style=\"color:red;\">Update part compared to \"Annotations to Personas (2023).ipynb\"</span>"
   ]
  },
  {
   "cell_type": "code",
   "execution_count": 13,
   "id": "96273935",
   "metadata": {},
   "outputs": [
    {
     "name": "stderr",
     "output_type": "stream",
     "text": [
      "[Parallel(n_jobs=1)]: Using backend SequentialBackend with 1 concurrent workers.\n",
      "[Parallel(n_jobs=1)]: Done   1 out of   1 | elapsed:   23.4s finished\n",
      "[Parallel(n_jobs=1)]: Using backend SequentialBackend with 1 concurrent workers.\n"
     ]
    },
    {
     "name": "stdout",
     "output_type": "stream",
     "text": [
      "iteration: 1 of max_iter: 10\n"
     ]
    },
    {
     "name": "stderr",
     "output_type": "stream",
     "text": [
      "[Parallel(n_jobs=1)]: Done   1 out of   1 | elapsed:   22.0s finished\n",
      "[Parallel(n_jobs=1)]: Using backend SequentialBackend with 1 concurrent workers.\n"
     ]
    },
    {
     "name": "stdout",
     "output_type": "stream",
     "text": [
      "iteration: 2 of max_iter: 10\n"
     ]
    },
    {
     "name": "stderr",
     "output_type": "stream",
     "text": [
      "[Parallel(n_jobs=1)]: Done   1 out of   1 | elapsed:   19.7s finished\n",
      "[Parallel(n_jobs=1)]: Using backend SequentialBackend with 1 concurrent workers.\n"
     ]
    },
    {
     "name": "stdout",
     "output_type": "stream",
     "text": [
      "iteration: 3 of max_iter: 10\n"
     ]
    },
    {
     "name": "stderr",
     "output_type": "stream",
     "text": [
      "[Parallel(n_jobs=1)]: Done   1 out of   1 | elapsed:   18.0s finished\n",
      "[Parallel(n_jobs=1)]: Using backend SequentialBackend with 1 concurrent workers.\n"
     ]
    },
    {
     "name": "stdout",
     "output_type": "stream",
     "text": [
      "iteration: 4 of max_iter: 10\n"
     ]
    },
    {
     "name": "stderr",
     "output_type": "stream",
     "text": [
      "[Parallel(n_jobs=1)]: Done   1 out of   1 | elapsed:   16.5s finished\n",
      "[Parallel(n_jobs=1)]: Using backend SequentialBackend with 1 concurrent workers.\n"
     ]
    },
    {
     "name": "stdout",
     "output_type": "stream",
     "text": [
      "iteration: 5 of max_iter: 10\n"
     ]
    },
    {
     "name": "stderr",
     "output_type": "stream",
     "text": [
      "[Parallel(n_jobs=1)]: Done   1 out of   1 | elapsed:   15.6s finished\n",
      "[Parallel(n_jobs=1)]: Using backend SequentialBackend with 1 concurrent workers.\n"
     ]
    },
    {
     "name": "stdout",
     "output_type": "stream",
     "text": [
      "iteration: 6 of max_iter: 10\n"
     ]
    },
    {
     "name": "stderr",
     "output_type": "stream",
     "text": [
      "[Parallel(n_jobs=1)]: Done   1 out of   1 | elapsed:   14.7s finished\n",
      "[Parallel(n_jobs=1)]: Using backend SequentialBackend with 1 concurrent workers.\n"
     ]
    },
    {
     "name": "stdout",
     "output_type": "stream",
     "text": [
      "iteration: 7 of max_iter: 10\n"
     ]
    },
    {
     "name": "stderr",
     "output_type": "stream",
     "text": [
      "[Parallel(n_jobs=1)]: Done   1 out of   1 | elapsed:   14.3s finished\n",
      "[Parallel(n_jobs=1)]: Using backend SequentialBackend with 1 concurrent workers.\n"
     ]
    },
    {
     "name": "stdout",
     "output_type": "stream",
     "text": [
      "iteration: 8 of max_iter: 10\n"
     ]
    },
    {
     "name": "stderr",
     "output_type": "stream",
     "text": [
      "[Parallel(n_jobs=1)]: Done   1 out of   1 | elapsed:   13.8s finished\n",
      "[Parallel(n_jobs=1)]: Using backend SequentialBackend with 1 concurrent workers.\n"
     ]
    },
    {
     "name": "stdout",
     "output_type": "stream",
     "text": [
      "iteration: 9 of max_iter: 10\n"
     ]
    },
    {
     "name": "stderr",
     "output_type": "stream",
     "text": [
      "[Parallel(n_jobs=1)]: Done   1 out of   1 | elapsed:   13.6s finished\n",
      "[Parallel(n_jobs=1)]: Using backend SequentialBackend with 1 concurrent workers.\n"
     ]
    },
    {
     "name": "stdout",
     "output_type": "stream",
     "text": [
      "iteration: 10 of max_iter: 10\n"
     ]
    },
    {
     "name": "stderr",
     "output_type": "stream",
     "text": [
      "[Parallel(n_jobs=1)]: Done   1 out of   1 | elapsed:    8.9s finished\n"
     ]
    },
    {
     "data": {
      "text/html": [
       "<style>#sk-container-id-1 {color: black;}#sk-container-id-1 pre{padding: 0;}#sk-container-id-1 div.sk-toggleable {background-color: white;}#sk-container-id-1 label.sk-toggleable__label {cursor: pointer;display: block;width: 100%;margin-bottom: 0;padding: 0.3em;box-sizing: border-box;text-align: center;}#sk-container-id-1 label.sk-toggleable__label-arrow:before {content: \"▸\";float: left;margin-right: 0.25em;color: #696969;}#sk-container-id-1 label.sk-toggleable__label-arrow:hover:before {color: black;}#sk-container-id-1 div.sk-estimator:hover label.sk-toggleable__label-arrow:before {color: black;}#sk-container-id-1 div.sk-toggleable__content {max-height: 0;max-width: 0;overflow: hidden;text-align: left;background-color: #f0f8ff;}#sk-container-id-1 div.sk-toggleable__content pre {margin: 0.2em;color: black;border-radius: 0.25em;background-color: #f0f8ff;}#sk-container-id-1 input.sk-toggleable__control:checked~div.sk-toggleable__content {max-height: 200px;max-width: 100%;overflow: auto;}#sk-container-id-1 input.sk-toggleable__control:checked~label.sk-toggleable__label-arrow:before {content: \"▾\";}#sk-container-id-1 div.sk-estimator input.sk-toggleable__control:checked~label.sk-toggleable__label {background-color: #d4ebff;}#sk-container-id-1 div.sk-label input.sk-toggleable__control:checked~label.sk-toggleable__label {background-color: #d4ebff;}#sk-container-id-1 input.sk-hidden--visually {border: 0;clip: rect(1px 1px 1px 1px);clip: rect(1px, 1px, 1px, 1px);height: 1px;margin: -1px;overflow: hidden;padding: 0;position: absolute;width: 1px;}#sk-container-id-1 div.sk-estimator {font-family: monospace;background-color: #f0f8ff;border: 1px dotted black;border-radius: 0.25em;box-sizing: border-box;margin-bottom: 0.5em;}#sk-container-id-1 div.sk-estimator:hover {background-color: #d4ebff;}#sk-container-id-1 div.sk-parallel-item::after {content: \"\";width: 100%;border-bottom: 1px solid gray;flex-grow: 1;}#sk-container-id-1 div.sk-label:hover label.sk-toggleable__label {background-color: #d4ebff;}#sk-container-id-1 div.sk-serial::before {content: \"\";position: absolute;border-left: 1px solid gray;box-sizing: border-box;top: 0;bottom: 0;left: 50%;z-index: 0;}#sk-container-id-1 div.sk-serial {display: flex;flex-direction: column;align-items: center;background-color: white;padding-right: 0.2em;padding-left: 0.2em;position: relative;}#sk-container-id-1 div.sk-item {position: relative;z-index: 1;}#sk-container-id-1 div.sk-parallel {display: flex;align-items: stretch;justify-content: center;background-color: white;position: relative;}#sk-container-id-1 div.sk-item::before, #sk-container-id-1 div.sk-parallel-item::before {content: \"\";position: absolute;border-left: 1px solid gray;box-sizing: border-box;top: 0;bottom: 0;left: 50%;z-index: -1;}#sk-container-id-1 div.sk-parallel-item {display: flex;flex-direction: column;z-index: 1;position: relative;background-color: white;}#sk-container-id-1 div.sk-parallel-item:first-child::after {align-self: flex-end;width: 50%;}#sk-container-id-1 div.sk-parallel-item:last-child::after {align-self: flex-start;width: 50%;}#sk-container-id-1 div.sk-parallel-item:only-child::after {width: 0;}#sk-container-id-1 div.sk-dashed-wrapped {border: 1px dashed gray;margin: 0 0.4em 0.5em 0.4em;box-sizing: border-box;padding-bottom: 0.4em;background-color: white;}#sk-container-id-1 div.sk-label label {font-family: monospace;font-weight: bold;display: inline-block;line-height: 1.2em;}#sk-container-id-1 div.sk-label-container {text-align: center;}#sk-container-id-1 div.sk-container {/* jupyter's `normalize.less` sets `[hidden] { display: none; }` but bootstrap.min.css set `[hidden] { display: none !important; }` so we also need the `!important` here to be able to override the default hidden behavior on the sphinx rendered scikit-learn.org. See: https://github.com/scikit-learn/scikit-learn/issues/21755 */display: inline-block !important;position: relative;}#sk-container-id-1 div.sk-text-repr-fallback {display: none;}</style><div id=\"sk-container-id-1\" class=\"sk-top-container\"><div class=\"sk-text-repr-fallback\"><pre>LatentDirichletAllocation(n_components=50, random_state=0, verbose=2)</pre><b>In a Jupyter environment, please rerun this cell to show the HTML representation or trust the notebook. <br />On GitHub, the HTML representation is unable to render, please try loading this page with nbviewer.org.</b></div><div class=\"sk-container\" hidden><div class=\"sk-item\"><div class=\"sk-estimator sk-toggleable\"><input class=\"sk-toggleable__control sk-hidden--visually\" id=\"sk-estimator-id-1\" type=\"checkbox\" checked><label for=\"sk-estimator-id-1\" class=\"sk-toggleable__label sk-toggleable__label-arrow\">LatentDirichletAllocation</label><div class=\"sk-toggleable__content\"><pre>LatentDirichletAllocation(n_components=50, random_state=0, verbose=2)</pre></div></div></div></div></div>"
      ],
      "text/plain": [
       "LatentDirichletAllocation(n_components=50, random_state=0, verbose=2)"
      ]
     },
     "execution_count": 13,
     "metadata": {},
     "output_type": "execute_result"
    }
   ],
   "source": [
    "# Make a distinction of the same character name in different movies by adding the movie id to the character name, ex. movie_id_character_name\n",
    "character_docs = defaultdict(list)\n",
    "for movie_id, character, _, word in bags_of_words:\n",
    "    character_docs[str(movie_id)+'_'+str(character)].append(word)\n",
    "\n",
    "for character in character_docs:\n",
    "    character_docs[character] = \" \".join(character_docs[character])\n",
    "\n",
    "vectorizer = CountVectorizer()\n",
    "X = vectorizer.fit_transform(character_docs.values())\n",
    "\n",
    "n_topics = 50\n",
    "lda = LatentDirichletAllocation(n_components=n_topics, verbose=2, max_iter=10, random_state = 0)\n",
    "lda.fit(X)"
   ]
  },
  {
   "cell_type": "code",
   "execution_count": 14,
   "id": "e0f04be8",
   "metadata": {},
   "outputs": [
    {
     "data": {
      "text/plain": [
       "['../generated/annotations_2023/lda_model_update.gz']"
      ]
     },
     "execution_count": 14,
     "metadata": {},
     "output_type": "execute_result"
    }
   ],
   "source": [
    "joblib.dump(lda, os.path.join(DATA_PATH, \"lda_model_update.gz\"), compress=('gzip', 9))"
   ]
  },
  {
   "cell_type": "code",
   "execution_count": 86,
   "id": "311c239e",
   "metadata": {},
   "outputs": [],
   "source": [
    "lda = joblib.load(os.path.join(DATA_PATH, \"lda_model_update.gz\"))"
   ]
  },
  {
   "cell_type": "code",
   "execution_count": 87,
   "id": "3fab108b",
   "metadata": {},
   "outputs": [
    {
     "name": "stdout",
     "output_type": "stream",
     "text": [
      "Topic 0: come know realize discover couple law li st gordon hung\n",
      "Topic 1: decide make return stay continue find colonel sell reunite share\n",
      "Topic 2: call one van travel prince jim billy person helsing raise\n",
      "Topic 3: show confront invite hide face pass recover encourage ride advise\n",
      "Topic 4: accept encounter bob struggle writer pregnant quit howard replace lewis\n",
      "Topic 5: marry joe remain hit escort fred dick promise graduate kid\n",
      "Topic 6: enter de prove stand hand joseph rob interview report bury\n",
      "Topic 7: send run force win defeat receive william reporter figure anderson\n",
      "Topic 8: brother sir michael ben ho louis mdash helen crush classmate\n",
      "Topic 9: attempt put attend accompany aunt spot about date express study\n",
      "Topic 10: learn don george teach fire woo drop bear jean dan\n",
      "Topic 11: miss husband break owner star end pay claim secretary max\n",
      "Topic 12: fall save die boy johnson reject taylor first guard train\n",
      "Topic 13: stab jr sing edward assassinate davis dog own portray pose\n",
      "Topic 14: tell take find leave try give visit admit agree return\n",
      "Topic 15: john professor perform rao consider guy intervene transform count dump\n",
      "Topic 16: have man attack beat commit assistant pull beg discuss clark\n",
      "Topic 17: find mary head sheriff queen lawyer place alex deliver abduct\n",
      "Topic 18: leave young boss child blackmail chris roy cut sign form\n",
      "Topic 19: officer hire general detective david major assign film artist pilot\n",
      "Topic 20: love inspector investigate grow watch wait open blame speak act\n",
      "Topic 21: singh von white driver assist declare madame awaken retire welcome\n",
      "Topic 22: escape help manage arrest find try free release allow able\n",
      "Topic 23: shoot uncle capture president manager lead attorney raj ii bruce\n",
      "Topic 24: convince inform do girlfriend warn feel introduce prepare recognize try\n",
      "Topic 25: give captain sam smith develop johnny commander beautiful happy eat\n",
      "Topic 26: woman jack khan cousin character abandon nurse ali neighbor jimmy\n",
      "Topic 27: be say move richard thomas jones harry ann killer defend\n",
      "Topic 28: believe suffer mike worker ms read home challenge tony adopt\n",
      "Topic 29: mr mark provide nick wile hunt baby doc carson fool\n",
      "Topic 30: wife girl plan befriend member martin wound ex expose minister\n",
      "Topic 31: see ask tell find go refuse leave get give try\n",
      "Topic 32: set murder drive approach grab kiss find tie strike frame\n",
      "Topic 33: want appear notice flee threaten change sergeant rape create disappear\n",
      "Topic 34: mrs director henry write master actor widow walter stephen eric\n",
      "Topic 35: cause let suspect charlie brown lover lt big stumble col\n",
      "Topic 36: daughter start fight think survive insist involve kumar live overhear\n",
      "Topic 37: meet sister seduce injure like black dancer kevin wang criminal\n",
      "Topic 38: peter bill spend succeed betray little recruit charles wish wilson\n",
      "Topic 39: work turn agent lady paul businessman she scott interested hope\n",
      "Topic 40: name lord track jane sarah jason roger lawrence experience organize\n",
      "Topic 41: play mother family order steal dead suggest destroy witness real\n",
      "Topic 42: kill son try find intend jealous blow feed evil interrupt\n",
      "Topic 43: follow old teacher frank lieutenant determine impress forgive point sacrifice\n",
      "Topic 44: dr friend he seek choose grant scientist iii victor la\n",
      "Topic 45: become lose catch james lee partner singer chief steve danny\n",
      "Topic 46: get use begin tom try carry propose knock include actress\n",
      "Topic 47: father rescue kidnap doctor princess who robin donald priest mistake\n",
      "Topic 48: go bring join explain keep find buy realise try state\n",
      "Topic 49: arrive reveal king student boyfriend leader confess ray question need\n"
     ]
    }
   ],
   "source": [
    "def print_top_words(model, feature_names, n_top_words):\n",
    "    for topic_idx, topic in enumerate(model.components_):\n",
    "        message = f\"Topic {topic_idx}: \"\n",
    "        message += \" \".join([feature_names[i] for i in topic.argsort()[:-n_top_words - 1:-1]])\n",
    "        print(message)\n",
    "\n",
    "n_topic_words = 10\n",
    "print_top_words(lda, vectorizer.get_feature_names_out(), n_topic_words)"
   ]
  },
  {
   "cell_type": "code",
   "execution_count": 88,
   "id": "f9199ebe",
   "metadata": {},
   "outputs": [
    {
     "name": "stderr",
     "output_type": "stream",
     "text": [
      "[Parallel(n_jobs=1)]: Using backend SequentialBackend with 1 concurrent workers.\n",
      "[Parallel(n_jobs=1)]: Done   1 out of   1 | elapsed:    9.3s finished\n"
     ]
    },
    {
     "data": {
      "text/html": [
       "<div>\n",
       "<style scoped>\n",
       "    .dataframe tbody tr th:only-of-type {\n",
       "        vertical-align: middle;\n",
       "    }\n",
       "\n",
       "    .dataframe tbody tr th {\n",
       "        vertical-align: top;\n",
       "    }\n",
       "\n",
       "    .dataframe thead th {\n",
       "        text-align: right;\n",
       "    }\n",
       "</style>\n",
       "<table border=\"1\" class=\"dataframe\">\n",
       "  <thead>\n",
       "    <tr style=\"text-align: right;\">\n",
       "      <th></th>\n",
       "      <th>movieid_charactername</th>\n",
       "      <th>topic</th>\n",
       "      <th>topic_dist</th>\n",
       "    </tr>\n",
       "  </thead>\n",
       "  <tbody>\n",
       "    <tr>\n",
       "      <th>0</th>\n",
       "      <td>11784534_Ingrid Bergman</td>\n",
       "      <td>22</td>\n",
       "      <td>[0.00666666666666941, 0.00666666666666941, 0.0...</td>\n",
       "    </tr>\n",
       "    <tr>\n",
       "      <th>1</th>\n",
       "      <td>11784534_George Sanders</td>\n",
       "      <td>10</td>\n",
       "      <td>[0.0066666666666673775, 0.0066666666666673775,...</td>\n",
       "    </tr>\n",
       "    <tr>\n",
       "      <th>2</th>\n",
       "      <td>10131263_Wile E. Coyote</td>\n",
       "      <td>23</td>\n",
       "      <td>[0.004000000000000387, 0.004000000000000387, 0...</td>\n",
       "    </tr>\n",
       "  </tbody>\n",
       "</table>\n",
       "</div>"
      ],
      "text/plain": [
       "     movieid_charactername  topic  \\\n",
       "0  11784534_Ingrid Bergman     22   \n",
       "1  11784534_George Sanders     10   \n",
       "2  10131263_Wile E. Coyote     23   \n",
       "\n",
       "                                          topic_dist  \n",
       "0  [0.00666666666666941, 0.00666666666666941, 0.0...  \n",
       "1  [0.0066666666666673775, 0.0066666666666673775,...  \n",
       "2  [0.004000000000000387, 0.004000000000000387, 0...  "
      ]
     },
     "execution_count": 88,
     "metadata": {},
     "output_type": "execute_result"
    }
   ],
   "source": [
    "character_topic = lda.transform(X)\n",
    "character_names = list(character_docs.keys())\n",
    "\n",
    "character_classification=[]\n",
    "\n",
    "for i, topic_dist in enumerate(character_topic):\n",
    "    topic_most_prob = topic_dist.argmax()\n",
    "    character_classification.append((character_names[i], topic_most_prob, topic_dist))\n",
    "\n",
    "character_classification_df=pd.DataFrame(character_classification,columns=['movieid_charactername', 'topic', 'topic_dist'])\n",
    "character_classification_df.head(3)"
   ]
  },
  {
   "cell_type": "code",
   "execution_count": 89,
   "metadata": {},
   "outputs": [
    {
     "data": {
      "text/html": [
       "<div>\n",
       "<style scoped>\n",
       "    .dataframe tbody tr th:only-of-type {\n",
       "        vertical-align: middle;\n",
       "    }\n",
       "\n",
       "    .dataframe tbody tr th {\n",
       "        vertical-align: top;\n",
       "    }\n",
       "\n",
       "    .dataframe thead th {\n",
       "        text-align: right;\n",
       "    }\n",
       "</style>\n",
       "<table border=\"1\" class=\"dataframe\">\n",
       "  <thead>\n",
       "    <tr style=\"text-align: right;\">\n",
       "      <th></th>\n",
       "      <th>movieid_charactername</th>\n",
       "      <th>topic</th>\n",
       "      <th>topic_dist</th>\n",
       "      <th>movie_id</th>\n",
       "      <th>character_name</th>\n",
       "    </tr>\n",
       "  </thead>\n",
       "  <tbody>\n",
       "    <tr>\n",
       "      <th>0</th>\n",
       "      <td>11784534_Ingrid Bergman</td>\n",
       "      <td>22</td>\n",
       "      <td>[0.00666666666666941, 0.00666666666666941, 0.0...</td>\n",
       "      <td>11784534</td>\n",
       "      <td>Ingrid Bergman</td>\n",
       "    </tr>\n",
       "    <tr>\n",
       "      <th>1</th>\n",
       "      <td>11784534_George Sanders</td>\n",
       "      <td>10</td>\n",
       "      <td>[0.0066666666666673775, 0.0066666666666673775,...</td>\n",
       "      <td>11784534</td>\n",
       "      <td>George Sanders</td>\n",
       "    </tr>\n",
       "    <tr>\n",
       "      <th>2</th>\n",
       "      <td>10131263_Wile E. Coyote</td>\n",
       "      <td>23</td>\n",
       "      <td>[0.004000000000000387, 0.004000000000000387, 0...</td>\n",
       "      <td>10131263</td>\n",
       "      <td>Wile E. Coyote</td>\n",
       "    </tr>\n",
       "  </tbody>\n",
       "</table>\n",
       "</div>"
      ],
      "text/plain": [
       "     movieid_charactername  topic  \\\n",
       "0  11784534_Ingrid Bergman     22   \n",
       "1  11784534_George Sanders     10   \n",
       "2  10131263_Wile E. Coyote     23   \n",
       "\n",
       "                                          topic_dist  movie_id  character_name  \n",
       "0  [0.00666666666666941, 0.00666666666666941, 0.0...  11784534  Ingrid Bergman  \n",
       "1  [0.0066666666666673775, 0.0066666666666673775,...  11784534  George Sanders  \n",
       "2  [0.004000000000000387, 0.004000000000000387, 0...  10131263  Wile E. Coyote  "
      ]
     },
     "execution_count": 89,
     "metadata": {},
     "output_type": "execute_result"
    }
   ],
   "source": [
    "# recustct character classification df\n",
    "character_classification_df['movie_id']=character_classification_df['movieid_charactername'].apply(lambda x: int(x.split('_')[0]))\n",
    "character_classification_df['character_name']=character_classification_df['movieid_charactername'].apply(lambda x: str(x.split('_')[1]))\n",
    "character_classification_df.head(3)\n"
   ]
  },
  {
   "cell_type": "code",
   "execution_count": 90,
   "id": "a97b1b31",
   "metadata": {},
   "outputs": [],
   "source": [
    "character_classification_df.to_parquet(os.path.join(DATA_PATH, \"character_classification_update.parquet\"), compression= \"brotli\")"
   ]
  },
  {
   "cell_type": "code",
   "execution_count": 91,
   "metadata": {},
   "outputs": [
    {
     "data": {
      "image/png": "[encoded data removed]",
      "text/plain": [
       "<Figure size 1600x600 with 1 Axes>"
      ]
     },
     "metadata": {},
     "output_type": "display_data"
    }
   ],
   "source": [
    "# show the global topic distribution for a character (all movies containing this character)\n",
    "character='Batman'\n",
    "\n",
    "# Get the rows for same character name in different movies\n",
    "filtered_rows = character_classification_df.loc[character_classification_df['character_name'] == character, 'topic_dist']\n",
    "# Sum the arrays along axis=0\n",
    "sum_result = np.sum(filtered_rows.values.tolist(), axis=0)\n",
    "# Normalize the sum by dividing by the number of rows\n",
    "character_topics = sum_result / len(filtered_rows)\n",
    "\n",
    "topics = range(len(character_topics))\n",
    "\n",
    "# Creating the plot\n",
    "plt.figure(figsize=(16, 6))\n",
    "plt.bar(topics, character_topics)\n",
    "plt.xlabel('Topic')\n",
    "plt.ylabel('Probability (log scale)')\n",
    "plt.title(f'Global Topic Distribution for {character}')\n",
    "plt.yscale('log')  \n",
    "plt.xticks(topics)\n",
    "plt.show()"
   ]
  },
  {
   "cell_type": "code",
   "execution_count": 51,
   "id": "a9393fb2",
   "metadata": {},
   "outputs": [
    {
     "data": {
      "image/png": "[encoded data removed]",
      "text/plain": [
       "<Figure size 1600x600 with 1 Axes>"
      ]
     },
     "metadata": {},
     "output_type": "display_data"
    }
   ],
   "source": [
    "# show the topic distribution for a character (specific movie contain this character)\n",
    "movie_id='1040965'\n",
    "character='Batman'\n",
    "movie_character=str(movie_id)+'_'+str(character)\n",
    "\n",
    "character_topics = character_classification_df[character_classification_df['movieid_charactername'] == movie_character]['topic_dist'].iloc[0]\n",
    "\n",
    "topics = range(len(character_topics))\n",
    "\n",
    "# Creating the plot\n",
    "plt.figure(figsize=(16, 6))\n",
    "plt.bar(topics, character_topics)\n",
    "plt.xlabel('Topic')\n",
    "plt.ylabel('Probability (log scale)')\n",
    "plt.title(f'Topic Distribution for {character} in movie {movie_id}')\n",
    "plt.yscale('log')  \n",
    "plt.xticks(topics)\n",
    "plt.show()"
   ]
  },
  {
   "cell_type": "code",
   "execution_count": 92,
   "id": "5fc43f52",
   "metadata": {},
   "outputs": [
    {
     "data": {
      "image/png": "[encoded data removed]",
      "text/plain": [
       "<Figure size 1600x600 with 1 Axes>"
      ]
     },
     "metadata": {},
     "output_type": "display_data"
    }
   ],
   "source": [
    "topic_counts = character_classification_df['topic'].value_counts()\n",
    "\n",
    "topic_counts = topic_counts.sort_index()\n",
    "\n",
    "plt.figure(figsize=(16, 6))\n",
    "plt.bar(topic_counts.index, topic_counts.values)\n",
    "\n",
    "plt.xlabel('Topic')\n",
    "plt.ylabel('Number of Characters')\n",
    "plt.title('Distribution of Characters Across Topics')\n",
    "plt.xticks(topic_counts.index)\n",
    "plt.show()"
   ]
  },
  {
   "cell_type": "markdown",
   "metadata": {},
   "source": [
    "## Create a dataframe combine with director, movie and chracter type(topic)"
   ]
  },
  {
   "cell_type": "code",
   "execution_count": 2,
   "metadata": {},
   "outputs": [],
   "source": [
    "cmu_characters = read_dataframe(name='cmu/characters', usecols=[\n",
    "    \"Wikipedia movie ID\",\n",
    "    \"Freebase movie ID\",\n",
    "    \"Movie release date\",\n",
    "    \"Character name\",\n",
    "    \"Actor DOB\",\n",
    "    \"Actor gender\",\n",
    "    \"Actor height\",\n",
    "    \"Actor ethnicity\",\n",
    "    \"Actor name\",\n",
    "    \"Actor age at movie release\",\n",
    "    \"Freebase character/actor map ID\",\n",
    "    \"Freebase character ID\",\n",
    "    \"Freebase actor ID\",\n",
    "])\n",
    "\n",
    "cmu_movies = read_dataframe(name='cmu/movies', usecols=[\n",
    "    \"Wikipedia movie ID\", \n",
    "    \"Freebase movie ID\", \n",
    "    \"Movie name\", \n",
    "    \"Movie release date\", \n",
    "    \"Movie box office revenue\", \n",
    "    \"Movie runtime\", \n",
    "    \"Movie languages\", \n",
    "    \"Movie countries\", \n",
    "    \"Movie genres\",\n",
    "])"
   ]
  },
  {
   "cell_type": "code",
   "execution_count": 3,
   "metadata": {},
   "outputs": [
    {
     "data": {
      "text/html": [
       "<div>\n",
       "<style scoped>\n",
       "    .dataframe tbody tr th:only-of-type {\n",
       "        vertical-align: middle;\n",
       "    }\n",
       "\n",
       "    .dataframe tbody tr th {\n",
       "        vertical-align: top;\n",
       "    }\n",
       "\n",
       "    .dataframe thead th {\n",
       "        text-align: right;\n",
       "    }\n",
       "</style>\n",
       "<table border=\"1\" class=\"dataframe\">\n",
       "  <thead>\n",
       "    <tr style=\"text-align: right;\">\n",
       "      <th></th>\n",
       "      <th>Wikipedia movie ID</th>\n",
       "      <th>Freebase movie ID</th>\n",
       "      <th>Movie name</th>\n",
       "      <th>Character name</th>\n",
       "    </tr>\n",
       "  </thead>\n",
       "  <tbody>\n",
       "    <tr>\n",
       "      <th>0</th>\n",
       "      <td>975900</td>\n",
       "      <td>/m/03vyhn</td>\n",
       "      <td>Ghosts of Mars</td>\n",
       "      <td>Akooshay</td>\n",
       "    </tr>\n",
       "    <tr>\n",
       "      <th>1</th>\n",
       "      <td>975900</td>\n",
       "      <td>/m/03vyhn</td>\n",
       "      <td>Ghosts of Mars</td>\n",
       "      <td>Lieutenant Melanie Ballard</td>\n",
       "    </tr>\n",
       "    <tr>\n",
       "      <th>2</th>\n",
       "      <td>975900</td>\n",
       "      <td>/m/03vyhn</td>\n",
       "      <td>Ghosts of Mars</td>\n",
       "      <td>Desolation Williams</td>\n",
       "    </tr>\n",
       "  </tbody>\n",
       "</table>\n",
       "</div>"
      ],
      "text/plain": [
       "   Wikipedia movie ID Freebase movie ID      Movie name  \\\n",
       "0              975900         /m/03vyhn  Ghosts of Mars   \n",
       "1              975900         /m/03vyhn  Ghosts of Mars   \n",
       "2              975900         /m/03vyhn  Ghosts of Mars   \n",
       "\n",
       "               Character name  \n",
       "0                    Akooshay  \n",
       "1  Lieutenant Melanie Ballard  \n",
       "2         Desolation Williams  "
      ]
     },
     "execution_count": 3,
     "metadata": {},
     "output_type": "execute_result"
    }
   ],
   "source": [
    "# Merge the two dataframes to get a dataframe with the character name and the movie name\n",
    "cmu_characters_movie = pd.merge(cmu_characters, cmu_movies, on=[\"Wikipedia movie ID\", \"Freebase movie ID\"])\n",
    "# Keep only the columns we need: \"Wikipedia movie ID\", \"Freebase movie ID\", \"Movie name\", \"Character name\"\n",
    "cmu_characters_movie = cmu_characters_movie[[\"Wikipedia movie ID\", \"Freebase movie ID\", \"Movie name\", \"Character name\"]]\n",
    "cmu_characters_movie.head(3)"
   ]
  },
  {
   "cell_type": "markdown",
   "metadata": {},
   "source": [
    "## Use imdb_crew"
   ]
  },
  {
   "cell_type": "code",
   "execution_count": 4,
   "metadata": {},
   "outputs": [
    {
     "data": {
      "text/html": [
       "<div>\n",
       "<style scoped>\n",
       "    .dataframe tbody tr th:only-of-type {\n",
       "        vertical-align: middle;\n",
       "    }\n",
       "\n",
       "    .dataframe tbody tr th {\n",
       "        vertical-align: top;\n",
       "    }\n",
       "\n",
       "    .dataframe thead th {\n",
       "        text-align: right;\n",
       "    }\n",
       "</style>\n",
       "<table border=\"1\" class=\"dataframe\">\n",
       "  <thead>\n",
       "    <tr style=\"text-align: right;\">\n",
       "      <th></th>\n",
       "      <th>tconst</th>\n",
       "      <th>directors</th>\n",
       "    </tr>\n",
       "  </thead>\n",
       "  <tbody>\n",
       "    <tr>\n",
       "      <th>0</th>\n",
       "      <td>tt0000001</td>\n",
       "      <td>nm0005690</td>\n",
       "    </tr>\n",
       "    <tr>\n",
       "      <th>1</th>\n",
       "      <td>tt0000002</td>\n",
       "      <td>nm0721526</td>\n",
       "    </tr>\n",
       "    <tr>\n",
       "      <th>2</th>\n",
       "      <td>tt0000003</td>\n",
       "      <td>nm0721526</td>\n",
       "    </tr>\n",
       "  </tbody>\n",
       "</table>\n",
       "</div>"
      ],
      "text/plain": [
       "      tconst  directors\n",
       "0  tt0000001  nm0005690\n",
       "1  tt0000002  nm0721526\n",
       "2  tt0000003  nm0721526"
      ]
     },
     "execution_count": 4,
     "metadata": {},
     "output_type": "execute_result"
    }
   ],
   "source": [
    "imdb_crew = read_dataframe(name='imdb/crew')\n",
    "imdb_crew = imdb_crew[['tconst', 'directors']]\n",
    "imdb_crew = imdb_crew[imdb_crew['directors'].notna()]\n",
    "display(imdb_crew.head(3))\n",
    "print(imdb_crew['directors'].unique())"
   ]
  },
  {
   "cell_type": "code",
   "execution_count": 5,
   "metadata": {},
   "outputs": [
    {
     "data": {
      "text/html": [
       "<div>\n",
       "<style scoped>\n",
       "    .dataframe tbody tr th:only-of-type {\n",
       "        vertical-align: middle;\n",
       "    }\n",
       "\n",
       "    .dataframe tbody tr th {\n",
       "        vertical-align: top;\n",
       "    }\n",
       "\n",
       "    .dataframe thead th {\n",
       "        text-align: right;\n",
       "    }\n",
       "</style>\n",
       "<table border=\"1\" class=\"dataframe\">\n",
       "  <thead>\n",
       "    <tr style=\"text-align: right;\">\n",
       "      <th></th>\n",
       "      <th>tconst</th>\n",
       "      <th>directors</th>\n",
       "      <th>freebase</th>\n",
       "      <th>imdb</th>\n",
       "    </tr>\n",
       "  </thead>\n",
       "  <tbody>\n",
       "    <tr>\n",
       "      <th>0</th>\n",
       "      <td>tt0000001</td>\n",
       "      <td>nm0005690</td>\n",
       "      <td>/m/0kvdsy</td>\n",
       "      <td>tt0000001</td>\n",
       "    </tr>\n",
       "    <tr>\n",
       "      <th>1</th>\n",
       "      <td>tt0000002</td>\n",
       "      <td>nm0721526</td>\n",
       "      <td>/m/02pz844</td>\n",
       "      <td>tt0000002</td>\n",
       "    </tr>\n",
       "    <tr>\n",
       "      <th>2</th>\n",
       "      <td>tt0000003</td>\n",
       "      <td>nm0721526</td>\n",
       "      <td>/m/0g53g2</td>\n",
       "      <td>tt0000003</td>\n",
       "    </tr>\n",
       "  </tbody>\n",
       "</table>\n",
       "</div>"
      ],
      "text/plain": [
       "      tconst  directors    freebase       imdb\n",
       "0  tt0000001  nm0005690   /m/0kvdsy  tt0000001\n",
       "1  tt0000002  nm0721526  /m/02pz844  tt0000002\n",
       "2  tt0000003  nm0721526   /m/0g53g2  tt0000003"
      ]
     },
     "execution_count": 5,
     "metadata": {},
     "output_type": "execute_result"
    }
   ],
   "source": [
    "# TODO: update mapping method using here, seems Sepher is updating now, now the one using is wp2imdb_02 (wrote in 2023/Dec/06)\n",
    "\n",
    "mapping_02 = read_dataframe(name='mapping_freebase_imdb')\n",
    "\n",
    "imdb_crew_exploded=imdb_crew.copy()\n",
    "imdb_crew_exploded['directors'] = imdb_crew_exploded['directors'].str.split(',')\n",
    "imdb_crew_exploded = imdb_crew_exploded.explode(['directors'])\n",
    "\n",
    "\n",
    "merged_ipe = pd.merge(imdb_crew_exploded, mapping_02, how='inner', left_on='tconst', right_on='imdb')\n",
    "merged_ipe.head(3)\n",
    "\n"
   ]
  },
  {
   "cell_type": "code",
   "execution_count": 11,
   "metadata": {},
   "outputs": [
    {
     "name": "stdout",
     "output_type": "stream",
     "text": [
      "767490\n"
     ]
    }
   ],
   "source": [
    "print(len(imdb_crew_exploded['directors'].unique()))"
   ]
  },
  {
   "cell_type": "code",
   "execution_count": 12,
   "metadata": {},
   "outputs": [
    {
     "data": {
      "text/html": [
       "<div>\n",
       "<style scoped>\n",
       "    .dataframe tbody tr th:only-of-type {\n",
       "        vertical-align: middle;\n",
       "    }\n",
       "\n",
       "    .dataframe tbody tr th {\n",
       "        vertical-align: top;\n",
       "    }\n",
       "\n",
       "    .dataframe thead th {\n",
       "        text-align: right;\n",
       "    }\n",
       "</style>\n",
       "<table border=\"1\" class=\"dataframe\">\n",
       "  <thead>\n",
       "    <tr style=\"text-align: right;\">\n",
       "      <th></th>\n",
       "      <th>tconst</th>\n",
       "      <th>directors</th>\n",
       "      <th>freebase</th>\n",
       "      <th>imdb</th>\n",
       "    </tr>\n",
       "  </thead>\n",
       "  <tbody>\n",
       "    <tr>\n",
       "      <th>0</th>\n",
       "      <td>tt0000001</td>\n",
       "      <td>nm0005690</td>\n",
       "      <td>/m/0kvdsy</td>\n",
       "      <td>tt0000001</td>\n",
       "    </tr>\n",
       "    <tr>\n",
       "      <th>1</th>\n",
       "      <td>tt0000002</td>\n",
       "      <td>nm0721526</td>\n",
       "      <td>/m/02pz844</td>\n",
       "      <td>tt0000002</td>\n",
       "    </tr>\n",
       "    <tr>\n",
       "      <th>2</th>\n",
       "      <td>tt0000003</td>\n",
       "      <td>nm0721526</td>\n",
       "      <td>/m/0g53g2</td>\n",
       "      <td>tt0000003</td>\n",
       "    </tr>\n",
       "  </tbody>\n",
       "</table>\n",
       "</div>"
      ],
      "text/plain": [
       "      tconst  directors    freebase       imdb\n",
       "0  tt0000001  nm0005690   /m/0kvdsy  tt0000001\n",
       "1  tt0000002  nm0721526  /m/02pz844  tt0000002\n",
       "2  tt0000003  nm0721526   /m/0g53g2  tt0000003"
      ]
     },
     "metadata": {},
     "output_type": "display_data"
    },
    {
     "name": "stdout",
     "output_type": "stream",
     "text": [
      "83927\n",
      "28536\n"
     ]
    }
   ],
   "source": [
    "matched_imdb_crew = merged_ipe.drop_duplicates(subset=['tconst','directors'], keep='first')\n",
    "\n",
    "display(matched_imdb_crew.head(3))\n",
    "print(len(matched_imdb_crew))\n",
    "print(len(matched_imdb_crew['directors'].unique()))"
   ]
  },
  {
   "cell_type": "code",
   "execution_count": 8,
   "metadata": {},
   "outputs": [
    {
     "data": {
      "text/html": [
       "<div>\n",
       "<style scoped>\n",
       "    .dataframe tbody tr th:only-of-type {\n",
       "        vertical-align: middle;\n",
       "    }\n",
       "\n",
       "    .dataframe tbody tr th {\n",
       "        vertical-align: top;\n",
       "    }\n",
       "\n",
       "    .dataframe thead th {\n",
       "        text-align: right;\n",
       "    }\n",
       "</style>\n",
       "<table border=\"1\" class=\"dataframe\">\n",
       "  <thead>\n",
       "    <tr style=\"text-align: right;\">\n",
       "      <th></th>\n",
       "      <th>Wikipedia movie ID</th>\n",
       "      <th>Freebase movie ID</th>\n",
       "      <th>Movie name</th>\n",
       "      <th>Character name</th>\n",
       "      <th>tconst</th>\n",
       "      <th>directors</th>\n",
       "      <th>freebase</th>\n",
       "      <th>imdb</th>\n",
       "    </tr>\n",
       "  </thead>\n",
       "  <tbody>\n",
       "    <tr>\n",
       "      <th>0</th>\n",
       "      <td>975900</td>\n",
       "      <td>/m/03vyhn</td>\n",
       "      <td>Ghosts of Mars</td>\n",
       "      <td>Akooshay</td>\n",
       "      <td>tt0228333</td>\n",
       "      <td>nm0000118</td>\n",
       "      <td>/m/03vyhn</td>\n",
       "      <td>tt0228333</td>\n",
       "    </tr>\n",
       "    <tr>\n",
       "      <th>1</th>\n",
       "      <td>975900</td>\n",
       "      <td>/m/03vyhn</td>\n",
       "      <td>Ghosts of Mars</td>\n",
       "      <td>Lieutenant Melanie Ballard</td>\n",
       "      <td>tt0228333</td>\n",
       "      <td>nm0000118</td>\n",
       "      <td>/m/03vyhn</td>\n",
       "      <td>tt0228333</td>\n",
       "    </tr>\n",
       "    <tr>\n",
       "      <th>2</th>\n",
       "      <td>975900</td>\n",
       "      <td>/m/03vyhn</td>\n",
       "      <td>Ghosts of Mars</td>\n",
       "      <td>Desolation Williams</td>\n",
       "      <td>tt0228333</td>\n",
       "      <td>nm0000118</td>\n",
       "      <td>/m/03vyhn</td>\n",
       "      <td>tt0228333</td>\n",
       "    </tr>\n",
       "  </tbody>\n",
       "</table>\n",
       "</div>"
      ],
      "text/plain": [
       "   Wikipedia movie ID Freebase movie ID      Movie name  \\\n",
       "0              975900         /m/03vyhn  Ghosts of Mars   \n",
       "1              975900         /m/03vyhn  Ghosts of Mars   \n",
       "2              975900         /m/03vyhn  Ghosts of Mars   \n",
       "\n",
       "               Character name     tconst  directors   freebase       imdb  \n",
       "0                    Akooshay  tt0228333  nm0000118  /m/03vyhn  tt0228333  \n",
       "1  Lieutenant Melanie Ballard  tt0228333  nm0000118  /m/03vyhn  tt0228333  \n",
       "2         Desolation Williams  tt0228333  nm0000118  /m/03vyhn  tt0228333  "
      ]
     },
     "metadata": {},
     "output_type": "display_data"
    },
    {
     "name": "stdout",
     "output_type": "stream",
     "text": [
      "22440\n"
     ]
    }
   ],
   "source": [
    "# Merge cmu_characters_movie and matched_imdb_crew on freebase movie id(left) and freebase(right)\n",
    "cmu_characters_movie_imdb = pd.merge(cmu_characters_movie, matched_imdb_crew, how='inner', left_on=['Freebase movie ID'], right_on=['freebase'])\n",
    "display(cmu_characters_movie_imdb.head(3))\n",
    "print(len(cmu_characters_movie_imdb['directors'].unique()))\n"
   ]
  },
  {
   "cell_type": "code",
   "execution_count": 51,
   "metadata": {},
   "outputs": [
    {
     "data": {
      "text/html": [
       "<div>\n",
       "<style scoped>\n",
       "    .dataframe tbody tr th:only-of-type {\n",
       "        vertical-align: middle;\n",
       "    }\n",
       "\n",
       "    .dataframe tbody tr th {\n",
       "        vertical-align: top;\n",
       "    }\n",
       "\n",
       "    .dataframe thead th {\n",
       "        text-align: right;\n",
       "    }\n",
       "</style>\n",
       "<table border=\"1\" class=\"dataframe\">\n",
       "  <thead>\n",
       "    <tr style=\"text-align: right;\">\n",
       "      <th></th>\n",
       "      <th>movieid_charactername</th>\n",
       "      <th>topic</th>\n",
       "      <th>topic_dist</th>\n",
       "      <th>movie_id</th>\n",
       "      <th>character_name</th>\n",
       "    </tr>\n",
       "  </thead>\n",
       "  <tbody>\n",
       "    <tr>\n",
       "      <th>0</th>\n",
       "      <td>11784534_Ingrid Bergman</td>\n",
       "      <td>22</td>\n",
       "      <td>[0.00666666666666941, 0.00666666666666941, 0.0...</td>\n",
       "      <td>11784534</td>\n",
       "      <td>Ingrid Bergman</td>\n",
       "    </tr>\n",
       "    <tr>\n",
       "      <th>1</th>\n",
       "      <td>11784534_George Sanders</td>\n",
       "      <td>10</td>\n",
       "      <td>[0.0066666666666673775, 0.0066666666666673775,...</td>\n",
       "      <td>11784534</td>\n",
       "      <td>George Sanders</td>\n",
       "    </tr>\n",
       "    <tr>\n",
       "      <th>2</th>\n",
       "      <td>10131263_Wile E. Coyote</td>\n",
       "      <td>23</td>\n",
       "      <td>[0.004000000000000387, 0.004000000000000387, 0...</td>\n",
       "      <td>10131263</td>\n",
       "      <td>Wile E. Coyote</td>\n",
       "    </tr>\n",
       "  </tbody>\n",
       "</table>\n",
       "</div>"
      ],
      "text/plain": [
       "     movieid_charactername  topic  \\\n",
       "0  11784534_Ingrid Bergman     22   \n",
       "1  11784534_George Sanders     10   \n",
       "2  10131263_Wile E. Coyote     23   \n",
       "\n",
       "                                          topic_dist  movie_id  character_name  \n",
       "0  [0.00666666666666941, 0.00666666666666941, 0.0...  11784534  Ingrid Bergman  \n",
       "1  [0.0066666666666673775, 0.0066666666666673775,...  11784534  George Sanders  \n",
       "2  [0.004000000000000387, 0.004000000000000387, 0...  10131263  Wile E. Coyote  "
      ]
     },
     "execution_count": 51,
     "metadata": {},
     "output_type": "execute_result"
    }
   ],
   "source": [
    "character_classification_df=pd.read_parquet('../generated/annotations_2023/character_classification_update.parquet', engine='pyarrow')\n",
    "character_classification_df.head(3)"
   ]
  },
  {
   "cell_type": "code",
   "execution_count": 52,
   "metadata": {},
   "outputs": [
    {
     "data": {
      "text/html": [
       "<div>\n",
       "<style scoped>\n",
       "    .dataframe tbody tr th:only-of-type {\n",
       "        vertical-align: middle;\n",
       "    }\n",
       "\n",
       "    .dataframe tbody tr th {\n",
       "        vertical-align: top;\n",
       "    }\n",
       "\n",
       "    .dataframe thead th {\n",
       "        text-align: right;\n",
       "    }\n",
       "</style>\n",
       "<table border=\"1\" class=\"dataframe\">\n",
       "  <thead>\n",
       "    <tr style=\"text-align: right;\">\n",
       "      <th></th>\n",
       "      <th>Wikipedia movie ID</th>\n",
       "      <th>Freebase movie ID</th>\n",
       "      <th>Movie name</th>\n",
       "      <th>Character name</th>\n",
       "      <th>tconst</th>\n",
       "      <th>directors</th>\n",
       "      <th>freebase</th>\n",
       "      <th>imdb</th>\n",
       "      <th>movieid_charactername</th>\n",
       "      <th>topic</th>\n",
       "      <th>topic_dist</th>\n",
       "      <th>movie_id</th>\n",
       "      <th>character_name</th>\n",
       "    </tr>\n",
       "  </thead>\n",
       "  <tbody>\n",
       "    <tr>\n",
       "      <th>0</th>\n",
       "      <td>2238856</td>\n",
       "      <td>/m/06yc6v</td>\n",
       "      <td>Me and You and Everyone We Know</td>\n",
       "      <td>Andrew</td>\n",
       "      <td>tt0415978</td>\n",
       "      <td>nm0432380</td>\n",
       "      <td>/m/06yc6v</td>\n",
       "      <td>tt0415978</td>\n",
       "      <td>2238856_Andrew</td>\n",
       "      <td>26</td>\n",
       "      <td>[0.01000000000000015, 0.01000000000000015, 0.0...</td>\n",
       "      <td>2238856</td>\n",
       "      <td>Andrew</td>\n",
       "    </tr>\n",
       "    <tr>\n",
       "      <th>1</th>\n",
       "      <td>2238856</td>\n",
       "      <td>/m/06yc6v</td>\n",
       "      <td>Me and You and Everyone We Know</td>\n",
       "      <td>Heather</td>\n",
       "      <td>tt0415978</td>\n",
       "      <td>nm0432380</td>\n",
       "      <td>/m/06yc6v</td>\n",
       "      <td>tt0415978</td>\n",
       "      <td>2238856_Heather</td>\n",
       "      <td>31</td>\n",
       "      <td>[0.245870487647632, 0.005000000000000419, 0.00...</td>\n",
       "      <td>2238856</td>\n",
       "      <td>Heather</td>\n",
       "    </tr>\n",
       "    <tr>\n",
       "      <th>2</th>\n",
       "      <td>2238856</td>\n",
       "      <td>/m/06yc6v</td>\n",
       "      <td>Me and You and Everyone We Know</td>\n",
       "      <td>Pam</td>\n",
       "      <td>tt0415978</td>\n",
       "      <td>nm0432380</td>\n",
       "      <td>/m/06yc6v</td>\n",
       "      <td>tt0415978</td>\n",
       "      <td>2238856_Pam</td>\n",
       "      <td>30</td>\n",
       "      <td>[0.010000000000000016, 0.010000000000000016, 0...</td>\n",
       "      <td>2238856</td>\n",
       "      <td>Pam</td>\n",
       "    </tr>\n",
       "  </tbody>\n",
       "</table>\n",
       "</div>"
      ],
      "text/plain": [
       "   Wikipedia movie ID Freebase movie ID                       Movie name  \\\n",
       "0             2238856         /m/06yc6v  Me and You and Everyone We Know   \n",
       "1             2238856         /m/06yc6v  Me and You and Everyone We Know   \n",
       "2             2238856         /m/06yc6v  Me and You and Everyone We Know   \n",
       "\n",
       "  Character name     tconst  directors   freebase       imdb  \\\n",
       "0         Andrew  tt0415978  nm0432380  /m/06yc6v  tt0415978   \n",
       "1        Heather  tt0415978  nm0432380  /m/06yc6v  tt0415978   \n",
       "2            Pam  tt0415978  nm0432380  /m/06yc6v  tt0415978   \n",
       "\n",
       "  movieid_charactername  topic  \\\n",
       "0        2238856_Andrew     26   \n",
       "1       2238856_Heather     31   \n",
       "2           2238856_Pam     30   \n",
       "\n",
       "                                          topic_dist  movie_id character_name  \n",
       "0  [0.01000000000000015, 0.01000000000000015, 0.0...   2238856         Andrew  \n",
       "1  [0.245870487647632, 0.005000000000000419, 0.00...   2238856        Heather  \n",
       "2  [0.010000000000000016, 0.010000000000000016, 0...   2238856            Pam  "
      ]
     },
     "execution_count": 52,
     "metadata": {},
     "output_type": "execute_result"
    }
   ],
   "source": [
    "character_movie_directors = pd.merge(cmu_characters_movie_imdb, character_classification_df, how='inner', left_on=['Wikipedia movie ID','Character name'], right_on=['movie_id','character_name'])\n",
    "character_movie_directors.head(3)"
   ]
  },
  {
   "cell_type": "code",
   "execution_count": 53,
   "metadata": {},
   "outputs": [
    {
     "data": {
      "text/html": [
       "<div>\n",
       "<style scoped>\n",
       "    .dataframe tbody tr th:only-of-type {\n",
       "        vertical-align: middle;\n",
       "    }\n",
       "\n",
       "    .dataframe tbody tr th {\n",
       "        vertical-align: top;\n",
       "    }\n",
       "\n",
       "    .dataframe thead th {\n",
       "        text-align: right;\n",
       "    }\n",
       "</style>\n",
       "<table border=\"1\" class=\"dataframe\">\n",
       "  <thead>\n",
       "    <tr style=\"text-align: right;\">\n",
       "      <th></th>\n",
       "      <th>Wikipedia movie ID</th>\n",
       "      <th>Freebase movie ID</th>\n",
       "      <th>Movie name</th>\n",
       "      <th>Character name</th>\n",
       "      <th>tconst</th>\n",
       "      <th>directors</th>\n",
       "      <th>freebase</th>\n",
       "      <th>imdb</th>\n",
       "      <th>movieid_charactername</th>\n",
       "      <th>topic</th>\n",
       "      <th>topic_dist</th>\n",
       "    </tr>\n",
       "  </thead>\n",
       "  <tbody>\n",
       "    <tr>\n",
       "      <th>0</th>\n",
       "      <td>2238856</td>\n",
       "      <td>/m/06yc6v</td>\n",
       "      <td>Me and You and Everyone We Know</td>\n",
       "      <td>Andrew</td>\n",
       "      <td>tt0415978</td>\n",
       "      <td>nm0432380</td>\n",
       "      <td>/m/06yc6v</td>\n",
       "      <td>tt0415978</td>\n",
       "      <td>2238856_Andrew</td>\n",
       "      <td>26</td>\n",
       "      <td>[0.01000000000000015, 0.01000000000000015, 0.0...</td>\n",
       "    </tr>\n",
       "    <tr>\n",
       "      <th>1</th>\n",
       "      <td>2238856</td>\n",
       "      <td>/m/06yc6v</td>\n",
       "      <td>Me and You and Everyone We Know</td>\n",
       "      <td>Heather</td>\n",
       "      <td>tt0415978</td>\n",
       "      <td>nm0432380</td>\n",
       "      <td>/m/06yc6v</td>\n",
       "      <td>tt0415978</td>\n",
       "      <td>2238856_Heather</td>\n",
       "      <td>31</td>\n",
       "      <td>[0.245870487647632, 0.005000000000000419, 0.00...</td>\n",
       "    </tr>\n",
       "    <tr>\n",
       "      <th>2</th>\n",
       "      <td>2238856</td>\n",
       "      <td>/m/06yc6v</td>\n",
       "      <td>Me and You and Everyone We Know</td>\n",
       "      <td>Pam</td>\n",
       "      <td>tt0415978</td>\n",
       "      <td>nm0432380</td>\n",
       "      <td>/m/06yc6v</td>\n",
       "      <td>tt0415978</td>\n",
       "      <td>2238856_Pam</td>\n",
       "      <td>30</td>\n",
       "      <td>[0.010000000000000016, 0.010000000000000016, 0...</td>\n",
       "    </tr>\n",
       "  </tbody>\n",
       "</table>\n",
       "</div>"
      ],
      "text/plain": [
       "   Wikipedia movie ID Freebase movie ID                       Movie name  \\\n",
       "0             2238856         /m/06yc6v  Me and You and Everyone We Know   \n",
       "1             2238856         /m/06yc6v  Me and You and Everyone We Know   \n",
       "2             2238856         /m/06yc6v  Me and You and Everyone We Know   \n",
       "\n",
       "  Character name     tconst  directors   freebase       imdb  \\\n",
       "0         Andrew  tt0415978  nm0432380  /m/06yc6v  tt0415978   \n",
       "1        Heather  tt0415978  nm0432380  /m/06yc6v  tt0415978   \n",
       "2            Pam  tt0415978  nm0432380  /m/06yc6v  tt0415978   \n",
       "\n",
       "  movieid_charactername  topic  \\\n",
       "0        2238856_Andrew     26   \n",
       "1       2238856_Heather     31   \n",
       "2           2238856_Pam     30   \n",
       "\n",
       "                                          topic_dist  \n",
       "0  [0.01000000000000015, 0.01000000000000015, 0.0...  \n",
       "1  [0.245870487647632, 0.005000000000000419, 0.00...  \n",
       "2  [0.010000000000000016, 0.010000000000000016, 0...  "
      ]
     },
     "execution_count": 53,
     "metadata": {},
     "output_type": "execute_result"
    }
   ],
   "source": [
    "# Get rid of the columns we don't need: movie_id, character_name\n",
    "character_movie_directors = character_movie_directors.drop(columns=['movie_id', 'character_name'])\n",
    "character_movie_directors.head(3)"
   ]
  },
  {
   "cell_type": "code",
   "execution_count": 54,
   "metadata": {},
   "outputs": [],
   "source": [
    "character_movie_directors.to_parquet(os.path.join(DATA_PATH, \"character_movie_directors.parquet\"), compression= \"brotli\")"
   ]
  },
  {
   "cell_type": "code",
   "execution_count": 7,
   "metadata": {},
   "outputs": [
    {
     "name": "stdout",
     "output_type": "stream",
     "text": [
      "There are 6941 unique directors who has the chracter type information\n"
     ]
    }
   ],
   "source": [
    "character_movie_directors=pd.read_parquet(os.path.join(DATA_PATH, \"character_movie_directors.parquet\"), engine='pyarrow')\n",
    "# An example to group by the directors\n",
    "character_movie_directors_group = character_movie_directors.groupby('directors').agg({'Wikipedia movie ID': lambda x: list(x), 'Freebase movie ID': lambda x: list(x), 'Movie name': lambda x: list(x), 'Character name': lambda x: list(x), 'topic': lambda x: list(x), 'tconst': lambda x: list(x)})\n",
    "# character_movie_directors_group.head(3)\n",
    "print('There are {} unique directors who has the chracter type information'.format(character_movie_directors_group.shape[0]))"
   ]
  },
  {
   "cell_type": "markdown",
   "metadata": {},
   "source": [
    "## Use imdb principle"
   ]
  },
  {
   "cell_type": "code",
   "execution_count": null,
   "metadata": {},
   "outputs": [],
   "source": [
    "imdb_people = read_dataframe(name='imdb/names')\n",
    "imdb_principals = read_dataframe(name='imdb/principals')"
   ]
  },
  {
   "cell_type": "code",
   "execution_count": null,
   "metadata": {},
   "outputs": [],
   "source": [
    "mapping_02 = read_dataframe(name='mapping_freebase_imdb')\n",
    "imdb_people_exploded = imdb_people.copy()\n",
    "imdb_people_exploded['knownForTitles'] = imdb_people['knownForTitles'].str.split(',')\n",
    "imdb_people_exploded = imdb_people_exploded.explode(['knownForTitles'])\n",
    "\n",
    "\n",
    "merged_ipe = pd.merge(imdb_people_exploded, mapping_02, how='inner', left_on='knownForTitles', right_on='imdb')\n",
    "unique_matched_persons = merged_ipe.drop_duplicates(subset='nconst', keep='first')\n",
    "\n",
    "matched_imdb_people = pd.merge(imdb_people, unique_matched_persons[['nconst']], on='nconst', how='inner')\n",
    "len(matched_imdb_people)"
   ]
  },
  {
   "cell_type": "code",
   "execution_count": 6,
   "metadata": {},
   "outputs": [
    {
     "name": "stdout",
     "output_type": "stream",
     "text": [
      "peak memory: 12953.04 MiB, increment: 0.69 MiB\n",
      "peak memory: 10008.68 MiB, increment: 0.00 MiB\n"
     ]
    }
   ],
   "source": [
    "# !pip install memory_profiler\n",
    "# install and load memory_profiler to use %memit, use %whos to see what's in memory\n",
    "%reload_ext memory_profiler\n",
    "%memit\n",
    "import gc\n",
    "\n",
    "del imdb_people\n",
    "del imdb_principals\n",
    "del imdb_people_exploded\n",
    "del imdb_crew\n",
    "del imdb_crew_exploded\n",
    "# del imdb_crew\n",
    "# del bags_df\n",
    "# del lda\n",
    "\n",
    "\n",
    "gc.collect()\n",
    "%memit"
   ]
  },
  {
   "cell_type": "code",
   "execution_count": 5,
   "metadata": {},
   "outputs": [
    {
     "data": {
      "text/html": [
       "<div>\n",
       "<style scoped>\n",
       "    .dataframe tbody tr th:only-of-type {\n",
       "        vertical-align: middle;\n",
       "    }\n",
       "\n",
       "    .dataframe tbody tr th {\n",
       "        vertical-align: top;\n",
       "    }\n",
       "\n",
       "    .dataframe thead th {\n",
       "        text-align: right;\n",
       "    }\n",
       "</style>\n",
       "<table border=\"1\" class=\"dataframe\">\n",
       "  <thead>\n",
       "    <tr style=\"text-align: right;\">\n",
       "      <th></th>\n",
       "      <th>tconst</th>\n",
       "      <th>ordering</th>\n",
       "      <th>nconst</th>\n",
       "      <th>category</th>\n",
       "      <th>job</th>\n",
       "      <th>characters</th>\n",
       "      <th>imdb</th>\n",
       "    </tr>\n",
       "  </thead>\n",
       "  <tbody>\n",
       "    <tr>\n",
       "      <th>0</th>\n",
       "      <td>tt0000001</td>\n",
       "      <td>1</td>\n",
       "      <td>nm1588970</td>\n",
       "      <td>self</td>\n",
       "      <td>&lt;NA&gt;</td>\n",
       "      <td>[\"Self\"]</td>\n",
       "      <td>tt0000001</td>\n",
       "    </tr>\n",
       "    <tr>\n",
       "      <th>1</th>\n",
       "      <td>tt0000001</td>\n",
       "      <td>3</td>\n",
       "      <td>nm0374658</td>\n",
       "      <td>cinematographer</td>\n",
       "      <td>director of photography</td>\n",
       "      <td>&lt;NA&gt;</td>\n",
       "      <td>tt0000001</td>\n",
       "    </tr>\n",
       "    <tr>\n",
       "      <th>2</th>\n",
       "      <td>tt0000007</td>\n",
       "      <td>4</td>\n",
       "      <td>nm0374658</td>\n",
       "      <td>director</td>\n",
       "      <td>&lt;NA&gt;</td>\n",
       "      <td>&lt;NA&gt;</td>\n",
       "      <td>tt0000007</td>\n",
       "    </tr>\n",
       "    <tr>\n",
       "      <th>3</th>\n",
       "      <td>tt0000007</td>\n",
       "      <td>5</td>\n",
       "      <td>nm0249379</td>\n",
       "      <td>producer</td>\n",
       "      <td>producer</td>\n",
       "      <td>&lt;NA&gt;</td>\n",
       "      <td>tt0000007</td>\n",
       "    </tr>\n",
       "    <tr>\n",
       "      <th>4</th>\n",
       "      <td>tt0000007</td>\n",
       "      <td>1</td>\n",
       "      <td>nm0179163</td>\n",
       "      <td>actor</td>\n",
       "      <td>&lt;NA&gt;</td>\n",
       "      <td>&lt;NA&gt;</td>\n",
       "      <td>tt0000007</td>\n",
       "    </tr>\n",
       "    <tr>\n",
       "      <th>...</th>\n",
       "      <td>...</td>\n",
       "      <td>...</td>\n",
       "      <td>...</td>\n",
       "      <td>...</td>\n",
       "      <td>...</td>\n",
       "      <td>...</td>\n",
       "      <td>...</td>\n",
       "    </tr>\n",
       "    <tr>\n",
       "      <th>618720</th>\n",
       "      <td>tt7078616</td>\n",
       "      <td>8</td>\n",
       "      <td>nm9098080</td>\n",
       "      <td>production_designer</td>\n",
       "      <td>&lt;NA&gt;</td>\n",
       "      <td>&lt;NA&gt;</td>\n",
       "      <td>tt7078616</td>\n",
       "    </tr>\n",
       "    <tr>\n",
       "      <th>618721</th>\n",
       "      <td>tt8355792</td>\n",
       "      <td>1</td>\n",
       "      <td>nm5533542</td>\n",
       "      <td>director</td>\n",
       "      <td>&lt;NA&gt;</td>\n",
       "      <td>&lt;NA&gt;</td>\n",
       "      <td>tt8355792</td>\n",
       "    </tr>\n",
       "    <tr>\n",
       "      <th>618722</th>\n",
       "      <td>tt8355792</td>\n",
       "      <td>2</td>\n",
       "      <td>nm9808822</td>\n",
       "      <td>director</td>\n",
       "      <td>&lt;NA&gt;</td>\n",
       "      <td>&lt;NA&gt;</td>\n",
       "      <td>tt8355792</td>\n",
       "    </tr>\n",
       "    <tr>\n",
       "      <th>618723</th>\n",
       "      <td>tt9455528</td>\n",
       "      <td>10</td>\n",
       "      <td>nm10334425</td>\n",
       "      <td>actor</td>\n",
       "      <td>&lt;NA&gt;</td>\n",
       "      <td>&lt;NA&gt;</td>\n",
       "      <td>tt9455528</td>\n",
       "    </tr>\n",
       "    <tr>\n",
       "      <th>618724</th>\n",
       "      <td>tt9455528</td>\n",
       "      <td>9</td>\n",
       "      <td>nm10334424</td>\n",
       "      <td>actor</td>\n",
       "      <td>&lt;NA&gt;</td>\n",
       "      <td>&lt;NA&gt;</td>\n",
       "      <td>tt9455528</td>\n",
       "    </tr>\n",
       "  </tbody>\n",
       "</table>\n",
       "<p>618725 rows × 7 columns</p>\n",
       "</div>"
      ],
      "text/plain": [
       "           tconst  ordering      nconst             category  \\\n",
       "0       tt0000001         1   nm1588970                 self   \n",
       "1       tt0000001         3   nm0374658      cinematographer   \n",
       "2       tt0000007         4   nm0374658             director   \n",
       "3       tt0000007         5   nm0249379             producer   \n",
       "4       tt0000007         1   nm0179163                actor   \n",
       "...           ...       ...         ...                  ...   \n",
       "618720  tt7078616         8   nm9098080  production_designer   \n",
       "618721  tt8355792         1   nm5533542             director   \n",
       "618722  tt8355792         2   nm9808822             director   \n",
       "618723  tt9455528        10  nm10334425                actor   \n",
       "618724  tt9455528         9  nm10334424                actor   \n",
       "\n",
       "                            job characters       imdb  \n",
       "0                          <NA>   [\"Self\"]  tt0000001  \n",
       "1       director of photography       <NA>  tt0000001  \n",
       "2                          <NA>       <NA>  tt0000007  \n",
       "3                      producer       <NA>  tt0000007  \n",
       "4                          <NA>       <NA>  tt0000007  \n",
       "...                         ...        ...        ...  \n",
       "618720                     <NA>       <NA>  tt7078616  \n",
       "618721                     <NA>       <NA>  tt8355792  \n",
       "618722                     <NA>       <NA>  tt8355792  \n",
       "618723                     <NA>       <NA>  tt9455528  \n",
       "618724                     <NA>       <NA>  tt9455528  \n",
       "\n",
       "[618725 rows x 7 columns]"
      ]
     },
     "metadata": {},
     "output_type": "display_data"
    },
    {
     "name": "stdout",
     "output_type": "stream",
     "text": [
      "191563\n",
      "73646\n"
     ]
    }
   ],
   "source": [
    "tmp_principal_people = pd.merge(imdb_principals, matched_imdb_people[['nconst']], on='nconst', how='inner')\n",
    "matched_principal_people = pd.merge(tmp_principal_people,mapping_02[['imdb']],left_on='tconst',right_on='imdb',how='inner')\n",
    "display(matched_principal_people)\n",
    "print(matched_principal_people['nconst'].nunique())\n",
    "print(matched_principal_people['tconst'].nunique())"
   ]
  },
  {
   "cell_type": "code",
   "execution_count": 13,
   "metadata": {},
   "outputs": [
    {
     "data": {
      "text/html": [
       "<div>\n",
       "<style scoped>\n",
       "    .dataframe tbody tr th:only-of-type {\n",
       "        vertical-align: middle;\n",
       "    }\n",
       "\n",
       "    .dataframe tbody tr th {\n",
       "        vertical-align: top;\n",
       "    }\n",
       "\n",
       "    .dataframe thead th {\n",
       "        text-align: right;\n",
       "    }\n",
       "</style>\n",
       "<table border=\"1\" class=\"dataframe\">\n",
       "  <thead>\n",
       "    <tr style=\"text-align: right;\">\n",
       "      <th></th>\n",
       "      <th>tconst</th>\n",
       "      <th>ordering</th>\n",
       "      <th>nconst</th>\n",
       "      <th>category</th>\n",
       "      <th>job</th>\n",
       "      <th>characters</th>\n",
       "      <th>imdb</th>\n",
       "    </tr>\n",
       "  </thead>\n",
       "  <tbody>\n",
       "    <tr>\n",
       "      <th>2</th>\n",
       "      <td>tt0000007</td>\n",
       "      <td>4</td>\n",
       "      <td>nm0374658</td>\n",
       "      <td>director</td>\n",
       "      <td>&lt;NA&gt;</td>\n",
       "      <td>&lt;NA&gt;</td>\n",
       "      <td>tt0000007</td>\n",
       "    </tr>\n",
       "    <tr>\n",
       "      <th>8</th>\n",
       "      <td>tt0000038</td>\n",
       "      <td>4</td>\n",
       "      <td>nm0374658</td>\n",
       "      <td>director</td>\n",
       "      <td>&lt;NA&gt;</td>\n",
       "      <td>&lt;NA&gt;</td>\n",
       "      <td>tt0000038</td>\n",
       "    </tr>\n",
       "    <tr>\n",
       "      <th>15</th>\n",
       "      <td>tt0139738</td>\n",
       "      <td>3</td>\n",
       "      <td>nm0374658</td>\n",
       "      <td>director</td>\n",
       "      <td>&lt;NA&gt;</td>\n",
       "      <td>&lt;NA&gt;</td>\n",
       "      <td>tt0139738</td>\n",
       "    </tr>\n",
       "  </tbody>\n",
       "</table>\n",
       "</div>"
      ],
      "text/plain": [
       "       tconst  ordering     nconst  category   job characters       imdb\n",
       "2   tt0000007         4  nm0374658  director  <NA>       <NA>  tt0000007\n",
       "8   tt0000038         4  nm0374658  director  <NA>       <NA>  tt0000038\n",
       "15  tt0139738         3  nm0374658  director  <NA>       <NA>  tt0139738"
      ]
     },
     "execution_count": 13,
     "metadata": {},
     "output_type": "execute_result"
    }
   ],
   "source": [
    "directors_df = matched_principal_people[matched_principal_people['category'] == 'director']\n",
    "directors_df.head(3)"
   ]
  },
  {
   "cell_type": "code",
   "execution_count": 19,
   "metadata": {},
   "outputs": [
    {
     "data": {
      "text/html": [
       "<div>\n",
       "<style scoped>\n",
       "    .dataframe tbody tr th:only-of-type {\n",
       "        vertical-align: middle;\n",
       "    }\n",
       "\n",
       "    .dataframe tbody tr th {\n",
       "        vertical-align: top;\n",
       "    }\n",
       "\n",
       "    .dataframe thead th {\n",
       "        text-align: right;\n",
       "    }\n",
       "</style>\n",
       "<table border=\"1\" class=\"dataframe\">\n",
       "  <thead>\n",
       "    <tr style=\"text-align: right;\">\n",
       "      <th></th>\n",
       "      <th>tconst</th>\n",
       "      <th>nconst</th>\n",
       "      <th>imdb</th>\n",
       "      <th>category</th>\n",
       "    </tr>\n",
       "  </thead>\n",
       "  <tbody>\n",
       "    <tr>\n",
       "      <th>2</th>\n",
       "      <td>tt0000007</td>\n",
       "      <td>nm0374658</td>\n",
       "      <td>tt0000007</td>\n",
       "      <td>director</td>\n",
       "    </tr>\n",
       "    <tr>\n",
       "      <th>8</th>\n",
       "      <td>tt0000038</td>\n",
       "      <td>nm0374658</td>\n",
       "      <td>tt0000038</td>\n",
       "      <td>director</td>\n",
       "    </tr>\n",
       "    <tr>\n",
       "      <th>15</th>\n",
       "      <td>tt0139738</td>\n",
       "      <td>nm0374658</td>\n",
       "      <td>tt0139738</td>\n",
       "      <td>director</td>\n",
       "    </tr>\n",
       "  </tbody>\n",
       "</table>\n",
       "</div>"
      ],
      "text/plain": [
       "       tconst     nconst       imdb  category\n",
       "2   tt0000007  nm0374658  tt0000007  director\n",
       "8   tt0000038  nm0374658  tt0000038  director\n",
       "15  tt0139738  nm0374658  tt0139738  director"
      ]
     },
     "execution_count": 19,
     "metadata": {},
     "output_type": "execute_result"
    }
   ],
   "source": [
    "directors_df=directors_df[['tconst','nconst','imdb','category']]\n",
    "directors_df.head(3)"
   ]
  },
  {
   "cell_type": "code",
   "execution_count": 30,
   "metadata": {},
   "outputs": [
    {
     "data": {
      "text/html": [
       "<div>\n",
       "<style scoped>\n",
       "    .dataframe tbody tr th:only-of-type {\n",
       "        vertical-align: middle;\n",
       "    }\n",
       "\n",
       "    .dataframe tbody tr th {\n",
       "        vertical-align: top;\n",
       "    }\n",
       "\n",
       "    .dataframe thead th {\n",
       "        text-align: right;\n",
       "    }\n",
       "</style>\n",
       "<table border=\"1\" class=\"dataframe\">\n",
       "  <thead>\n",
       "    <tr style=\"text-align: right;\">\n",
       "      <th></th>\n",
       "      <th>tconst</th>\n",
       "      <th>director</th>\n",
       "      <th>imdb</th>\n",
       "      <th>category</th>\n",
       "      <th>freebase</th>\n",
       "    </tr>\n",
       "  </thead>\n",
       "  <tbody>\n",
       "    <tr>\n",
       "      <th>0</th>\n",
       "      <td>tt0000007</td>\n",
       "      <td>nm0374658</td>\n",
       "      <td>tt0000007</td>\n",
       "      <td>director</td>\n",
       "      <td>/m/02q1zd3</td>\n",
       "    </tr>\n",
       "    <tr>\n",
       "      <th>1</th>\n",
       "      <td>tt0000038</td>\n",
       "      <td>nm0374658</td>\n",
       "      <td>tt0000038</td>\n",
       "      <td>director</td>\n",
       "      <td>/m/02rd7zz</td>\n",
       "    </tr>\n",
       "    <tr>\n",
       "      <th>2</th>\n",
       "      <td>tt0139738</td>\n",
       "      <td>nm0374658</td>\n",
       "      <td>tt0139738</td>\n",
       "      <td>director</td>\n",
       "      <td>/m/028bhr</td>\n",
       "    </tr>\n",
       "  </tbody>\n",
       "</table>\n",
       "</div>"
      ],
      "text/plain": [
       "      tconst   director       imdb  category    freebase\n",
       "0  tt0000007  nm0374658  tt0000007  director  /m/02q1zd3\n",
       "1  tt0000038  nm0374658  tt0000038  director  /m/02rd7zz\n",
       "2  tt0139738  nm0374658  tt0139738  director   /m/028bhr"
      ]
     },
     "execution_count": 30,
     "metadata": {},
     "output_type": "execute_result"
    }
   ],
   "source": [
    "matched_directors_df=pd.merge(directors_df, mapping_02[['imdb','freebase']], on='imdb', how='inner')\n",
    "# rename colum nconst to directors\n",
    "matched_directors_df.rename(columns={'nconst':'directors'}, inplace=True)\n",
    "matched_directors_df.head(3)"
   ]
  },
  {
   "cell_type": "code",
   "execution_count": 27,
   "metadata": {},
   "outputs": [
    {
     "data": {
      "text/html": [
       "<div>\n",
       "<style scoped>\n",
       "    .dataframe tbody tr th:only-of-type {\n",
       "        vertical-align: middle;\n",
       "    }\n",
       "\n",
       "    .dataframe tbody tr th {\n",
       "        vertical-align: top;\n",
       "    }\n",
       "\n",
       "    .dataframe thead th {\n",
       "        text-align: right;\n",
       "    }\n",
       "</style>\n",
       "<table border=\"1\" class=\"dataframe\">\n",
       "  <thead>\n",
       "    <tr style=\"text-align: right;\">\n",
       "      <th></th>\n",
       "      <th>Wikipedia movie ID</th>\n",
       "      <th>Freebase movie ID</th>\n",
       "      <th>Movie name</th>\n",
       "      <th>Character name</th>\n",
       "    </tr>\n",
       "  </thead>\n",
       "  <tbody>\n",
       "    <tr>\n",
       "      <th>0</th>\n",
       "      <td>975900</td>\n",
       "      <td>/m/03vyhn</td>\n",
       "      <td>Ghosts of Mars</td>\n",
       "      <td>Akooshay</td>\n",
       "    </tr>\n",
       "    <tr>\n",
       "      <th>1</th>\n",
       "      <td>975900</td>\n",
       "      <td>/m/03vyhn</td>\n",
       "      <td>Ghosts of Mars</td>\n",
       "      <td>Lieutenant Melanie Ballard</td>\n",
       "    </tr>\n",
       "    <tr>\n",
       "      <th>2</th>\n",
       "      <td>975900</td>\n",
       "      <td>/m/03vyhn</td>\n",
       "      <td>Ghosts of Mars</td>\n",
       "      <td>Desolation Williams</td>\n",
       "    </tr>\n",
       "  </tbody>\n",
       "</table>\n",
       "</div>"
      ],
      "text/plain": [
       "   Wikipedia movie ID Freebase movie ID      Movie name  \\\n",
       "0              975900         /m/03vyhn  Ghosts of Mars   \n",
       "1              975900         /m/03vyhn  Ghosts of Mars   \n",
       "2              975900         /m/03vyhn  Ghosts of Mars   \n",
       "\n",
       "               Character name  \n",
       "0                    Akooshay  \n",
       "1  Lieutenant Melanie Ballard  \n",
       "2         Desolation Williams  "
      ]
     },
     "execution_count": 27,
     "metadata": {},
     "output_type": "execute_result"
    }
   ],
   "source": [
    "cmu_characters_movie.head(3)"
   ]
  },
  {
   "cell_type": "code",
   "execution_count": 36,
   "metadata": {},
   "outputs": [
    {
     "data": {
      "text/html": [
       "<div>\n",
       "<style scoped>\n",
       "    .dataframe tbody tr th:only-of-type {\n",
       "        vertical-align: middle;\n",
       "    }\n",
       "\n",
       "    .dataframe tbody tr th {\n",
       "        vertical-align: top;\n",
       "    }\n",
       "\n",
       "    .dataframe thead th {\n",
       "        text-align: right;\n",
       "    }\n",
       "</style>\n",
       "<table border=\"1\" class=\"dataframe\">\n",
       "  <thead>\n",
       "    <tr style=\"text-align: right;\">\n",
       "      <th></th>\n",
       "      <th>Wikipedia movie ID</th>\n",
       "      <th>Freebase movie ID</th>\n",
       "      <th>Movie name</th>\n",
       "      <th>Character name</th>\n",
       "      <th>tconst</th>\n",
       "      <th>director</th>\n",
       "      <th>freebase</th>\n",
       "      <th>imdb</th>\n",
       "    </tr>\n",
       "  </thead>\n",
       "  <tbody>\n",
       "    <tr>\n",
       "      <th>0</th>\n",
       "      <td>975900</td>\n",
       "      <td>/m/03vyhn</td>\n",
       "      <td>Ghosts of Mars</td>\n",
       "      <td>Akooshay</td>\n",
       "      <td>tt0228333</td>\n",
       "      <td>nm0000118</td>\n",
       "      <td>/m/03vyhn</td>\n",
       "      <td>tt0228333</td>\n",
       "    </tr>\n",
       "    <tr>\n",
       "      <th>1</th>\n",
       "      <td>975900</td>\n",
       "      <td>/m/03vyhn</td>\n",
       "      <td>Ghosts of Mars</td>\n",
       "      <td>Lieutenant Melanie Ballard</td>\n",
       "      <td>tt0228333</td>\n",
       "      <td>nm0000118</td>\n",
       "      <td>/m/03vyhn</td>\n",
       "      <td>tt0228333</td>\n",
       "    </tr>\n",
       "    <tr>\n",
       "      <th>2</th>\n",
       "      <td>975900</td>\n",
       "      <td>/m/03vyhn</td>\n",
       "      <td>Ghosts of Mars</td>\n",
       "      <td>Desolation Williams</td>\n",
       "      <td>tt0228333</td>\n",
       "      <td>nm0000118</td>\n",
       "      <td>/m/03vyhn</td>\n",
       "      <td>tt0228333</td>\n",
       "    </tr>\n",
       "  </tbody>\n",
       "</table>\n",
       "</div>"
      ],
      "text/plain": [
       "   Wikipedia movie ID Freebase movie ID      Movie name  \\\n",
       "0              975900         /m/03vyhn  Ghosts of Mars   \n",
       "1              975900         /m/03vyhn  Ghosts of Mars   \n",
       "2              975900         /m/03vyhn  Ghosts of Mars   \n",
       "\n",
       "               Character name     tconst   director   freebase       imdb  \n",
       "0                    Akooshay  tt0228333  nm0000118  /m/03vyhn  tt0228333  \n",
       "1  Lieutenant Melanie Ballard  tt0228333  nm0000118  /m/03vyhn  tt0228333  \n",
       "2         Desolation Williams  tt0228333  nm0000118  /m/03vyhn  tt0228333  "
      ]
     },
     "execution_count": 36,
     "metadata": {},
     "output_type": "execute_result"
    }
   ],
   "source": [
    "# Merge cmu_characters_movie and matched_imdb_crew on freebase movie id(left) and freebase(right)\n",
    "cmu_characters_movie_imdb = pd.merge(cmu_characters_movie[['Wikipedia movie ID','Freebase movie ID','Movie name','Character name']], matched_directors_df[['tconst','directors','freebase','imdb']], how='inner', left_on=['Freebase movie ID'], right_on=['freebase'])\n",
    "cmu_characters_movie_imdb.head(3)"
   ]
  },
  {
   "cell_type": "code",
   "execution_count": 37,
   "metadata": {},
   "outputs": [
    {
     "data": {
      "text/plain": [
       "17649"
      ]
     },
     "execution_count": 37,
     "metadata": {},
     "output_type": "execute_result"
    }
   ],
   "source": [
    "len(cmu_characters_movie_imdb['directors'].unique())"
   ]
  },
  {
   "cell_type": "code",
   "execution_count": 38,
   "metadata": {},
   "outputs": [
    {
     "data": {
      "text/html": [
       "<div>\n",
       "<style scoped>\n",
       "    .dataframe tbody tr th:only-of-type {\n",
       "        vertical-align: middle;\n",
       "    }\n",
       "\n",
       "    .dataframe tbody tr th {\n",
       "        vertical-align: top;\n",
       "    }\n",
       "\n",
       "    .dataframe thead th {\n",
       "        text-align: right;\n",
       "    }\n",
       "</style>\n",
       "<table border=\"1\" class=\"dataframe\">\n",
       "  <thead>\n",
       "    <tr style=\"text-align: right;\">\n",
       "      <th></th>\n",
       "      <th>movieid_charactername</th>\n",
       "      <th>topic</th>\n",
       "      <th>topic_dist</th>\n",
       "      <th>movie_id</th>\n",
       "      <th>character_name</th>\n",
       "    </tr>\n",
       "  </thead>\n",
       "  <tbody>\n",
       "    <tr>\n",
       "      <th>0</th>\n",
       "      <td>11784534_Ingrid Bergman</td>\n",
       "      <td>22</td>\n",
       "      <td>[0.00666666666666941, 0.00666666666666941, 0.0...</td>\n",
       "      <td>11784534</td>\n",
       "      <td>Ingrid Bergman</td>\n",
       "    </tr>\n",
       "    <tr>\n",
       "      <th>1</th>\n",
       "      <td>11784534_George Sanders</td>\n",
       "      <td>10</td>\n",
       "      <td>[0.0066666666666673775, 0.0066666666666673775,...</td>\n",
       "      <td>11784534</td>\n",
       "      <td>George Sanders</td>\n",
       "    </tr>\n",
       "    <tr>\n",
       "      <th>2</th>\n",
       "      <td>10131263_Wile E. Coyote</td>\n",
       "      <td>23</td>\n",
       "      <td>[0.004000000000000387, 0.004000000000000387, 0...</td>\n",
       "      <td>10131263</td>\n",
       "      <td>Wile E. Coyote</td>\n",
       "    </tr>\n",
       "  </tbody>\n",
       "</table>\n",
       "</div>"
      ],
      "text/plain": [
       "     movieid_charactername  topic  \\\n",
       "0  11784534_Ingrid Bergman     22   \n",
       "1  11784534_George Sanders     10   \n",
       "2  10131263_Wile E. Coyote     23   \n",
       "\n",
       "                                          topic_dist  movie_id  character_name  \n",
       "0  [0.00666666666666941, 0.00666666666666941, 0.0...  11784534  Ingrid Bergman  \n",
       "1  [0.0066666666666673775, 0.0066666666666673775,...  11784534  George Sanders  \n",
       "2  [0.004000000000000387, 0.004000000000000387, 0...  10131263  Wile E. Coyote  "
      ]
     },
     "execution_count": 38,
     "metadata": {},
     "output_type": "execute_result"
    }
   ],
   "source": [
    "character_classification_df=pd.read_parquet('../generated/annotations_2023/character_classification_update.parquet', engine='pyarrow')\n",
    "character_classification_df.head(3)"
   ]
  },
  {
   "cell_type": "code",
   "execution_count": 39,
   "metadata": {},
   "outputs": [
    {
     "data": {
      "text/html": [
       "<div>\n",
       "<style scoped>\n",
       "    .dataframe tbody tr th:only-of-type {\n",
       "        vertical-align: middle;\n",
       "    }\n",
       "\n",
       "    .dataframe tbody tr th {\n",
       "        vertical-align: top;\n",
       "    }\n",
       "\n",
       "    .dataframe thead th {\n",
       "        text-align: right;\n",
       "    }\n",
       "</style>\n",
       "<table border=\"1\" class=\"dataframe\">\n",
       "  <thead>\n",
       "    <tr style=\"text-align: right;\">\n",
       "      <th></th>\n",
       "      <th>Wikipedia movie ID</th>\n",
       "      <th>Freebase movie ID</th>\n",
       "      <th>Movie name</th>\n",
       "      <th>Character name</th>\n",
       "      <th>tconst</th>\n",
       "      <th>director</th>\n",
       "      <th>freebase</th>\n",
       "      <th>imdb</th>\n",
       "      <th>movieid_charactername</th>\n",
       "      <th>topic</th>\n",
       "      <th>topic_dist</th>\n",
       "      <th>movie_id</th>\n",
       "      <th>character_name</th>\n",
       "    </tr>\n",
       "  </thead>\n",
       "  <tbody>\n",
       "    <tr>\n",
       "      <th>0</th>\n",
       "      <td>156558</td>\n",
       "      <td>/m/014k4y</td>\n",
       "      <td>Baby Boy</td>\n",
       "      <td>Yvette</td>\n",
       "      <td>tt0255819</td>\n",
       "      <td>nm0005436</td>\n",
       "      <td>/m/014k4y</td>\n",
       "      <td>tt0255819</td>\n",
       "      <td>156558_Yvette</td>\n",
       "      <td>31</td>\n",
       "      <td>[0.0012500000000002947, 0.0012500000000002947,...</td>\n",
       "      <td>156558</td>\n",
       "      <td>Yvette</td>\n",
       "    </tr>\n",
       "    <tr>\n",
       "      <th>1</th>\n",
       "      <td>156558</td>\n",
       "      <td>/m/014k4y</td>\n",
       "      <td>Baby Boy</td>\n",
       "      <td>Jody</td>\n",
       "      <td>tt0255819</td>\n",
       "      <td>nm0005436</td>\n",
       "      <td>/m/014k4y</td>\n",
       "      <td>tt0255819</td>\n",
       "      <td>156558_Jody</td>\n",
       "      <td>31</td>\n",
       "      <td>[0.0008695652173914489, 0.0008695652173914489,...</td>\n",
       "      <td>156558</td>\n",
       "      <td>Jody</td>\n",
       "    </tr>\n",
       "    <tr>\n",
       "      <th>2</th>\n",
       "      <td>156558</td>\n",
       "      <td>/m/014k4y</td>\n",
       "      <td>Baby Boy</td>\n",
       "      <td>Rodney</td>\n",
       "      <td>tt0255819</td>\n",
       "      <td>nm0005436</td>\n",
       "      <td>/m/014k4y</td>\n",
       "      <td>tt0255819</td>\n",
       "      <td>156558_Rodney</td>\n",
       "      <td>42</td>\n",
       "      <td>[0.0014285714285728847, 0.0014285714285728847,...</td>\n",
       "      <td>156558</td>\n",
       "      <td>Rodney</td>\n",
       "    </tr>\n",
       "  </tbody>\n",
       "</table>\n",
       "</div>"
      ],
      "text/plain": [
       "   Wikipedia movie ID Freebase movie ID Movie name Character name     tconst  \\\n",
       "0              156558         /m/014k4y   Baby Boy         Yvette  tt0255819   \n",
       "1              156558         /m/014k4y   Baby Boy           Jody  tt0255819   \n",
       "2              156558         /m/014k4y   Baby Boy         Rodney  tt0255819   \n",
       "\n",
       "    director   freebase       imdb movieid_charactername  topic  \\\n",
       "0  nm0005436  /m/014k4y  tt0255819         156558_Yvette     31   \n",
       "1  nm0005436  /m/014k4y  tt0255819           156558_Jody     31   \n",
       "2  nm0005436  /m/014k4y  tt0255819         156558_Rodney     42   \n",
       "\n",
       "                                          topic_dist  movie_id character_name  \n",
       "0  [0.0012500000000002947, 0.0012500000000002947,...    156558         Yvette  \n",
       "1  [0.0008695652173914489, 0.0008695652173914489,...    156558           Jody  \n",
       "2  [0.0014285714285728847, 0.0014285714285728847,...    156558         Rodney  "
      ]
     },
     "execution_count": 39,
     "metadata": {},
     "output_type": "execute_result"
    }
   ],
   "source": [
    "character_movie_directors = pd.merge(cmu_characters_movie_imdb, character_classification_df, how='inner', left_on=['Wikipedia movie ID','Character name'], right_on=['movie_id','character_name'])\n",
    "character_movie_directors.head(3)"
   ]
  },
  {
   "cell_type": "code",
   "execution_count": 40,
   "metadata": {},
   "outputs": [
    {
     "data": {
      "text/plain": [
       "6005"
      ]
     },
     "execution_count": 40,
     "metadata": {},
     "output_type": "execute_result"
    }
   ],
   "source": [
    "len(character_movie_directors['director'].unique())"
   ]
  },
  {
   "cell_type": "code",
   "execution_count": null,
   "metadata": {},
   "outputs": [],
   "source": []
  }
 ],
 "metadata": {
  "kernelspec": {
   "display_name": "Python 3 (ipykernel)",
   "language": "python",
   "name": "python3"
  },
  "language_info": {
   "codemirror_mode": {
    "name": "ipython",
    "version": 3
   },
   "file_extension": ".py",
   "mimetype": "text/x-python",
   "name": "python",
   "nbconvert_exporter": "python",
   "pygments_lexer": "ipython3",
   "version": "3.9.18"
  }
 },
 "nbformat": 4,
 "nbformat_minor": 5
}

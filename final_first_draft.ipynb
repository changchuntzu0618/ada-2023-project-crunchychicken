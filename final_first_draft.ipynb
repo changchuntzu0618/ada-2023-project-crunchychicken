{
 "cells": [
  {
   "cell_type": "markdown",
   "metadata": {},
   "source": [
    "# Data wrangling & preliminary data anylsis "
   ]
  },
  {
   "cell_type": "markdown",
   "metadata": {},
   "source": [
    "This notebook contains the work performed with regard to our first approach with the CMU Movie Corpus and its different aspects, as well as data enrichment and preliminary analysis concerning our research subject.\n",
    "\n",
    "To navigate more easily through the different parts of the notebook, feel free to refer to the Table of Contents just below."
   ]
  },
  {
   "cell_type": "markdown",
   "metadata": {},
   "source": [
    "<a id=\"0\"></a> <br>\n",
    "## Table of Contents\n",
    "## Put it in place at the end"
   ]
  },
  {
   "cell_type": "markdown",
   "metadata": {},
   "source": [
    "Before going into all of this, let's first import the necessary libraries for the notebook to function properly :"
   ]
  },
  {
   "cell_type": "code",
   "execution_count": 1,
   "metadata": {},
   "outputs": [],
   "source": [
    "import requests\n",
    "import pandas as pd\n",
    "from time import sleep\n",
    "import wikipedia\n",
    "import numpy as np\n",
    "import ast\n",
    "import matplotlib.pyplot as plt\n",
    "import seaborn as sns\n",
    "\n",
    "from helpers.readers import read_dataframe"
   ]
  },
  {
   "cell_type": "markdown",
   "metadata": {},
   "source": [
    "## 1. The CMU Movie Corpus <a class=\"anchor\" id=\"1\"></a>\n",
    "\n",
    "Our first point of focus was the discovery of the dataset we decided to work with for this project,the CMU Movie Corpus. The idea of this part is to load the data under a usable form, familiarizing with it and thus knowing more about how we could use it for further analyzes.\n",
    "\n",
    "### 1.1 Importing the CMU Datasets <a class=\"anchor\" id=\"1.1\"></a>"
   ]
  },
  {
   "cell_type": "markdown",
   "metadata": {},
   "source": [
    "#### The CMU Movie Plot Summaries dataset"
   ]
  },
  {
   "cell_type": "code",
   "execution_count": 2,
   "metadata": {},
   "outputs": [
    {
     "name": "stdout",
     "output_type": "stream",
     "text": [
      "<class 'pandas.core.frame.DataFrame'>\n",
      "RangeIndex: 42303 entries, 0 to 42302\n",
      "Data columns (total 2 columns):\n",
      " #   Column              Non-Null Count  Dtype \n",
      "---  ------              --------------  ----- \n",
      " 0   Wikipedia movie ID  42303 non-null  int32 \n",
      " 1   Plot Summary        42303 non-null  string\n",
      "dtypes: int32(1), string(1)\n",
      "memory usage: 495.9 KB\n"
     ]
    }
   ],
   "source": [
    "cmu_summaries = read_dataframe(name='cmu/summaries', usecols=[\n",
    "    \"Wikipedia movie ID\", \n",
    "    \"Plot Summary\"\n",
    "])\n",
    "cmu_summaries.info()"
   ]
  },
  {
   "cell_type": "code",
   "execution_count": 3,
   "metadata": {},
   "outputs": [
    {
     "data": {
      "image/png": "[encoded data removed]",
      "text/plain": [
       "<Figure size 400x400 with 1 Axes>"
      ]
     },
     "metadata": {},
     "output_type": "display_data"
    }
   ],
   "source": [
    "plt.figure(figsize=(4, 4))\n",
    "plt.boxplot(cmu_summaries['Plot Summary'].apply(len))\n",
    "plt.title('Box Plot of Plot Summary Lengths')\n",
    "plt.ylabel('Length of Plot Summary')\n",
    "plt.show()"
   ]
  },
  {
   "cell_type": "markdown",
   "metadata": {},
   "source": [
    "A lot of plots only contain one sentence, however there are also with a lot of content. This is due to the popularity of movies, popular movie have more developed (longer) summaries in contrast to lesser known movies. "
   ]
  },
  {
   "cell_type": "code",
   "execution_count": 4,
   "metadata": {},
   "outputs": [
    {
     "name": "stdout",
     "output_type": "stream",
     "text": [
      "Percentage of summaries containing a link or special characters: 22.14%\n"
     ]
    }
   ],
   "source": [
    "def contains_link_or_special_char(summary):\n",
    "    substrings = ['http', 'www', '|', '{', '[', '@', '#', '\\\\', '_', '^', '~', '`', '+', '=']\n",
    "    return any(sub in summary for sub in substrings)\n",
    "\n",
    "count = cmu_summaries['Plot Summary'].apply(contains_link_or_special_char).sum()\n",
    "print(f\"Percentage of summaries containing a link or special characters: {(count / len(cmu_summaries)) * 100:.2f}%\")"
   ]
  },
  {
   "cell_type": "markdown",
   "metadata": {},
   "source": [
    "Almost a quarter of the summaries have a link or special character, this is probably due to the scrapping technics from 2013."
   ]
  },
  {
   "cell_type": "markdown",
   "metadata": {},
   "source": [
    "\n",
    "\n",
    "\n",
    "\n",
    "#### The CMU Movies & Characters dataset"
   ]
  },
  {
   "cell_type": "code",
   "execution_count": 5,
   "metadata": {},
   "outputs": [
    {
     "data": {
      "text/html": [
       "<div>\n",
       "<style scoped>\n",
       "    .dataframe tbody tr th:only-of-type {\n",
       "        vertical-align: middle;\n",
       "    }\n",
       "\n",
       "    .dataframe tbody tr th {\n",
       "        vertical-align: top;\n",
       "    }\n",
       "\n",
       "    .dataframe thead th {\n",
       "        text-align: right;\n",
       "    }\n",
       "</style>\n",
       "<table border=\"1\" class=\"dataframe\">\n",
       "  <thead>\n",
       "    <tr style=\"text-align: right;\">\n",
       "      <th></th>\n",
       "      <th>Wikipedia movie ID</th>\n",
       "      <th>Freebase movie ID</th>\n",
       "      <th>Movie name</th>\n",
       "      <th>Movie release date</th>\n",
       "      <th>Movie box office revenue</th>\n",
       "      <th>Movie runtime</th>\n",
       "      <th>Movie languages</th>\n",
       "      <th>Movie countries</th>\n",
       "      <th>Movie genres</th>\n",
       "    </tr>\n",
       "  </thead>\n",
       "  <tbody>\n",
       "    <tr>\n",
       "      <th>0</th>\n",
       "      <td>975900</td>\n",
       "      <td>/m/03vyhn</td>\n",
       "      <td>Ghosts of Mars</td>\n",
       "      <td>2001-08-24</td>\n",
       "      <td>14010832.0</td>\n",
       "      <td>98.0</td>\n",
       "      <td>{\"/m/02h40lc\": \"English Language\"}</td>\n",
       "      <td>{\"/m/09c7w0\": \"United States of America\"}</td>\n",
       "      <td>{\"/m/01jfsb\": \"Thriller\", \"/m/06n90\": \"Science...</td>\n",
       "    </tr>\n",
       "    <tr>\n",
       "      <th>1</th>\n",
       "      <td>3196793</td>\n",
       "      <td>/m/08yl5d</td>\n",
       "      <td>Getting Away with Murder: The JonBenét Ramsey ...</td>\n",
       "      <td>2000-02-16</td>\n",
       "      <td>NaN</td>\n",
       "      <td>95.0</td>\n",
       "      <td>{\"/m/02h40lc\": \"English Language\"}</td>\n",
       "      <td>{\"/m/09c7w0\": \"United States of America\"}</td>\n",
       "      <td>{\"/m/02n4kr\": \"Mystery\", \"/m/03bxz7\": \"Biograp...</td>\n",
       "    </tr>\n",
       "  </tbody>\n",
       "</table>\n",
       "</div>"
      ],
      "text/plain": [
       "   Wikipedia movie ID Freebase movie ID  \\\n",
       "0              975900         /m/03vyhn   \n",
       "1             3196793         /m/08yl5d   \n",
       "\n",
       "                                          Movie name Movie release date  \\\n",
       "0                                     Ghosts of Mars         2001-08-24   \n",
       "1  Getting Away with Murder: The JonBenét Ramsey ...         2000-02-16   \n",
       "\n",
       "   Movie box office revenue  Movie runtime  \\\n",
       "0                14010832.0           98.0   \n",
       "1                       NaN           95.0   \n",
       "\n",
       "                      Movie languages  \\\n",
       "0  {\"/m/02h40lc\": \"English Language\"}   \n",
       "1  {\"/m/02h40lc\": \"English Language\"}   \n",
       "\n",
       "                             Movie countries  \\\n",
       "0  {\"/m/09c7w0\": \"United States of America\"}   \n",
       "1  {\"/m/09c7w0\": \"United States of America\"}   \n",
       "\n",
       "                                        Movie genres  \n",
       "0  {\"/m/01jfsb\": \"Thriller\", \"/m/06n90\": \"Science...  \n",
       "1  {\"/m/02n4kr\": \"Mystery\", \"/m/03bxz7\": \"Biograp...  "
      ]
     },
     "execution_count": 5,
     "metadata": {},
     "output_type": "execute_result"
    }
   ],
   "source": [
    "cmu_movies = read_dataframe(name='cmu/movies', usecols=[\n",
    "    \"Wikipedia movie ID\", \n",
    "    \"Freebase movie ID\", \n",
    "    \"Movie name\", \n",
    "    \"Movie release date\", \n",
    "    \"Movie box office revenue\", \n",
    "    \"Movie runtime\", \n",
    "    \"Movie languages\", \n",
    "    \"Movie countries\", \n",
    "    \"Movie genres\",\n",
    "])\n",
    "cmu_movies.head(2)"
   ]
  },
  {
   "cell_type": "markdown",
   "metadata": {},
   "source": [
    "Under this form, many of the columns are unusable. We are thus going to transform the dataset to be able to have a clean basis to start investigating the data :"
   ]
  },
  {
   "cell_type": "code",
   "execution_count": 6,
   "metadata": {},
   "outputs": [
    {
     "data": {
      "text/html": [
       "<div>\n",
       "<style scoped>\n",
       "    .dataframe tbody tr th:only-of-type {\n",
       "        vertical-align: middle;\n",
       "    }\n",
       "\n",
       "    .dataframe tbody tr th {\n",
       "        vertical-align: top;\n",
       "    }\n",
       "\n",
       "    .dataframe thead th {\n",
       "        text-align: right;\n",
       "    }\n",
       "</style>\n",
       "<table border=\"1\" class=\"dataframe\">\n",
       "  <thead>\n",
       "    <tr style=\"text-align: right;\">\n",
       "      <th></th>\n",
       "      <th>Wikipedia movie ID</th>\n",
       "      <th>Freebase movie ID</th>\n",
       "      <th>Movie name</th>\n",
       "      <th>Movie release date</th>\n",
       "      <th>Movie box office revenue</th>\n",
       "      <th>Movie runtime</th>\n",
       "      <th>Movie languages</th>\n",
       "      <th>Movie countries</th>\n",
       "      <th>Movie genres</th>\n",
       "    </tr>\n",
       "  </thead>\n",
       "  <tbody>\n",
       "    <tr>\n",
       "      <th>46808</th>\n",
       "      <td>17906864</td>\n",
       "      <td>/m/047p8zv</td>\n",
       "      <td>Moonnam Mura</td>\n",
       "      <td>1988</td>\n",
       "      <td>NaN</td>\n",
       "      <td>NaN</td>\n",
       "      <td>{\"/m/0999q\": \"Malayalam Language\"}</td>\n",
       "      <td>{\"/m/0999q\": \"Malayalam Language\"}</td>\n",
       "      <td>{\"/m/01jfsb\": \"Thriller\", \"/m/02kdv5l\": \"Actio...</td>\n",
       "    </tr>\n",
       "    <tr>\n",
       "      <th>67202</th>\n",
       "      <td>28964840</td>\n",
       "      <td>/m/0dgnjfj</td>\n",
       "      <td>Inakkilly</td>\n",
       "      <td>1984</td>\n",
       "      <td>NaN</td>\n",
       "      <td>NaN</td>\n",
       "      <td>{}</td>\n",
       "      <td>{\"/m/0999q\": \"Malayalam Language\", \"/m/03rk0\":...</td>\n",
       "      <td>{\"/m/068d7h\": \"Romantic drama\"}</td>\n",
       "    </tr>\n",
       "    <tr>\n",
       "      <th>72685</th>\n",
       "      <td>5093828</td>\n",
       "      <td>/m/0d2clf</td>\n",
       "      <td>Sex in Chains</td>\n",
       "      <td>1928-10-24</td>\n",
       "      <td>NaN</td>\n",
       "      <td>86.0</td>\n",
       "      <td>{\"/m/06ppq\": \"Silent film\", \"/m/04306rv\": \"Ger...</td>\n",
       "      <td>{\"/m/084n_\": \"Weimar Republic\", \"/m/04306rv\": ...</td>\n",
       "      <td>{\"/m/0hn10\": \"LGBT\", \"/m/06ppq\": \"Silent film\"...</td>\n",
       "    </tr>\n",
       "  </tbody>\n",
       "</table>\n",
       "</div>"
      ],
      "text/plain": [
       "       Wikipedia movie ID Freebase movie ID     Movie name Movie release date  \\\n",
       "46808            17906864        /m/047p8zv   Moonnam Mura               1988   \n",
       "67202            28964840        /m/0dgnjfj      Inakkilly               1984   \n",
       "72685             5093828         /m/0d2clf  Sex in Chains         1928-10-24   \n",
       "\n",
       "       Movie box office revenue  Movie runtime  \\\n",
       "46808                       NaN            NaN   \n",
       "67202                       NaN            NaN   \n",
       "72685                       NaN           86.0   \n",
       "\n",
       "                                         Movie languages  \\\n",
       "46808                 {\"/m/0999q\": \"Malayalam Language\"}   \n",
       "67202                                                 {}   \n",
       "72685  {\"/m/06ppq\": \"Silent film\", \"/m/04306rv\": \"Ger...   \n",
       "\n",
       "                                         Movie countries  \\\n",
       "46808                 {\"/m/0999q\": \"Malayalam Language\"}   \n",
       "67202  {\"/m/0999q\": \"Malayalam Language\", \"/m/03rk0\":...   \n",
       "72685  {\"/m/084n_\": \"Weimar Republic\", \"/m/04306rv\": ...   \n",
       "\n",
       "                                            Movie genres  \n",
       "46808  {\"/m/01jfsb\": \"Thriller\", \"/m/02kdv5l\": \"Actio...  \n",
       "67202                    {\"/m/068d7h\": \"Romantic drama\"}  \n",
       "72685  {\"/m/0hn10\": \"LGBT\", \"/m/06ppq\": \"Silent film\"...  "
      ]
     },
     "execution_count": 6,
     "metadata": {},
     "output_type": "execute_result"
    }
   ],
   "source": [
    "cmu_movies[cmu_movies['Movie countries'].str.contains('Language')]"
   ]
  },
  {
   "cell_type": "markdown",
   "metadata": {},
   "source": [
    "3 rows contain \"Language\" inside their country field, let's manually fix this."
   ]
  },
  {
   "cell_type": "code",
   "execution_count": 7,
   "metadata": {},
   "outputs": [],
   "source": [
    "cmu_movies.loc[46808, 'Movie countries'] = '{\"/m/03rk0\": \"India\"}'\n",
    "cmu_movies.loc[67202, 'Movie countries'] = '{\"/m/03rk0\": \"India\"}'\n",
    "cmu_movies.loc[67202, 'Movie languages'] = '{\"/m/0999q\": \"Malayalam Language\"}'\n",
    "cmu_movies.loc[72685, 'Movie countries'] = '{\"/m/084n_\": \"Weimar Republic\", \"/m/0345h\": \"Germany\"}'"
   ]
  },
  {
   "cell_type": "markdown",
   "metadata": {},
   "source": [
    "Out of curiosity, let's check if movie languages contain divine [Deseret](https://en.wikipedia.org/wiki/Deseret_alphabet), for example could they contain this: `\\\\ud801\\\\udc16\\\\ud801\\\\udc32\\\\ud801\\\\udc49\\\\ud801\\\\udc4b\\\\ud801\\\\udc4c\\\\ud801\\\\udc32` "
   ]
  },
  {
   "cell_type": "code",
   "execution_count": 8,
   "metadata": {},
   "outputs": [
    {
     "data": {
      "text/html": [
       "<div>\n",
       "<style scoped>\n",
       "    .dataframe tbody tr th:only-of-type {\n",
       "        vertical-align: middle;\n",
       "    }\n",
       "\n",
       "    .dataframe tbody tr th {\n",
       "        vertical-align: top;\n",
       "    }\n",
       "\n",
       "    .dataframe thead th {\n",
       "        text-align: right;\n",
       "    }\n",
       "</style>\n",
       "<table border=\"1\" class=\"dataframe\">\n",
       "  <thead>\n",
       "    <tr style=\"text-align: right;\">\n",
       "      <th></th>\n",
       "      <th>Wikipedia movie ID</th>\n",
       "      <th>Freebase movie ID</th>\n",
       "      <th>Movie name</th>\n",
       "      <th>Movie release date</th>\n",
       "      <th>Movie box office revenue</th>\n",
       "      <th>Movie runtime</th>\n",
       "      <th>Movie languages</th>\n",
       "      <th>Movie countries</th>\n",
       "      <th>Movie genres</th>\n",
       "    </tr>\n",
       "  </thead>\n",
       "  <tbody>\n",
       "    <tr>\n",
       "      <th>1825</th>\n",
       "      <td>30296135</td>\n",
       "      <td>/m/0g4ytpz</td>\n",
       "      <td>If Not Us, Who?</td>\n",
       "      <td>2011-02-17</td>\n",
       "      <td>NaN</td>\n",
       "      <td>124.0</td>\n",
       "      <td>{\"/m/0gtg\": \"\\ud801\\udc16\\ud801\\udc32\\ud801\\ud...</td>\n",
       "      <td>{\"/m/0345h\": \"Germany\"}</td>\n",
       "      <td>{\"/m/03g3w\": \"History\", \"/m/02p0szs\": \"Histori...</td>\n",
       "    </tr>\n",
       "    <tr>\n",
       "      <th>7855</th>\n",
       "      <td>31099422</td>\n",
       "      <td>/m/0gh6j94</td>\n",
       "      <td>We Have a Pope</td>\n",
       "      <td>2011-04-15</td>\n",
       "      <td>NaN</td>\n",
       "      <td>104.0</td>\n",
       "      <td>{\"/m/02bjrlw\": \"Italian Language\", \"/m/06nm1\":...</td>\n",
       "      <td>{\"/m/0f8l9c\": \"France\", \"/m/03rjj\": \"Italy\"}</td>\n",
       "      <td>{\"/m/07s9rl0\": \"Drama\", \"/m/01z4y\": \"Comedy\"}</td>\n",
       "    </tr>\n",
       "    <tr>\n",
       "      <th>20807</th>\n",
       "      <td>30296704</td>\n",
       "      <td>/m/0g5qmbz</td>\n",
       "      <td>Pina</td>\n",
       "      <td>2011-02-13</td>\n",
       "      <td>14620458.0</td>\n",
       "      <td>103.0</td>\n",
       "      <td>{\"/m/0k0sv\": \"Croatian language\", \"/m/02bjrlw\"...</td>\n",
       "      <td>{\"/m/0f8l9c\": \"France\", \"/m/07ssc\": \"United Ki...</td>\n",
       "      <td>{\"/m/04rlf\": \"Music\", \"/m/0jtdp\": \"Documentary\"}</td>\n",
       "    </tr>\n",
       "    <tr>\n",
       "      <th>25679</th>\n",
       "      <td>33270910</td>\n",
       "      <td>/m/0c1sm3j</td>\n",
       "      <td>In Darkness</td>\n",
       "      <td>2011-09-02</td>\n",
       "      <td>1024295.0</td>\n",
       "      <td>145.0</td>\n",
       "      <td>{\"/m/05qqm\": \"Polish Language\", \"/m/0cjk9\": \"U...</td>\n",
       "      <td>{\"/m/05qhw\": \"Poland\", \"/m/0d060g\": \"Canada\", ...</td>\n",
       "      <td>{\"/m/02p0szs\": \"Historical fiction\", \"/m/07s9r...</td>\n",
       "    </tr>\n",
       "    <tr>\n",
       "      <th>30562</th>\n",
       "      <td>33584636</td>\n",
       "      <td>/m/0hgqwmn</td>\n",
       "      <td>Hotel Lux</td>\n",
       "      <td>2011-10-27</td>\n",
       "      <td>NaN</td>\n",
       "      <td>102.0</td>\n",
       "      <td>{\"/m/02h40lc\": \"English Language\", \"/m/0gtg\": ...</td>\n",
       "      <td>{\"/m/0345h\": \"Germany\"}</td>\n",
       "      <td>{\"/m/01z4y\": \"Comedy\"}</td>\n",
       "    </tr>\n",
       "    <tr>\n",
       "      <th>68137</th>\n",
       "      <td>33597212</td>\n",
       "      <td>/m/0hgrd5g</td>\n",
       "      <td>Three Quarter Moon</td>\n",
       "      <td>2011-09-30</td>\n",
       "      <td>NaN</td>\n",
       "      <td>95.0</td>\n",
       "      <td>{\"/m/02hwyss\": \"Turkish Language\", \"/m/0gtg\": ...</td>\n",
       "      <td>{\"/m/0345h\": \"Germany\"}</td>\n",
       "      <td>{\"/m/0556j8\": \"Buddy film\", \"/m/0hqxf\": \"Famil...</td>\n",
       "    </tr>\n",
       "  </tbody>\n",
       "</table>\n",
       "</div>"
      ],
      "text/plain": [
       "       Wikipedia movie ID Freebase movie ID          Movie name  \\\n",
       "1825             30296135        /m/0g4ytpz     If Not Us, Who?   \n",
       "7855             31099422        /m/0gh6j94      We Have a Pope   \n",
       "20807            30296704        /m/0g5qmbz                Pina   \n",
       "25679            33270910        /m/0c1sm3j         In Darkness   \n",
       "30562            33584636        /m/0hgqwmn           Hotel Lux   \n",
       "68137            33597212        /m/0hgrd5g  Three Quarter Moon   \n",
       "\n",
       "      Movie release date  Movie box office revenue  Movie runtime  \\\n",
       "1825          2011-02-17                       NaN          124.0   \n",
       "7855          2011-04-15                       NaN          104.0   \n",
       "20807         2011-02-13                14620458.0          103.0   \n",
       "25679         2011-09-02                 1024295.0          145.0   \n",
       "30562         2011-10-27                       NaN          102.0   \n",
       "68137         2011-09-30                       NaN           95.0   \n",
       "\n",
       "                                         Movie languages  \\\n",
       "1825   {\"/m/0gtg\": \"\\ud801\\udc16\\ud801\\udc32\\ud801\\ud...   \n",
       "7855   {\"/m/02bjrlw\": \"Italian Language\", \"/m/06nm1\":...   \n",
       "20807  {\"/m/0k0sv\": \"Croatian language\", \"/m/02bjrlw\"...   \n",
       "25679  {\"/m/05qqm\": \"Polish Language\", \"/m/0cjk9\": \"U...   \n",
       "30562  {\"/m/02h40lc\": \"English Language\", \"/m/0gtg\": ...   \n",
       "68137  {\"/m/02hwyss\": \"Turkish Language\", \"/m/0gtg\": ...   \n",
       "\n",
       "                                         Movie countries  \\\n",
       "1825                             {\"/m/0345h\": \"Germany\"}   \n",
       "7855        {\"/m/0f8l9c\": \"France\", \"/m/03rjj\": \"Italy\"}   \n",
       "20807  {\"/m/0f8l9c\": \"France\", \"/m/07ssc\": \"United Ki...   \n",
       "25679  {\"/m/05qhw\": \"Poland\", \"/m/0d060g\": \"Canada\", ...   \n",
       "30562                            {\"/m/0345h\": \"Germany\"}   \n",
       "68137                            {\"/m/0345h\": \"Germany\"}   \n",
       "\n",
       "                                            Movie genres  \n",
       "1825   {\"/m/03g3w\": \"History\", \"/m/02p0szs\": \"Histori...  \n",
       "7855       {\"/m/07s9rl0\": \"Drama\", \"/m/01z4y\": \"Comedy\"}  \n",
       "20807   {\"/m/04rlf\": \"Music\", \"/m/0jtdp\": \"Documentary\"}  \n",
       "25679  {\"/m/02p0szs\": \"Historical fiction\", \"/m/07s9r...  \n",
       "30562                             {\"/m/01z4y\": \"Comedy\"}  \n",
       "68137  {\"/m/0556j8\": \"Buddy film\", \"/m/0hqxf\": \"Famil...  "
      ]
     },
     "execution_count": 8,
     "metadata": {},
     "output_type": "execute_result"
    }
   ],
   "source": [
    "cmu_movies[cmu_movies[\"Movie languages\"].str.contains(\"\\\\\\\\ud\")]"
   ]
  },
  {
   "cell_type": "markdown",
   "metadata": {},
   "source": [
    "For the sake of `UTF-8` let's remove the divine Desert code. For the curious the divine message was: `('𐐖', '𐐲', '𐑉', '𐑋', '𐑌', '𐐲')`."
   ]
  },
  {
   "cell_type": "code",
   "execution_count": 9,
   "metadata": {},
   "outputs": [],
   "source": [
    "cmu_movies.loc[1825, \"Movie languages\"] = '{\"/m/04306rv\": \"German Language\"}'\n",
    "cmu_movies.loc[7855, \"Movie languages\"] = '{\"/m/02bjrlw\": \"Italian Language\", \"/m/06nm1\": \"Spanish Language\", \"/m/064_8sq\": \"French Language\", \"/m/04h9h\": \"Latin Language\", \"/m/02h40lc\": \"English Language\", \"/m/05qqm\": \"Polish Language\", \"/m/04306rv\": \"German Language\"}'\n",
    "cmu_movies.loc[20807, \"Movie languages\"] = '{\"/m/0k0sv\": \"Croatian language\", \"/m/02bjrlw\": \"Italian Language\", \"/m/06b_j\": \"Russian Language\", \"/m/06nm1\": \"Spanish Language\", \"/m/064_8sq\": \"French Language\", \"/m/05zjd\": \"Portuguese Language\", \"/m/02h40lc\": \"English Language\", \"/m/06zvd\": \"Slovenian language\", \"/m/04306rv\": \"German Language\", \"/m/02hwhyv\": \"Korean Language\"}'\n",
    "cmu_movies.loc[25679, \"Movie languages\"] = '{\"/m/05qqm\": \"Polish Language\", \"/m/0cjk9\": \"Ukrainian Language\", \"/m/0880p\": \"Yiddish Language\", \"/m/04306rv\": \"German Language\"}'\n",
    "cmu_movies.loc[30562, \"Movie languages\"] = '{\"/m/02h40lc\": \"English Language\", \"/m/06b_j\": \"Russian Language\", \"/m/04306rv\": \"German Language\"}'\n",
    "cmu_movies.loc[68137, \"Movie languages\"] = '{\"/m/02hwyss\": \"Turkish Language\", \"/m/04306rv\": \"German Language\"}'"
   ]
  },
  {
   "cell_type": "markdown",
   "metadata": {},
   "source": [
    "Some movies don't have a complete release data information in the format: `YYYY-MM-DD`. To fix this we will split the release date into three columns: year, month, and day."
   ]
  },
  {
   "cell_type": "code",
   "execution_count": 10,
   "metadata": {},
   "outputs": [],
   "source": [
    "cmu_movies['Movie release Year'] = cmu_movies['Movie release date'].str.split('-').str[0].astype('Int64')\n",
    "cmu_movies['Movie release Month'] = cmu_movies['Movie release date'].str.split('-').str[1].astype('Int64')\n",
    "cmu_movies['Movie release Day'] = cmu_movies['Movie release date'].str.split('-').str[2].astype('Int64')\n",
    "cmu_movies.drop(columns=['Movie release date'], inplace=True)"
   ]
  },
  {
   "cell_type": "markdown",
   "metadata": {},
   "source": [
    "The movies languages, countries and genres contain freebase identifier. Freebase not being around anymore, and to access easily the languages, countries and genres we will seperate the freebase codes from the strings we need."
   ]
  },
  {
   "cell_type": "code",
   "execution_count": 11,
   "metadata": {},
   "outputs": [],
   "source": [
    "cmu_movies['parsed languages'] = cmu_movies['Movie languages'].apply(ast.literal_eval)\n",
    "cmu_movies['language codes'] = cmu_movies['parsed languages'].apply(lambda x: ','.join(list(x.keys())))\n",
    "cmu_movies['languages'] = cmu_movies['parsed languages'].apply(lambda x: ','.join([val.replace(' Language', '') for val in list(x.values())]))\n",
    "cmu_movies.drop(columns=['Movie languages', 'parsed languages'], inplace=True)\n",
    "\n",
    "cmu_movies['parsed countries'] = cmu_movies['Movie countries'].apply(ast.literal_eval)\n",
    "cmu_movies['countries codes'] = cmu_movies['parsed countries'].apply(lambda x: ','.join(list(x.keys())))\n",
    "cmu_movies['countries'] = cmu_movies['parsed countries'].apply(lambda x: ','.join(list(x.values())))\n",
    "cmu_movies.drop(columns=['Movie countries', 'parsed countries'], inplace=True)\n",
    "\n",
    "cmu_movies['parsed genres'] = cmu_movies['Movie genres'].apply(ast.literal_eval)\n",
    "cmu_movies['genres codes'] = cmu_movies['parsed genres'].apply(lambda x: ','.join(list(x.keys())))\n",
    "cmu_movies['genres'] = cmu_movies['parsed genres'].apply(lambda x: ','.join(list(x.values())))\n",
    "cmu_movies.drop(columns=['Movie genres', 'parsed genres'], inplace=True)"
   ]
  },
  {
   "cell_type": "markdown",
   "metadata": {},
   "source": [
    "Let's only keep the columns we need."
   ]
  },
  {
   "cell_type": "code",
   "execution_count": 12,
   "metadata": {},
   "outputs": [],
   "source": [
    "cmu_movies_freebase = cmu_movies[['Freebase movie ID', 'language codes', 'countries codes', 'genres codes']].copy()\n",
    "cmu_movies.drop(columns=['Freebase movie ID', 'language codes', 'countries codes', 'genres codes'], inplace=True)\n",
    "\n",
    "cmu_movies.rename(columns={\n",
    "    'languages': 'Movie languages',\n",
    "    'countries': 'Movie countries',\n",
    "    'genres': 'Movie genres'\n",
    "}, inplace=True)\n",
    "cmu_movies = cmu_movies[['Wikipedia movie ID', 'Movie name', 'Movie release Year', 'Movie box office revenue', 'Movie runtime', 'Movie languages', 'Movie countries', 'Movie genres', \n",
    "                 'Movie release Month', 'Movie release Day']]\n",
    "\n",
    "cmu_movies['Movie languages'] = cmu_movies['Movie languages'].astype('string')\n",
    "cmu_movies['Movie countries'] = cmu_movies['Movie countries'].astype('string')\n",
    "cmu_movies['Movie genres'] = cmu_movies['Movie genres'].astype('string')\n",
    "cmu_movies['Movie release Year'] = pd.to_numeric(cmu_movies['Movie release Year'], downcast='integer')\n",
    "cmu_movies['Movie release Month'] = pd.to_numeric(cmu_movies['Movie release Month'], downcast='integer')\n",
    "cmu_movies['Movie release Day'] = pd.to_numeric(cmu_movies['Movie release Day'], downcast='integer')\n",
    "\n",
    "cmu_movies_freebase['Freebase movie ID'] = cmu_movies_freebase['Freebase movie ID'].astype('string')\n",
    "cmu_movies_freebase['language codes'] = cmu_movies_freebase['language codes'].astype('string')\n",
    "cmu_movies_freebase['countries codes'] = cmu_movies_freebase['countries codes'].astype('string')\n",
    "cmu_movies_freebase['genres codes'] = cmu_movies_freebase['genres codes'].astype('string')"
   ]
  },
  {
   "cell_type": "code",
   "execution_count": 13,
   "metadata": {},
   "outputs": [
    {
     "name": "stdout",
     "output_type": "stream",
     "text": [
      "<class 'pandas.core.frame.DataFrame'>\n",
      "RangeIndex: 81741 entries, 0 to 81740\n",
      "Data columns (total 10 columns):\n",
      " #   Column                    Non-Null Count  Dtype  \n",
      "---  ------                    --------------  -----  \n",
      " 0   Wikipedia movie ID        81741 non-null  int32  \n",
      " 1   Movie name                81741 non-null  string \n",
      " 2   Movie release Year        74839 non-null  Int16  \n",
      " 3   Movie box office revenue  8401 non-null   float64\n",
      " 4   Movie runtime             61291 non-null  float32\n",
      " 5   Movie languages           81741 non-null  string \n",
      " 6   Movie countries           81741 non-null  string \n",
      " 7   Movie genres              81741 non-null  string \n",
      " 8   Movie release Month       42667 non-null  Int8   \n",
      " 9   Movie release Day         39373 non-null  Int8   \n",
      "dtypes: Int16(1), Int8(2), float32(1), float64(1), int32(1), string(4)\n",
      "memory usage: 4.3 MB\n"
     ]
    }
   ],
   "source": [
    "cmu_movies.head(2)\n",
    "cmu_movies.info()"
   ]
  },
  {
   "cell_type": "markdown",
   "metadata": {},
   "source": [
    "Our cmu_movies dataframe thus contains the Metadata for 81,741 movies, extracted from the Noverber 4, 2012 dump of Freebase. (Tab-separated; columns.)\n",
    "1. Wikipedia movie ID\n",
    "2. Freebase movie ID\n",
    "3. Movie name\n",
    "4. Movie release date\n",
    "5. Movie box office revenue\n",
    "6. Movie runtime\n",
    "7. Movie languages (Freebase ID:name tuples)\n",
    "8. Movie countries (Freebase ID:name tuples)\n",
    "9. Movie genres (Freebase ID:name tuples)"
   ]
  },
  {
   "cell_type": "markdown",
   "metadata": {},
   "source": [
    "We will perform similar operations for the characters dataset :"
   ]
  },
  {
   "cell_type": "code",
   "execution_count": 14,
   "metadata": {},
   "outputs": [],
   "source": [
    "cmu_characters = read_dataframe(name='cmu/characters', usecols=[\n",
    "    \"Wikipedia movie ID\",\n",
    "    \"Freebase movie ID\",\n",
    "    \"Movie release date\",\n",
    "    \"Character name\",\n",
    "    \"Actor DOB\",\n",
    "    \"Actor gender\",\n",
    "    \"Actor height\",\n",
    "    \"Actor ethnicity\",\n",
    "    \"Actor name\",\n",
    "    \"Actor age at movie release\",\n",
    "    \"Freebase character/actor map ID\",\n",
    "    \"Freebase character ID\",\n",
    "    \"Freebase actor ID\",\n",
    "])\n"
   ]
  },
  {
   "cell_type": "code",
   "execution_count": 15,
   "metadata": {},
   "outputs": [
    {
     "name": "stdout",
     "output_type": "stream",
     "text": [
      "<class 'pandas.core.frame.DataFrame'>\n",
      "RangeIndex: 450669 entries, 0 to 450668\n",
      "Data columns (total 13 columns):\n",
      " #   Column                           Non-Null Count   Dtype  \n",
      "---  ------                           --------------   -----  \n",
      " 0   Wikipedia movie ID               450669 non-null  int32  \n",
      " 1   Freebase movie ID                450669 non-null  string \n",
      " 2   Movie release date               440674 non-null  string \n",
      " 3   Character name                   192794 non-null  string \n",
      " 4   Actor DOB                        344524 non-null  string \n",
      " 5   Actor gender                     405060 non-null  string \n",
      " 6   Actor height                     154824 non-null  float32\n",
      " 7   Actor ethnicity                  106058 non-null  string \n",
      " 8   Actor name                       449441 non-null  string \n",
      " 9   Actor age at movie release       292556 non-null  float32\n",
      " 10  Freebase character/actor map ID  450669 non-null  string \n",
      " 11  Freebase character ID            192804 non-null  string \n",
      " 12  Freebase actor ID                449854 non-null  string \n",
      "dtypes: float32(2), int32(1), string(10)\n",
      "memory usage: 39.5 MB\n"
     ]
    }
   ],
   "source": [
    "cmu_characters.info()"
   ]
  },
  {
   "cell_type": "markdown",
   "metadata": {},
   "source": [
    "Similar to CMU movies, the release date of the movie isn't `YYYY-MM-DD` accross all rows, we will apply the same strategy."
   ]
  },
  {
   "cell_type": "code",
   "execution_count": 16,
   "metadata": {},
   "outputs": [],
   "source": [
    "cmu_characters['Movie release Year'] = cmu_characters['Movie release date'].str.split('-').str[0].astype('Int64')\n",
    "cmu_characters['Movie release Month'] = cmu_characters['Movie release date'].str.split('-').str[1].astype('Int64')\n",
    "cmu_characters['Movie release Day'] = cmu_characters['Movie release date'].str.split('-').str[2].astype('Int64')\n",
    "cmu_characters.drop(columns=['Movie release date'], inplace=True)"
   ]
  },
  {
   "cell_type": "markdown",
   "metadata": {},
   "source": [
    "Let's do the same for the characters date of birth, but let's first check out of curiosity of course, if the actor's date of birth has some rows in [ISO 8601](https://en.wikipedia.org/wiki/ISO_8601) format."
   ]
  },
  {
   "cell_type": "code",
   "execution_count": 17,
   "metadata": {},
   "outputs": [
    {
     "data": {
      "text/html": [
       "<div>\n",
       "<style scoped>\n",
       "    .dataframe tbody tr th:only-of-type {\n",
       "        vertical-align: middle;\n",
       "    }\n",
       "\n",
       "    .dataframe tbody tr th {\n",
       "        vertical-align: top;\n",
       "    }\n",
       "\n",
       "    .dataframe thead th {\n",
       "        text-align: right;\n",
       "    }\n",
       "</style>\n",
       "<table border=\"1\" class=\"dataframe\">\n",
       "  <thead>\n",
       "    <tr style=\"text-align: right;\">\n",
       "      <th></th>\n",
       "      <th>Wikipedia movie ID</th>\n",
       "      <th>Freebase movie ID</th>\n",
       "      <th>Character name</th>\n",
       "      <th>Actor DOB</th>\n",
       "      <th>Actor gender</th>\n",
       "      <th>Actor height</th>\n",
       "      <th>Actor ethnicity</th>\n",
       "      <th>Actor name</th>\n",
       "      <th>Actor age at movie release</th>\n",
       "      <th>Freebase character/actor map ID</th>\n",
       "      <th>Freebase character ID</th>\n",
       "      <th>Freebase actor ID</th>\n",
       "      <th>Movie release Year</th>\n",
       "      <th>Movie release Month</th>\n",
       "      <th>Movie release Day</th>\n",
       "    </tr>\n",
       "  </thead>\n",
       "  <tbody>\n",
       "    <tr>\n",
       "      <th>2255</th>\n",
       "      <td>9205349</td>\n",
       "      <td>/m/02806zq</td>\n",
       "      <td>&lt;NA&gt;</td>\n",
       "      <td>1930-01-01T00:00:00-04:00</td>\n",
       "      <td>M</td>\n",
       "      <td>NaN</td>\n",
       "      <td>&lt;NA&gt;</td>\n",
       "      <td>Ahmed Ramzy</td>\n",
       "      <td>NaN</td>\n",
       "      <td>/m/02vbjtl</td>\n",
       "      <td>&lt;NA&gt;</td>\n",
       "      <td>/m/02pn6m5</td>\n",
       "      <td>1955</td>\n",
       "      <td>&lt;NA&gt;</td>\n",
       "      <td>&lt;NA&gt;</td>\n",
       "    </tr>\n",
       "    <tr>\n",
       "      <th>39805</th>\n",
       "      <td>35021411</td>\n",
       "      <td>/m/0j63lyh</td>\n",
       "      <td>&lt;NA&gt;</td>\n",
       "      <td>1961-08-04T19:24-10:00</td>\n",
       "      <td>M</td>\n",
       "      <td>1.854</td>\n",
       "      <td>/m/04y8_bm</td>\n",
       "      <td>Barack Obama</td>\n",
       "      <td>NaN</td>\n",
       "      <td>/m/0lyywdw</td>\n",
       "      <td>&lt;NA&gt;</td>\n",
       "      <td>/m/02mjmr</td>\n",
       "      <td>2012</td>\n",
       "      <td>3</td>\n",
       "      <td>15</td>\n",
       "    </tr>\n",
       "    <tr>\n",
       "      <th>69266</th>\n",
       "      <td>11160368</td>\n",
       "      <td>/m/02r22fr</td>\n",
       "      <td>&lt;NA&gt;</td>\n",
       "      <td>1961-08-04T19:24-10:00</td>\n",
       "      <td>M</td>\n",
       "      <td>1.854</td>\n",
       "      <td>/m/04y8_bm</td>\n",
       "      <td>Barack Obama</td>\n",
       "      <td>NaN</td>\n",
       "      <td>/m/0h0zv08</td>\n",
       "      <td>&lt;NA&gt;</td>\n",
       "      <td>/m/02mjmr</td>\n",
       "      <td>2008</td>\n",
       "      <td>&lt;NA&gt;</td>\n",
       "      <td>&lt;NA&gt;</td>\n",
       "    </tr>\n",
       "    <tr>\n",
       "      <th>85802</th>\n",
       "      <td>10573364</td>\n",
       "      <td>/m/02qj4k0</td>\n",
       "      <td>&lt;NA&gt;</td>\n",
       "      <td>1930-01-01T00:00:00-04:00</td>\n",
       "      <td>M</td>\n",
       "      <td>NaN</td>\n",
       "      <td>&lt;NA&gt;</td>\n",
       "      <td>Ahmed Ramzy</td>\n",
       "      <td>NaN</td>\n",
       "      <td>/m/02vc7rc</td>\n",
       "      <td>&lt;NA&gt;</td>\n",
       "      <td>/m/02pn6m5</td>\n",
       "      <td>&lt;NA&gt;</td>\n",
       "      <td>&lt;NA&gt;</td>\n",
       "      <td>&lt;NA&gt;</td>\n",
       "    </tr>\n",
       "    <tr>\n",
       "      <th>102093</th>\n",
       "      <td>24124394</td>\n",
       "      <td>/m/07k7ldh</td>\n",
       "      <td>&lt;NA&gt;</td>\n",
       "      <td>1961-08-04T19:24-10:00</td>\n",
       "      <td>M</td>\n",
       "      <td>1.854</td>\n",
       "      <td>/m/04y8_bm</td>\n",
       "      <td>Barack Obama</td>\n",
       "      <td>NaN</td>\n",
       "      <td>/m/0h0_pds</td>\n",
       "      <td>&lt;NA&gt;</td>\n",
       "      <td>/m/02mjmr</td>\n",
       "      <td>2009</td>\n",
       "      <td>&lt;NA&gt;</td>\n",
       "      <td>&lt;NA&gt;</td>\n",
       "    </tr>\n",
       "    <tr>\n",
       "      <th>118688</th>\n",
       "      <td>34333475</td>\n",
       "      <td>/m/0hzr2vb</td>\n",
       "      <td>&lt;NA&gt;</td>\n",
       "      <td>1961-08-04T19:24-10:00</td>\n",
       "      <td>M</td>\n",
       "      <td>1.854</td>\n",
       "      <td>/m/04y8_bm</td>\n",
       "      <td>Barack Obama</td>\n",
       "      <td>NaN</td>\n",
       "      <td>/m/0mzr2b6</td>\n",
       "      <td>&lt;NA&gt;</td>\n",
       "      <td>/m/02mjmr</td>\n",
       "      <td>2011</td>\n",
       "      <td>4</td>\n",
       "      <td>&lt;NA&gt;</td>\n",
       "    </tr>\n",
       "    <tr>\n",
       "      <th>142871</th>\n",
       "      <td>7451665</td>\n",
       "      <td>/m/0kv7wh</td>\n",
       "      <td>&lt;NA&gt;</td>\n",
       "      <td>1930-01-01T00:00:00-04:00</td>\n",
       "      <td>M</td>\n",
       "      <td>NaN</td>\n",
       "      <td>&lt;NA&gt;</td>\n",
       "      <td>Ahmed Ramzy</td>\n",
       "      <td>NaN</td>\n",
       "      <td>/m/045z9sd</td>\n",
       "      <td>&lt;NA&gt;</td>\n",
       "      <td>/m/02pn6m5</td>\n",
       "      <td>1971</td>\n",
       "      <td>&lt;NA&gt;</td>\n",
       "      <td>&lt;NA&gt;</td>\n",
       "    </tr>\n",
       "    <tr>\n",
       "      <th>155360</th>\n",
       "      <td>9232940</td>\n",
       "      <td>/m/02812z4</td>\n",
       "      <td>&lt;NA&gt;</td>\n",
       "      <td>1930-01-01T00:00:00-04:00</td>\n",
       "      <td>M</td>\n",
       "      <td>NaN</td>\n",
       "      <td>&lt;NA&gt;</td>\n",
       "      <td>Ahmed Ramzy</td>\n",
       "      <td>NaN</td>\n",
       "      <td>/m/02vd09q</td>\n",
       "      <td>&lt;NA&gt;</td>\n",
       "      <td>/m/02pn6m5</td>\n",
       "      <td>1956</td>\n",
       "      <td>&lt;NA&gt;</td>\n",
       "      <td>&lt;NA&gt;</td>\n",
       "    </tr>\n",
       "    <tr>\n",
       "      <th>246747</th>\n",
       "      <td>10772229</td>\n",
       "      <td>/m/02qpj8l</td>\n",
       "      <td>&lt;NA&gt;</td>\n",
       "      <td>1930-01-01T00:00:00-04:00</td>\n",
       "      <td>M</td>\n",
       "      <td>NaN</td>\n",
       "      <td>&lt;NA&gt;</td>\n",
       "      <td>Ahmed Ramzy</td>\n",
       "      <td>NaN</td>\n",
       "      <td>/m/02vc4h0</td>\n",
       "      <td>&lt;NA&gt;</td>\n",
       "      <td>/m/02pn6m5</td>\n",
       "      <td>&lt;NA&gt;</td>\n",
       "      <td>&lt;NA&gt;</td>\n",
       "      <td>&lt;NA&gt;</td>\n",
       "    </tr>\n",
       "    <tr>\n",
       "      <th>249209</th>\n",
       "      <td>28778357</td>\n",
       "      <td>/m/0ddg765</td>\n",
       "      <td>&lt;NA&gt;</td>\n",
       "      <td>1961-08-04T19:24-10:00</td>\n",
       "      <td>M</td>\n",
       "      <td>1.854</td>\n",
       "      <td>/m/04y8_bm</td>\n",
       "      <td>Barack Obama</td>\n",
       "      <td>NaN</td>\n",
       "      <td>/m/0h403qh</td>\n",
       "      <td>&lt;NA&gt;</td>\n",
       "      <td>/m/02mjmr</td>\n",
       "      <td>2009</td>\n",
       "      <td>2</td>\n",
       "      <td>16</td>\n",
       "    </tr>\n",
       "    <tr>\n",
       "      <th>308337</th>\n",
       "      <td>9188909</td>\n",
       "      <td>/m/027_nzv</td>\n",
       "      <td>&lt;NA&gt;</td>\n",
       "      <td>1930-01-01T00:00:00-04:00</td>\n",
       "      <td>M</td>\n",
       "      <td>NaN</td>\n",
       "      <td>&lt;NA&gt;</td>\n",
       "      <td>Ahmed Ramzy</td>\n",
       "      <td>NaN</td>\n",
       "      <td>/m/02vd44q</td>\n",
       "      <td>&lt;NA&gt;</td>\n",
       "      <td>/m/02pn6m5</td>\n",
       "      <td>1955</td>\n",
       "      <td>&lt;NA&gt;</td>\n",
       "      <td>&lt;NA&gt;</td>\n",
       "    </tr>\n",
       "  </tbody>\n",
       "</table>\n",
       "</div>"
      ],
      "text/plain": [
       "        Wikipedia movie ID Freebase movie ID Character name  \\\n",
       "2255               9205349        /m/02806zq           <NA>   \n",
       "39805             35021411        /m/0j63lyh           <NA>   \n",
       "69266             11160368        /m/02r22fr           <NA>   \n",
       "85802             10573364        /m/02qj4k0           <NA>   \n",
       "102093            24124394        /m/07k7ldh           <NA>   \n",
       "118688            34333475        /m/0hzr2vb           <NA>   \n",
       "142871             7451665         /m/0kv7wh           <NA>   \n",
       "155360             9232940        /m/02812z4           <NA>   \n",
       "246747            10772229        /m/02qpj8l           <NA>   \n",
       "249209            28778357        /m/0ddg765           <NA>   \n",
       "308337             9188909        /m/027_nzv           <NA>   \n",
       "\n",
       "                        Actor DOB Actor gender  Actor height Actor ethnicity  \\\n",
       "2255    1930-01-01T00:00:00-04:00            M           NaN            <NA>   \n",
       "39805      1961-08-04T19:24-10:00            M         1.854      /m/04y8_bm   \n",
       "69266      1961-08-04T19:24-10:00            M         1.854      /m/04y8_bm   \n",
       "85802   1930-01-01T00:00:00-04:00            M           NaN            <NA>   \n",
       "102093     1961-08-04T19:24-10:00            M         1.854      /m/04y8_bm   \n",
       "118688     1961-08-04T19:24-10:00            M         1.854      /m/04y8_bm   \n",
       "142871  1930-01-01T00:00:00-04:00            M           NaN            <NA>   \n",
       "155360  1930-01-01T00:00:00-04:00            M           NaN            <NA>   \n",
       "246747  1930-01-01T00:00:00-04:00            M           NaN            <NA>   \n",
       "249209     1961-08-04T19:24-10:00            M         1.854      /m/04y8_bm   \n",
       "308337  1930-01-01T00:00:00-04:00            M           NaN            <NA>   \n",
       "\n",
       "          Actor name  Actor age at movie release  \\\n",
       "2255     Ahmed Ramzy                         NaN   \n",
       "39805   Barack Obama                         NaN   \n",
       "69266   Barack Obama                         NaN   \n",
       "85802    Ahmed Ramzy                         NaN   \n",
       "102093  Barack Obama                         NaN   \n",
       "118688  Barack Obama                         NaN   \n",
       "142871   Ahmed Ramzy                         NaN   \n",
       "155360   Ahmed Ramzy                         NaN   \n",
       "246747   Ahmed Ramzy                         NaN   \n",
       "249209  Barack Obama                         NaN   \n",
       "308337   Ahmed Ramzy                         NaN   \n",
       "\n",
       "       Freebase character/actor map ID Freebase character ID  \\\n",
       "2255                        /m/02vbjtl                  <NA>   \n",
       "39805                       /m/0lyywdw                  <NA>   \n",
       "69266                       /m/0h0zv08                  <NA>   \n",
       "85802                       /m/02vc7rc                  <NA>   \n",
       "102093                      /m/0h0_pds                  <NA>   \n",
       "118688                      /m/0mzr2b6                  <NA>   \n",
       "142871                      /m/045z9sd                  <NA>   \n",
       "155360                      /m/02vd09q                  <NA>   \n",
       "246747                      /m/02vc4h0                  <NA>   \n",
       "249209                      /m/0h403qh                  <NA>   \n",
       "308337                      /m/02vd44q                  <NA>   \n",
       "\n",
       "       Freebase actor ID  Movie release Year  Movie release Month  \\\n",
       "2255          /m/02pn6m5                1955                 <NA>   \n",
       "39805          /m/02mjmr                2012                    3   \n",
       "69266          /m/02mjmr                2008                 <NA>   \n",
       "85802         /m/02pn6m5                <NA>                 <NA>   \n",
       "102093         /m/02mjmr                2009                 <NA>   \n",
       "118688         /m/02mjmr                2011                    4   \n",
       "142871        /m/02pn6m5                1971                 <NA>   \n",
       "155360        /m/02pn6m5                1956                 <NA>   \n",
       "246747        /m/02pn6m5                <NA>                 <NA>   \n",
       "249209         /m/02mjmr                2009                    2   \n",
       "308337        /m/02pn6m5                1955                 <NA>   \n",
       "\n",
       "        Movie release Day  \n",
       "2255                 <NA>  \n",
       "39805                  15  \n",
       "69266                <NA>  \n",
       "85802                <NA>  \n",
       "102093               <NA>  \n",
       "118688               <NA>  \n",
       "142871               <NA>  \n",
       "155360               <NA>  \n",
       "246747               <NA>  \n",
       "249209                 16  \n",
       "308337               <NA>  "
      ]
     },
     "execution_count": 17,
     "metadata": {},
     "output_type": "execute_result"
    }
   ],
   "source": [
    "cmu_characters[cmu_characters[\"Actor DOB\"].str.contains(\"T\")]"
   ]
  },
  {
   "cell_type": "markdown",
   "metadata": {},
   "source": [
    "Let's take this into account when we are creating three columns: year, month and day for the actor's date of birth."
   ]
  },
  {
   "cell_type": "code",
   "execution_count": 18,
   "metadata": {},
   "outputs": [],
   "source": [
    "cmu_characters['Actor DOB'] = cmu_characters['Actor DOB'].str.split('T', expand=True)[0]\n",
    "cmu_characters['Actor DOB Year'] = cmu_characters['Actor DOB'].str.split('-').str[0].astype('Int64')\n",
    "cmu_characters['Actor DOB Month'] = cmu_characters['Actor DOB'].str.split('-').str[1].astype('Int64')\n",
    "cmu_characters['Actor DOB Day'] = cmu_characters['Actor DOB'].str.split('-').str[2].astype('Int64')\n",
    "cmu_characters.drop(columns=['Actor DOB'], inplace=True)"
   ]
  },
  {
   "cell_type": "markdown",
   "metadata": {},
   "source": [
    "Let's extract the freebase codes to seperate dataframe (exception for `Freebase actor ID` we will need it later). "
   ]
  },
  {
   "cell_type": "code",
   "execution_count": 19,
   "metadata": {},
   "outputs": [
    {
     "name": "stdout",
     "output_type": "stream",
     "text": [
      "<class 'pandas.core.frame.DataFrame'>\n",
      "RangeIndex: 450669 entries, 0 to 450668\n",
      "Data columns (total 14 columns):\n",
      " #   Column                      Non-Null Count   Dtype   \n",
      "---  ------                      --------------   -----   \n",
      " 0   Wikipedia movie ID          450669 non-null  int32   \n",
      " 1   Movie release Year          440674 non-null  Int16   \n",
      " 2   Character name              192794 non-null  string  \n",
      " 3   Actor DOB Year              344524 non-null  Int16   \n",
      " 4   Actor gender                405060 non-null  category\n",
      " 5   Actor height                154824 non-null  float32 \n",
      " 6   Actor ethnicity             106058 non-null  string  \n",
      " 7   Actor name                  449441 non-null  string  \n",
      " 8   Actor age at movie release  292556 non-null  float32 \n",
      " 9   Freebase actor ID           449854 non-null  string  \n",
      " 10  Movie release Month         290872 non-null  Int8    \n",
      " 11  Movie release Day           273887 non-null  Int8    \n",
      " 12  Actor DOB Month             330658 non-null  Int8    \n",
      " 13  Actor DOB Day               329918 non-null  Int8    \n",
      "dtypes: Int16(2), Int8(4), category(1), float32(2), int32(1), string(4)\n",
      "memory usage: 25.4 MB\n"
     ]
    }
   ],
   "source": [
    "cmu_characters_freebase = cmu_characters[['Freebase movie ID', 'Freebase character/actor map ID', 'Freebase character ID',]].copy()\n",
    "cmu_characters.drop(columns=['Freebase movie ID', 'Freebase character/actor map ID', 'Freebase character ID', ], inplace=True)\n",
    "\n",
    "cmu_characters = cmu_characters[['Wikipedia movie ID', 'Movie release Year', 'Character name', 'Actor DOB Year', 'Actor gender', \n",
    "                                 'Actor height', 'Actor ethnicity', 'Actor name', 'Actor age at movie release', 'Freebase actor ID', \n",
    "                                 'Movie release Month', 'Movie release Day', 'Actor DOB Month', 'Actor DOB Day']]\n",
    "\n",
    "cmu_characters['Actor gender'] = cmu_characters['Actor gender'].astype('category')\n",
    "\n",
    "cmu_characters['Movie release Year'] = pd.to_numeric(cmu_characters['Movie release Year'], downcast='integer')\n",
    "cmu_characters['Actor DOB Year'] = pd.to_numeric(cmu_characters['Actor DOB Year'], downcast='integer')\n",
    "cmu_characters['Actor age at movie release'] = pd.to_numeric(cmu_characters['Actor age at movie release'], downcast='integer')\n",
    "cmu_characters['Movie release Month'] = pd.to_numeric(cmu_characters['Movie release Month'], downcast='integer')\n",
    "cmu_characters['Movie release Day'] = pd.to_numeric(cmu_characters['Movie release Day'], downcast='integer')\n",
    "cmu_characters['Actor DOB Month'] = pd.to_numeric(cmu_characters['Actor DOB Month'], downcast='integer')\n",
    "cmu_characters['Actor DOB Day'] = pd.to_numeric(cmu_characters['Actor DOB Day'], downcast='integer')\n",
    "\n",
    "cmu_characters_freebase['Freebase movie ID'] = cmu_characters_freebase['Freebase movie ID'].astype('string')\n",
    "cmu_characters_freebase['Freebase character/actor map ID'] = cmu_characters_freebase['Freebase character/actor map ID'].astype('string')\n",
    "cmu_characters_freebase['Freebase character ID'] = cmu_characters_freebase['Freebase character ID'].astype('string')\n",
    "\n",
    "cmu_characters.info()"
   ]
  },
  {
   "cell_type": "markdown",
   "metadata": {},
   "source": [
    "Our 'cmu_characters' dataframe thus contains Metadata for 450,669 characters aligned to the movies above, extracted from the Noverber 4, 2012 dump of Freebase. Tab-separated; columns:\n",
    "\n",
    "1. Wikipedia movie ID\n",
    "2. Freebase movie ID\n",
    "3. Movie release date\n",
    "4. Character name\n",
    "5. Actor date of birth\n",
    "6. Actor gender\n",
    "7. Actor height (in meters)\n",
    "8. Actor ethnicity (Freebase ID)\n",
    "9. Actor name\n",
    "10. Actor age at movie release\n",
    "11. Freebase character/actor map ID\n",
    "12. Freebase character ID\n",
    "13. Freebase actor ID"
   ]
  },
  {
   "cell_type": "markdown",
   "metadata": {},
   "source": [
    "#### Add other datasets here from the CMU depending on what we analyse further down !"
   ]
  },
  {
   "cell_type": "markdown",
   "metadata": {},
   "source": [
    "### 1.2 Insights on CMU's metadata state <a class=\"anchor\" id=\"1.2\"></a>"
   ]
  },
  {
   "cell_type": "markdown",
   "metadata": {},
   "source": [
    "We have loaded the data under an exploitable form, but lets us now look if everything that is in this dataframe is usable further down the road :\n",
    "\n",
    "####  Exploring the movies dataset"
   ]
  },
  {
   "cell_type": "markdown",
   "metadata": {},
   "source": [
    "From ealier, we know that the movies dataset has 81741 entries.\n",
    "\n",
    "Checking if all entries correspond to unique movies:"
   ]
  },
  {
   "cell_type": "code",
   "execution_count": 20,
   "metadata": {},
   "outputs": [
    {
     "name": "stdout",
     "output_type": "stream",
     "text": [
      "We have 0 missing Wikipedia movie IDs\n",
      "We have 81741 unique Wikipedia movie Ids in the dataset\n",
      "We have 75478 unique movie names in the dataset\n"
     ]
    }
   ],
   "source": [
    "print('We have',cmu_movies['Wikipedia movie ID'].isna().sum(),'missing Wikipedia movie IDs')\n",
    "print('We have',len(cmu_movies['Wikipedia movie ID'].unique()),'unique Wikipedia movie Ids in the dataset')\n",
    "print('We have',len(cmu_movies['Movie name'].unique()),'unique movie names in the dataset')"
   ]
  },
  {
   "cell_type": "markdown",
   "metadata": {},
   "source": [
    "All wikipedia movie IDs are unique, but not all movie names. Might be some duplicate movie names. Some examples of movie names that are shared by several wikipedia movie IDs ?"
   ]
  },
  {
   "cell_type": "code",
   "execution_count": 21,
   "metadata": {},
   "outputs": [
    {
     "data": {
      "text/html": [
       "<div>\n",
       "<style scoped>\n",
       "    .dataframe tbody tr th:only-of-type {\n",
       "        vertical-align: middle;\n",
       "    }\n",
       "\n",
       "    .dataframe tbody tr th {\n",
       "        vertical-align: top;\n",
       "    }\n",
       "\n",
       "    .dataframe thead th {\n",
       "        text-align: right;\n",
       "    }\n",
       "</style>\n",
       "<table border=\"1\" class=\"dataframe\">\n",
       "  <thead>\n",
       "    <tr style=\"text-align: right;\">\n",
       "      <th></th>\n",
       "      <th>Wikipedia movie ID</th>\n",
       "      <th>Movie name</th>\n",
       "      <th>Movie release Year</th>\n",
       "      <th>Movie box office revenue</th>\n",
       "      <th>Movie runtime</th>\n",
       "      <th>Movie languages</th>\n",
       "      <th>Movie countries</th>\n",
       "      <th>Movie genres</th>\n",
       "      <th>Movie release Month</th>\n",
       "      <th>Movie release Day</th>\n",
       "    </tr>\n",
       "  </thead>\n",
       "  <tbody>\n",
       "    <tr>\n",
       "      <th>5</th>\n",
       "      <td>13696889</td>\n",
       "      <td>The Gangsters</td>\n",
       "      <td>1913</td>\n",
       "      <td>NaN</td>\n",
       "      <td>35.0</td>\n",
       "      <td>Silent film,English</td>\n",
       "      <td>United States of America</td>\n",
       "      <td>Short Film,Silent film,Indie,Black-and-white,C...</td>\n",
       "      <td>5</td>\n",
       "      <td>29</td>\n",
       "    </tr>\n",
       "    <tr>\n",
       "      <th>6</th>\n",
       "      <td>18998739</td>\n",
       "      <td>The Sorcerer's Apprentice</td>\n",
       "      <td>2002</td>\n",
       "      <td>NaN</td>\n",
       "      <td>86.0</td>\n",
       "      <td>English</td>\n",
       "      <td>South Africa</td>\n",
       "      <td>Family Film,Fantasy,Adventure,World cinema</td>\n",
       "      <td>&lt;NA&gt;</td>\n",
       "      <td>&lt;NA&gt;</td>\n",
       "    </tr>\n",
       "    <tr>\n",
       "      <th>13</th>\n",
       "      <td>171005</td>\n",
       "      <td>Henry V</td>\n",
       "      <td>1989</td>\n",
       "      <td>10161099.0</td>\n",
       "      <td>137.0</td>\n",
       "      <td>English</td>\n",
       "      <td>United Kingdom</td>\n",
       "      <td>Costume drama,War film,Epic,Period piece,Drama...</td>\n",
       "      <td>11</td>\n",
       "      <td>8</td>\n",
       "    </tr>\n",
       "    <tr>\n",
       "      <th>24</th>\n",
       "      <td>31983669</td>\n",
       "      <td>Road to Life</td>\n",
       "      <td>1931</td>\n",
       "      <td>NaN</td>\n",
       "      <td>104.0</td>\n",
       "      <td>Russian</td>\n",
       "      <td>Soviet Union</td>\n",
       "      <td>Drama</td>\n",
       "      <td>9</td>\n",
       "      <td>30</td>\n",
       "    </tr>\n",
       "    <tr>\n",
       "      <th>43</th>\n",
       "      <td>26878691</td>\n",
       "      <td>Mysterious Island</td>\n",
       "      <td>1982</td>\n",
       "      <td>NaN</td>\n",
       "      <td>100.0</td>\n",
       "      <td>Standard Mandarin</td>\n",
       "      <td>Hong Kong</td>\n",
       "      <td>Action/Adventure,Wuxia,Martial Arts Film,Chine...</td>\n",
       "      <td>&lt;NA&gt;</td>\n",
       "      <td>&lt;NA&gt;</td>\n",
       "    </tr>\n",
       "  </tbody>\n",
       "</table>\n",
       "</div>"
      ],
      "text/plain": [
       "    Wikipedia movie ID                 Movie name  Movie release Year  \\\n",
       "5             13696889              The Gangsters                1913   \n",
       "6             18998739  The Sorcerer's Apprentice                2002   \n",
       "13              171005                    Henry V                1989   \n",
       "24            31983669               Road to Life                1931   \n",
       "43            26878691          Mysterious Island                1982   \n",
       "\n",
       "    Movie box office revenue  Movie runtime      Movie languages  \\\n",
       "5                        NaN           35.0  Silent film,English   \n",
       "6                        NaN           86.0              English   \n",
       "13                10161099.0          137.0              English   \n",
       "24                       NaN          104.0              Russian   \n",
       "43                       NaN          100.0    Standard Mandarin   \n",
       "\n",
       "             Movie countries  \\\n",
       "5   United States of America   \n",
       "6               South Africa   \n",
       "13            United Kingdom   \n",
       "24              Soviet Union   \n",
       "43                 Hong Kong   \n",
       "\n",
       "                                         Movie genres  Movie release Month  \\\n",
       "5   Short Film,Silent film,Indie,Black-and-white,C...                    5   \n",
       "6          Family Film,Fantasy,Adventure,World cinema                 <NA>   \n",
       "13  Costume drama,War film,Epic,Period piece,Drama...                   11   \n",
       "24                                              Drama                    9   \n",
       "43  Action/Adventure,Wuxia,Martial Arts Film,Chine...                 <NA>   \n",
       "\n",
       "    Movie release Day  \n",
       "5                  29  \n",
       "6                <NA>  \n",
       "13                  8  \n",
       "24                 30  \n",
       "43               <NA>  "
      ]
     },
     "execution_count": 21,
     "metadata": {},
     "output_type": "execute_result"
    }
   ],
   "source": [
    "# We group the films by Movie names and retrieve their Wiki Movie ID numbers\n",
    "duplicate_movie_names = cmu_movies.groupby('Movie name')['Wikipedia movie ID'].nunique()\n",
    "# We filter those for duplicate movie names\n",
    "duplicate_movie_names = duplicate_movie_names[duplicate_movie_names > 1]\n",
    "\n",
    "# We Get a list of duplicate movie names\n",
    "duplicate_movie_names_list = duplicate_movie_names.index.tolist()\n",
    "\n",
    "# We create a DataFrame containing only the rows with duplicate movie names\n",
    "duplicates = cmu_movies[cmu_movies['Movie name'].isin(duplicate_movie_names_list)]\n",
    "\n",
    "# We finally print the DataFrame with duplicate movie names\n",
    "duplicates.head()"
   ]
  },
  {
   "cell_type": "code",
   "execution_count": 22,
   "metadata": {},
   "outputs": [
    {
     "data": {
      "text/html": [
       "<div>\n",
       "<style scoped>\n",
       "    .dataframe tbody tr th:only-of-type {\n",
       "        vertical-align: middle;\n",
       "    }\n",
       "\n",
       "    .dataframe tbody tr th {\n",
       "        vertical-align: top;\n",
       "    }\n",
       "\n",
       "    .dataframe thead th {\n",
       "        text-align: right;\n",
       "    }\n",
       "</style>\n",
       "<table border=\"1\" class=\"dataframe\">\n",
       "  <thead>\n",
       "    <tr style=\"text-align: right;\">\n",
       "      <th></th>\n",
       "      <th>Wikipedia movie ID</th>\n",
       "      <th>Movie name</th>\n",
       "      <th>Movie release Year</th>\n",
       "      <th>Movie box office revenue</th>\n",
       "      <th>Movie runtime</th>\n",
       "      <th>Movie languages</th>\n",
       "      <th>Movie countries</th>\n",
       "      <th>Movie genres</th>\n",
       "      <th>Movie release Month</th>\n",
       "      <th>Movie release Day</th>\n",
       "    </tr>\n",
       "  </thead>\n",
       "  <tbody>\n",
       "    <tr>\n",
       "      <th>6</th>\n",
       "      <td>18998739</td>\n",
       "      <td>The Sorcerer's Apprentice</td>\n",
       "      <td>2002</td>\n",
       "      <td>NaN</td>\n",
       "      <td>86.0</td>\n",
       "      <td>English</td>\n",
       "      <td>South Africa</td>\n",
       "      <td>Family Film,Fantasy,Adventure,World cinema</td>\n",
       "      <td>&lt;NA&gt;</td>\n",
       "      <td>&lt;NA&gt;</td>\n",
       "    </tr>\n",
       "    <tr>\n",
       "      <th>18151</th>\n",
       "      <td>18997933</td>\n",
       "      <td>The Sorcerer's Apprentice</td>\n",
       "      <td>1955</td>\n",
       "      <td>NaN</td>\n",
       "      <td>13.0</td>\n",
       "      <td>English</td>\n",
       "      <td>United States of America,West Germany</td>\n",
       "      <td>Short Film</td>\n",
       "      <td>5</td>\n",
       "      <td>&lt;NA&gt;</td>\n",
       "    </tr>\n",
       "    <tr>\n",
       "      <th>49733</th>\n",
       "      <td>12621957</td>\n",
       "      <td>The Sorcerer's Apprentice</td>\n",
       "      <td>2010</td>\n",
       "      <td>215283742.0</td>\n",
       "      <td>111.0</td>\n",
       "      <td>English</td>\n",
       "      <td>United States of America</td>\n",
       "      <td>Science Fiction,Adventure,Fantasy,Comedy,Drama...</td>\n",
       "      <td>7</td>\n",
       "      <td>8</td>\n",
       "    </tr>\n",
       "  </tbody>\n",
       "</table>\n",
       "</div>"
      ],
      "text/plain": [
       "       Wikipedia movie ID                 Movie name  Movie release Year  \\\n",
       "6                18998739  The Sorcerer's Apprentice                2002   \n",
       "18151            18997933  The Sorcerer's Apprentice                1955   \n",
       "49733            12621957  The Sorcerer's Apprentice                2010   \n",
       "\n",
       "       Movie box office revenue  Movie runtime Movie languages  \\\n",
       "6                           NaN           86.0         English   \n",
       "18151                       NaN           13.0         English   \n",
       "49733               215283742.0          111.0         English   \n",
       "\n",
       "                             Movie countries  \\\n",
       "6                               South Africa   \n",
       "18151  United States of America,West Germany   \n",
       "49733               United States of America   \n",
       "\n",
       "                                            Movie genres  Movie release Month  \\\n",
       "6             Family Film,Fantasy,Adventure,World cinema                 <NA>   \n",
       "18151                                         Short Film                    5   \n",
       "49733  Science Fiction,Adventure,Fantasy,Comedy,Drama...                    7   \n",
       "\n",
       "       Movie release Day  \n",
       "6                   <NA>  \n",
       "18151               <NA>  \n",
       "49733                  8  "
      ]
     },
     "execution_count": 22,
     "metadata": {},
     "output_type": "execute_result"
    }
   ],
   "source": [
    "cmu_movies[cmu_movies['Movie name'] == 'The Sorcerer\\'s Apprentice']"
   ]
  },
  {
   "cell_type": "markdown",
   "metadata": {},
   "source": [
    "As we can expect, these correspond to \"generic\" movie names that are given to different movies in our dataset.\n",
    "\n",
    "--> **Retrieving the movies based on their ID and not their name will be safer to avoid duplicates.**\n",
    "\n",
    "A very important element of the movies if we aim to quantify the success of the latter is its revenue. Let us look at how this looks in our cmu_movies dataset :"
   ]
  },
  {
   "cell_type": "code",
   "execution_count": 24,
   "metadata": {},
   "outputs": [
    {
     "name": "stdout",
     "output_type": "stream",
     "text": [
      "Out of the 81741 movies in the dataset, 73340 have no exploitable Box office revenue values.\n"
     ]
    }
   ],
   "source": [
    "print('Out of the 81741 movies in the dataset,', cmu_movies['Movie box office revenue'].isna().sum(),'have no exploitable Box office revenue values.')"
   ]
  },
  {
   "cell_type": "markdown",
   "metadata": {},
   "source": [
    "**--> That's 89.7 % of all the movie entries, only counting the NaN values. Complicated to know the extent to which we would be able to use revenue values without enriching it, it may be limiting otherwise.**\n",
    "\n",
    "\n",
    "\n",
    "We then also want to know about the characteristics of the movies themselves. First, how many entries have non-valid / missing Movie languages info ?"
   ]
  },
  {
   "cell_type": "code",
   "execution_count": 26,
   "metadata": {},
   "outputs": [
    {
     "name": "stdout",
     "output_type": "stream",
     "text": [
      "We have 0 entries that have missing (NA) movie languages info\n",
      "We have 13865 entries that have wrong movie languages info\n"
     ]
    }
   ],
   "source": [
    "print('We have',cmu_movies['Movie languages'].isna().sum(),'entries that have missing (NA) movie languages info')\n",
    "print('We have', cmu_movies['Movie languages'].apply(lambda x: len(x) == 0).sum(),'entries that have wrong movie languages info')"
   ]
  },
  {
   "cell_type": "markdown",
   "metadata": {},
   "source": [
    "That's 16.96% of the total movie entries.\n",
    "In the other 67 876 rows with existing info, let's look at the distribution."
   ]
  },
  {
   "cell_type": "markdown",
   "metadata": {},
   "source": [
    "A movie can of course contain several \"Movie languages\".  As this column is a string, what's done below is to simply, from a string and assuming that languages are separated by a ',' withing the string, extract the different languages for each movie to be able to count them using a dictionnary. We also define a function that, based on a 'count' dictionnary, will plot the corresponding histogram of 20 most present elements.\n"
   ]
  },
  {
   "cell_type": "code",
   "execution_count": 27,
   "metadata": {},
   "outputs": [],
   "source": [
    "def working_strip(curr_string, separator):\n",
    "    li = []\n",
    "    string_left = True\n",
    "    working_string = curr_string\n",
    "    while string_left:\n",
    "        loc = working_string.find(separator)\n",
    "        string_left = (loc != -1)\n",
    "        if string_left :\n",
    "            while (working_string[:loc])[0] == ' ' :\n",
    "                  working_string = working_string[1:]\n",
    "                  loc-=1 \n",
    "            li.append(working_string[:loc])\n",
    "            working_string = working_string[loc + 1:]\n",
    "        else:\n",
    "            \n",
    "            while working_string[:loc][0] == ' ' :\n",
    "                  working_string = working_string[1:]\n",
    "                  loc-=1\n",
    "            li.append(working_string)       \n",
    "    return li\n",
    "\n",
    "def string_to_str_lists(str_input):\n",
    "        process = working_strip(str_input, ',')\n",
    "        return process\n",
    "\n",
    "def count_dict(df, column):\n",
    "    languages_count_dic = {}\n",
    "\n",
    "    for j, value in enumerate(df.loc[:,column]):\n",
    "    \n",
    "        if len(value) != 0 :\n",
    "\n",
    "            curr_movie_languages = string_to_str_lists(value)\n",
    "            for lang in curr_movie_languages :\n",
    "            \n",
    "                if lang in languages_count_dic :\n",
    "                    languages_count_dic[lang] += 1 \n",
    "\n",
    "                else :\n",
    "                    languages_count_dic[lang] = 1\n",
    "                #print(languages_count_dic)\n",
    "    return languages_count_dic\n",
    "\n",
    "\n",
    "def plot_count_histogram(count_dict,element) :\n",
    "\n",
    "    sorted_counts = sorted(count_dict.items(), key=lambda x: x[1], reverse=True)\n",
    "\n",
    "    top_elements, top_counts = zip(*sorted_counts[:20])\n",
    "\n",
    "\n",
    "    plt.figure(figsize=(12, 6))\n",
    "    plt.bar(top_elements, top_counts)\n",
    "    plt.xlabel(element)\n",
    "    plt.ylabel('Counts')\n",
    "    plt.title(element+' Counts Histogram')\n",
    "    plt.xticks(rotation=75) \n",
    "    \n",
    "    plt.xticks(fontsize=8)\n",
    "    \n",
    "    plt.show()  "
   ]
  },
  {
   "cell_type": "code",
   "execution_count": 28,
   "metadata": {},
   "outputs": [
    {
     "name": "stdout",
     "output_type": "stream",
     "text": [
      "We have a total of 211 distinct languages in which movies have been made/translated\n"
     ]
    }
   ],
   "source": [
    "lang_count_dict = count_dict(cmu_movies,'Movie languages')\n",
    "print('We have a total of', len(lang_count_dict),'distinct languages in which movies have been made/translated')"
   ]
  },
  {
   "cell_type": "code",
   "execution_count": 29,
   "metadata": {},
   "outputs": [
    {
     "data": {
      "image/png": "[encoded data removed]",
      "text/plain": [
       "<Figure size 1200x600 with 1 Axes>"
      ]
     },
     "metadata": {},
     "output_type": "display_data"
    }
   ],
   "source": [
    "plot_count_histogram(lang_count_dict,'Languages')"
   ]
  },
  {
   "cell_type": "markdown",
   "metadata": {},
   "source": [
    "**--> 40 891 movies have been distributed in english : careful if doing analysis, huge number compared to the others (3744 for Hindi, even less for the others). This could very well lead to a bias if we had to draw analysis based on the movie language.**\n",
    "\n",
    "\n",
    "Let us now do a similar analysis, but with the Movie countries :"
   ]
  },
  {
   "cell_type": "code",
   "execution_count": 30,
   "metadata": {},
   "outputs": [
    {
     "name": "stdout",
     "output_type": "stream",
     "text": [
      "We have 0 entries that have missing (NA) movie languages info\n",
      "We have 8154 entries that have wrong movie languages info\n"
     ]
    }
   ],
   "source": [
    "print('We have',cmu_movies['Movie countries'].isna().sum(),'entries that have missing (NA) movie languages info')\n",
    "print('We have', cmu_movies['Movie countries'].apply(lambda x: len(x) == 0).sum(),'entries that have wrong movie languages info')"
   ]
  },
  {
   "cell_type": "markdown",
   "metadata": {},
   "source": [
    "Roughly 10% of the data. Are these ones also the ones with \"wrong\" Movie languages info?"
   ]
  },
  {
   "cell_type": "code",
   "execution_count": 31,
   "metadata": {},
   "outputs": [
    {
     "name": "stdout",
     "output_type": "stream",
     "text": [
      "5853\n"
     ]
    }
   ],
   "source": [
    "countries_and_languages_missing = len(cmu_movies[cmu_movies.apply(lambda row: len(row['Movie languages']) == 0 and len(row['Movie countries']) == 0, axis=1)])\n",
    "print(countries_and_languages_missing)"
   ]
  },
  {
   "cell_type": "markdown",
   "metadata": {},
   "source": [
    "There thus is 5853 movies for which both the movie languages and countries are missing, which is reasonable on the 81k movies. Once again, let us focus rapidly on the exploitable data :"
   ]
  },
  {
   "cell_type": "code",
   "execution_count": 32,
   "metadata": {},
   "outputs": [
    {
     "name": "stdout",
     "output_type": "stream",
     "text": [
      "We have a total of 145 distinct countries in which movies have been made\n"
     ]
    }
   ],
   "source": [
    "countries_count_dict = count_dict(cmu_movies,'Movie countries')\n",
    "print('We have a total of', len(countries_count_dict),'distinct countries in which movies have been made')"
   ]
  },
  {
   "cell_type": "code",
   "execution_count": 33,
   "metadata": {},
   "outputs": [
    {
     "data": {
      "image/png": "[encoded data removed]",
      "text/plain": [
       "<Figure size 1200x600 with 1 Axes>"
      ]
     },
     "metadata": {},
     "output_type": "display_data"
    }
   ],
   "source": [
    "plot_count_histogram(countries_count_dict,'Countries')"
   ]
  },
  {
   "cell_type": "markdown",
   "metadata": {},
   "source": [
    "**--> Once again, we have one element that is extremely present. This time, it is the United States. Be careful about any biases, once again.**\n",
    "\n",
    "Let us run a third and final similar analysis, but with movie genres :"
   ]
  },
  {
   "cell_type": "code",
   "execution_count": 34,
   "metadata": {},
   "outputs": [
    {
     "name": "stdout",
     "output_type": "stream",
     "text": [
      "We have 0 entries that have missing (NA) movie languages info\n",
      "We have 2294 entries that have wrong movie languages info\n"
     ]
    }
   ],
   "source": [
    "print('We have',cmu_movies['Movie genres'].isna().sum(),'entries that have missing (NA) movie languages info')\n",
    "print('We have', cmu_movies['Movie genres'].apply(lambda x: len(x) == 0).sum(),'entries that have wrong movie languages info')"
   ]
  },
  {
   "cell_type": "markdown",
   "metadata": {},
   "source": [
    "Very few numbers of movies with lacking movie languages information, pretty good !"
   ]
  },
  {
   "cell_type": "code",
   "execution_count": 35,
   "metadata": {},
   "outputs": [
    {
     "name": "stdout",
     "output_type": "stream",
     "text": [
      "We have a total of 363 distinct genres in the movies of our dataset\n"
     ]
    }
   ],
   "source": [
    "genres_count_dict = count_dict(cmu_movies,'Movie genres')\n",
    "print('We have a total of', len(genres_count_dict),'distinct genres in the movies of our dataset')"
   ]
  },
  {
   "cell_type": "code",
   "execution_count": 36,
   "metadata": {},
   "outputs": [
    {
     "data": {
      "image/png": "[encoded data removed]",
      "text/plain": [
       "<Figure size 1200x600 with 1 Axes>"
      ]
     },
     "metadata": {},
     "output_type": "display_data"
    }
   ],
   "source": [
    "plot_count_histogram(genres_count_dict,'Genres')"
   ]
  },
  {
   "cell_type": "markdown",
   "metadata": {},
   "source": [
    "363 distinct genres is huge. Looking at the histogram above, we have clues about the reason this number is so high : <br>\n",
    "\n",
    "- We have Action and Adventure up there, but a third one \"Action/Adventure\" is also considered as a distinct genre from the two. \n",
    "\n",
    "- \"Romantic Drama\" is different from \"Drama\" as it should, and if other subgenres from \"Drama\" are present, this could inflate the numbers of distinct genres as well.\n",
    "\n",
    "Let's just see how many of these 363 genres are extremely present in our dataset (let's set an arbitrary threshold at 1000 occurences at first) :"
   ]
  },
  {
   "cell_type": "code",
   "execution_count": 37,
   "metadata": {},
   "outputs": [
    {
     "name": "stdout",
     "output_type": "stream",
     "text": [
      "41\n"
     ]
    }
   ],
   "source": [
    "main_genres = [genre for genre, count in genres_count_dict.items() if count > 1000]\n",
    "print(len(main_genres))"
   ]
  },
  {
   "cell_type": "markdown",
   "metadata": {},
   "source": [
    "Only 41 genres with that threshold. A minority of genres are the ones that are more present, which makes sense as the ones we obtain just above are rather generic, while some more 'niche' or specific movie types will most likely be less common.\n",
    "\n",
    "Regarding those main themes present in our dataset, let's first say these 41 genres. Let's see how closely each are related with each other using a heatmap that will count the occurence of both genres in a movie."
   ]
  },
  {
   "cell_type": "code",
   "execution_count": 40,
   "metadata": {},
   "outputs": [
    {
     "name": "stdout",
     "output_type": "stream",
     "text": [
      "CPU times: total: 2min 32s\n",
      "Wall time: 2min 36s\n"
     ]
    }
   ],
   "source": [
    "%%time\n",
    "\n",
    "occurences_counts = {genre:[] for genre in main_genres}\n",
    "\n",
    "for genre in main_genres :\n",
    "    for other_genre in main_genres :\n",
    "        if genre != other_genre :\n",
    "            count = (cmu_movies['Movie genres'].str.contains(genre) & cmu_movies['Movie genres'].str.contains(other_genre)).sum()\n",
    "            occurences_counts[genre].append((other_genre,count))\n",
    "\n",
    "#Converting the dic to a dataframe\n",
    "occurences_data = {\n",
    "    genre: {other_genre: count for other_genre, count in counts}\n",
    "    for genre, counts in occurences_counts.items()\n",
    "}\n",
    "\n",
    "genres_occurences_df = pd.DataFrame(occurences_data)\n",
    "last_row = genres_occurences_df.iloc[-1]\n",
    "\n",
    "# Move the last row to the first position and shift the other rows downwards\n",
    "df_heatmap = pd.concat([last_row.to_frame().T, genres_occurences_df.iloc[:-1]])"
   ]
  },
  {
   "cell_type": "code",
   "execution_count": 41,
   "metadata": {},
   "outputs": [
    {
     "data": {
      "image/png": "[encoded data removed]",
      "text/plain": [
       "<Figure size 1200x800 with 2 Axes>"
      ]
     },
     "metadata": {},
     "output_type": "display_data"
    }
   ],
   "source": [
    "plt.figure(figsize=(12, 8))\n",
    "sns.heatmap(df_heatmap, cmap='coolwarm')\n",
    "plt.title('Genre Occurrences Heatmap')\n",
    "plt.show();"
   ]
  },
  {
   "cell_type": "markdown",
   "metadata": {},
   "source": [
    "**Many different dual association of genres are found a lot in the movies dataset. Some of them are interesting, others could be more worrying :**\n",
    "\n",
    "- The most common association is \"Drama\" - \"Romance Film\", followed by \"Drama\" - \"Comedy\"\n",
    "\n",
    "- \"Action\" and \"Adventure\" are found together a lot as well but we can see that a third genre is well correlated with both of them as well \"Action/Adventure\". Problematic, as this is repetitive. Which one do we decide to keep ? \n",
    "\n",
    "- A lot of \"Black-And-White\" films are also \"Indie\", \"Short Film\", \"Silent Film\" and also \"Comedy\" apparently (makes sense)."
   ]
  },
  {
   "cell_type": "markdown",
   "metadata": {},
   "source": [
    "To see an example in the case of Action/Adventure, let's quickly look at what is present in the \"Movie genres\" column for movies that also have \"Action/Adventure\" :"
   ]
  },
  {
   "cell_type": "code",
   "execution_count": 42,
   "metadata": {},
   "outputs": [
    {
     "data": {
      "text/html": [
       "<div>\n",
       "<style scoped>\n",
       "    .dataframe tbody tr th:only-of-type {\n",
       "        vertical-align: middle;\n",
       "    }\n",
       "\n",
       "    .dataframe tbody tr th {\n",
       "        vertical-align: top;\n",
       "    }\n",
       "\n",
       "    .dataframe thead th {\n",
       "        text-align: right;\n",
       "    }\n",
       "</style>\n",
       "<table border=\"1\" class=\"dataframe\">\n",
       "  <thead>\n",
       "    <tr style=\"text-align: right;\">\n",
       "      <th></th>\n",
       "      <th>Wikipedia movie ID</th>\n",
       "      <th>Movie name</th>\n",
       "      <th>Movie release Year</th>\n",
       "      <th>Movie box office revenue</th>\n",
       "      <th>Movie runtime</th>\n",
       "      <th>Movie languages</th>\n",
       "      <th>Movie countries</th>\n",
       "      <th>Movie genres</th>\n",
       "      <th>Movie release Month</th>\n",
       "      <th>Movie release Day</th>\n",
       "    </tr>\n",
       "  </thead>\n",
       "  <tbody>\n",
       "    <tr>\n",
       "      <th>11</th>\n",
       "      <td>24229100</td>\n",
       "      <td>Lady Snowblood 2: Love Song of Vengeance</td>\n",
       "      <td>1974</td>\n",
       "      <td>NaN</td>\n",
       "      <td>89.0</td>\n",
       "      <td>Japanese</td>\n",
       "      <td>Japan</td>\n",
       "      <td>Crime Fiction,Thriller,Japanese Movies,World c...</td>\n",
       "      <td>&lt;NA&gt;</td>\n",
       "      <td>&lt;NA&gt;</td>\n",
       "    </tr>\n",
       "    <tr>\n",
       "      <th>43</th>\n",
       "      <td>26878691</td>\n",
       "      <td>Mysterious Island</td>\n",
       "      <td>1982</td>\n",
       "      <td>NaN</td>\n",
       "      <td>100.0</td>\n",
       "      <td>Standard Mandarin</td>\n",
       "      <td>Hong Kong</td>\n",
       "      <td>Action/Adventure,Wuxia,Martial Arts Film,Chine...</td>\n",
       "      <td>&lt;NA&gt;</td>\n",
       "      <td>&lt;NA&gt;</td>\n",
       "    </tr>\n",
       "    <tr>\n",
       "      <th>49</th>\n",
       "      <td>261237</td>\n",
       "      <td>The Gods Must Be Crazy</td>\n",
       "      <td>1980</td>\n",
       "      <td>34331783.0</td>\n",
       "      <td>109.0</td>\n",
       "      <td>Afrikaans,English</td>\n",
       "      <td>South Africa</td>\n",
       "      <td>Adventure,Action/Adventure,Indie,World cinema,...</td>\n",
       "      <td>&lt;NA&gt;</td>\n",
       "      <td>&lt;NA&gt;</td>\n",
       "    </tr>\n",
       "    <tr>\n",
       "      <th>54</th>\n",
       "      <td>4951456</td>\n",
       "      <td>Kinjite: Forbidden Subjects</td>\n",
       "      <td>1989</td>\n",
       "      <td>3416846.0</td>\n",
       "      <td>97.0</td>\n",
       "      <td>English</td>\n",
       "      <td>United States of America</td>\n",
       "      <td>Crime Fiction,Action/Adventure,Action,Thriller</td>\n",
       "      <td>&lt;NA&gt;</td>\n",
       "      <td>&lt;NA&gt;</td>\n",
       "    </tr>\n",
       "    <tr>\n",
       "      <th>75</th>\n",
       "      <td>2647998</td>\n",
       "      <td>The Human Tornado</td>\n",
       "      <td>1976</td>\n",
       "      <td>NaN</td>\n",
       "      <td>86.0</td>\n",
       "      <td>English</td>\n",
       "      <td>United States of America</td>\n",
       "      <td>Action/Adventure,Action Comedy,Cult,Blaxploita...</td>\n",
       "      <td>&lt;NA&gt;</td>\n",
       "      <td>&lt;NA&gt;</td>\n",
       "    </tr>\n",
       "    <tr>\n",
       "      <th>86</th>\n",
       "      <td>31026308</td>\n",
       "      <td>Sombra Verde</td>\n",
       "      <td>1954</td>\n",
       "      <td>NaN</td>\n",
       "      <td>85.0</td>\n",
       "      <td>Spanish</td>\n",
       "      <td>Mexico</td>\n",
       "      <td>Action/Adventure,Thriller,Drama,Adventure,Worl...</td>\n",
       "      <td>&lt;NA&gt;</td>\n",
       "      <td>&lt;NA&gt;</td>\n",
       "    </tr>\n",
       "    <tr>\n",
       "      <th>92</th>\n",
       "      <td>25413122</td>\n",
       "      <td>Drums in the Deep South</td>\n",
       "      <td>1951</td>\n",
       "      <td>NaN</td>\n",
       "      <td>87.0</td>\n",
       "      <td>English</td>\n",
       "      <td>United States of America</td>\n",
       "      <td>Action/Adventure,Western,War film</td>\n",
       "      <td>&lt;NA&gt;</td>\n",
       "      <td>&lt;NA&gt;</td>\n",
       "    </tr>\n",
       "    <tr>\n",
       "      <th>101</th>\n",
       "      <td>27556929</td>\n",
       "      <td>Deadly Voyage</td>\n",
       "      <td>1996</td>\n",
       "      <td>NaN</td>\n",
       "      <td>90.0</td>\n",
       "      <td>English</td>\n",
       "      <td>United States of America,United Kingdom</td>\n",
       "      <td>Thriller,Action Thrillers,Horror,Television mo...</td>\n",
       "      <td>&lt;NA&gt;</td>\n",
       "      <td>&lt;NA&gt;</td>\n",
       "    </tr>\n",
       "    <tr>\n",
       "      <th>102</th>\n",
       "      <td>4300418</td>\n",
       "      <td>The Hero: Love Story of a Spy</td>\n",
       "      <td>2003</td>\n",
       "      <td>NaN</td>\n",
       "      <td>182.0</td>\n",
       "      <td>Hindi</td>\n",
       "      <td>India</td>\n",
       "      <td>Thriller,Action Thrillers,Adventure,World cine...</td>\n",
       "      <td>4</td>\n",
       "      <td>11</td>\n",
       "    </tr>\n",
       "    <tr>\n",
       "      <th>132</th>\n",
       "      <td>22985953</td>\n",
       "      <td>Beachhead</td>\n",
       "      <td>1954</td>\n",
       "      <td>1400000.0</td>\n",
       "      <td>90.0</td>\n",
       "      <td></td>\n",
       "      <td>United States of America</td>\n",
       "      <td>Action/Adventure,Action,Drama,Film adaptation,...</td>\n",
       "      <td>2</td>\n",
       "      <td>5</td>\n",
       "    </tr>\n",
       "  </tbody>\n",
       "</table>\n",
       "</div>"
      ],
      "text/plain": [
       "     Wikipedia movie ID                                Movie name  \\\n",
       "11             24229100  Lady Snowblood 2: Love Song of Vengeance   \n",
       "43             26878691                         Mysterious Island   \n",
       "49               261237                    The Gods Must Be Crazy   \n",
       "54              4951456               Kinjite: Forbidden Subjects   \n",
       "75              2647998                         The Human Tornado   \n",
       "86             31026308                              Sombra Verde   \n",
       "92             25413122                   Drums in the Deep South   \n",
       "101            27556929                             Deadly Voyage   \n",
       "102             4300418             The Hero: Love Story of a Spy   \n",
       "132            22985953                                 Beachhead   \n",
       "\n",
       "     Movie release Year  Movie box office revenue  Movie runtime  \\\n",
       "11                 1974                       NaN           89.0   \n",
       "43                 1982                       NaN          100.0   \n",
       "49                 1980                34331783.0          109.0   \n",
       "54                 1989                 3416846.0           97.0   \n",
       "75                 1976                       NaN           86.0   \n",
       "86                 1954                       NaN           85.0   \n",
       "92                 1951                       NaN           87.0   \n",
       "101                1996                       NaN           90.0   \n",
       "102                2003                       NaN          182.0   \n",
       "132                1954                 1400000.0           90.0   \n",
       "\n",
       "       Movie languages                          Movie countries  \\\n",
       "11            Japanese                                    Japan   \n",
       "43   Standard Mandarin                                Hong Kong   \n",
       "49   Afrikaans,English                             South Africa   \n",
       "54             English                 United States of America   \n",
       "75             English                 United States of America   \n",
       "86             Spanish                                   Mexico   \n",
       "92             English                 United States of America   \n",
       "101            English  United States of America,United Kingdom   \n",
       "102              Hindi                                    India   \n",
       "132                                    United States of America   \n",
       "\n",
       "                                          Movie genres  Movie release Month  \\\n",
       "11   Crime Fiction,Thriller,Japanese Movies,World c...                 <NA>   \n",
       "43   Action/Adventure,Wuxia,Martial Arts Film,Chine...                 <NA>   \n",
       "49   Adventure,Action/Adventure,Indie,World cinema,...                 <NA>   \n",
       "54      Crime Fiction,Action/Adventure,Action,Thriller                 <NA>   \n",
       "75   Action/Adventure,Action Comedy,Cult,Blaxploita...                 <NA>   \n",
       "86   Action/Adventure,Thriller,Drama,Adventure,Worl...                 <NA>   \n",
       "92                   Action/Adventure,Western,War film                 <NA>   \n",
       "101  Thriller,Action Thrillers,Horror,Television mo...                 <NA>   \n",
       "102  Thriller,Action Thrillers,Adventure,World cine...                    4   \n",
       "132  Action/Adventure,Action,Drama,Film adaptation,...                    2   \n",
       "\n",
       "     Movie release Day  \n",
       "11                <NA>  \n",
       "43                <NA>  \n",
       "49                <NA>  \n",
       "54                <NA>  \n",
       "75                <NA>  \n",
       "86                <NA>  \n",
       "92                <NA>  \n",
       "101               <NA>  \n",
       "102                 11  \n",
       "132                  5  "
      ]
     },
     "execution_count": 42,
     "metadata": {},
     "output_type": "execute_result"
    }
   ],
   "source": [
    "action_adventure = cmu_movies[cmu_movies['Movie genres'].str.contains('Action/Adventure', case=False, na=False)]\n",
    "action_adventure.head(10)"
   ]
  },
  {
   "cell_type": "markdown",
   "metadata": {},
   "source": [
    "As expected, there's some \"duplicates\" : some movies have \"Action/Adventure\" as well as \"Action\", \"Adventure\". \n",
    "\n",
    "Overall, this analysis of the genres underlines the complexity and the number of genres present in this dataset. As a case by case analysis may be impossible to do, we should maybe limit the number of genres present to clean it up. Maybe by adding another dataset..?"
   ]
  },
  {
   "cell_type": "markdown",
   "metadata": {},
   "source": [
    "----------------------------------------------------------------------------------------"
   ]
  },
  {
   "cell_type": "markdown",
   "metadata": {},
   "source": [
    "Let us now finally look at the information that we have about the movie runtime and release dates.\n",
    "How many movie runtime values and release years are missing from the dataframe ?"
   ]
  },
  {
   "cell_type": "code",
   "execution_count": 43,
   "metadata": {},
   "outputs": [
    {
     "name": "stdout",
     "output_type": "stream",
     "text": [
      "The number of entries with missing runtime information is: 20450\n",
      "The number of entries with missing Release Year information is: 6902\n"
     ]
    }
   ],
   "source": [
    "missing_runtime_count = cmu_movies['Movie runtime'].isnull().sum()\n",
    "missing_ry_count = cmu_movies['Movie release Year'].isnull().sum()\n",
    "print(f'The number of entries with missing runtime information is: {missing_runtime_count}')\n",
    "print(f'The number of entries with missing Release Year information is: {missing_ry_count}')\n"
   ]
  },
  {
   "cell_type": "markdown",
   "metadata": {},
   "source": [
    "A quarter of our entries are missing their runtime information, which is significant, while only 7k of them are missing release year information. In any case, we could try to enrich, once again, these two columns to complete the information of the CMU Movie corpus.\n",
    "\n",
    "How are the movie release years and Runtime distributed throughout the dataset ?"
   ]
  },
  {
   "cell_type": "code",
   "execution_count": 44,
   "metadata": {},
   "outputs": [
    {
     "name": "stdout",
     "output_type": "stream",
     "text": [
      "[0.0, 0.03, 0.05, 0.083333336, 0.1, 0.11666667, 0.15, 0.2, 0.21666667, 0.26666668, 0.3, 0.33333334, 0.36666667, 0.4, 0.41666666, 0.45, 0.46666667, 0.5, 0.56666666, 0.5833333, 0.6, 0.6333333, 0.65, 0.6666667, 0.68333334, 0.7, 0.71666664, 0.73333335, 0.75, 0.76666665, 0.78333336, 0.81666666, 0.8333333, 0.8833333, 0.9, 0.93333334, 0.96666664, 1.0, 1.0833334, 1.1, 1.11, 1.1333333, 1.15, 1.1666666, 1.1833333, 1.25, 1.2666667, 1.4833333, 1.5, 1.6, 1.6666666, 1.75, 1.7833333, 1.83, 1.8333334, 1.9166666, 2.0, 2.15, 2.22, 2.2333333, 2.28, 2.3, 2.48, 2.5, 2.5333333, 3.0, 3.1166666, 3.1666667, 3.25, 3.3333333, 3.34, 3.38, 3.45, 3.5, 3.5666666, 3.6166666, 3.7, 3.75, 3.8833334, 3.9666667, 4.0, 4.25, 4.35, 4.4166665, 4.5, 4.6666665, 5.0, 5.25, 5.42, 5.5, 5.5833335, 5.59, 5.75, 5.766667, 6.0, 6.1, 6.15, 6.17, 6.18, 6.2, 6.28, 6.3333335, 6.43, 6.5, 6.51, 6.55, 6.5666666, 6.57, 6.78, 6.8166666, 6.866667, 6.9, 6.95, 7.0, 7.07, 7.13, 7.14, 7.21, 7.22, 7.25, 7.27, 7.32, 7.5, 7.57, 7.59, 7.6, 7.75, 7.9, 7.9166665, 8.0, 8.1, 8.2, 8.3, 8.37, 8.383333, 8.566667, 8.633333, 8.75, 8.833333, 8.95, 9.0, 9.1, 9.15, 9.233334, 9.3, 9.416667, 9.5, 9.55, 9.583333, 9.666667, 9.766666, 9.95, 10.0, 10.083333, 10.2, 10.233334, 10.466666, 10.5, 10.533334, 10.9, 11.0, 11.333333, 11.916667, 12.0, 12.516666, 13.0, 13.3, 13.5, 13.716666, 14.0, 14.216666, 14.716666, 14.8, 15.0, 16.0, 17.0, 17.833334, 18.0, 18.083334, 18.5, 18.75, 18.8, 19.0, 19.15, 19.75, 19.85, 20.0, 20.283333, 20.583334, 20.616667, 21.0, 21.333334, 21.416666, 21.6, 22.0, 22.3, 23.0, 24.0, 25.0, 26.0, 26.65, 26.666666, 27.0, 27.5, 27.716667, 28.0, 28.5, 29.0, 29.05, 29.633333, 29.983334, 30.0, 31.0, 31.3, 32.0, 33.0, 34.0, 35.0, 36.0, 36.8, 37.0, 37.22, 38.0, 38.216667, 39.0, 40.0, 41.0, 42.0, 42.383335, 43.0, 43.083332, 43.716667, 44.0, 44.016666, 45.0, 46.0, 47.0, 48.0, 49.0, 49.5, 50.0, 50.1, 51.0, 52.0, 52.35, 53.0, 54.0, 55.0, 55.8, 56.0, 57.0, 57.833332, 57.883335, 58.0, 58.35, 59.0, 60.0, 61.0, 62.0, 63.0, 64.0, 65.0, 66.0, 67.0, 68.0, 68.333336, 69.0, 69.63333, 70.0, 71.0, 72.0, 73.0, 73.61667, 74.0, 74.25, 75.0, 76.0, 77.0, 78.0, 78.433334, 78.6, 78.916664, 79.0, 79.45, 80.0, 80.38333, 80.71667, 81.0, 82.0, 83.0, 83.4, 84.0, 84.5, 85.0, 85.38333, 86.0, 87.0, 88.0, 88.066666, 88.5, 89.0, 89.5, 90.0, 91.0, 92.0, 93.0, 94.0, 94.2, 94.5, 95.0, 96.0, 97.0, 98.0, 99.0, 100.0, 101.0, 102.0, 102.5, 103.0, 104.0, 105.0, 106.0, 107.0, 108.0, 108.46667, 109.0, 110.0, 110.53333, 111.0, 112.0, 112.45, 113.0, 114.0, 115.0, 116.0, 117.0, 118.0, 118.5, 119.0, 119.2, 120.0, 121.0, 121.6, 122.0, 123.0, 124.0, 124.98333, 125.0, 125.22, 126.0, 126.5, 127.0, 128.0, 128.85, 129.0, 130.0, 131.0, 132.0, 133.0, 134.0, 135.0, 136.0, 136.22, 137.0, 137.08333, 138.0, 139.0, 140.0, 141.0, 142.0, 143.0, 144.0, 145.0, 146.0, 147.0, 148.0, 149.0, 149.08, 150.0, 151.0, 152.0, 152.5, 153.0, 154.0, 155.0, 156.0, 157.0, 158.0, 159.0, 160.0, 161.0, 162.0, 163.0, 164.0, 165.0, 166.0, 167.0, 168.0, 169.0, 170.0, 171.0, 172.0, 173.0, 174.0, 175.0, 176.0, 177.0, 178.0, 179.0, 180.0, 181.0, 182.0, 183.0, 184.0, 185.0, 186.0, 187.0, 188.0, 189.0, 190.0, 191.0, 192.0, 193.0, 194.0, 195.0, 196.0, 197.0, 198.0, 199.0, 200.0, 201.0, 202.0, 203.0, 204.0, 205.0, 206.0, 207.0, 208.0, 209.0, 210.0, 211.0, 212.0, 213.0, 214.0, 215.0, 216.0, 217.0, 218.0, 219.0, 220.0, 221.0, 223.0, 224.0, 225.0, 226.0, 227.0, 228.0, 229.0, 230.0, 231.0, 232.0, 233.0, 234.0, 235.0, 236.0, 237.0, 238.0, 239.0, 240.0, 241.0, 242.0, 243.0, 244.0, 245.0, 246.0, 247.0, 248.0, 249.0, 250.0, 251.0, 252.0, 252.04, 253.0, 254.0, 255.0, 256.0, 257.0, 258.0, 259.0, 260.0, 261.0, 262.0, 263.0, 265.0, 266.0, 267.0, 268.0, 269.0, 270.0, 275.0, 278.0, 279.0, 280.0, 284.0, 285.0, 288.0, 294.0, 295.0, 297.0, 300.0, 302.0, 305.0, 308.0, 310.0, 312.0, 315.0, 320.0, 321.0, 324.0, 326.0, 329.0, 330.0, 337.0, 339.0, 340.0, 345.0, 348.0, 350.0, 353.0, 355.0, 356.0, 357.0, 359.0, 360.0, 366.0, 375.0, 377.0, 380.0, 384.0, 387.0, 390.0, 391.0, 396.0, 399.0, 401.0, 408.0, 410.0, 414.0, 417.0, 420.0, 421.0, 434.0, 435.0, 438.0, 442.0, 448.0, 450.0, 480.0, 485.0, 540.0, 544.0, 551.0, 560.0, 572.0, 596.0, 599.0, 600.0, 608.0, 630.0, 644.0, 647.0, 700.0, 720.0, 763.0, 780.0, 822.0, 840.0, 891.0, 900.0, 1003.0, 1005.0, 1200.0, 1440.0, 1530.0, 1533.0, 1560.0, 1620.0, 1966.0, 2425.0, 2880.0, 4875.27, 5100.0, 5220.0, 5700.0, 9360.0, 14400.0, 1079281.0]\n",
      "[1010, 1888, 1889, 1890, 1891, 1892, 1893, 1894, 1895, 1896, 1897, 1898, 1899, 1900, 1901, 1902, 1903, 1904, 1905, 1906, 1907, 1908, 1909, 1910, 1911, 1912, 1913, 1914, 1915, 1916, 1917, 1918, 1919, 1920, 1921, 1922, 1923, 1924, 1925, 1926, 1927, 1928, 1929, 1930, 1931, 1932, 1933, 1934, 1935, 1936, 1937, 1938, 1939, 1940, 1941, 1942, 1943, 1944, 1945, 1946, 1947, 1948, 1949, 1950, 1951, 1952, 1953, 1954, 1955, 1956, 1957, 1958, 1959, 1960, 1961, 1962, 1963, 1964, 1965, 1966, 1967, 1968, 1969, 1970, 1971, 1972, 1973, 1974, 1975, 1976, 1977, 1978, 1979, 1980, 1981, 1982, 1983, 1984, 1985, 1986, 1987, 1988, 1989, 1990, 1991, 1992, 1993, 1994, 1995, 1996, 1997, 1998, 1999, 2000, 2001, 2002, 2003, 2004, 2005, 2006, 2007, 2008, 2009, 2010, 2011, 2012, 2013, 2014, 2015, 2016]\n"
     ]
    }
   ],
   "source": [
    "print(sorted(cmu_movies['Movie runtime'].dropna().unique()))\n",
    "print(sorted(cmu_movies['Movie release Year'].dropna().unique()))"
   ]
  },
  {
   "cell_type": "code",
   "execution_count": 45,
   "metadata": {},
   "outputs": [
    {
     "data": {
      "text/html": [
       "<div>\n",
       "<style scoped>\n",
       "    .dataframe tbody tr th:only-of-type {\n",
       "        vertical-align: middle;\n",
       "    }\n",
       "\n",
       "    .dataframe tbody tr th {\n",
       "        vertical-align: top;\n",
       "    }\n",
       "\n",
       "    .dataframe thead th {\n",
       "        text-align: right;\n",
       "    }\n",
       "</style>\n",
       "<table border=\"1\" class=\"dataframe\">\n",
       "  <thead>\n",
       "    <tr style=\"text-align: right;\">\n",
       "      <th></th>\n",
       "      <th>Wikipedia movie ID</th>\n",
       "      <th>Movie name</th>\n",
       "      <th>Movie release Year</th>\n",
       "      <th>Movie box office revenue</th>\n",
       "      <th>Movie runtime</th>\n",
       "      <th>Movie languages</th>\n",
       "      <th>Movie countries</th>\n",
       "      <th>Movie genres</th>\n",
       "      <th>Movie release Month</th>\n",
       "      <th>Movie release Day</th>\n",
       "    </tr>\n",
       "  </thead>\n",
       "  <tbody>\n",
       "    <tr>\n",
       "      <th>12804</th>\n",
       "      <td>10815585</td>\n",
       "      <td>Zero Tolerance</td>\n",
       "      <td>1995</td>\n",
       "      <td>NaN</td>\n",
       "      <td>1079281.0</td>\n",
       "      <td>English</td>\n",
       "      <td>United States of America</td>\n",
       "      <td>Thriller,Crime Fiction,Action,Indie,Action/Adv...</td>\n",
       "      <td>&lt;NA&gt;</td>\n",
       "      <td>&lt;NA&gt;</td>\n",
       "    </tr>\n",
       "  </tbody>\n",
       "</table>\n",
       "</div>"
      ],
      "text/plain": [
       "       Wikipedia movie ID      Movie name  Movie release Year  \\\n",
       "12804            10815585  Zero Tolerance                1995   \n",
       "\n",
       "       Movie box office revenue  Movie runtime Movie languages  \\\n",
       "12804                       NaN      1079281.0         English   \n",
       "\n",
       "                Movie countries  \\\n",
       "12804  United States of America   \n",
       "\n",
       "                                            Movie genres  Movie release Month  \\\n",
       "12804  Thriller,Crime Fiction,Action,Indie,Action/Adv...                 <NA>   \n",
       "\n",
       "       Movie release Day  \n",
       "12804               <NA>  "
      ]
     },
     "metadata": {},
     "output_type": "display_data"
    },
    {
     "data": {
      "text/html": [
       "<div>\n",
       "<style scoped>\n",
       "    .dataframe tbody tr th:only-of-type {\n",
       "        vertical-align: middle;\n",
       "    }\n",
       "\n",
       "    .dataframe tbody tr th {\n",
       "        vertical-align: top;\n",
       "    }\n",
       "\n",
       "    .dataframe thead th {\n",
       "        text-align: right;\n",
       "    }\n",
       "</style>\n",
       "<table border=\"1\" class=\"dataframe\">\n",
       "  <thead>\n",
       "    <tr style=\"text-align: right;\">\n",
       "      <th></th>\n",
       "      <th>Wikipedia movie ID</th>\n",
       "      <th>Movie name</th>\n",
       "      <th>Movie release Year</th>\n",
       "      <th>Movie box office revenue</th>\n",
       "      <th>Movie runtime</th>\n",
       "      <th>Movie languages</th>\n",
       "      <th>Movie countries</th>\n",
       "      <th>Movie genres</th>\n",
       "      <th>Movie release Month</th>\n",
       "      <th>Movie release Day</th>\n",
       "    </tr>\n",
       "  </thead>\n",
       "  <tbody>\n",
       "    <tr>\n",
       "      <th>62962</th>\n",
       "      <td>32441022</td>\n",
       "      <td>Modern Times Forever</td>\n",
       "      <td>&lt;NA&gt;</td>\n",
       "      <td>NaN</td>\n",
       "      <td>14400.0</td>\n",
       "      <td></td>\n",
       "      <td></td>\n",
       "      <td>Documentary</td>\n",
       "      <td>&lt;NA&gt;</td>\n",
       "      <td>&lt;NA&gt;</td>\n",
       "    </tr>\n",
       "  </tbody>\n",
       "</table>\n",
       "</div>"
      ],
      "text/plain": [
       "       Wikipedia movie ID            Movie name  Movie release Year  \\\n",
       "62962            32441022  Modern Times Forever                <NA>   \n",
       "\n",
       "       Movie box office revenue  Movie runtime Movie languages  \\\n",
       "62962                       NaN        14400.0                   \n",
       "\n",
       "      Movie countries Movie genres  Movie release Month  Movie release Day  \n",
       "62962                  Documentary                 <NA>               <NA>  "
      ]
     },
     "metadata": {},
     "output_type": "display_data"
    }
   ],
   "source": [
    "display(cmu_movies[cmu_movies['Movie runtime'] == 1079281.0])\n",
    "display(cmu_movies[cmu_movies['Movie runtime'] == 14400.0])"
   ]
  },
  {
   "cell_type": "markdown",
   "metadata": {},
   "source": [
    "Here we printed the unique values present in both the release years and runtime columns. We can observe that in the release years, a single value seems off, 1010. In the movie runtimes however, the movie runtime values are extremely spread out, from 0.03 to huge values such as 1 079 281. \n",
    "When looking at the particular film with this runtime value, we can see that it's most likely an error and that the value should be the movie box office revenue. If we look at the second one, we see that it indeed lasts 14400 minutes (240 hours) 'Modern Times Forever'. There's thus maybe outliers, but also movies with 'wrong' values.\n",
    "\n",
    "For the very short values, this could be due, in the dataset, to the presence of very short black and white films (as we saw that we have many films dating from earlier eras, as confirmed just below) and we should be careful with this information.\n",
    "\n",
    "For the release years : (removing faulty data previous to 1800)"
   ]
  },
  {
   "cell_type": "code",
   "execution_count": 46,
   "metadata": {},
   "outputs": [
    {
     "data": {
      "image/png": "[encoded data removed]",
      "text/plain": [
       "<Figure size 1000x600 with 1 Axes>"
      ]
     },
     "metadata": {},
     "output_type": "display_data"
    }
   ],
   "source": [
    "filtered_df = cmu_movies[cmu_movies['Movie release Year'] > 1800]\n",
    "\n",
    "# Create a histogram of movie release years\n",
    "plt.figure(figsize=(10, 6))\n",
    "plt.hist(filtered_df['Movie release Year'].dropna(), bins=30, color='skyblue', edgecolor='black')\n",
    "plt.title('Distribution of Movie Release Years (Release Year > 1800)')\n",
    "plt.xlabel('Release Year')\n",
    "plt.ylabel('Frequency')\n",
    "\n",
    "plt.show()"
   ]
  },
  {
   "cell_type": "markdown",
   "metadata": {},
   "source": [
    "Once again, we can observe that the CMU movie corpus has an increasing trend for the release years of its movies (The last bin decrease due to the fact that we are not considering any movies past 2016 in the CMU). We'll have to take that into account if we perform a temportal analysis using this data !\n",
    "\n",
    "------------------------------------"
   ]
  },
  {
   "cell_type": "markdown",
   "metadata": {},
   "source": [
    "In conclusion about the Metadata state of the CMU and how we could use it for our project, we can say that :\n",
    "\n",
    "- The Wikipedia Movie IDs can be used to define a unique movie, as movie names might be shared by several movies throughout the dataset.\n",
    "\n",
    "- Unfortunately, much of the information about the revenue of the movies is missing, which makes it complicated\n",
    "\n",
    "- The movie metadata present in the CMU movie corpus is heavily shifted towards english-speaking and US movies, we have less much informatio about movies produced in other countries than in the United States, and the main language in which the films were produced is of course english.\n",
    "\n",
    "- The number of genres present in the dataset is important, and some are very precise and detailed, making them only present in certain movies. Some of them are also intertwined and repetitive. We could try to determine more general genres in which we could fit more movies.\n",
    "\n",
    "- The runtime information of a quarter of our movies is absent in most movies and we have durations ranging from 0 to the second longest movie ever made, with 14 400 minutes. Concerning the release year values however, the vast majority of them are present.\n",
    "\n",
    "\n",
    "\n",
    "All of these information do not directly to any research questions or project that we have, but they tell us two things.\n",
    "\n",
    "- First, we have some pitfalls regarding biases or distribution that we should be careful about and not fall into.\n",
    "\n",
    "- We know on which parts we need to enrich our data. For our specific research questions of course, we do not have information about the complete crew of movies, including directors. However, we have a basis to work on and we know what we be great to enrich (runtime value, revenue of the movies mostly) for our future work.\n",
    "\n",
    "\n",
    "This concludes our first analyzes of the CMU metadata about the movies. Let us now turn to the characters metadata."
   ]
  },
  {
   "cell_type": "markdown",
   "metadata": {},
   "source": [
    "####  Exploring the characters dataset\n",
    "\n",
    "The _characters_ dataframe is supposed to have the metadata of 450.669 individual characters.\n",
    "\n",
    "--> How many missing character names do we have ?"
   ]
  },
  {
   "cell_type": "code",
   "execution_count": 48,
   "metadata": {},
   "outputs": [
    {
     "name": "stdout",
     "output_type": "stream",
     "text": [
      "We have 257875 missing character names\n",
      "We have 257865 missing character IDs\n"
     ]
    }
   ],
   "source": [
    "print('We have',cmu_characters['Character name'].isna().sum(),'missing character names')\n",
    "print('We have',cmu_characters_freebase['Freebase character ID'].isna().sum(),'missing character IDs')"
   ]
  },
  {
   "cell_type": "markdown",
   "metadata": {},
   "source": [
    "57% of the characters names are missing and the same number (nearly) of missing freebase Character IDs. Depending on what we aim to do with the NLP data, this might be problematic.\n",
    "\n",
    "Let's now check the number of movies for which we have (supposedly) character metadata :"
   ]
  },
  {
   "cell_type": "code",
   "execution_count": 49,
   "metadata": {},
   "outputs": [
    {
     "name": "stdout",
     "output_type": "stream",
     "text": [
      "64330\n"
     ]
    }
   ],
   "source": [
    "print(cmu_characters['Wikipedia movie ID'].nunique())"
   ]
  },
  {
   "cell_type": "markdown",
   "metadata": {},
   "source": [
    "We only have 64330 unique movie IDs in the character's dataset, while we have 81741 in the movies dataset. Are these these 64330 unique movie IDs part of the movies dataframe ?"
   ]
  },
  {
   "cell_type": "code",
   "execution_count": 50,
   "metadata": {},
   "outputs": [
    {
     "name": "stdout",
     "output_type": "stream",
     "text": [
      "All 'Wikipedia Movie ID' values in the 'characters' dataframe  are contained in the 'movies' DataFrame.\n"
     ]
    }
   ],
   "source": [
    "characters_movie_ids = cmu_characters['Wikipedia movie ID'].unique()\n",
    "movies_movie_ids = cmu_movies['Wikipedia movie ID'].unique()\n",
    "\n",
    "all_ids_in_movies = all(id in movies_movie_ids for id in characters_movie_ids)\n",
    "\n",
    "if all_ids_in_movies:\n",
    "    print(\"All 'Wikipedia Movie ID' values in the 'characters' dataframe  are contained in the 'movies' DataFrame.\")\n",
    "else:\n",
    "    print(\"Not all 'Wikipedia Movie ID' values in the 'characters'  DataFrame are contained in the 'movies' DataFrame.\")"
   ]
  },
  {
   "cell_type": "markdown",
   "metadata": {},
   "source": [
    "All of the Wikipedia Movie IDs present in the characters data are also present in the movies data, a quick double check but which reassures us about what we have in the characters metadata.\n",
    "\n",
    "In these 64330 movies, let's see if there are any movies for which all the characters are missing :"
   ]
  },
  {
   "cell_type": "code",
   "execution_count": 51,
   "metadata": {},
   "outputs": [
    {
     "name": "stdout",
     "output_type": "stream",
     "text": [
      "31759\n"
     ]
    }
   ],
   "source": [
    "movies_with_missing_character_names = cmu_characters.groupby('Wikipedia movie ID')['Character name'].apply(lambda x: x.isna().all())\n",
    "count = movies_with_missing_character_names.sum()\n",
    "print(count)"
   ]
  },
  {
   "cell_type": "markdown",
   "metadata": {},
   "source": [
    "31.759 out of the 64.330 movies have all characters names that are missing, but how many total characters does that correspond to ?"
   ]
  },
  {
   "cell_type": "code",
   "execution_count": 52,
   "metadata": {},
   "outputs": [
    {
     "name": "stdout",
     "output_type": "stream",
     "text": [
      "Sum of character counts for movies with all characters missing: 136857\n"
     ]
    }
   ],
   "source": [
    "character_counts = cmu_characters.groupby('Wikipedia movie ID')['Character name'].apply(lambda x: x.isna().sum())\n",
    "\n",
    "sum_of_characters_for_all_missing = character_counts[movies_with_missing_character_names].sum()\n",
    "\n",
    "print(\"Sum of character counts for movies with all characters missing:\", sum_of_characters_for_all_missing)\n"
   ]
  },
  {
   "cell_type": "markdown",
   "metadata": {},
   "source": [
    "--> By removing the 31.759 movies for which all character data is missing, we get rid of 136.857 of the 257.875 characters for which the name + freebase character name ID is missing <br>\n",
    "\n",
    "Still half~ of the characters for which names are missing is part of movies where not everything is missing. Perhaps only one character name has been saved in those movies while the rest is missing, but that is not counted here.\n",
    "\n",
    "For the general idea of our project, this will most likely not be problematic as character names will not be a primary focus. What is of more substantial importance would be the NLP data about the personas of these characters, but this will be treated in a next part."
   ]
  },
  {
   "cell_type": "markdown",
   "metadata": {},
   "source": [
    "About actors now : How many unique actors do we have in here ?"
   ]
  },
  {
   "cell_type": "code",
   "execution_count": 53,
   "metadata": {},
   "outputs": [
    {
     "name": "stdout",
     "output_type": "stream",
     "text": [
      "We have 134078 unique actors in the dataset\n"
     ]
    }
   ],
   "source": [
    "print('We have', cmu_characters['Actor name'].nunique(),'unique actors in the dataset')"
   ]
  },
  {
   "cell_type": "markdown",
   "metadata": {},
   "source": [
    "This number may be wrong due to different ways of writing actor names, etc. Let's compare it with the number of unique freebase actor IDs that we have :"
   ]
  },
  {
   "cell_type": "code",
   "execution_count": 54,
   "metadata": {},
   "outputs": [
    {
     "name": "stdout",
     "output_type": "stream",
     "text": [
      "We have 135760 unique actors IDs in the dataset\n"
     ]
    }
   ],
   "source": [
    "print('We have', cmu_characters['Freebase actor ID'].nunique(),'unique actors IDs in the dataset')"
   ]
  },
  {
   "cell_type": "markdown",
   "metadata": {},
   "source": [
    "More unique actors IDs than unique actor names : this most likely means that some actors names are indeed repeated while their unique IDs are safer when considering 'unique' actors. This should be what we use for filtering !\n",
    "\n",
    "Another important consideration is, of course, the genders of the actors present in the dataset : let's look at its distribution."
   ]
  },
  {
   "cell_type": "code",
   "execution_count": 55,
   "metadata": {},
   "outputs": [
    {
     "data": {
      "text/html": [
       "<div>\n",
       "<style scoped>\n",
       "    .dataframe tbody tr th:only-of-type {\n",
       "        vertical-align: middle;\n",
       "    }\n",
       "\n",
       "    .dataframe tbody tr th {\n",
       "        vertical-align: top;\n",
       "    }\n",
       "\n",
       "    .dataframe thead th {\n",
       "        text-align: right;\n",
       "    }\n",
       "</style>\n",
       "<table border=\"1\" class=\"dataframe\">\n",
       "  <thead>\n",
       "    <tr style=\"text-align: right;\">\n",
       "      <th></th>\n",
       "      <th>Wikipedia movie ID</th>\n",
       "      <th>Movie release Year</th>\n",
       "      <th>Character name</th>\n",
       "      <th>Actor DOB Year</th>\n",
       "      <th>Actor gender</th>\n",
       "      <th>Actor height</th>\n",
       "      <th>Actor ethnicity</th>\n",
       "      <th>Actor name</th>\n",
       "      <th>Actor age at movie release</th>\n",
       "      <th>Freebase actor ID</th>\n",
       "      <th>Movie release Month</th>\n",
       "      <th>Movie release Day</th>\n",
       "      <th>Actor DOB Month</th>\n",
       "      <th>Actor DOB Day</th>\n",
       "    </tr>\n",
       "  </thead>\n",
       "  <tbody>\n",
       "    <tr>\n",
       "      <th>0</th>\n",
       "      <td>975900</td>\n",
       "      <td>2001</td>\n",
       "      <td>Akooshay</td>\n",
       "      <td>1958</td>\n",
       "      <td>F</td>\n",
       "      <td>1.62</td>\n",
       "      <td>&lt;NA&gt;</td>\n",
       "      <td>Wanda De Jesus</td>\n",
       "      <td>42.0</td>\n",
       "      <td>/m/03wcfv7</td>\n",
       "      <td>8</td>\n",
       "      <td>24</td>\n",
       "      <td>8</td>\n",
       "      <td>26</td>\n",
       "    </tr>\n",
       "    <tr>\n",
       "      <th>1</th>\n",
       "      <td>975900</td>\n",
       "      <td>2001</td>\n",
       "      <td>Lieutenant Melanie Ballard</td>\n",
       "      <td>1974</td>\n",
       "      <td>F</td>\n",
       "      <td>1.78</td>\n",
       "      <td>/m/044038p</td>\n",
       "      <td>Natasha Henstridge</td>\n",
       "      <td>27.0</td>\n",
       "      <td>/m/0346l4</td>\n",
       "      <td>8</td>\n",
       "      <td>24</td>\n",
       "      <td>8</td>\n",
       "      <td>15</td>\n",
       "    </tr>\n",
       "  </tbody>\n",
       "</table>\n",
       "</div>"
      ],
      "text/plain": [
       "   Wikipedia movie ID  Movie release Year              Character name  \\\n",
       "0              975900                2001                    Akooshay   \n",
       "1              975900                2001  Lieutenant Melanie Ballard   \n",
       "\n",
       "   Actor DOB Year Actor gender  Actor height Actor ethnicity  \\\n",
       "0            1958            F          1.62            <NA>   \n",
       "1            1974            F          1.78      /m/044038p   \n",
       "\n",
       "           Actor name  Actor age at movie release Freebase actor ID  \\\n",
       "0      Wanda De Jesus                        42.0        /m/03wcfv7   \n",
       "1  Natasha Henstridge                        27.0         /m/0346l4   \n",
       "\n",
       "   Movie release Month  Movie release Day  Actor DOB Month  Actor DOB Day  \n",
       "0                    8                 24                8             26  \n",
       "1                    8                 24                8             15  "
      ]
     },
     "execution_count": 55,
     "metadata": {},
     "output_type": "execute_result"
    }
   ],
   "source": [
    "cmu_characters.head(2)"
   ]
  },
  {
   "cell_type": "code",
   "execution_count": 56,
   "metadata": {},
   "outputs": [
    {
     "name": "stdout",
     "output_type": "stream",
     "text": [
      "37981\n"
     ]
    }
   ],
   "source": [
    "#Getting all the rows with unique actors\n",
    "unique_actors_df = cmu_characters.drop_duplicates(subset='Freebase actor ID', keep='first')\n",
    "#print(len(unique_actors_df))\n",
    "#How many rows with unknown gender data\n",
    "unknown_gender_count = unique_actors_df[unique_actors_df['Actor gender'].isna() | (unique_actors_df['Actor gender'] == 'NaN')]['Actor name'].nunique()\n",
    "print(unknown_gender_count)"
   ]
  },
  {
   "cell_type": "markdown",
   "metadata": {},
   "source": [
    "We have ~38 000 persons with missing gender data."
   ]
  },
  {
   "cell_type": "code",
   "execution_count": 57,
   "metadata": {},
   "outputs": [
    {
     "data": {
      "image/png": "[encoded data removed]",
      "text/plain": [
       "<Figure size 640x480 with 1 Axes>"
      ]
     },
     "metadata": {},
     "output_type": "display_data"
    }
   ],
   "source": [
    "gender_counts = unique_actors_df['Actor gender'].value_counts()\n",
    "\n",
    "# Plot the bar chart\n",
    "gender_counts.plot(kind='bar', rot=0)\n",
    "plt.xlabel('Gender')\n",
    "plt.ylabel('Count')\n",
    "plt.title('Count of Unique Male and Female Actors')\n",
    "plt.show();"
   ]
  },
  {
   "cell_type": "markdown",
   "metadata": {},
   "source": [
    "On the data we have in the characters dataset, 63% are male actors for 47% female actors. The difference is not too big but we must be careful, as this may not represent the reality of role distributions. Even if it does, we should still be careful about it."
   ]
  },
  {
   "cell_type": "markdown",
   "metadata": {},
   "source": [
    "Then and finally, the casts composure and the actors landscape may very well change during the years, and that is also something we need to be aware of.\n",
    "\n",
    "Do we have actors from all eras ? Let us see this by using their date of birth :"
   ]
  },
  {
   "cell_type": "code",
   "execution_count": 58,
   "metadata": {},
   "outputs": [
    {
     "name": "stdout",
     "output_type": "stream",
     "text": [
      "58573\n",
      "19 9900\n"
     ]
    }
   ],
   "source": [
    "df_cleaned = unique_actors_df.dropna(subset=['Actor DOB Year'])\n",
    "print(len(df_cleaned))\n",
    "print(df_cleaned['Actor DOB Year'].min(),df_cleaned['Actor DOB Year'].max())"
   ]
  },
  {
   "cell_type": "markdown",
   "metadata": {},
   "source": [
    "\n",
    "We only have 57 982 unique actors with some valid year DOB info, and we see that we have false information such as 19 or 9900 in some rows.\n",
    "\n",
    "We need another source of information to fill these, maybe another dataset...?\n",
    "\n",
    "But let us look at, once again, what we already have :"
   ]
  },
  {
   "cell_type": "code",
   "execution_count": 59,
   "metadata": {},
   "outputs": [
    {
     "name": "stdout",
     "output_type": "stream",
     "text": [
      "[19 183 195 852 1075 1474 1498 1796 1804 1828 1829 1835 1836 1837 1838\n",
      " 1839 1842 1843 1844 1845 1846 1847 1848 1849 1850 1851 1852 1853 1854\n",
      " 1855 1856 1857 1858 1859 1860 1861 1862 1863 1864 1865 1866 1867 1868\n",
      " 1869 1870 1871 1872 1873 1874 1875 1876 1877 1878 1879 1880 1881 1882\n",
      " 1883 1884 1885 1886 1887 1888 1889 1890 1891 1892 1893 1894 1895 1896\n",
      " 1897 1898 1899 1900 1901 1902 1903 1904 1905 1906 1907 1908 1909 1910\n",
      " 1911 1912 1913 1914 1915 1916 1917 1918 1919 1920 1921 1922 1923 1924\n",
      " 1925 1926 1927 1928 1929 1930 1931 1932 1933 1934 1935 1936 1937 1938\n",
      " 1939 1940 1941 1942 1943 1944 1945 1946 1947 1948 1949 1950 1951 1952\n",
      " 1953 1954 1955 1956 1957 1958 1959 1960 1961 1962 1963 1964 1965 1966\n",
      " 1967 1968 1969 1970 1971 1972 1973 1974 1975 1976 1977 1978 1979 1980\n",
      " 1981 1982 1983 1984 1985 1986 1987 1988 1989 1990 1991 1992 1993 1994\n",
      " 1995 1996 1997 1998 1999 2000 2001 2002 2003 2004 2005 2006 2007 2008\n",
      " 2011 2050 2896 2936 9900]\n"
     ]
    }
   ],
   "source": [
    "print(np.sort(df_cleaned['Actor DOB Year'].unique()))"
   ]
  },
  {
   "cell_type": "markdown",
   "metadata": {},
   "source": [
    "Let's only take the 'valid' ones from 1796 to 2011."
   ]
  },
  {
   "cell_type": "code",
   "execution_count": 60,
   "metadata": {},
   "outputs": [
    {
     "name": "stdout",
     "output_type": "stream",
     "text": [
      "58557\n"
     ]
    },
    {
     "data": {
      "image/png": "[encoded data removed]",
      "text/plain": [
       "<Figure size 1000x600 with 1 Axes>"
      ]
     },
     "metadata": {},
     "output_type": "display_data"
    }
   ],
   "source": [
    "df_dobs = df_cleaned[(df_cleaned['Actor DOB Year'] >= 1804) & (df_cleaned['Actor DOB Year'] <= 2011)]\n",
    "\n",
    "\n",
    "actor_dob_df = df_dobs[['Actor DOB Year']].astype(int)\n",
    "print(len(actor_dob_df))\n",
    "\n",
    "\n",
    "actor_count_per_year = actor_dob_df['Actor DOB Year'].value_counts().sort_index()\n",
    "\n",
    "\n",
    "plt.figure(figsize=(10, 6))\n",
    "actor_count_per_year.plot(kind='bar', color='skyblue')\n",
    "plt.xlabel('Year of Birth')\n",
    "plt.ylabel('Number of Actors')\n",
    "plt.title('Number of Actors Born Per Year')\n",
    "\n",
    "plt.xticks(range(0, len(actor_count_per_year.index), 5), actor_count_per_year.index[::5], rotation=45)\n",
    "\n",
    "plt.show();"
   ]
  },
  {
   "cell_type": "markdown",
   "metadata": {},
   "source": [
    "The number of actors is steadily increasing throughout the years. The rapid decrease at the very end is because we are considering, in that plot, the date of birth of actors, hence not many actors active in 2013 at most were born in 2011..."
   ]
  },
  {
   "cell_type": "markdown",
   "metadata": {},
   "source": [
    "What about the age of the actor at the movie's release ?"
   ]
  },
  {
   "cell_type": "code",
   "execution_count": 61,
   "metadata": {},
   "outputs": [
    {
     "name": "stdout",
     "output_type": "stream",
     "text": [
      "[ 4.200e+01  2.700e+01  3.200e+01  3.300e+01  2.300e+01  5.200e+01\n",
      "  5.600e+01  3.000e+01  5.700e+01  6.600e+01  4.700e+01  5.800e+01\n",
      "  4.300e+01  5.000e+01  5.500e+01  4.000e+01  3.500e+01  6.000e+00\n",
      "  6.200e+01  5.100e+01  2.800e+01        nan  3.100e+01  3.400e+01\n",
      "  4.400e+01  2.600e+01  3.800e+01  6.000e+01  3.700e+01  4.600e+01\n",
      "  2.400e+01  3.900e+01  2.200e+01  1.600e+01  3.600e+01  2.900e+01\n",
      "  1.700e+01  1.900e+01  4.800e+01  1.000e+00  2.100e+01  1.400e+01\n",
      "  6.700e+01  2.000e+01  5.900e+01  2.500e+01  5.400e+01  9.000e+00\n",
      "  7.100e+01  5.300e+01  6.900e+01  4.500e+01  4.100e+01  7.300e+01\n",
      "  7.700e+01  4.900e+01  1.800e+01  6.500e+01  7.400e+01  6.400e+01\n",
      "  8.300e+01  6.100e+01  7.500e+01  6.800e+01  6.300e+01  1.100e+01\n",
      "  7.000e+01 -2.900e+01  7.000e+00  8.000e+00  7.200e+01  1.000e+01\n",
      "  1.300e+01  1.500e+01  1.200e+01  7.800e+01  8.400e+01  7.900e+01\n",
      "  8.500e+01 -1.200e+01  8.000e+01  7.600e+01  5.000e+00 -1.800e+01\n",
      "  8.600e+01  8.100e+01  4.000e+00  8.900e+01  8.200e+01  2.000e+00\n",
      "  8.800e+01 -4.800e+01  8.700e+01 -1.700e+01 -2.600e+01  9.300e+01\n",
      "  9.000e+01 -1.000e+01  9.900e+01  9.700e+01 -2.500e+01 -5.000e+00\n",
      "  9.600e+01 -7.000e+00 -2.100e+01 -1.300e+01 -1.000e+00 -2.000e+00\n",
      " -4.000e+00 -9.000e+00  3.000e+00  9.400e+01 -1.500e+01 -6.500e+01\n",
      " -2.800e+01 -6.000e+00 -1.400e+01 -3.000e+00 -3.800e+01 -1.600e+01\n",
      " -3.100e+01  9.200e+01 -4.300e+01  9.500e+01 -2.200e+01 -2.700e+01\n",
      "  0.000e+00 -2.300e+01 -1.100e+01 -6.300e+01 -8.000e+00 -3.500e+01\n",
      " -3.400e+01 -4.400e+01 -1.900e+01 -2.400e+01 -3.700e+01 -2.000e+01\n",
      " -3.900e+01  9.100e+01 -4.700e+01 -3.000e+01 -7.600e+01 -9.690e+02\n",
      " -3.300e+01 -7.896e+03 -8.100e+01 -9.370e+02]\n"
     ]
    }
   ],
   "source": [
    "print(df_cleaned['Actor age at movie release'].unique())"
   ]
  },
  {
   "cell_type": "markdown",
   "metadata": {},
   "source": [
    "Once again, lots of \"wrong\" invalid values. Let us only take the clean ones."
   ]
  },
  {
   "cell_type": "code",
   "execution_count": 62,
   "metadata": {},
   "outputs": [
    {
     "name": "stdout",
     "output_type": "stream",
     "text": [
      "49738\n"
     ]
    },
    {
     "data": {
      "image/png": "[encoded data removed]",
      "text/plain": [
       "<Figure size 1000x600 with 1 Axes>"
      ]
     },
     "metadata": {},
     "output_type": "display_data"
    }
   ],
   "source": [
    "df_aamr = unique_actors_df[(unique_actors_df['Actor age at movie release'] >= 0) & (unique_actors_df['Actor age at movie release'] <= 100)]\n",
    "\n",
    "actor_aamr_df = df_aamr[['Actor age at movie release']].astype(int)\n",
    "print(len(actor_aamr_df))\n",
    "\n",
    "aamr_per_year = actor_aamr_df['Actor age at movie release'].value_counts().sort_index()\n",
    "\n",
    "plt.figure(figsize=(10, 6))\n",
    "aamr_per_year.plot(kind='bar', color='skyblue')\n",
    "plt.xlabel('Actor age at movie release')\n",
    "plt.ylabel('Number of Actors')\n",
    "plt.title('Counts of actor ages at movie release')\n",
    "\n",
    "plt.xticks(range(0, len(aamr_per_year.index), 5), aamr_per_year.index[::5], rotation=45)\n",
    "\n",
    "plt.show();"
   ]
  },
  {
   "cell_type": "markdown",
   "metadata": {},
   "source": [
    "There's a real peak of the number of actors around 20 to 35 years, after which it starts to decline and before which the numbers are low as well (but increasing).\n",
    "\n",
    "Once again, this analysis of the characters metadata indicates that the CMU, for optimal research, should be enriched and cleaned with the actors Date of births, their gender and their age at the movie relase. "
   ]
  },
  {
   "cell_type": "markdown",
   "metadata": {},
   "source": [
    "### The CMU NLP data\n",
    "\n",
    "........... (put Arthur's work here !) -Arthur: either here or after IMdb as u guys prefer"
   ]
  },
  {
   "cell_type": "markdown",
   "metadata": {},
   "source": [
    "## The IMDb data"
   ]
  },
  {
   "cell_type": "markdown",
   "metadata": {},
   "source": [
    "To be able to improve the quality of our work and of our research questions, we need some additional information about the critical acclamation, the different persons part of movies crews, from directors to makeup artists. \n",
    "\n",
    "In addition, adding another dataset may very well be of use to improve the quality of the data that we have in CMU, which we saw can be lacking on some points.\n",
    "\n",
    "We thus decide to use the IMDb datasets as our main source of enrichment, as they contain much of the information we need. We load the latter before going into analysing their composition :"
   ]
  },
  {
   "cell_type": "code",
   "execution_count": null,
   "metadata": {},
   "outputs": [],
   "source": [
    "# use read_dataframe, u may need to modify it\n",
    "imdb_people = pd.read_csv('data/IMDb/name.basics.tsv', sep='\\t', na_values=['\\\\N'])\n",
    "#imdb_info = pd.read_csv('data/IMDb/title.basics.tsv', sep='\\t', na_values=['\\\\N'])\n",
    "#imdb_principals = pd.read_csv('data/IMDb/title.principals.tsv', sep='\\t', na_values=['\\\\N'])\n",
    "#imdb_ratings = pd.read_csv('data/IMDb/title.ratings.tsv', sep='\\t', na_values=['\\\\N'])"
   ]
  },
  {
   "cell_type": "markdown",
   "metadata": {},
   "source": [
    "As our aim is to be able to enrich our CMU corpus with IMDb info by merging the different datasets, we will run a few things to see what's missing and what's present in the IMDb metadata. First, about movies/shows etc. that are contained in the imdb_info dataset :"
   ]
  },
  {
   "cell_type": "code",
   "execution_count": null,
   "metadata": {},
   "outputs": [],
   "source": [
    "print('Number of entries :',len(imdb_info))\n",
    "print('Number of unique IMDb titles:', imdb_info['tconst'].nunique())"
   ]
  },
  {
   "cell_type": "markdown",
   "metadata": {},
   "source": [
    "The info_imdb only contains unique IMDb titles, there doesn't seem to be any repetition based on the tconst attributes."
   ]
  },
  {
   "cell_type": "code",
   "execution_count": null,
   "metadata": {},
   "outputs": [],
   "source": [
    "print('How many Title primary names are missing? -->', imdb_info['primaryTitle'].isna().sum())\n",
    "\n",
    "print('How many start years are missing in the dataset? -->',imdb_info['startYear'].isna().sum())\n",
    "\n",
    "print('How many end years are missing in the dataset? -->',imdb_info['endYear'].isna().sum())\n",
    "\n",
    "print('How many entries lack info about the runtime? -->', imdb_info['runtimeMinutes'].isna().sum())\n",
    "\n",
    "print('How many entries lack info about the genres? -->', imdb_info['genres'].isna().sum())"
   ]
  },
  {
   "cell_type": "markdown",
   "metadata": {},
   "source": [
    "- Nearly no primary names for title lacking that's good.\n",
    "\n",
    "- Not that much start years missing, only for 13.4% of the entries. For our CMU dataset, this is the column that would be equivalent to the \"Movie release Year\" : high chance we can enrich our data with it !\n",
    "\n",
    "- A vast majority of end years missing but this is normal as this is only filled for shows, not movies.\n",
    "\n",
    "- Not that many missing genres, only for ~5% of our dataset. Some chance that this info could be compared with what's in the CMU and maybe decide to use these genres instead of the CMU ones if they're more interesting ?\n",
    "\n",
    "- 70% of the runtime value missing. That still leaves 3M movies/shows where info is available for our 80k movie/shows of the CMU, which is still a lot. But there's risk that IMDb won't maybe be optimal to retrieve the Runtime value.\n",
    "\n",
    "- Also, no info about the box office of movies if we wanted to use it to quantify the movie's success in our characters/personas analysis if we want to talk about how successful these are. If we want the revenue, we need to add an additional dataset."
   ]
  },
  {
   "cell_type": "markdown",
   "metadata": {},
   "source": [
    "Then, about the ratings, which could be used for the success of films :"
   ]
  },
  {
   "cell_type": "code",
   "execution_count": null,
   "metadata": {},
   "outputs": [],
   "source": [
    "print('Number of entries :',len(imdb_ratings))\n",
    "print('Number of unique IMDb titles:', imdb_ratings['tconst'].nunique())"
   ]
  },
  {
   "cell_type": "markdown",
   "metadata": {},
   "source": [
    "Only unique entries but for only 1.36 million entries out of the 10.2 millions that we have in imdb_info. Hopefully they're all valid :"
   ]
  },
  {
   "cell_type": "code",
   "execution_count": null,
   "metadata": {},
   "outputs": [],
   "source": [
    "print('How many ratings are missing? -->', imdb_ratings['averageRating'].isna().sum())"
   ]
  },
  {
   "cell_type": "markdown",
   "metadata": {},
   "source": [
    "Nice, at least we do not have missing values. Problem is that ratings might not be that accurate if they're based on just a very few number of votes. How many number of votes do ratings have approximately ?"
   ]
  },
  {
   "cell_type": "code",
   "execution_count": null,
   "metadata": {},
   "outputs": [],
   "source": [
    "mean_votes = imdb_ratings['numVotes'].mean()\n",
    "median_votes = imdb_ratings['numVotes'].median()\n",
    "std_dev_votes = imdb_ratings['numVotes'].std()\n",
    "\n",
    "# Display the results\n",
    "print(f\"Mean number of votes: {mean_votes:.2f}\")\n",
    "print(f\"Median number of votes: {median_votes}\")\n",
    "print(f\"Standard deviation of votes: {std_dev_votes:.2f}\")"
   ]
  },
  {
   "cell_type": "markdown",
   "metadata": {},
   "source": [
    "No histogram there as the disparity is too big between what's in the huge dataset, it doesn't render any interesting information. Median interesting here : As many films with 26 votes or less than ones that have more than. \n",
    "\n",
    "The most famous movies and shows will have a lot of votes while many niche / unknown films or even films made in countries where people are not used to go rate films on IMDb (i.e a lot of people) won't have votes on here.\n",
    "\n",
    "Difficult to know if the movies in the CMU would get ratings with a sufficient number of votes to really reflect popular opinion on the movie. We'll have to try ! Otherwise, we could very well scrap Critics from other websites, if available on the wikipedia page."
   ]
  },
  {
   "cell_type": "markdown",
   "metadata": {},
   "source": [
    "##### IMDb people "
   ]
  },
  {
   "cell_type": "code",
   "execution_count": null,
   "metadata": {},
   "outputs": [],
   "source": [
    "print('Number of entries :',len(imdb_people))\n",
    "print('Number of unique people in the dataset:', imdb_people['nconst'].nunique())"
   ]
  },
  {
   "cell_type": "markdown",
   "metadata": {},
   "source": [
    "And who are these people exactly ?"
   ]
  },
  {
   "cell_type": "code",
   "execution_count": null,
   "metadata": {},
   "outputs": [],
   "source": [
    "fig = plt.figure(figsize=(4, 10))\n",
    "ax = fig.add_subplot(111)\n",
    "\n",
    "(imdb_people.primaryProfession\n",
    "    .str.split(',', expand=True)\n",
    "    .stack(dropna=True)\n",
    "    .value_counts(ascending=True)\n",
    ").plot.barh(\n",
    "    ax=ax,\n",
    ")\n",
    "\n",
    "ax.set(\n",
    "    xscale='log'\n",
    ");"
   ]
  },
  {
   "cell_type": "markdown",
   "metadata": {},
   "source": [
    "We can observe that this datasets coveres a very large range of job types in the cinematic production "
   ]
  },
  {
   "cell_type": "markdown",
   "metadata": {},
   "source": [
    "## Merging CMU dataset with the IMDb dataset"
   ]
  },
  {
   "cell_type": "markdown",
   "metadata": {},
   "source": [
    "As we previously said, CMU could be used to enrich our data as well as get new information that may be very useful for the rest of our work.\n",
    "\n",
    "Add additional information, can't do it now"
   ]
  },
  {
   "cell_type": "markdown",
   "metadata": {},
   "source": [
    "A naive approach would be to merge on the title of the movies or on a combination of movie name and year for instance. However, we saw earlier in this notebook that to be completely sure about correctly collecting unique movies from the CMU dataset, Wikipedia Movie ID were more reliable.\n",
    "\n",
    "However, this ID is not present in the IMDb dataset. The only id that we have to identify the movies is the IMDB id. We need to find a way to retrieve the IMDb ids of the movies present in our CMU dataset."
   ]
  },
  {
   "cell_type": "markdown",
   "metadata": {},
   "source": [
    "### Crawling Wikipedia and querying Wikidata"
   ]
  },
  {
   "cell_type": "markdown",
   "metadata": {},
   "source": [
    "If only there existed a mapping between Wikipedia ID / Freebase ID to IMDb IDs, the merging could be done. \n",
    "\n",
    "We notice that the same string also appears in the URL of the movie page on the IMDb website. With the help of an external library, [wikipedia](https://wikipedia.readthedocs.org/en/latest/), we can get the content of the Wikipedia page of a movie from its Wikipedia ID in the CMU dataset. We also notice that the IMDb page of the movie is most of the times referenced in the Wikipedia pages of the movies, meaning that we can link the two by crawling Wikipedia. However, this approach might fail if the IMDb page is not included anywhere in the Wikipedia page, or the Wikipedia page is not retrievable from its page ID.\n",
    "\n",
    "For these cases, we follow an alternative approach. In the Wikidata page of a movie, both the Freebase ID and the IMDb ID are listed. We can use the [Wikidata Query Service](https://query.wikidata.org) to match these two together."
   ]
  },
  {
   "cell_type": "markdown",
   "metadata": {},
   "source": [
    "The `helpers.external.crawl_wikipedia` and `helpers.external.crawl_wikidata` methods are used in `helpers.external.extract_cmu_imdb_mapping` to get such mappings. The whole process takes around 24 hours but can be improved by engineering the requests sent to Wikipedia by the external library. Since we only need to do this once, we opt to focus on the other parts and stick with the implementation of the external library. `helpers.external.extract_cmu_imdb_mapping` generates such mappings by the two methods, aggregates them, and stores the final mapping (and the most complete one) in `./generated/wp2imdb.csv`. The file is available in the repository but can be regenerated simply by running this function.\n",
    "\n",
    "```python\n",
    "from helpers.external import extract_cmu_imdb_mapping\n",
    "extract_cmu_imdb_mapping()\n",
    "```\n",
    "\n",
    "We use this mapping in the rest of this section to merge the two datasets."
   ]
  },
  {
   "cell_type": "code",
   "execution_count": null,
   "metadata": {},
   "outputs": [],
   "source": [
    "mapping_01 = pd.read_csv('generated/wp2imdb_01.csv')\n",
    "mapping_02 = pd.read_csv('generated/wp2imdb_02.csv')\n",
    "mapping = pd.read_csv('generated/wp2imdb.csv')\n",
    "\n",
    "#len(mapping_01), len(mapping_02), len(mapping.imdb.unique()), len(cmu_movies)"
   ]
  },
  {
   "cell_type": "markdown",
   "metadata": {},
   "source": [
    "There are thus 57 IMDb movies that are duplicated in the first method, and 11 in the second one:"
   ]
  },
  {
   "cell_type": "code",
   "execution_count": null,
   "metadata": {},
   "outputs": [],
   "source": [
    "duplicates_01 = mapping_01[mapping_01.imdb.duplicated(keep=False)]\n",
    "duplicates_02 = mapping_02[mapping_02.imdb.duplicated(keep=False)]\n",
    "\n",
    "len(duplicates_01.imdb.unique()), len(duplicates_02.imdb.unique())"
   ]
  },
  {
   "cell_type": "markdown",
   "metadata": {},
   "source": [
    "Let's analyze the two mappings separately. First, we merge the duplicated mappings with the CMU table to get the titles. Then we add the URL of the Wikipedia page to check them more easily."
   ]
  },
  {
   "cell_type": "code",
   "execution_count": null,
   "metadata": {},
   "outputs": [],
   "source": [
    "#duplicates_01 = pd.merge(left=duplicates_01, right=cmu_movies, on='wikipedia', how='left').sort_values(by='imdb')\n",
    "#duplicates_01['url'] = duplicates_01.wikipedia.apply(lambda pageid: wikipedia.page(pageid=pageid).url)\n",
    "#display(duplicates_01, display_id=False)"
   ]
  },
  {
   "cell_type": "markdown",
   "metadata": {},
   "source": [
    "### Finish the analysis of the merging with what's left in Sepehr's notebook"
   ]
  },
  {
   "cell_type": "markdown",
   "metadata": {},
   "source": [
    "### Matching IMDb & CMU informations :\n",
    "\n",
    "\n",
    "Let's say we decide to only keep the 74k out of 82k movies where we can retrieve the IMDb ID per the Wiki data crawling method as our dataset. A first thing that we can do is use the mapping produced to get, from IMDb, only the persons that are part of movies in the CMU :"
   ]
  },
  {
   "cell_type": "code",
   "execution_count": null,
   "metadata": {},
   "outputs": [],
   "source": [
    "imdb_people_exploded = imdb_people.copy()\n",
    "imdb_people_exploded['knownForTitles'] = imdb_people['knownForTitles'].str.split(',')\n",
    "imdb_people_exploded = imdb_people_exploded.explode(['knownForTitles'])\n",
    "\n",
    "\n",
    "merged_ipe = pd.merge(imdb_people_exploded, mapping_02, how='inner', left_on='knownForTitles', right_on='imdb')\n",
    "unique_matched_persons = merged_ipe.drop_duplicates(subset='nconst', keep='first')"
   ]
  },
  {
   "cell_type": "code",
   "execution_count": null,
   "metadata": {},
   "outputs": [],
   "source": [
    "matched_imdb_people = pd.merge(imdb_people, unique_matched_persons[['nconst']], on='nconst', how='inner')\n",
    "len(matched_imdb_people)"
   ]
  },
  {
   "cell_type": "code",
   "execution_count": null,
   "metadata": {},
   "outputs": [],
   "source": [
    "fig = plt.figure(figsize=(4, 10))\n",
    "ax = fig.add_subplot(111)\n",
    "\n",
    "(matched_imdb_people.primaryProfession\n",
    "    .str.split(',', expand=True)\n",
    "    .stack(dropna=True)\n",
    "    .value_counts(ascending=True)\n",
    ").plot.barh(\n",
    "    ax=ax,\n",
    ")\n",
    "\n",
    "ax.set(\n",
    "    xscale='log'\n",
    ");"
   ]
  },
  {
   "cell_type": "markdown",
   "metadata": {},
   "source": [
    "From the original 12M~ number of unique persons originally present in the _imdb_people_ dataset, we can extract approximately 1.5M that worked, in all fields of the production, on movies that are part of the CMU corpus, based on the matching between Freebase and IMDb IDS.\n",
    "\n",
    "\n",
    "However, each of these persons in the imdb_people have different 'PrimaryProfessions' : we do not know yet what eact job they occupied for each film. However, we have the principals dataset which has all the interesting information about that :"
   ]
  },
  {
   "cell_type": "code",
   "execution_count": null,
   "metadata": {},
   "outputs": [],
   "source": [
    "imdb_principals.head(5)"
   ]
  },
  {
   "cell_type": "code",
   "execution_count": null,
   "metadata": {},
   "outputs": [],
   "source": [
    "matched_imdb_people.head(5)"
   ]
  },
  {
   "cell_type": "markdown",
   "metadata": {},
   "source": [
    "We will take thus only 'nconst' and 'tconst' entities that belong to the CMU Movie corpus, thanks to our mapping and to the list of people just extracted before."
   ]
  },
  {
   "cell_type": "code",
   "execution_count": null,
   "metadata": {},
   "outputs": [],
   "source": [
    "tmp_principal_people = pd.merge(imdb_principals, matched_imdb_people[['nconst']], on='nconst', how='inner')\n",
    "matched_principal_people = pd.merge(tmp_principal_people,mapping_02[['imdb']],left_on='tconst',right_on='imdb',how='inner')"
   ]
  },
  {
   "cell_type": "code",
   "execution_count": null,
   "metadata": {},
   "outputs": [],
   "source": [
    "display(matched_principal_people)"
   ]
  },
  {
   "cell_type": "markdown",
   "metadata": {},
   "source": [
    "This matched_principal_dataset contains the information about all the people that worked on the CMU Movies in all fields of the production ! We obtain 618 725 entries, which represent people with a specific job on a specific movie of the CMU.\n",
    "\n",
    "This number may be lower than the 1.5M people obtained earlier due to the fact that we are not handling the 'principals' dataset, which contains different information than 'people'. How many unique persons does that represent for how many unique movies ?"
   ]
  },
  {
   "cell_type": "code",
   "execution_count": null,
   "metadata": {},
   "outputs": [],
   "source": [
    "print(matched_principal_people['nconst'].nunique())\n",
    "print(matched_principal_people['tconst'].nunique())"
   ]
  },
  {
   "cell_type": "markdown",
   "metadata": {},
   "source": [
    "Once again a quick double check for the number of movies : we still have ~73.5K of them from the CMU. And we can see that this correspond to ~191 563 persons in total ! This could be a first indicator that the same faces can be found in different movies, at all stages of the production. \n",
    "However, we can also see for instance in the tt8355792 (two rows before the two very last ones above) that we only have information about the directors of the movie here. We most likely do not have complete information for all the 73 646 movies, but let's check how many unique people were part of each of those movies, and let's see how many directors are present in the dataframe :"
   ]
  },
  {
   "cell_type": "code",
   "execution_count": null,
   "metadata": {},
   "outputs": [],
   "source": [
    "people_count_per_movie = matched_principal_people.groupby('tconst')['nconst'].nunique().reset_index()\n",
    "\n",
    "# Rename the columns for clarity\n",
    "people_count_per_movie.columns = ['tconst', 'people_count']\n",
    "\n",
    "plt.hist(people_count_per_movie['people_count'], bins=range(1, max(people_count_per_movie['people_count']) + 2), align='left')\n",
    "\n",
    "plt.xlabel('Number of People')\n",
    "plt.ylabel('Number of Movies')\n",
    "plt.title('Histogram of Number of People in Each Movie')\n",
    "\n",
    "plt.show()"
   ]
  },
  {
   "cell_type": "code",
   "execution_count": null,
   "metadata": {},
   "outputs": [],
   "source": [
    "director_counts = matched_principal_people[matched_principal_people['category'] == 'director']['nconst'].value_counts()\n",
    "total_directors = director_counts.sum()\n",
    "print('The number of individuals occupying a \"director\" role in the CMU Movies is ',total_directors)"
   ]
  },
  {
   "cell_type": "markdown",
   "metadata": {},
   "source": [
    "That's two extremely relieving results ! We have a very few number of movies where a few numbers of people are reported for the cast, so much usable data, and we have a very big number of directors as well. How many of them are unique directors ?"
   ]
  },
  {
   "cell_type": "code",
   "execution_count": null,
   "metadata": {},
   "outputs": [],
   "source": [
    "directors_df = matched_principal_people[matched_principal_people['category'] == 'director']\n",
    "\n",
    "# Get the number of unique directors\n",
    "num_directors = directors_df['nconst'].nunique()\n",
    "\n",
    "# Display the result\n",
    "print(f'The number of directors in the DataFrame is: {num_directors}')"
   ]
  },
  {
   "cell_type": "markdown",
   "metadata": {},
   "source": [
    "That's great as well ! This means that we have a large number of directors that have directed many movies in the CMU movie corpus and that we can try to analyse how any changes in their cast, etc. have influenced their career, successes, etc.\n",
    "\n",
    "What are the repartitions of jobs in this dataset ?"
   ]
  },
  {
   "cell_type": "code",
   "execution_count": null,
   "metadata": {},
   "outputs": [],
   "source": [
    "fig = plt.figure(figsize=(4, 10))\n",
    "ax = fig.add_subplot(111)\n",
    "\n",
    "(matched_principal_people.category\n",
    "    .str.split(',', expand=True)\n",
    "    .stack(dropna=True)\n",
    "    .value_counts(ascending=True)\n",
    ").plot.barh(\n",
    "    ax=ax,\n",
    ")\n",
    "\n",
    "ax.set(\n",
    "    xscale='log'\n",
    ");"
   ]
  },
  {
   "cell_type": "markdown",
   "metadata": {},
   "source": [
    "We can observe that we have less diverse categories than in the imdb_people dataframe. However, this may be interesting to keep it to those categories, as it could allow to have a more 'tidied' way of proceeding."
   ]
  },
  {
   "cell_type": "markdown",
   "metadata": {},
   "source": [
    "### Enriching the rest of our data"
   ]
  },
  {
   "cell_type": "markdown",
   "metadata": {},
   "source": [
    "IMDb provided with many additional information, especially about the directors themselves and their different teams. However, we still have some questions left unanswered as of now :\n",
    "\n",
    "- How do we want to enrich the data with valid Box office values ? Can we also add the budget ? "
   ]
  },
  {
   "cell_type": "markdown",
   "metadata": {},
   "source": []
  },
  {
   "cell_type": "code",
   "execution_count": null,
   "metadata": {},
   "outputs": [],
   "source": [
    "movielens_metadata = pd.read_csv('data/MovieLens/movies_metadata.csv', usecols=[\"id\",\"overview\",\"title\",\"vote_average\",\"release_date\"], delimiter=',')\n"
   ]
  },
  {
   "cell_type": "code",
   "execution_count": null,
   "metadata": {},
   "outputs": [],
   "source": [
    "from ast import literal_eval\n",
    "\n",
    "def convert_json_string(json_str):\n",
    "    return literal_eval(json_str.replace(\"'\", '\"')) if pd.notnull(json_str) else None\n"
   ]
  },
  {
   "cell_type": "code",
   "execution_count": null,
   "metadata": {},
   "outputs": [],
   "source": [
    "#df = pd.read_csv('data/MovieLens/movies_metadata.csv', converters={\n",
    "#    'belongs_to_collection': convert_json_string,\n",
    "#    'genres': convert_json_string,\n",
    "#    'production_companies': convert_json_string,\n",
    "#    'production_countries': convert_json_string,\n",
    "#    'spoken_languages': convert_json_string\n",
    "#})"
   ]
  },
  {
   "cell_type": "code",
   "execution_count": null,
   "metadata": {},
   "outputs": [],
   "source": []
  }
 ],
 "metadata": {
  "kernelspec": {
   "display_name": "Python 3 (ipykernel)",
   "language": "python",
   "name": "python3"
  },
  "language_info": {
   "codemirror_mode": {
    "name": "ipython",
    "version": 3
   },
   "file_extension": ".py",
   "mimetype": "text/x-python",
   "name": "python",
   "nbconvert_exporter": "python",
   "pygments_lexer": "ipython3",
   "version": "3.11.3"
  }
 },
 "nbformat": 4,
 "nbformat_minor": 2
}

{
 "cells": [
  {
   "cell_type": "markdown",
   "metadata": {},
   "source": [
    "Notebook containing initial analyses and data handling pipelines. We will grade the correctness, quality of code, and quality of textual descriptions."
   ]
  },
  {
   "cell_type": "markdown",
   "metadata": {},
   "source": [
    "* [IMDb dataset](https://developer.imdb.com/non-commercial-datasets/)"
   ]
  },
  {
   "cell_type": "code",
   "execution_count": 1,
   "metadata": {},
   "outputs": [],
   "source": [
    "## TODO: Find all the roles that exist in the dataset\n",
    "## TODO: Define the weights of the edges\n",
    "## TODO: Make sure that we have enough data to build the graphs\n",
    "\n",
    "## TODO: Clean the CMU dataset and merge with IMDb"
   ]
  },
  {
   "cell_type": "code",
   "execution_count": 1,
   "metadata": {},
   "outputs": [],
   "source": [
    "#import librairies\n",
    "import pandas as pd\n",
    "import os\n",
    "import numpy as np\n",
    "import matplotlib.pyplot as plt\n",
    "import seaborn as sns\n",
    "import ast\n",
    "import json\n",
    "\n"
   ]
  },
  {
   "cell_type": "code",
   "execution_count": null,
   "metadata": {},
   "outputs": [],
   "source": [
    "#load files\n",
    "\n",
    "#CMU dataset\n",
    "data_plot = pd.read_csv('plot_summaries.txt', sep='\\t')\n",
    "data_name = pd.read_csv('name.clusters.txt', sep='\\t')\n",
    "data_movie = pd.read_csv('movie.metadata.tsv', sep='\\t')\n",
    "data_character = pd.read_csv('character.metadata.tsv', sep='\\t')\n",
    "data_tvtropes = pd.read_csv('tvtropes.clusters.txt', sep='\\t')\n",
    "\n",
    "# IMDb dataset\n",
    "df_profession = pd.read_csv('data_name_basics.tsv', sep ='\\t')\n",
    "df_title = pd.read_csv('data_title_basics.tsv', sep='\\t')\n",
    "df_link = pd.read_csv('data_title_principals.tsv', sep='\\t')\n",
    "df_rating = pd.read_csv('rating.tsv', sep='\\t')"
   ]
  },
  {
   "cell_type": "code",
   "execution_count": null,
   "metadata": {},
   "outputs": [],
   "source": [
    "#merge IMDb dataset\n",
    "df_profession_link = pd.merge(df_profession[['nconst','primaryName','primaryProfession']], df_link[['tconst','nconst']], on='nconst')\n",
    "df_profession_link_title = pd.merge(df_profession_link[['primaryName', 'primaryProfession','tconst']], df_title[['primaryTitle','tconst']], on='tconst')\n",
    "df_profession_title_rating = pd.merge(df_profession_link_title[['primaryName', 'primaryProfession','primaryTitle','tconst']], df_rating[['tconst','averageRating']], on='tconst')\n",
    "\n",
    "# select attributes\n",
    "df_profession_title = df_profession_title_rating[['primaryName','primaryTitle','primaryProfession','averageRating']]"
   ]
  },
  {
   "cell_type": "markdown",
   "metadata": {},
   "source": [
    "\n"
   ]
  },
  {
   "cell_type": "markdown",
   "metadata": {},
   "source": [
    "# For after Friday"
   ]
  },
  {
   "cell_type": "markdown",
   "metadata": {},
   "source": [
    "The goal of this milestone is to intimately acquaint yourself with the data, preprocess it, and complete all the necessary descriptive statistics tasks. We expect you to have a pipeline in place, fully documented in a notebook, and show us that you have clear project goals."
   ]
  },
  {
   "cell_type": "markdown",
   "metadata": {},
   "source": [
    "When describing the relevant aspects of the data, and any other datasets you may intend to use, you should in particular show (non-exhaustive list):\n",
    "\n",
    "* That you can handle the data in its size.\n",
    "* That you understand what’s in the data (formats, distributions, missing values, correlations, etc.).\n",
    "* That you considered ways to enrich, filter, transform the data according to your needs.\n",
    "* That you have a reasonable plan and ideas for methods you’re going to use, giving their essential mathematical details in the notebook.\n",
    "* That your plan for analysis and communication is reasonable and sound, potentially discussing alternatives to your choices that you considered but dropped.\n"
   ]
  },
  {
   "cell_type": "markdown",
   "metadata": {},
   "source": []
  }
 ],
 "metadata": {
  "kernelspec": {
   "display_name": "dummy",
   "language": "python",
   "name": "python3"
  },
  "language_info": {
   "codemirror_mode": {
    "name": "ipython",
    "version": 3
   },
   "file_extension": ".py",
   "mimetype": "text/x-python",
   "name": "python",
   "nbconvert_exporter": "python",
   "pygments_lexer": "ipython3",
   "version": "3.9.18"
  }
 },
 "nbformat": 4,
 "nbformat_minor": 2
}

{
 "cells": [
  {
   "cell_type": "markdown",
   "metadata": {},
   "source": [
    "I am using [`wikipedia`](https://pypi.org/project/wikipedia/) library. You can read the documentation [here](https://wikipedia.readthedocs.io/en/latest/code.html)."
   ]
  },
  {
   "cell_type": "code",
   "execution_count": null,
   "metadata": {},
   "outputs": [],
   "source": [
    "!pip install wikipedia"
   ]
  },
  {
   "cell_type": "code",
   "execution_count": 60,
   "metadata": {},
   "outputs": [],
   "source": [
    "import wikipedia as wp\n",
    "import pandas as pd"
   ]
  },
  {
   "cell_type": "markdown",
   "metadata": {},
   "source": [
    "### Example"
   ]
  },
  {
   "cell_type": "markdown",
   "metadata": {},
   "source": [
    "We want to find the IMDb ID (`tt0228333`) from the Wikipedia page ID (`975900`), which links the [Wikipedia page](https://en.wikipedia.org/wiki/Ghosts_of_Mars) to the [IMDb page](https://www.imdb.com/title/tt0228333/) of the move *Ghosts of Mars*.\n"
   ]
  },
  {
   "cell_type": "markdown",
   "metadata": {},
   "source": [
    "We can easily spot the extrnal links in this page:"
   ]
  },
  {
   "cell_type": "code",
   "execution_count": 42,
   "metadata": {},
   "outputs": [
    {
     "data": {
      "text/plain": [
       "['http://www.theofficialjohncarpenter.com/pages/themovies/gm/gmstrk.html',\n",
       " 'http://www.filmtracks.com/titles/ghosts_mars.html',\n",
       " 'http://www.soundtrack.net/albums/database/?id=2877',\n",
       " 'http://www.sbs.com.au/movies/review/sci-fi-fans-will-love-it',\n",
       " 'http://www.contactmusic.com/ice-cube/news/ice-cube-regrets-turning-down-menace-taking-ghosts-of-mars_1081122',\n",
       " 'https://web.archive.org/web/20121222230453/http://www.theofficialjohncarpenter.com/pages/themovies/gm/gmstrk.html',\n",
       " 'https://m.cinemascore.com/',\n",
       " 'https://www.allmovie.com/movie/v250566',\n",
       " 'http://ihorrordatabase.blogspot.com/2016/08/on-this-day-in-horror-august-24th.html',\n",
       " 'https://web.archive.org/web/20040907041359/http://www.theofficialjohncarpenter.com/pages/themovies/gm/gm.html',\n",
       " 'https://www.imdb.com/title/tt0228333/',\n",
       " 'https://www.boxofficemojo.com/movies/?id=ghostsofmars.htm',\n",
       " 'https://www.rottentomatoes.com/m/john_carpenters_ghosts_of_mars',\n",
       " 'https://www.austinchronicle.com/events/film/2001-08-24/141402/',\n",
       " 'https://ew.com/ew/article/review/movie/0,6115,172500~1~0~johncarpentersghostsof,00.html',\n",
       " 'http://www.reelviews.net/movies/g/ghosts_mars.html',\n",
       " 'https://www.metacritic.com/movie/ghosts-of-mars',\n",
       " 'https://rogerebert.com/reviews/ghosts-of-mars-2001',\n",
       " 'https://boxofficemojo.com/weekend/chart/?yr=2001&wknd=34&p=.htm',\n",
       " 'https://www.denofgeek.com/movies/ghosts-of-mars/26980/10-remarkable-things-about-john-carpenters-ghosts-of-mars',\n",
       " 'https://filmschoolrejects.com/john-carpenter-ghosts-of-mars-commentary/',\n",
       " 'https://spectrumculture.com/2019/05/23/oeuvre-carpenter-ghosts-of-mars/',\n",
       " 'http://411mania.com/movies/gratuitous-b-movie-column-john-carpenters-ghosts-mars-awesome/',\n",
       " 'https://www.wikidata.org/wiki/Q261700#identifiers',\n",
       " 'https://musicbrainz.org/release-group/b4a2e726-2fff-3d5e-9cda-8c2949649e2f',\n",
       " 'http://catalog.afi.com/Film/62065-JOHN-CARPENTERSGHOSTSOFMARS?sid=69ec9ee4-c06a-4ec5-ae97-b40f849f3099&sr=15.194245&cp=1&pos=0',\n",
       " 'https://bloody-disgusting.com/editorials/3403507/15th-anniversary-ghosts-of-mars/',\n",
       " 'https://www.theguardian.com/film/2021/jun/04/john-carpenter-ghosts-of-mars-not-bad-movie',\n",
       " 'https://www.wikidata.org/wiki/Q261700#P1712',\n",
       " 'https://viaf.org/viaf/313411633',\n",
       " 'http://catalogo.bne.es/uhtbin/authoritybrowse.cgi?action=display&authority_id=XX4034950',\n",
       " 'https://catalogue.bnf.fr/ark:/12148/cb16945640g',\n",
       " 'https://data.bnf.fr/ark:/12148/cb16945640g',\n",
       " 'https://www.popoptiq.com/escape-outer-space-exploration-john-carpenters-ghosts-mars/',\n",
       " 'https://twitter.com/stormkingskc/status/1258449669505470464',\n",
       " 'https://web.archive.org/web/20180721102510/https://411mania.com/movies/gratuitous-b-movie-column-john-carpenters-ghosts-mars-awesome/']"
      ]
     },
     "execution_count": 42,
     "metadata": {},
     "output_type": "execute_result"
    }
   ],
   "source": [
    "p = wp.page(pageid='975900')\n",
    "p.references"
   ]
  },
  {
   "cell_type": "markdown",
   "metadata": {},
   "source": [
    "### Function to do this (to be moved to a helper module):"
   ]
  },
  {
   "cell_type": "code",
   "execution_count": 77,
   "metadata": {},
   "outputs": [],
   "source": [
    "from typing import Union\n",
    "from wikipedia import PageError, DisambiguationError"
   ]
  },
  {
   "cell_type": "code",
   "execution_count": 97,
   "metadata": {},
   "outputs": [],
   "source": [
    "def get_refs(pageid: Union[int, str]) -> dict[str, str]:\n",
    "\n",
    "    imdb_id = None\n",
    "    wikidata_id = None\n",
    "    freebase_id = None\n",
    "    bomojo_id = None\n",
    "\n",
    "    try:\n",
    "        wikipedia_page = wp.page(pageid=pageid)\n",
    "    except (PageError, AttributeError, DisambiguationError):\n",
    "        return None\n",
    "\n",
    "    for url in wikipedia_page.references:\n",
    "        # NOTE: There might be several external links to IMDb pages, needs to be checked\n",
    "        if 'imdb.com/title' in url:\n",
    "            imdb_id = url.split('/')[-2]  # TODO: Sometimes gets overwritten by other IMDb URLs, improve it\n",
    "        # NOTE: There might be several external links to Wikidata pages, needs to be checked\n",
    "        if 'wikidata.org/wiki' in url:\n",
    "            wikidata_id = url.split('/')[-1].split('#')[0]\n",
    "        # NOTE: There might be several external links to Box Office Mojo pages, needs to be checked\n",
    "        if 'boxofficemojo.com/movies' in url:\n",
    "            bomojo_id = [item.split('=')[1] for item in url.split('/')[-1].split('.')[0].split('?') if item.split('=')[0] == 'id']\n",
    "\n",
    "    ids = {\n",
    "        'wikidata': wikidata_id,\n",
    "        'imdb': imdb_id,\n",
    "        'freebase': freebase_id,\n",
    "        'boxofficemojo': bomojo_id,\n",
    "    }\n",
    "\n",
    "    return ids"
   ]
  },
  {
   "cell_type": "markdown",
   "metadata": {},
   "source": [
    "Voilà:"
   ]
  },
  {
   "cell_type": "code",
   "execution_count": 98,
   "metadata": {},
   "outputs": [
    {
     "data": {
      "text/plain": [
       "{'wikidata': 'Q261700',\n",
       " 'imdb': 'tt0228333',\n",
       " 'freebase': None,\n",
       " 'boxofficemojo': ['ghostsofmars']}"
      ]
     },
     "execution_count": 98,
     "metadata": {},
     "output_type": "execute_result"
    }
   ],
   "source": [
    "get_refs('975900')"
   ]
  },
  {
   "cell_type": "markdown",
   "metadata": {},
   "source": [
    "### Try on the dataset"
   ]
  },
  {
   "cell_type": "code",
   "execution_count": 99,
   "metadata": {},
   "outputs": [],
   "source": [
    "movie_column_names = [\n",
    "    \"wikipedia\",\n",
    "    \"freebase\",\n",
    "    \"title\",\n",
    "    \"release\",\n",
    "    \"borevenue\",\n",
    "    \"runtime\",\n",
    "    \"languages\",\n",
    "    \"countries\",\n",
    "    \"genres\",\n",
    "]\n",
    "cmu_movies = pd.read_csv('data/MovieSummaries/movie.metadata.tsv', sep='\\t', names=movie_column_names)"
   ]
  },
  {
   "cell_type": "code",
   "execution_count": 108,
   "metadata": {},
   "outputs": [
    {
     "name": "stderr",
     "output_type": "stream",
     "text": [
      "/opt/miniconda/envs/dummy/lib/python3.11/site-packages/wikipedia/wikipedia.py:389: GuessedAtParserWarning: No parser was explicitly specified, so I'm using the best available HTML parser for this system (\"lxml\"). This usually isn't a problem, but if you run this code on another system, or in a different virtual environment, it may use a different parser and behave differently.\n",
      "\n",
      "The code that caused this warning is on line 389 of the file /opt/miniconda/envs/dummy/lib/python3.11/site-packages/wikipedia/wikipedia.py. To get rid of this warning, pass the additional argument 'features=\"lxml\"' to the BeautifulSoup constructor.\n",
      "\n",
      "  lis = BeautifulSoup(html).find_all('li')\n"
     ]
    }
   ],
   "source": [
    "wikidata_ids = []\n",
    "imdb_ids = []\n",
    "freebase_ids = []\n",
    "bomojo_ids = []\n",
    "\n",
    "for wp_id in cmu_movies.sample(1000).wikipedia:\n",
    "    try:\n",
    "        refs = get_refs(pageid=wp_id)\n",
    "    except Exception as e:\n",
    "        print(wp_id, e)\n",
    "        refs = None\n",
    "\n",
    "    if refs:\n",
    "        wikidata_ids.append(refs['wikidata'])\n",
    "        imdb_ids.append(refs['imdb'])\n",
    "        freebase_ids.append(refs['freebase'])\n",
    "        bomojo_ids.append(refs['boxofficemojo'])"
   ]
  },
  {
   "cell_type": "markdown",
   "metadata": {},
   "source": [
    "It took 700s for 1000 movies. It means 16 hours for the whole dataset..\n",
    "\n",
    "We can make it faster by replicating what this library is doing. They send one pageid at a time in their query and that is why it takes so long. We can send the same query with multiple pageids! But is it worth it..?"
   ]
  },
  {
   "cell_type": "code",
   "execution_count": 117,
   "metadata": {},
   "outputs": [
    {
     "data": {
      "text/plain": [
       "40"
      ]
     },
     "execution_count": 117,
     "metadata": {},
     "output_type": "execute_result"
    }
   ],
   "source": [
    "imdb_ids.count(None)"
   ]
  }
 ],
 "metadata": {
  "kernelspec": {
   "display_name": "dummy",
   "language": "python",
   "name": "python3"
  },
  "language_info": {
   "codemirror_mode": {
    "name": "ipython",
    "version": 3
   },
   "file_extension": ".py",
   "mimetype": "text/x-python",
   "name": "python",
   "nbconvert_exporter": "python",
   "pygments_lexer": "ipython3",
   "version": "3.11.4"
  }
 },
 "nbformat": 4,
 "nbformat_minor": 2
}

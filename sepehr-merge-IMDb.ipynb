{
 "cells": [
  {
   "cell_type": "markdown",
   "metadata": {},
   "source": [
    "I am using [`wikipedia`](https://pypi.org/project/wikipedia/) library. You can read the documentation [here](https://wikipedia.readthedocs.io/en/latest/code.html)."
   ]
  },
  {
   "cell_type": "code",
   "execution_count": null,
   "metadata": {},
   "outputs": [],
   "source": [
    "!pip install wikipedia"
   ]
  },
  {
   "cell_type": "code",
   "execution_count": 60,
   "metadata": {},
   "outputs": [],
   "source": [
    "import wikipedia as wp\n",
    "import pandas as pd"
   ]
  },
  {
   "cell_type": "markdown",
   "metadata": {},
   "source": [
    "# Wikipedia ID -> IMDb ID"
   ]
  },
  {
   "cell_type": "markdown",
   "metadata": {},
   "source": [
    "### Example"
   ]
  },
  {
   "cell_type": "markdown",
   "metadata": {},
   "source": [
    "We want to find the IMDb ID (`tt0228333`) from the Wikipedia page ID (`975900`), which links the [Wikipedia page](https://en.wikipedia.org/wiki/Ghosts_of_Mars) to the [IMDb page](https://www.imdb.com/title/tt0228333/) of the move *Ghosts of Mars*.\n"
   ]
  },
  {
   "cell_type": "markdown",
   "metadata": {},
   "source": [
    "We can easily spot the extrnal links in this page:"
   ]
  },
  {
   "cell_type": "code",
   "execution_count": 42,
   "metadata": {},
   "outputs": [
    {
     "data": {
      "text/plain": [
       "['http://www.theofficialjohncarpenter.com/pages/themovies/gm/gmstrk.html',\n",
       " 'http://www.filmtracks.com/titles/ghosts_mars.html',\n",
       " 'http://www.soundtrack.net/albums/database/?id=2877',\n",
       " 'http://www.sbs.com.au/movies/review/sci-fi-fans-will-love-it',\n",
       " 'http://www.contactmusic.com/ice-cube/news/ice-cube-regrets-turning-down-menace-taking-ghosts-of-mars_1081122',\n",
       " 'https://web.archive.org/web/20121222230453/http://www.theofficialjohncarpenter.com/pages/themovies/gm/gmstrk.html',\n",
       " 'https://m.cinemascore.com/',\n",
       " 'https://www.allmovie.com/movie/v250566',\n",
       " 'http://ihorrordatabase.blogspot.com/2016/08/on-this-day-in-horror-august-24th.html',\n",
       " 'https://web.archive.org/web/20040907041359/http://www.theofficialjohncarpenter.com/pages/themovies/gm/gm.html',\n",
       " 'https://www.imdb.com/title/tt0228333/',\n",
       " 'https://www.boxofficemojo.com/movies/?id=ghostsofmars.htm',\n",
       " 'https://www.rottentomatoes.com/m/john_carpenters_ghosts_of_mars',\n",
       " 'https://www.austinchronicle.com/events/film/2001-08-24/141402/',\n",
       " 'https://ew.com/ew/article/review/movie/0,6115,172500~1~0~johncarpentersghostsof,00.html',\n",
       " 'http://www.reelviews.net/movies/g/ghosts_mars.html',\n",
       " 'https://www.metacritic.com/movie/ghosts-of-mars',\n",
       " 'https://rogerebert.com/reviews/ghosts-of-mars-2001',\n",
       " 'https://boxofficemojo.com/weekend/chart/?yr=2001&wknd=34&p=.htm',\n",
       " 'https://www.denofgeek.com/movies/ghosts-of-mars/26980/10-remarkable-things-about-john-carpenters-ghosts-of-mars',\n",
       " 'https://filmschoolrejects.com/john-carpenter-ghosts-of-mars-commentary/',\n",
       " 'https://spectrumculture.com/2019/05/23/oeuvre-carpenter-ghosts-of-mars/',\n",
       " 'http://411mania.com/movies/gratuitous-b-movie-column-john-carpenters-ghosts-mars-awesome/',\n",
       " 'https://www.wikidata.org/wiki/Q261700#identifiers',\n",
       " 'https://musicbrainz.org/release-group/b4a2e726-2fff-3d5e-9cda-8c2949649e2f',\n",
       " 'http://catalog.afi.com/Film/62065-JOHN-CARPENTERSGHOSTSOFMARS?sid=69ec9ee4-c06a-4ec5-ae97-b40f849f3099&sr=15.194245&cp=1&pos=0',\n",
       " 'https://bloody-disgusting.com/editorials/3403507/15th-anniversary-ghosts-of-mars/',\n",
       " 'https://www.theguardian.com/film/2021/jun/04/john-carpenter-ghosts-of-mars-not-bad-movie',\n",
       " 'https://www.wikidata.org/wiki/Q261700#P1712',\n",
       " 'https://viaf.org/viaf/313411633',\n",
       " 'http://catalogo.bne.es/uhtbin/authoritybrowse.cgi?action=display&authority_id=XX4034950',\n",
       " 'https://catalogue.bnf.fr/ark:/12148/cb16945640g',\n",
       " 'https://data.bnf.fr/ark:/12148/cb16945640g',\n",
       " 'https://www.popoptiq.com/escape-outer-space-exploration-john-carpenters-ghosts-mars/',\n",
       " 'https://twitter.com/stormkingskc/status/1258449669505470464',\n",
       " 'https://web.archive.org/web/20180721102510/https://411mania.com/movies/gratuitous-b-movie-column-john-carpenters-ghosts-mars-awesome/']"
      ]
     },
     "execution_count": 42,
     "metadata": {},
     "output_type": "execute_result"
    }
   ],
   "source": [
    "p = wp.page(pageid='975900')\n",
    "p.references"
   ]
  },
  {
   "cell_type": "markdown",
   "metadata": {},
   "source": [
    "### Function to do this (to be moved to a helper module):"
   ]
  },
  {
   "cell_type": "code",
   "execution_count": 77,
   "metadata": {},
   "outputs": [],
   "source": [
    "from typing import Union\n",
    "from wikipedia import PageError, DisambiguationError"
   ]
  },
  {
   "cell_type": "code",
   "execution_count": 97,
   "metadata": {},
   "outputs": [],
   "source": [
    "def get_refs(pageid: Union[int, str]) -> dict[str, str]:\n",
    "\n",
    "    imdb_id = None\n",
    "    wikidata_id = None\n",
    "    freebase_id = None\n",
    "    bomojo_id = None\n",
    "\n",
    "    try:\n",
    "        wikipedia_page = wp.page(pageid=pageid)\n",
    "    except (PageError, AttributeError, DisambiguationError):\n",
    "        return None\n",
    "\n",
    "    for url in wikipedia_page.references:\n",
    "        # NOTE: There might be several external links to IMDb pages, needs to be checked\n",
    "        if 'imdb.com/title' in url:\n",
    "            imdb_id = url.split('/')[-2]  # TODO: Sometimes gets overwritten by other IMDb URLs, improve it\n",
    "        # NOTE: There might be several external links to Wikidata pages, needs to be checked\n",
    "        if 'wikidata.org/wiki' in url:\n",
    "            wikidata_id = url.split('/')[-1].split('#')[0]\n",
    "        # NOTE: There might be several external links to Box Office Mojo pages, needs to be checked\n",
    "        if 'boxofficemojo.com/movies' in url:\n",
    "            bomojo_id = [item.split('=')[1] for item in url.split('/')[-1].split('.')[0].split('?') if item.split('=')[0] == 'id'][0]\n",
    "\n",
    "    ids = {\n",
    "        'wikidata': wikidata_id,\n",
    "        'imdb': imdb_id,\n",
    "        'freebase': freebase_id,\n",
    "        'boxofficemojo': bomojo_id,\n",
    "    }\n",
    "\n",
    "    return ids"
   ]
  },
  {
   "cell_type": "markdown",
   "metadata": {},
   "source": [
    "Voilà:"
   ]
  },
  {
   "cell_type": "code",
   "execution_count": 98,
   "metadata": {},
   "outputs": [
    {
     "data": {
      "text/plain": [
       "{'wikidata': 'Q261700',\n",
       " 'imdb': 'tt0228333',\n",
       " 'freebase': None,\n",
       " 'boxofficemojo': ['ghostsofmars']}"
      ]
     },
     "execution_count": 98,
     "metadata": {},
     "output_type": "execute_result"
    }
   ],
   "source": [
    "get_refs('975900')"
   ]
  },
  {
   "cell_type": "markdown",
   "metadata": {},
   "source": [
    "### Try on the dataset"
   ]
  },
  {
   "cell_type": "code",
   "execution_count": 99,
   "metadata": {},
   "outputs": [],
   "source": [
    "movie_column_names = [\n",
    "    \"wikipedia\",\n",
    "    \"freebase\",\n",
    "    \"title\",\n",
    "    \"release\",\n",
    "    \"borevenue\",\n",
    "    \"runtime\",\n",
    "    \"languages\",\n",
    "    \"countries\",\n",
    "    \"genres\",\n",
    "]\n",
    "cmu_movies = pd.read_csv('data/MovieSummaries/movie.metadata.tsv', sep='\\t', names=movie_column_names)"
   ]
  },
  {
   "cell_type": "code",
   "execution_count": 108,
   "metadata": {},
   "outputs": [
    {
     "name": "stderr",
     "output_type": "stream",
     "text": [
      "/opt/miniconda/envs/dummy/lib/python3.11/site-packages/wikipedia/wikipedia.py:389: GuessedAtParserWarning: No parser was explicitly specified, so I'm using the best available HTML parser for this system (\"lxml\"). This usually isn't a problem, but if you run this code on another system, or in a different virtual environment, it may use a different parser and behave differently.\n",
      "\n",
      "The code that caused this warning is on line 389 of the file /opt/miniconda/envs/dummy/lib/python3.11/site-packages/wikipedia/wikipedia.py. To get rid of this warning, pass the additional argument 'features=\"lxml\"' to the BeautifulSoup constructor.\n",
      "\n",
      "  lis = BeautifulSoup(html).find_all('li')\n"
     ]
    }
   ],
   "source": [
    "wikidata_ids = []\n",
    "imdb_ids = []\n",
    "freebase_ids = []\n",
    "bomojo_ids = []\n",
    "\n",
    "for wp_id in cmu_movies.sample(1000).wikipedia:\n",
    "    try:\n",
    "        refs = get_refs(pageid=wp_id)\n",
    "    except Exception as e:\n",
    "        print(wp_id, e)\n",
    "        refs = None\n",
    "\n",
    "    if refs:\n",
    "        wikidata_ids.append(refs['wikidata'])\n",
    "        imdb_ids.append(refs['imdb'])\n",
    "        freebase_ids.append(refs['freebase'])\n",
    "        bomojo_ids.append(refs['boxofficemojo'])"
   ]
  },
  {
   "cell_type": "markdown",
   "metadata": {},
   "source": [
    "It took 700s for 1000 movies. It means 16 hours for the whole dataset..\n",
    "\n",
    "We can make it faster by replicating what this library is doing. They send one pageid at a time in their query and that is why it takes so long. We can send the same query with multiple pageids! But is it worth it..?"
   ]
  },
  {
   "cell_type": "code",
   "execution_count": 117,
   "metadata": {},
   "outputs": [
    {
     "data": {
      "text/plain": [
       "40"
      ]
     },
     "execution_count": 117,
     "metadata": {},
     "output_type": "execute_result"
    }
   ],
   "source": [
    "imdb_ids.count(None)"
   ]
  },
  {
   "cell_type": "markdown",
   "metadata": {},
   "source": [
    "# Freebase ID -> Wikidata ID -> IMDb ID"
   ]
  },
  {
   "cell_type": "markdown",
   "metadata": {},
   "source": [
    "We want to find the IMDb ID (`tt0228333`) from the Freebase ID (`/m/03vyhn`) using the Wikidata ID (`Q261700`) and [Wikidata page](https://www.wikidata.org/wiki/Q261700)."
   ]
  },
  {
   "cell_type": "code",
   "execution_count": 17,
   "metadata": {},
   "outputs": [],
   "source": [
    "import requests"
   ]
  },
  {
   "cell_type": "markdown",
   "metadata": {},
   "source": [
    "## First method (doesn't work properly)"
   ]
  },
  {
   "cell_type": "code",
   "execution_count": 50,
   "metadata": {},
   "outputs": [],
   "source": [
    "URL = 'https://query.wikidata.org/sparql'\n",
    "Q_GET_IMDB = \"\"\"\n",
    "SELECT ?imdbid WHERE {\n",
    "  ?item wdt:P646 '%s' .\n",
    "  ?item wdt:P345 ?imdbid .\n",
    "}\n",
    "\"\"\"\n",
    "\n",
    "# PROBLEM: Gets blocked !!\n",
    "def get_imdbid(freebaseid: str) -> list[str]:\n",
    "    # NOTE: CAN BE EXTREMELY FASTER IF WE SEND MULTIPLE FREEBASE IDs TOGETHER !!\n",
    "    r = requests.get(URL, params = {'format': 'json', 'query': (Q_GET_IMDB % freebaseid)})\n",
    "    imdbids = [binding['imdbid']['value'] for binding in r.json()['results']['bindings']]\n",
    "    return imdbids\n"
   ]
  },
  {
   "cell_type": "code",
   "execution_count": 51,
   "metadata": {},
   "outputs": [
    {
     "data": {
      "text/plain": [
       "['tt0228333']"
      ]
     },
     "execution_count": 51,
     "metadata": {},
     "output_type": "execute_result"
    }
   ],
   "source": [
    "get_imdbid(freebaseid='/m/03vyhn')"
   ]
  },
  {
   "cell_type": "markdown",
   "metadata": {},
   "source": [
    "### Try on the dataset"
   ]
  },
  {
   "cell_type": "code",
   "execution_count": 48,
   "metadata": {},
   "outputs": [],
   "source": [
    "movie_column_names = [\n",
    "    \"wikipedia\",\n",
    "    \"freebase\",\n",
    "    \"title\",\n",
    "    \"release\",\n",
    "    \"borevenue\",\n",
    "    \"runtime\",\n",
    "    \"languages\",\n",
    "    \"countries\",\n",
    "    \"genres\",\n",
    "]\n",
    "cmu_movies = pd.read_csv('data/MovieSummaries/movie.metadata.tsv', sep='\\t', names=movie_column_names)"
   ]
  },
  {
   "cell_type": "code",
   "execution_count": 58,
   "metadata": {},
   "outputs": [
    {
     "data": {
      "text/plain": [
       "['tt0023196']"
      ]
     },
     "execution_count": 58,
     "metadata": {},
     "output_type": "execute_result"
    }
   ],
   "source": [
    "get_imdbid('/m/0g9g9x')"
   ]
  },
  {
   "cell_type": "code",
   "execution_count": null,
   "metadata": {},
   "outputs": [],
   "source": [
    "imdb_ids = []\n",
    "\n",
    "for fb_id in cmu_movies.sample(1000).freebase:\n",
    "    try:\n",
    "        imdb_ids.append(get_imdbid(fb_id))\n",
    "    except Exception as e:\n",
    "        print(f'\"{fb_id}\": {e}')\n",
    "        refs = None"
   ]
  },
  {
   "cell_type": "markdown",
   "metadata": {},
   "source": [
    "## Second method"
   ]
  },
  {
   "cell_type": "code",
   "execution_count": 59,
   "metadata": {},
   "outputs": [],
   "source": [
    "Q_GET_IMDBS = \"\"\"\n",
    "SELECT ?imdbid WHERE {\n",
    "  ?item wdt:P345 ?imdbid .\n",
    "  ?item wdt:P646 ?freebaseid\n",
    "  FILTER(?freebaseid IN (%s))\n",
    "}\n",
    "\"\"\""
   ]
  },
  {
   "cell_type": "code",
   "execution_count": 100,
   "metadata": {},
   "outputs": [],
   "source": [
    "URL = 'https://query.wikidata.org/sparql'\n",
    "Q_GET_IMDBS = \"\"\"\n",
    "SELECT ?freebaseid ?imdbid WHERE {\n",
    "  ?item wdt:P345 ?imdbid .\n",
    "  ?item wdt:P646 ?freebaseid\n",
    "  FILTER(?freebaseid IN (%s))\n",
    "}\n",
    "\"\"\"\n",
    "\n",
    "def get_mapping(freebaseids: list[str]) -> list[list[str]]:\n",
    "    # NOTE: CAN BE EXTREMELY FASTER IF WE SEND MULTIPLE FREEBASE IDs TOGETHER !!\n",
    "    freebaseids = ', '.join([f\"'{fbid}'\" for fbid in freebaseids])\n",
    "    r = requests.get(URL, params = {'format': 'json', 'query': (Q_GET_IMDBS % freebaseids)})\n",
    "    mapping = [{'imdb': binding['imdbid']['value'], 'freebase': binding['freebaseid']['value']} for binding in r.json()['results']['bindings']]\n",
    "    return mapping"
   ]
  },
  {
   "cell_type": "code",
   "execution_count": 104,
   "metadata": {},
   "outputs": [
    {
     "data": {
      "text/html": [
       "<div>\n",
       "<style scoped>\n",
       "    .dataframe tbody tr th:only-of-type {\n",
       "        vertical-align: middle;\n",
       "    }\n",
       "\n",
       "    .dataframe tbody tr th {\n",
       "        vertical-align: top;\n",
       "    }\n",
       "\n",
       "    .dataframe thead th {\n",
       "        text-align: right;\n",
       "    }\n",
       "</style>\n",
       "<table border=\"1\" class=\"dataframe\">\n",
       "  <thead>\n",
       "    <tr style=\"text-align: right;\">\n",
       "      <th></th>\n",
       "      <th>imdb</th>\n",
       "      <th>freebase</th>\n",
       "    </tr>\n",
       "  </thead>\n",
       "  <tbody>\n",
       "    <tr>\n",
       "      <th>0</th>\n",
       "      <td>tt0228333</td>\n",
       "      <td>/m/03vyhn</td>\n",
       "    </tr>\n",
       "    <tr>\n",
       "      <th>1</th>\n",
       "      <td>tt0023196</td>\n",
       "      <td>/m/0g9g9x</td>\n",
       "    </tr>\n",
       "  </tbody>\n",
       "</table>\n",
       "</div>"
      ],
      "text/plain": [
       "        imdb   freebase\n",
       "0  tt0228333  /m/03vyhn\n",
       "1  tt0023196  /m/0g9g9x"
      ]
     },
     "execution_count": 104,
     "metadata": {},
     "output_type": "execute_result"
    }
   ],
   "source": [
    "pd.DataFrame(get_mapping(['/m/03vyhn', '/m/0g9g9x']))"
   ]
  },
  {
   "cell_type": "markdown",
   "metadata": {},
   "source": [
    "### Try on the dataset"
   ]
  },
  {
   "cell_type": "code",
   "execution_count": 105,
   "metadata": {},
   "outputs": [
    {
     "data": {
      "text/html": [
       "<div>\n",
       "<style scoped>\n",
       "    .dataframe tbody tr th:only-of-type {\n",
       "        vertical-align: middle;\n",
       "    }\n",
       "\n",
       "    .dataframe tbody tr th {\n",
       "        vertical-align: top;\n",
       "    }\n",
       "\n",
       "    .dataframe thead th {\n",
       "        text-align: right;\n",
       "    }\n",
       "</style>\n",
       "<table border=\"1\" class=\"dataframe\">\n",
       "  <thead>\n",
       "    <tr style=\"text-align: right;\">\n",
       "      <th></th>\n",
       "      <th>imdb</th>\n",
       "      <th>freebase</th>\n",
       "    </tr>\n",
       "  </thead>\n",
       "  <tbody>\n",
       "    <tr>\n",
       "      <th>0</th>\n",
       "      <td>tt0157210</td>\n",
       "      <td>/m/0hnd9rx</td>\n",
       "    </tr>\n",
       "    <tr>\n",
       "      <th>1</th>\n",
       "      <td>tt0806008</td>\n",
       "      <td>/m/04n0h6y</td>\n",
       "    </tr>\n",
       "    <tr>\n",
       "      <th>2</th>\n",
       "      <td>tt0091105</td>\n",
       "      <td>/m/02w6t29</td>\n",
       "    </tr>\n",
       "    <tr>\n",
       "      <th>3</th>\n",
       "      <td>tt0041758</td>\n",
       "      <td>/m/04grn47</td>\n",
       "    </tr>\n",
       "    <tr>\n",
       "      <th>4</th>\n",
       "      <td>tt0075386</td>\n",
       "      <td>/m/04gkp22</td>\n",
       "    </tr>\n",
       "    <tr>\n",
       "      <th>5</th>\n",
       "      <td>tt0038148</td>\n",
       "      <td>/m/0ggv_y</td>\n",
       "    </tr>\n",
       "    <tr>\n",
       "      <th>6</th>\n",
       "      <td>tt0111301</td>\n",
       "      <td>/m/04nssc</td>\n",
       "    </tr>\n",
       "    <tr>\n",
       "      <th>7</th>\n",
       "      <td>tt0023853</td>\n",
       "      <td>/m/0hhv7p8</td>\n",
       "    </tr>\n",
       "    <tr>\n",
       "      <th>8</th>\n",
       "      <td>tt1525835</td>\n",
       "      <td>/m/0gls6ck</td>\n",
       "    </tr>\n",
       "    <tr>\n",
       "      <th>9</th>\n",
       "      <td>tt0093543</td>\n",
       "      <td>/m/0bt9bn</td>\n",
       "    </tr>\n",
       "  </tbody>\n",
       "</table>\n",
       "</div>"
      ],
      "text/plain": [
       "        imdb    freebase\n",
       "0  tt0157210  /m/0hnd9rx\n",
       "1  tt0806008  /m/04n0h6y\n",
       "2  tt0091105  /m/02w6t29\n",
       "3  tt0041758  /m/04grn47\n",
       "4  tt0075386  /m/04gkp22\n",
       "5  tt0038148   /m/0ggv_y\n",
       "6  tt0111301   /m/04nssc\n",
       "7  tt0023853  /m/0hhv7p8\n",
       "8  tt1525835  /m/0gls6ck\n",
       "9  tt0093543   /m/0bt9bn"
      ]
     },
     "execution_count": 105,
     "metadata": {},
     "output_type": "execute_result"
    }
   ],
   "source": [
    "pd.DataFrame(get_mapping(cmu_movies.sample(10).freebase))"
   ]
  },
  {
   "cell_type": "code",
   "execution_count": 111,
   "metadata": {},
   "outputs": [
    {
     "data": {
      "text/html": [
       "<div>\n",
       "<style scoped>\n",
       "    .dataframe tbody tr th:only-of-type {\n",
       "        vertical-align: middle;\n",
       "    }\n",
       "\n",
       "    .dataframe tbody tr th {\n",
       "        vertical-align: top;\n",
       "    }\n",
       "\n",
       "    .dataframe thead th {\n",
       "        text-align: right;\n",
       "    }\n",
       "</style>\n",
       "<table border=\"1\" class=\"dataframe\">\n",
       "  <thead>\n",
       "    <tr style=\"text-align: right;\">\n",
       "      <th></th>\n",
       "      <th>imdb</th>\n",
       "      <th>freebase</th>\n",
       "    </tr>\n",
       "  </thead>\n",
       "  <tbody>\n",
       "    <tr>\n",
       "      <th>0</th>\n",
       "      <td>tt0480001</td>\n",
       "      <td>/m/0glymk</td>\n",
       "    </tr>\n",
       "    <tr>\n",
       "      <th>1</th>\n",
       "      <td>tt0154506</td>\n",
       "      <td>/m/047gphb</td>\n",
       "    </tr>\n",
       "    <tr>\n",
       "      <th>2</th>\n",
       "      <td>tt0150915</td>\n",
       "      <td>/m/02chhq</td>\n",
       "    </tr>\n",
       "    <tr>\n",
       "      <th>3</th>\n",
       "      <td>tt0218867</td>\n",
       "      <td>/m/0gg9qrq</td>\n",
       "    </tr>\n",
       "    <tr>\n",
       "      <th>4</th>\n",
       "      <td>tt0190006</td>\n",
       "      <td>/m/05mz1t8</td>\n",
       "    </tr>\n",
       "    <tr>\n",
       "      <th>...</th>\n",
       "      <td>...</td>\n",
       "      <td>...</td>\n",
       "    </tr>\n",
       "    <tr>\n",
       "      <th>87</th>\n",
       "      <td>tt0061565</td>\n",
       "      <td>/m/05q7qzb</td>\n",
       "    </tr>\n",
       "    <tr>\n",
       "      <th>88</th>\n",
       "      <td>tt0294856</td>\n",
       "      <td>/m/0cp0sww</td>\n",
       "    </tr>\n",
       "    <tr>\n",
       "      <th>89</th>\n",
       "      <td>tt0030377</td>\n",
       "      <td>/m/04mznxs</td>\n",
       "    </tr>\n",
       "    <tr>\n",
       "      <th>90</th>\n",
       "      <td>tt13914002</td>\n",
       "      <td>/m/03cztq8</td>\n",
       "    </tr>\n",
       "    <tr>\n",
       "      <th>91</th>\n",
       "      <td>tt13818972</td>\n",
       "      <td>/m/09gcsr9</td>\n",
       "    </tr>\n",
       "  </tbody>\n",
       "</table>\n",
       "<p>92 rows × 2 columns</p>\n",
       "</div>"
      ],
      "text/plain": [
       "          imdb    freebase\n",
       "0    tt0480001   /m/0glymk\n",
       "1    tt0154506  /m/047gphb\n",
       "2    tt0150915   /m/02chhq\n",
       "3    tt0218867  /m/0gg9qrq\n",
       "4    tt0190006  /m/05mz1t8\n",
       "..         ...         ...\n",
       "87   tt0061565  /m/05q7qzb\n",
       "88   tt0294856  /m/0cp0sww\n",
       "89   tt0030377  /m/04mznxs\n",
       "90  tt13914002  /m/03cztq8\n",
       "91  tt13818972  /m/09gcsr9\n",
       "\n",
       "[92 rows x 2 columns]"
      ]
     },
     "execution_count": 111,
     "metadata": {},
     "output_type": "execute_result"
    }
   ],
   "source": [
    "pd.DataFrame(get_mapping(cmu_movies.sample(100).freebase))"
   ]
  },
  {
   "cell_type": "code",
   "execution_count": 114,
   "metadata": {},
   "outputs": [
    {
     "data": {
      "text/html": [
       "<div>\n",
       "<style scoped>\n",
       "    .dataframe tbody tr th:only-of-type {\n",
       "        vertical-align: middle;\n",
       "    }\n",
       "\n",
       "    .dataframe tbody tr th {\n",
       "        vertical-align: top;\n",
       "    }\n",
       "\n",
       "    .dataframe thead th {\n",
       "        text-align: right;\n",
       "    }\n",
       "</style>\n",
       "<table border=\"1\" class=\"dataframe\">\n",
       "  <thead>\n",
       "    <tr style=\"text-align: right;\">\n",
       "      <th></th>\n",
       "      <th>imdb</th>\n",
       "      <th>freebase</th>\n",
       "    </tr>\n",
       "  </thead>\n",
       "  <tbody>\n",
       "    <tr>\n",
       "      <th>0</th>\n",
       "      <td>tt0107076</td>\n",
       "      <td>/m/05j3s1</td>\n",
       "    </tr>\n",
       "    <tr>\n",
       "      <th>1</th>\n",
       "      <td>tt0032983</td>\n",
       "      <td>/m/0777s1</td>\n",
       "    </tr>\n",
       "    <tr>\n",
       "      <th>2</th>\n",
       "      <td>tt0494834</td>\n",
       "      <td>/m/09s8t4</td>\n",
       "    </tr>\n",
       "    <tr>\n",
       "      <th>3</th>\n",
       "      <td>tt0152238</td>\n",
       "      <td>/m/0cp02np</td>\n",
       "    </tr>\n",
       "    <tr>\n",
       "      <th>4</th>\n",
       "      <td>tt1448755</td>\n",
       "      <td>/m/0b__g0s</td>\n",
       "    </tr>\n",
       "    <tr>\n",
       "      <th>...</th>\n",
       "      <td>...</td>\n",
       "      <td>...</td>\n",
       "    </tr>\n",
       "    <tr>\n",
       "      <th>173</th>\n",
       "      <td>tt0216149</td>\n",
       "      <td>/m/05zzv6g</td>\n",
       "    </tr>\n",
       "    <tr>\n",
       "      <th>174</th>\n",
       "      <td>tt6447518</td>\n",
       "      <td>/m/02805bs</td>\n",
       "    </tr>\n",
       "    <tr>\n",
       "      <th>175</th>\n",
       "      <td>tt14336726</td>\n",
       "      <td>/m/0gvqxnz</td>\n",
       "    </tr>\n",
       "    <tr>\n",
       "      <th>176</th>\n",
       "      <td>tt13919770</td>\n",
       "      <td>/m/0jt0fjg</td>\n",
       "    </tr>\n",
       "    <tr>\n",
       "      <th>177</th>\n",
       "      <td>tt13731216</td>\n",
       "      <td>/m/0gk_jx</td>\n",
       "    </tr>\n",
       "  </tbody>\n",
       "</table>\n",
       "<p>178 rows × 2 columns</p>\n",
       "</div>"
      ],
      "text/plain": [
       "           imdb    freebase\n",
       "0     tt0107076   /m/05j3s1\n",
       "1     tt0032983   /m/0777s1\n",
       "2     tt0494834   /m/09s8t4\n",
       "3     tt0152238  /m/0cp02np\n",
       "4     tt1448755  /m/0b__g0s\n",
       "..          ...         ...\n",
       "173   tt0216149  /m/05zzv6g\n",
       "174   tt6447518  /m/02805bs\n",
       "175  tt14336726  /m/0gvqxnz\n",
       "176  tt13919770  /m/0jt0fjg\n",
       "177  tt13731216   /m/0gk_jx\n",
       "\n",
       "[178 rows x 2 columns]"
      ]
     },
     "execution_count": 114,
     "metadata": {},
     "output_type": "execute_result"
    }
   ],
   "source": [
    "pd.DataFrame(get_mapping(cmu_movies.sample(200).freebase))"
   ]
  },
  {
   "cell_type": "code",
   "execution_count": 116,
   "metadata": {},
   "outputs": [
    {
     "data": {
      "text/html": [
       "<div>\n",
       "<style scoped>\n",
       "    .dataframe tbody tr th:only-of-type {\n",
       "        vertical-align: middle;\n",
       "    }\n",
       "\n",
       "    .dataframe tbody tr th {\n",
       "        vertical-align: top;\n",
       "    }\n",
       "\n",
       "    .dataframe thead th {\n",
       "        text-align: right;\n",
       "    }\n",
       "</style>\n",
       "<table border=\"1\" class=\"dataframe\">\n",
       "  <thead>\n",
       "    <tr style=\"text-align: right;\">\n",
       "      <th></th>\n",
       "      <th>imdb</th>\n",
       "      <th>freebase</th>\n",
       "    </tr>\n",
       "  </thead>\n",
       "  <tbody>\n",
       "    <tr>\n",
       "      <th>0</th>\n",
       "      <td>tt0274407</td>\n",
       "      <td>/m/03gvf3x</td>\n",
       "    </tr>\n",
       "    <tr>\n",
       "      <th>1</th>\n",
       "      <td>tt0452694</td>\n",
       "      <td>/m/02qp2yn</td>\n",
       "    </tr>\n",
       "    <tr>\n",
       "      <th>2</th>\n",
       "      <td>tt0439544</td>\n",
       "      <td>/m/02qlth5</td>\n",
       "    </tr>\n",
       "    <tr>\n",
       "      <th>3</th>\n",
       "      <td>tt0816150</td>\n",
       "      <td>/m/02qsqjz</td>\n",
       "    </tr>\n",
       "    <tr>\n",
       "      <th>4</th>\n",
       "      <td>tt0073200</td>\n",
       "      <td>/m/0j66v56</td>\n",
       "    </tr>\n",
       "    <tr>\n",
       "      <th>...</th>\n",
       "      <td>...</td>\n",
       "      <td>...</td>\n",
       "    </tr>\n",
       "    <tr>\n",
       "      <th>271</th>\n",
       "      <td>tt8263552</td>\n",
       "      <td>/m/02pkhq2</td>\n",
       "    </tr>\n",
       "    <tr>\n",
       "      <th>272</th>\n",
       "      <td>tt1575576</td>\n",
       "      <td>/m/0kt_sz</td>\n",
       "    </tr>\n",
       "    <tr>\n",
       "      <th>273</th>\n",
       "      <td>tt1710335</td>\n",
       "      <td>/m/0j9mxwk</td>\n",
       "    </tr>\n",
       "    <tr>\n",
       "      <th>274</th>\n",
       "      <td>tt13683840</td>\n",
       "      <td>/m/0grzzh</td>\n",
       "    </tr>\n",
       "    <tr>\n",
       "      <th>275</th>\n",
       "      <td>tt10681962</td>\n",
       "      <td>/m/0j7ldd7</td>\n",
       "    </tr>\n",
       "  </tbody>\n",
       "</table>\n",
       "<p>276 rows × 2 columns</p>\n",
       "</div>"
      ],
      "text/plain": [
       "           imdb    freebase\n",
       "0     tt0274407  /m/03gvf3x\n",
       "1     tt0452694  /m/02qp2yn\n",
       "2     tt0439544  /m/02qlth5\n",
       "3     tt0816150  /m/02qsqjz\n",
       "4     tt0073200  /m/0j66v56\n",
       "..          ...         ...\n",
       "271   tt8263552  /m/02pkhq2\n",
       "272   tt1575576   /m/0kt_sz\n",
       "273   tt1710335  /m/0j9mxwk\n",
       "274  tt13683840   /m/0grzzh\n",
       "275  tt10681962  /m/0j7ldd7\n",
       "\n",
       "[276 rows x 2 columns]"
      ]
     },
     "execution_count": 116,
     "metadata": {},
     "output_type": "execute_result"
    }
   ],
   "source": [
    "pd.DataFrame(get_mapping(cmu_movies.sample(300).freebase))"
   ]
  },
  {
   "cell_type": "markdown",
   "metadata": {},
   "source": [
    "Doesn't work for very long queries, maximum 200 or 300 freebase IDs at a time. Will take 5 hours or so for the whole dataset."
   ]
  },
  {
   "cell_type": "code",
   "execution_count": null,
   "metadata": {},
   "outputs": [],
   "source": [
    "# TODO: Send batches of 200 freebase IDs at a time and loop\n",
    "\n",
    "for _ in range(10):\n",
    "    ..."
   ]
  }
 ],
 "metadata": {
  "kernelspec": {
   "display_name": "dummy",
   "language": "python",
   "name": "python3"
  },
  "language_info": {
   "codemirror_mode": {
    "name": "ipython",
    "version": 3
   },
   "file_extension": ".py",
   "mimetype": "text/x-python",
   "name": "python",
   "nbconvert_exporter": "python",
   "pygments_lexer": "ipython3",
   "version": "3.11.4"
  }
 },
 "nbformat": 4,
 "nbformat_minor": 2
}

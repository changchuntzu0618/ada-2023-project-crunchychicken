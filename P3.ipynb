{
 "cells": [
  {
   "cell_type": "markdown",
   "id": "73b168f1",
   "metadata": {},
   "source": [
    "Just a first draft, delete, modify as you want "
   ]
  },
  {
   "cell_type": "markdown",
   "id": "53af16e2",
   "metadata": {},
   "source": [
    "# Libraries"
   ]
  },
  {
   "cell_type": "code",
   "execution_count": 1,
   "id": "82fe3bb4",
   "metadata": {},
   "outputs": [],
   "source": [
    "import pandas as pd\n",
    "import numpy as np\n",
    "import seaborn as sns\n",
    "import matplotlib.pyplot as plt\n",
    "\n",
    "from helpers.readers import prepare_dataframes, read_dataframe_parquet"
   ]
  },
  {
   "cell_type": "markdown",
   "id": "15a45f85",
   "metadata": {},
   "source": [
    "# Loading dataframes"
   ]
  },
  {
   "cell_type": "code",
   "execution_count": 2,
   "id": "df8bad47",
   "metadata": {},
   "outputs": [],
   "source": [
    "movies = read_dataframe_parquet(\"merged/movies\")\n",
    "directors = read_dataframe_parquet(\"merged/directors\")\n",
    "awards = read_dataframe_parquet(\"merged/awards\")"
   ]
  },
  {
   "cell_type": "code",
   "execution_count": 3,
   "id": "c6f0c2d2",
   "metadata": {},
   "outputs": [
    {
     "name": "stdout",
     "output_type": "stream",
     "text": [
      "We have movies from 143 countries in the world.\n"
     ]
    }
   ],
   "source": [
    "all_countries = movies[\"countries\"]\n",
    "split_countries = all_countries.str.split(',')\n",
    "flat_list = [country.strip() for sublist in split_countries for country in sublist]\n",
    "countries = sorted(set(flat_list))\n",
    "print(f'We have movies from {len(countries)} countries in the world.')"
   ]
  }
 ],
 "metadata": {
  "kernelspec": {
   "display_name": "Python 3 (ipykernel)",
   "language": "python",
   "name": "python3"
  },
  "language_info": {
   "codemirror_mode": {
    "name": "ipython",
    "version": 3
   },
   "file_extension": ".py",
   "mimetype": "text/x-python",
   "name": "python",
   "nbconvert_exporter": "python",
   "pygments_lexer": "ipython3",
   "version": "3.10.11"
  }
 },
 "nbformat": 4,
 "nbformat_minor": 5
}

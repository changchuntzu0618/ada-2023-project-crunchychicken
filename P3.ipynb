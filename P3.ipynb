{
 "cells": [
  {
   "cell_type": "markdown",
   "id": "73b168f1",
   "metadata": {},
   "source": [
    "Just a first draft, delete, modify as you want \n",
    "\n",
    "**TODO**: add anchors for easy navigation, remove some dupplicated code"
   ]
  },
  {
   "cell_type": "markdown",
   "id": "83633e98",
   "metadata": {},
   "source": [
    "<a id=\"0\"></a> <br>\n",
    "## Contents\n",
    "* [Q1: How impactful is the team surrounding the director on the success of a movie?](#first)\n",
    "<br>\n",
    "<br>\n",
    "<br>\n",
    "* [Q2: To what extent does the director’s choice of movie genre affect the success of the movie?](#second)\n",
    "<br>\n",
    "<br>\n",
    "<br>\n",
    "* [Q3: What is the impact of the director’s character choices on the success of the movie?](#third)\n",
    "    * [3.1 - What types of characters do successful directors choose?](#thirdone)\n",
    "    * [3.2 - How diverse are the directors in their character choices?](#thirdsecond)\n",
    "    * [3.3 - Can we find very successful directors that always use the same type of characters or others that vary a lot in their persona choices?](#thirdthird)\n",
    "    * [3.4 - In definitive, how does this impact the movie’s success?](#thirdfourth)"
   ]
  },
  {
   "cell_type": "markdown",
   "id": "53af16e2",
   "metadata": {},
   "source": [
    "# Imports"
   ]
  },
  {
   "cell_type": "code",
   "execution_count": null,
   "id": "82fe3bb4",
   "metadata": {},
   "outputs": [],
   "source": [
    "import pandas as pd\n",
    "import numpy as np\n",
    "import seaborn as sns\n",
    "import matplotlib.pyplot as plt\n",
    "from tqdm.notebook import tqdm\n",
    "from collections import defaultdict\n",
    "import pickle\n",
    "import gc\n",
    "\n",
    "from helpers.readers import prepare_dataframes, read_dataframe_parquet, read_dataframe\n",
    "from helpers.readers import save_parquet_to_generated, save_dict_to_generated, load_dict_from_generated\n",
    "from helpers.utils import PALETTE_D, PALETTE_C"
   ]
  },
  {
   "cell_type": "markdown",
   "id": "36afc8e1",
   "metadata": {},
   "source": [
    "#### Q1"
   ]
  },
  {
   "cell_type": "code",
   "execution_count": null,
   "id": "5030f0be",
   "metadata": {},
   "outputs": [],
   "source": [
    "#Basic imports\n",
    "import pandas as pd\n",
    "import os\n",
    "import numpy as np\n",
    "import seaborn as sns\n",
    "from tqdm import tqdm\n",
    "from collections import defaultdict\n",
    "from collections import Counter\n",
    "\n",
    "#Matplotlib imports\n",
    "import matplotlib.pyplot as plt\n",
    "from matplotlib.colors import LinearSegmentedColormap\n",
    "from matplotlib import cm\n",
    "from matplotlib.colors import Normalize\n",
    "\n",
    "#Import for interactive plots\n",
    "import plotly.graph_objects as go\n",
    "from ipywidgets import interact, widgets\n",
    "\n",
    "#Networkx imports\n",
    "import networkx as nx\n",
    "from networkx import community\n",
    "from networkx.algorithms import bipartite\n",
    "\n",
    "\n",
    "#Imports for stats\n",
    "from scipy.stats import ttest_rel\n",
    "import statsmodels.formula.api as smf\n",
    "from statsmodels.stats.multicomp import pairwise_tukeyhsd\n",
    "from sklearn.preprocessing import MinMaxScaler\n",
    "\n",
    "#Custom readers import\n",
    "from helpers.readers import read_dataframe\n",
    "from helpers.utils import PALETTE_D, PALETTE_C"
   ]
  },
  {
   "cell_type": "markdown",
   "id": "7b4825b8",
   "metadata": {},
   "source": [
    "<a class=\"anchor\" id=\"first\"></a>\n",
    "# Q1:  How impactful is the team surrounding the director on the success of a movie?\n",
    "\n",
    "[Back to Table of Contents](#Contents)"
   ]
  },
  {
   "cell_type": "markdown",
   "id": "13275bbe",
   "metadata": {},
   "source": [
    "To answer to this question, we need additional information than what we already have in the `movies` & `directors` dataframe. Namely, the `imdb_people` and `imdb_principals` dataframe are of interest here.\n",
    "\n",
    "- `imdb_people` contains birth/death years, primary professions and famous titles for ~12M people in the IMDb database\n",
    "\n",
    "- `imdb_principals` contains the principal (max 10 per movie) people that have played in movies in the IMDb database (roughs out to ~58M rows)\n",
    "\n",
    "\n",
    "They will thus be used to extract information about people that worked on the movies we selected. Their primary professions, the number of movies they played in, the potential nature of the roles they played in each movie (once actor, once writer, etc.)\n",
    "\n",
    "We first retrieve 'reduce' these two dataframes to only contain information about the movies we decided to keep:"
   ]
  },
  {
   "cell_type": "code",
   "execution_count": null,
   "id": "17d45f53",
   "metadata": {},
   "outputs": [],
   "source": [
    "imdb_crew = read_dataframe_parquet(\"imdb/crew\")\n",
    "imdb_info = read_dataframe_parquet(\"imdb/movies\")\n",
    "imdb_ratings = read_dataframe_parquet(name='imdb/ratings')\n",
    "\n",
    "movies = read_dataframe_parquet(\"cmu/movies\")\n",
    "movies = movies.drop(['Movie release Day', 'Movie release Month'], axis=1).copy()\n",
    "movies.rename(\n",
    "    columns={\n",
    "        'Wikipedia movie ID': 'wikipediaID',\n",
    "        'Freebase movie ID': 'freebaseID',\n",
    "        'Movie name': 'title',\n",
    "        'Movie box office revenue': 'revenue',\n",
    "        'Movie runtime': 'runtime',\n",
    "        'Movie languages': 'languages',\n",
    "        'Movie countries': 'countries',\n",
    "        'Movie genres': 'genres',\n",
    "        'Movie release Year': 'release',\n",
    "    },\n",
    "    inplace=True,\n",
    ")\n",
    "\n",
    "mapping_w_i_f = read_dataframe(name='mapping_wikipedia_imdb_freebase')\n",
    "mapping_f_i = read_dataframe(name='mapping_freebase_imdb')\n",
    "\n",
    "\n",
    "movies = movies.merge(\n",
    "    right=mapping_f_i.drop_duplicates(subset='freebase'),\n",
    "    left_on='freebaseID', right_on='freebase', how='left'\n",
    ").rename(columns={'imdb': 'tconst'}).drop('freebase', axis=1)\n",
    "\n",
    "movies.tconst.duplicated().sum()\n",
    "movies.drop_duplicates(subset='tconst', inplace=True)\n",
    "\n",
    "movies = movies.merge(\n",
    "    right=imdb_info.rename(columns={'genres': 'genres_imdb', 'runtimeMinutes': 'runtime_imdb'})[['tconst', 'isAdult', 'runtime_imdb', 'genres_imdb']],\n",
    "    on='tconst', how='left',\n",
    ")\n",
    "\n",
    "movies = movies.merge(\n",
    "    right=imdb_ratings.rename(columns={'averageRating': 'rating', 'numVotes': 'votes'}),\n",
    "    on='tconst', how='left',\n",
    ")\n",
    "\n",
    "movies = movies.merge(right=imdb_crew.drop('writers', axis=1), on='tconst', how='left')\n",
    "\n",
    "# vectorized\n",
    "def compute_score(df):\n",
    "    df['score'] = np.log10(df['votes']) * df['rating']\n",
    "    return df\n",
    "\n",
    "movies = compute_score(movies)\n",
    "movies = movies.set_index('tconst')"
   ]
  },
  {
   "cell_type": "code",
   "execution_count": 6,
   "id": "536439ad",
   "metadata": {},
   "outputs": [],
   "source": [
    "save_parquet_to_generated(\"q1_movies\", movies)"
   ]
  },
  {
   "cell_type": "code",
   "execution_count": 7,
   "id": "ecf74f2d",
   "metadata": {},
   "outputs": [
    {
     "name": "stdout",
     "output_type": "stream",
     "text": [
      "We have 28478 directors.\n"
     ]
    }
   ],
   "source": [
    "directors = read_dataframe_parquet(\"q1/directors\")\n",
    "\n",
    "nmconsts = []\n",
    "for item in movies.dropna(subset='directors').directors.str.split(','):\n",
    "    nmconsts.extend(item)\n",
    "nmconsts = set(nmconsts)\n",
    "\n",
    "print(f'We have {len(nmconsts)} directors.')"
   ]
  },
  {
   "cell_type": "markdown",
   "id": "de4de8c9",
   "metadata": {},
   "source": [
    "### to unmarkdown?\n",
    "%%time\n",
    "imdb_info = read_dataframe_parquet(name='imdb/movies')\n",
    "imdb_ratings = read_dataframe_parquet(name='imdb/ratings')\n",
    "movieLens_movies = read_dataframe_parquet(name='movieLens/movies')\n",
    "movieLens_ratings = read_dataframe_parquet('movieLens/ratings')\n",
    "\n",
    "imdb_crew = read_dataframe_parquet(name='imdb/crew')\n",
    "imdb_people = read_dataframe_parquet(name='imdb/names')\n",
    "imdb_principals = read_dataframe_parquet(name='imdb/principals')\n",
    "\n",
    "#directors = imdb_people[imdb_people.nconst.isin(nmconsts)].copy()\n",
    "#directors = directors.set_index('nconst')"
   ]
  },
  {
   "cell_type": "code",
   "execution_count": 8,
   "id": "7b2dcbe6",
   "metadata": {},
   "outputs": [],
   "source": [
    "#```python\n",
    "def matching_selected_people(imdb_people,imdb_principals,movies) : \n",
    "\n",
    "    \"\"\"\n",
    "    This function filters the IMDb dataframes for people that worked on the selected movies.\n",
    "\n",
    "    Args :\n",
    "        imdb_people : The IMDb 'basic' dataframe. Contains information about people, f.i the movies they are known most for.\n",
    "        imdb_principals : The IMDb 'principals' dataframe. Contains information about the main cast of the IMDb movies, such as their name, job in the movie, role, etc.\n",
    "        movies : The dataset of selected movies\n",
    "\n",
    "    Returns :\n",
    "        matched_imdb_people : The IMDb 'basic' dataframe matched for our selected movies\n",
    "        jobs_principal_people : The IMDb 'principals' dataframe matched for our selected movies.\n",
    "    \"\"\"\n",
    "\n",
    "    #Exploding the imdb people dataframe to have all films played by people in the dataframe\n",
    "    imdb_people_exploded = imdb_people.copy()\n",
    "    imdb_people_exploded['knownForTitles'] = imdb_people['knownForTitles'].str.split(',')\n",
    "    imdb_people_exploded = imdb_people_exploded.explode(['knownForTitles'])\n",
    "\n",
    "    #Merging operations to retrieve the mapped information\n",
    "    merged_ipe = pd.merge(imdb_people_exploded,movies, how='inner', left_on='knownForTitles', right_on='tconst')\n",
    "    unique_matched_persons = merged_ipe.drop_duplicates(subset='nconst', keep='first')\n",
    "    matched_imdb_people = pd.merge(imdb_people, unique_matched_persons[['nconst']], on='nconst', how='inner')\n",
    "    tmp_principal_people = pd.merge(imdb_principals, matched_imdb_people[['nconst']], on='nconst', how='inner')\n",
    "    jobs_principal_people = pd.merge(tmp_principal_people,movies,on='tconst',how='inner')[['tconst','nconst','category','job']]\n",
    "\n",
    "    return(matched_imdb_people,jobs_principal_people)\n",
    "\n",
    "\n",
    "imdb_people = read_dataframe_parquet(name='imdb/names')\n",
    "imdb_principals = read_dataframe_parquet(name='imdb/principals')\n",
    "\n",
    "matched_imdb_people,jobs_principal_people = matching_selected_people(imdb_people,imdb_principals,movies)\n",
    "\n",
    "from helpers.readers import save_parquet_to_generated\n",
    "save_parquet_to_generated(\"q1_matched_imdb_people\",matched_imdb_people)\n",
    "save_parquet_to_generated(\"q1_jobs_principal_people\",jobs_principal_people)\n",
    "#```"
   ]
  },
  {
   "cell_type": "code",
   "execution_count": 9,
   "id": "4b930857",
   "metadata": {},
   "outputs": [],
   "source": [
    "# shortcut\n",
    "matched_imdb_people = read_dataframe_parquet(\"q1/matched_imdb_people\")\n",
    "jobs_principal_people = read_dataframe_parquet(\"q1/jobs_principal_people\")"
   ]
  },
  {
   "cell_type": "code",
   "execution_count": 10,
   "id": "c5d61957",
   "metadata": {},
   "outputs": [
    {
     "name": "stderr",
     "output_type": "stream",
     "text": [
      "Getting all known roles of our matched people: 100%|████████████████████████| 618126/618126 [00:32<00:00, 19156.52it/s]\n"
     ]
    }
   ],
   "source": [
    "#```python\n",
    "def get_all_known_roles(matched_principal,all_matched_people) : \n",
    "    \"\"\"\n",
    "    Adds additional movies that people present in the matched_principal dataframe passed as argument have played a certain role in.\n",
    "\n",
    "    Args:\n",
    "    matched_principal: The IMDb 'principal' dataframe matched for our selected movies. Contains\n",
    "                       information about the 'principal' crew of each movie.\n",
    "\n",
    "    all_matched_people: The IMDb 'people' dataframe matched for our selected movies. Contains\n",
    "                        personal information about people in the film industry.\n",
    "\n",
    "    Returns:\n",
    "    enhanced_matched_principal: The all_matched_people dataframe passed as argument, with an additional column\n",
    "                                containing any additional roles found in the matched_principal\n",
    "                                dataframe. \n",
    "    \"\"\"\n",
    "    roles_collected = {}\n",
    "\n",
    "    # Iterating over matched_principal to collect roles for each person\n",
    "    for _, row in tqdm(matched_principal.iterrows(),total=len(matched_principal),desc='Getting all known roles of our matched people'):\n",
    "        nconst = row['nconst']\n",
    "        tconst = row['tconst']\n",
    "        \n",
    "        if nconst not in roles_collected:\n",
    "            roles_collected[nconst] = set()\n",
    "\n",
    "        roles_collected[nconst].add(tconst)\n",
    "\n",
    "    # Updating enhanced_matched_principal with the collected roles\n",
    "    enhanced_matched_principal = all_matched_people.copy()\n",
    "    enhanced_matched_principal['all_known_roles'] = enhanced_matched_principal['nconst'].map(lambda x: ','.join(map(str, roles_collected.get(x,[]))))\n",
    "\n",
    "    return enhanced_matched_principal\n",
    "\n",
    "mip_enhanced = get_all_known_roles(jobs_principal_people,matched_imdb_people)\n",
    "save_parquet_to_generated(\"q1_mip_enhanced\",mip_enhanced)\n",
    "#```"
   ]
  },
  {
   "cell_type": "code",
   "execution_count": 11,
   "id": "04a0b325",
   "metadata": {},
   "outputs": [],
   "source": [
    "# shortcut\n",
    "mip_enhanced = read_dataframe_parquet(\"q1/mip_enhanced\") "
   ]
  },
  {
   "cell_type": "code",
   "execution_count": 12,
   "id": "283f6a12",
   "metadata": {},
   "outputs": [
    {
     "name": "stderr",
     "output_type": "stream",
     "text": [
      "Adding the directed movies to each of our directors: 100%|███████████████████████| 28478/28478 [21:32<00:00, 22.03it/s]\n"
     ]
    }
   ],
   "source": [
    "#```python\n",
    "tqdm.pandas(desc='Adding the directed movies to each of our directors')\n",
    "\n",
    "def get_directed_movies(director_row, movies_df):\n",
    "    \"\"\"\n",
    "    Returns a list of the IMDb IDs of the movie directed by a certain director.\n",
    "\n",
    "    Args :\n",
    "        director_row : A row of the 'directors' dataframe, containing information about\n",
    "        movies_df : The dataframe containing the movies information\n",
    "    \"\"\"\n",
    "    curr_dir_id = director_row.name\n",
    "    directed_movies = ','.join(movies_df[movies_df.directors.str.contains(curr_dir_id)].index)\n",
    "    return directed_movies\n",
    "\n",
    "def add_directed_movies(directors_df, movies_df):\n",
    "    \"\"\"\n",
    "    Returns a modified version of the directors_df dataframe, with a new column indicating all the movies directed in the movies_df dataframe, for each director.\n",
    "\n",
    "    Args :\n",
    "        directors_df : The dataframe containing the director's information\n",
    "        movies_df : The dataframe containing the movies information\n",
    "\n",
    "    Returns :\n",
    "        directors_df : The original dataframe with the added column\n",
    "    \"\"\"\n",
    "    directors_df['directed_movies'] = directors_df.progress_apply(lambda row: get_directed_movies(row, movies_df), axis=1)\n",
    "    return directors_df\n",
    "\n",
    "enhanced_directors_df = add_directed_movies(directors, movies[['directors']])\n",
    "save_parquet_to_generated(\"q1_enhanced_directors\",enhanced_directors_df)\n",
    "#```"
   ]
  },
  {
   "cell_type": "code",
   "execution_count": 13,
   "id": "881fd94d",
   "metadata": {},
   "outputs": [],
   "source": [
    "# shortcut\n",
    "enhanced_directors_df = read_dataframe_parquet(\"q1/enhanced_directors\") "
   ]
  },
  {
   "cell_type": "code",
   "execution_count": 14,
   "id": "1527f401",
   "metadata": {},
   "outputs": [
    {
     "name": "stderr",
     "output_type": "stream",
     "text": [
      "Mapping titles to people: 100%|███████████████████████████████████████████| 2865101/2865101 [03:27<00:00, 13786.96it/s]\n",
      "Creating the dictionnary of collaborations: 100%|██████████████████████████████| 28478/28478 [00:07<00:00, 4003.82it/s]\n"
     ]
    }
   ],
   "source": [
    "#```python\n",
    "def counting_directors_collaborations(directors_df, matched_imdb_people):\n",
    "    \"\"\"\n",
    "    Returns a dictionnary containing the number of collaborations between directors and different crew members, for the movies selected.\n",
    "\n",
    "    Args :\n",
    "    directors_df : A dataframe containing information about directors. it must contain at least the two following columns : 'nconst', the personal\n",
    "                   IMDb ID of the director, and 'directed_movies' which they have directed\n",
    "    \n",
    "                   \n",
    "    matched_imdb_people : A dataframe containing personal information about people that have worked on movies that we decided to retain. Must also contain\n",
    "                          the 'nconst' and 'knownForTitles' columns.\n",
    "    \n",
    "    \"\"\"\n",
    "    # Create a mapping of titles to people : For each title, we create a mapping which basically adds, for each movie, all the people we know have played some role in the movie\n",
    "    title_to_people = defaultdict(set)\n",
    "    for _, person_row in tqdm(matched_imdb_people.iterrows(),total=len(matched_imdb_people),desc='Mapping titles to people'):\n",
    "        person_id = person_row['nconst']\n",
    "        known_for_titles = person_row['knownForTitles']\n",
    "        all_known_roles = person_row['all_known_roles']\n",
    "\n",
    "        known_for_titles = known_for_titles.split(',') if isinstance(known_for_titles,str) else []\n",
    "        all_known_roles = all_known_roles.split(',') if isinstance(all_known_roles,str) else []\n",
    "\n",
    "        unique_movies = set(filter(None, known_for_titles + all_known_roles))\n",
    "        #print(person_id,unique_movies)\n",
    "        for title in unique_movies:\n",
    "                title_to_people[title].add(person_id)\n",
    "\n",
    "    collaboration_counts = {}\n",
    "    #Using the mapping, build the dictionnary of collaborations.\n",
    "    for _, row in tqdm(directors_df.iterrows(),total=len(directors_df), desc='Creating the dictionnary of collaborations'):\n",
    "        director_ids = set(row.name.split(',')) if isinstance(row.name, str) else set()\n",
    "        directed_titles = set(row['directed_movies'].split(',')) if isinstance(row['directed_movies'], str) else set()\n",
    "\n",
    "        for director_id in director_ids:\n",
    "            if director_id not in collaboration_counts:\n",
    "                collaboration_counts[director_id] = {}\n",
    "\n",
    "            for title in directed_titles:\n",
    "                collaborators = title_to_people[title] - {director_id}  # To remove the director from collaborators\n",
    "                for collaborator in collaborators:\n",
    "                    if collaborator not in collaboration_counts[director_id]:\n",
    "                        collaboration_counts[director_id][collaborator] = 1\n",
    "                    else:\n",
    "                        collaboration_counts[director_id][collaborator] += 1\n",
    "\n",
    "    return collaboration_counts\n",
    "\n",
    "collab_counts = counting_directors_collaborations(enhanced_directors_df,mip_enhanced)\n",
    "\n",
    "save_dict_to_generated(\"q1_collab_counts\", collab_counts)\n",
    "#```"
   ]
  },
  {
   "cell_type": "code",
   "execution_count": 15,
   "id": "5353d298",
   "metadata": {},
   "outputs": [],
   "source": [
    "collab_counts = load_dict_from_generated(\"q1_collab_counts\")"
   ]
  },
  {
   "cell_type": "markdown",
   "id": "5f54f4f7",
   "metadata": {},
   "source": [
    "---\n",
    "### General overview of movie crews - How does the number of people working on the movies impact the success of the movies & directors ?\n",
    "\n",
    "Let's see how many different people each director has worked with, without looking at if they collaborated a lot with the same people at first :"
   ]
  },
  {
   "cell_type": "code",
   "execution_count": 17,
   "id": "67548f2d",
   "metadata": {},
   "outputs": [],
   "source": [
    "director_collaborators = []\n",
    "\n",
    "for director, collaborations in collab_counts.items():\n",
    "    num_collaborators = len(collaborations)\n",
    "    director_collaborators.append({'Director': director, 'NumCollaborators': num_collaborators})\n",
    "\n",
    "collab_counts_df = pd.DataFrame(director_collaborators)"
   ]
  },
  {
   "cell_type": "code",
   "execution_count": 18,
   "id": "a08ede13",
   "metadata": {},
   "outputs": [
    {
     "data": {
      "image/png": "[encoded data removed]",
      "text/plain": [
       "<Figure size 1200x500 with 2 Axes>"
      ]
     },
     "metadata": {},
     "output_type": "display_data"
    },
    {
     "data": {
      "text/plain": [
       "<Figure size 640x480 with 0 Axes>"
      ]
     },
     "metadata": {},
     "output_type": "display_data"
    }
   ],
   "source": [
    "plt.figure(figsize=(12, 5))\n",
    "\n",
    "plt.subplot(1, 2, 1)\n",
    "plt.hist(collab_counts_df['NumCollaborators'], bins=range(1, max(collab_counts_df['NumCollaborators']) + 2), edgecolor='black',color=PALETTE_D[1])\n",
    "plt.xlabel('Number of Collaborators')\n",
    "plt.ylabel('Number of Directors')\n",
    "plt.title('Distribution of Collaborators per Director')\n",
    "\n",
    "plt.subplot(1, 2, 2)\n",
    "hist, edges = np.histogram(collab_counts_df['NumCollaborators'], bins=range(1, max(collab_counts_df['NumCollaborators']) + 2))\n",
    "bin_centers = 0.5 * (edges[:-1] + edges[1:])\n",
    "plt.loglog(bin_centers, hist, 'o-', color=PALETTE_D[1], markeredgecolor='black', linewidth=2, markersize=4)\n",
    "plt.xlabel('Number of Collaborators (log$_{10}$ scale)')\n",
    "plt.ylabel('Number of Directors (log$_{10}$ scale)')\n",
    "plt.title('Log-log Distribution of Collaborators per Director', fontsize=16)\n",
    "plt.grid(True, linestyle='--', alpha=0.7)\n",
    "plt.show()\n",
    "\n",
    "plt.tight_layout()\n",
    "plt.show();"
   ]
  },
  {
   "cell_type": "markdown",
   "id": "93a9019f",
   "metadata": {},
   "source": [
    "We have a minority of directors that directed a huge number of films and thus had a huge number of collaborations throughout their career.\n",
    "Let's see if this behaviour reproduces for the size of the movie crew :"
   ]
  },
  {
   "cell_type": "code",
   "execution_count": 19,
   "id": "9dc15d5f",
   "metadata": {},
   "outputs": [],
   "source": [
    "#```python\n",
    "def get_movie_crew_size(movies,matched_people) :\n",
    "    \"\"\" \n",
    "    Retrieves the movie crew size for selected movies.\n",
    "\n",
    "    Args : \n",
    "        movies : The dataframe containing information about our selected movies,\n",
    "        matched_people : The IMDb 'basics' dataframe mapped for the people in our selected movies only.\n",
    "\n",
    "    Returns :\n",
    "        final_movies : A copy of the 'movies' dataframe passed as argument with an additional column containing the crew size of the movie.\n",
    "    \"\"\"\n",
    "    #Retrieving all roles played by the individuals of the matched_people dataframe, taking the union on both to not count a movie twice\n",
    "    crew = matched_people.copy()\n",
    "    crew['knownForTitles'] = crew['knownForTitles'].apply(lambda x: set(x.split(',')) if isinstance(x, str) else set())\n",
    "    crew['all_known_roles'] = crew['all_known_roles'].apply(lambda x: set(x.split(',')) if isinstance(x, str) else set())\n",
    "    roles_union_df = crew[['knownForTitles', 'all_known_roles']].apply(lambda row: row['knownForTitles'].union(row['all_known_roles']), axis=1)\n",
    "\n",
    "    # Appropriate merges to return a modified version of the 'movies' dataframe\n",
    "    roles_union_df = pd.DataFrame({'nconst': crew['nconst'], 'roles_union': roles_union_df})\n",
    "    roles_union_df = roles_union_df.explode('roles_union')\n",
    "    merged_df = pd.merge(movies, roles_union_df, left_index=True, right_on='roles_union')\n",
    "    crew_sizes = pd.DataFrame(merged_df.groupby('roles_union')['nconst'].nunique())\n",
    "    crew_sizes.rename(columns={'nconst': 'crew_size'},inplace=True)\n",
    "    final_movies = pd.merge(movies,crew_sizes,left_index=True, right_index=True, how='left')\n",
    "\n",
    "    return final_movies\n",
    "\n",
    "movies_wcs = get_movie_crew_size(movies,mip_enhanced)\n",
    "save_parquet_to_generated(\"q1_movies_wcs\", movies_wcs)\n",
    "#```"
   ]
  },
  {
   "cell_type": "code",
   "execution_count": 20,
   "id": "479452a1",
   "metadata": {},
   "outputs": [],
   "source": [
    "movies_wcs = read_dataframe_parquet(\"q1/movies_wcs\")"
   ]
  },
  {
   "cell_type": "code",
   "execution_count": 21,
   "id": "dd4a94c2",
   "metadata": {},
   "outputs": [
    {
     "data": {
      "image/png": "[encoded data removed]",
      "text/plain": [
       "<Figure size 1200x500 with 2 Axes>"
      ]
     },
     "metadata": {},
     "output_type": "display_data"
    }
   ],
   "source": [
    "plt.figure(figsize=(12, 5))\n",
    "\n",
    "plt.subplot(1, 2, 1)\n",
    "plt.hist(movies_wcs['crew_size'], bins=range(1, int(max(movies_wcs['crew_size'])) + 2), edgecolor='black')\n",
    "plt.xlabel('Movie Crew size')\n",
    "plt.ylabel('Number of films')\n",
    "plt.title('Distribution of movie crew size')\n",
    "\n",
    "plt.subplot(1, 2, 2)\n",
    "hist, edges = np.histogram(movies_wcs['crew_size'], bins=range(1, int(max(movies_wcs['crew_size'])) + 2))\n",
    "bin_centers = 0.5 * (edges[:-1] + edges[1:])\n",
    "plt.loglog(bin_centers, hist, 'o-', color=PALETTE_D[1], markeredgecolor='black', linewidth=2, markersize=4)\n",
    "plt.xlabel('Movie crew size (log$_{10}$ scale)')\n",
    "plt.ylabel('Number of movies (log$_{10}$ scale)')\n",
    "plt.title('Log-log Distribution of the movies\\' crew size', fontsize=16)\n",
    "plt.grid(True, linestyle='--', alpha=0.7)\n",
    "\n",
    "plt.tight_layout()\n",
    "plt.show()"
   ]
  },
  {
   "cell_type": "markdown",
   "id": "b50c2a9f",
   "metadata": {},
   "source": [
    "How are our movie scores distributed?"
   ]
  },
  {
   "cell_type": "code",
   "execution_count": 22,
   "id": "e042d8aa",
   "metadata": {},
   "outputs": [
    {
     "data": {
      "image/png": "[encoded data removed]",
      "text/plain": [
       "<Figure size 1200x500 with 1 Axes>"
      ]
     },
     "metadata": {},
     "output_type": "display_data"
    }
   ],
   "source": [
    "plt.figure(figsize=(12, 5))\n",
    "plt.hist(movies['score'], bins=range(1, int(max(movies['score'])) + 2), color=PALETTE_D[1], edgecolor='black')\n",
    "plt.xlabel('Film score')\n",
    "plt.ylabel('Number of films')\n",
    "plt.title('Distribution of movie scores')\n",
    "plt.tight_layout()\n",
    "plt.show()"
   ]
  },
  {
   "cell_type": "markdown",
   "id": "4a3aae82",
   "metadata": {},
   "source": [
    "Skewed, but not a power law. <br>\n",
    "Let us thus first see how the movie crew size is linked to the movie score:"
   ]
  },
  {
   "cell_type": "code",
   "execution_count": 23,
   "id": "93cfc91a",
   "metadata": {},
   "outputs": [
    {
     "data": {
      "image/png": "[encoded data removed]",
      "text/plain": [
       "<Figure size 1000x600 with 1 Axes>"
      ]
     },
     "metadata": {},
     "output_type": "display_data"
    }
   ],
   "source": [
    "plt.figure(figsize=(10, 6))\n",
    "ax = sns.regplot(x='crew_size', y='score', data=movies_wcs, scatter_kws={'color': PALETTE_D[1]}, line_kws={'color': PALETTE_D[0]})\n",
    "\n",
    "correlation_coefficient = movies_wcs['crew_size'].corr(movies_wcs['score'])\n",
    "ax.annotate(f'Corr Coef: {correlation_coefficient:.2f}', xy=(0.5, 0.95), xycoords='axes fraction', ha='center', fontsize=10, color=PALETTE_D[4])\n",
    "plt.title('')\n",
    "plt.xlabel('Number of members working on the movie')\n",
    "plt.ylabel('Success score of the movie')\n",
    "plt.grid(True)\n",
    "plt.show()"
   ]
  },
  {
   "cell_type": "markdown",
   "id": "bfc32c3d",
   "metadata": {},
   "source": [
    "A few number of outliers with huge movie crewsizes : let's remove them to keep some reasonable crew sizes."
   ]
  },
  {
   "cell_type": "code",
   "execution_count": 24,
   "id": "d589e50c",
   "metadata": {},
   "outputs": [],
   "source": [
    "movies_wscs = movies_wcs[movies_wcs['crew_size'] < 3000]"
   ]
  },
  {
   "cell_type": "code",
   "execution_count": 25,
   "id": "a23c589d",
   "metadata": {},
   "outputs": [
    {
     "data": {
      "image/png": "[encoded data removed]",
      "text/plain": [
       "<Figure size 1000x600 with 1 Axes>"
      ]
     },
     "metadata": {},
     "output_type": "display_data"
    }
   ],
   "source": [
    "plt.figure(figsize=(10, 6))\n",
    "ax = sns.regplot(x='crew_size', y='score', data=movies_wscs, scatter_kws={'color': PALETTE_D[1]}, line_kws={'color': PALETTE_D[0]})\n",
    "\n",
    "correlation_coefficient = movies_wscs['crew_size'].corr(movies_wscs['score'])\n",
    "ax.annotate(f'Corr Coef: {correlation_coefficient:.2f}', xy=(0.5, 0.95), xycoords='axes fraction', ha='center', fontsize=10, color=PALETTE_D[4])\n",
    "plt.title('')\n",
    "plt.xlabel('Number of members working on the movie')\n",
    "plt.ylabel('Success score of the movie')\n",
    "plt.grid(True)\n",
    "plt.show()"
   ]
  },
  {
   "cell_type": "markdown",
   "id": "33db476c",
   "metadata": {},
   "source": [
    "Difficult to assess the meaningfulness of the correlation between the size of the movie crew and the score of the movie. Let's display our first 10 movies in terms of score :"
   ]
  },
  {
   "cell_type": "code",
   "execution_count": 26,
   "id": "cf630402",
   "metadata": {},
   "outputs": [
    {
     "data": {
      "image/png": "[encoded data removed]",
      "text/plain": [
       "<Figure size 1400x600 with 2 Axes>"
      ]
     },
     "metadata": {},
     "output_type": "display_data"
    }
   ],
   "source": [
    "top_10_movies = movies_wscs.sort_values(by='score', ascending=False).head(15)\n",
    "top_10_movies = top_10_movies.sort_values(by='score', ascending=True)\n",
    "\n",
    "top_10_movies = top_10_movies.head(15)\n",
    "\n",
    "fig, (ax1, ax2) = plt.subplots(1, 2, figsize=(14, 6), sharey=True)\n",
    "\n",
    "# Barplot 1: Crew Size\n",
    "ax1.barh(top_10_movies['title'], top_10_movies['crew_size'], color= PALETTE_D[0])\n",
    "ax1.set_xlabel('Crew Size')\n",
    "ax1.set_title('Crew Size of Top 10 Movies')\n",
    "\n",
    "# Barplot 2: Score\n",
    "ax2.barh(top_10_movies['title'], top_10_movies['score'], color=PALETTE_D[1])\n",
    "ax2.set_xlabel('Score')\n",
    "ax2.set_title('Score of Top 10 Movies')\n",
    "\n",
    "plt.tight_layout()\n",
    "plt.show()"
   ]
  },
  {
   "cell_type": "markdown",
   "id": "b4a7f38e",
   "metadata": {},
   "source": [
    "We can just see that even amongst our most popular movies, we have the LOTR films & inception with a huge number of people who are credited, but actually the Godfather has a rather small crew size when compared to the latter. <br>\n",
    "If the impact on a certain movie is thus not really established, Let's try to see how the directors surround themselves for their movies : do they always have a huge number of people around them ?"
   ]
  },
  {
   "cell_type": "markdown",
   "id": "c0c4e8b0",
   "metadata": {},
   "source": [
    "### bug zone start"
   ]
  },
  {
   "cell_type": "code",
   "execution_count": 27,
   "id": "d67cbae1",
   "metadata": {},
   "outputs": [],
   "source": [
    "enhanced_directors_df['directed_movies'] = enhanced_directors_df['directed_movies'].apply(lambda x: ','.join(x))"
   ]
  },
  {
   "cell_type": "code",
   "execution_count": 28,
   "id": "10b4f5a4",
   "metadata": {},
   "outputs": [],
   "source": [
    "oui = enhanced_directors_df.copy(deep=True)\n",
    "\n",
    "oui['directed_movies'] = oui['directed_movies'].apply(lambda x: str(x).split(','))\n",
    "\n",
    "# Explode the lists to separate rows for each movie ID\n",
    "directors_exploded = oui.explode('directed_movies')\n",
    "\n",
    "merged_df = pd.merge(directors_exploded, movies_wcs, how='left', left_on='directed_movies', right_index=True)\n",
    "\n",
    "# Filter for rows where the director has directed at least 3 movies\n",
    "filtered_directors = merged_df.groupby('nconst').filter(lambda x: x['directed_movies'].nunique() >= 3)\n",
    "\n",
    "# Calculate the average crew size for each director\n",
    "average_crew_size = pd.DataFrame(filtered_directors.groupby('nconst')['crew_size'].mean())\n",
    "\n",
    "average_crew_size.rename(columns={'crew_size' : 'avg_crew_size'},inplace=True)\n",
    "\n",
    "enhanced_directors_df = pd.merge(enhanced_directors_df,average_crew_size,how='left',left_index=True,right_index=True)"
   ]
  },
  {
   "cell_type": "code",
   "execution_count": 29,
   "id": "d2ccb0b4",
   "metadata": {},
   "outputs": [
    {
     "data": {
      "image/png": "[encoded data removed]",
      "text/plain": [
       "<Figure size 1000x600 with 1 Axes>"
      ]
     },
     "metadata": {},
     "output_type": "display_data"
    }
   ],
   "source": [
    "tmp_df = enhanced_directors_df.dropna(subset=['avg_crew_size', 'avg-3'])\n",
    "tmp_df[['avg_crew_size', 'avg-3']] = tmp_df[['avg_crew_size', 'avg-3']].apply(pd.to_numeric, errors='coerce')\n",
    "\n",
    "plt.figure(figsize=(10, 6))\n",
    "ax = sns.regplot(x='avg_crew_size', y='avg-3', data=tmp_df, scatter_kws={'color': PALETTE_D[1]}, line_kws={'color': PALETTE_D[0]})\n",
    "\n",
    "correlation_coefficient = tmp_df['avg_crew_size'].corr(tmp_df['avg-3'])\n",
    "ax.annotate(f'Corr Coef: {correlation_coefficient:.2f}', xy=(0.5, 0.95), xycoords='axes fraction', ha='center', fontsize=10, color='red')\n",
    "plt.title('-')\n",
    "plt.xlabel('Average crew size per director')\n",
    "plt.ylabel('avg-3 Score')\n",
    "plt.grid(True)\n",
    "plt.show()"
   ]
  },
  {
   "cell_type": "markdown",
   "id": "4a33e228",
   "metadata": {},
   "source": [
    "Interesting behaviour : seems like for averages inferior to a certain size there is a correlation between avg-3 score of the director and his/her average crew size but this is unbalanced when taking the movies superior to a certain size. Let's separate the directors in two to see how the two 'director' populations behave :"
   ]
  },
  {
   "cell_type": "code",
   "execution_count": null,
   "id": "b3d9ffad",
   "metadata": {},
   "outputs": [],
   "source": [
    "large_crew_directors = tmp_df[tmp_df['avg_crew_size'] >= 300]\n",
    "small_crew_directors = tmp_df[tmp_df['avg_crew_size'] < 300]\n",
    "\n",
    "fig, axes = plt.subplots(1, 2, figsize=(16, 5))\n",
    "\n",
    "# For small crew dirs\n",
    "ax = sns.regplot(x='avg_crew_size', y='avg-3', data=small_crew_directors, scatter_kws={'color': PALETTE_D[1]}, line_kws={'color': PALETTE_D[0]}, ax=axes[0])\n",
    "correlation_coefficient = small_crew_directors['avg_crew_size'].corr(small_crew_directors['avg-3'])\n",
    "ax.annotate(f'Corr Coef: {correlation_coefficient:.2f}', xy=(0.5, 0.95), xycoords='axes fraction', ha='center', fontsize=10, color=PALETTE_D[2])\n",
    "axes[0].set_title('Directors with Fewer than 300 Crew Members on average')\n",
    "\n",
    "# For large crew dirs\n",
    "ax = sns.regplot(x='avg_crew_size', y='avg-3', data=large_crew_directors, scatter_kws={'color': PALETTE_D[1]}, line_kws={'color': PALETTE_D[4]}, ax=axes[1])\n",
    "correlation_coefficient = large_crew_directors['avg_crew_size'].corr(large_crew_directors['avg-3'])\n",
    "ax.annotate(f'Corr Coef: {correlation_coefficient:.2f}', xy=(0.5, 0.95), xycoords='axes fraction', ha='center', fontsize=10, color='red')\n",
    "axes[1].set_title('Directors with 300 or More Crew Members on average')\n",
    "\n",
    "\n",
    "fig.suptitle('Scatter Plot of Average Crew Size vs. avg-3 Score for Directors')\n",
    "for ax in axes:\n",
    "    ax.set_xlabel('Average Crew Size')\n",
    "    ax.set_ylabel('avg-3 Score')\n",
    "\n",
    "plt.tight_layout()\n",
    "plt.show()"
   ]
  },
  {
   "cell_type": "markdown",
   "id": "1f664102",
   "metadata": {},
   "source": [
    "To see where the 'shift' happens, let's try and plot the evolution of the correlation coefficient of the avg-3 score with the size of the movie crew :"
   ]
  },
  {
   "cell_type": "code",
   "execution_count": null,
   "id": "0cd61a59",
   "metadata": {},
   "outputs": [],
   "source": [
    "correlation_dict = {}\n",
    "\n",
    "threshold_values = range(0, 3000, 1)\n",
    "max_correlation_coefficient = 0\n",
    "optimal_threshold = 0\n",
    "\n",
    "#iterating over the threshold values to get the correlation coefficients, each time\n",
    "for threshold in threshold_values:\n",
    "    \n",
    "    selected_directors = tmp_df[tmp_df['avg_crew_size'] <= threshold]\n",
    "\n",
    "    correlation_coefficient = selected_directors['avg_crew_size'].corr(selected_directors['avg-3'])\n",
    "\n",
    "\n",
    "    correlation_dict[threshold] = correlation_coefficient\n",
    "\n",
    "    if correlation_coefficient > max_correlation_coefficient:\n",
    "        max_correlation_coefficient = correlation_coefficient\n",
    "        optimal_threshold = threshold\n",
    "\n",
    "# Extract the lists of thresholds and correlation coefficients\n",
    "thresholds = list(correlation_dict.keys())\n",
    "correlation_coefficients = list(correlation_dict.values())\n",
    "\n",
    "plt.plot(thresholds, correlation_coefficients, marker='o', markersize=0.05,color=PALETTE_D[1], label='Correlation Coefficient')\n",
    "plt.scatter(optimal_threshold, max_correlation_coefficient, color=PALETTE_D[4], s=10, label=f'Max Correlation\\nThreshold={optimal_threshold}')\n",
    "plt.xlabel('Maximum value of the average crew size considered')\n",
    "plt.ylabel('Correlation Coefficient')\n",
    "plt.title('Correlation Coefficient vs Threshold for avg_crew_size')\n",
    "plt.legend()\n",
    "plt.grid(True)\n",
    "plt.show()\n",
    "\n",
    "print(f'Optimal Threshold: {optimal_threshold}')\n",
    "print(f'Max Correlation Coefficient: {max_correlation_coefficient}')"
   ]
  },
  {
   "cell_type": "markdown",
   "id": "34280fcc",
   "metadata": {},
   "source": [
    "Starting from a crew size of approximately 400, there starts to be a decrease in correlation between the average crew size of the director and its success. Could mean that too many members on seevral movie crews for a director can be detrimental to the success of directors.\n",
    "\n",
    "That's an interesting conclusion : the crew size of the movie does not necessarily matter for a specific movie : very successful movies have both had crew sizes that are inferior to the 'threshold' we just found and very well above while still being successful. However, it seems that for directors that always work with a huge crew, the director's success gets impacted.\n",
    "\n",
    "Nolan for instance indeed had a crew of 1200+ people on inception, but looking at his other films :\n"
   ]
  },
  {
   "cell_type": "markdown",
   "id": "6e3cdee6",
   "metadata": {},
   "source": [
    "### bug zone end"
   ]
  },
  {
   "cell_type": "code",
   "execution_count": null,
   "id": "54e881dc",
   "metadata": {},
   "outputs": [],
   "source": [
    "top_nolan_movies = movies_wscs[movies_wscs['directors'].str.contains('nm0634240')].sort_values(by='score', ascending=False).head(10)\n",
    "top_nolan_movies = top_nolan_movies.sort_values(by='score', ascending=True)\n",
    "\n",
    "top_nolan_movies = top_nolan_movies.head(10)\n",
    "\n",
    "fig, (ax1, ax2) = plt.subplots(1, 2, figsize=(14, 6), sharey=True)\n",
    "\n",
    "# Barplot 1: Crew Size\n",
    "ax1.barh(top_nolan_movies['title'], top_nolan_movies['crew_size'], color=PALETTE_D[0])\n",
    "ax1.set_xlabel('Crew Size')\n",
    "ax1.set_title('Crew Size of Top 10 Movies')\n",
    "\n",
    "# Barplot 2: Score\n",
    "ax2.barh(top_nolan_movies['title'], top_nolan_movies['score'], color=PALETTE_D[1])\n",
    "ax2.set_xlabel('Score')\n",
    "ax2.set_title('Score of Top 10 Movies')\n",
    "\n",
    "# Display the plots\n",
    "plt.tight_layout()\n",
    "plt.show()"
   ]
  },
  {
   "cell_type": "markdown",
   "id": "f528dfb2",
   "metadata": {},
   "source": [
    "It's not something that necessarily repeats. Even among some of his most prestigious films, the crew size is not larger than 400 people, which is approximately the average crew size theshold we saw earlier where there really starts to be a decrease in correlation between director's success and avg crew size.\n",
    "\n",
    "\n",
    "**--> Does the crew size has an impact on the success of a movie ?** : In absolute, no. There is of course going to be very few movies with extremely limited crew sizes that are as famous as the hollywood ones, but that's probably just cofounded by the budget of the movie or other elements that effect how this crew can be built.\n",
    "\n",
    "**--> Does the crew size of the different movies of a director have an impact on its success ?** There is a clear relationship between a director's success and its crew sizes, that's worsening as much as the average crew size of a director evolves. It's for sure not the only factor impacting, but it does not play in favour of the directors.\n",
    "\n",
    "Nuance : We still have a very vew numbers of directors with relatively big (>300) movie crews on average, because as we saw both the number of collaborations & movie crew sizes follow rather closely a power law, which makes sense, so it's also a matter of distribution."
   ]
  },
  {
   "cell_type": "markdown",
   "id": "a7939529",
   "metadata": {},
   "source": [
    "---\n",
    "## Are the directors who always work with the same crew more successful?\n",
    "\n",
    "Now, let's try to see what's the behaviour of the number of collaborations of each director's. How many directors tend to work with similar people across their directed movies ? \n",
    "\n",
    "Quick function that retrieves all the persons that starred in some movies :"
   ]
  },
  {
   "cell_type": "code",
   "execution_count": null,
   "id": "957af98d",
   "metadata": {},
   "outputs": [],
   "source": [
    "def get_movie_crew(movies,matched_people) :\n",
    "    \n",
    "\n",
    "    #The beginning of the function is really similar to get_movie_crew_size, but the rest of the operation differ as it performs a matching to retrieve the crew of each specific\n",
    "    #movie\n",
    "    crew = matched_people.copy()\n",
    "    tqdm.pandas(desc=\"knownForTitles under str form\")\n",
    "    crew['knownForTitles'] = crew['knownForTitles'].progress_apply(lambda x: set(x.split(',')) if isinstance(x, str) else set())\n",
    "    tqdm.pandas(desc=\"all_known_roles under str form\")\n",
    "    crew['all_known_roles'] = crew['all_known_roles'].progress_apply(lambda x: set(x.split(',')) if isinstance(x, str) else set())\n",
    "\n",
    "    tqdm.pandas(desc=\"Taking union of knownForTitles & all_known_roles\")\n",
    "    roles_df = crew[['knownForTitles', 'all_known_roles']].progress_apply(lambda row: row['knownForTitles'].union(row['all_known_roles']), axis=1)\n",
    "    roles_df = pd.DataFrame({'nconst': crew['nconst'], 'roles_union': roles_df})\n",
    "    #roles_df = roles_df.explode('roles_union')\n",
    "\n",
    "    tt_nconst_mapping = {}\n",
    "    selected_movies = set(movies.index)\n",
    "    #Itering through each row and update the dictionary created just above\n",
    "    rows = []\n",
    "    for index, row in tqdm(roles_df.iterrows(), total=len(roles_df), desc=\"Finding crew members\", leave=False):\n",
    "        nconst_id = row['nconst']\n",
    "        tt_ids = row['roles_union']\n",
    "\n",
    "        for tt_id in tt_ids:\n",
    "            if tt_id in selected_movies:\n",
    "                rows.append({'nconst': nconst_id, 'roles_union': tt_id})\n",
    "\n",
    "    roles_df = pd.DataFrame(rows)\n",
    "\n",
    "    # Group by 'roles_union' and aggregate 'nconst' as a list\n",
    "    tt_nconst_mapping = roles_df.groupby('roles_union')['nconst'].agg(list).to_dict()\n",
    "\n",
    "    return tt_nconst_mapping"
   ]
  },
  {
   "cell_type": "code",
   "execution_count": null,
   "id": "28180800",
   "metadata": {},
   "outputs": [],
   "source": [
    "movie_crews = get_movie_crew(movies_wcs,mip_enhanced)"
   ]
  },
  {
   "cell_type": "code",
   "execution_count": null,
   "id": "783baec5",
   "metadata": {},
   "outputs": [],
   "source": [
    "save_parquet_to_generated(\"q1_movie_crews\", movie_crews)"
   ]
  },
  {
   "cell_type": "code",
   "execution_count": null,
   "id": "d818b36a",
   "metadata": {},
   "outputs": [],
   "source": [
    "movie_crews = read_dataframe_parquet(\"q1/movie_crews\")"
   ]
  },
  {
   "cell_type": "markdown",
   "id": "854940ff",
   "metadata": {},
   "source": [
    "What we do here is we want to measure how directors change their crew overtime. We thus use the Overlap coefficient to measure the changes : It's the intersection of the crews divided by the size of the minimum of the two crews. We take the minimum here because we don't want to penalize the computations if the crew sizes are too different, what interests us here is just to know, overall, how much the directors keep people from one movie to the other. If all the people from movie 1 are moved to movie 2, even if movie 2 has more people, will yield a coefficient of 1, which is good because we want to maximize these kind of events as we do not have extensive information about the entire crews."
   ]
  },
  {
   "cell_type": "code",
   "execution_count": null,
   "id": "8642b658",
   "metadata": {},
   "outputs": [],
   "source": [
    "def overlap_coefficient(set1, set2):\n",
    "    intersection_size = len(set1.intersection(set2))\n",
    "    min_size = max(len(set1), len(set2))\n",
    "    return intersection_size / min_size if min_size > 0 else 0\n",
    "\n",
    "\n",
    "enhanced_directors_df = enhanced_directors_df.dropna(subset=['avg_crew_size', 'avg-3'])\n",
    "directors_copy = enhanced_directors_df.copy(deep=True)\n",
    "directors_copy['avg_crew_change'] = 0.0 \n",
    "\n",
    "\n",
    "for index, row in tqdm(directors_copy.iterrows(), total=len(directors_copy), desc=\"Finding crew similarities for the directors\", leave=False) :\n",
    "    director_id = index\n",
    "    directed_movies = row['directed_movies'].split(',')\n",
    "\n",
    "    # Get the set of crew members for each movie directed by the director\n",
    "    director_crews = [set(movie_crews[movie_id]) for movie_id in directed_movies if movie_id in movie_crews]\n",
    "\n",
    "    # Calculate crew changes\n",
    "    crew_changes = []\n",
    "    for i in range(len(director_crews) - 1):\n",
    "        for j in range(i + 1, len(director_crews)):\n",
    "            overlap_coeff = overlap_coefficient(director_crews[i], director_crews[j])\n",
    "            crew_changes.append(overlap_coeff)\n",
    "\n",
    "    # Calculate the average crew change for the director\n",
    "    avg_crew_change = sum(crew_changes) / len(crew_changes) if crew_changes else 0\n",
    "    directors_copy.at[index, 'avg_crew_change'] = avg_crew_change"
   ]
  },
  {
   "cell_type": "markdown",
   "id": "63152d98",
   "metadata": {},
   "source": [
    "We must however be careful that the measure biased because of the fact that we lack information for some directors. Maybe they had more than 7 people in their crew on average, but IMDb does not provide the rightful information about it.\n",
    "\n",
    "Let's try, therefore, to only consider the ones with a sufficient crew size."
   ]
  },
  {
   "cell_type": "code",
   "execution_count": null,
   "id": "fc1bd28e",
   "metadata": {},
   "outputs": [],
   "source": [
    "directors_copy = directors_copy.dropna(subset=['avg_crew_change', 'avg-3']).copy()\n",
    "directors_copy[['avg_crew_change', 'avg-3']] = directors_copy[['avg_crew_change', 'avg-3']].apply(pd.to_numeric, errors='coerce')\n",
    "directors_copy = directors_copy[directors_copy['avg_crew_size'] > 20]\n",
    "plt.figure(figsize=(10, 6))\n",
    "ax = sns.regplot(x='avg_crew_change', y='avg-3', data=directors_copy, scatter_kws={'color': PALETTE_D[1]}, line_kws={'color': PALETTE_D[4]})\n",
    "\n",
    "correlation_coefficient = directors_copy['avg_crew_change'].corr(directors_copy['avg-3'])\n",
    "ax.annotate(f'Corr Coef: {correlation_coefficient:.2f}', xy=(0.5, 0.95), xycoords='axes fraction', ha='center', fontsize=10, color='red')\n",
    "plt.title('-')\n",
    "plt.xlabel('Average crew similarity (Overlap Coefficient)')\n",
    "plt.ylabel('avg-3 Score')\n",
    "plt.grid(True)\n",
    "plt.show()"
   ]
  },
  {
   "cell_type": "code",
   "execution_count": null,
   "id": "99ba7299",
   "metadata": {},
   "outputs": [],
   "source": [
    "directors_copy = directors_copy.dropna(subset=['avg_crew_change', 'avg-3']).copy()\n",
    "\n",
    "# Convert columns to numeric (if not already numeric)\n",
    "directors_copy[['avg_crew_change', 'avg-3']] = directors_copy[['avg_crew_change', 'avg-3']].apply(pd.to_numeric, errors='coerce')\n",
    "\n",
    "plt.figure(figsize=(10, 6))\n",
    "\n",
    "# Plot distribution of 'avg-3' score with respect to average crew similarity\n",
    "ax = sns.histplot(y='avg-3', x='avg_crew_change', data=directors_copy, bins=100, cmap=PALETTE_C, cbar=True, fill=True)\n",
    "\n",
    "plt.title('Distribution of avg-3 Score with respect to Average Crew Similarity')\n",
    "plt.ylabel('avg-3 Score')\n",
    "plt.xlabel('Average Crew Similarity (Overlap Coefficient)')\n",
    "plt.grid(True)\n",
    "plt.show()"
   ]
  },
  {
   "cell_type": "markdown",
   "id": "ff8c5b40",
   "metadata": {},
   "source": [
    "If we consider the entire crews, it seems that the majority of directors tend to change crews between movies. The majority of directors have average scores in the 15-30 range with overlap coefficients from 0 to 0.05, hence seemingly changing crews in between films.\n",
    "\n",
    "Moreover, the most successful directors also have rather low overlap coefficients. From this alone, it seems like directors, whatever their success is, tend do change crews in between movies."
   ]
  },
  {
   "cell_type": "code",
   "execution_count": null,
   "id": "1513b312",
   "metadata": {},
   "outputs": [],
   "source": [
    "directors_copy.sort_values(by='avg_crew_change',ascending=False).head(10)"
   ]
  },
  {
   "cell_type": "markdown",
   "id": "b2a3af33",
   "metadata": {},
   "source": [
    "Most likely, yes. It's easier to get an overlap coefficient that is big if you have a very small number of collaborations on each film and you always work with nearly the same one(s). What this overlap coefficient rather indicates is that directors with large crews will unevitabely suffer changes from one film to the other, but we can not really assess the impact of these changes on director's success with this overlap coefficient alone. \n",
    "\n",
    "**Are the directors who always work with the same crew more successful?** --> If we take the entirety of the crew, then it does not seem that directors that keep their entire crew are most successful, graphs even tend to show the opposite. However, due to the lack of solid IMDb data with respect to the exact entire crews, it may be scuffed.\n",
    "\n",
    "------\n",
    "## Is directors' success related to the presence of certain individuals in their team ? If yes, how frequently have they been collaborating with each other ?\n",
    "\n",
    "What is maybe more interesting is, instead of looking at the entirety of the crew, to see how much directors tend to keep some 'elements' of their crew : what we could consider as their core crew members. Maybe one, two or more people that are constantly there in between films. This helps, in contrary to the overall overlap coefficient, to assess the impact of particular relationships.\n",
    "\n",
    "We will very simply try to check this by searching for the members that are present in the director's films. First, let's see how many directors had relationships with people that they maintained during at least 80% of the films they directed and that we have information about :\n"
   ]
  },
  {
   "cell_type": "code",
   "execution_count": null,
   "id": "c2f14959",
   "metadata": {},
   "outputs": [],
   "source": [
    "def identify_core_crew(directors_copy, movie_crews, movies, success_threshold, core_threshold, only_successes):\n",
    "    if only_successes :\n",
    "        directors_with_at_least_threshold_movies = directors_copy[directors_copy['directed_movies'].apply(lambda x: len(str(x).split(',')) >= success_threshold)]\n",
    "    else :\n",
    "        directors_with_at_least_threshold_movies = directors_copy\n",
    "    directors_core = directors_with_at_least_threshold_movies.copy()\n",
    "    directors_core['core_crew'] = None\n",
    "\n",
    "    for index, row in tqdm(directors_core.iterrows(), total=len(directors_core), desc=f\"Identifying core members in directors' films (Threshold: {core_threshold*100} %)\"):\n",
    "        director_id = index\n",
    "        directed_movies_str = row['directed_movies']\n",
    "\n",
    "        directed_movies = directed_movies_str.split(',')\n",
    "\n",
    "        if only_successes :\n",
    "            top_movies_count = min(success_threshold, len(directed_movies))\n",
    "        \n",
    "        else :\n",
    "            top_movies_count = len(directed_movies)\n",
    "\n",
    "        top_movies = (\n",
    "            pd.DataFrame(directed_movies, columns=['tconst'])\n",
    "            .merge(movies[['score']], left_on='tconst', right_index=True)\n",
    "            .nlargest(top_movies_count, 'score')\n",
    "        )\n",
    "\n",
    "        director_crews = [set(movie_crews[movie_id]) for movie_id in top_movies['tconst'] if movie_id in movie_crews]\n",
    "\n",
    "        total_movie_count = len(top_movies)\n",
    "        all_crew_members = [crew_member for crew_set in director_crews for crew_member in crew_set if crew_member != director_id]\n",
    "        crew_member_counts = Counter(all_crew_members)\n",
    "\n",
    "        core_crew = [crew_member for crew_member, count in crew_member_counts.items() if count >= core_threshold * total_movie_count]\n",
    "\n",
    "        directors_core.at[index, 'core_crew'] = core_crew\n",
    "    \n",
    "    return directors_core"
   ]
  },
  {
   "cell_type": "code",
   "execution_count": null,
   "id": "f31f862f",
   "metadata": {},
   "outputs": [],
   "source": [
    "dir_core = identify_core_crew(directors_copy,movie_crews,movies,100,0.8,False)\n",
    "dir_core['core_crew_count'] = dir_core['core_crew'].apply(lambda x: len(str(x).split(',')) if x else 0)\n",
    "dir_core.sort_values(by='avg-5',ascending=False).head(20)"
   ]
  },
  {
   "cell_type": "markdown",
   "id": "c4d14ab5",
   "metadata": {},
   "source": [
    "Well, once again, we see that there are changes in crew members across the films : Only the Cohen Brothers have a core relationship, but it is of course with each other. There is nothing much to analyse here.\n",
    "\n",
    "Rather, we're interested about **success** of the directors. Let us thus see if some persons are often present in their successes :\n",
    "\n",
    "Here, we take the 5 best films (in terms of score) of the directors and identify if some crew members were present in at least 4 of them. "
   ]
  },
  {
   "cell_type": "code",
   "execution_count": null,
   "id": "5a240462",
   "metadata": {},
   "outputs": [],
   "source": [
    "directors_core = identify_core_crew(directors_copy,movie_crews,movies,5,0.8,True)\n",
    "\n",
    "directors_core['core_crew_count'] = directors_core['core_crew'].apply(lambda x: len(str(x).split(',')) if x else 0)\n",
    "directors_core.sort_values(by='avg-5',ascending=False).head(10)"
   ]
  },
  {
   "cell_type": "markdown",
   "id": "c23879c6",
   "metadata": {},
   "source": [
    "Now, that's more like it ! We have some 'core relationships'. However, results are mixed. Some of the most successful directors indeed have some very close relationships, but some do not. It however seems that the 'core_crew' size is either way pretty reduced. One exception shown above is Peter Jackson, which is normal as LOTR is a trilogy with essentially the same people working on it each time.\n",
    "\n",
    "But interesting results here still :\n",
    "\n",
    "- Nolan & Fincher : Their wives are in these core relationships\n",
    "\n",
    "- Spielberg & Miyazaki (for instance) : Some famous composers : John Williams and Joe Hisaishi \n",
    "\n",
    "- Cohen Brothers : They of course share the same core crew members\n",
    "\n",
    "\n",
    "From this only, the 'landscape' of core relationships seems complex to analyse. Let's see if the number of these core relationships has an impact on the score. We drop outliers such as Peter Jackson to have an better insight."
   ]
  },
  {
   "cell_type": "code",
   "execution_count": null,
   "id": "71871c5f",
   "metadata": {},
   "outputs": [],
   "source": [
    "test = directors_core[directors_core['core_crew_count'] < 50].dropna(subset=('avg-5','core_crew_count'))\n",
    "test['avg-5'] = pd.to_numeric(test['avg-5'])\n",
    "model = smf.ols('Q(\"avg-5\") ~ core_crew_count', data=test).fit()\n",
    "print(model.summary())"
   ]
  },
  {
   "cell_type": "markdown",
   "id": "7f970031",
   "metadata": {},
   "source": [
    "The R^2 squared is terrible, but slight (significant) positive correlation between the number of core relationships and the success metric of the director. \n",
    "From this simple model, it seems that the nb of close relationships of directors with members of the industry over their best films seem to have a slight correlation with success. \n",
    "\n",
    "To have more insights, we take a look at the difference in core crew relationships following certain thresholds of success score of directors."
   ]
  },
  {
   "cell_type": "code",
   "execution_count": null,
   "id": "6c662472",
   "metadata": {},
   "outputs": [],
   "source": [
    "ouep = test.copy(deep=True)\n",
    "ouep['avg-5'] = pd.to_numeric(ouep['avg-5'], errors='coerce')\n",
    "\n",
    "\n",
    "def update_plot(threshold):\n",
    "    \n",
    "    ouep['Score Category'] = pd.cut(ouep['avg-5'], bins=[-float('inf'), threshold, float('inf')],\n",
    "                                    labels=['<25', '>25'], right=False)\n",
    "\n",
    "    # Plotting\n",
    "    plt.figure(figsize=(10, 6))\n",
    "    sns.pointplot(x='Score Category', y='core_crew_count', data=ouep, errorbar=('ci', 95),color=PALETTE_D[1])\n",
    "\n",
    "    # Set plot labels and title dynamically\n",
    "    plt.xlabel(f'Success score Category (Threshold = {threshold:.2f})')\n",
    "    plt.ylabel('Average core_crew_count')\n",
    "    plt.title(f'Average core_crew_count for Directors (Threshold = {threshold:.2f})')\n",
    "\n",
    "    # Update x-axis labels dynamically\n",
    "    plt.xticks(ticks=plt.xticks()[0], labels=[f'<{threshold:.2f}', f'>{threshold:.2f}'])\n",
    "\n",
    "    # Show the plot\n",
    "    plt.grid(True)\n",
    "    plt.show()\n",
    "\n",
    "# Create an interactive slider for the threshold value\n",
    "threshold_slider = widgets.FloatSlider(value=30, min=20, max=40, step=1,\n",
    "                                      description='Threshold')\n",
    "# Create the interactive plot\n",
    "interact(update_plot, threshold=threshold_slider)\n"
   ]
  },
  {
   "cell_type": "markdown",
   "id": "db874c8a",
   "metadata": {},
   "source": [
    "Although that of course does not mean causation, there seems to be a difference in core relationships number between successful directors and those that are not, whatever we decide to set the 'threshold' for success at.\n",
    "\n",
    "However, let us be sure that this is not cofounded by the number of movies directed by a certain director : maybe it could just be that directors that directed more movies are more successful overall ?\n",
    "\n",
    "We will balance the dataset with similar number of movies directed :\n"
   ]
  },
  {
   "cell_type": "code",
   "execution_count": null,
   "id": "3dd395af",
   "metadata": {},
   "outputs": [],
   "source": [
    "control_df = test[test['avg-5'] < 30]\n",
    "treatment_df = test[test['avg-5'] >= 30]\n",
    "print(len(treatment_df), 'directors that are successful (treatment group).')\n",
    "print(len(control_df), 'directors that are not successful (control group).')"
   ]
  },
  {
   "cell_type": "markdown",
   "id": "9407020e",
   "metadata": {},
   "source": [
    "~5mins to run"
   ]
  },
  {
   "cell_type": "code",
   "execution_count": null,
   "id": "08e05485",
   "metadata": {},
   "outputs": [],
   "source": [
    "G = nx.Graph()\n",
    "for treatment_id, treatment_row in treatment_df.iterrows():\n",
    "    for control_id, control_row in control_df.iterrows():\n",
    "        nmd_similarity = np.abs(len(treatment_row['directed_movies'].split(',')) - len(control_row['directed_movies'].split(',')) )\n",
    "        G.add_weighted_edges_from([(control_id, treatment_id, nmd_similarity)])\n",
    "        \n",
    "matching = nx.min_weight_matching(G)"
   ]
  },
  {
   "cell_type": "code",
   "execution_count": null,
   "id": "e7a0eb65",
   "metadata": {},
   "outputs": [],
   "source": [
    "matched = [i[0] for i in list(matching)] + [i[1] for i in list(matching)]\n",
    "matched_test = test.loc[matched]\n",
    "len(matched_test)"
   ]
  },
  {
   "cell_type": "code",
   "execution_count": null,
   "id": "669872a6",
   "metadata": {},
   "outputs": [],
   "source": [
    "# Make a copy of the DataFrame\n",
    "ouep = matched_test.copy()\n",
    "\n",
    "# Convert 'avg-5' column to numeric\n",
    "ouep['avg-5'] = pd.to_numeric(ouep['avg-5'], errors='coerce')\n",
    "\n",
    "# Function to update and plot based on the threshold value\n",
    "def update_plot(threshold):\n",
    "    # Create a new column to categorize directors based on the condition\n",
    "    ouep['Score Category'] = pd.cut(ouep['avg-5'], bins=[-float('inf'), threshold, float('inf')],\n",
    "                                    labels=['<25', '>25'], right=False)\n",
    "\n",
    "    # Plotting\n",
    "    plt.figure(figsize=(10, 6))\n",
    "    sns.pointplot(x='Score Category', y='core_crew_count', data=ouep, errorbar=('ci', 95),color=PALETTE_D[1])\n",
    "\n",
    "    # Set plot labels and title dynamically\n",
    "    plt.xlabel(f'Success score Category (Threshold = {threshold:.2f})')\n",
    "    plt.ylabel('Average core_crew_count')\n",
    "    plt.title(f'Average core_crew_count for Directors (Threshold = {threshold:.2f})')\n",
    "\n",
    "    # Update x-axis labels dynamically\n",
    "    plt.xticks(ticks=plt.xticks()[0], labels=['Unsuccessful', 'Successful'])\n",
    "\n",
    "    # Show the plot\n",
    "    plt.grid(True)\n",
    "    plt.show()\n",
    "\n",
    "# Create an interactive slider for the threshold value\n",
    "threshold_slider = widgets.FloatSlider(value=30, min=20, max=40, step=1,\n",
    "                                      description='Threshold')\n",
    "# Create the interactive plot\n",
    "interact(update_plot, threshold=threshold_slider)"
   ]
  },
  {
   "cell_type": "markdown",
   "id": "fa957f8a",
   "metadata": {},
   "source": [
    "The difference and no-overlap of the 95CI% intervals is still present afterwards ! A statistical test to further check it :"
   ]
  },
  {
   "cell_type": "code",
   "execution_count": null,
   "id": "8389c741",
   "metadata": {},
   "outputs": [],
   "source": [
    "t_statistic, p_value = ttest_rel(matched_test[matched_test['avg-5'] <30]['core_crew_count'], matched_test[matched_test['avg-5'] >=30]['core_crew_count'])\n",
    "\n",
    "print(\"T-statistic:\", t_statistic)\n",
    "print(\"P-value:\", p_value)\n",
    "\n",
    "alpha = 0.05\n",
    "if p_value < alpha:\n",
    "    print(\"The difference in accuracy is statistically significant.\")\n",
    "else:\n",
    "    print(\"The difference in accuracy is not statistically significant.\")"
   ]
  },
  {
   "cell_type": "markdown",
   "id": "926588b5",
   "metadata": {},
   "source": [
    "The difference between our two balanced groups is still statistically significant ! There is a significant difference in members in the core crew between successful directors and unsuccessful directors. Even when matching for the number of movies directed, the null hypothesis that the average core crew size between successful and unsuccessful directors most likely cannot only be explained by chance.\n",
    "\n",
    "Now, the number of core relations is one thing, but what can be interesting to see is if the 'type' of people in this core crew has an impact as well. Do directors that have writers in their core crew have more success ? What about artistic/visual effects leads ? Even actors or actresses ?\n",
    "\n",
    "How is success of directors related to the professions of people in their core crew ? (We one-hot encode variable for profession, 0 if the profession is not part of the core crew of the director, 1 if it is) ~4mins to run"
   ]
  },
  {
   "cell_type": "code",
   "execution_count": null,
   "id": "4183fde1",
   "metadata": {},
   "outputs": [],
   "source": [
    "mip = mip_enhanced.set_index('nconst')\n",
    "result_df = pd.DataFrame()\n",
    "\n",
    "# Iterate through each row in directors_core dataframe\n",
    "for index, row in tqdm(test.iterrows(), total=len(test)):\n",
    "    director_id = index\n",
    "    core_crew_list = row['core_crew']\n",
    "\n",
    "    # Find the corresponding rows in mip_enhanced\n",
    "    crew_member_rows = mip[mip.index.isin(core_crew_list)]\n",
    "    # Flatten and unique list of professions\n",
    "    professions = crew_member_rows['primaryProfession'].str.split(',').explode().unique()\n",
    "\n",
    "    # Create a temporary dataframe for the current director\n",
    "    temp_df = pd.DataFrame({'nconst': director_id}, index=[0])\n",
    "    # Create binary columns indicating presence of each profession\n",
    "    for profession in professions:\n",
    "            if pd.notna(profession):\n",
    "                cleaned_profession = ''.join(e for e in profession if e.isalnum())\n",
    "                temp_df[cleaned_profession] = int(1)\n",
    "\n",
    "    # Append the temporary dataframe to the result dataframe\n",
    "    result_df = pd.concat([result_df, temp_df], ignore_index=True)\n",
    "\n",
    "# Fill NaN values with 0\n",
    "result_df = result_df.fillna(int(0))\n",
    "\n",
    "final_result = pd.merge(test, result_df, on='nconst', how='left')"
   ]
  },
  {
   "cell_type": "code",
   "execution_count": null,
   "id": "38408d69",
   "metadata": {},
   "outputs": [],
   "source": [
    "# Sum the values in each column\n",
    "#result_df = result_df.set_index('nconst')\n",
    "profession_counts = result_df.sum()\n",
    "\n",
    "\n",
    "# Set the presence threshold\n",
    "presence_threshold = 0.02\n",
    "\n",
    "# Identify professions with at least the specified presence\n",
    "filtered_professions = profession_counts[profession_counts / profession_counts.sum() >= presence_threshold]\n",
    "others = profession_counts[profession_counts / profession_counts.sum() < presence_threshold]\n",
    "\n",
    "sorted_profession_counts = profession_counts.sort_values(ascending=False)\n",
    "\n",
    "# Create a bar chart\n",
    "plt.figure(figsize=(10, 8))\n",
    "color_mapping = dict(zip(filtered_professions.index, PALETTE_D + ['#377eb8', '#ff7f00', '#4daf4a',\n",
    "                  '#f781bf', '#a65628', '#984ea3',\n",
    "                  '#999999', '#e41a1c', '#dede00']))\n",
    "\n",
    "\n",
    "fig, (ax1, ax2) = plt.subplots(1, 2, figsize=(15, 8))\n",
    "\n",
    "# Plot the bar chart on the first subplot\n",
    "ax1.bar(sorted_profession_counts.index, sorted_profession_counts, color=[color_mapping.get(label, 'lightgray') for label in sorted_profession_counts.index])\n",
    "\n",
    "ax1.set_title('Distribution of Professions in Core Crew of Directors', fontsize=14)\n",
    "ax1.set_xlabel('Professions')\n",
    "ax1.set_ylabel('Count')\n",
    "ax1.tick_params(axis='x', rotation=90)\n",
    "\n",
    "# Plot the pie chart on the second subplot\n",
    "combined_profession_counts = filtered_professions.copy()\n",
    "combined_profession_counts['other'] = others.sum()\n",
    "\n",
    "# Plot the pie chart\n",
    "ax2.pie(combined_profession_counts, labels=combined_profession_counts.index, autopct='%1.1f%%', colors=[color_mapping.get(label, 'lightgray') for label in combined_profession_counts.index])\n",
    "\n",
    "# Customize the appearance of the pie chart\n",
    "ax2.set_title('Percentage of Professions in Core Crew', fontsize=14)\n",
    "\n",
    "# Adjust layout\n",
    "plt.tight_layout()\n",
    "plt.show()"
   ]
  },
  {
   "cell_type": "markdown",
   "id": "1434e61e",
   "metadata": {},
   "source": [
    "The three professions that are the most present in the core crew of directors are producers, writers, as well as actors. At 4th, we can also see that ~9% of the directors we selected have collaborated pretty closely with other directors.\n",
    "Then, we also have professions in the 'sound' domain : soundtrack, musicdepartment & composer namely, which are also present to a certain extent in the director's crews.\n",
    "\n",
    "Interestingly, actresses are way less presents than actors : sign of a man-dominated industry.\n",
    "\n",
    "Cinematographers are also present.\n",
    "\n",
    "We then have also a lot of others but that are present in extremely few quantity : we cannot draw any conclusions using them on the success of a director that maybe have them in its crew. We only have 'famous' cinema jobs in these collaborations : all the shadow jobs do not seem well represented. However, this can also come from the lack of complete and throrough information on the complete crew of films. We only have what's more valorized through IMDb, this can be important to mention as a potential bias in our analysis of this part in particular.\n",
    "\n",
    "However, we can take the main jobs present above and try to see if some of them are more linked with director's success : Producer, Writer, Actor, Director, Soundtrack, MusicDepartment, Composer, Cinematographer, Cameradepartment, AssistantDirector and editiorialdepartment.\n"
   ]
  },
  {
   "cell_type": "code",
   "execution_count": null,
   "id": "7b883c9e",
   "metadata": {},
   "outputs": [],
   "source": [
    "ml_df = pd.merge(directors_core['avg-5'], result_df, left_index=True,right_index=True)"
   ]
  },
  {
   "cell_type": "code",
   "execution_count": null,
   "id": "f9f5313d",
   "metadata": {},
   "outputs": [],
   "source": [
    "# Convert 'avg-5' to numeric type\n",
    "ml_df['avg-5'] = pd.to_numeric(ml_df['avg-5'], errors='coerce')\n",
    "\n",
    "filtered_data = ml_df[['avg-5', 'producer', 'writer', 'actor', 'director', 'soundtrack','musicdepartment','composer', 'cinematographer','cameradepartment','editor','editorialdepartment', 'assistantdirector', 'actress', 'productionmanager']]\n",
    "\n",
    "avg_scores = {}\n",
    "for profession in filtered_data.columns[1:]:\n",
    "    avg_score = filtered_data[filtered_data[profession] == 1.0]['avg-5'].mean()\n",
    "    avg_scores[profession] = avg_score\n",
    "\n",
    "data_for_analysis = pd.DataFrame(columns=['Profession', 'avg-5'])\n",
    "for profession in avg_scores.keys():\n",
    "    data_for_analysis = pd.concat([data_for_analysis, filtered_data[filtered_data[profession] == 1.0][['avg-5']].assign(Profession=profession)])\n",
    "\n",
    "# Perform Tukey's HSD test for multiple comparisons !!\n",
    "tukey_results = pairwise_tukeyhsd(data_for_analysis['avg-5'], data_for_analysis['Profession'], alpha=0.05)\n",
    "\n",
    "# Plot the results\n",
    "plt.rcParams.update({'font.size': 8})\n",
    "plt.figure(figsize=(8, 4))\n",
    "sns.barplot(x=list(avg_scores.keys()), y=list(avg_scores.values()),color=PALETTE_D[1])\n",
    "\n",
    "# 95CI barssss\n",
    "for i, profession in enumerate(avg_scores.keys()):\n",
    "    ci = tukey_results.meandiffs[i]\n",
    "    plt.errorbar(i, avg_scores[profession], yerr=abs(ci), fmt='none', color='black', capsize=5)\n",
    "\n",
    "# Stars for significant differences\n",
    "for i, pvalue in enumerate(tukey_results.pvalues < 0.05):\n",
    "    if pvalue:\n",
    "        plt.text(i, max(avg_scores.values()) + 0.15, '*', ha='center', va='center', fontdict={'weight': 'bold'})\n",
    "\n",
    "plt.xlabel('Profession')\n",
    "plt.xticks(rotation=45, ha='right')\n",
    "plt.ylabel('Average avg-5 Score')\n",
    "plt.title('Average avg-5 Score for Selected Professions with 95% CI and Significant Differences')\n",
    "plt.show()"
   ]
  },
  {
   "cell_type": "markdown",
   "id": "d808d513",
   "metadata": {},
   "source": [
    "No significant differences between any of the professions in terms of the avg-5 score, in the core crew of the director.\n",
    "\n",
    "--> The type of people in the core crew is not sufficient to explain the success : chemistry is something else than association of jobs !\n",
    "\n",
    "-----\n",
    "### Are some directors successful only because they cast popular actors ?"
   ]
  },
  {
   "cell_type": "code",
   "execution_count": null,
   "id": "c4203f23",
   "metadata": {},
   "outputs": [],
   "source": [
    "actors_and_actresses = pd.DataFrame(jobs_principal_people[jobs_principal_people['category'].isin(['actor', 'actress'])]['nconst'].unique()).rename(columns={0:'nconst'})\n",
    "\n",
    "# Count the number of movies for each actor in jobs_principal_people\n",
    "actor_movie_counts = jobs_principal_people[jobs_principal_people['category'].isin(['actor', 'actress'])].groupby('nconst')['tconst'].count()\n",
    "\n",
    "# Filter out actors who have less than 3 movies\n",
    "valid_actors_initial = actor_movie_counts[actor_movie_counts >= 3].index"
   ]
  },
  {
   "cell_type": "code",
   "execution_count": null,
   "id": "c200a75d",
   "metadata": {},
   "outputs": [],
   "source": [
    "#Getting the scores for each people and each movie\n",
    "tmp_mip = mip_enhanced[mip_enhanced['nconst'].isin(valid_actors_initial)].copy()\n",
    "tmp_mip = pd.merge(tmp_mip,actors_and_actresses,on='nconst')\n",
    "tmp_mip['known_titles_list'] = tmp_mip['knownForTitles'].str.split(',')\n",
    "exploded_people_df = tmp_mip.explode('known_titles_list')\n",
    "merged_df = pd.merge(exploded_people_df, movies, left_on='known_titles_list', right_index=True, how='left')\n",
    "merged_df['score'] = pd.to_numeric(merged_df['score'], errors='coerce')\n",
    "\n",
    "# Filter out NaN scores\n",
    "merged_df_filtered = merged_df.dropna(subset=['score'])\n",
    "# Calculate the number of movies per person, filter to keep only the ones with a sufficient number of movies played in\n",
    "movie_count_per_person = merged_df_filtered.groupby('nconst')['score'].count()\n",
    "valid_people = movie_count_per_person[movie_count_per_person >= 3].index\n",
    "# Filter the merged dataframe for valid people\n",
    "valid_merged_df = merged_df_filtered[merged_df_filtered['nconst'].isin(valid_people)]\n",
    "# Calculate the number of movies per person in the original movies dataframe\n",
    "movie_count_per_person_original = valid_merged_df.groupby('nconst').size()\n",
    "\n",
    "# Filter out individuals with less than 3 movies in the original movies dataframe\n",
    "final_valid_people = movie_count_per_person_original[movie_count_per_person_original >= 3].index\n",
    "\n",
    "# Filter the merged dataframe for final valid people\n",
    "final_valid_merged_df = valid_merged_df[valid_merged_df['nconst'].isin(final_valid_people)]\n",
    "\n",
    "# Calculate the average score and primary name for each person\n",
    "average_scores = final_valid_merged_df.groupby('nconst').agg({'score': 'mean', 'primaryName': 'first'})"
   ]
  },
  {
   "cell_type": "code",
   "execution_count": null,
   "id": "220f28b7",
   "metadata": {},
   "outputs": [],
   "source": [
    "average_scores.sort_values(by = 'score',ascending=False).head(10)"
   ]
  },
  {
   "cell_type": "markdown",
   "id": "149194f0",
   "metadata": {},
   "source": [
    "We have a list of only actors/actresses that played in several movies being part of the main cast."
   ]
  },
  {
   "cell_type": "code",
   "execution_count": null,
   "id": "11d26de0",
   "metadata": {},
   "outputs": [],
   "source": [
    "actors_collabs = {director: {actoress: collaborations for actoress, collaborations in data.items() if actoress in average_scores.index} for director, data in collab_counts.items()}\n",
    "actors_collabs = {director: data for director, data in actors_collabs.items() if director in directors_copy.index}"
   ]
  },
  {
   "cell_type": "code",
   "execution_count": null,
   "id": "bb1dcecb",
   "metadata": {},
   "outputs": [],
   "source": [
    "actor_score_mapping = dict(zip(average_scores.index, average_scores['score']))\n",
    "\n",
    "directors_avg_score = {}\n",
    "for director, collaborations in actors_collabs.items():\n",
    "    total_score = 0\n",
    "    total_collaborations = 0\n",
    "    for actor, collaborations_count in collaborations.items():\n",
    "        if actor in actor_score_mapping:\n",
    "            total_score += actor_score_mapping[actor] * collaborations_count\n",
    "            total_collaborations += collaborations_count\n",
    "    if total_collaborations >= 3:\n",
    "        directors_avg_score[director] = total_score / total_collaborations\n",
    "\n",
    "# Create a DataFrame for directors and their average scores\n",
    "directors_df = pd.DataFrame(list(directors_avg_score.items()), columns=['director', 'average_score'])\n",
    "\n",
    "# Merge the directors_df with our directors' success scores\n",
    "merged_df = directors_df.merge(directors_copy, left_on='director', right_index=True)"
   ]
  },
  {
   "cell_type": "code",
   "execution_count": null,
   "id": "84be7c0c",
   "metadata": {},
   "outputs": [],
   "source": [
    "plt.figure(figsize=(10, 6))\n",
    "ax = sns.regplot(x='average_score', y='avg-3', data=merged_df, scatter_kws={'color': PALETTE_D[1]}, line_kws={'color': PALETTE_D[0]})\n",
    "\n",
    "correlation_coefficient = merged_df['average_score'].corr(merged_df['avg-3'])\n",
    "ax.annotate(f'Corr Coef: {correlation_coefficient:.2f}', xy=(0.5, 0.95), xycoords='axes fraction', ha='center', fontsize=10, color='red')\n",
    "plt.title('-')\n",
    "plt.xlabel('Average score of the actors')\n",
    "plt.ylabel('avg-3 score of the directors')\n",
    "plt.grid(True)\n",
    "plt.show()"
   ]
  },
  {
   "cell_type": "code",
   "execution_count": null,
   "id": "39a089e8",
   "metadata": {},
   "outputs": [],
   "source": [
    "There seem to be an increase --> then : Directors only successful because they cast successful actors ? \n",
    "\n",
    "But successful actors basically mainly works with successful directors... The chicken or the egg ?\n",
    "\n",
    "Let's try to perform a graph between directors and actors only : We already suppressed people that are not lead actors/actresses from the equation and we also remove all potential links in between directors.\n",
    "\n",
    "This way, we have a actors/actresses <--> directors bipartite graph. The number of nodes and edges is going to be huge, and to see how successful directors are similar in terms of successful actors/actresses they cast, we can use the bipartite projection of this graph on director's nodes.\n"
   ]
  },
  {
   "cell_type": "code",
   "execution_count": null,
   "id": "eb9013fb",
   "metadata": {},
   "outputs": [],
   "source": [
    "def building_bipartite_projection(collab_counts,wanted_directors,all_directors) :\n",
    "    \n",
    "    graph = nx.Graph()\n",
    "    \n",
    "    directors_set = set()\n",
    "    collaborators_set = set()\n",
    "\n",
    "    for director, collaborators in tqdm(collab_counts.items(),total=len(collab_counts),desc=\"Building a graph of all collaborations\"):\n",
    "        if director in wanted_directors :\n",
    "            if director not in directors_set:\n",
    "                graph.add_node(director, bipartite=0)\n",
    "                directors_set.add(director)\n",
    "\n",
    "            for collaborator, collaborations_count in collaborators.items():\n",
    "                if ((collaborator not in all_directors) & (collaborator not in wanted_directors)) :\n",
    "                    if collaborator not in collaborators_set:\n",
    "                        graph.add_node(collaborator, bipartite=1)\n",
    "                        collaborators_set.add(collaborator)\n",
    "\n",
    "                    if collaborator not in collab_counts.keys() : \n",
    "                        if ((collaborator not in all_directors) & (collaborator not in wanted_directors)) :\n",
    "                            graph.add_edge(director, collaborator, weight=collaborations_count)\n",
    "    print('The Graph is Bipartite :', str(bipartite.is_bipartite(graph)))          \n",
    "    directors_nodes = {node for node, data in graph.nodes(data=True) if data['bipartite'] == 0}\n",
    "    directors_projection = nx.bipartite.weighted_projected_graph(graph, directors_nodes, ratio=False)\n",
    "\n",
    "    return(graph, directors_nodes,directors_projection)"
   ]
  },
  {
   "cell_type": "code",
   "execution_count": null,
   "id": "76e2a173",
   "metadata": {},
   "outputs": [],
   "source": [
    "actors_collab_graph, proj_directors_nodes, curr_act_dict_proj = building_bipartite_projection(actors_collabs,directors_copy.index,directors.index)"
   ]
  },
  {
   "cell_type": "code",
   "execution_count": null,
   "id": "014a98ad",
   "metadata": {},
   "outputs": [],
   "source": [
    "plt.figure(figsize=(12,8))\n",
    "subgraph = curr_act_dict_proj.subgraph(directors_copy.sort_values(by='avg-3',ascending=False).head(20).index.to_list())\n",
    "edge_weights = nx.get_edge_attributes(subgraph, 'weight')\n",
    "\n",
    "\n",
    "# Draw the subgraph\n",
    "scaler = MinMaxScaler(feature_range=(0.5, 4))\n",
    "normalized_weights = scaler.fit_transform([[w] for w in edge_weights.values()])\n",
    "normalized_weights = {edge: weight[0] for edge, weight in zip(edge_weights.keys(), normalized_weights)}\n",
    "\n",
    "\n",
    "global_min = directors_copy['avg-3'].min()\n",
    "global_max = directors_copy['avg-3'].max()\n",
    "\n",
    "cmap = PALETTE_C\n",
    "norm = Normalize(vmin=global_min, vmax=global_max) \n",
    "\n",
    "\n",
    "# Normalize edge weights by dividing by the maximum weight\n",
    "pos = nx.circular_layout(subgraph)\n",
    "edge_widths = [normalized_weights[edge] for edge in subgraph.edges]\n",
    "\n",
    "labels = {node: directors.loc[node, 'primaryName'] for node in subgraph.nodes}\n",
    "\n",
    "node_colors = directors_copy.loc[list(subgraph.nodes), 'avg-3']\n",
    "normalized_values = norm(node_colors)\n",
    "\n",
    "# Map normalized values to colors using the colormap\n",
    "node_colors_mapped = [cmap(value) for value in normalized_values]\n",
    "\n",
    "\n",
    "node_collection = nx.draw_networkx_nodes(subgraph, pos, node_color=node_colors_mapped, node_size=100)\n",
    "nx.draw_networkx_edges(subgraph, pos, edge_color='black', width=edge_widths)\n",
    "#nx.draw_networkx_labels(subgraph, pos, labels=labels, font_weight='bold')\n",
    "label_pos = {k: (v[0] + 0.2 * pos[k][0], v[1] + 0.1 * pos[k][1]) for k, v in pos.items()}\n",
    "for node, (x, y) in label_pos.items():\n",
    "        plt.text(x, y, labels[node], ha='center', va='center', fontweight='light', fontsize=10)\n",
    "\n",
    "\n",
    "plt.grid(False)\n",
    "plt.gca().set_frame_on(False)\n",
    "cbar_label = 'Directors Success Score'\n",
    "sm = plt.cm.ScalarMappable(cmap=cmap, norm=norm)\n",
    "sm.set_array([])  # Empty array for the data range\n",
    "cbar = plt.colorbar(sm,ax=plt.gca())\n",
    "cbar.ax.set_position([0.825, 0.1, 0.02, 0.8])\n",
    "cbar.set_label(cbar_label)\n",
    "cbar.ax.set_ylim(global_min, global_max)\n",
    "plt.show()"
   ]
  },
  {
   "cell_type": "markdown",
   "id": "2025a8ca",
   "metadata": {},
   "source": [
    "The most famous directors are hyper-connected in terms of collaborations they share with different actors. How does it evolve ?"
   ]
  },
  {
   "cell_type": "code",
   "execution_count": null,
   "id": "5924b6be",
   "metadata": {},
   "outputs": [],
   "source": [
    "def plot_directors(start_index):\n",
    "    plt.figure(figsize=(12,8))\n",
    "    end_index = start_index + 20\n",
    "    selected_directors = directors_copy.dropna(subset='avg-3').sort_values(by='avg-3', ascending=False).iloc[start_index:end_index]\n",
    "    subgraph = curr_act_dict_proj.subgraph(selected_directors.index.to_list())\n",
    "    edge_weights = nx.get_edge_attributes(subgraph, 'weight')\n",
    "\n",
    "    scaler = MinMaxScaler(feature_range=(0.5, 4))\n",
    "    normalized_weights = scaler.fit_transform([[w] for w in edge_weights.values()])\n",
    "    normalized_weights = {edge: weight[0] for edge, weight in zip(edge_weights.keys(), normalized_weights)}\n",
    "\n",
    "    global_min = directors_copy['avg-3'].min()\n",
    "    global_max = directors_copy['avg-3'].max()\n",
    "\n",
    "    cmap = PALETTE_C\n",
    "    norm = Normalize(vmin=global_min, vmax=global_max)\n",
    "\n",
    "    pos = nx.circular_layout(subgraph)\n",
    "    edge_widths = [normalized_weights[edge] for edge in subgraph.edges]\n",
    "\n",
    "    labels = {node: directors.loc[node, 'primaryName'] for node in subgraph.nodes}\n",
    "\n",
    "    node_colors = directors_copy.loc[list(subgraph.nodes), 'avg-3']\n",
    "    normalized_values = norm(node_colors)\n",
    "\n",
    "    node_colors_mapped = [cmap(value) for value in normalized_values]\n",
    "\n",
    "    node_collection = nx.draw_networkx_nodes(subgraph, pos, node_color=node_colors_mapped, node_size=100)\n",
    "    nx.draw_networkx_edges(subgraph, pos, edge_color='black', width=edge_widths)\n",
    "\n",
    "    label_pos = {k: (v[0] + 0.2 * pos[k][0], v[1] + 0.1 * pos[k][1]) for k, v in pos.items()}\n",
    "    for node, (x, y) in label_pos.items():\n",
    "        plt.text(x, y, labels[node], ha='center', va='center', fontweight='light', fontsize=10)\n",
    "\n",
    "    plt.grid(False)\n",
    "    plt.gca().set_frame_on(False)\n",
    "    cbar_label = 'Directors Success Score'\n",
    "    sm = plt.cm.ScalarMappable(cmap=cmap, norm=norm)\n",
    "    sm.set_array([])  \n",
    "    cbar = plt.colorbar(sm, ax=plt.gca())\n",
    "    cbar.ax.set_ylim(global_min, global_max)\n",
    "    cbar.set_label(cbar_label)\n",
    "    cbar.ax.set_position([0.825, 0.1, 0.02, 0.8])\n",
    "    cbar.outline.set_visible(True)\n",
    "    plt.show()"
   ]
  },
  {
   "cell_type": "code",
   "execution_count": null,
   "id": "9d74abc4",
   "metadata": {},
   "outputs": [],
   "source": [
    "for start_index in [20,60,100,400,1000,1500,2000,2500]:\n",
    "    plot_directors(start_index)"
   ]
  },
  {
   "cell_type": "markdown",
   "id": "c0c81377",
   "metadata": {},
   "source": [
    "As expected, the more 'unsuccessful' the directors are, the less connections they harbor with other directors. Some relationships might happen still, but generally the most 'full' graphs in terms of edges are found when successful directors are present.\n",
    "\n",
    "\n",
    "Let's see intersting things for the most successful ones :"
   ]
  },
  {
   "cell_type": "code",
   "execution_count": null,
   "id": "02636303",
   "metadata": {},
   "outputs": [],
   "source": [
    "common_keys = set(actors_collabs['nm0000631'].keys()) & set(actors_collabs['nm0000229'].keys())\n",
    "\n",
    "# Find common items (key-value pairs)\n",
    "common_items = set(actors_collabs['nm0000631'].items()) & set(actors_collabs['nm0000229'].items())\n",
    "\n",
    "print(\"Common actor collaboration:\", common_keys)"
   ]
  },
  {
   "cell_type": "code",
   "execution_count": null,
   "id": "eac20c28",
   "metadata": {},
   "outputs": [],
   "source": [
    "average_scores.loc[list(common_keys)]"
   ]
  },
  {
   "cell_type": "markdown",
   "id": "b4c3ac3a",
   "metadata": {},
   "source": [
    "Ridley scott & Steven Spielberg share a lot of actors, and their score indicates, they majoritarely are successful actors, with very famous names such as DiCaprio, Harisson Ford, Anthony Hopkins, Tom Cruise amongst the most well known.\n",
    "\n",
    "Directors that, at first sight, even though both extremely brilliant seem to have nothing to have in common in terms of their universe and time in activity : Miyazaki & both Hitchock. They still have a common collaboration when looking at the graph above :"
   ]
  },
  {
   "cell_type": "code",
   "execution_count": null,
   "id": "729b6a03",
   "metadata": {},
   "outputs": [],
   "source": [
    "common_keys = set(actors_collabs['nm0594503'].keys()) & set(actors_collabs['nm0000033'].keys())\n",
    "\n",
    "# Find common items (key-value pairs)\n",
    "common_items = set(actors_collabs['nm0594503'].items()) & set(actors_collabs['nm0000033'].items())\n",
    "\n",
    "print(\"Common actor collaboration:\", common_keys)"
   ]
  },
  {
   "cell_type": "code",
   "execution_count": null,
   "id": "7e16c571",
   "metadata": {},
   "outputs": [],
   "source": [
    "average_scores.loc[list(common_keys)]"
   ]
  },
  {
   "cell_type": "markdown",
   "id": "b67347ff",
   "metadata": {},
   "source": [
    "Suzanne Pleshette actually worked as a voice actress on the english version of Spirited Away but also stars a main role of 'The Birds' by Hitchcock. Of course, this is only a voice actor for the english version of the movie which may not have directly been by Miyazaki itself. However the choices surely have been made with Studio Ghibli, and it still shows that successful actors play a role in the success of the movies worldwide even for movies that come from overseas !\n",
    "\n",
    "\n",
    "Connections are inevitable : we can see that in terms of actors, very successful directors have a tendency to be connected to each other in terms of actors/actresses they star in their films.\n",
    "\n",
    "Now let's do the same thing, but for the entire collaborations that we have found, not only actors. One node per director and by person in the many different crews, the edge linking the both being weighted by their number of collaborations. The graph is once again constructed in such a manner that directors-directors (if two directors direct the same films) are not counted in the graph : ONLY crew-directors interactions --> bipartite graph."
   ]
  },
  {
   "cell_type": "markdown",
   "id": "1b246cb0",
   "metadata": {},
   "source": [
    "Function is defined to build this bipartite projection for only the directors that we want (inclusion of 'all_directors' is to not add edges between two directors). (Takes ~10 mins to run)"
   ]
  },
  {
   "cell_type": "code",
   "execution_count": null,
   "id": "a37ff2b8",
   "metadata": {},
   "outputs": [],
   "source": [
    "all_collab_graph, all_directors_nodes, all_bip_proj = building_bipartite_projection(collab_counts,directors_copy.index,directors.index)"
   ]
  },
  {
   "cell_type": "markdown",
   "id": "76ac906c",
   "metadata": {},
   "source": [
    "The original graph, given its size and the number of edges, is useless to display : we can not really even see what it's all about. Let's thus look at what we obtain for the bipartite projection of our most successful directors :"
   ]
  },
  {
   "cell_type": "code",
   "execution_count": null,
   "id": "448f7a33",
   "metadata": {},
   "outputs": [],
   "source": [
    "plt.figure(figsize=(12,8))\n",
    "subgraph = all_bip_proj.subgraph(directors_copy.sort_values(by='avg-3',ascending=False).head(20).index.to_list())\n",
    "edge_weights = nx.get_edge_attributes(subgraph, 'weight')\n",
    "\n",
    "scaler = MinMaxScaler(feature_range=(0.5, 4))\n",
    "normalized_weights = scaler.fit_transform([[w] for w in edge_weights.values()])\n",
    "normalized_weights = {edge: weight[0] for edge, weight in zip(edge_weights.keys(), normalized_weights)}\n",
    "\n",
    "\n",
    "global_min = directors_copy['avg-3'].min()\n",
    "global_max = directors_copy['avg-3'].max()\n",
    "\n",
    "cmap = PALETTE_C \n",
    "norm = Normalize(vmin=global_min, vmax=global_max) \n",
    "\n",
    "pos = nx.circular_layout(subgraph)\n",
    "edge_widths = [normalized_weights[edge] for edge in subgraph.edges]\n",
    "\n",
    "labels = {node: directors.loc[node, 'primaryName'] for node in subgraph.nodes}\n",
    "\n",
    "node_colors = directors_copy.loc[list(subgraph.nodes), 'avg-3']\n",
    "normalized_values = norm(node_colors)\n",
    "\n",
    "node_colors_mapped = [cmap(value) for value in normalized_values]\n",
    "\n",
    "\n",
    "node_collection = nx.draw_networkx_nodes(subgraph, pos, node_color=node_colors_mapped, node_size=100)\n",
    "\n",
    "label_pos = {k: (v[0] + 0.2 * pos[k][0], v[1] + 0.1 * pos[k][1]) for k, v in pos.items()}\n",
    "for node, (x, y) in label_pos.items():\n",
    "        plt.text(x, y, labels[node], ha='center', va='center', fontweight='light', fontsize=10)\n",
    "nx.draw_networkx_edges(subgraph, pos, edge_color='black', width=edge_widths)\n",
    "#nx.draw_networkx_labels(subgraph, pos, labels=labels, font_weight='bold')\n",
    "\n",
    "plt.gca().set_frame_on(False)\n",
    "plt.grid(False)\n",
    "cbar_label = 'Directors Success Score'\n",
    "sm = plt.cm.ScalarMappable(cmap=cmap, norm=norm)\n",
    "sm.set_array([])  # Empty array for the data range\n",
    "cbar = plt.colorbar(sm,ax=plt.gca())\n",
    "cbar.ax.set_position([0.825, 0.1, 0.02, 0.8])\n",
    "cbar.ax.set_ylim(global_min, global_max)\n",
    "cbar.set_label(cbar_label)\n",
    "plt.show()"
   ]
  },
  {
   "cell_type": "markdown",
   "id": "2d564c05",
   "metadata": {},
   "source": [
    "Successful directors share relationships it seems! Let's try even bigger :"
   ]
  },
  {
   "cell_type": "code",
   "execution_count": null,
   "id": "bdeb1eda",
   "metadata": {},
   "outputs": [],
   "source": [
    "plt.figure(figsize=(12,8))\n",
    "subgraph = all_bip_proj.subgraph(directors_copy.sort_values(by='avg-3',ascending=False).head(40).index.to_list())\n",
    "edge_weights = nx.get_edge_attributes(subgraph, 'weight')\n",
    "\n",
    "\n",
    "# Draw the subgraph\n",
    "scaler = MinMaxScaler(feature_range=(0.5, 4))\n",
    "normalized_weights = scaler.fit_transform([[w] for w in edge_weights.values()])\n",
    "normalized_weights = {edge: weight[0] for edge, weight in zip(edge_weights.keys(), normalized_weights)}\n",
    "\n",
    "\n",
    "global_min = directors_copy['avg-3'].min()\n",
    "global_max = directors_copy['avg-3'].max()\n",
    "\n",
    "cmap = PALETTE_C   # Replace 'viridis' with your desired colormap\n",
    "norm = Normalize(vmin=global_min, vmax=global_max) \n",
    "\n",
    "\n",
    "# Normalize edge weights by dividing by the maximum weight\n",
    "pos = nx.circular_layout(subgraph)\n",
    "edge_widths = [normalized_weights[edge] for edge in subgraph.edges]\n",
    "\n",
    "labels = {node: directors.loc[node, 'primaryName'] for node in subgraph.nodes}\n",
    "\n",
    "node_colors = directors_copy.loc[list(subgraph.nodes), 'avg-3']\n",
    "normalized_values = norm(node_colors)\n",
    "\n",
    "# Map normalized values to colors using the colormap\n",
    "node_colors_mapped = [cmap(value) for value in normalized_values]\n",
    "\n",
    "\n",
    "node_collection = nx.draw_networkx_nodes(subgraph, pos, node_color=node_colors_mapped, node_size=100)\n",
    "nx.draw_networkx_edges(subgraph, pos, edge_color='black', width=edge_widths)\n",
    "#nx.draw_networkx_labels(subgraph, pos, labels=labels, font_weight='bold')\n",
    "label_pos = {k: (v[0] + 0.25 * pos[k][0], v[1] + 0.15 * pos[k][1]) for k, v in pos.items()}\n",
    "\n",
    "for node, (x, y) in label_pos.items():\n",
    "            #print(x,y)\n",
    "            # Increase y-coordinate for nodes at the top\n",
    "            if y > 1.14:\n",
    "                y += 0.05\n",
    "            # Decrease y-coordinate for nodes at the bottom\n",
    "            elif y < -1.14:\n",
    "                y -= 0.05\n",
    "            plt.text(x, y, labels[node], ha='center', va='center', fontweight='light', fontsize=10)\n",
    "\n",
    "plt.grid(False)\n",
    "\n",
    "cbar_label = 'Directors Success Score'\n",
    "sm = plt.cm.ScalarMappable(cmap=cmap, norm=norm)\n",
    "sm.set_array([])  # Empty array for the data range\n",
    "cbar = plt.colorbar(sm,ax=plt.gca())\n",
    "plt.gca().set_frame_on(False)\n",
    "cbar.ax.set_position([0.825, 0.1, 0.02, 0.8])\n",
    "cbar.ax.set_ylim(global_min, global_max)\n",
    "plt.show()"
   ]
  },
  {
   "cell_type": "markdown",
   "id": "68671ed4",
   "metadata": {},
   "source": [
    "Seems like it works well, some relationships are way heavier than others depending on the similarities of the collaborations they had throughout their careers. Here we can see that the Wachovski sisters & the Cohen brothers have very much heavier links towards each other than with the rest (improve the visualization).\n",
    "Overall however, these successful directors seem very well connected !\n",
    "\n",
    "What about unsuccessful ones ?"
   ]
  },
  {
   "cell_type": "code",
   "execution_count": null,
   "id": "5b7847bb",
   "metadata": {},
   "outputs": [],
   "source": [
    "def plot_all_directors(start_index):\n",
    "    plt.figure(figsize=(12,8))\n",
    "    end_index = start_index + 40\n",
    "    selected_directors = directors_copy.dropna(subset='avg-3').sort_values(by='avg-3', ascending=False).iloc[start_index:end_index]\n",
    "    subgraph = all_bip_proj.subgraph(selected_directors.index.to_list())\n",
    "    edge_weights = nx.get_edge_attributes(subgraph, 'weight')\n",
    "\n",
    "    scaler = MinMaxScaler(feature_range=(0.5, 4))\n",
    "    normalized_weights = scaler.fit_transform([[w] for w in edge_weights.values()])\n",
    "    normalized_weights = {edge: weight[0] for edge, weight in zip(edge_weights.keys(), normalized_weights)}\n",
    "\n",
    "    global_min = directors_copy['avg-3'].min()\n",
    "    global_max = directors_copy['avg-3'].max()\n",
    "\n",
    "    cmap = PALETTE_C\n",
    "    norm = Normalize(vmin=global_min, vmax=global_max)\n",
    "\n",
    "    pos = nx.circular_layout(subgraph)\n",
    "    edge_widths = [normalized_weights[edge] for edge in subgraph.edges]\n",
    "\n",
    "    labels = {node: directors.loc[node, 'primaryName'] for node in subgraph.nodes}\n",
    "\n",
    "    node_colors = directors_copy.loc[list(subgraph.nodes), 'avg-3']\n",
    "    normalized_values = norm(node_colors)\n",
    "\n",
    "    node_colors_mapped = [cmap(value) for value in normalized_values]\n",
    "\n",
    "    node_collection = nx.draw_networkx_nodes(subgraph, pos, node_color=node_colors_mapped, node_size=100)\n",
    "    nx.draw_networkx_edges(subgraph, pos, edge_color='black', width=edge_widths)\n",
    "\n",
    "    label_pos = {k: (v[0] + 0.2 * pos[k][0], v[1] + 0.1 * pos[k][1]) for k, v in pos.items()}\n",
    "    for node, (x, y) in label_pos.items():\n",
    "        if y > 1.09 :\n",
    "            y+=0.05\n",
    "        if y <-1.09 :\n",
    "            y-= 0.05\n",
    "        plt.text(x, y, labels[node], ha='center', va='center', fontweight='light', fontsize=10)\n",
    "\n",
    "    plt.grid(False)\n",
    "    plt.gca().set_frame_on(False)\n",
    "    cbar_label = 'Directors Success Score'\n",
    "    sm = plt.cm.ScalarMappable(cmap=cmap, norm=norm)\n",
    "    sm.set_array([])  \n",
    "    cbar = plt.colorbar(sm, ax=plt.gca())\n",
    "    cbar.ax.set_ylim(global_min, global_max)\n",
    "    cbar.set_label(cbar_label)\n",
    "    cbar.ax.set_position([0.825, 0.1, 0.02, 0.8])\n",
    "    cbar.outline.set_visible(True)\n",
    "    plt.show()"
   ]
  },
  {
   "cell_type": "code",
   "execution_count": null,
   "id": "c0811a13",
   "metadata": {},
   "outputs": [],
   "source": [
    "for start_index in [0,20,60,100,400,1000,1500,2000,2500]:\n",
    "    plot_all_directors(start_index)"
   ]
  },
  {
   "cell_type": "markdown",
   "id": "629d90a6",
   "metadata": {},
   "source": [
    "Much less shared collaborations between unsuccessful directors.\n",
    "\n",
    "Very few relationships, looks nothing like what we saw above. There seems like there is a real difference : Unsuccessful directors have very few common crew members, while successful ones seems to be sharing a lot of them.\n",
    "\n",
    "Therefore, In that bipartite graph, let's try to find the directors with the highest degree centrality : the ones that share most similarities with other directors in terms of different collaborations they had throughout their career. Are these only successful directors ? (this is only an idea, maybe the metric to retrieve is not the best)"
   ]
  },
  {
   "cell_type": "code",
   "execution_count": null,
   "id": "e6a1fce1",
   "metadata": {},
   "outputs": [],
   "source": [
    "def retrieve_degree_centrality(graph):\n",
    "    \"\"\"\n",
    "    Finds the directors with the highest degree centrality : the directors that are the most 'well-connected' to the rest of the network.\n",
    "    \"\"\"\n",
    "    dcs = pd.Series(nx.degree_centrality(graph))\n",
    "    return dcs"
   ]
  },
  {
   "cell_type": "code",
   "execution_count": null,
   "id": "ee9022bc",
   "metadata": {},
   "outputs": [],
   "source": [
    "dcs = retrieve_degree_centrality(all_bip_proj)\n",
    "dcs = pd.DataFrame({'nm_id': dcs.index, 'degree_centrality': dcs.values})\n",
    "dcs.set_index('nm_id', inplace=True)\n",
    "directors_dc = pd.merge(directors_copy,dcs,left_index=True,right_index=True)"
   ]
  },
  {
   "cell_type": "code",
   "execution_count": null,
   "id": "ed2dba3d",
   "metadata": {},
   "outputs": [],
   "source": [
    "directors_dc.sort_values(by='degree_centrality',ascending=False).head(10)"
   ]
  },
  {
   "cell_type": "code",
   "execution_count": null,
   "id": "9f142d30",
   "metadata": {},
   "outputs": [],
   "source": [
    "model = smf.ols('Q(\"avg-3\") ~ degree_centrality', data=directors_dc).fit()\n",
    "print(model.summary())"
   ]
  },
  {
   "cell_type": "markdown",
   "id": "0ca678b8",
   "metadata": {},
   "source": [
    "Nice ! Directors displayed mainly contains directors that are successful to very successful, and the degree centrality is (significantly) correlated with the avg-3 score + R^2 is actually very decent for a single variable. Of course, the metric is not perfect as it can be easily rigged. However, it still shows that there is a singificant impact of the 'network' of relationships for directors : very successful directors definitely tend to 'share' collaborations : famous/successful people work with famous/successful people !\n",
    "\n",
    "\n",
    "--> **Are some directors successful only because they cast popular actors ?** There is a clear relationship, when taking the graphs above, between the successful actors and directors. However, when taking the entirety of the crew jobs at once, we see that it's part of a bigger thing. It's part of the film industry network : successful people tend to work with successful people. Even if there is a clear correlation, the career success is even more linked to the introduction, at some point, of the director into this network."
   ]
  },
  {
   "cell_type": "code",
   "execution_count": null,
   "id": "9bf09b10",
   "metadata": {},
   "outputs": [],
   "source": [
    "plot(global_fig, filename=\"interactive_subplot.html\")"
   ]
  },
  {
   "cell_type": "markdown",
   "id": "a9e4bb17",
   "metadata": {},
   "source": [
    "---\n",
    "###  Extra :\n",
    "How are both experience ( i.e how many movies people have directed / worked on etc.) & diversity in their career linked to movie success ?"
   ]
  },
  {
   "cell_type": "code",
   "execution_count": null,
   "id": "e4c4dfad",
   "metadata": {},
   "outputs": [],
   "source": [
    "experience_info = enhanced_directors_df[['primaryName','primaryProfession','avg-3','directed_movies']]"
   ]
  },
  {
   "cell_type": "code",
   "execution_count": null,
   "id": "eac08f44",
   "metadata": {},
   "outputs": [],
   "source": [
    "experience_info_filtered = experience_info.copy()\n",
    "experience_info_filtered['num_movies_directed'] = experience_info_filtered['directed_movies'].apply(lambda x: len(x.split(',')) if isinstance(x, str) else 0)\n",
    "\n",
    "experience_info_filtered['avg-3'] = pd.to_numeric(experience_info['avg-3'], errors='coerce')\n",
    "experience_info_filtered['num_movies_directed'] = pd.to_numeric(experience_info_filtered['num_movies_directed'], errors='coerce')\n",
    "experience_info_filtered = experience_info_filtered.dropna(subset=['avg-3']) ## DROPPING THE NAN AVG-3 VALUE, MODIFY IF SCORE CHANGES\n",
    "\n",
    "plt.figure(figsize=(10, 6))\n",
    "ax = sns.regplot(x='num_movies_directed', y='avg-3', data=experience_info_filtered, scatter_kws={'color': PALETTE_D[1]}, line_kws={'color': PALETTE_D[4]})\n",
    "\n",
    "correlation_coefficient = experience_info_filtered['num_movies_directed'].corr(experience_info_filtered['avg-3'])\n",
    "ax.annotate(f'Corr Coef: {correlation_coefficient:.2f}', xy=(0.5, 0.95), xycoords='axes fraction', ha='center', fontsize=10, color='red')\n",
    "plt.title('-')\n",
    "plt.xlabel('Number of Movies Directed')\n",
    "plt.ylabel('avg-3 Score')\n",
    "plt.grid(True)\n",
    "plt.show()"
   ]
  },
  {
   "cell_type": "code",
   "execution_count": null,
   "id": "82e1d65a",
   "metadata": {},
   "outputs": [],
   "source": [
    "unique_professions = set(','.join(experience_info_filtered['primaryProfession']).split(','))\n",
    "\n",
    "# Create dummy variables for each unique profession\n",
    "for profession in unique_professions:\n",
    "    experience_info_filtered[profession] = experience_info_filtered['primaryProfession'].apply(lambda x: 1 if profession in x else 0)\n",
    "\n",
    "# Filter and calculate mean 'avg-3' for directors who were also actors, producers, etc.\n",
    "mean_avg3_by_profession = {}\n",
    "for profession in unique_professions:\n",
    "        if profession != 'director' :\n",
    "            director_count = experience_info_filtered[experience_info_filtered[profession] == 1].shape[0]\n",
    "            if director_count > 20:\n",
    "                filtered_data = experience_info_filtered[experience_info_filtered[profession] == 1]\n",
    "                mean_avg3_by_profession[profession] = filtered_data['avg-3'].mean()\n",
    "\n",
    "# Sort values based on mean 'avg-3' scores\n",
    "sorted_professions = sorted(mean_avg3_by_profession.items(), key=lambda x: x[1], reverse=True)\n",
    "\n",
    "# Visualize the results\n",
    "plt.figure(figsize=(8, 6))\n",
    "plt.bar([item[0] for item in sorted_professions], [item[1] for item in sorted_professions], color=PALETTE_D[1])\n",
    "plt.title('Mean avg-3 Score by Primary Profession')\n",
    "plt.xlabel('Primary Profession')\n",
    "plt.ylabel('Mean avg-3 Score')\n",
    "plt.xticks(rotation=45, ha='right')\n",
    "plt.show()"
   ]
  },
  {
   "cell_type": "markdown",
   "id": "0e3a5504",
   "metadata": {},
   "source": [
    "### Code for Interactive Plotly graphs displayed on the website"
   ]
  },
  {
   "cell_type": "code",
   "execution_count": null,
   "id": "70c2ecb1",
   "metadata": {},
   "outputs": [],
   "source": [
    "import plotly.graph_objects as go\n",
    "from plotly.subplots import make_subplots\n",
    "import plotly.colors as plc\n",
    "\n",
    "def plot_all_directors(start_index):\n",
    "    end_index = start_index + 40\n",
    "    selected_directors = directors_copy.dropna(subset='avg-3').sort_values(by='avg-3', ascending=False).iloc[start_index:end_index]\n",
    "    subgraph = all_bip_proj.subgraph(selected_directors.index.to_list())\n",
    "    edge_weights = nx.get_edge_attributes(subgraph, 'weight')\n",
    "    scaler = MinMaxScaler(feature_range=(0.5, 4))\n",
    "    normalized_weights = scaler.fit_transform([[w] for w in edge_weights.values()])\n",
    "    normalized_weights = {edge: weight[0] for edge, weight in zip(edge_weights.keys(), normalized_weights)}\n",
    "    edge_widths = [normalized_weights[edge] for edge in subgraph.edges]\n",
    "\n",
    "    # Create a Plotly figure\n",
    "    fig = make_subplots()\n",
    "\n",
    "    pos = nx.shell_layout(subgraph)\n",
    "\n",
    "    labels = {node: directors.loc[node, 'primaryName'] for node in subgraph.nodes}\n",
    "    node_colors = directors_copy.loc[list(subgraph.nodes), 'avg-3']\n",
    "    global_min = directors_copy['avg-3'].min()\n",
    "    global_max = directors_copy['avg-3'].max()\n",
    "    norm = Normalize(vmin=global_min, vmax=global_max)\n",
    "    normalized_values = norm(node_colors)\n",
    "    seaborn_colors_rgba = [PALETTE_C(i) for i in range(256)]\n",
    "    seaborn_colors_rgb = [f\"rgb({int(r * 255)}, {int(g * 255)}, {int(b * 255)})\" for (r, g, b, _) in seaborn_colors_rgba]\n",
    "    \n",
    "\n",
    "    #node_colors_mapped = [seaborn_colors_rgba[int(value)] for value in normalized_values]\n",
    "    node_colors_mapped = [seaborn_colors_rgb[int(value * 255)] for value in normalized_values]\n",
    "\n",
    "    edge_traces = []\n",
    "\n",
    "    for edge, width in zip(subgraph.edges(), edge_widths):\n",
    "        x0, y0 = pos[edge[0]]\n",
    "        x1, y1 = pos[edge[1]]\n",
    "        edge_trace = go.Scatter(\n",
    "            x=[x0, x1, None],\n",
    "            y=[y0, y1, None],\n",
    "            line=dict(width=width, color='black'),\n",
    "            hoverinfo='none',\n",
    "            mode='lines'\n",
    "        )\n",
    "        edge_traces.append(edge_trace)\n",
    "    \n",
    "    fig.add_traces(edge_traces)\n",
    "    \n",
    "    node_trace = go.Scatter(\n",
    "    x=[],\n",
    "    y=[],\n",
    "    text=[],\n",
    "    mode='markers',\n",
    "    hoverinfo='text',\n",
    "    marker=dict(\n",
    "        showscale=True,\n",
    "        colorscale=seaborn_colors_rgb,\n",
    "        cmin=global_min,\n",
    "        cmax=global_max,\n",
    "        size=10,\n",
    "        colorbar=dict(\n",
    "            thickness=15,\n",
    "            title='Director Success Score',\n",
    "            xanchor='left',\n",
    "            titleside='right'\n",
    "        ),\n",
    "        #line=dict(width=2),\n",
    "        color=node_colors_mapped\n",
    "    ))\n",
    "\n",
    "    for node, color in zip(subgraph.nodes(), node_colors_mapped):\n",
    "        x, y = pos[node]\n",
    "        node_trace['x'] += tuple([x])\n",
    "        node_trace['y'] += tuple([y])\n",
    "        node_trace['text'] += tuple([f'Director: {labels[node]}<br>Score: {directors_copy.loc[node, \"avg-3\"]:.2f}'])\n",
    "        #node_trace['marker']['color'] += tuple([color])\n",
    "\n",
    "    fig.add_trace(node_trace)\n",
    "\n",
    "    fig.update_layout(\n",
    "        showlegend=False,\n",
    "        hovermode='closest',\n",
    "        height = 650,\n",
    "        width = 750,\n",
    "        margin=dict(b=0, l=0, r=0, t=0),\n",
    "        xaxis=dict(showgrid=False, zeroline=False, showticklabels=False),\n",
    "        yaxis=dict(showgrid=False, zeroline=False, showticklabels=False))\n",
    "\n",
    "    fig.show()\n",
    "    html_file_name = f\"interactive_plot_{start_index}.html\"\n",
    "    fig.write_html(html_file_name)\n",
    "\n",
    "# Use the interact function to connect the sliders to the plot function\n",
    "#interact(plot_all_directors, start_index=start_slider)"
   ]
  },
  {
   "cell_type": "code",
   "execution_count": null,
   "id": "a3bc22ab",
   "metadata": {},
   "outputs": [],
   "source": [
    "start_slider = widgets.IntSlider(value=0, min=0, max=len(directors_copy)-40, step=200, description='Start Index:')\n",
    "\n",
    "# Call the plot_all_directors function with the initial value\n",
    "plot_all_directors(start_slider.value)\n",
    "\n",
    "# Define a function to update the plot when the slider value changes\n",
    "def update_plot(change):\n",
    "    plot_all_directors(change.new)\n",
    "\n",
    "# Connect the update_plot function to the slider's value change event\n",
    "start_slider.observe(update_plot, 'value')\n",
    "\n",
    "# Display the slider\n",
    "display(start_slider)"
   ]
  },
  {
   "cell_type": "markdown",
   "id": "32c201fd",
   "metadata": {},
   "source": [
    "<a class=\"anchor\" id=\"second\"></a>\n",
    "# Q2: To what extent does the director’s choice of movie genre affect the success of the movie?\n",
    "\n",
    "[Back to Table of Contents](#Contents)"
   ]
  },
  {
   "cell_type": "code",
   "execution_count": null,
   "id": "ecfd7465",
   "metadata": {},
   "outputs": [],
   "source": [
    "from collections import Counter\n",
    "\n",
    "import matplotlib.pyplot as plt\n",
    "import networkx as nx\n",
    "import numpy as np\n",
    "import pandas as pd\n",
    "import seaborn as sns\n",
    "import scipy as sp\n",
    "import sknetwork as skn\n",
    "import statsmodels.formula.api as smf\n",
    "import tqdm\n",
    "\n",
    "from helpers.readers import prepare_dataframes\n",
    "from helpers.utils import PALETTE_C, PALETTE_D"
   ]
  },
  {
   "cell_type": "code",
   "execution_count": null,
   "id": "e26ed661",
   "metadata": {},
   "outputs": [],
   "source": [
    "movies, directors, awards = prepare_dataframes(use_parquet=False, save=False)"
   ]
  },
  {
   "cell_type": "markdown",
   "id": "4174d194",
   "metadata": {},
   "source": [
    "## Enrich the dataframes"
   ]
  },
  {
   "cell_type": "markdown",
   "id": "8a2277c5",
   "metadata": {},
   "source": [
    "Extract the IMDb genres."
   ]
  },
  {
   "cell_type": "code",
   "execution_count": null,
   "id": "a6cc751e",
   "metadata": {},
   "outputs": [],
   "source": [
    "IMDB_GENRES = []\n",
    "movies.genres_imdb.dropna().str.split(',').apply(lambda x: IMDB_GENRES.extend(x))\n",
    "genres_sorted = Counter(IMDB_GENRES).most_common()\n",
    "order = [0, 27, 26, 25, 1, 24, 23, 22, 2, 21, 20, 19, 3, 18, 17, 16, 4, 15, 14, 13, 5, 12, 11, 10, 6, 9, 8, 7]\n",
    "IMDB_GENRES = [genres_sorted[i][0] for i in order]"
   ]
  },
  {
   "cell_type": "markdown",
   "id": "5ad7b169",
   "metadata": {},
   "source": [
    "Let's extend the movies dataframe and add two columns:\n",
    "\n",
    "- `directorNewGenre`: Whether the director explored a new genre in this movie\n",
    "- `directorCareerYears`: Years passed in the director's career at the release time of the movie"
   ]
  },
  {
   "cell_type": "code",
   "execution_count": null,
   "id": "9ea3c155",
   "metadata": {},
   "outputs": [],
   "source": [
    "def get_genres(movies):\n",
    "    \"\"\"Returns a dataframe with a row for each genre in each released movie.\"\"\"\n",
    "\n",
    "    directed_genres = []\n",
    "    for _, movie in movies.iterrows():\n",
    "        if isinstance(movie.genres_imdb, str):\n",
    "            directed_genres.extend([(movie.release, g) for g in movie.genres_imdb.split(',')])\n",
    "\n",
    "    gs = pd.DataFrame(directed_genres).rename(columns={0: 'release', 1: 'genre'})\n",
    "    if len(gs):\n",
    "        gs['isNew'] = gs.apply(lambda row: row.genre not in gs.query('release < @row.release').genre.tolist(), axis=1)\n",
    "\n",
    "    return gs"
   ]
  },
  {
   "cell_type": "code",
   "execution_count": null,
   "id": "2a239971",
   "metadata": {},
   "outputs": [],
   "source": [
    "movies['directorNewGenre'] = False\n",
    "movies['directorCareerYears'] = pd.NA\n",
    "\n",
    "\n",
    "for nconst in tqdm.tqdm(directors.index):\n",
    "    # Get movies directed by this director\n",
    "    director_movies = movies[movies.directors.str.contains(nconst)]\n",
    "\n",
    "    # Add the years passed after beginning the career of the director\n",
    "    if not len(director_movies):\n",
    "        continue\n",
    "    directorCareerYears = director_movies.release.astype(float) - director_movies.release.min()\n",
    "    movies.directorCareerYears.update(other=directorCareerYears)\n",
    "\n",
    "    # Add whether a new genre is explored by the director in this movie\n",
    "    director_genres = get_genres(director_movies)\n",
    "    if not len(director_genres):\n",
    "        continue\n",
    "    directorNewGenre = director_movies.dropna(subset=['genres_imdb', 'release']).apply(lambda row: director_genres.query('release == @row.release').isNew.any(), axis=1)\n",
    "    movies.directorNewGenre.update(other=directorNewGenre)\n",
    "\n",
    "movies.directorNewGenre = movies.directorNewGenre.astype(bool)"
   ]
  },
  {
   "cell_type": "markdown",
   "id": "e063661c",
   "metadata": {},
   "source": [
    "Now let's extract success metrics for movies and directors:"
   ]
  },
  {
   "cell_type": "markdown",
   "id": "6e061ad9",
   "metadata": {},
   "source": [
    "# FLAG\n",
    "**Load directors_with_scores**\n",
    "# FLAG"
   ]
  },
  {
   "cell_type": "markdown",
   "id": "a5b19248",
   "metadata": {},
   "source": [
    "## Look at the director scores temporally"
   ]
  },
  {
   "cell_type": "code",
   "execution_count": null,
   "id": "4b9f5ea9",
   "metadata": {},
   "outputs": [],
   "source": [
    "def avgtop(movies, n=3):\n",
    "    \"\"\"Returns the avg-n score from a list of movies.\"\"\"\n",
    "\n",
    "    if len(movies.score.dropna()) < n:\n",
    "        return pd.NA\n",
    "    else:\n",
    "        return movies.score.sort_values(ascending=False)[:n].mean()"
   ]
  },
  {
   "cell_type": "code",
   "execution_count": null,
   "id": "5058add2",
   "metadata": {},
   "outputs": [],
   "source": [
    "def metric_ts(metric, movies, **kws):\n",
    "    \"\"\"Returns a metric from a list of movies as a timeseries.\"\"\"\n",
    "\n",
    "    ts = pd.DataFrame([\n",
    "        (year, metric(movies[movies.release <= year], **kws))\n",
    "        for year in movies.release.unique().tolist()\n",
    "    ])\n",
    "    ts = ts.rename(columns={0: 'release', 1: 'score'}).dropna()\n",
    "\n",
    "    return ts"
   ]
  },
  {
   "cell_type": "code",
   "execution_count": null,
   "id": "82253105",
   "metadata": {},
   "outputs": [],
   "source": [
    "def plot_genre_evolution(director):\n",
    "    fig, ax = plt.subplots(figsize=(18, 4))\n",
    "\n",
    "    # Get list of directed movies\n",
    "    directed_movies = movies[movies.directors.str.contains(director.name)]\n",
    "\n",
    "    # Plot genre histogram\n",
    "    sns.histplot(\n",
    "        ax=ax,\n",
    "        data=get_genres(directed_movies),\n",
    "        x='release',\n",
    "        y='genre',\n",
    "        discrete=(True, True),\n",
    "        hue='isNew',\n",
    "        palette=PALETTE_D[1::-1],\n",
    "    )\n",
    "\n",
    "    axright = ax.twinx()\n",
    "    # Plot score evolution\n",
    "    sns.lineplot(\n",
    "        ax=axright,\n",
    "        data=metric_ts(avgtop, directed_movies, n=3),\n",
    "        x='release',\n",
    "        y='score',\n",
    "        color='black',\n",
    "        marker='o',\n",
    "        label='top-3 score average',\n",
    "    )\n",
    "    # Plot score per movie\n",
    "    sns.lineplot(\n",
    "        ax=axright,\n",
    "        x=directed_movies.dropna(subset=['score', 'release']).release.astype(float),\n",
    "        y=directed_movies.dropna(subset=['score', 'release']).score,\n",
    "        color='black',\n",
    "        marker='X',\n",
    "        label='single release score',\n",
    "    )\n",
    "\n",
    "    ax.grid()\n",
    "    ax.set(title=director.primaryName)\n",
    "    axright.legend(loc='lower center')\n",
    "    ax.set_xticks(directed_movies.release.unique().tolist())\n",
    "    ax.set_xticklabels(directed_movies.release.unique().tolist(), rotation='vertical')\n",
    "    plt.tight_layout()\n",
    "    plt.show()\n",
    "\n",
    "    return fig"
   ]
  },
  {
   "cell_type": "markdown",
   "id": "e2dbce73",
   "metadata": {},
   "source": [
    "We can look at the style evolution of a single person using the `plot_genre_evolution` plot:"
   ]
  },
  {
   "cell_type": "code",
   "execution_count": null,
   "id": "0586bb73",
   "metadata": {},
   "outputs": [],
   "source": [
    "_ = plot_genre_evolution(directors.loc['nm0000399'])"
   ]
  },
  {
   "cell_type": "markdown",
   "id": "8b42918f",
   "metadata": {},
   "source": [
    "## Correlations\n",
    "### Prepare the dataframes"
   ]
  },
  {
   "cell_type": "code",
   "execution_count": null,
   "id": "dfe3652e",
   "metadata": {},
   "outputs": [],
   "source": [
    "def standardize(s: pd.Series) -> pd.Series:\n",
    "    return (s - s.mean()) / s.std()"
   ]
  },
  {
   "cell_type": "code",
   "execution_count": null,
   "id": "d41f1a09",
   "metadata": {},
   "outputs": [],
   "source": [
    "movies_cor = movies.drop(['title', 'wikipediaID', 'freebaseID', 'revenue', 'isAdult', 'runtime', 'genres'], axis=1).copy()\n",
    "# Drop empty strings\n",
    "movies_cor.drop(movies_cor[movies_cor.languages == ''].index, inplace=True)\n",
    "movies_cor.drop(movies_cor[movies_cor.countries == ''].index, inplace=True)\n",
    "# Drop NA values\n",
    "movies_cor.loc[movies_cor.languages == '', 'languages'] = 'multiple'\n",
    "movies_cor.dropna(inplace=True)\n",
    "# Reduce multiple values to 1\n",
    "movies_cor.loc[movies_cor.languages.str.split(',').apply(len) > 1, 'languages'] = 'multilingual'\n",
    "movies_cor.loc[movies_cor.countries.str.split(',').apply(len) > 1, 'countries'] = 'international'\n",
    "movies_cor.loc[movies_cor.directors.str.split(',').apply(len) > 1, 'directors'] = 'multiple'\n",
    "# Correct faulty languages\n",
    "movies_cor.loc[movies_cor.languages == 'France', 'languages'] = 'French'\n",
    "movies_cor.loc[movies_cor.languages == 'Japan', 'languages'] = 'Japanese'\n",
    "# Convert data types\n",
    "movies_cor.directorNewGenre = movies_cor.directorNewGenre.astype(int)\n",
    "movies_cor.directorCareerYears = movies_cor.directorCareerYears.astype(int)\n",
    "# Get one-hot representation for genres, countries, and languages\n",
    "movies_cor = pd.concat([movies_cor, pd.get_dummies(movies_cor.languages, prefix='Language', dtype=int), pd.get_dummies(movies_cor.countries, prefix='Country', dtype=int)], axis=1)\n",
    "for genre in IMDB_GENRES:\n",
    "    movies_cor[f'Genre_{genre}'] = movies_cor.genres_imdb.str.contains(genre).astype(int)\n",
    "movies_cor.rename(columns={colname: colname.replace(' ', '') for colname in movies_cor.columns}, inplace=True)\n",
    "movies_cor.rename(columns={colname: colname.replace('-', '_') for colname in movies_cor.columns}, inplace=True)\n",
    "movies_cor.drop(['countries', 'languages', 'genres_imdb'], axis=1, inplace=True)\n",
    "# Set the type of the features\n",
    "continuous_features = {\n",
    "    'release', 'runtime_imdb', 'directorCareerYears',\n",
    "    'awardsNominated', 'awardsWon', 'score', 'votes', 'rating'\n",
    "}\n",
    "# Standardize the continuous features\n",
    "for f in continuous_features:\n",
    "    movies_cor[f] = standardize(movies_cor[f])\n",
    "    movies_cor[f] = movies_cor[f].astype(float)"
   ]
  },
  {
   "cell_type": "markdown",
   "id": "69b60507",
   "metadata": {},
   "source": [
    "Let's add another column that determines whether the directors is successful or not:"
   ]
  },
  {
   "cell_type": "code",
   "execution_count": null,
   "id": "ca56fbfe",
   "metadata": {},
   "outputs": [],
   "source": [
    "directors_successful = directors[directors['avg-3'] > 40].index.tolist()\n",
    "movies_cor['directorIsSuccessful'] = movies_cor.apply(lambda row: any([d in directors_successful for d in row.directors.split(',')]), axis=1)"
   ]
  },
  {
   "cell_type": "markdown",
   "id": "058d54b9",
   "metadata": {},
   "source": [
    "\n",
    "## Correlation between a director’s critical success and evolution of their style regarding movie genres\n",
    "\n",
    "Not easy to quantize \"evolution of their style.\"\n",
    "\n",
    "\n",
    "## To what extent do directors experiment with new genres and thematics over the course of their career, and is there a pattern of periods of experimentation followed by periods of consistency \n"
   ]
  },
  {
   "cell_type": "code",
   "execution_count": null,
   "id": "38aa3289",
   "metadata": {},
   "outputs": [],
   "source": [
    "print('*' * 100)\n",
    "print('Correlations among all directors:')\n",
    "print('*' * 100)\n",
    "print(' ' * 100)\n",
    "model = smf.ols('directorNewGenre ~  directorCareerYears', data=movies_cor).fit()\n",
    "print(model.summary())\n",
    "\n",
    "print(' ' * 100)\n",
    "\n",
    "print('*' * 100)\n",
    "print('Correlations among successful directors:')\n",
    "print('*' * 100)\n",
    "print(' ' * 100)\n",
    "model = smf.ols('directorNewGenre ~  directorCareerYears', data=movies_cor.query('directorIsSuccessful')).fit()\n",
    "print(model.summary())\n",
    "print(' ' * 100)"
   ]
  },
  {
   "cell_type": "code",
   "execution_count": null,
   "id": "bdb7af0f",
   "metadata": {},
   "outputs": [],
   "source": [
    "movies.directorCareerYears.mean(), movies.directorCareerYears.std()"
   ]
  },
  {
   "cell_type": "markdown",
   "id": "54dd4bc0",
   "metadata": {},
   "source": [
    "> Intercept: Probability of exploring a new genre in a movie with average years through the career (~7 years).\n",
    "\n",
    "> Coefficient: Increase in probability with 1 std (~9 years) more through the career.\n",
    "\n",
    "> There is a negative significant correlation."
   ]
  },
  {
   "cell_type": "markdown",
   "id": "6aefc8aa",
   "metadata": {},
   "source": [
    "The negative correlation might be due to the fact that in the first years, every genre is considered a new genre.\n",
    "\n",
    "Let's do the same analysis considering only movies after a decade (1 std) through the career of the directors."
   ]
  },
  {
   "cell_type": "code",
   "execution_count": null,
   "id": "b90426eb",
   "metadata": {},
   "outputs": [],
   "source": [
    "model = smf.ols('directorNewGenre ~  directorCareerYears', data=movies_cor.query('directorCareerYears > 1')).fit()\n",
    "print(model.summary())"
   ]
  },
  {
   "cell_type": "code",
   "execution_count": null,
   "id": "f3a71668",
   "metadata": {},
   "outputs": [],
   "source": [
    "sns.lineplot(\n",
    "    data=movies_cor,\n",
    "    x='directorCareerYears',\n",
    "    y='directorNewGenre',\n",
    "    hue='directorIsSuccessful',\n",
    "    palette=PALETTE_D[:2],\n",
    ")"
   ]
  },
  {
   "cell_type": "markdown",
   "id": "1262bb24",
   "metadata": {},
   "source": [
    "> Not surprisingly, there is general trend of less tendency to try a new genre as the years pass in a director's career.\n",
    "\n",
    "## Are directors who tend to work on more diverse projects less successful or more successful?"
   ]
  },
  {
   "cell_type": "code",
   "execution_count": null,
   "id": "c68e0fdb",
   "metadata": {},
   "outputs": [],
   "source": [
    "def get_num_genres(director):\n",
    "    # Get movies directed by this director\n",
    "    director_movies = movies[movies.directors.str.contains(director.name)]\n",
    "    return int(director_movies.directorNewGenre.sum())\n",
    "\n",
    "def get_avg_num_genres_per_movie(director):\n",
    "    # Get movies directed by this director\n",
    "    director_movies = movies[movies.directors.str.contains(director.name)]\n",
    "    return director_movies.genres_imdb.dropna().str.split(',').apply(len).mean()"
   ]
  },
  {
   "cell_type": "code",
   "execution_count": null,
   "id": "e6a55fec",
   "metadata": {},
   "outputs": [],
   "source": [
    "directors['genresPerMovie'] = directors.apply(get_avg_num_genres_per_movie, axis=1)\n",
    "directors['genresExplored'] = directors.apply(get_num_genres, axis=1)"
   ]
  },
  {
   "cell_type": "code",
   "execution_count": null,
   "id": "eea298ec",
   "metadata": {},
   "outputs": [],
   "source": [
    "directors_cor = directors.copy()\n",
    "\n",
    "# Prepare the avg3 score\n",
    "directors_cor = directors_cor.dropna(subset=['avg-3', 'genresExplored'])\n",
    "directors_cor = directors_cor.rename(columns={'avg-3': 'avg3',})\n",
    "directors_cor.avg3 = directors_cor.avg3.astype(float)\n",
    "\n",
    "# Add isSuccessful\n",
    "directors_cor['isSuccessful'] = (directors_cor.avg3 > 40).astype(int)"
   ]
  },
  {
   "cell_type": "code",
   "execution_count": null,
   "id": "73cb6076",
   "metadata": {},
   "outputs": [],
   "source": [
    "model = smf.ols('avg3 ~  genresExplored', data=directors_cor).fit()\n",
    "print(model.summary())"
   ]
  },
  {
   "cell_type": "code",
   "execution_count": null,
   "id": "060ba60b",
   "metadata": {},
   "outputs": [],
   "source": [
    "model = smf.ols('avg3 ~  genresPerMovie', data=directors_cor).fit()\n",
    "print(model.summary())"
   ]
  },
  {
   "cell_type": "code",
   "execution_count": null,
   "id": "e57b52a5",
   "metadata": {},
   "outputs": [],
   "source": [
    "sns.relplot(data=directors_cor, kind='scatter', x='genresExplored', y='avg3', color=PALETTE_D[1])"
   ]
  },
  {
   "cell_type": "code",
   "execution_count": null,
   "id": "c8085958",
   "metadata": {},
   "outputs": [],
   "source": [
    "sns.relplot(data=directors_cor, kind='scatter', x='genresPerMovie', y='avg3', color=PALETTE_D[1])"
   ]
  },
  {
   "cell_type": "markdown",
   "id": "8d12dd0e",
   "metadata": {},
   "source": [
    "> Doesn't really look like a meaningful correlation"
   ]
  },
  {
   "cell_type": "code",
   "execution_count": null,
   "id": "0bfd7829",
   "metadata": {},
   "outputs": [],
   "source": [
    "model = smf.ols('awardsNominated ~ genresPerMovie + genresExplored', data=directors_cor).fit()\n",
    "print(model.summary())"
   ]
  },
  {
   "cell_type": "markdown",
   "id": "a56c9855",
   "metadata": {},
   "source": [
    "> Nothing interesting, very low R-squared."
   ]
  },
  {
   "cell_type": "code",
   "execution_count": null,
   "id": "6856fd80",
   "metadata": {},
   "outputs": [],
   "source": [
    "model = smf.ols('awardsWon ~ genresPerMovie + genresExplored', data=directors_cor).fit()\n",
    "print(model.summary())"
   ]
  },
  {
   "cell_type": "markdown",
   "id": "c84d8b1f",
   "metadata": {},
   "source": [
    "> Nothing interesting, very low R-squared."
   ]
  },
  {
   "cell_type": "code",
   "execution_count": null,
   "id": "e00f22b1",
   "metadata": {},
   "outputs": [],
   "source": [
    "model = smf.ols('isSuccessful ~ genresPerMovie + genresExplored', data=directors_cor).fit()\n",
    "print(model.summary())"
   ]
  },
  {
   "cell_type": "markdown",
   "id": "c1f1bf9b",
   "metadata": {},
   "source": [
    "> Again, very small coefficient, let's accept that there is not any correlation.\n",
    "\n",
    "## Is it less likely or more likely for a movie to succeed when the director tries a new genre?\n",
    "\n",
    "There are many cofounders that could directly or indirectly impact the success of a movie. Runtime of the movie, release year, languages, production countries, genres, director, and cast could be the principal ones, among many other factors. For the purpose of this study, it is not possible to take into account all these factors, but we try to balance the dataset on the cofounders that we have data about.\n",
    "\n",
    "We match exactly on director, genre, country, and language, and use propensity scores for matching on all the other features."
   ]
  },
  {
   "cell_type": "code",
   "execution_count": null,
   "id": "c79af21b",
   "metadata": {},
   "outputs": [],
   "source": [
    "movies_cor_balanced_newgenre = movies_cor.copy()"
   ]
  },
  {
   "cell_type": "code",
   "execution_count": null,
   "id": "a838ded6",
   "metadata": {},
   "outputs": [],
   "source": [
    "# Set the continuous predictors\n",
    "continuous_features_predictor = continuous_features.copy()\n",
    "continuous_features_predictor.remove('awardsNominated')\n",
    "continuous_features_predictor.remove('awardsWon')\n",
    "continuous_features_predictor.remove('score')\n",
    "continuous_features_predictor.remove('votes')\n",
    "continuous_features_predictor.remove('rating')\n",
    "continuous_features_predictor = list(continuous_features_predictor)\n",
    "\n",
    "# Instantiate and fit the model\n",
    "formula = 'directorNewGenre ~ ' + ' + '.join(continuous_features_predictor)\n",
    "mod = smf.logit(formula=formula, data=movies_cor_balanced_newgenre)\n",
    "res = mod.fit(maxiter=50, method='bfgs')\n",
    "movies_cor_balanced_newgenre['propensityScore'] = res.predict()"
   ]
  },
  {
   "cell_type": "code",
   "execution_count": null,
   "id": "0dcda936",
   "metadata": {},
   "outputs": [],
   "source": [
    "# Set categorical features to do exact matching on\n",
    "categorical_features_exactmatch = (\n",
    "    [c for c in movies_cor_balanced_newgenre.columns if c.startswith('Genre_')]\n",
    "    + [c for c in movies_cor_balanced_newgenre.columns if c.startswith('Language_')]\n",
    "    + [c for c in movies_cor_balanced_newgenre.columns if c.startswith('Country_')]\n",
    ")\n",
    "\n",
    "# Set control and treatment groups\n",
    "control = movies_cor_balanced_newgenre.query('directorNewGenre == False')\n",
    "treatment = movies_cor_balanced_newgenre.query('directorNewGenre == True')\n",
    "\n",
    "# Create an empty graph\n",
    "G = nx.Graph()\n",
    "\n",
    "# Loop through all directors\n",
    "for d in control.directors.unique():\n",
    "    control_d = control.query('directors == @d')\n",
    "    treatment_d = treatment.query('directors == @d')\n",
    "    if d == 'multiple':\n",
    "        continue\n",
    "    # Loop through all the pairs of movies of this director\n",
    "    for c_id, c in control_d.iterrows():\n",
    "        for t_id, t in treatment_d.iterrows():\n",
    "            # Skip if any categorical predictor is different\n",
    "            if any(c[categorical_features_exactmatch] != t[categorical_features_exactmatch]):\n",
    "                continue\n",
    "            # Add an edge between the two movies weighted by the similarity between them\n",
    "            similarity = 1 - np.abs(c['propensityScore'] - t['propensityScore'])\n",
    "            G.add_edge(c_id, t_id, weight=similarity)\n",
    "\n",
    "# Generate and return the maximum weight matching on the generated graph\n",
    "pairs = nx.max_weight_matching(G, maxcardinality=True)\n",
    "idx = [pair[0] for pair in list(pairs)] + [pair[1] for pair in list(pairs)]\n",
    "movies_cor_balanced_newgenre = movies_cor_balanced_newgenre.loc[idx]"
   ]
  },
  {
   "cell_type": "markdown",
   "id": "76ab4f0a",
   "metadata": {},
   "source": [
    "First, let's do a t-test to check the average score of the control and the treatment group:"
   ]
  },
  {
   "cell_type": "code",
   "execution_count": null,
   "id": "3d1a4b27",
   "metadata": {},
   "outputs": [],
   "source": [
    "control = movies_cor_balanced_newgenre.query('directorNewGenre == False')\n",
    "treatment = movies_cor_balanced_newgenre.query('directorNewGenre == True')\n",
    "sp.stats.ttest_rel(control.score, treatment.score)"
   ]
  },
  {
   "cell_type": "code",
   "execution_count": null,
   "id": "d59d7ae8",
   "metadata": {},
   "outputs": [],
   "source": [
    "control = movies_cor_balanced_newgenre.query('directorNewGenre == False')\n",
    "treatment = movies_cor_balanced_newgenre.query('directorNewGenre == True')\n",
    "sp.stats.ttest_rel(control.awardsNominated, treatment.awardsNominated)"
   ]
  },
  {
   "cell_type": "code",
   "execution_count": null,
   "id": "c8f8c994",
   "metadata": {},
   "outputs": [],
   "source": [
    "control = movies_cor_balanced_newgenre.query('directorNewGenre == False')\n",
    "treatment = movies_cor_balanced_newgenre.query('directorNewGenre == True')\n",
    "sp.stats.ttest_rel(control.awardsWon, treatment.awardsWon)"
   ]
  },
  {
   "cell_type": "markdown",
   "id": "e53273f5",
   "metadata": {},
   "source": [
    "> High p-value means that we cannot reject the null hypothesis that they both have the same average."
   ]
  },
  {
   "cell_type": "code",
   "execution_count": null,
   "id": "d139ce4c",
   "metadata": {},
   "outputs": [],
   "source": [
    "model = smf.ols('score ~ C(directorNewGenre)', data=movies_cor_balanced_newgenre).fit()\n",
    "print(model.summary())"
   ]
  },
  {
   "cell_type": "code",
   "execution_count": null,
   "id": "fe7088f2",
   "metadata": {},
   "outputs": [],
   "source": [
    "model = smf.ols('awardsWon ~ C(directorNewGenre)', data=movies_cor_balanced_newgenre).fit()\n",
    "print(model.summary())"
   ]
  },
  {
   "cell_type": "code",
   "execution_count": null,
   "id": "637b3d19",
   "metadata": {},
   "outputs": [],
   "source": [
    "model = smf.ols('awardsNominated ~ C(directorNewGenre)', data=movies_cor_balanced_newgenre).fit()\n",
    "print(model.summary())"
   ]
  },
  {
   "cell_type": "code",
   "execution_count": null,
   "id": "ba24f10c",
   "metadata": {},
   "outputs": [],
   "source": [
    "model = smf.ols('votes ~ C(directorNewGenre)', data=movies_cor_balanced_newgenre).fit()\n",
    "print(model.summary())"
   ]
  },
  {
   "cell_type": "markdown",
   "id": "e1494333",
   "metadata": {},
   "source": [
    "> For all of them, the p-value is high, suggesting that such correlation does not exist.\n",
    "\n",
    "## Graph analysis for genre-similarity\n",
    "\n",
    "### Are more successful directors more often specialized in a certain combination of genres ?\n",
    "\n",
    "#### Define base algorithms and plotting functions"
   ]
  },
  {
   "cell_type": "code",
   "execution_count": null,
   "id": "ac5c42a7",
   "metadata": {},
   "outputs": [],
   "source": [
    "def get_bipartite_graph(movies, genres=None, directors=None):\n",
    "    \"\"\"Creates a tripartite graph with directors, movies, and genres.\"\"\"\n",
    "\n",
    "    # Drop NAs\n",
    "    movies = movies.dropna(subset='genres_imdb')\n",
    "\n",
    "    # Get all the genres\n",
    "    if genres is None:\n",
    "        genres = []\n",
    "        for x in movies.genres_imdb.str.split(',').dropna(): genres.extend(x)\n",
    "\n",
    "    # Get all the directors\n",
    "    if directors is None:\n",
    "        movies = movies.dropna(subset='directors')\n",
    "        directors = []\n",
    "        for x in movies.directors.str.split(',').dropna(): directors.extend(x)\n",
    "\n",
    "    # Create the graph\n",
    "    G = nx.Graph()\n",
    "    for tconst, movie in movies.iterrows():\n",
    "        G.add_node(tconst, part=0, n_genres=len(movie.genres_imdb.split(',')))\n",
    "    G.add_nodes_from(set(genres), part=1)\n",
    "    G.add_nodes_from(set(directors), part=2)\n",
    "    nodes_movies = {n for n, d in G.nodes(data='part') if d == 0}\n",
    "    nodes_genres = {n for n, d in G.nodes(data='part') if d == 1}\n",
    "    nodes_directors = {n for n, d in G.nodes(data='part') if d == 2}\n",
    "    for tconst, m in movies.iterrows():\n",
    "        G.add_edges_from([(tconst, g) for g in m.genres_imdb.split(',')])\n",
    "        G.add_edges_from([(tconst, d) for d in m.directors.split(',')])\n",
    "\n",
    "    return G, nodes_movies, nodes_genres, nodes_directors"
   ]
  },
  {
   "cell_type": "code",
   "execution_count": null,
   "id": "899b144e",
   "metadata": {},
   "outputs": [],
   "source": [
    "def draw_bipartite_graph(B, nodes_left, nodes_right):\n",
    "    \"\"\"Draws a bipartite graph.\"\"\"\n",
    "\n",
    "    pos = nx.bipartite_layout(G=B, nodes=nodes_left)\n",
    "    nx.draw(G=B, with_labels=False, pos=pos, alpha=.5)\n",
    "    nx.draw_networkx_labels(\n",
    "        G=B,\n",
    "        pos=pos,\n",
    "        labels={n: n for n in nodes_right},\n",
    "        font_size=12,\n",
    "        font_color='k',\n",
    "    )\n",
    "    plt.show()"
   ]
  },
  {
   "cell_type": "code",
   "execution_count": null,
   "id": "845d43ab",
   "metadata": {},
   "outputs": [],
   "source": [
    "def draw_weighted_graph(\n",
    "    G, layout = None, with_labels: bool = False,\n",
    "    normalize_wights: bool = False, labels: dict = None,\n",
    "    scale_edges: bool = True,\n",
    "    scale_nodes: bool = True,\n",
    "):\n",
    "    \"\"\"Draws a weighted graph.\"\"\"\n",
    "\n",
    "    fig, ax = plt.subplots(1, 1, figsize=(8, 8))\n",
    "\n",
    "    # Set the layout\n",
    "    if layout is None:\n",
    "        layout = nx.spring_layout(G)\n",
    "\n",
    "    # Draw the edges\n",
    "    weights = list(nx.get_edge_attributes(G, 'weight').values())\n",
    "    for (u, v, w) in G.edges(data='weight'):\n",
    "        if normalize_wights:\n",
    "            if max(weights) == min(weights):\n",
    "                w = 1\n",
    "            else:\n",
    "                w = (w - min(weights)) / (max(weights) - min(weights))\n",
    "        nx.draw_networkx_edges(G,\n",
    "            pos=layout,\n",
    "            edgelist=[(u, v)],\n",
    "            alpha=w,\n",
    "            width=(10*w if scale_edges else 1),\n",
    "            edge_color='k',\n",
    "            ax=ax,\n",
    "        )\n",
    "\n",
    "    # Draw the nodes\n",
    "    node_size = 2000\n",
    "    if scale_nodes:\n",
    "        sizes = np.array(list(nx.get_node_attributes(G, 'prevelance').values()))\n",
    "        if max(sizes) == min(sizes):\n",
    "            sizes = 0\n",
    "        else:\n",
    "            sizes = (sizes - min(sizes)) / (max(sizes) - min(sizes))\n",
    "        sizes = 0.01 + 0.8 * sizes\n",
    "    nx.draw_networkx_nodes(G,\n",
    "        pos=layout,\n",
    "        nodelist=G.nodes,\n",
    "        node_size=(node_size*sizes if scale_nodes else node_size),\n",
    "        node_color=PALETTE_D[0],\n",
    "        ax=ax,\n",
    "    )\n",
    "\n",
    "    # Draw the labels\n",
    "    if with_labels or labels:\n",
    "        nx.draw_networkx_labels(G,\n",
    "            pos=layout,\n",
    "            labels=labels,\n",
    "            font_size=8,\n",
    "            font_color='#616161',\n",
    "            # bbox={'facecolor': 'k', 'alpha': .2, 'edgecolor': 'none'},\n",
    "            ax=ax,\n",
    "        )\n",
    "\n",
    "    plt.show()"
   ]
  },
  {
   "cell_type": "markdown",
   "id": "43c3f497",
   "metadata": {},
   "source": [
    "### Co-existence of genres for a group of directors\n",
    "\n",
    "Let's project the bipartite graph on movies to find the connection between different genres."
   ]
  },
  {
   "cell_type": "code",
   "execution_count": null,
   "id": "a9f13a15",
   "metadata": {},
   "outputs": [],
   "source": [
    "def get_genre_coexistence_graph(movies, directors = None, verbose: bool = True):\n",
    "    \"\"\"Returns a weighted graph of genres based on their co-existence in movies of a set of directors.\"\"\"\n",
    "\n",
    "    # Get a tripartite graph\n",
    "    if directors is not None:\n",
    "        movies = movies.dropna(subset='directors')\n",
    "        movies = movies[movies.directors.str.split(',').apply(lambda ds: any([d in directors.index for d in ds]))]\n",
    "        if verbose:\n",
    "            print(f'Considering movies of {len(directors)} directors.')\n",
    "    if verbose:\n",
    "        print(f'Considering {len(movies)} movies.')\n",
    "    B, _, nodes_genres, _ = get_bipartite_graph(\n",
    "        movies=movies,\n",
    "        genres=None,\n",
    "        directors=directors.index if (directors is not None) else None,\n",
    "    )\n",
    "\n",
    "    # Project the graph on movies\n",
    "    MG = nx.bipartite.projected_graph(B, nodes_genres, multigraph=True)\n",
    "    # Omit the directors\n",
    "    MG = MG.subgraph(nodes_genres)\n",
    "\n",
    "    # Add nodes with their prevelance\n",
    "    G = nx.Graph()\n",
    "    G.add_nodes_from(IMDB_GENRES, prevelance=0)\n",
    "    prevelances = {n: B.degree[n] for n in nodes_genres}\n",
    "    nx.set_node_attributes(G, values=prevelances, name='prevelance')\n",
    "    # Reduce multiple edges to a weighted edge\n",
    "    for u in nodes_genres:\n",
    "        for v in nodes_genres:\n",
    "            if u is v: continue\n",
    "            G.add_edge(u, v, weight=MG.number_of_edges(u, v))\n",
    "\n",
    "    return G"
   ]
  },
  {
   "cell_type": "code",
   "execution_count": null,
   "id": "f3ec97cf",
   "metadata": {},
   "outputs": [],
   "source": [
    "G = get_genre_coexistence_graph(movies=movies)\n",
    "layout = nx.circular_layout(G)\n",
    "draw_weighted_graph(G, layout=layout, with_labels=True, normalize_wights=True)"
   ]
  },
  {
   "cell_type": "markdown",
   "id": "fb6d1057",
   "metadata": {},
   "source": [
    "Let's look at this plot for several countries:"
   ]
  },
  {
   "cell_type": "code",
   "execution_count": null,
   "id": "a30d37c3",
   "metadata": {},
   "outputs": [],
   "source": [
    "G = get_genre_coexistence_graph(\n",
    "    movies=movies[movies.countries.str.contains('India')],\n",
    "    directors=directors[directors['avg-3'] > 30],\n",
    ")\n",
    "\n",
    "layout = nx.circular_layout(G)\n",
    "draw_weighted_graph(G, layout=layout, with_labels=True, normalize_wights=True, scale_nodes=True)"
   ]
  },
  {
   "cell_type": "markdown",
   "id": "da5226fd",
   "metadata": {},
   "source": [
    "### Genre-similarity score of a set of movies\n",
    "\n",
    "Now, let's project the plot on genres and then get a similarity measure for directors:"
   ]
  },
  {
   "cell_type": "code",
   "execution_count": null,
   "id": "5cd68781",
   "metadata": {},
   "outputs": [],
   "source": [
    "def get_similarity_score(movies, directors = None, verbose: bool = True):\n",
    "    \"\"\"\n",
    "    Calculates a single similarity score of the movies of one or more directors\n",
    "    based on the density of the projection graph.\n",
    "    \"\"\"\n",
    "\n",
    "    # Get a tripartite graph\n",
    "    if directors is not None:\n",
    "        movies = movies.dropna(subset='directors')\n",
    "        movies = movies[movies.directors.str.split(',').apply(lambda ds: any([d in directors.index for d in ds]))]\n",
    "        if verbose:\n",
    "            print(f'Considering movies of {len(directors)} directors.')\n",
    "    if verbose:\n",
    "        print(f'Considering {len(movies)} movies.')\n",
    "    B, nodes_movies, nodes_genres, _ = get_bipartite_graph(\n",
    "        movies=movies,\n",
    "        genres=None,\n",
    "        directors=directors.index if (directors is not None) else None,\n",
    "    )\n",
    "\n",
    "    # Project the graph on genres\n",
    "    MG = nx.bipartite.projected_graph(B.subgraph(nodes_movies.union(nodes_genres)), nodes_movies, multigraph=True)\n",
    "\n",
    "    # Reduce multiple edges to a weighted edge\n",
    "    G = nx.Graph()\n",
    "    G.add_nodes_from(nodes_movies)\n",
    "    for u in nodes_movies:\n",
    "        for v in nodes_movies:\n",
    "            if u is v: continue\n",
    "            max_num_edges = min([n for _, n in B.subgraph(nodes=[u, v]).nodes(data='n_genres')])\n",
    "            w = MG.number_of_edges(u, v) / max_num_edges\n",
    "            G.add_edge(u, v, weight=w)\n",
    "\n",
    "    # Calculate the density of the weighted graph\n",
    "    n = G.number_of_nodes()\n",
    "    m = np.array(list(nx.get_edge_attributes(G, 'weight').values())).sum()\n",
    "    score = 2 * m / (n * (n-1))\n",
    "\n",
    "    return score"
   ]
  },
  {
   "cell_type": "markdown",
   "id": "42c88602",
   "metadata": {},
   "source": [
    "> We can quantify the similarity of movies of a group of directors, and compare these numbers together.\n",
    "\n",
    "First, let's have a baseline by sampling movies randomly:"
   ]
  },
  {
   "cell_type": "code",
   "execution_count": null,
   "id": "4deb0073",
   "metadata": {},
   "outputs": [],
   "source": [
    "for n in [10, 100, 500, 1000]:\n",
    "    # Repeat the sampling and report the average\n",
    "    score = 0\n",
    "    repeats = 5\n",
    "    for _ in range(repeats):\n",
    "        score += get_similarity_score(movies=movies.sample(n), verbose=False)\n",
    "    score /= repeats\n",
    "    print(f'Expected similarity of {n} random movies: {score:.4f}')"
   ]
  },
  {
   "cell_type": "markdown",
   "id": "db9d1a43",
   "metadata": {},
   "source": [
    "Let's do that for movies of random directors (among the ones with at least 10 movies) to get an expected upper bound:"
   ]
  },
  {
   "cell_type": "code",
   "execution_count": null,
   "id": "2058b617",
   "metadata": {},
   "outputs": [],
   "source": [
    "score = 0\n",
    "repeats = 100\n",
    "for _ in range(repeats):\n",
    "    score += get_similarity_score(movies=movies, directors=directors.dropna(subset='avg-10').sample(1), verbose=False)\n",
    "score /= repeats\n",
    "print(f'Expected similarity of the movies of a director: {score:.4f}')"
   ]
  },
  {
   "cell_type": "markdown",
   "id": "1be97602",
   "metadata": {},
   "source": [
    "> A similarity score of around `0.3` is considered as the baseline.\n",
    "\n",
    "> A similarity score of around `0.53` is considered as a high value.\n",
    "\n",
    "#### Let's do that for top directors:"
   ]
  },
  {
   "cell_type": "code",
   "execution_count": null,
   "id": "509363ed",
   "metadata": {},
   "outputs": [],
   "source": [
    "get_similarity_score(\n",
    "    movies=movies,\n",
    "    directors=directors[directors['avg-3'] >= 40],\n",
    ")"
   ]
  },
  {
   "cell_type": "markdown",
   "id": "5980f5ad",
   "metadata": {},
   "source": [
    "> Nothing interesting."
   ]
  },
  {
   "cell_type": "code",
   "execution_count": null,
   "id": "b26706fa",
   "metadata": {},
   "outputs": [],
   "source": [
    "get_similarity_score(\n",
    "    movies=movies,\n",
    "    directors=directors[directors['avg-3'] >= 50],\n",
    ")"
   ]
  },
  {
   "cell_type": "markdown",
   "id": "aaa17105",
   "metadata": {},
   "source": [
    "> Nothing interesting."
   ]
  },
  {
   "cell_type": "code",
   "execution_count": null,
   "id": "da205b2f",
   "metadata": {},
   "outputs": [],
   "source": [
    "get_similarity_score(\n",
    "    movies=movies,\n",
    "    directors=directors[directors['avg-10'] >= 40],\n",
    ")"
   ]
  },
  {
   "cell_type": "markdown",
   "id": "a9d16c84",
   "metadata": {},
   "source": [
    "> Nothing interesting."
   ]
  },
  {
   "cell_type": "code",
   "execution_count": null,
   "id": "f561b749",
   "metadata": {},
   "outputs": [],
   "source": [
    "get_similarity_score(\n",
    "    movies=movies,\n",
    "    directors=directors[directors['hits-50'] >= 1],\n",
    ")"
   ]
  },
  {
   "cell_type": "markdown",
   "id": "54e722e0",
   "metadata": {},
   "source": [
    "> Nothing interesting."
   ]
  },
  {
   "cell_type": "code",
   "execution_count": null,
   "id": "2a90b034",
   "metadata": {},
   "outputs": [],
   "source": [
    "get_similarity_score(\n",
    "    movies=movies,\n",
    "    directors=directors[directors['hits-45'] >= 2],\n",
    ")"
   ]
  },
  {
   "cell_type": "markdown",
   "id": "23e8c6a1",
   "metadata": {},
   "source": [
    "> Nothing interesting."
   ]
  },
  {
   "cell_type": "code",
   "execution_count": null,
   "id": "9126b727",
   "metadata": {},
   "outputs": [],
   "source": [
    "get_similarity_score(\n",
    "    movies=movies,\n",
    "    directors=directors[directors['hits-40'] >= 5],\n",
    ")"
   ]
  },
  {
   "cell_type": "markdown",
   "id": "1e2e813c",
   "metadata": {},
   "source": [
    "> No significant similarity when we check top directors."
   ]
  },
  {
   "cell_type": "code",
   "execution_count": null,
   "id": "f2783c77",
   "metadata": {},
   "outputs": [],
   "source": [
    "get_similarity_score(\n",
    "    movies=movies,\n",
    "    directors=directors[directors['rate-8.0'] >= 10],\n",
    ")"
   ]
  },
  {
   "cell_type": "markdown",
   "id": "00908c5f",
   "metadata": {},
   "source": [
    "> Similarity between directors with many high-rated movies!!\n",
    "\n",
    "> Let's check which genres these are."
   ]
  },
  {
   "cell_type": "code",
   "execution_count": null,
   "id": "5b416143",
   "metadata": {},
   "outputs": [],
   "source": [
    "G = get_genre_coexistence_graph(\n",
    "    movies=movies,\n",
    "    directors=directors[directors['rate-8.0'] >= 10],\n",
    ")\n",
    "layout = nx.circular_layout(G)\n",
    "draw_weighted_graph(G, layout, with_labels=True, normalize_wights=True)"
   ]
  },
  {
   "cell_type": "code",
   "execution_count": null,
   "id": "8b5ff255",
   "metadata": {},
   "outputs": [],
   "source": [
    "get_similarity_score(\n",
    "    movies=movies,\n",
    "    directors=directors[directors['rate-8.5'] >= 3],\n",
    ")"
   ]
  },
  {
   "cell_type": "markdown",
   "id": "8bfe6a53",
   "metadata": {},
   "source": [
    "> Again, similarity beteween directors with three or more brilliant movies."
   ]
  },
  {
   "cell_type": "code",
   "execution_count": null,
   "id": "3287d8c1",
   "metadata": {},
   "outputs": [],
   "source": [
    "G = get_genre_coexistence_graph(\n",
    "    movies=movies,\n",
    "    directors=directors[directors['rate-8.5'] >= 3],\n",
    ")\n",
    "layout = nx.circular_layout(G)\n",
    "draw_weighted_graph(G, layout, with_labels=True, normalize_wights=True)"
   ]
  },
  {
   "cell_type": "markdown",
   "id": "f632fbdb",
   "metadata": {},
   "source": [
    "#### Now let's do the same for the most award-winning directors and movies:"
   ]
  },
  {
   "cell_type": "code",
   "execution_count": null,
   "id": "6510ce35",
   "metadata": {},
   "outputs": [],
   "source": [
    "get_similarity_score(\n",
    "    movies=movies,\n",
    "    directors=directors[directors['awardsNominated'] >= 150],\n",
    ")"
   ]
  },
  {
   "cell_type": "code",
   "execution_count": null,
   "id": "bbf4cb08",
   "metadata": {},
   "outputs": [],
   "source": [
    "G = get_genre_coexistence_graph(\n",
    "    movies=movies,\n",
    "    directors=directors[directors['awardsNominated'] >= 150],\n",
    ")\n",
    "layout = nx.circular_layout(G)\n",
    "draw_weighted_graph(G, layout, with_labels=True, normalize_wights=True)"
   ]
  },
  {
   "cell_type": "code",
   "execution_count": null,
   "id": "323c09a8",
   "metadata": {},
   "outputs": [],
   "source": [
    "get_similarity_score(\n",
    "    movies=movies,\n",
    "    directors=directors[directors['awardsWon'] >= 50],\n",
    ")"
   ]
  },
  {
   "cell_type": "code",
   "execution_count": null,
   "id": "ab929e6a",
   "metadata": {},
   "outputs": [],
   "source": [
    "G = get_genre_coexistence_graph(\n",
    "    movies=movies,\n",
    "    directors=directors[directors['awardsWon'] >= 50],\n",
    ")\n",
    "layout = nx.circular_layout(G)\n",
    "draw_weighted_graph(G, layout, with_labels=True, normalize_wights=True)"
   ]
  },
  {
   "cell_type": "code",
   "execution_count": null,
   "id": "29597278",
   "metadata": {},
   "outputs": [],
   "source": [
    "get_similarity_score(\n",
    "    movies=movies.query('awardsNominated > 30'),\n",
    ")"
   ]
  },
  {
   "cell_type": "code",
   "execution_count": null,
   "id": "c59a0767",
   "metadata": {},
   "outputs": [],
   "source": [
    "G = get_genre_coexistence_graph(\n",
    "    movies=movies.query('awardsNominated > 30'),\n",
    ")\n",
    "layout = nx.circular_layout(G)\n",
    "draw_weighted_graph(G, layout, with_labels=True, normalize_wights=True)"
   ]
  },
  {
   "cell_type": "code",
   "execution_count": null,
   "id": "b377181b",
   "metadata": {},
   "outputs": [],
   "source": [
    "get_similarity_score(\n",
    "    movies=movies.query('awardsWon > 10'),\n",
    ")"
   ]
  },
  {
   "cell_type": "code",
   "execution_count": null,
   "id": "532e4864",
   "metadata": {},
   "outputs": [],
   "source": [
    "G = get_genre_coexistence_graph(\n",
    "    movies=movies.query('awardsWon > 10'),\n",
    ")\n",
    "layout = nx.circular_layout(G)\n",
    "draw_weighted_graph(G, layout, with_labels=True, normalize_wights=True)"
   ]
  },
  {
   "cell_type": "markdown",
   "id": "bfa16889",
   "metadata": {},
   "source": [
    "#### Now let's do the same for the most popular movies:"
   ]
  },
  {
   "cell_type": "code",
   "execution_count": null,
   "id": "2abdab57",
   "metadata": {},
   "outputs": [],
   "source": [
    "get_similarity_score(\n",
    "    movies=movies.query('votes > 100_000'),\n",
    ")"
   ]
  },
  {
   "cell_type": "markdown",
   "id": "d3dfabe8",
   "metadata": {},
   "source": [
    "> Okay, nothing really interesting here."
   ]
  },
  {
   "cell_type": "code",
   "execution_count": null,
   "id": "f2c8abaf",
   "metadata": {},
   "outputs": [],
   "source": [
    "get_similarity_score(movies=movies.query('votes > 1000_000'))"
   ]
  },
  {
   "cell_type": "code",
   "execution_count": null,
   "id": "bbaf6ed0",
   "metadata": {},
   "outputs": [],
   "source": [
    "get_similarity_score(movies=movies.query('votes > 1500_000'))"
   ]
  },
  {
   "cell_type": "markdown",
   "id": "3a1453e0",
   "metadata": {},
   "source": [
    "> Seems like some genre combinations are more popular than the others!"
   ]
  },
  {
   "cell_type": "code",
   "execution_count": null,
   "id": "af57af6b",
   "metadata": {},
   "outputs": [],
   "source": [
    "G = get_genre_coexistence_graph(movies=movies.query('votes > 1000_000'))\n",
    "layout = nx.circular_layout(G)\n",
    "draw_weighted_graph(G, layout, with_labels=True, normalize_wights=True)"
   ]
  },
  {
   "cell_type": "markdown",
   "id": "ef33a405",
   "metadata": {},
   "source": [
    "#### Let's do that for movies in different countries and languages:\n",
    "\n",
    "##### Indian movies from award-winning directors"
   ]
  },
  {
   "cell_type": "code",
   "execution_count": null,
   "id": "e9683719",
   "metadata": {},
   "outputs": [],
   "source": [
    "get_similarity_score(\n",
    "    movies=movies[movies.countries.str.contains('India')],\n",
    "    directors=directors.query('awardsWon > 10'),\n",
    ")"
   ]
  },
  {
   "cell_type": "code",
   "execution_count": null,
   "id": "39f18806",
   "metadata": {},
   "outputs": [],
   "source": [
    "G = get_genre_coexistence_graph(\n",
    "    movies=movies[movies.countries.str.contains('India')],\n",
    "    directors=directors.query('awardsWon > 10'),\n",
    ")\n",
    "layout = nx.circular_layout(G)\n",
    "draw_weighted_graph(G, layout, with_labels=True, normalize_wights=True)"
   ]
  },
  {
   "cell_type": "markdown",
   "id": "5112f742",
   "metadata": {},
   "source": [
    "##### Turkish movies from award-winning directors"
   ]
  },
  {
   "cell_type": "code",
   "execution_count": null,
   "id": "6a893f5d",
   "metadata": {},
   "outputs": [],
   "source": [
    "get_similarity_score(\n",
    "    movies=movies[movies.countries.str.contains('Turkey')],\n",
    "    directors=directors.query('awardsWon > 5'),\n",
    ")"
   ]
  },
  {
   "cell_type": "code",
   "execution_count": null,
   "id": "f15cc439",
   "metadata": {},
   "outputs": [],
   "source": [
    "G = get_genre_coexistence_graph(\n",
    "    movies=movies[movies.countries.str.contains('Turkey')],\n",
    "    directors=directors.query('awardsWon > 5'),\n",
    ")\n",
    "layout = nx.circular_layout(G)\n",
    "draw_weighted_graph(G, layout, with_labels=True, normalize_wights=True)"
   ]
  },
  {
   "cell_type": "markdown",
   "id": "4ca8da73",
   "metadata": {},
   "source": [
    "##### Chinese movies from award-winning directors"
   ]
  },
  {
   "cell_type": "code",
   "execution_count": null,
   "id": "5735e7f9",
   "metadata": {},
   "outputs": [],
   "source": [
    "get_similarity_score(\n",
    "    movies=movies[movies.countries.str.contains('China')],\n",
    "    directors=directors.query('awardsWon > 50'),\n",
    ")"
   ]
  },
  {
   "cell_type": "code",
   "execution_count": null,
   "id": "60ec94fa",
   "metadata": {},
   "outputs": [],
   "source": [
    "G = get_genre_coexistence_graph(\n",
    "    movies=movies[movies.countries.str.contains('China')],\n",
    "    directors=directors.query('awardsWon > 50'),\n",
    ")\n",
    "layout = nx.circular_layout(G)\n",
    "draw_weighted_graph(G, layout, with_labels=True, normalize_wights=True)"
   ]
  },
  {
   "cell_type": "markdown",
   "id": "3cf3b518",
   "metadata": {},
   "source": [
    "##### Korean movies from award-winning directors"
   ]
  },
  {
   "cell_type": "code",
   "execution_count": null,
   "id": "0e569494",
   "metadata": {},
   "outputs": [],
   "source": [
    "get_similarity_score(\n",
    "    movies=movies[movies.countries.str.contains('Korea')],\n",
    "    directors=directors.query('awardsWon > 50'),\n",
    ")"
   ]
  },
  {
   "cell_type": "code",
   "execution_count": null,
   "id": "64d557fa",
   "metadata": {},
   "outputs": [],
   "source": [
    "G = get_genre_coexistence_graph(\n",
    "    movies=movies[movies.countries.str.contains('Korea')],\n",
    "    directors=directors.query('awardsWon > 50'),\n",
    ")\n",
    "layout = nx.circular_layout(G)\n",
    "draw_weighted_graph(G, layout, with_labels=True, normalize_wights=True)"
   ]
  },
  {
   "cell_type": "markdown",
   "id": "f94bc02e",
   "metadata": {},
   "source": [
    "### Genre-similarity of a set of directors"
   ]
  },
  {
   "cell_type": "code",
   "execution_count": null,
   "id": "0c791b44",
   "metadata": {},
   "outputs": [],
   "source": [
    "def get_similarity_graph(movies, directors, verbose: bool = True):\n",
    "    \"\"\"Creates a weighted graph of directors based on the similarity of their movie genres.\"\"\"\n",
    "\n",
    "    # Get the tripartite graph\n",
    "    movies = movies.dropna(subset='directors')\n",
    "    movies = movies[movies.directors.str.split(',').apply(lambda ds: any([d in directors.index for d in ds]))]\n",
    "    if verbose:\n",
    "        print(f'Considering movies of {len(directors)} directors.')\n",
    "        print(f'Considering {len(movies)} movies.')\n",
    "    B, nodes_movies, nodes_genres, nodes_directors = get_bipartite_graph(\n",
    "        movies=movies[movies.directors.str.split(',').apply(lambda ds: any([d in directors.index for d in ds]))],\n",
    "        genres=None,\n",
    "        directors=directors.index,\n",
    "    )\n",
    "\n",
    "    # Project the graph on genres (excluding the directors)\n",
    "    MG = nx.bipartite.projected_graph(B.subgraph(nodes_movies.union(nodes_genres)), nodes_movies, multigraph=True)\n",
    "\n",
    "    # Reduce multiple edges to a weighted edge\n",
    "    G = nx.Graph()\n",
    "    G.add_nodes_from(nodes_movies)\n",
    "    for u in nodes_movies:\n",
    "        for v in nodes_movies:\n",
    "            if u is v: continue\n",
    "            max_num_edges = min([n for _, n in B.subgraph(nodes=[u, v]).nodes(data='n_genres')])\n",
    "            w = MG.number_of_edges(u, v) / max_num_edges\n",
    "            G.add_edge(u, v, weight=w)\n",
    "\n",
    "    # Make multigraph and add director nodes\n",
    "    G = nx.MultiGraph(G)\n",
    "    G.add_nodes_from(nodes_directors)\n",
    "\n",
    "    # Remove movie nodes and create weighted edges between their directors\n",
    "    for d in nodes_directors:\n",
    "        for m in B[d].keys():\n",
    "            for v, atts in G[m].items():\n",
    "                # Continue if it's another movie of this director\n",
    "                if v in B[d]: continue\n",
    "                # Add the weighted edge otherwise\n",
    "                w = atts[0]['weight']\n",
    "                G.add_edge(d, v, weight=w)\n",
    "\n",
    "    # Create the director's graph and add weighted edges\n",
    "    D = nx.Graph()\n",
    "    D.add_nodes_from(nodes_directors)\n",
    "    for d1, d2 in [(d1, d2) for d1 in nodes_directors for d2 in nodes_directors]:\n",
    "        if d1 == d2:\n",
    "            continue\n",
    "        sum_edges = np.array(list(nx.get_edge_attributes(G.subgraph([d1, d2]), 'weight').values())).sum()\n",
    "        max_edges = len(B[d1]) * len(B[d2])\n",
    "        w = sum_edges / max_edges if max_edges else 0\n",
    "        D.add_edge(d1, d2, weight=w)\n",
    "\n",
    "    return D"
   ]
  },
  {
   "cell_type": "markdown",
   "id": "60beb5de",
   "metadata": {},
   "source": [
    "> Here, what we get is a fully-connected weighted graph, so basically a matrix. I'm not sure if it's a good idea to treat it as a graph."
   ]
  },
  {
   "cell_type": "code",
   "execution_count": null,
   "id": "db13834a",
   "metadata": {},
   "outputs": [],
   "source": [
    "def plot_adjacency_matrix(G, order = None):\n",
    "    mat = nx.adjacency_matrix(G)\n",
    "    if order is None:\n",
    "        order = range(mat.shape[0])\n",
    "    mat = mat[:, order][order].todense()\n",
    "    plt.matshow(mat)"
   ]
  },
  {
   "cell_type": "markdown",
   "id": "3b556c7a",
   "metadata": {},
   "source": [
    "#### Let's first look at the similarity between the most brilliant directors\n",
    "\n",
    "First, we do it for a few directors to get a sense"
   ]
  },
  {
   "cell_type": "code",
   "execution_count": null,
   "id": "212543bf",
   "metadata": {},
   "outputs": [],
   "source": [
    "D = get_similarity_graph(\n",
    "    movies=movies,\n",
    "    directors=directors.query('awardsWon > 120'),\n",
    ")\n",
    "\n",
    "if len(D.nodes) <= 40:\n",
    "    # Plot the graph\n",
    "    layout = nx.spring_layout(D)\n",
    "    labels = {n: directors.loc[n].primaryName for n in D.nodes}\n",
    "    draw_weighted_graph(D, layout=layout, normalize_wights=True, labels=labels, scale_edges=False, scale_nodes=False)"
   ]
  },
  {
   "cell_type": "markdown",
   "id": "5e6e3035",
   "metadata": {},
   "source": [
    "We can Look at the weighted degree centrality of these directors to find the legendary directors with unique styles:"
   ]
  },
  {
   "cell_type": "code",
   "execution_count": null,
   "id": "d1de5873",
   "metadata": {},
   "outputs": [],
   "source": [
    "df = pd.DataFrame(D.degree(weight='weight'), columns=['nconst', 'centrality']).sort_values(by='centrality')\n",
    "df.centrality = df.centrality / (len(df) - 1)\n",
    "df['name'] = df.nconst.apply(lambda nconst: directors.loc[nconst].primaryName)\n",
    "sns.barplot(df, x='centrality', y='name', color=PALETTE_D[1])"
   ]
  },
  {
   "cell_type": "markdown",
   "id": "8f354152",
   "metadata": {},
   "source": [
    "Now let's do that for more directors"
   ]
  },
  {
   "cell_type": "code",
   "execution_count": null,
   "id": "9d427318",
   "metadata": {},
   "outputs": [],
   "source": [
    "D = get_similarity_graph(\n",
    "    movies=movies,\n",
    "    directors=directors.query('awardsWon > 50'),\n",
    ")\n",
    "df = pd.DataFrame(D.degree(weight='weight'), columns=['nconst', 'centrality']).sort_values(by='centrality', ascending=False)\n",
    "df.centrality = df.centrality / (len(df) - 1)\n",
    "df['name'] = df.nconst.apply(lambda nconst: directors.loc[nconst].primaryName)\n",
    "fig, ax = plt.subplots(1, 1, figsize=(20, 6))\n",
    "sns.barplot(df, y='centrality', x='name', color='#32a852', ax=ax)\n",
    "plt.xticks(rotation=90)\n",
    "plt.tight_layout()"
   ]
  },
  {
   "cell_type": "code",
   "execution_count": null,
   "id": "aa360555",
   "metadata": {},
   "outputs": [],
   "source": [
    "D = get_similarity_graph(\n",
    "    movies=movies,\n",
    "    directors=directors.query('awardsNominated > 120'),\n",
    ")\n",
    "df = pd.DataFrame(D.degree(weight='weight'), columns=['nconst', 'centrality']).sort_values(by='centrality', ascending=False)\n",
    "df.centrality = df.centrality / (len(df) - 1)\n",
    "df['name'] = df.nconst.apply(lambda nconst: directors.loc[nconst].primaryName)\n",
    "fig, ax = plt.subplots(1, 1, figsize=(20, 6))\n",
    "sns.barplot(df, y='centrality', x='name', color=PALETTE_D[1], ax=ax)\n",
    "plt.xticks(rotation=90)\n",
    "plt.tight_layout()"
   ]
  },
  {
   "cell_type": "markdown",
   "id": "24ff630d",
   "metadata": {},
   "source": [
    "#### Now let's do that considering only directors with popular movies"
   ]
  },
  {
   "cell_type": "code",
   "execution_count": null,
   "id": "ca7b11a3",
   "metadata": {},
   "outputs": [],
   "source": [
    "_directors = []\n",
    "movies.query('votes > 500_000').directors.str.split(',').apply(lambda x: _directors.extend(x))\n",
    "D = get_similarity_graph(\n",
    "    movies=movies,\n",
    "    directors=directors.loc[list(set(_directors))],\n",
    ")\n",
    "df = pd.DataFrame(D.degree(weight='weight'), columns=['nconst', 'centrality']).sort_values(by='centrality', ascending=False)\n",
    "df.centrality = df.centrality / (len(df) - 1)\n",
    "df['name'] = df.nconst.apply(lambda nconst: directors.loc[nconst].primaryName)\n",
    "fig, ax = plt.subplots(1, 1, figsize=(20, 6))\n",
    "sns.barplot(df, y='centrality', x='name', color=PALETTE_D[1], ax=ax)\n",
    "plt.xticks(rotation=90)\n",
    "plt.tight_layout()"
   ]
  },
  {
   "cell_type": "markdown",
   "id": "17cb40c0",
   "metadata": {},
   "source": [
    "Same plot as above, but considering only the popular movies of these directors:"
   ]
  },
  {
   "cell_type": "code",
   "execution_count": null,
   "id": "b8ce76c6",
   "metadata": {},
   "outputs": [],
   "source": [
    "_directors = []\n",
    "movies.query('votes > 500_000').directors.str.split(',').apply(lambda x: _directors.extend(x))\n",
    "D = get_similarity_graph(\n",
    "    movies=movies.query('votes > 500_000'),\n",
    "    directors=directors.loc[list(set(_directors))],\n",
    ")\n",
    "df = pd.DataFrame(D.degree(weight='weight'), columns=['nconst', 'centrality']).sort_values(by='centrality', ascending=False)\n",
    "df.centrality = df.centrality / (len(df) - 1)\n",
    "df['name'] = df.nconst.apply(lambda nconst: directors.loc[nconst].primaryName)\n",
    "fig, ax = plt.subplots(1, 1, figsize=(20, 6))\n",
    "sns.barplot(df, y='centrality', x='name', color=PALETTE_D[1], ax=ax)\n",
    "plt.xticks(rotation=90)\n",
    "plt.tight_layout()"
   ]
  },
  {
   "cell_type": "markdown",
   "id": "f6d0ae7c",
   "metadata": {},
   "source": [
    "#### Now let's consider a larger group of successful directors and find clusters within them"
   ]
  },
  {
   "cell_type": "code",
   "execution_count": null,
   "id": "6d17e0af",
   "metadata": {},
   "outputs": [],
   "source": [
    "D = get_similarity_graph(\n",
    "    movies=movies,\n",
    "    directors=directors[directors['rate-8.0'] > 1],\n",
    ")\n",
    "\n",
    "adjacency_data = {}\n",
    "for idx, n in enumerate(nx.adjacency_data(D)['nodes']):\n",
    "    adjacency_data[n['id']] = idx"
   ]
  },
  {
   "cell_type": "markdown",
   "id": "0ad12b4d",
   "metadata": {},
   "source": [
    "Let's try different clustering algorithms and evaluate their performance:"
   ]
  },
  {
   "cell_type": "code",
   "execution_count": null,
   "id": "a018772e",
   "metadata": {},
   "outputs": [],
   "source": [
    "# Louvain clustering from sknetwork\n",
    "\n",
    "clustering = skn.clustering.Louvain(resolution=1, shuffle_nodes=True, sort_clusters=True)\n",
    "labels = clustering.fit_predict(nx.to_numpy_array(D))\n",
    "order = np.concatenate([np.where(labels == label)[0] for label in range(max(labels)+1)])\n",
    "plot_adjacency_matrix(D, order=order)\n",
    "\n",
    "for label in range(max(labels)+1):\n",
    "    idx = np.where(labels == label)[0]\n",
    "    nodes = [n for n, i in adjacency_data.items() if i in idx]\n",
    "    score = get_similarity_score(movies=movies, directors=directors.loc[nodes], verbose=False)\n",
    "    print(f'Similarity score of community {label}: {score:.4f}')"
   ]
  },
  {
   "cell_type": "code",
   "execution_count": null,
   "id": "80da904d",
   "metadata": {},
   "outputs": [],
   "source": [
    "# Modularity communities from Networkx\n",
    "\n",
    "coms = nx.community.greedy_modularity_communities(D, weight='weight')\n",
    "plot_adjacency_matrix(D, order=np.array([adjacency_data[n] for com in coms for n in com]))\n",
    "\n",
    "for idx, nodes in enumerate(coms):\n",
    "    score = get_similarity_score(movies=movies, directors=directors.loc[nodes], verbose=False)\n",
    "    print(f'Similarity score of community {idx}: {score:.4f}')"
   ]
  },
  {
   "cell_type": "code",
   "execution_count": null,
   "id": "152277cb",
   "metadata": {},
   "outputs": [],
   "source": [
    "# Louvain communities from Networkx\n",
    "\n",
    "coms = nx.community.louvain_communities(D, weight='weight')\n",
    "plot_adjacency_matrix(D, order=np.array([adjacency_data[n] for com in coms for n in com]))\n",
    "\n",
    "for idx, nodes in enumerate(coms):\n",
    "    score = get_similarity_score(movies=movies, directors=directors.loc[list(nodes)], verbose=False)\n",
    "    print(f'Similarity score of community {idx}: {score:.4f}')"
   ]
  },
  {
   "cell_type": "markdown",
   "id": "51076c8d",
   "metadata": {},
   "source": [
    "Louvain clustering from both libraries performs similarly and the best for our graph.\n",
    "\n",
    "Now that we have some clusters, let's look at the names and styles in these clusters."
   ]
  },
  {
   "cell_type": "code",
   "execution_count": null,
   "id": "9050ddf8",
   "metadata": {},
   "outputs": [],
   "source": [
    "coms = nx.community.louvain_communities(D, weight='weight')"
   ]
  },
  {
   "cell_type": "code",
   "execution_count": null,
   "id": "c27ba0a6",
   "metadata": {},
   "outputs": [],
   "source": [
    "for idx, com in enumerate(coms):\n",
    "    community = directors.loc[list(com)].sort_values(by='avg-3', ascending=False)\n",
    "    display(community.head(5))\n",
    "    G_genres = get_genre_coexistence_graph(movies=movies, directors=community, verbose=False)\n",
    "    layout = nx.circular_layout(G_genres)\n",
    "    draw_weighted_graph(G_genres, layout=layout, with_labels=True, normalize_wights=True)\n",
    "    # plt.title(f'Community {idx}: {community[0].primaryName}')"
   ]
  },
  {
   "cell_type": "markdown",
   "id": "5387c082",
   "metadata": {},
   "source": [
    "Let's do the same thing for award-winning directors:"
   ]
  },
  {
   "cell_type": "code",
   "execution_count": null,
   "id": "30fa9b0f",
   "metadata": {},
   "outputs": [],
   "source": [
    "D = get_similarity_graph(\n",
    "    movies=movies,\n",
    "    directors=directors[directors['awardsWon'] > 20],\n",
    ")\n",
    "\n",
    "coms = nx.community.louvain_communities(D, weight='weight')\n",
    "\n",
    "for idx, com in enumerate(coms):\n",
    "    community = directors.loc[list(com)].sort_values(by='awardsWon', ascending=False)\n",
    "    display(community.head(5))\n",
    "    G_genres = get_genre_coexistence_graph(movies=movies, directors=community, verbose=False)\n",
    "    layout = nx.circular_layout(G_genres)\n",
    "    draw_weighted_graph(G_genres, layout=layout, with_labels=True, normalize_wights=True)\n",
    "    # plt.title(f'Community {idx}: {community[0].primaryName}')"
   ]
  },
  {
   "cell_type": "markdown",
   "id": "b7ba42b8",
   "metadata": {},
   "source": [
    "And for directors with average score more than 30:"
   ]
  },
  {
   "cell_type": "code",
   "execution_count": null,
   "id": "60a276db",
   "metadata": {},
   "outputs": [],
   "source": [
    "D = get_similarity_graph(\n",
    "    movies=movies,\n",
    "    directors=directors[directors['avg-3'] > 35],\n",
    ")\n",
    "\n",
    "coms = nx.community.louvain_communities(D, weight='weight')\n",
    "\n",
    "for idx, com in enumerate(coms):\n",
    "    community = directors.loc[list(com)].sort_values(by='avg-3', ascending=False)\n",
    "    display(community.head(5))\n",
    "    G_genres = get_genre_coexistence_graph(movies=movies, directors=community, verbose=False)\n",
    "    layout = nx.circular_layout(G_genres)\n",
    "    draw_weighted_graph(G_genres, layout=layout, with_labels=True, normalize_wights=True)\n",
    "    # plt.title(f'Community {idx}: {community[0].primaryName}')"
   ]
  },
  {
   "cell_type": "markdown",
   "id": "078b54d1",
   "metadata": {},
   "source": [
    "<a class=\"anchor\" id=\"third\"></a>\n",
    "\n",
    "# Q3: What is the impact of the director’s character choices on the success of the movie?\n",
    "\n",
    "[Back to Table of Contents](#Contents)"
   ]
  },
  {
   "cell_type": "code",
   "execution_count": null,
   "id": "6eb95361",
   "metadata": {},
   "outputs": [],
   "source": [
    "import pandas as pd\n",
    "import numpy as np\n",
    "import seaborn as sns\n",
    "import matplotlib.pyplot as plt\n",
    "import os\n",
    "from scipy.stats import entropy\n",
    "import copy\n",
    "import statsmodels.api as sm\n",
    "import statsmodels.formula.api as smf\n",
    "import networkx as nx\n",
    "from tqdm import tqdm\n",
    "\n",
    "from helpers.readers import read_dataframe"
   ]
  },
  {
   "cell_type": "code",
   "execution_count": null,
   "id": "1ae07d92",
   "metadata": {},
   "outputs": [],
   "source": [
    "movies = read_dataframe_parquet(\"movie/scores\")\n",
    "directors = read_dataframe_parquet(\"movie/directors\")"
   ]
  },
  {
   "cell_type": "markdown",
   "id": "ab07e00c",
   "metadata": {},
   "source": [
    "<a class=\"anchor\" id=\"thirdone\"></a>\n",
    "## 3.1 What types of characters do successful directors choose ? \n",
    "\n",
    "[Back to Table of Contents](#Contents)\n",
    "\n",
    "First, we need to establish a metric to measure movie sucess, and based one it we can assess director success. Drawing upon past exploration and the definition of director success, we can generate the following dataframe containing success scores for directors."
   ]
  },
  {
   "cell_type": "code",
   "execution_count": null,
   "id": "26505692",
   "metadata": {},
   "outputs": [],
   "source": [
    "directors_with_score=copy.deepcopy(directors)\n",
    "# Get the directors information for the directors who has chracter type information\n",
    "directors_with_score=pd.merge(character_movie_directors_ori, directors_with_score, left_on='directors', right_on='nconst', how='left')\n",
    "directors_with_score=directors_with_score.drop(['primaryProfession', 'knownForTitles','Wikipedia movie ID', 'Freebase movie ID', 'Movie name',\n",
    "       'Character name', 'tconst', 'freebase', 'imdb', 'movieid_charactername', 'topic', 'topic_dist'], axis=1)\n",
    "directors_with_score=directors_with_score.drop_duplicates(subset=['directors']).reset_index(drop=True)\n",
    "display(directors_with_score.head())\n",
    "print('There are {} directors in the dataset'.format(len(directors_with_score)))"
   ]
  },
  {
   "cell_type": "code",
   "execution_count": null,
   "id": "44170ee9",
   "metadata": {},
   "outputs": [],
   "source": [
    "character_movie_directors=copy.deepcopy(character_movie_directors_ori)\n",
    "# Add primaryName to character_movie_directors\n",
    "character_movie_directors = character_movie_directors.merge(directors_with_score[['directors', 'primaryName']], left_on='directors', right_on='directors', how='left')\n",
    "character_movie_directors=character_movie_directors.drop(['imdb','freebase'],axis=1)\n",
    "display(character_movie_directors.head())\n",
    "print('There are {} chractors with chractor types in the dataset'.format(len(character_movie_directors)))"
   ]
  },
  {
   "cell_type": "code",
   "execution_count": null,
   "id": "664571d1",
   "metadata": {},
   "outputs": [],
   "source": [
    "directors_with_score.sort_values(by='avg-3', ascending=False)[:10]"
   ]
  },
  {
   "cell_type": "markdown",
   "id": "fde7b14a",
   "metadata": {},
   "source": [
    "Let's have a look of the score distribution of directors"
   ]
  },
  {
   "cell_type": "code",
   "execution_count": null,
   "id": "d14c7fb9",
   "metadata": {},
   "outputs": [],
   "source": [
    "directors_with_score['avg-3'].plot.hist(bins=20)\n",
    "plt.xlabel('Score')\n",
    "plt.ylabel('Number of directors')\n",
    "plt.title('Distribution of score for directors')\n",
    "plt.show()\n"
   ]
  },
  {
   "cell_type": "code",
   "execution_count": null,
   "id": "d2b93ad6",
   "metadata": {},
   "outputs": [],
   "source": [
    "chractor_with_director_with_score=pd.merge(character_movie_directors, directors_with_score, left_on=['directors','primaryName'], right_on=['directors','primaryName'], how='left')\n",
    "chractor_with_director_with_score=chractor_with_director_with_score[['directors','primaryName','avg-3','avg-5','Movie name','Character name','movieid_charactername','topic']]\n",
    "display(chractor_with_director_with_score.head())"
   ]
  },
  {
   "cell_type": "code",
   "execution_count": null,
   "id": "3ac9379d",
   "metadata": {},
   "outputs": [],
   "source": [
    "# Check missing value for score, on column avg-3\n",
    "print('There are {} missing value when using score avg-3'.format(directors_with_score['avg-3'].isnull().sum()))\n",
    "print('There are {} missing value when using score avg-5'.format(directors_with_score['avg-5'].isnull().sum()))\n"
   ]
  },
  {
   "cell_type": "markdown",
   "id": "a082cad6",
   "metadata": {},
   "source": [
    "In the earlier examination of director success scores, it was noted that both avg-3 and avg-5 exhibit robustness. Since avg-3 has fewer missing values, it will be employed as the score for assessing the success of directors."
   ]
  },
  {
   "cell_type": "code",
   "execution_count": null,
   "id": "0ae56bed",
   "metadata": {},
   "outputs": [],
   "source": [
    "#Create a new dataframe with director name, score, a list of 'Character name', and corresponding chractor topics to show the chractor choice of success directors\n",
    "chractor_director_score=chractor_with_director_with_score.groupby(['directors','primaryName','avg-3'])[['Character name','topic']].agg(lambda x: list(x)).reset_index()\n",
    "chractor_director_score=chractor_director_score.sort_values(by='avg-3', ascending=False).reset_index(drop=True)\n",
    "display(chractor_director_score.head())"
   ]
  },
  {
   "cell_type": "code",
   "execution_count": null,
   "id": "78adda5a",
   "metadata": {},
   "outputs": [],
   "source": [
    "director_topic=chractor_director_score[['primaryName','topic']].reset_index(drop=True)"
   ]
  },
  {
   "cell_type": "markdown",
   "id": "c9fb577e",
   "metadata": {},
   "source": [
    "Before checking out successful directors, let's first see the distribution of character types chosen by all directors."
   ]
  },
  {
   "cell_type": "code",
   "execution_count": null,
   "id": "96c3cf87",
   "metadata": {},
   "outputs": [],
   "source": [
    "# Get the most frequenct n topics of top n directors\n",
    "def get_topn_topic(n_director=10, n_topic=50):\n",
    "    if n_director>len(director_topic):\n",
    "        print('The number of directors is less than the number of directors you want to get, please input a smaller number')\n",
    "        return\n",
    "    elif n_director==0:\n",
    "        n_director=len(director_topic)\n",
    "    topic_list=[]\n",
    "    for i in range(n_director):\n",
    "        topic_list.extend(director_topic['topic'][i])\n",
    "    topic_list=pd.Series(topic_list)\n",
    "    topn_topic=topic_list.value_counts()[:n_topic].index.tolist()\n",
    "    topic_dist=topic_list.value_counts()[:n_topic].values.tolist()\n",
    "    return topn_topic, topic_dist"
   ]
  },
  {
   "cell_type": "code",
   "execution_count": null,
   "id": "86ec3d81",
   "metadata": {},
   "outputs": [],
   "source": [
    "# Visualize the topic distribution for all directors\n",
    "topn_topicn,topic_dist=get_topn_topic(n_director=0, n_topic=50)\n",
    "\n",
    "plt.figure(figsize=(15,5))\n",
    "plt.bar(topn_topicn, topic_dist)\n",
    "plt.xlabel('Charcter type')\n",
    "plt.ylabel('Number of directors')\n",
    "plt.title('Charcter type distribution of the top 10 directors')\n",
    "plt.xticks(topn_topicn)\n",
    "plt.show()"
   ]
  },
  {
   "cell_type": "code",
   "execution_count": null,
   "id": "bc2adb94",
   "metadata": {},
   "outputs": [],
   "source": [
    "def print_topn_directors_topics(n=10):\n",
    "    for i in range(n):\n",
    "        print('{}: {}'.format(director_topic['primaryName'][i], sorted(set(pd.Series(director_topic['topic'][i]).unique()))))\n",
    "print('Top 10 directors and their choice of chracters:')\n",
    "print_topn_directors_topics(n=10)"
   ]
  },
  {
   "cell_type": "code",
   "execution_count": null,
   "id": "475978c3",
   "metadata": {},
   "outputs": [],
   "source": [
    "director_topic_top10=director_topic[:10]\n",
    "matrix = np.zeros((10, 50))\n",
    "directors_name=director_topic_top10['primaryName'].tolist()\n",
    "\n",
    "for i, row in director_topic_top10.iterrows():\n",
    "    for character in row['topic']:\n",
    "        matrix[i, character] +=1\n",
    "\n",
    "# Create a heatmap\n",
    "plt.figure(figsize=(12, 8))\n",
    "sns.heatmap(matrix, cmap='viridis', cbar_kws={'label': 'Chosen times'})\n",
    "plt.xlabel('Chracter type')\n",
    "plt.ylabel('Director')\n",
    "plt.yticks(np.arange(0.5, 10.5), directors_name, rotation=0)\n",
    "plt.title('Director Character Choices Heatmap')\n",
    "plt.show()"
   ]
  },
  {
   "cell_type": "markdown",
   "id": "59c0abf3",
   "metadata": {},
   "source": [
    "We can observe that most of top10 directors they worked with various types of chractors. Let's have a closer look with it."
   ]
  },
  {
   "cell_type": "code",
   "execution_count": null,
   "id": "58cabc24",
   "metadata": {},
   "outputs": [],
   "source": [
    "# Get the data frame for the top 10 words of topics of the LDA model we used for chractor type annotation\n",
    "lda_topic_words = pd.read_csv(os.path.join(DATA_PATH_GENERATED, 'annotations_2023/topic_top_words.txt'), sep=\":\", header=None, names=['topic', 'top_words'])\n",
    "lda_topic_words['topic']=lda_topic_words['topic'].str.replace('Topic ', '')\n",
    "# display(lda_topic_words.head())"
   ]
  },
  {
   "cell_type": "code",
   "execution_count": null,
   "id": "caaafba4",
   "metadata": {},
   "outputs": [],
   "source": [
    "topn_topicn,_=get_topn_topic(n_director=10, n_topic=5)\n",
    "print('The top 5 topics of the top 10 directors are: {}\\n'.format(topn_topicn))\n",
    "print('Following are the top 10 wrods of each topic:')\n",
    "for i in topn_topicn:\n",
    "    print('Topic {}: {}'.format(i, lda_topic_words[lda_topic_words['topic']==str(i)]['top_words'].values[0]))"
   ]
  },
  {
   "cell_type": "code",
   "execution_count": null,
   "id": "ec640e08",
   "metadata": {},
   "outputs": [],
   "source": [
    "# Visualize the topic distribution of the top 10 directors\n",
    "topn_topicn,topic_dist=get_topn_topic(n_director=10, n_topic=50)\n",
    "\n",
    "plt.figure(figsize=(15,5))\n",
    "plt.bar(topn_topicn, topic_dist)\n",
    "plt.xlabel('Chracter type')\n",
    "plt.ylabel('Number of directors')\n",
    "plt.title('Chracter type distribution of the top 10 directors')\n",
    "plt.xticks(topn_topicn)\n",
    "plt.show()"
   ]
  },
  {
   "cell_type": "markdown",
   "id": "71bb3f20",
   "metadata": {},
   "source": [
    "<a class=\"anchor\" id=\"thirdsecond\"></a>\n",
    "## 3.2 How diverse the directors are in their character choices ? \n",
    "\n",
    "[Back to Table of Contents](#Contents)"
   ]
  },
  {
   "cell_type": "code",
   "execution_count": null,
   "id": "4b071b8c",
   "metadata": {},
   "outputs": [],
   "source": [
    "# Group by directors\n",
    "directors_group = character_movie_directors.groupby('directors').agg({'Wikipedia movie ID': lambda x: list(x), 'Freebase movie ID': lambda x: list(x), 'Movie name': lambda x: list(x), 'Character name': lambda x: list(x), 'topic': lambda x: list(x), 'tconst': lambda x: list(x),'primaryName':lambda x: list(x)})\n",
    "# character_movie_directors_group.head(3)\n",
    "print('There are {} unique directors who has the chracter type information'.format(directors_group.shape[0]))"
   ]
  },
  {
   "cell_type": "code",
   "execution_count": null,
   "id": "eec71b1c",
   "metadata": {},
   "outputs": [],
   "source": [
    "# Calculate the number of unique characters for each director\n",
    "unique_characters = character_movie_directors.groupby('directors')['topic'].nunique()\n",
    "\n",
    "# Count the number of directors for each unique number of characters\n",
    "directors_by_unique_count = unique_characters.value_counts()\n",
    "\n",
    "# Group together directors with more than 10 unique characters\n",
    "threshold = 10\n",
    "large_counts = directors_by_unique_count[directors_by_unique_count.index >= threshold]\n",
    "directors_by_unique_count = directors_by_unique_count.drop(large_counts.index)\n",
    "directors_by_unique_count[f'>= {threshold}'] = large_counts.sum()\n",
    "\n",
    "# Create a pie chart to show the distribution with a custom color map\n",
    "labels = directors_by_unique_count.index.astype(str)\n",
    "sizes = directors_by_unique_count.values\n",
    "colors = plt.cm.tab10(range(len(labels)))\n",
    "\n",
    "plt.figure(figsize=(14, 14))\n",
    "plt.pie(sizes, labels=labels, colors=colors, autopct='%1.1f%%', startangle=140)\n",
    "plt.title('Distribution of Directors by Number of Unique Characters he/she worked with')\n",
    "plt.show()"
   ]
  },
  {
   "cell_type": "markdown",
   "id": "018e9631",
   "metadata": {},
   "source": [
    "Let's have a close look of ten directors with the highest diversity"
   ]
  },
  {
   "cell_type": "code",
   "execution_count": null,
   "id": "cf81e2bb",
   "metadata": {},
   "outputs": [],
   "source": [
    "# Calculate the number of unique characters for each director\n",
    "unique_characters = character_movie_directors.groupby('directors')['topic'].nunique()\n",
    "\n",
    "# Map director IDs to corresponding 'primaryName'\n",
    "directors_mapping = character_movie_directors.set_index('directors')['primaryName'].to_dict()\n",
    "unique_characters.index = unique_characters.index.map(directors_mapping)\n",
    "\n",
    "# Sort directors based on diversity\n",
    "sorted_directors = unique_characters.sort_values()\n",
    "\n",
    "# Visualize the ten directors with the highest diversity\n",
    "plt.figure(figsize=(12, 6))\n",
    "sorted_directors.tail(10).plot(kind='barh', color='skyblue')\n",
    "plt.title('Top 10 Directors with Highest Diversity')\n",
    "plt.xlabel('Number of Unique Characters')\n",
    "plt.ylabel('Director')\n",
    "plt.show()"
   ]
  },
  {
   "cell_type": "markdown",
   "id": "6f28ab10",
   "metadata": {},
   "source": [
    "From the above pie chart, we can observe that almost half of the directors only worked with one or two chractor type. However, using this method to define the diversity of directors' chatacter choices  might be subject to the influence of the total number of movies each director has undertaken. To achieve a more precise quantification of the diversity in directors' character choices, we need a more refined quantitative method.\n",
    "\n",
    "#### Quantify diversity\n",
    "For quantify diversity, we calculate the Shannon diversity index with normalization for each director based on the distribution of chracter types in their movies. Higher entropy values indicate grater diversity."
   ]
  },
  {
   "cell_type": "code",
   "execution_count": null,
   "id": "c559a9f5",
   "metadata": {},
   "outputs": [],
   "source": [
    "# Calculate the Shannon Diversity Index with normalization by the number of chractors\n",
    "director_diversity = character_movie_directors.groupby('directors')['topic'].apply(lambda x: entropy(pd.Series(x).value_counts() / len(x)))"
   ]
  },
  {
   "cell_type": "code",
   "execution_count": null,
   "id": "83f18dc0",
   "metadata": {},
   "outputs": [],
   "source": [
    "# Visualize the ten directors with the highest diversity\n",
    "\n",
    "# Map director IDs to corresponding 'primaryName'\n",
    "director_diversity_map=copy.deepcopy(director_diversity)\n",
    "director_diversity_map.index = director_diversity_map.index.map(directors_mapping)\n",
    "\n",
    "# Sort directors based on diversity\n",
    "sorted_director_diversity = director_diversity_map.sort_values()\n",
    "\n",
    "plt.figure(figsize=(12, 6))\n",
    "sorted_director_diversity.tail(10).plot(kind='barh', color='skyblue')\n",
    "plt.title('Top 10 Directors with Highest Diversity Score')\n",
    "plt.xlabel('Diversity score')\n",
    "plt.ylabel('Director')\n",
    "plt.show()"
   ]
  },
  {
   "cell_type": "code",
   "execution_count": null,
   "id": "a813c687",
   "metadata": {},
   "outputs": [],
   "source": [
    "color_category={'0': 'tab:orange', '0.00-1.00': 'tab:green', '1.00-2.00': 'tab:blue', '2.00-3.00': 'tab:red', '3.00-4.00': 'tab:purple'}"
   ]
  },
  {
   "cell_type": "code",
   "execution_count": null,
   "id": "89fc5761",
   "metadata": {},
   "outputs": [],
   "source": [
    "# Create a pie chart to show the distribution of diversity scores\n",
    "\n",
    "# Define bins for categorizing diversity scores\n",
    "bins = [-1e-10, 1e-10, 1, 2, 3, 4] \n",
    "\n",
    "# Categorize directors based on diversity scores\n",
    "diversity_categories = pd.cut(sorted_director_diversity, bins=bins, include_lowest=True)\n",
    "\n",
    "# Calculate the percentage of directors in each category\n",
    "percentage_by_category = diversity_categories.value_counts(normalize=False) * 100\n",
    "\n",
    "labels = [f'{category.left:.2f}-{category.right:.2f}' if category.left > 0 else '0' for category in percentage_by_category.index]\n",
    "sizes = percentage_by_category.values\n",
    "# Assigning colors based on categories\n",
    "colors = [color_category[label] for label in labels]\n",
    "\n",
    "plt.figure(figsize=(8, 8))\n",
    "plt.pie(sizes, labels=labels, colors=colors, autopct='%1.1f%%', startangle=140)\n",
    "plt.title('Distribution of Directors by calculating Shannon diversity index')\n",
    "plt.show()"
   ]
  },
  {
   "cell_type": "markdown",
   "id": "85a8f49d",
   "metadata": {},
   "source": [
    "Based on the information presented in the pie chart, it is evident that 32.6% of directors exhibit a diversity score falling within the 1-2 range. Additionally, 31.6% of directors possess a diversity score of 0, indicating that their works predominantly feature a single character type. It's worth noting that this might be influenced by the limitations of the plot data available from CMU, as not all movies and characters have sufficient information to determine character types accurately. In the 0-1 range, 20.1% of directors fall into this category, while 13.8% fall within the 2-3 range. Notably, only 1.9% of directors attain a score of 3-4, indicating a higher diversity of character types in their works.\n",
    "\n",
    "<a class=\"anchor\" id=\"thirdthird\"></a>\n",
    "## 3.3 Can we find very successful directors that always use the same type of characters or others that vary a lot in their personas choices ?\n",
    "\n",
    "[Back to Table of Contents](#Contents)"
   ]
  },
  {
   "cell_type": "code",
   "execution_count": null,
   "id": "cbfb56a4",
   "metadata": {},
   "outputs": [],
   "source": [
    "director_with_diversescore=pd.merge(pd.DataFrame(director_diversity.reset_index()), directors_with_score, how='left', left_on='directors', right_on='directors')\n",
    "director_with_diversescore.rename(columns={'topic':'diversity_score'}, inplace=True)\n",
    "director_with_diversescore.sort_values(by='avg-3', ascending=False, inplace=True)\n",
    "display(director_with_diversescore.head())"
   ]
  },
  {
   "cell_type": "code",
   "execution_count": null,
   "id": "31275ca0",
   "metadata": {},
   "outputs": [],
   "source": [
    "def get_topn_directors_diversityscore(n=10):\n",
    "    return director_with_diversescore[:n].sort_values(by='avg-3')"
   ]
  },
  {
   "cell_type": "code",
   "execution_count": null,
   "id": "1c18b1d5",
   "metadata": {},
   "outputs": [],
   "source": [
    "# Visualize the top ten most \"success\" directors with their diversity score\n",
    "plt.figure(figsize=(12, 6))\n",
    "director_with_diversescore_10=get_topn_directors_diversityscore(n=10)\n",
    "director_with_diversescore_10.tail(10).plot(kind='barh', x='primaryName', y='diversity_score', color='skyblue', legend=False)\n",
    "plt.title('Top 10 sucess Directors with Diversity Score')\n",
    "plt.xlabel('Diversity score')\n",
    "plt.ylabel('Director')\n",
    "plt.show()"
   ]
  },
  {
   "cell_type": "code",
   "execution_count": null,
   "id": "fb11a17f",
   "metadata": {},
   "outputs": [],
   "source": [
    "# Categorize directors based on diversity scores\n",
    "bins = [-1e-10, 1e-10, 1, 2, 3, 4] \n",
    "success_diversity_categories = pd.cut(director_diversity, bins=bins, include_lowest=True)\n",
    "\n",
    "# Create a pie chart to show the distribution of diversity scores of top 10 success directors\n",
    "percentage_by_category_10 = success_diversity_categories[director_with_diversescore_10.directors].value_counts(normalize=False) * 100\n",
    "percentage_by_category_10=percentage_by_category_10[percentage_by_category_10!=0]\n",
    "labels = [f'{category.left:.2f}-{category.right:.2f}' if category.left > 0 else '0' for category in percentage_by_category_10.index]\n",
    "sizes = percentage_by_category_10.values\n",
    "# Assigning colors based on categories\n",
    "colors = [color_category[label] for label in labels]\n",
    "\n",
    "plt.figure(figsize=(8, 8))\n",
    "plt.pie(sizes, labels=labels, colors=colors, autopct='%1.1f%%', startangle=140)\n",
    "plt.title('Distribution of diversity scores of top 10 success directors')\n",
    "plt.show()\n",
    "\n"
   ]
  },
  {
   "cell_type": "markdown",
   "id": "a14aa9de",
   "metadata": {},
   "source": [
    "Most successful directors seem to have a diversity score falling between 3 and 4, indicating a high diversity of personas in their movies. Let's explore this further by examining the top 20 successful directors."
   ]
  },
  {
   "cell_type": "code",
   "execution_count": null,
   "id": "944fbf2e",
   "metadata": {},
   "outputs": [],
   "source": [
    "# Create a pie chart to show the distribution of diversity scores of top 20 success directors\n",
    "director_with_diversescore_20=get_topn_directors_diversityscore(n=20)\n",
    "percentage_by_category_20 = success_diversity_categories[director_with_diversescore_20.directors].value_counts(normalize=False) * 100\n",
    "percentage_by_category_20=percentage_by_category_20[percentage_by_category_20!=0]\n",
    "labels = [f'{category.left:.2f}-{category.right:.2f}' if category.left > 0 else '0' for category in percentage_by_category_20.index]\n",
    "sizes = percentage_by_category_20.values\n",
    "# Assigning colors based on categories\n",
    "colors = [color_category[label] for label in labels]\n",
    "\n",
    "plt.figure(figsize=(8, 8))\n",
    "plt.pie(sizes, labels=labels, colors=colors, autopct='%1.1f%%', startangle=140)\n",
    "plt.title('Distribution of diversity scores of top 20 success directors')\n",
    "plt.show()"
   ]
  },
  {
   "cell_type": "markdown",
   "id": "523e3309",
   "metadata": {},
   "source": [
    "We can observe that the distribution of lower diversity score boecome larger. Let's see more."
   ]
  },
  {
   "cell_type": "code",
   "execution_count": null,
   "id": "31ea7d86",
   "metadata": {},
   "outputs": [],
   "source": [
    "plt.figure(figsize=(20, 20))\n",
    "\n",
    "for i in range(1,17):\n",
    "    number=i*100\n",
    "    director_with_diversescore_n=get_topn_directors_diversityscore(n=number)\n",
    "    percentage_by_category_n = success_diversity_categories[director_with_diversescore_n.directors].value_counts(normalize=False) * 100\n",
    "    percentage_by_category_n=percentage_by_category_n[percentage_by_category_n!=0]\n",
    "    labels = [f'{category.left:.2f}-{category.right:.2f}' if category.left > 0 else '0' for category in percentage_by_category_n.index]\n",
    "    sizes = percentage_by_category_n.values\n",
    "    # Assigning colors based on categories\n",
    "    colors = [color_category[label] for label in labels]\n",
    "\n",
    "    plt.subplot(4,4,i)\n",
    "    plt.pie(sizes, labels=labels, colors=colors, autopct='%1.1f%%', startangle=140)\n",
    "    plt.title('Top {} success directors'.format(number))\n",
    "plt.show()"
   ]
  },
  {
   "cell_type": "markdown",
   "id": "7f5d4f28",
   "metadata": {},
   "source": [
    "Here, we notice that as more top successful directors are included, the distribution of high diversity scores decreases. This prompts the question: is there a correlation between the diversity of character types and the success of directors? "
   ]
  },
  {
   "cell_type": "code",
   "execution_count": null,
   "id": "5425447c",
   "metadata": {},
   "outputs": [],
   "source": [
    "#rename the columns\n",
    "director_with_diversescore.rename(columns={'avg-3':'director_score'}, inplace=True)"
   ]
  },
  {
   "cell_type": "code",
   "execution_count": null,
   "id": "6b1b9a17",
   "metadata": {},
   "outputs": [],
   "source": [
    "# Declares a linear regression model\n",
    "model = smf.ols(formula='director_score ~ diversity_score', data=director_with_diversescore).fit()\n",
    "\n",
    "# Print the regression summary\n",
    "print(model.summary())"
   ]
  },
  {
   "cell_type": "markdown",
   "id": "553b15a4",
   "metadata": {},
   "source": [
    "Let's examine some key findings derived from the analysis. Firstly, the coefficient for diversity_score is 5.3351, indicating that with each unit increase in the diversity score, we anticipate an approximate 5.33-point rise in the director score. Essentially, this implies a positive correlation between the director score and the diversity score. Secondly, the p-value associated with the coefficient is <0.05. This indicates that, within the framework of this model, the coefficients are statistically significant, signifying that the diversity score is indeed valuable in predicting the director score.\n",
    "\n",
    "<a class=\"anchor\" id=\"thirdfourth\"></a>\n",
    "## 3.4 In definitive, how does this impact the movie’s success ?\n",
    "\n",
    "[Back to Table of Contents](#Contents)"
   ]
  },
  {
   "cell_type": "code",
   "execution_count": null,
   "id": "90849ca4",
   "metadata": {},
   "outputs": [],
   "source": [
    "movies=pd.read_parquet(os.path.join(DATA_PATH_GENERATED, \"movie_with_score.parquet\"), engine='pyarrow')"
   ]
  },
  {
   "cell_type": "code",
   "execution_count": null,
   "id": "7debd0bc",
   "metadata": {},
   "outputs": [],
   "source": [
    "movies_with_socres=copy.deepcopy(movies)\n",
    "movies_with_socres=movies_with_socres.reset_index().drop(['revenue','rating','votes'], axis=1)"
   ]
  },
  {
   "cell_type": "code",
   "execution_count": null,
   "id": "28eb8c3f",
   "metadata": {},
   "outputs": [],
   "source": [
    "chractor_movie_with_score=pd.merge(character_movie_directors, movies_with_socres, left_on='tconst', right_on='tconst', how='left')\n",
    "chractor_movie_with_score=chractor_movie_with_score.drop(['Wikipedia movie ID', 'Freebase movie ID', 'Movie name',\n",
    "     'freebaseID', 'wikipediaID','directors_y','wikipediaID','freebaseID'], axis=1)\n",
    "#rename directors_x to directors\n",
    "chractor_movie_with_score.rename(columns={'directors_x':'directors', 'primaryName':'directors_name','Character name':'character_name'}, inplace=True)\n",
    "chractor_movie_director_with_score=pd.merge(chractor_movie_with_score, director_with_diversescore, left_on='directors', right_on='directors', how='left')\n",
    "chractor_movie_director_with_score.drop(['primaryName','hits-30', 'hits-40', 'hits-45', 'hits-50',\n",
    "       'rate-7.0', 'rate-7.5', 'rate-8.0', 'rate-8.5','avg-5','avg-10'], axis=1, inplace=True)\n",
    "display(chractor_movie_director_with_score.head())"
   ]
  },
  {
   "cell_type": "code",
   "execution_count": null,
   "id": "0033a0c0",
   "metadata": {},
   "outputs": [],
   "source": [
    "# Plot the average movie score of each chractor type\n",
    "plt.figure(figsize=(15,5))\n",
    "chractor_movie_director_with_score.groupby('topic')['score'].mean().plot.bar()\n",
    "plt.xlabel('Chracter type')\n",
    "plt.ylabel('Average movie score')\n",
    "plt.title('Average movie score of each chracter type')\n",
    "plt.show()"
   ]
  },
  {
   "cell_type": "markdown",
   "id": "4f698bd9",
   "metadata": {},
   "source": [
    "In the above plot, we can see that the scores for different types of characters are quite similar. Therefore, there isn't a specific character type with a significantly higher movie score. However, let's delve deeper to investigate whether there is a relationship between the movie score and the character type for each directors."
   ]
  },
  {
   "cell_type": "code",
   "execution_count": null,
   "id": "c0aeb44e",
   "metadata": {},
   "outputs": [],
   "source": [
    "# Get the dirtribution of movie score and chractor type for each director\n",
    "director_topic_score=chractor_movie_director_with_score.groupby(['directors','topic'])['score'].mean().reset_index()\n",
    "director_topic_score=director_topic_score.pivot(index='directors', columns='topic', values='score')\n",
    "director_topic_score=director_topic_score.reset_index()\n",
    "director_topic_score=director_topic_score.merge(director_with_diversescore[['directors','director_score']], left_on='directors', right_on='directors', how='left')\n",
    "director_topic_score=director_topic_score.dropna(subset=['director_score'])\n",
    "director_topic_score=director_topic_score.set_index('directors')\n",
    "director_topic_score=director_topic_score.sort_values(by='director_score', ascending=False)\n",
    "director_topic_score=director_topic_score.drop('director_score', axis=1)\n",
    "director_topic_score=director_topic_score.reset_index()\n",
    "\n",
    "# The distribution of movie score and chractor type for top 9 success directors\n",
    "plt.figure(figsize=(30, 30))\n",
    "for i in range(0,9):\n",
    "    plt.subplot(4,3,i+1)\n",
    "    director_topic_score.iloc[i,1:].plot.bar(stacked=True)\n",
    "    plt.xlabel('chrater type')\n",
    "    plt.ylabel('Movie score')\n",
    "    plt.title('Distribution of movie score and chracter type for {}'.format(directors_mapping[director_topic_score.iloc[i,0]]))\n"
   ]
  },
  {
   "cell_type": "markdown",
   "id": "7b87bd11",
   "metadata": {},
   "source": [
    "Returning to the earlier question: does the diversity of character types among a director's works impact the director's success or the success of their movies?"
   ]
  },
  {
   "cell_type": "code",
   "execution_count": null,
   "id": "5b34522b",
   "metadata": {},
   "outputs": [],
   "source": [
    "chractor_movie_diversity=chractor_movie_director_with_score.drop_duplicates(subset=['tconst']).reset_index(drop=True)"
   ]
  },
  {
   "cell_type": "code",
   "execution_count": null,
   "id": "86e6d49d",
   "metadata": {},
   "outputs": [],
   "source": [
    "# Declares a linear regression model\n",
    "model = smf.ols(formula='score ~ diversity_score', data=chractor_movie_diversity).fit()\n",
    "\n",
    "# Print the regression summary\n",
    "print(model.summary())"
   ]
  },
  {
   "cell_type": "markdown",
   "id": "1b8255d1",
   "metadata": {},
   "source": [
    "Let's examine some key findings derived from the analysis. Firstly, the coefficient for diversity_score is 3.7065, indicating that with each unit increase in the diversity score, we anticipate an approximate 3.7-point rise in the movie score. Essentially, this implies a positive correlation between the movie score and the diversity score. Secondly, the p-value associated with the coefficient is <0.05. This indicates that, within the framework of this model, the coefficients are statistically significant, signifying that the diversity score is indeed valuable in predicting the movie score."
   ]
  },
  {
   "cell_type": "code",
   "execution_count": null,
   "id": "d40a5c56",
   "metadata": {},
   "outputs": [],
   "source": [
    "avg_score=chractor_movie_diversity['score'].mean()\n",
    "max_score=chractor_movie_diversity['score'].max()\n",
    "print('The average score of all movies is {}'.format(avg_score))\n",
    "print('The max score of all movies is {}'.format(max_score))\n"
   ]
  },
  {
   "cell_type": "code",
   "execution_count": null,
   "id": "4f312138",
   "metadata": {},
   "outputs": [],
   "source": [
    "# A box plot to show the distribution of movie score\n",
    "plt.figure(figsize=(15,5))\n",
    "sns.boxplot(x=chractor_movie_diversity['score'])\n",
    "plt.xlabel('Movie score')\n",
    "plt.title('Distribution of movie score')\n",
    "plt.show()\n"
   ]
  },
  {
   "cell_type": "code",
   "execution_count": null,
   "id": "252aeb8c",
   "metadata": {},
   "outputs": [],
   "source": [
    "chractor_movie_diversity_sucess=copy.deepcopy(chractor_movie_diversity)\n",
    "chractor_movie_diversity_sucess['movie_sucess']=chractor_movie_diversity_sucess['score'].apply(lambda x: 1 if x>23 else 0)\n",
    "# print(chractor_movie_diversity_sucess.keys())"
   ]
  },
  {
   "cell_type": "code",
   "execution_count": null,
   "id": "4e9f82f2",
   "metadata": {},
   "outputs": [],
   "source": [
    "treatment_df = chractor_movie_diversity_sucess[chractor_movie_diversity_sucess['movie_sucess'] == True]\n",
    "control_df = chractor_movie_diversity_sucess[chractor_movie_diversity_sucess['movie_sucess'] == False]\n",
    "print(len(treatment_df), 'movies in our dataset that considered as sucessed (treatment group).')\n",
    "print(len(control_df), 'papers in our dataset that considered as sucessed (control group).')"
   ]
  },
  {
   "cell_type": "code",
   "execution_count": null,
   "id": "0419a4fe",
   "metadata": {},
   "outputs": [],
   "source": [
    "chractor_movie_diversity_sucess.keys()"
   ]
  },
  {
   "cell_type": "code",
   "execution_count": null,
   "id": "6c005072",
   "metadata": {},
   "outputs": [],
   "source": [
    "G = nx.Graph()\n",
    "\n",
    "for languages in tqdm(chractor_movie_diversity_sucess['languages'].unique()):\n",
    "    treat_lan_df = treatment_df[treatment_df['languages'] == languages]\n",
    "    control_lan_df = control_df[control_df['languages'] == languages]\n",
    "    for countries in treat_lan_df['countries'].unique():\n",
    "        treat_con_df = treat_lan_df[treat_lan_df['countries'] == countries]\n",
    "        control_con_df = control_lan_df[control_lan_df['countries'] == countries]\n",
    "        # for genres in treat_con_df['genres'].unique():\n",
    "        #     genres=genres.split(',')\n",
    "        #     treat_gen_df = treat_con_df[treat_con_df['genres'].apply(lambda x: set(x.split(','))).apply(lambda x: bool(x.intersection(set(genres))))]\n",
    "        #     control_gen_df = control_con_df[control_con_df['genres'].apply(lambda x: set(x.split(','))).apply(lambda x: bool(x.intersection(set(genres))))]\n",
    "        for control_id, control_row in control_con_df.iterrows():\n",
    "            for treatment_id, treatment_row in treat_con_df.iterrows():\n",
    "                # Match papers with exactly the same overall score before rebuttal\n",
    "                if control_row[\"director_score\"] == treatment_row[\"director_score\"]:\n",
    "                    G.add_edge(control_id, treatment_id)\n",
    "\n",
    "matching = nx.maximal_matching(G) # ensure one match"
   ]
  },
  {
   "cell_type": "code",
   "execution_count": null,
   "id": "6c6f0d7c",
   "metadata": {},
   "outputs": [],
   "source": [
    "matched_df = chractor_movie_diversity_sucess.copy()\n",
    "matched_df['matched_id'] = np.nan\n",
    "\n",
    "for i, (treatment_index, control_index) in enumerate(matching):\n",
    "    matched_df.loc[treatment_index, 'matched_id'] = i\n",
    "    matched_df.loc[control_index, 'matched_id'] = i\n",
    "\n",
    "matched_df = matched_df.dropna(subset=['matched_id'])\n"
   ]
  },
  {
   "cell_type": "code",
   "execution_count": null,
   "id": "de10d315",
   "metadata": {},
   "outputs": [],
   "source": [
    "display(matched_df.sort_values(by='matched_id').head(10))\n",
    "sucess_counts = matched_df['movie_sucess'].value_counts()\n",
    "\n",
    "print('We have', len(matched_df),'in the resulting dataframe')\n",
    "print(f\"Number of movies are considered as success: {sucess_counts[1]}\")\n",
    "print(f\"Number of movies are considered as success: {sucess_counts[0]}\")"
   ]
  },
  {
   "cell_type": "code",
   "execution_count": null,
   "id": "aab98eee",
   "metadata": {},
   "outputs": [],
   "source": [
    "matched_model = smf.ols(formula='score ~ diversity_score', data=matched_df).fit()\n",
    "\n",
    "print(matched_model.summary())"
   ]
  }
 ],
 "metadata": {
  "kernelspec": {
   "display_name": "Python 3 (ipykernel)",
   "language": "python",
   "name": "python3"
  },
  "language_info": {
   "codemirror_mode": {
    "name": "ipython",
    "version": 3
   },
   "file_extension": ".py",
   "mimetype": "text/x-python",
   "name": "python",
   "nbconvert_exporter": "python",
   "pygments_lexer": "ipython3",
   "version": "3.10.11"
  }
 },
 "nbformat": 4,
 "nbformat_minor": 5
}

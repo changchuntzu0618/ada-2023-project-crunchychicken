{
 "cells": [
  {
   "cell_type": "code",
   "execution_count": 2,
   "id": "c8d49464",
   "metadata": {},
   "outputs": [
    {
     "data": {
      "text/html": [
       "<style>.container { width:90% !important; }</style>"
      ],
      "text/plain": [
       "<IPython.core.display.HTML object>"
      ]
     },
     "metadata": {},
     "output_type": "display_data"
    }
   ],
   "source": [
    "# mutliple outputs in cell\n",
    "from IPython.core.interactiveshell import InteractiveShell\n",
    "InteractiveShell.ast_node_interactivity = \"all\"\n",
    "\n",
    "# cell width\n",
    "from IPython.display import display, HTML\n",
    "display(HTML(\"<style>.container { width:90% !important; }</style>\"))"
   ]
  },
  {
   "cell_type": "markdown",
   "id": "b877b219",
   "metadata": {},
   "source": [
    "### Imports and data folder path"
   ]
  },
  {
   "cell_type": "code",
   "execution_count": 3,
   "id": "f5743d3e",
   "metadata": {},
   "outputs": [],
   "source": [
    "import pandas as pd\n",
    "import os\n",
    "import numpy as np\n",
    "import matplotlib.pyplot as plt\n",
    "import seaborn as sns\n",
    "import ast\n",
    "import json\n",
    "\n",
    "PATH_IN = './data/'\n",
    "\n",
    "colors = sns.color_palette(\"colorblind\")\n",
    "sns.set_palette(colors)\n",
    "plt.rcParams['axes.prop_cycle'] = plt.cycler(color=colors)"
   ]
  },
  {
   "cell_type": "markdown",
   "id": "e0ef2122",
   "metadata": {},
   "source": [
    "### Plot Summaries (Train data 1)\n",
    "Plot summaries of 42,306 movies extracted from the November 2, 2012 dump of English-language Wikipedia. Each line contains the Wikipedia movie ID (which indexes into movie.metadata.tsv) followed by the summary."
   ]
  },
  {
   "cell_type": "code",
   "execution_count": 4,
   "id": "8903ff3a",
   "metadata": {},
   "outputs": [
    {
     "name": "stdout",
     "output_type": "stream",
     "text": [
      "<class 'pandas.core.frame.DataFrame'>\n",
      "RangeIndex: 42303 entries, 0 to 42302\n",
      "Data columns (total 2 columns):\n",
      " #   Column              Non-Null Count  Dtype \n",
      "---  ------              --------------  ----- \n",
      " 0   Wikipedia movie id  42303 non-null  int32 \n",
      " 1   plot_summary        42303 non-null  string\n",
      "dtypes: int32(1), string(1)\n",
      "memory usage: 495.9 KB\n"
     ]
    }
   ],
   "source": [
    "plot_summaries_fname = os.path.join(PATH_IN, 'plot_summaries.txt')\n",
    "\n",
    "plot_summaries = pd.read_csv(plot_summaries_fname, sep='\\t', names=['Wikipedia movie id', 'plot_summary'])\n",
    "plot_summaries['Wikipedia movie id'] = pd.to_numeric(plot_summaries['Wikipedia movie id'], downcast='integer') # unsigned for uint, in terms of memory same result\n",
    "plot_summaries['plot_summary'] = plot_summaries['plot_summary'].astype('string')\n",
    "\n",
    "plot_summaries.info()"
   ]
  },
  {
   "cell_type": "markdown",
   "id": "bc070804",
   "metadata": {},
   "source": [
    "### Stanford CoreNLP processed XML datasets (Train data 2)\n",
    "The plot summaries, run through the Stanford CoreNLP pipeline (tagging, parsing, NER and coref). Each filename begins with the Wikipedia movie ID (which indexes into movie.metadata.tsv).\n",
    "\n",
    "[Paper](https://www.cs.cmu.edu/~dbamman/pubs/pdf/bamman+oconnor+smith.acl13.pdf)\n",
    "\n",
    "[Dependency glossary](https://downloads.cs.stanford.edu/nlp/software/dependencies_manual.pdf)"
   ]
  },
  {
   "cell_type": "code",
   "execution_count": 5,
   "id": "d11dab14",
   "metadata": {},
   "outputs": [
    {
     "name": "stdout",
     "output_type": "stream",
     "text": [
      "<class 'pandas.core.frame.DataFrame'>\n",
      "RangeIndex: 14905203 entries, 0 to 14905202\n",
      "Data columns (total 9 columns):\n",
      " #   Column       Dtype \n",
      "---  ------       ----- \n",
      " 0   movie_id     int32 \n",
      " 1   sentence_id  int16 \n",
      " 2   token_id     int16 \n",
      " 3   word         string\n",
      " 4   lemma        string\n",
      " 5   COB          int16 \n",
      " 6   COE          int16 \n",
      " 7   POS          string\n",
      " 8   NER          string\n",
      "dtypes: int16(4), int32(1), string(4)\n",
      "memory usage: 625.4 MB\n",
      "<class 'pandas.core.frame.DataFrame'>\n",
      "RangeIndex: 34199068 entries, 0 to 34199067\n",
      "Data columns (total 8 columns):\n",
      " #   Column            Dtype \n",
      "---  ------            ----- \n",
      " 0   movie_id          int32 \n",
      " 1   sentence_id       int16 \n",
      " 2   dependency_class  string\n",
      " 3   dependency_type   string\n",
      " 4   governor_id       int16 \n",
      " 5   governor_word     string\n",
      " 6   dependent_id      int16 \n",
      " 7   dependent_word    string\n",
      "dtypes: int16(3), int32(1), string(4)\n",
      "memory usage: 1.3 GB\n",
      "<class 'pandas.core.frame.DataFrame'>\n",
      "RangeIndex: 665586 entries, 0 to 665585\n",
      "Data columns (total 3 columns):\n",
      " #   Column       Non-Null Count   Dtype \n",
      "---  ------       --------------   ----- \n",
      " 0   movie_id     665586 non-null  int32 \n",
      " 1   sentence_id  665586 non-null  int16 \n",
      " 2   parse        665586 non-null  string\n",
      "dtypes: int16(1), int32(1), string(1)\n",
      "memory usage: 8.9 MB\n",
      "<class 'pandas.core.frame.DataFrame'>\n",
      "RangeIndex: 2921142 entries, 0 to 2921141\n",
      "Data columns (total 6 columns):\n",
      " #   Column          Dtype\n",
      "---  ------          -----\n",
      " 0   movie_id        int32\n",
      " 1   sentence_id     int16\n",
      " 2   start           int16\n",
      " 3   end             int16\n",
      " 4   head            int16\n",
      " 5   representative  bool \n",
      "dtypes: bool(1), int16(4), int32(1)\n",
      "memory usage: 36.2 MB\n"
     ]
    }
   ],
   "source": [
    "tokens_fname = os.path.join(PATH_IN, 'tokens.parquet')\n",
    "dependencies_fname = os.path.join(PATH_IN, 'dependencies.parquet')\n",
    "parses_fname = os.path.join(PATH_IN, 'parses.parquet')\n",
    "coref_fname = os.path.join(PATH_IN, 'coref.parquet')\n",
    "\n",
    "tokens = pd.read_parquet(tokens_fname)\n",
    "dependencies = pd.read_parquet(dependencies_fname)\n",
    "parses = pd.read_parquet(parses_fname)\n",
    "coref = pd.read_parquet(coref_fname)\n",
    "\n",
    "tokens.info()\n",
    "dependencies.info()\n",
    "parses.info()\n",
    "coref.info()"
   ]
  },
  {
   "cell_type": "markdown",
   "id": "dccdf9e3",
   "metadata": {},
   "source": [
    "### Movies metadata (Train data 3)\n",
    "\n",
    "Metadata for 81,741 movies, extracted from the Noverber 4, 2012 dump of Freebase. Tab-separated; columns.\n",
    "1. Wikipedia movie ID\n",
    "2. Freebase movie ID\n",
    "3. Movie name\n",
    "4. Movie release date\n",
    "5. Movie box office revenue\n",
    "6. Movie runtime\n",
    "7. Movie languages (Freebase ID:name tuples)\n",
    "8. Movie countries (Freebase ID:name tuples)\n",
    "9. Movie genres (Freebase ID:name tuples)"
   ]
  },
  {
   "cell_type": "code",
   "execution_count": 6,
   "id": "2b9c2d17",
   "metadata": {},
   "outputs": [
    {
     "name": "stdout",
     "output_type": "stream",
     "text": [
      "<class 'pandas.core.frame.DataFrame'>\n",
      "RangeIndex: 81741 entries, 0 to 81740\n",
      "Data columns (total 9 columns):\n",
      " #   Column                    Non-Null Count  Dtype  \n",
      "---  ------                    --------------  -----  \n",
      " 0   Wikipedia movie ID        81741 non-null  int64  \n",
      " 1   Freebase movie ID         81741 non-null  object \n",
      " 2   Movie name                81741 non-null  object \n",
      " 3   Movie release date        74839 non-null  object \n",
      " 4   Movie box office revenue  8401 non-null   float64\n",
      " 5   Movie runtime             61291 non-null  float64\n",
      " 6   Movie languages           81741 non-null  object \n",
      " 7   Movie countries           81741 non-null  object \n",
      " 8   Movie genres              81741 non-null  object \n",
      "dtypes: float64(2), int64(1), object(6)\n",
      "memory usage: 5.6+ MB\n",
      "\n",
      "\n",
      "<class 'pandas.core.frame.DataFrame'>\n",
      "RangeIndex: 81741 entries, 0 to 81740\n",
      "Data columns (total 10 columns):\n",
      " #   Column                    Non-Null Count  Dtype  \n",
      "---  ------                    --------------  -----  \n",
      " 0   Wikipedia movie ID        81741 non-null  int32  \n",
      " 1   Movie name                81741 non-null  string \n",
      " 2   Movie release Year        74839 non-null  Int16  \n",
      " 3   Movie box office revenue  8401 non-null   float64\n",
      " 4   Movie runtime             61291 non-null  float32\n",
      " 5   Movie languages           81741 non-null  string \n",
      " 6   Movie countries           81741 non-null  string \n",
      " 7   Movie genres              81741 non-null  string \n",
      " 8   Movie release Month       42667 non-null  Int8   \n",
      " 9   Movie release Day         39373 non-null  Int8   \n",
      "dtypes: Int16(1), Int8(2), float32(1), float64(1), int32(1), string(4)\n",
      "memory usage: 4.3 MB\n",
      "<class 'pandas.core.frame.DataFrame'>\n",
      "RangeIndex: 81741 entries, 0 to 81740\n",
      "Data columns (total 4 columns):\n",
      " #   Column             Non-Null Count  Dtype \n",
      "---  ------             --------------  ----- \n",
      " 0   Freebase movie ID  81741 non-null  string\n",
      " 1   language codes     81741 non-null  string\n",
      " 2   countries codes    81741 non-null  string\n",
      " 3   genres codes       81741 non-null  string\n",
      "dtypes: string(4)\n",
      "memory usage: 2.5 MB\n"
     ]
    }
   ],
   "source": [
    "movie_fname = os.path.join(PATH_IN, 'movie.metadata.tsv')\n",
    "\n",
    "movie_column_names = [\n",
    "    \"Wikipedia movie ID\", \n",
    "    \"Freebase movie ID\", \n",
    "    \"Movie name\", \n",
    "    \"Movie release date\", \n",
    "    \"Movie box office revenue\", \n",
    "    \"Movie runtime\", \n",
    "    \"Movie languages\", \n",
    "    \"Movie countries\", \n",
    "    \"Movie genres\",\n",
    "]\n",
    "\n",
    "movies = pd.read_csv(movie_fname,  sep= '\\t', names= movie_column_names)\n",
    "movies.info()\n",
    "\n",
    "movies.loc[46808, 'Movie countries'] = '{\"/m/03rk0\": \"India\"}'\n",
    "movies.loc[67202, 'Movie countries'] = '{\"/m/03rk0\": \"India\"}'\n",
    "movies.loc[67202, 'Movie languages'] = '{\"/m/0999q\": \"Malayalam Language\"}'\n",
    "movies.loc[72685, 'Movie countries'] = '{\"/m/084n_\": \"Weimar Republic\", \"/m/0345h\": \"Germany\"}'\n",
    "\n",
    "movies.loc[1825, \"Movie languages\"] = '{\"/m/04306rv\": \"German Language\"}'\n",
    "movies.loc[7855, \"Movie languages\"] = '{\"/m/02bjrlw\": \"Italian Language\", \"/m/06nm1\": \"Spanish Language\", \"/m/064_8sq\": \"French Language\", \"/m/04h9h\": \"Latin Language\", \"/m/02h40lc\": \"English Language\", \"/m/05qqm\": \"Polish Language\", \"/m/04306rv\": \"German Language\"}'\n",
    "movies.loc[20807, \"Movie languages\"] = '{\"/m/0k0sv\": \"Croatian language\", \"/m/02bjrlw\": \"Italian Language\", \"/m/06b_j\": \"Russian Language\", \"/m/06nm1\": \"Spanish Language\", \"/m/064_8sq\": \"French Language\", \"/m/05zjd\": \"Portuguese Language\", \"/m/02h40lc\": \"English Language\", \"/m/06zvd\": \"Slovenian language\", \"/m/04306rv\": \"German Language\", \"/m/02hwhyv\": \"Korean Language\"}'\n",
    "movies.loc[25679, \"Movie languages\"] = '{\"/m/05qqm\": \"Polish Language\", \"/m/0cjk9\": \"Ukrainian Language\", \"/m/0880p\": \"Yiddish Language\", \"/m/04306rv\": \"German Language\"}'\n",
    "movies.loc[30562, \"Movie languages\"] = '{\"/m/02h40lc\": \"English Language\", \"/m/06b_j\": \"Russian Language\", \"/m/04306rv\": \"German Language\"}'\n",
    "movies.loc[68137, \"Movie languages\"] = '{\"/m/02hwyss\": \"Turkish Language\", \"/m/04306rv\": \"German Language\"}'\n",
    "\n",
    "movies['Movie release Year'] = movies['Movie release date'].str.split('-').str[0].astype('Int64')\n",
    "movies['Movie release Month'] = movies['Movie release date'].str.split('-').str[1].astype('Int64')\n",
    "movies['Movie release Day'] = movies['Movie release date'].str.split('-').str[2].astype('Int64')\n",
    "movies.drop(columns=['Movie release date'], inplace=True)\n",
    "\n",
    "movies['parsed languages'] = movies['Movie languages'].apply(ast.literal_eval)\n",
    "movies['language codes'] = movies['parsed languages'].apply(lambda x: ','.join(list(x.keys())))\n",
    "movies['languages'] = movies['parsed languages'].apply(lambda x: ','.join([val.replace(' Language', '') for val in list(x.values())]))\n",
    "movies.drop(columns=['Movie languages', 'parsed languages'], inplace=True)\n",
    "\n",
    "movies['parsed countries'] = movies['Movie countries'].apply(ast.literal_eval)\n",
    "movies['countries codes'] = movies['parsed countries'].apply(lambda x: ','.join(list(x.keys())))\n",
    "movies['countries'] = movies['parsed countries'].apply(lambda x: ','.join(list(x.values())))\n",
    "movies.drop(columns=['Movie countries', 'parsed countries'], inplace=True)\n",
    "\n",
    "movies['parsed genres'] = movies['Movie genres'].apply(ast.literal_eval)\n",
    "movies['genres codes'] = movies['parsed genres'].apply(lambda x: ','.join(list(x.keys())))\n",
    "movies['genres'] = movies['parsed genres'].apply(lambda x: ','.join(list(x.values())))\n",
    "movies.drop(columns=['Movie genres', 'parsed genres'], inplace=True)\n",
    "\n",
    "\n",
    "movies_probably_not_useful = movies[['Freebase movie ID', 'language codes', 'countries codes', 'genres codes']]\n",
    "movies.drop(columns=['Freebase movie ID', 'language codes', 'countries codes', 'genres codes'], inplace=True)\n",
    "\n",
    "movies.rename(columns={\n",
    "    'languages': 'Movie languages',\n",
    "    'countries': 'Movie countries',\n",
    "    'genres': 'Movie genres'\n",
    "}, inplace=True)\n",
    "movies = movies[['Wikipedia movie ID', 'Movie name', 'Movie release Year', 'Movie box office revenue', 'Movie runtime', 'Movie languages', 'Movie countries', 'Movie genres', \n",
    "                 'Movie release Month', 'Movie release Day']]\n",
    "\n",
    "movies['Movie name'] = movies['Movie name'].astype('string')\n",
    "movies['Movie languages'] = movies['Movie languages'].astype('string')\n",
    "movies['Movie countries'] = movies['Movie countries'].astype('string')\n",
    "movies['Movie genres'] = movies['Movie genres'].astype('string')\n",
    "movies['Wikipedia movie ID'] = pd.to_numeric(movies['Wikipedia movie ID'], downcast='integer')\n",
    "movies['Movie release Year'] = pd.to_numeric(movies['Movie release Year'], downcast='integer')\n",
    "movies['Movie release Month'] = pd.to_numeric(movies['Movie release Month'], downcast='integer')\n",
    "movies['Movie release Day'] = pd.to_numeric(movies['Movie release Day'], downcast='integer')\n",
    "movies['Movie box office revenue'] = pd.to_numeric(movies['Movie box office revenue'], downcast='float')\n",
    "movies['Movie runtime'] = pd.to_numeric(movies['Movie runtime'], downcast='float')\n",
    "\n",
    "movies_probably_not_useful['Freebase movie ID'] = movies_probably_not_useful['Freebase movie ID'].astype('string')\n",
    "movies_probably_not_useful['language codes'] = movies_probably_not_useful['language codes'].astype('string')\n",
    "movies_probably_not_useful['countries codes'] = movies_probably_not_useful['countries codes'].astype('string')\n",
    "movies_probably_not_useful['genres codes'] = movies_probably_not_useful['genres codes'].astype('string')\n",
    "\n",
    "print(\"\\n\")\n",
    "movies.info()\n",
    "movies_probably_not_useful.info()"
   ]
  },
  {
   "cell_type": "markdown",
   "id": "ea15b958",
   "metadata": {},
   "source": [
    "### Characters metadata (Train data 4)\n",
    "\n",
    "Metadata for 450,669 characters aligned to the movies above, extracted from the Noverber 4, 2012 dump of Freebase. Tab-separated; columns:\n",
    "\n",
    "1. Wikipedia movie ID\n",
    "2. Freebase movie ID\n",
    "3. Movie release date\n",
    "4. Character name\n",
    "5. Actor date of birth\n",
    "6. Actor gender\n",
    "7. Actor height (in meters)\n",
    "8. Actor ethnicity (Freebase ID)\n",
    "9. Actor name\n",
    "10. Actor age at movie release\n",
    "11. Freebase character/actor map ID\n",
    "12. Freebase character ID\n",
    "13. Freebase actor ID"
   ]
  },
  {
   "cell_type": "code",
   "execution_count": 7,
   "id": "809a1984",
   "metadata": {},
   "outputs": [
    {
     "name": "stdout",
     "output_type": "stream",
     "text": [
      "<class 'pandas.core.frame.DataFrame'>\n",
      "RangeIndex: 450669 entries, 0 to 450668\n",
      "Data columns (total 13 columns):\n",
      " #   Column                           Non-Null Count   Dtype  \n",
      "---  ------                           --------------   -----  \n",
      " 0   Wikipedia movie ID               450669 non-null  int64  \n",
      " 1   Freebase movie ID                450669 non-null  object \n",
      " 2   Movie release date               440674 non-null  object \n",
      " 3   Character name                   192794 non-null  object \n",
      " 4   Actor DOB                        344524 non-null  object \n",
      " 5   Actor gender                     405060 non-null  object \n",
      " 6   Actor height                     154824 non-null  float64\n",
      " 7   Actor ethnicity                  106058 non-null  object \n",
      " 8   Actor name                       449441 non-null  object \n",
      " 9   Actor age at movie release       292556 non-null  float64\n",
      " 10  Freebase character/actor map ID  450669 non-null  object \n",
      " 11  Freebase character ID            192804 non-null  object \n",
      " 12  Freebase actor ID                449854 non-null  object \n",
      "dtypes: float64(2), int64(1), object(10)\n",
      "memory usage: 44.7+ MB\n",
      "\n",
      "\n",
      "<class 'pandas.core.frame.DataFrame'>\n",
      "RangeIndex: 450669 entries, 0 to 450668\n",
      "Data columns (total 13 columns):\n",
      " #   Column                      Non-Null Count   Dtype   \n",
      "---  ------                      --------------   -----   \n",
      " 0   Wikipedia movie ID          450669 non-null  int32   \n",
      " 1   Movie release Year          440674 non-null  Int16   \n",
      " 2   Character name              192794 non-null  string  \n",
      " 3   Actor DOB Year              344524 non-null  Int16   \n",
      " 4   Actor gender                405060 non-null  category\n",
      " 5   Actor height                154824 non-null  float32 \n",
      " 6   Actor ethnicity             106058 non-null  string  \n",
      " 7   Actor name                  449441 non-null  string  \n",
      " 8   Actor age at movie release  292556 non-null  float64 \n",
      " 9   Movie release Month         290872 non-null  Int8    \n",
      " 10  Movie release Day           273887 non-null  Int8    \n",
      " 11  Actor DOB Month             330658 non-null  Int8    \n",
      " 12  Actor DOB Day               329918 non-null  Int8    \n",
      "dtypes: Int16(2), Int8(4), category(1), float32(1), float64(1), int32(1), string(3)\n",
      "memory usage: 23.6 MB\n",
      "<class 'pandas.core.frame.DataFrame'>\n",
      "RangeIndex: 450669 entries, 0 to 450668\n",
      "Data columns (total 4 columns):\n",
      " #   Column                           Non-Null Count   Dtype \n",
      "---  ------                           --------------   ----- \n",
      " 0   Freebase movie ID                450669 non-null  string\n",
      " 1   Freebase character/actor map ID  450669 non-null  string\n",
      " 2   Freebase character ID            192804 non-null  string\n",
      " 3   Freebase actor ID                449854 non-null  string\n",
      "dtypes: string(4)\n",
      "memory usage: 13.8 MB\n"
     ]
    }
   ],
   "source": [
    "character_fname = os.path.join(PATH_IN, 'character.metadata.tsv')\n",
    "\n",
    "character_column_names = [\n",
    "    \"Wikipedia movie ID\",\n",
    "    \"Freebase movie ID\",\n",
    "    \"Movie release date\",\n",
    "    \"Character name\",\n",
    "    \"Actor DOB\",\n",
    "    \"Actor gender\",\n",
    "    \"Actor height\",\n",
    "    \"Actor ethnicity\",\n",
    "    \"Actor name\",\n",
    "    \"Actor age at movie release\",\n",
    "    \"Freebase character/actor map ID\",\n",
    "    \"Freebase character ID\",\n",
    "    \"Freebase actor ID\",\n",
    "]\n",
    "        \n",
    "characters = pd.read_csv(character_fname, sep= '\\t', names= character_column_names)\n",
    "characters.info()\n",
    "\n",
    "characters['Movie release Year'] = characters['Movie release date'].str.split('-').str[0].astype('Int64')\n",
    "characters['Movie release Month'] = characters['Movie release date'].str.split('-').str[1].astype('Int64')\n",
    "characters['Movie release Day'] = characters['Movie release date'].str.split('-').str[2].astype('Int64')\n",
    "characters.drop(columns=['Movie release date'], inplace=True)\n",
    "\n",
    "characters['Actor DOB'] = characters['Actor DOB'].str.split('T', expand=True)[0]\n",
    "characters['Actor DOB Year'] = characters['Actor DOB'].str.split('-').str[0].astype('Int64')\n",
    "characters['Actor DOB Month'] = characters['Actor DOB'].str.split('-').str[1].astype('Int64')\n",
    "characters['Actor DOB Day'] = characters['Actor DOB'].str.split('-').str[2].astype('Int64')\n",
    "characters.drop(columns=['Actor DOB'], inplace=True)\n",
    "\n",
    "\n",
    "characters_probably_not_useful = characters[['Freebase movie ID', 'Freebase character/actor map ID', 'Freebase character ID', 'Freebase actor ID']]\n",
    "characters.drop(columns=['Freebase movie ID', 'Freebase character/actor map ID', 'Freebase character ID', 'Freebase actor ID'], inplace=True)\n",
    "\n",
    "characters = characters[['Wikipedia movie ID', 'Movie release Year', 'Character name', 'Actor DOB Year', 'Actor gender', 'Actor height', 'Actor ethnicity', 'Actor name', \n",
    "                 'Actor age at movie release', 'Movie release Month', 'Movie release Day', 'Actor DOB Month', 'Actor DOB Day']]\n",
    "\n",
    "characters['Character name'] = characters['Character name'].astype('string')\n",
    "characters['Actor ethnicity'] = characters['Actor ethnicity'].astype('string')\n",
    "characters['Actor name'] = characters['Actor name'].astype('string')\n",
    "\n",
    "\n",
    "characters['Actor gender'] = characters['Actor gender'].astype('category')\n",
    "\n",
    "characters['Wikipedia movie ID'] = pd.to_numeric(characters['Wikipedia movie ID'], downcast='integer')\n",
    "characters['Movie release Year'] = pd.to_numeric(characters['Movie release Year'], downcast='integer')\n",
    "characters['Actor DOB Year'] = pd.to_numeric(characters['Actor DOB Year'], downcast='integer')\n",
    "characters['Actor height'] = pd.to_numeric(characters['Actor height'], downcast='float')\n",
    "characters['Actor age at movie release'] = pd.to_numeric(characters['Actor age at movie release'], downcast='integer')\n",
    "characters['Movie release Month'] = pd.to_numeric(characters['Movie release Month'], downcast='integer')\n",
    "characters['Movie release Day'] = pd.to_numeric(characters['Movie release Day'], downcast='integer')\n",
    "characters['Actor DOB Month'] = pd.to_numeric(characters['Actor DOB Month'], downcast='integer')\n",
    "characters['Actor DOB Day'] = pd.to_numeric(characters['Actor DOB Day'], downcast='integer')\n",
    "\n",
    "characters_probably_not_useful['Freebase movie ID'] = characters_probably_not_useful['Freebase movie ID'].astype('string')\n",
    "characters_probably_not_useful['Freebase character/actor map ID'] = characters_probably_not_useful['Freebase character/actor map ID'].astype('string')\n",
    "characters_probably_not_useful['Freebase character ID'] = characters_probably_not_useful['Freebase character ID'].astype('string')\n",
    "characters_probably_not_useful['Freebase actor ID'] = characters_probably_not_useful['Freebase actor ID'].astype('string')\n",
    "\n",
    "print(\"\\n\")\n",
    "characters.info()\n",
    "characters_probably_not_useful.info()"
   ]
  },
  {
   "cell_type": "markdown",
   "id": "f09203c9",
   "metadata": {},
   "source": [
    "### tvtropes clusters (Test data 1)\n",
    "\n",
    "72 character types drawn from tvtropes.com, along with 501 instances of those types. The ID field indexes into the Freebase character/actor map ID in character.metadata.tsv."
   ]
  },
  {
   "cell_type": "code",
   "execution_count": 8,
   "id": "d12defde",
   "metadata": {},
   "outputs": [
    {
     "name": "stdout",
     "output_type": "stream",
     "text": [
      "<class 'pandas.core.frame.DataFrame'>\n",
      "RangeIndex: 501 entries, 0 to 500\n",
      "Data columns (total 5 columns):\n",
      " #   Column                           Non-Null Count  Dtype \n",
      "---  ------                           --------------  ----- \n",
      " 0   Character type                   501 non-null    string\n",
      " 1   Character name                   501 non-null    string\n",
      " 2   Movie name                       501 non-null    string\n",
      " 3   Freebase character/actor map ID  501 non-null    string\n",
      " 4   Actor name                       501 non-null    string\n",
      "dtypes: string(5)\n",
      "memory usage: 19.7 KB\n"
     ]
    }
   ],
   "source": [
    "tvtropes_clusters_fname = os.path.join(PATH_IN, 'tvtropes.clusters.txt')\n",
    "\n",
    "rows = []\n",
    "with open(tvtropes_clusters_fname, 'r') as file:\n",
    "    for line in file:\n",
    "        char_type, json_string = line.strip().split('\\t', 1)\n",
    "        \n",
    "        char_info = json.loads(json_string)\n",
    "        \n",
    "        row = {\n",
    "            'Character type': char_type,\n",
    "            'Character name': char_info['char'],\n",
    "            'Movie name': char_info['movie'],\n",
    "            'Freebase character/actor map ID': char_info['id'],\n",
    "            'Actor name': char_info['actor']\n",
    "        }\n",
    "        rows.append(row)\n",
    "\n",
    "tvtropes_clusters = pd.DataFrame(rows)\n",
    "tvtropes_clusters = tvtropes_clusters.astype('string')\n",
    "\n",
    "tvtropes_clusters.info()"
   ]
  },
  {
   "cell_type": "markdown",
   "id": "f1110df9",
   "metadata": {},
   "source": [
    "### Name clusters (Test data 2)\n",
    "\n",
    "970 unique character names used in at least two different movies, along with 2,666 instances of those types. The ID field indexes into the Freebase character/actor map ID in character.metadata.tsv."
   ]
  },
  {
   "cell_type": "code",
   "execution_count": 9,
   "id": "2ab55a57",
   "metadata": {},
   "outputs": [
    {
     "name": "stdout",
     "output_type": "stream",
     "text": [
      "<class 'pandas.core.frame.DataFrame'>\n",
      "RangeIndex: 2666 entries, 0 to 2665\n",
      "Data columns (total 2 columns):\n",
      " #   Column                           Non-Null Count  Dtype \n",
      "---  ------                           --------------  ----- \n",
      " 0   Character name                   2666 non-null   string\n",
      " 1   Freebase character/actor map ID  2666 non-null   string\n",
      "dtypes: string(2)\n",
      "memory usage: 41.8 KB\n"
     ]
    }
   ],
   "source": [
    "name_clusters_fname = os.path.join(PATH_IN, 'name.clusters.txt')\n",
    "\n",
    "names_clusters = pd.read_csv(name_clusters_fname, sep='\\t', names=['Character name', 'Freebase character/actor map ID'], dtype='string')\n",
    "\n",
    "names_clusters.info()"
   ]
  },
  {
   "cell_type": "markdown",
   "metadata": {},
   "source": [
    "# Cleaning the CMU Data\n",
    "\n",
    "----------------------------------------------------------------------------------"
   ]
  },
  {
   "cell_type": "markdown",
   "metadata": {},
   "source": [
    "## 1. The Movies Dataset"
   ]
  },
  {
   "cell_type": "markdown",
   "metadata": {},
   "source": [
    "### 1.1 - Trying to cure the large number of missing values"
   ]
  },
  {
   "cell_type": "code",
   "execution_count": 58,
   "metadata": {},
   "outputs": [
    {
     "name": "stdout",
     "output_type": "stream",
     "text": [
      "Number of movie entries : 81741\n",
      "Number of unique Wikipedia Movie IDs: 81741\n",
      "Number of movies with missing Movie Names : 0\n",
      "Number of entries with missing Box office revenue : 73340\n",
      "Number of entries with missing runtime : 20450\n",
      "Number of entries with missing Release year: 6902\n"
     ]
    }
   ],
   "source": [
    "print('Number of movie entries :',len(movies))\n",
    "print('Number of unique Wikipedia Movie IDs:', movies['Wikipedia movie ID'].nunique())\n",
    "print('Number of movies with missing Movie Names :', movies['Movie name'].isna().sum())\n",
    "print('Number of entries with missing Box office revenue :',movies['Movie box office revenue'].isna().sum())\n",
    "print('Number of entries with missing runtime :',movies['Movie runtime'].isna().sum())\n",
    "print('Number of entries with missing Release year:',movies['Movie release Year'].isna().sum())"
   ]
  },
  {
   "cell_type": "markdown",
   "metadata": {},
   "source": [
    "Large number of missing values, and some in there are probably wrong. Let's assume that Wikipedia must have right info about the films and let's try to use the `pymediawiki` API to retrieve interesting information. We also import the PageError and DisambiguationError exceptions, as we will make us of them to check a few things.\n",
    "\n",
    "We declare a `MediaWiki` instance that we have will be the main tool to retrieve the information present on the wikipedia pages of the movie. "
   ]
  },
  {
   "cell_type": "code",
   "execution_count": 247,
   "metadata": {},
   "outputs": [],
   "source": [
    "#Initializing the utils to do page-search\n",
    "from mediawiki import MediaWiki\n",
    "from mediawiki.exceptions import PageError,DisambiguationError\n",
    "import mwparserfromhell\n",
    "import re\n",
    "wikipedia = MediaWiki(user_agent='Movie Data Scraping')"
   ]
  },
  {
   "cell_type": "markdown",
   "metadata": {},
   "source": [
    "How are we accessing the pages ? Thanks to the `Wikipedia movie ID` column of the `movies` dataset. This wikipedia movie ID is actually the \"wgArticleid\" (i.e the page identifier) of a MediaWiki page. \n",
    "\n",
    "An example is shown with the \"Ghost of Mars\" film from 2001 just below :"
   ]
  },
  {
   "cell_type": "code",
   "execution_count": 248,
   "metadata": {},
   "outputs": [
    {
     "data": {
      "text/html": [
       "<div>\n",
       "<style scoped>\n",
       "    .dataframe tbody tr th:only-of-type {\n",
       "        vertical-align: middle;\n",
       "    }\n",
       "\n",
       "    .dataframe tbody tr th {\n",
       "        vertical-align: top;\n",
       "    }\n",
       "\n",
       "    .dataframe thead th {\n",
       "        text-align: right;\n",
       "    }\n",
       "</style>\n",
       "<table border=\"1\" class=\"dataframe\">\n",
       "  <thead>\n",
       "    <tr style=\"text-align: right;\">\n",
       "      <th></th>\n",
       "      <th>Wikipedia movie ID</th>\n",
       "      <th>Movie name</th>\n",
       "      <th>Movie release Year</th>\n",
       "      <th>Movie box office revenue</th>\n",
       "      <th>Movie runtime</th>\n",
       "      <th>Movie languages</th>\n",
       "      <th>Movie countries</th>\n",
       "      <th>Movie genres</th>\n",
       "      <th>Movie release Month</th>\n",
       "      <th>Movie release Day</th>\n",
       "    </tr>\n",
       "  </thead>\n",
       "  <tbody>\n",
       "    <tr>\n",
       "      <th>0</th>\n",
       "      <td>975900</td>\n",
       "      <td>Ghosts of Mars</td>\n",
       "      <td>2001</td>\n",
       "      <td>14010832.0</td>\n",
       "      <td>98.0</td>\n",
       "      <td>English</td>\n",
       "      <td>United States of America</td>\n",
       "      <td>Thriller,Science Fiction,Horror,Adventure,Supe...</td>\n",
       "      <td>8</td>\n",
       "      <td>24</td>\n",
       "    </tr>\n",
       "    <tr>\n",
       "      <th>1</th>\n",
       "      <td>3196793</td>\n",
       "      <td>Getting Away with Murder: The JonBenét Ramsey ...</td>\n",
       "      <td>2000</td>\n",
       "      <td>NaN</td>\n",
       "      <td>95.0</td>\n",
       "      <td>English</td>\n",
       "      <td>United States of America</td>\n",
       "      <td>Mystery,Biographical film,Drama,Crime Drama</td>\n",
       "      <td>2</td>\n",
       "      <td>16</td>\n",
       "    </tr>\n",
       "  </tbody>\n",
       "</table>\n",
       "</div>"
      ],
      "text/plain": [
       "   Wikipedia movie ID                                         Movie name  \\\n",
       "0              975900                                     Ghosts of Mars   \n",
       "1             3196793  Getting Away with Murder: The JonBenét Ramsey ...   \n",
       "\n",
       "   Movie release Year  Movie box office revenue  Movie runtime  \\\n",
       "0                2001                14010832.0           98.0   \n",
       "1                2000                       NaN           95.0   \n",
       "\n",
       "  Movie languages           Movie countries  \\\n",
       "0         English  United States of America   \n",
       "1         English  United States of America   \n",
       "\n",
       "                                        Movie genres  Movie release Month  \\\n",
       "0  Thriller,Science Fiction,Horror,Adventure,Supe...                    8   \n",
       "1        Mystery,Biographical film,Drama,Crime Drama                    2   \n",
       "\n",
       "   Movie release Day  \n",
       "0                 24  \n",
       "1                 16  "
      ]
     },
     "execution_count": 248,
     "metadata": {},
     "output_type": "execute_result"
    },
    {
     "name": "stdout",
     "output_type": "stream",
     "text": [
      "<MediaWikiPage 'Ghosts of Mars'>\n"
     ]
    }
   ],
   "source": [
    "movies.head(2)\n",
    "gom_wikipage = wikipedia.page(pageid=975900)\n",
    "print(gom_wikipage)"
   ]
  },
  {
   "cell_type": "markdown",
   "metadata": {},
   "source": [
    "This obtained MediaWikiPage instance thus contains information about the movie !"
   ]
  },
  {
   "cell_type": "markdown",
   "metadata": {},
   "source": [
    "Lots of info to infer to our movies dataset in order to improve the quality of the data. Moreover, near the end in the ==External links== section, we can see that the IMDb title is available and is actually the same as in the IMDb dataset that we're using (you can check in _relationships.ipynb_)\n",
    "\n",
    "Still have many things to check, but that's a start.\n",
    "\n",
    "\n",
    "\n",
    "#### Retrieving the IMDb ID\n",
    "We can get the IMDb id using the fact that, if it is present on the page, it will always be in the External links section (at least in the few dozens of movies checked by hand) Example with the second film of the movie.head() displayed above :"
   ]
  },
  {
   "cell_type": "code",
   "execution_count": 254,
   "metadata": {},
   "outputs": [
    {
     "name": "stdout",
     "output_type": "stream",
     "text": [
      "['==External links==\\n* {{IMDb title|0245916|Getting Away with Murder: The JonBenet Ramsey Story}}\\n\\n[[Category:2000 documentary films]]\\n[[Category:2000 television films]]\\n[[Category:2000s American films]]\\n[[Category:American biographical films]]\\n[[Category:Fox Broadcasting Company original programming]]\\n[[Category:Fox network original films]]\\n[[Category:Killing of JonBenét Ramsey]]\\n[[Category:Television series by Rocket Science Laboratories]]']\n",
      "0245916\n"
     ]
    }
   ],
   "source": [
    "#Getting the WikiMedia page corresponding to our film\n",
    "page = wikipedia.page(pageid=3196793)\n",
    "#Using the mwparserfromhell library to retrieve the wikitext for easier handling\n",
    "text = mwparserfromhell.parse(page.wikitext)\n",
    "#Using the get_sections function of mwparserfromhell to only get the 'external link' section\n",
    "external_links_text = text.get_sections(matches='External links')\n",
    "#Searching for the {IMDb title|id|...} form which contains our id, and retrieving it\n",
    "imdb_id = re.search(r'\\{\\{IMDb title\\|(\\d+)(?:\\|.*?)?\\}\\}', str(external_links_text)).group(1)\n",
    "print(external_links_text)\n",
    "print(imdb_id)"
   ]
  },
  {
   "cell_type": "code",
   "execution_count": 156,
   "metadata": {},
   "outputs": [],
   "source": [
    "def get_page_info(article_id):\n",
    "    try:\n",
    "        page = wikipedia.page(pageid=article_id)\n",
    "        return 0\n",
    "    except PageError:\n",
    "        #print(f\"Page with Article ID {article_id} does not exist.\")\n",
    "        return 1\n",
    "    except DisambiguationError:\n",
    "        return 2"
   ]
  },
  {
   "cell_type": "code",
   "execution_count": 157,
   "metadata": {},
   "outputs": [],
   "source": [
    "#all_unique_wikipedia_ids = (movies['Wikipedia movie ID']).to_list()\n",
    "#\n",
    "#valid_ids = 0\n",
    "#false_ids = 0\n",
    "#ambiguous_ids = 0\n",
    "#\n",
    "#for page_id in all_unique_wikipedia_ids :\n",
    "#    page_info = get_page_info(int(page_id))\n",
    "#    if page_info == 0 :\n",
    "#        valid_ids +=1\n",
    "#    elif page_info == 1 :\n",
    "#        false_ids+=1\n",
    "#    elif page_info == 2 : \n",
    "#        ambiguous_ids+=1\n",
    "#\n",
    "#print('Out of the', len(all_unique_wikipedia_ids), 'unique Wikipedia Movie IDs in the movies dataset,', str(false_ids), 'do not lead to a wikipedia page at all,', str(ambiguous_ids), 'lead to ambiguous pages and finally', str(valid_ids), 'are correct.')"
   ]
  },
  {
   "cell_type": "code",
   "execution_count": null,
   "metadata": {},
   "outputs": [],
   "source": []
  }
 ],
 "metadata": {
  "kernelspec": {
   "display_name": "Python 3 (ipykernel)",
   "language": "python",
   "name": "python3"
  },
  "language_info": {
   "codemirror_mode": {
    "name": "ipython",
    "version": 3
   },
   "file_extension": ".py",
   "mimetype": "text/x-python",
   "name": "python",
   "nbconvert_exporter": "python",
   "pygments_lexer": "ipython3",
   "version": "3.10.8"
  }
 },
 "nbformat": 4,
 "nbformat_minor": 5
}

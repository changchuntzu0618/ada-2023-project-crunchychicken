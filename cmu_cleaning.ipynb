{
 "cells": [
  {
   "cell_type": "code",
   "execution_count": 1,
   "id": "c8d49464",
   "metadata": {},
   "outputs": [
    {
     "data": {
      "text/html": [
       "<style>.container { width:90% !important; }</style>"
      ],
      "text/plain": [
       "<IPython.core.display.HTML object>"
      ]
     },
     "metadata": {},
     "output_type": "display_data"
    }
   ],
   "source": [
    "# mutliple outputs in cell\n",
    "from IPython.core.interactiveshell import InteractiveShell\n",
    "InteractiveShell.ast_node_interactivity = \"all\"\n",
    "\n",
    "# cell width\n",
    "from IPython.display import display, HTML\n",
    "display(HTML(\"<style>.container { width:90% !important; }</style>\"))"
   ]
  },
  {
   "cell_type": "markdown",
   "id": "b877b219",
   "metadata": {},
   "source": [
    "### Imports and data folder path"
   ]
  },
  {
   "cell_type": "code",
   "execution_count": 3,
   "id": "f5743d3e",
   "metadata": {},
   "outputs": [],
   "source": [
    "import pandas as pd\n",
    "import os\n",
    "import numpy as np\n",
    "import matplotlib.pyplot as plt\n",
    "import seaborn as sns\n",
    "import ast\n",
    "import json\n",
    "\n",
    "PATH_IN = './data/'\n",
    "\n",
    "colors = sns.color_palette(\"colorblind\")\n",
    "sns.set_palette(colors)\n",
    "plt.rcParams['axes.prop_cycle'] = plt.cycler(color=colors)"
   ]
  },
  {
   "cell_type": "markdown",
   "id": "e0ef2122",
   "metadata": {},
   "source": [
    "### Plot Summaries (Train data 1)\n",
    "Plot summaries of 42,306 movies extracted from the November 2, 2012 dump of English-language Wikipedia. Each line contains the Wikipedia movie ID (which indexes into movie.metadata.tsv) followed by the summary."
   ]
  },
  {
   "cell_type": "code",
   "execution_count": 4,
   "id": "8903ff3a",
   "metadata": {},
   "outputs": [
    {
     "name": "stdout",
     "output_type": "stream",
     "text": [
      "<class 'pandas.core.frame.DataFrame'>\n",
      "RangeIndex: 42303 entries, 0 to 42302\n",
      "Data columns (total 2 columns):\n",
      " #   Column              Non-Null Count  Dtype \n",
      "---  ------              --------------  ----- \n",
      " 0   Wikipedia movie id  42303 non-null  int32 \n",
      " 1   plot_summary        42303 non-null  string\n",
      "dtypes: int32(1), string(1)\n",
      "memory usage: 495.9 KB\n"
     ]
    }
   ],
   "source": [
    "plot_summaries_fname = os.path.join(PATH_IN, 'plot_summaries.txt')\n",
    "\n",
    "plot_summaries = pd.read_csv(plot_summaries_fname, sep='\\t', names=['Wikipedia movie id', 'plot_summary'])\n",
    "plot_summaries['Wikipedia movie id'] = pd.to_numeric(plot_summaries['Wikipedia movie id'], downcast='integer') # unsigned for uint, in terms of memory same result\n",
    "plot_summaries['plot_summary'] = plot_summaries['plot_summary'].astype('string')\n",
    "\n",
    "plot_summaries.info()"
   ]
  },
  {
   "cell_type": "markdown",
   "id": "bc070804",
   "metadata": {},
   "source": [
    "### Stanford CoreNLP processed XML datasets (Train data 2)\n",
    "The plot summaries, run through the Stanford CoreNLP pipeline (tagging, parsing, NER and coref). Each filename begins with the Wikipedia movie ID (which indexes into movie.metadata.tsv).\n",
    "\n",
    "[Paper](https://www.cs.cmu.edu/~dbamman/pubs/pdf/bamman+oconnor+smith.acl13.pdf)\n",
    "\n",
    "[Dependency glossary](https://downloads.cs.stanford.edu/nlp/software/dependencies_manual.pdf)"
   ]
  },
  {
   "cell_type": "code",
   "execution_count": 5,
   "id": "d11dab14",
   "metadata": {},
   "outputs": [
    {
     "name": "stdout",
     "output_type": "stream",
     "text": [
      "<class 'pandas.core.frame.DataFrame'>\n",
      "RangeIndex: 14905203 entries, 0 to 14905202\n",
      "Data columns (total 9 columns):\n",
      " #   Column       Dtype \n",
      "---  ------       ----- \n",
      " 0   movie_id     int32 \n",
      " 1   sentence_id  int16 \n",
      " 2   token_id     int16 \n",
      " 3   word         string\n",
      " 4   lemma        string\n",
      " 5   COB          int16 \n",
      " 6   COE          int16 \n",
      " 7   POS          string\n",
      " 8   NER          string\n",
      "dtypes: int16(4), int32(1), string(4)\n",
      "memory usage: 625.4 MB\n",
      "<class 'pandas.core.frame.DataFrame'>\n",
      "RangeIndex: 34199068 entries, 0 to 34199067\n",
      "Data columns (total 8 columns):\n",
      " #   Column            Dtype \n",
      "---  ------            ----- \n",
      " 0   movie_id          int32 \n",
      " 1   sentence_id       int16 \n",
      " 2   dependency_class  string\n",
      " 3   dependency_type   string\n",
      " 4   governor_id       int16 \n",
      " 5   governor_word     string\n",
      " 6   dependent_id      int16 \n",
      " 7   dependent_word    string\n",
      "dtypes: int16(3), int32(1), string(4)\n",
      "memory usage: 1.3 GB\n",
      "<class 'pandas.core.frame.DataFrame'>\n",
      "RangeIndex: 665586 entries, 0 to 665585\n",
      "Data columns (total 3 columns):\n",
      " #   Column       Non-Null Count   Dtype \n",
      "---  ------       --------------   ----- \n",
      " 0   movie_id     665586 non-null  int32 \n",
      " 1   sentence_id  665586 non-null  int16 \n",
      " 2   parse        665586 non-null  string\n",
      "dtypes: int16(1), int32(1), string(1)\n",
      "memory usage: 8.9 MB\n",
      "<class 'pandas.core.frame.DataFrame'>\n",
      "RangeIndex: 2921142 entries, 0 to 2921141\n",
      "Data columns (total 6 columns):\n",
      " #   Column          Dtype\n",
      "---  ------          -----\n",
      " 0   movie_id        int32\n",
      " 1   sentence_id     int16\n",
      " 2   start           int16\n",
      " 3   end             int16\n",
      " 4   head            int16\n",
      " 5   representative  bool \n",
      "dtypes: bool(1), int16(4), int32(1)\n",
      "memory usage: 36.2 MB\n"
     ]
    }
   ],
   "source": [
    "tokens_fname = os.path.join(PATH_IN, 'tokens.parquet')\n",
    "dependencies_fname = os.path.join(PATH_IN, 'dependencies.parquet')\n",
    "parses_fname = os.path.join(PATH_IN, 'parses.parquet')\n",
    "coref_fname = os.path.join(PATH_IN, 'coref.parquet')\n",
    "\n",
    "tokens = pd.read_parquet(tokens_fname)\n",
    "dependencies = pd.read_parquet(dependencies_fname)\n",
    "parses = pd.read_parquet(parses_fname)\n",
    "coref = pd.read_parquet(coref_fname)\n",
    "\n",
    "tokens.info()\n",
    "dependencies.info()\n",
    "parses.info()\n",
    "coref.info()"
   ]
  },
  {
   "cell_type": "markdown",
   "id": "dccdf9e3",
   "metadata": {},
   "source": [
    "### Movies metadata (Train data 3)\n",
    "\n",
    "Metadata for 81,741 movies, extracted from the Noverber 4, 2012 dump of Freebase. Tab-separated; columns.\n",
    "1. Wikipedia movie ID\n",
    "2. Freebase movie ID\n",
    "3. Movie name\n",
    "4. Movie release date\n",
    "5. Movie box office revenue\n",
    "6. Movie runtime\n",
    "7. Movie languages (Freebase ID:name tuples)\n",
    "8. Movie countries (Freebase ID:name tuples)\n",
    "9. Movie genres (Freebase ID:name tuples)"
   ]
  },
  {
   "cell_type": "code",
   "execution_count": 6,
   "id": "2b9c2d17",
   "metadata": {},
   "outputs": [
    {
     "name": "stdout",
     "output_type": "stream",
     "text": [
      "<class 'pandas.core.frame.DataFrame'>\n",
      "RangeIndex: 81741 entries, 0 to 81740\n",
      "Data columns (total 9 columns):\n",
      " #   Column                    Non-Null Count  Dtype  \n",
      "---  ------                    --------------  -----  \n",
      " 0   Wikipedia movie ID        81741 non-null  int64  \n",
      " 1   Freebase movie ID         81741 non-null  object \n",
      " 2   Movie name                81741 non-null  object \n",
      " 3   Movie release date        74839 non-null  object \n",
      " 4   Movie box office revenue  8401 non-null   float64\n",
      " 5   Movie runtime             61291 non-null  float64\n",
      " 6   Movie languages           81741 non-null  object \n",
      " 7   Movie countries           81741 non-null  object \n",
      " 8   Movie genres              81741 non-null  object \n",
      "dtypes: float64(2), int64(1), object(6)\n",
      "memory usage: 5.6+ MB\n",
      "\n",
      "\n",
      "<class 'pandas.core.frame.DataFrame'>\n",
      "RangeIndex: 81741 entries, 0 to 81740\n",
      "Data columns (total 10 columns):\n",
      " #   Column                    Non-Null Count  Dtype  \n",
      "---  ------                    --------------  -----  \n",
      " 0   Wikipedia movie ID        81741 non-null  int32  \n",
      " 1   Movie name                81741 non-null  string \n",
      " 2   Movie release Year        74839 non-null  Int16  \n",
      " 3   Movie box office revenue  8401 non-null   float64\n",
      " 4   Movie runtime             61291 non-null  float32\n",
      " 5   Movie languages           81741 non-null  string \n",
      " 6   Movie countries           81741 non-null  string \n",
      " 7   Movie genres              81741 non-null  string \n",
      " 8   Movie release Month       42667 non-null  Int8   \n",
      " 9   Movie release Day         39373 non-null  Int8   \n",
      "dtypes: Int16(1), Int8(2), float32(1), float64(1), int32(1), string(4)\n",
      "memory usage: 4.3 MB\n",
      "<class 'pandas.core.frame.DataFrame'>\n",
      "RangeIndex: 81741 entries, 0 to 81740\n",
      "Data columns (total 4 columns):\n",
      " #   Column             Non-Null Count  Dtype \n",
      "---  ------             --------------  ----- \n",
      " 0   Freebase movie ID  81741 non-null  string\n",
      " 1   language codes     81741 non-null  string\n",
      " 2   countries codes    81741 non-null  string\n",
      " 3   genres codes       81741 non-null  string\n",
      "dtypes: string(4)\n",
      "memory usage: 2.5 MB\n"
     ]
    }
   ],
   "source": [
    "movie_fname = os.path.join(PATH_IN, 'movie.metadata.tsv')\n",
    "\n",
    "movie_column_names = [\n",
    "    \"Wikipedia movie ID\", \n",
    "    \"Freebase movie ID\", \n",
    "    \"Movie name\", \n",
    "    \"Movie release date\", \n",
    "    \"Movie box office revenue\", \n",
    "    \"Movie runtime\", \n",
    "    \"Movie languages\", \n",
    "    \"Movie countries\", \n",
    "    \"Movie genres\",\n",
    "]\n",
    "\n",
    "movies = pd.read_csv(movie_fname,  sep= '\\t', names= movie_column_names)\n",
    "movies.info()\n",
    "\n",
    "movies.loc[46808, 'Movie countries'] = '{\"/m/03rk0\": \"India\"}'\n",
    "movies.loc[67202, 'Movie countries'] = '{\"/m/03rk0\": \"India\"}'\n",
    "movies.loc[67202, 'Movie languages'] = '{\"/m/0999q\": \"Malayalam Language\"}'\n",
    "movies.loc[72685, 'Movie countries'] = '{\"/m/084n_\": \"Weimar Republic\", \"/m/0345h\": \"Germany\"}'\n",
    "\n",
    "movies.loc[1825, \"Movie languages\"] = '{\"/m/04306rv\": \"German Language\"}'\n",
    "movies.loc[7855, \"Movie languages\"] = '{\"/m/02bjrlw\": \"Italian Language\", \"/m/06nm1\": \"Spanish Language\", \"/m/064_8sq\": \"French Language\", \"/m/04h9h\": \"Latin Language\", \"/m/02h40lc\": \"English Language\", \"/m/05qqm\": \"Polish Language\", \"/m/04306rv\": \"German Language\"}'\n",
    "movies.loc[20807, \"Movie languages\"] = '{\"/m/0k0sv\": \"Croatian language\", \"/m/02bjrlw\": \"Italian Language\", \"/m/06b_j\": \"Russian Language\", \"/m/06nm1\": \"Spanish Language\", \"/m/064_8sq\": \"French Language\", \"/m/05zjd\": \"Portuguese Language\", \"/m/02h40lc\": \"English Language\", \"/m/06zvd\": \"Slovenian language\", \"/m/04306rv\": \"German Language\", \"/m/02hwhyv\": \"Korean Language\"}'\n",
    "movies.loc[25679, \"Movie languages\"] = '{\"/m/05qqm\": \"Polish Language\", \"/m/0cjk9\": \"Ukrainian Language\", \"/m/0880p\": \"Yiddish Language\", \"/m/04306rv\": \"German Language\"}'\n",
    "movies.loc[30562, \"Movie languages\"] = '{\"/m/02h40lc\": \"English Language\", \"/m/06b_j\": \"Russian Language\", \"/m/04306rv\": \"German Language\"}'\n",
    "movies.loc[68137, \"Movie languages\"] = '{\"/m/02hwyss\": \"Turkish Language\", \"/m/04306rv\": \"German Language\"}'\n",
    "\n",
    "movies['Movie release Year'] = movies['Movie release date'].str.split('-').str[0].astype('Int64')\n",
    "movies['Movie release Month'] = movies['Movie release date'].str.split('-').str[1].astype('Int64')\n",
    "movies['Movie release Day'] = movies['Movie release date'].str.split('-').str[2].astype('Int64')\n",
    "movies.drop(columns=['Movie release date'], inplace=True)\n",
    "\n",
    "movies['parsed languages'] = movies['Movie languages'].apply(ast.literal_eval)\n",
    "movies['language codes'] = movies['parsed languages'].apply(lambda x: ','.join(list(x.keys())))\n",
    "movies['languages'] = movies['parsed languages'].apply(lambda x: ','.join([val.replace(' Language', '') for val in list(x.values())]))\n",
    "movies.drop(columns=['Movie languages', 'parsed languages'], inplace=True)\n",
    "\n",
    "movies['parsed countries'] = movies['Movie countries'].apply(ast.literal_eval)\n",
    "movies['countries codes'] = movies['parsed countries'].apply(lambda x: ','.join(list(x.keys())))\n",
    "movies['countries'] = movies['parsed countries'].apply(lambda x: ','.join(list(x.values())))\n",
    "movies.drop(columns=['Movie countries', 'parsed countries'], inplace=True)\n",
    "\n",
    "movies['parsed genres'] = movies['Movie genres'].apply(ast.literal_eval)\n",
    "movies['genres codes'] = movies['parsed genres'].apply(lambda x: ','.join(list(x.keys())))\n",
    "movies['genres'] = movies['parsed genres'].apply(lambda x: ','.join(list(x.values())))\n",
    "movies.drop(columns=['Movie genres', 'parsed genres'], inplace=True)\n",
    "\n",
    "\n",
    "movies_probably_not_useful = movies[['Freebase movie ID', 'language codes', 'countries codes', 'genres codes']]\n",
    "movies.drop(columns=['Freebase movie ID', 'language codes', 'countries codes', 'genres codes'], inplace=True)\n",
    "\n",
    "movies.rename(columns={\n",
    "    'languages': 'Movie languages',\n",
    "    'countries': 'Movie countries',\n",
    "    'genres': 'Movie genres'\n",
    "}, inplace=True)\n",
    "movies = movies[['Wikipedia movie ID', 'Movie name', 'Movie release Year', 'Movie box office revenue', 'Movie runtime', 'Movie languages', 'Movie countries', 'Movie genres', \n",
    "                 'Movie release Month', 'Movie release Day']]\n",
    "\n",
    "movies['Movie name'] = movies['Movie name'].astype('string')\n",
    "movies['Movie languages'] = movies['Movie languages'].astype('string')\n",
    "movies['Movie countries'] = movies['Movie countries'].astype('string')\n",
    "movies['Movie genres'] = movies['Movie genres'].astype('string')\n",
    "movies['Wikipedia movie ID'] = pd.to_numeric(movies['Wikipedia movie ID'], downcast='integer')\n",
    "movies['Movie release Year'] = pd.to_numeric(movies['Movie release Year'], downcast='integer')\n",
    "movies['Movie release Month'] = pd.to_numeric(movies['Movie release Month'], downcast='integer')\n",
    "movies['Movie release Day'] = pd.to_numeric(movies['Movie release Day'], downcast='integer')\n",
    "movies['Movie box office revenue'] = pd.to_numeric(movies['Movie box office revenue'], downcast='float')\n",
    "movies['Movie runtime'] = pd.to_numeric(movies['Movie runtime'], downcast='float')\n",
    "\n",
    "movies_probably_not_useful['Freebase movie ID'] = movies_probably_not_useful['Freebase movie ID'].astype('string')\n",
    "movies_probably_not_useful['language codes'] = movies_probably_not_useful['language codes'].astype('string')\n",
    "movies_probably_not_useful['countries codes'] = movies_probably_not_useful['countries codes'].astype('string')\n",
    "movies_probably_not_useful['genres codes'] = movies_probably_not_useful['genres codes'].astype('string')\n",
    "\n",
    "print(\"\\n\")\n",
    "movies.info()\n",
    "movies_probably_not_useful.info()"
   ]
  },
  {
   "cell_type": "markdown",
   "id": "ea15b958",
   "metadata": {},
   "source": [
    "### Characters metadata (Train data 4)\n",
    "\n",
    "Metadata for 450,669 characters aligned to the movies above, extracted from the Noverber 4, 2012 dump of Freebase. Tab-separated; columns:\n",
    "\n",
    "1. Wikipedia movie ID\n",
    "2. Freebase movie ID\n",
    "3. Movie release date\n",
    "4. Character name\n",
    "5. Actor date of birth\n",
    "6. Actor gender\n",
    "7. Actor height (in meters)\n",
    "8. Actor ethnicity (Freebase ID)\n",
    "9. Actor name\n",
    "10. Actor age at movie release\n",
    "11. Freebase character/actor map ID\n",
    "12. Freebase character ID\n",
    "13. Freebase actor ID"
   ]
  },
  {
   "cell_type": "code",
   "execution_count": 7,
   "id": "809a1984",
   "metadata": {},
   "outputs": [
    {
     "name": "stdout",
     "output_type": "stream",
     "text": [
      "<class 'pandas.core.frame.DataFrame'>\n",
      "RangeIndex: 450669 entries, 0 to 450668\n",
      "Data columns (total 13 columns):\n",
      " #   Column                           Non-Null Count   Dtype  \n",
      "---  ------                           --------------   -----  \n",
      " 0   Wikipedia movie ID               450669 non-null  int64  \n",
      " 1   Freebase movie ID                450669 non-null  object \n",
      " 2   Movie release date               440674 non-null  object \n",
      " 3   Character name                   192794 non-null  object \n",
      " 4   Actor DOB                        344524 non-null  object \n",
      " 5   Actor gender                     405060 non-null  object \n",
      " 6   Actor height                     154824 non-null  float64\n",
      " 7   Actor ethnicity                  106058 non-null  object \n",
      " 8   Actor name                       449441 non-null  object \n",
      " 9   Actor age at movie release       292556 non-null  float64\n",
      " 10  Freebase character/actor map ID  450669 non-null  object \n",
      " 11  Freebase character ID            192804 non-null  object \n",
      " 12  Freebase actor ID                449854 non-null  object \n",
      "dtypes: float64(2), int64(1), object(10)\n",
      "memory usage: 44.7+ MB\n",
      "\n",
      "\n",
      "<class 'pandas.core.frame.DataFrame'>\n",
      "RangeIndex: 450669 entries, 0 to 450668\n",
      "Data columns (total 13 columns):\n",
      " #   Column                      Non-Null Count   Dtype   \n",
      "---  ------                      --------------   -----   \n",
      " 0   Wikipedia movie ID          450669 non-null  int32   \n",
      " 1   Movie release Year          440674 non-null  Int16   \n",
      " 2   Character name              192794 non-null  string  \n",
      " 3   Actor DOB Year              344524 non-null  Int16   \n",
      " 4   Actor gender                405060 non-null  category\n",
      " 5   Actor height                154824 non-null  float32 \n",
      " 6   Actor ethnicity             106058 non-null  string  \n",
      " 7   Actor name                  449441 non-null  string  \n",
      " 8   Actor age at movie release  292556 non-null  float64 \n",
      " 9   Movie release Month         290872 non-null  Int8    \n",
      " 10  Movie release Day           273887 non-null  Int8    \n",
      " 11  Actor DOB Month             330658 non-null  Int8    \n",
      " 12  Actor DOB Day               329918 non-null  Int8    \n",
      "dtypes: Int16(2), Int8(4), category(1), float32(1), float64(1), int32(1), string(3)\n",
      "memory usage: 23.6 MB\n",
      "<class 'pandas.core.frame.DataFrame'>\n",
      "RangeIndex: 450669 entries, 0 to 450668\n",
      "Data columns (total 4 columns):\n",
      " #   Column                           Non-Null Count   Dtype \n",
      "---  ------                           --------------   ----- \n",
      " 0   Freebase movie ID                450669 non-null  string\n",
      " 1   Freebase character/actor map ID  450669 non-null  string\n",
      " 2   Freebase character ID            192804 non-null  string\n",
      " 3   Freebase actor ID                449854 non-null  string\n",
      "dtypes: string(4)\n",
      "memory usage: 13.8 MB\n"
     ]
    }
   ],
   "source": [
    "character_fname = os.path.join(PATH_IN, 'character.metadata.tsv')\n",
    "\n",
    "character_column_names = [\n",
    "    \"Wikipedia movie ID\",\n",
    "    \"Freebase movie ID\",\n",
    "    \"Movie release date\",\n",
    "    \"Character name\",\n",
    "    \"Actor DOB\",\n",
    "    \"Actor gender\",\n",
    "    \"Actor height\",\n",
    "    \"Actor ethnicity\",\n",
    "    \"Actor name\",\n",
    "    \"Actor age at movie release\",\n",
    "    \"Freebase character/actor map ID\",\n",
    "    \"Freebase character ID\",\n",
    "    \"Freebase actor ID\",\n",
    "]\n",
    "        \n",
    "characters = pd.read_csv(character_fname, sep= '\\t', names= character_column_names)\n",
    "characters.info()\n",
    "\n",
    "characters['Movie release Year'] = characters['Movie release date'].str.split('-').str[0].astype('Int64')\n",
    "characters['Movie release Month'] = characters['Movie release date'].str.split('-').str[1].astype('Int64')\n",
    "characters['Movie release Day'] = characters['Movie release date'].str.split('-').str[2].astype('Int64')\n",
    "characters.drop(columns=['Movie release date'], inplace=True)\n",
    "\n",
    "characters['Actor DOB'] = characters['Actor DOB'].str.split('T', expand=True)[0]\n",
    "characters['Actor DOB Year'] = characters['Actor DOB'].str.split('-').str[0].astype('Int64')\n",
    "characters['Actor DOB Month'] = characters['Actor DOB'].str.split('-').str[1].astype('Int64')\n",
    "characters['Actor DOB Day'] = characters['Actor DOB'].str.split('-').str[2].astype('Int64')\n",
    "characters.drop(columns=['Actor DOB'], inplace=True)\n",
    "\n",
    "\n",
    "characters_probably_not_useful = characters[['Freebase movie ID', 'Freebase character/actor map ID', 'Freebase character ID', 'Freebase actor ID']]\n",
    "characters.drop(columns=['Freebase movie ID', 'Freebase character/actor map ID', 'Freebase character ID', 'Freebase actor ID'], inplace=True)\n",
    "\n",
    "characters = characters[['Wikipedia movie ID', 'Movie release Year', 'Character name', 'Actor DOB Year', 'Actor gender', 'Actor height', 'Actor ethnicity', 'Actor name', \n",
    "                 'Actor age at movie release', 'Movie release Month', 'Movie release Day', 'Actor DOB Month', 'Actor DOB Day']]\n",
    "\n",
    "characters['Character name'] = characters['Character name'].astype('string')\n",
    "characters['Actor ethnicity'] = characters['Actor ethnicity'].astype('string')\n",
    "characters['Actor name'] = characters['Actor name'].astype('string')\n",
    "\n",
    "\n",
    "characters['Actor gender'] = characters['Actor gender'].astype('category')\n",
    "\n",
    "characters['Wikipedia movie ID'] = pd.to_numeric(characters['Wikipedia movie ID'], downcast='integer')\n",
    "characters['Movie release Year'] = pd.to_numeric(characters['Movie release Year'], downcast='integer')\n",
    "characters['Actor DOB Year'] = pd.to_numeric(characters['Actor DOB Year'], downcast='integer')\n",
    "characters['Actor height'] = pd.to_numeric(characters['Actor height'], downcast='float')\n",
    "characters['Actor age at movie release'] = pd.to_numeric(characters['Actor age at movie release'], downcast='integer')\n",
    "characters['Movie release Month'] = pd.to_numeric(characters['Movie release Month'], downcast='integer')\n",
    "characters['Movie release Day'] = pd.to_numeric(characters['Movie release Day'], downcast='integer')\n",
    "characters['Actor DOB Month'] = pd.to_numeric(characters['Actor DOB Month'], downcast='integer')\n",
    "characters['Actor DOB Day'] = pd.to_numeric(characters['Actor DOB Day'], downcast='integer')\n",
    "\n",
    "characters_probably_not_useful['Freebase movie ID'] = characters_probably_not_useful['Freebase movie ID'].astype('string')\n",
    "characters_probably_not_useful['Freebase character/actor map ID'] = characters_probably_not_useful['Freebase character/actor map ID'].astype('string')\n",
    "characters_probably_not_useful['Freebase character ID'] = characters_probably_not_useful['Freebase character ID'].astype('string')\n",
    "characters_probably_not_useful['Freebase actor ID'] = characters_probably_not_useful['Freebase actor ID'].astype('string')\n",
    "\n",
    "print(\"\\n\")\n",
    "characters.info()\n",
    "characters_probably_not_useful.info()"
   ]
  },
  {
   "cell_type": "markdown",
   "id": "f09203c9",
   "metadata": {},
   "source": [
    "### tvtropes clusters (Test data 1)\n",
    "\n",
    "72 character types drawn from tvtropes.com, along with 501 instances of those types. The ID field indexes into the Freebase character/actor map ID in character.metadata.tsv."
   ]
  },
  {
   "cell_type": "code",
   "execution_count": 8,
   "id": "d12defde",
   "metadata": {},
   "outputs": [
    {
     "name": "stdout",
     "output_type": "stream",
     "text": [
      "<class 'pandas.core.frame.DataFrame'>\n",
      "RangeIndex: 501 entries, 0 to 500\n",
      "Data columns (total 5 columns):\n",
      " #   Column                           Non-Null Count  Dtype \n",
      "---  ------                           --------------  ----- \n",
      " 0   Character type                   501 non-null    string\n",
      " 1   Character name                   501 non-null    string\n",
      " 2   Movie name                       501 non-null    string\n",
      " 3   Freebase character/actor map ID  501 non-null    string\n",
      " 4   Actor name                       501 non-null    string\n",
      "dtypes: string(5)\n",
      "memory usage: 19.7 KB\n"
     ]
    }
   ],
   "source": [
    "tvtropes_clusters_fname = os.path.join(PATH_IN, 'tvtropes.clusters.txt')\n",
    "\n",
    "rows = []\n",
    "with open(tvtropes_clusters_fname, 'r') as file:\n",
    "    for line in file:\n",
    "        char_type, json_string = line.strip().split('\\t', 1)\n",
    "        \n",
    "        char_info = json.loads(json_string)\n",
    "        \n",
    "        row = {\n",
    "            'Character type': char_type,\n",
    "            'Character name': char_info['char'],\n",
    "            'Movie name': char_info['movie'],\n",
    "            'Freebase character/actor map ID': char_info['id'],\n",
    "            'Actor name': char_info['actor']\n",
    "        }\n",
    "        rows.append(row)\n",
    "\n",
    "tvtropes_clusters = pd.DataFrame(rows)\n",
    "tvtropes_clusters = tvtropes_clusters.astype('string')\n",
    "\n",
    "tvtropes_clusters.info()"
   ]
  },
  {
   "cell_type": "markdown",
   "id": "f1110df9",
   "metadata": {},
   "source": [
    "### Name clusters (Test data 2)\n",
    "\n",
    "970 unique character names used in at least two different movies, along with 2,666 instances of those types. The ID field indexes into the Freebase character/actor map ID in character.metadata.tsv."
   ]
  },
  {
   "cell_type": "code",
   "execution_count": 9,
   "id": "2ab55a57",
   "metadata": {},
   "outputs": [
    {
     "name": "stdout",
     "output_type": "stream",
     "text": [
      "<class 'pandas.core.frame.DataFrame'>\n",
      "RangeIndex: 2666 entries, 0 to 2665\n",
      "Data columns (total 2 columns):\n",
      " #   Column                           Non-Null Count  Dtype \n",
      "---  ------                           --------------  ----- \n",
      " 0   Character name                   2666 non-null   string\n",
      " 1   Freebase character/actor map ID  2666 non-null   string\n",
      "dtypes: string(2)\n",
      "memory usage: 41.8 KB\n"
     ]
    }
   ],
   "source": [
    "name_clusters_fname = os.path.join(PATH_IN, 'name.clusters.txt')\n",
    "\n",
    "names_clusters = pd.read_csv(name_clusters_fname, sep='\\t', names=['Character name', 'Freebase character/actor map ID'], dtype='string')\n",
    "\n",
    "names_clusters.info()"
   ]
  },
  {
   "cell_type": "markdown",
   "metadata": {},
   "source": [
    "# Cleaning the CMU Data\n",
    "\n",
    "----------------------------------------------------------------------------------"
   ]
  },
  {
   "cell_type": "markdown",
   "metadata": {},
   "source": [
    "## 1. The Movies Dataset"
   ]
  },
  {
   "cell_type": "markdown",
   "metadata": {},
   "source": [
    "### 1.1 - Trying to cure the large number of missing values"
   ]
  },
  {
   "cell_type": "code",
   "execution_count": 10,
   "metadata": {},
   "outputs": [
    {
     "name": "stdout",
     "output_type": "stream",
     "text": [
      "Number of movie entries : 81741\n",
      "Number of unique Wikipedia Movie IDs: 81741\n",
      "Number of movies with missing Movie Names : 0\n",
      "Number of entries with missing Box office revenue : 73340\n",
      "Number of entries with missing runtime : 20450\n",
      "Number of entries with missing Release year: 6902\n"
     ]
    }
   ],
   "source": [
    "print('Number of movie entries :',len(movies))\n",
    "print('Number of unique Wikipedia Movie IDs:', movies['Wikipedia movie ID'].nunique())\n",
    "print('Number of movies with missing Movie Names :', movies['Movie name'].isna().sum())\n",
    "print('Number of entries with missing Box office revenue :',movies['Movie box office revenue'].isna().sum())\n",
    "print('Number of entries with missing runtime :',movies['Movie runtime'].isna().sum())\n",
    "print('Number of entries with missing Release year:',movies['Movie release Year'].isna().sum())"
   ]
  },
  {
   "cell_type": "markdown",
   "metadata": {},
   "source": [
    "Large number of missing values, and some in there are probably wrong. Let's assume that Wikipedia must have right info about the films and let's try to use the `pymediawiki` API to retrieve interesting information. We also import the PageError and DisambiguationError exceptions, as we will make us of them to check a few things.\n",
    "\n",
    "We declare a `MediaWiki` instance that we have will be the main tool to retrieve the information present on the wikipedia pages of the movie. "
   ]
  },
  {
   "cell_type": "code",
   "execution_count": 11,
   "metadata": {},
   "outputs": [],
   "source": [
    "#Initializing the utils to do page-search\n",
    "from mediawiki import MediaWiki\n",
    "from mediawiki.exceptions import PageError,DisambiguationError\n",
    "import mwparserfromhell\n",
    "import re\n",
    "wikipedia = MediaWiki(user_agent='Movie Data Scraping')"
   ]
  },
  {
   "cell_type": "markdown",
   "metadata": {},
   "source": [
    "How are we accessing the pages ? Thanks to the `Wikipedia movie ID` column of the `movies` dataset. This wikipedia movie ID is actually the \"wgArticleid\" (i.e the page identifier) of a MediaWiki page. \n",
    "\n",
    "An example is shown with the \"Ghost of Mars\" film from 2001 just below :"
   ]
  },
  {
   "cell_type": "code",
   "execution_count": 12,
   "metadata": {},
   "outputs": [
    {
     "data": {
      "text/html": [
       "<div>\n",
       "<style scoped>\n",
       "    .dataframe tbody tr th:only-of-type {\n",
       "        vertical-align: middle;\n",
       "    }\n",
       "\n",
       "    .dataframe tbody tr th {\n",
       "        vertical-align: top;\n",
       "    }\n",
       "\n",
       "    .dataframe thead th {\n",
       "        text-align: right;\n",
       "    }\n",
       "</style>\n",
       "<table border=\"1\" class=\"dataframe\">\n",
       "  <thead>\n",
       "    <tr style=\"text-align: right;\">\n",
       "      <th></th>\n",
       "      <th>Wikipedia movie ID</th>\n",
       "      <th>Movie name</th>\n",
       "      <th>Movie release Year</th>\n",
       "      <th>Movie box office revenue</th>\n",
       "      <th>Movie runtime</th>\n",
       "      <th>Movie languages</th>\n",
       "      <th>Movie countries</th>\n",
       "      <th>Movie genres</th>\n",
       "      <th>Movie release Month</th>\n",
       "      <th>Movie release Day</th>\n",
       "    </tr>\n",
       "  </thead>\n",
       "  <tbody>\n",
       "    <tr>\n",
       "      <th>0</th>\n",
       "      <td>975900</td>\n",
       "      <td>Ghosts of Mars</td>\n",
       "      <td>2001</td>\n",
       "      <td>14010832.0</td>\n",
       "      <td>98.0</td>\n",
       "      <td>English</td>\n",
       "      <td>United States of America</td>\n",
       "      <td>Thriller,Science Fiction,Horror,Adventure,Supe...</td>\n",
       "      <td>8</td>\n",
       "      <td>24</td>\n",
       "    </tr>\n",
       "    <tr>\n",
       "      <th>1</th>\n",
       "      <td>3196793</td>\n",
       "      <td>Getting Away with Murder: The JonBenét Ramsey ...</td>\n",
       "      <td>2000</td>\n",
       "      <td>NaN</td>\n",
       "      <td>95.0</td>\n",
       "      <td>English</td>\n",
       "      <td>United States of America</td>\n",
       "      <td>Mystery,Biographical film,Drama,Crime Drama</td>\n",
       "      <td>2</td>\n",
       "      <td>16</td>\n",
       "    </tr>\n",
       "  </tbody>\n",
       "</table>\n",
       "</div>"
      ],
      "text/plain": [
       "   Wikipedia movie ID                                         Movie name  \\\n",
       "0              975900                                     Ghosts of Mars   \n",
       "1             3196793  Getting Away with Murder: The JonBenét Ramsey ...   \n",
       "\n",
       "   Movie release Year  Movie box office revenue  Movie runtime  \\\n",
       "0                2001                14010832.0           98.0   \n",
       "1                2000                       NaN           95.0   \n",
       "\n",
       "  Movie languages           Movie countries  \\\n",
       "0         English  United States of America   \n",
       "1         English  United States of America   \n",
       "\n",
       "                                        Movie genres  Movie release Month  \\\n",
       "0  Thriller,Science Fiction,Horror,Adventure,Supe...                    8   \n",
       "1        Mystery,Biographical film,Drama,Crime Drama                    2   \n",
       "\n",
       "   Movie release Day  \n",
       "0                 24  \n",
       "1                 16  "
      ]
     },
     "execution_count": 12,
     "metadata": {},
     "output_type": "execute_result"
    },
    {
     "name": "stdout",
     "output_type": "stream",
     "text": [
      "<MediaWikiPage 'Ghosts of Mars'>\n"
     ]
    }
   ],
   "source": [
    "movies.head(2)\n",
    "gom_wikipage = wikipedia.page(pageid=975900)\n",
    "print(gom_wikipage)"
   ]
  },
  {
   "cell_type": "markdown",
   "metadata": {},
   "source": [
    "This obtained MediaWikiPage instance thus contains information about the movie !"
   ]
  },
  {
   "cell_type": "markdown",
   "metadata": {},
   "source": [
    "Lots of info to infer to our movies dataset in order to improve the quality of the data. Moreover, near the end in the ==External links== section, we can see that the IMDb title is available and is actually the same as in the IMDb dataset that we're using (you can check in _relationships.ipynb_)\n",
    "\n",
    "Still have many things to check, but that's a start.\n",
    "\n",
    "\n",
    "\n",
    "#### Retrieving the IMDb ID\n",
    "We can get the IMDb id using the fact that, if it is present on the page, it will always be in the External links section (at least in the few dozens of movies checked by hand) Example with the second film of the movie.head() displayed above :"
   ]
  },
  {
   "cell_type": "code",
   "execution_count": 12,
   "metadata": {},
   "outputs": [
    {
     "name": "stdout",
     "output_type": "stream",
     "text": [
      "['==External links==\\n* {{IMDb title|0245916|Getting Away with Murder: The JonBenet Ramsey Story}}\\n\\n[[Category:2000 documentary films]]\\n[[Category:2000 television films]]\\n[[Category:2000s American films]]\\n[[Category:American biographical films]]\\n[[Category:Fox Broadcasting Company original programming]]\\n[[Category:Fox network original films]]\\n[[Category:Killing of JonBenét Ramsey]]\\n[[Category:Television series by Rocket Science Laboratories]]']\n",
      "0245916\n"
     ]
    }
   ],
   "source": [
    "#Getting the WikiMedia page corresponding to our film\n",
    "page = wikipedia.page(pageid=3196793)\n",
    "#Using the mwparserfromhell library to retrieve the wikitext for easier handling\n",
    "text = mwparserfromhell.parse(page.wikitext)\n",
    "#Using the get_sections function of mwparserfromhell to only get the 'external link' section\n",
    "external_links_text = text.get_sections(matches='External links')\n",
    "#Searching for the {IMDb title|id|...} form which contains our id, and retrieving it\n",
    "imdb_id = re.search(r'\\{\\{IMDb title\\|(\\d+)(?:\\|.*?)?\\}\\}', str(external_links_text)).group(1)\n",
    "print(external_links_text)\n",
    "print(imdb_id)"
   ]
  },
  {
   "cell_type": "markdown",
   "metadata": {},
   "source": [
    "#### Retrieving information already present in the dataset\n",
    "\n",
    "Let's first tackle the issue about cleaning the dataset. As we know, many of the `Movie Box office revenue` and `Movie runtime` are missing. Using the same principle as above, we will retrieve the runtime and revenue of the film 'Ghosts of Mars'"
   ]
  },
  {
   "cell_type": "code",
   "execution_count": 24,
   "metadata": {},
   "outputs": [
    {
     "name": "stdout",
     "output_type": "stream",
     "text": [
      "{{Short description|2001 film by John Carpenter}}\n",
      "{{Use mdy dates|date=August 2020}}\n",
      "{{Infobox film\n",
      "| name           = Ghosts of Mars\n",
      "| image          = John Carpenter's Ghosts of Mars.jpg\n",
      "| alt            = \n",
      "| caption        = U.S. theatrical release poster\n",
      "| director       = [[John Carpenter]]\n",
      "| producer       = [[Sandy King (producer)|Sandy King]]\n",
      "| writer         = John Carpenter<br />Larry Sulkis\n",
      "| starring       = {{Plainlist|\n",
      "* [[Ice Cube]]\n",
      "* [[Natasha Henstridge]]<!--per poster block - Cube is first billed, Henstridge second.-->\n",
      "* [[Jason Statham]]\n",
      "* [[Pam Grier]]\n",
      "* [[Clea DuVall]]\n",
      "* [[Joanna Cassidy]]\n",
      "}}\n",
      "| music          = John Carpenter\n",
      "| cinematography = [[Gary B. Kibbe]]\n",
      "| editing        = Paul C. Warschilka\n",
      "| studio         = [[Screen Gems]]<br />Storm King Productions\n",
      "| distributor    = [[Sony Pictures Releasing]]<ref>{{cite web|title=John Carpenter's Ghosts of Mars (2001)|work=[[AFI Catalog of Feature Films]]|access-date=12 March 2021|url=http://catalog.afi.com/Film/62065-JOHN-CARPENTERSGHOSTSOFMARS?sid=69ec9ee4-c06a-4ec5-ae97-b40f849f3099&sr=15.194245&cp=1&pos=0}}</ref>\n",
      "| released       = {{Film date|2001|08|24}}\n",
      "| runtime        = 98 minutes\n",
      "| country        = United States\n",
      "| language       = English\n",
      "| budget         = $28&nbsp;million<ref name=\"BOM\" >{{mojo title|ghostsofmars|John Carpenter's Ghosts of Mars}}</ref>\n",
      "| gross          = $14&nbsp;million<ref name=\"BOM\" />\n",
      "}}\n",
      "'''''Ghosts of Mars''''' (titled onscreen as '''''John Carpenter's Ghosts of Mars''''') is a 2001 American [[space Western]]<ref>{{cite web|title=Escape From Outer Space: An exploration of John Carpenter's 'Ghosts of Mars'|work=PopOptiq|date=October 21, 2015 |access-date=8 May 2023|url=https://www.popoptiq.com/escape-outer-space-exploration-john-carpenters-ghosts-mars/}}</ref> [[action horror film]] written, directed and scored by [[John Carpenter]]. It was produced by [[Screen Gems]] and distributed by [[Sony Pictures Motion Picture Group|Sony Pictures Releasing]]. The film stars [[Natasha Henstridge]], [[Ice Cube]], [[Jason Statham]], [[Pam Grier]], [[Clea DuVall]], and [[Joanna Cassidy]]. Set on a [[Colonization of Mars|colonized]] [[Mars]] in the 22nd century, the film follows a squad of police officers and a convicted criminal who fight against the residents of a mining colony who have been possessed by the ghosts of the planet's original inhabitants.\n",
      "\n",
      "The film received mostly negative reviews and was a [[box office bomb]], earning $14&nbsp;million against a $28&nbsp;million production budget.<ref name=\"BOM\" /> The film would be John Carpenter's last feature until his return with ''[[The Ward (film)|The Ward]]'' in 2010.\n",
      "\n",
      "The film has received a [[cult following]] since its release, with critics praising the action sequences, soundtrack and blending of genres.<ref>{{Cite web|url=http://411mania.com/movies/gratuitous-b-movie-column-john-carpenters-ghosts-mars-awesome/|title=411MANIA|website=The Gratuitous B-Movie Column: Why John Carpenter's Ghosts of Mars Is Awesome|access-date=December 25, 2020|archive-date=July 21, 2018|archive-url=https://web.archive.org/web/20180721102510/https://411mania.com/movies/gratuitous-b-movie-column-john-carpenters-ghosts-mars-awesome/|url-status=dead}}</ref><ref>{{Cite web|url=https://spectrumculture.com/2019/05/23/oeuvre-carpenter-ghosts-of-mars/|title=Oeuvre: Carpenter: Ghosts of Mars|date=May 24, 2019|website=Spectrum Culture}}</ref><ref>{{Cite web|url=https://www.theguardian.com/film/2021/jun/04/john-carpenter-ghosts-of-mars-not-bad-movie| title=Hear me out: why John Carpenter's Ghosts of Mars isn't a bad movie| date=June 4, 2021| newspaper=[[The Guardian]]}}</ref> Given the film's debt to [[Western (genre)|Western]] cinema, particularly the works of Howard Hawks, it has been considered by a number of critics as an example of the [[Weird West]]ern subgenre.{{citation needed|date=March 2023}}\n",
      "\n",
      "==Plot==\n",
      "Set in the second half of the 22nd century, Mars has been 85% terraformed, giving the planet an Earth-like atmosphere. Martian society has become matriarchal, centering on the city of Chryse, with smaller, far-reaching outposts connected by an expansive network of trains. In the wake of a series of mysterious 'incidents', Mars Police Force officer Lt. Melanie Ballard is called before a tribunal to give testimony following a disastrous mission to the remote mining outpost Shining Canyon to retrieve convicted felon James 'Desolation' Williams of which she is apparently the sole survivor.\n",
      "\n",
      "Through a series of flashbacks, and flashbacks within flashbacks as new perspectives are incorporated into the narrative, Ballard recounts her mission to Shining Canyon. Accompanied by commanding officer Helena Braddock, cocky sergeant Jericho Butler and rookie officers Bashira Kincaid and Michael Descanso, Ballard arrives at Shining Canyon to find the town seemingly deserted. Investigating the town's jail, Braddock discovers a trio of individuals who appear to have sealed themselves into one of the cells; among them science officer Dr. Arlene Whitlock.\n",
      "\n",
      "Ballard and Butler discover a number of disoriented miners and an escaped Desolation. The group are soon attacked by several of the miners, forcing Ballard and Desolation to band together and incapacitate them. Ballard is forced to shoot and kill one of them, causing their affliction to be passed on to one of the three survivors. Butler, venturing out to the edge of town in pursuit of one of the feral miners, discovers a row of severed heads mounted on spikes, including the head of Commander Braddock, and a large assembly in the canyon below committing horrific acts of self-mutilation and ritualistic execution.\n",
      "\n",
      "Desolation's associates soon arrive and force Ballard and Butler to release him. While they originally plan on leaving the officers and remaining miners to die, Ballard convinces them to work together to survive. Their initial effort to escape is halted when the army of feral miners converge on their position, killing, injuring and infecting several of their number. Confronted by Ballard, Whitlock eventually explains that she fled from her post after discovering an ancient underground vault created by an extinct Martian civilization. When the door to the vault was opened, it released hostile spirits or \"ghosts\", which took possession of the workers, causing their violent behavior. Killing a possessed human merely releases the Martian spirit to possess another host. Ballard surmises that these Martian spirits believe humans to be an invading race. Ballard is briefly possessed until Butler feeds her a hallucinogenic drug, which forces the Martian spirit to leave her body.\n",
      "\n",
      "The group are forced to flee as the possessed workers breach the jail, leaving only Ballard, Desolation, Butler, Kincaid and Whitlock left alive. While they are able to make it to the train, Ballard realizes that they have a duty to exterminate the Martian threat and decide to return to Shining Canyon to overload the outpost's nuclear power plant, assuming that the ensuing atomic blast will vaporize the spirits. While they are able to initiate the meltdown, Whitlock is possessed, while Butler, Kincaid and the two train operators are killed. Boarding the train, the two watch as the army is engulfed in the explosion. Desolation tends to Ballard's wounds. Unwilling to face the authorities, he handcuffs Ballard to her cot and leaves. She moves to shoot him, but realizes her respect for him and lets him make his escape.\n",
      "\n",
      "Resting after her tribunal, Ballard is woken by an alert that the city is under attack. Realizing their attempt to destroy the spirits failed, she readies herself to face the onslaught alone until she is greeted by Desolation, who hands her a weapon. The two agree to fight their way out of the city together.\n",
      "\n",
      "==Cast==\n",
      "{{Div col}}\n",
      "* [[Natasha Henstridge]] as Lieutenant Melanie Ballard\n",
      "* [[Ice Cube]] as James \"Desolation\" Williams\n",
      "* [[Jason Statham]] as Sergeant Jericho Butler\n",
      "* [[Clea DuVall]] as Officer Bashira Kincaid\n",
      "* [[Pam Grier]] as Commander Helena Braddock\n",
      "* [[Joanna Cassidy]] as Dr. Arlene Whitlock\n",
      "* Richard Cetrone as Big Daddy Mars\n",
      "* Eileen Weisinger as Woman Warrior\n",
      "* [[Liam Waite]] as Officer Michael Descanso\n",
      "* [[Duane Davis]] as \"Uno\" Williams\n",
      "* Lobo Sebastian as \"Dos\"\n",
      "* [[Rodney A. Grant]] as \"Tres\"\n",
      "* [[Peter Jason]] as McSimms\n",
      "* [[Wanda De Jesus]] as Akooshay\n",
      "* [[Robert Carradine]] as Rodale\n",
      "* [[Rosemary Forsyth]] as Inquisitor\n",
      "* [[Doug McGrath]] as Benchley\n",
      "* Rick Edelstein as Zimmerman\n",
      "* [[Rex Linn]] as Yared\n",
      "* [[Marjean Holden]] as Young Woman\n",
      "* [[Charlotte Cornwell]] as The Narrator\n",
      "{{div col end}}\n",
      "\n",
      "==Production==\n",
      "It has been widely reported that the script to ''Ghosts of Mars'' originally started off as a potential [[Snake Plissken]] sequel.<ref>{{Cite web|url=https://bloody-disgusting.com/editorials/3403507/15th-anniversary-ghosts-of-mars/|title=[15th Anniversary] 60 Thoughts I Had While Watching John Carpenter's 'Ghosts of Mars'|first=Trace|last=Thurman|date=August 24, 2016}}</ref><ref>{{Cite web|url=https://filmschoolrejects.com/john-carpenter-ghosts-of-mars-commentary/|title=27 Things We Learned from John Carpenter's 'Ghosts of Mars' Commentary|date=April 30, 2019|website=Film School Rejects}}</ref> However, this rumor has been publicly dispelled by the film's producer, Sandy King Carpenter.<ref>{{Cite web|url=https://twitter.com/stormkingskc/status/1258449669505470464|title=Tweet|first=Sandy|last=Carpenter|date=May 7, 2020}}</ref>\n",
      "\n",
      "[[Michelle Yeoh]], [[Franka Potente]] and [[Famke Janssen]] were the first choices for the role of Melanie Ballard, but they turned it down. [[Courtney Love]] was originally cast, but she left the project. Natasha Henstridge replaced her by the suggestion of her boyfriend [[Liam Waite]]. Jason Statham was originally going to play Desolation Williams, but he was replaced by Ice Cube because the producers needed some star power for the part, and Statham instead played the character of Jericho Butler.\n",
      "\n",
      "Although Mars has a day/night cycle almost identical in length to Earth's, most of the film is set at night. Mars is shown only once in the daytime, in a flashback when a scientist describes how she found and opened a tunnel, unleashing the alien spirits.\n",
      "\n",
      "Filming began on August 8, 2000, and ended on October 31, 2000. Production had to be shut down for a week when Henstridge fell ill due to extreme exhaustion as she had just done two other films back-to-back before joining production at the last moment.{{citation needed|date=November 2021}}\n",
      "\n",
      "Much of the film was shot in a [[New Mexico]] [[gypsum]] mine. The pure white gypsum had to be dyed with gallons of food coloring to recreate the red Martian landscape.<ref>{{cite web |url=https://www.denofgeek.com/movies/ghosts-of-mars/26980/10-remarkable-things-about-john-carpenters-ghosts-of-mars|title=Den of Geek – 10 remarkable things about John Carpenter's Ghosts Of Mars|work=denofgeek.com|date=August 27, 2013}}</ref>\n",
      "\n",
      "==Release==\n",
      "===Critical reception===\n",
      "''Ghosts of Mars'' received mostly negative reviews. [[Rotten Tomatoes]] gives the film a score of 24% based on 110 reviews, with the consensus stating \"John Carpenter's ''Ghosts of Mars'' is not one of Carpenter's better movies, filled as it is with bad dialogue, bad acting, confusing [[flashback (narrative)|flashback]]s, and scenes that are more [[Camp (style)|campy]] than scary.\"<ref name=\"RT\" >{{rotten-tomatoes|john_carpenters_ghosts_of_mars|John Carpenter's Ghosts of Mars}}</ref> On [[Metacritic]], the film has a score of 35 out of 100 based on 26 reviews, indicating \"generally unfavorable reviews\". Audiences polled by [[CinemaScore]] gave the film an average grade of \"C−\" on an A+ to F scale.<ref name=\"CinemaScore\">{{cite web |url=https://m.cinemascore.com |title=CinemaScore |work=cinemascore.com}}</ref>\n",
      "\n",
      "Rita Kempley of ''[[The Washington Post]]'' called the film \"a schlocky, sluggish shoot-em-up\", giving the film one star out of five, and later listing the film as the 3rd worst film of the year. Marc Savlov of ''[[The Austin Chronicle]]'' gave the film one star out of five, saying \"Ghosts of Mars is a muddled, derivative, and embarrassing disaster straight on through.\"<ref>{{cite web |url=https://www.austinchronicle.com/events/film/2001-08-24/141402/ |website=Austin Chronicle|title=Movie Review: John Carpenter's Ghosts of Mars}}</ref> Bruce Fretts of ''[[Entertainment Weekly]]'' said about the film \"...it's distressingly amateurish and hackneyed to the point of absurdity,\" further adding \"it's dishearting to see the 'master of horror' bring himself to both write and direct a film with such a [[prepubescent]] understanding of horror\".<ref>{{Cite magazine|url=https://ew.com/ew/article/review/movie/0,6115,172500~1~0~johncarpentersghostsof,00.html|title=Protected Blog › Log in|magazine=Entertainment Weekly}}</ref> James Berardinelli gave the film 1.5 stars out of four.<ref>{{cite web  |url=http://www.reelviews.net/movies/g/ghosts_mars.html |title=Ghost of Mars |publisher=reelviews.net}}</ref> Rob Gonsalves of eFilmCritic.com suggested that the film was symbolic of \"Carpenter at rock bottom\". According to press reviews, factors contributing to the box office failure of the film included \"poor set designs, hammy acting and a poorly developed script\".<ref>{{Cite web|url=http://ihorrordatabase.blogspot.com/2016/08/on-this-day-in-horror-august-24th.html|title=IHdb|last=IHdb|access-date=November 6, 2017}}</ref>\n",
      "\n",
      "Conversely, [[Roger Ebert]] of the ''[[Chicago Sun-Times]]'', gave the film three stars out of four, writing, \"''Ghosts of Mars'' delivers on its chosen level and I enjoyed it, but I wonder why so many science-fiction films turn into extended exercises in Blast the Aliens...this is an instance where it works.\"<ref>{{Cite web|url=https://rogerebert.com/reviews/ghosts-of-mars-2001|title=Ghosts of Mars Movie Review & Film Summary (2001) {{!}} Roger Ebert|last=Ebert|first=Roger|website=rogerebert.com|access-date=January 5, 2017}}</ref> [[Richard Roeper]] also awarded the film three stars out of four, saying \"is it stupid? Certainly. I think that's the point. Carpenter is a smart man and he knows exactly what he's doing. I miss seeing campy action flicks like this at the [[drive-in]].\" [[David Stratton]] and [[Margaret Pomeranz]], film critics for ''[[The Movie Show]]'', both awarded the film three stars out of five. In his review, Stratton made the following observation – \"John Carpenter doesn't seem to have moved forward from the 70s and early 80s, when he made his best films. Though it's not terribly exciting, ''Ghosts Of Mars'' does have a marvelously skewed vision and can deliver genuine morbid laughs when it wants to.\"<ref>{{Cite news|url=http://www.sbs.com.au/movies/review/sci-fi-fans-will-love-it|title=Sci-Fi fans will love it!|newspaper=SBS Movies|access-date=January 5, 2017}}</ref>\n",
      "\n",
      "Ice Cube was very critical about the movie: \"I don't like that movie. I'm a big fan of John Carpenter and the only reason I did it was because John Carpenter directed it but they really didn't have the money to pull the [[special effects]] off.\"<ref>{{cite web|url=http://www.contactmusic.com/ice-cube/news/ice-cube-regrets-turning-down-menace-taking-ghosts-of-mars_1081122|title=Ice Cube Regrets Turning Down Menace + Taking Ghosts Of Mars|date=September 20, 2008}}</ref>\n",
      "\n",
      "Responding to the criticism towards the film, Carpenter stated he was intentionally trying to make ''Ghosts of Mars'' as over-the-top and [[tongue-in-cheek]] as possible. He claimed he was trying to make a mindless and silly, yet highly entertaining and thrilling, action flick where \"the universe allows its characters and plot points to be silly without becoming full-fledged comedies\", akin to 80s movies like ''[[Commando (1985 film)|Commando]]'', ''[[Rambo: First Blood Part II]]'', and ''[[Predator (film)|Predator]]''. Looking back on the film and its criticism, he stated he was frustrated that most people thought the film was meant to be a serious horror movie, and feels that he should've made the film more openly comedic and \"in on the joke\", saying \"I have no power over what critics say, but when people complained about the movie being campy and not scary...the name of the movie is Ghosts Of Mars, I figured the campiness would be self-explanatory.\"{{Citation needed|date=April 2020}}\n",
      "\n",
      "===Box office===\n",
      "The film opened at No. 9 in the North American box office in its opening weekend (8/24-26) with $3,804,452,<ref>{{cite web|url=https://boxofficemojo.com/weekend/chart/?yr=2001&wknd=34&p=.htm|title=Weekend Box Office Results for August 24–26, 2001 – Box Office Mojo|website=Box Office Mojo}}</ref> grossed $8,709,640 in the North American domestic box office, and $5,301,192 internationally, totaling $14,010,832 worldwide.<ref name=\"BOM\" /> On a budget of $28&nbsp;million, ''Ghosts of Mars'' was a box office disappointment.\n",
      "\n",
      "==Soundtrack==\n",
      "{{main|Ghosts of Mars (soundtrack){{!}}''Ghosts of Mars'' (soundtrack)}}\n",
      "{{Infobox album\n",
      "| name       = Ghosts of Mars\n",
      "| type       = soundtrack\n",
      "| artist     = [[John Carpenter]]\n",
      "| cover      = \n",
      "| alt        =\n",
      "| released   = 2001\n",
      "| recorded   =\n",
      "| venue      =\n",
      "| studio     = Cherokee Studios, Hollywood\n",
      "| genre      = {{flatlist|\n",
      "* [[Heavy metal music|Heavy metal]]\n",
      "* [[film score]]\n",
      "}}\n",
      "| length     = 42:59\n",
      "| label      = [[Varèse Sarabande]]\n",
      "| producer   = [[Bruce Robb]]\n",
      "| prev_title = [[Vampires (soundtrack)|Vampires]]\n",
      "| prev_year  = 1998\n",
      "| next_title = [[Assault on Precinct 13 (soundtrack)|Assault on Precinct 13]]\n",
      "| next_year  = 2003\n",
      "}}\n",
      "{{Album ratings\n",
      "| rev1 = Filmtracks\n",
      "| rev1Score = {{rating|1.0|5}}<ref>{{cite web|url=http://www.filmtracks.com/titles/ghosts_mars.html |title=Ghosts of Mars (John Carpenter) |publisher=Filmtracks |date=September 1, 2001|access-date=January 16, 2013}}</ref>\n",
      "| rev2 = SoundtrackNet\n",
      "| rev2Score = {{rating|2.5|5}}<ref>{{cite web|author=Other reviews by Messrob Torikian |url=http://www.soundtrack.net/albums/database/?id=2877 |title=Ghosts Of Mars (2001) |publisher=Soundtrack |date=August 2, 2003|access-date=January 16, 2013}}</ref>\n",
      "| noprose = yes\n",
      "}}\n",
      "For the film's soundtrack, John Carpenter recorded a number of synthesizer pieces and assembled an all-star cast of guitarists (including thrash metal band [[Anthrax (American band)|Anthrax]], virtuoso [[Steve Vai]], genre spanning [[Buckethead]], and former [[Guns N' Roses]]/current [[Nine Inch Nails]] guitarist [[Robin Finck]]) to record an energetic and technically proficient heavy metal score. Reaction to the soundtrack was mixed; many critics praised the high standard of musicianship and the strong pairing of heavy metal riffs with the film's action sequences, but complained about the overlong guitar solos, the drastic differences between the cues used in the film and the full tracks and the absence of any of the film's ambient synth score from the soundtrack CD.\n",
      "\n",
      ";Track listing<ref name=\"John Carpenter Official\">{{cite web |url=http://www.theofficialjohncarpenter.com/pages/themovies/gm/gmstrk.html |title=John Carpenter: Ghosts of Mars |publisher=Theofficialjohncarpenter.com |access-date=January 16, 2013 |url-status=dead |archive-url=https://web.archive.org/web/20121222230453/http://www.theofficialjohncarpenter.com/pages/themovies/gm/gmstrk.html |archive-date=December 22, 2012 }}</ref>\n",
      "# \"Ghosts of Mars\" (3:42) – [[Steve Vai]], Bucket Baker & John Carpenter\n",
      "# \"Love {{sic|Seige}}\" (4:37) – [[Buckethead]], [[Robin Finck]], John Carpenter & [[Anthrax (American band)|Anthrax]] ([[Scott Ian]], [[Paul Crook]], [[Frank Bello]] & [[Charlie Benante]])\n",
      "# \"Fight Train\" (3:16) – Robin Finck, John Carpenter & Anthrax\n",
      "# \"Visions of Earth\" (4:08) – [[Elliot Easton]] & John Carpenter\n",
      "# \"Slashing Gash\" (2:46) – Elliot Easton & John Carpenter\n",
      "# \"Kick Ass\" (6:06) – Buckethead, John Carpenter & Anthrax\n",
      "# \"Power Station\" (4:37) – Robin Finck, John Carpenter & Anthrax\n",
      "# \"Can't Let You Go\" (2:18) – Stone (J.J. Garcia, Brian James & Brad Wilson), John Carpenter, Bruce Robb & Joe Robb\n",
      "# \"Dismemberment Blues\" (2:53) – Elliot Easton, John Carpenter & Stone\n",
      "# \"Fighting Mad\" (2:41) – Buckethead & John Carpenter\n",
      "# \"Pam Grier's Head\" (2:35) – Elliot Easton, John Carpenter & Anthrax\n",
      "# \"Ghost Popping\" (3:20) – Steve Vai, Robin Finck, John Carpenter & Anthrax\n",
      "\n",
      "==See also==\n",
      "{{Portal|Solar System}}\n",
      "*[[List of ghost films]]\n",
      "*[[List of films set on Mars]]\n",
      "*[[Mars in fiction]]\n",
      "*[[List of films featuring extraterrestrials]]\n",
      "\n",
      "==References==\n",
      "{{Reflist}}\n",
      "\n",
      "==External links==\n",
      "* {{IMDb title|0228333}}\n",
      "* {{Amg title|250566}}\n",
      "* {{mojo title|ghostsofmars}}\n",
      "* {{rotten-tomatoes|john_carpenters_ghosts_of_mars}}\n",
      "* {{Metacritic film}}\n",
      "* [https://web.archive.org/web/20040907041359/http://www.theofficialjohncarpenter.com/pages/themovies/gm/gm.html ''Ghosts of Mars''] at [[John Carpenter]]'s official site\n",
      "\n",
      "{{John Carpenter}}\n",
      "{{Authority control}}\n",
      "\n",
      "[[Category:2000s Western (genre) horror films]]\n",
      "[[Category:2001 films]]\n",
      "[[Category:2001 horror films]]\n",
      "[[Category:2001 science fiction action films]]\n",
      "[[Category:2000s ghost films]]\n",
      "[[Category:2000s science fiction horror films]]\n",
      "[[Category:American action horror films]]\n",
      "[[Category:American Western (genre) horror films]]\n",
      "[[Category:American ghost films]]\n",
      "[[Category:American science fantasy films]]\n",
      "[[Category:American science fiction action films]]\n",
      "[[Category:American space adventure films]]\n",
      "[[Category:American supernatural horror films]]\n",
      "[[Category:Films about extraterrestrial life]]\n",
      "[[Category:Films directed by John Carpenter]]\n",
      "[[Category:Films scored by John Carpenter]]\n",
      "[[Category:Films set in the 22nd century]]\n",
      "[[Category:Films shot in New Mexico]]\n",
      "[[Category:Films set in the 2170s]]\n",
      "[[Category:Mars in film]]\n",
      "[[Category:American nonlinear narrative films]]\n",
      "[[Category:Films with screenplays by John Carpenter]]\n",
      "[[Category:Films about self-harm]]\n",
      "[[Category:Space Western films]]\n",
      "[[Category:2000s English-language films]]\n",
      "[[Category:2000s American films]]\n"
     ]
    }
   ],
   "source": [
    "#Getting the WikiMedia page corresponding to our film\n",
    "page = wikipedia.page(pageid=975900)\n",
    "#Using the mwparserfromhell library to retrieve the wikitext for easier handling\n",
    "text = mwparserfromhell.parse(page.wikitext)\n",
    "print(text)"
   ]
  },
  {
   "cell_type": "code",
   "execution_count": 13,
   "metadata": {},
   "outputs": [
    {
     "name": "stdout",
     "output_type": "stream",
     "text": [
      "[\"==External links==\\n* {{IMDb title|0228333}}\\n* {{Amg title|250566}}\\n* {{mojo title|ghostsofmars}}\\n* {{rotten-tomatoes|john_carpenters_ghosts_of_mars}}\\n* {{Metacritic film}}\\n* [https://web.archive.org/web/20040907041359/http://www.theofficialjohncarpenter.com/pages/themovies/gm/gm.html ''Ghosts of Mars''] at [[John Carpenter]]'s official site\\n\\n{{John Carpenter}}\\n{{Authority control}}\\n\\n[[Category:2000s Western (genre) horror films]]\\n[[Category:2001 films]]\\n[[Category:2001 horror films]]\\n[[Category:2001 science fiction action films]]\\n[[Category:2000s ghost films]]\\n[[Category:2000s science fiction horror films]]\\n[[Category:American action horror films]]\\n[[Category:American Western (genre) horror films]]\\n[[Category:American ghost films]]\\n[[Category:American science fantasy films]]\\n[[Category:American science fiction action films]]\\n[[Category:American space adventure films]]\\n[[Category:American supernatural horror films]]\\n[[Category:Films about extraterrestrial life]]\\n[[Category:Films directed by John Carpenter]]\\n[[Category:Films scored by John Carpenter]]\\n[[Category:Films set in the 22nd century]]\\n[[Category:Films shot in New Mexico]]\\n[[Category:Films set in the 2170s]]\\n[[Category:Mars in film]]\\n[[Category:American nonlinear narrative films]]\\n[[Category:Films with screenplays by John Carpenter]]\\n[[Category:Films about self-harm]]\\n[[Category:Space Western films]]\\n[[Category:2000s English-language films]]\\n[[Category:2000s American films]]\"]\n",
      "0228333\n",
      "98\n",
      "14\n"
     ]
    }
   ],
   "source": [
    "#Getting the WikiMedia page corresponding to our film\n",
    "page = wikipedia.page(pageid=975900)\n",
    "#Using the mwparserfromhell library to retrieve the wikitext for easier handling\n",
    "text = mwparserfromhell.parse(page.wikitext)\n",
    "#Using the get_sections function of mwparserfromhell to only get the 'external link' section\n",
    "external_links_text = text.get_sections(matches='External links')\n",
    "#Searching for the {IMDb title|id|...} form which contains our id, and retrieving it\n",
    "imdb_id = re.search(r'\\{\\{IMDb title\\|(\\d+)(?:\\|.*?)?\\}\\}', str(external_links_text)).group(1)\n",
    "print(external_links_text)\n",
    "print(imdb_id)\n",
    "#print(text)\n",
    "\n",
    "for section in text.get_sections() :\n",
    "    \n",
    "    if section.contains('runtime') & section.contains('Infobox') :\n",
    "\n",
    "        # Define a regular expression to find the runtime\n",
    "        runtime_pattern = re.compile(r'\\|\\s*runtime\\s*=\\s*([^\\n]+)')\n",
    "\n",
    "        # Search for the runtime value\n",
    "        match = runtime_pattern.search(str(section)) \n",
    "        #Extract the runtime text\n",
    "        runtime_value = match.group(1)\n",
    "\n",
    "        #Define a regular expression to extract minute digits from the runtime value\n",
    "        extracted_digits = re.search(r'\\d{1,8}', runtime_value)\n",
    "\n",
    "        if extracted_digits == None : \n",
    "            extracted_digits = np.nan\n",
    "        else :\n",
    "            #Extract the runtime value in minutes\n",
    "            runtime_in_minutes = extracted_digits.group()\n",
    "            print(runtime_in_minutes)\n",
    "\n",
    "    #Same, but for the movie revenue    \n",
    "    if section.contains('gross') & section.contains('Infobox'):\n",
    "\n",
    "        gross_pattern = re.compile(r'\\|\\s*gross\\s*=\\s*([^\\n]+)')\n",
    "\n",
    "        match = gross_pattern.search(str(section)) \n",
    "\n",
    "        gross_value = match.group(1)\n",
    "\n",
    "        extracted_digits = re.search(r'\\d{1,8}', gross_value)\n",
    "\n",
    "        if extracted_digits == None :\n",
    "            gross_value = np.nan\n",
    "        else :\n",
    "            gross_value = extracted_digits.group()\n",
    "        print(gross_value)"
   ]
  },
  {
   "cell_type": "markdown",
   "metadata": {},
   "source": [
    "Runtime always seems to be in minutes so code should work \"anytime\", but problematic for the gross revenue. Here it works because it is in millions, but sometimes it is in billions or for some films, the currency revenue can be different and not be in dollars. How do we handle those cases ?"
   ]
  },
  {
   "cell_type": "markdown",
   "metadata": {},
   "source": [
    "#### Checking the state of IMDb metadata "
   ]
  },
  {
   "cell_type": "code",
   "execution_count": 10,
   "metadata": {},
   "outputs": [
    {
     "name": "stderr",
     "output_type": "stream",
     "text": [
      "C:\\Users\\dryha\\AppData\\Local\\Temp\\ipykernel_17176\\2535107409.py:2: DtypeWarning: Columns (7) have mixed types. Specify dtype option on import or set low_memory=False.\n",
      "  imdb_info = pd.read_csv('data/IMDb/title.basics.tsv', sep='\\t', na_values=['\\\\N'])\n"
     ]
    }
   ],
   "source": [
    "imdb_people = pd.read_csv('data/IMDb/name.basics.tsv', sep='\\t', na_values=['\\\\N'])\n",
    "imdb_info = pd.read_csv('data/IMDb/title.basics.tsv', sep='\\t', na_values=['\\\\N'])\n",
    "#imdb_principals = pd.read_csv('data/IMDb/title.principals.tsv', sep='\\t', na_values=['\\\\N'])\n",
    "imdb_ratings = pd.read_csv('data/IMDb/title.ratings.tsv', sep='\\t', na_values=['\\\\N'])"
   ]
  },
  {
   "cell_type": "markdown",
   "metadata": {},
   "source": [
    "##### imdb_info\n",
    "\n",
    "As our aim is to be able to enrich our CMU corpus with IMDb info by merging the different datasets, we will run a few things to see what's missing and what's present in the IMDb metadata. First, about movies/shows etc. that are contained in the imdb_info dataset :"
   ]
  },
  {
   "cell_type": "code",
   "execution_count": 15,
   "metadata": {},
   "outputs": [
    {
     "name": "stdout",
     "output_type": "stream",
     "text": [
      "Number of entries : 10218119\n",
      "Number of unique IMDb titles: 10218119\n"
     ]
    }
   ],
   "source": [
    "print('Number of entries :',len(imdb_info))\n",
    "print('Number of unique IMDb titles:', imdb_info['tconst'].nunique())"
   ]
  },
  {
   "cell_type": "markdown",
   "metadata": {},
   "source": [
    "The info_imdb only contains unique IMDb titles, there doesn't seem to be any repetition based on the tconst attributes."
   ]
  },
  {
   "cell_type": "code",
   "execution_count": 16,
   "metadata": {},
   "outputs": [
    {
     "name": "stdout",
     "output_type": "stream",
     "text": [
      "How many Title primary names are missing? --> 11\n",
      "How many start years are missing in the dataset? --> 1369240\n",
      "How many end years are missing in the dataset? --> 10104758\n",
      "How many entries lack info about the runtime? --> 7147421\n",
      "How many entries lack info about the genres? --> 461306\n"
     ]
    }
   ],
   "source": [
    "print('How many Title primary names are missing? -->', imdb_info['primaryTitle'].isna().sum())\n",
    "\n",
    "print('How many start years are missing in the dataset? -->',imdb_info['startYear'].isna().sum())\n",
    "\n",
    "print('How many end years are missing in the dataset? -->',imdb_info['endYear'].isna().sum())\n",
    "\n",
    "print('How many entries lack info about the runtime? -->', imdb_info['runtimeMinutes'].isna().sum())\n",
    "\n",
    "print('How many entries lack info about the genres? -->', imdb_info['genres'].isna().sum())"
   ]
  },
  {
   "cell_type": "markdown",
   "metadata": {},
   "source": [
    "- Nearly no primary names for title lacking that's good, we could very well use them to double check whether the merging of our IMDb ID and the Wikipedia ID was good or not.\n",
    "\n",
    "- Not that much start years missing, only for 13.4% of the entries. For our CMU dataset, this is the column that would be equivalent to the \"Movie release Year\" : high chance that we can use that during the merge as well !\n",
    "\n",
    "- A vast majority of end years missing but this is normal as this is only filled for shows, not movies\n",
    "\n",
    "- Not that many missing genres, only for ~5% of our dataset. Some chance that this info could be compared with what's in the CMU and maybe decide to use these genres instead of the CMU ones if they're more interesting ?\n",
    "\n",
    "- 70% of the runtime value missing. That still leaves 3M movies/shows where info is available for our 80k movie/shows of the CMU, which is still a lot. But there's risk that IMDb won't maybe be optimal to retrieve the Runtime value.\n",
    "\n",
    "- Also, no info about the box office of movies if we wanted to use it to quantify the movie's success in our characters/personas analysis if we want to talk about how successful these are. If we want the revenue, we'll have to go and search it ourselves."
   ]
  },
  {
   "cell_type": "markdown",
   "metadata": {},
   "source": [
    "#### imdb_ratings"
   ]
  },
  {
   "cell_type": "markdown",
   "metadata": {},
   "source": [
    "For success of films and characters/personas combinations or actors careers, we also want to use the imdb ratings. Let's see how they look :"
   ]
  },
  {
   "cell_type": "code",
   "execution_count": 17,
   "metadata": {},
   "outputs": [
    {
     "name": "stdout",
     "output_type": "stream",
     "text": [
      "Number of entries : 1356511\n",
      "Number of unique IMDb titles: 1356511\n"
     ]
    }
   ],
   "source": [
    "print('Number of entries :',len(imdb_ratings))\n",
    "print('Number of unique IMDb titles:', imdb_ratings['tconst'].nunique())"
   ]
  },
  {
   "cell_type": "markdown",
   "metadata": {},
   "source": [
    "Only unique entries but for only 1.36 million entries out of the 10.2 millions that we have in imdb_info. Hopefully they're all valid :"
   ]
  },
  {
   "cell_type": "code",
   "execution_count": 18,
   "metadata": {},
   "outputs": [
    {
     "name": "stdout",
     "output_type": "stream",
     "text": [
      "How many ratings are missing? --> 0\n"
     ]
    }
   ],
   "source": [
    "print('How many ratings are missing? -->', imdb_ratings['averageRating'].isna().sum())"
   ]
  },
  {
   "cell_type": "markdown",
   "metadata": {},
   "source": [
    "Nice, at least we do not have missing values. Problem is that ratings might not be that accurate if they're based on just a very few number of votes. How many number of votes do ratings have approximately ?"
   ]
  },
  {
   "cell_type": "code",
   "execution_count": 19,
   "metadata": {},
   "outputs": [
    {
     "name": "stdout",
     "output_type": "stream",
     "text": [
      "Mean number of votes: 1039.22\n",
      "Median number of votes: 26.0\n",
      "Standard deviation of votes: 17574.69\n"
     ]
    }
   ],
   "source": [
    "mean_votes = imdb_ratings['numVotes'].mean()\n",
    "median_votes = imdb_ratings['numVotes'].median()\n",
    "std_dev_votes = imdb_ratings['numVotes'].std()\n",
    "\n",
    "# Display the results\n",
    "print(f\"Mean number of votes: {mean_votes:.2f}\")\n",
    "print(f\"Median number of votes: {median_votes}\")\n",
    "print(f\"Standard deviation of votes: {std_dev_votes:.2f}\")"
   ]
  },
  {
   "cell_type": "markdown",
   "metadata": {},
   "source": [
    "No histogram there as the disparity is too big between what's in the huge dataset, it doesn't render any interesting information. Median interesting here : As many films with 26 votes or less than ones that have more than. \n",
    "\n",
    "The most famous movies and shows will have a lot of votes while many niche / unknown films or even films made in countries where people are not used to go rate films on IMDb (i.e a lot of people) won't have votes on here.\n",
    "\n",
    "Difficult to know if the movies in the CMU would get ratings with a sufficient number of votes to really reflect popular opinion on the movie. We'll have to try when merging ! Otherwise, we could very well scrap Critics from other websites, if available on the wikipedia page."
   ]
  },
  {
   "cell_type": "markdown",
   "metadata": {},
   "source": [
    "##### IMDb people "
   ]
  },
  {
   "cell_type": "markdown",
   "metadata": {},
   "source": [
    "Many infos about this dataframe on the relationship's side are already in Sepehr's relationships.ipynb. Here we will rather just look at actors as that's what we have in the CMU corpus. "
   ]
  },
  {
   "cell_type": "code",
   "execution_count": 20,
   "metadata": {},
   "outputs": [
    {
     "name": "stdout",
     "output_type": "stream",
     "text": [
      "Number of entries : 12904751\n",
      "Number of unique people in the dataset: 12904751\n"
     ]
    }
   ],
   "source": [
    "print('Number of entries :',len(imdb_people))\n",
    "print('Number of unique people in the dataset:', imdb_people['nconst'].nunique())"
   ]
  },
  {
   "cell_type": "code",
   "execution_count": 21,
   "metadata": {},
   "outputs": [
    {
     "name": "stdout",
     "output_type": "stream",
     "text": [
      "Number of unique actors and actresses: 4835753\n"
     ]
    }
   ],
   "source": [
    "actors_actresses_df = imdb_people[imdb_people['primaryProfession'].str.contains('actor|actress', case=False, na=False)]\n",
    "unique_actors_actresses = actors_actresses_df['nconst'].nunique()\n",
    "print(f\"Number of unique actors and actresses: {unique_actors_actresses}\")"
   ]
  },
  {
   "cell_type": "markdown",
   "metadata": {},
   "source": [
    "4M unique actors and actresses in the dataset. Of course, we'd still have to check about how we would do to merge because we have a character's dataset and not an \"actors\" dataset per se in the CMU.\n",
    "\n",
    "We would not get any additional information about characters from this dataset particularly. This can still be interesting to have directly the number of movies that are shared by the CMU and IMDb in which an actor has played for instance !\n",
    "\n",
    "Let's also check the validity of the info in there :"
   ]
  },
  {
   "cell_type": "markdown",
   "metadata": {},
   "source": [
    "For the characters, maybe it would be more interesting to look at the imdb_principals dataset."
   ]
  },
  {
   "cell_type": "code",
   "execution_count": 22,
   "metadata": {},
   "outputs": [],
   "source": [
    "#def get_page_info(article_id):\n",
    "#    try:\n",
    "#        page = wikipedia.page(pageid=article_id)\n",
    "#        return 0\n",
    "#    except PageError:\n",
    "#        #print(f\"Page with Article ID {article_id} does not exist.\")\n",
    "#        return 1\n",
    "#    except DisambiguationError:\n",
    "#        return 2"
   ]
  },
  {
   "cell_type": "code",
   "execution_count": 341,
   "metadata": {},
   "outputs": [],
   "source": [
    "#all_unique_wikipedia_ids = (movies['Wikipedia movie ID']).to_list()\n",
    "#\n",
    "#valid_ids = 0\n",
    "#false_ids = 0\n",
    "#ambiguous_ids = 0\n",
    "#\n",
    "#for page_id in all_unique_wikipedia_ids :\n",
    "#    page_info = get_page_info(int(page_id))\n",
    "#    if page_info == 0 :\n",
    "#        valid_ids +=1\n",
    "#    elif page_info == 1 :\n",
    "#        false_ids+=1\n",
    "#    elif page_info == 2 : \n",
    "#        ambiguous_ids+=1\n",
    "#\n",
    "#print('Out of the', len(all_unique_wikipedia_ids), 'unique Wikipedia Movie IDs in the movies dataset,', str(false_ids), 'do not lead to a wikipedia page at all,', str(ambiguous_ids), 'lead to ambiguous pages and finally', str(valid_ids), 'are correct.')"
   ]
  },
  {
   "cell_type": "markdown",
   "metadata": {},
   "source": [
    "### Matching IMDb & CMU informations :\n",
    "\n",
    "\n",
    "Let's say we decide to only keep the 74k out of 82k movies where we can retrieve the IMDb ID per the Wiki data crawling method as our dataset. A first thing that we can do is use the mapping produced to get, from IMDb, only the persons that are part of movies in the CMU :"
   ]
  },
  {
   "cell_type": "code",
   "execution_count": 11,
   "metadata": {},
   "outputs": [],
   "source": [
    "#File containing the IMDb mapping of our CMU movies to the IMDB ids\n",
    "mapping_02 = pd.read_csv('generated/wp2imdb_02.csv')"
   ]
  },
  {
   "cell_type": "code",
   "execution_count": 12,
   "metadata": {},
   "outputs": [],
   "source": [
    "imdb_people_exploded = imdb_people.copy()\n",
    "imdb_people_exploded['knownForTitles'] = imdb_people['knownForTitles'].str.split(',')\n",
    "imdb_people_exploded = imdb_people_exploded.explode(['knownForTitles'])\n",
    "\n",
    "\n",
    "merged_ipe = pd.merge(imdb_people_exploded, mapping_02, how='inner', left_on='knownForTitles', right_on='imdb')\n",
    "unique_persons = merged_ipe.drop_duplicates(subset='nconst', keep='first')"
   ]
  },
  {
   "cell_type": "code",
   "execution_count": 13,
   "metadata": {},
   "outputs": [
    {
     "data": {
      "text/html": [
       "<div>\n",
       "<style scoped>\n",
       "    .dataframe tbody tr th:only-of-type {\n",
       "        vertical-align: middle;\n",
       "    }\n",
       "\n",
       "    .dataframe tbody tr th {\n",
       "        vertical-align: top;\n",
       "    }\n",
       "\n",
       "    .dataframe thead th {\n",
       "        text-align: right;\n",
       "    }\n",
       "</style>\n",
       "<table border=\"1\" class=\"dataframe\">\n",
       "  <thead>\n",
       "    <tr style=\"text-align: right;\">\n",
       "      <th></th>\n",
       "      <th>nconst</th>\n",
       "      <th>primaryName</th>\n",
       "      <th>birthYear</th>\n",
       "      <th>deathYear</th>\n",
       "      <th>primaryProfession</th>\n",
       "      <th>knownForTitles</th>\n",
       "      <th>freebase</th>\n",
       "      <th>imdb</th>\n",
       "    </tr>\n",
       "  </thead>\n",
       "  <tbody>\n",
       "    <tr>\n",
       "      <th>0</th>\n",
       "      <td>nm0000001</td>\n",
       "      <td>Fred Astaire</td>\n",
       "      <td>1899.0</td>\n",
       "      <td>1987.0</td>\n",
       "      <td>soundtrack,actor,miscellaneous</td>\n",
       "      <td>tt0053137</td>\n",
       "      <td>/m/02qmrw4</td>\n",
       "      <td>tt0053137</td>\n",
       "    </tr>\n",
       "    <tr>\n",
       "      <th>1</th>\n",
       "      <td>nm0001257</td>\n",
       "      <td>Ava Gardner</td>\n",
       "      <td>1922.0</td>\n",
       "      <td>1990.0</td>\n",
       "      <td>actress,soundtrack,stunts</td>\n",
       "      <td>tt0053137</td>\n",
       "      <td>/m/02qmrw4</td>\n",
       "      <td>tt0053137</td>\n",
       "    </tr>\n",
       "    <tr>\n",
       "      <th>2</th>\n",
       "      <td>nm0006104</td>\n",
       "      <td>Ernest Gold</td>\n",
       "      <td>1921.0</td>\n",
       "      <td>1999.0</td>\n",
       "      <td>music_department,composer,soundtrack</td>\n",
       "      <td>tt0053137</td>\n",
       "      <td>/m/02qmrw4</td>\n",
       "      <td>tt0053137</td>\n",
       "    </tr>\n",
       "    <tr>\n",
       "      <th>3</th>\n",
       "      <td>nm0026634</td>\n",
       "      <td>Donna Anderson</td>\n",
       "      <td>1939.0</td>\n",
       "      <td>NaN</td>\n",
       "      <td>actress</td>\n",
       "      <td>tt0053137</td>\n",
       "      <td>/m/02qmrw4</td>\n",
       "      <td>tt0053137</td>\n",
       "    </tr>\n",
       "    <tr>\n",
       "      <th>4</th>\n",
       "      <td>nm0062365</td>\n",
       "      <td>Ken Baumgartner</td>\n",
       "      <td>NaN</td>\n",
       "      <td>NaN</td>\n",
       "      <td>actor</td>\n",
       "      <td>tt0053137</td>\n",
       "      <td>/m/02qmrw4</td>\n",
       "      <td>tt0053137</td>\n",
       "    </tr>\n",
       "    <tr>\n",
       "      <th>...</th>\n",
       "      <td>...</td>\n",
       "      <td>...</td>\n",
       "      <td>...</td>\n",
       "      <td>...</td>\n",
       "      <td>...</td>\n",
       "      <td>...</td>\n",
       "      <td>...</td>\n",
       "      <td>...</td>\n",
       "    </tr>\n",
       "    <tr>\n",
       "      <th>2229178</th>\n",
       "      <td>nm9965212</td>\n",
       "      <td>Vijay Babu Maganti</td>\n",
       "      <td>NaN</td>\n",
       "      <td>NaN</td>\n",
       "      <td>producer</td>\n",
       "      <td>tt8685998</td>\n",
       "      <td>/m/03wbqmr</td>\n",
       "      <td>tt8685998</td>\n",
       "    </tr>\n",
       "    <tr>\n",
       "      <th>2229179</th>\n",
       "      <td>nm9973247</td>\n",
       "      <td>Dhamodharan N.</td>\n",
       "      <td>NaN</td>\n",
       "      <td>NaN</td>\n",
       "      <td>director</td>\n",
       "      <td>tt8702662</td>\n",
       "      <td>/m/02r1d8t</td>\n",
       "      <td>tt8702662</td>\n",
       "    </tr>\n",
       "    <tr>\n",
       "      <th>2229181</th>\n",
       "      <td>nm9987091</td>\n",
       "      <td>A.P. Sathyan</td>\n",
       "      <td>NaN</td>\n",
       "      <td>NaN</td>\n",
       "      <td>assistant_director</td>\n",
       "      <td>tt0292023</td>\n",
       "      <td>/m/047ng4x</td>\n",
       "      <td>tt0292023</td>\n",
       "    </tr>\n",
       "    <tr>\n",
       "      <th>2229182</th>\n",
       "      <td>nm9987092</td>\n",
       "      <td>G. Ramamoorthy</td>\n",
       "      <td>NaN</td>\n",
       "      <td>NaN</td>\n",
       "      <td>camera_department</td>\n",
       "      <td>tt0292023</td>\n",
       "      <td>/m/047ng4x</td>\n",
       "      <td>tt0292023</td>\n",
       "    </tr>\n",
       "    <tr>\n",
       "      <th>2229183</th>\n",
       "      <td>nm9987093</td>\n",
       "      <td>S.P. Alagappan</td>\n",
       "      <td>NaN</td>\n",
       "      <td>NaN</td>\n",
       "      <td>camera_department</td>\n",
       "      <td>tt0292023</td>\n",
       "      <td>/m/047ng4x</td>\n",
       "      <td>tt0292023</td>\n",
       "    </tr>\n",
       "  </tbody>\n",
       "</table>\n",
       "<p>1476541 rows × 8 columns</p>\n",
       "</div>"
      ],
      "text/plain": [
       "            nconst         primaryName  birthYear  deathYear  \\\n",
       "0        nm0000001        Fred Astaire     1899.0     1987.0   \n",
       "1        nm0001257         Ava Gardner     1922.0     1990.0   \n",
       "2        nm0006104         Ernest Gold     1921.0     1999.0   \n",
       "3        nm0026634      Donna Anderson     1939.0        NaN   \n",
       "4        nm0062365     Ken Baumgartner        NaN        NaN   \n",
       "...            ...                 ...        ...        ...   \n",
       "2229178  nm9965212  Vijay Babu Maganti        NaN        NaN   \n",
       "2229179  nm9973247      Dhamodharan N.        NaN        NaN   \n",
       "2229181  nm9987091        A.P. Sathyan        NaN        NaN   \n",
       "2229182  nm9987092      G. Ramamoorthy        NaN        NaN   \n",
       "2229183  nm9987093      S.P. Alagappan        NaN        NaN   \n",
       "\n",
       "                            primaryProfession knownForTitles    freebase  \\\n",
       "0              soundtrack,actor,miscellaneous      tt0053137  /m/02qmrw4   \n",
       "1                   actress,soundtrack,stunts      tt0053137  /m/02qmrw4   \n",
       "2        music_department,composer,soundtrack      tt0053137  /m/02qmrw4   \n",
       "3                                     actress      tt0053137  /m/02qmrw4   \n",
       "4                                       actor      tt0053137  /m/02qmrw4   \n",
       "...                                       ...            ...         ...   \n",
       "2229178                              producer      tt8685998  /m/03wbqmr   \n",
       "2229179                              director      tt8702662  /m/02r1d8t   \n",
       "2229181                    assistant_director      tt0292023  /m/047ng4x   \n",
       "2229182                     camera_department      tt0292023  /m/047ng4x   \n",
       "2229183                     camera_department      tt0292023  /m/047ng4x   \n",
       "\n",
       "              imdb  \n",
       "0        tt0053137  \n",
       "1        tt0053137  \n",
       "2        tt0053137  \n",
       "3        tt0053137  \n",
       "4        tt0053137  \n",
       "...            ...  \n",
       "2229178  tt8685998  \n",
       "2229179  tt8702662  \n",
       "2229181  tt0292023  \n",
       "2229182  tt0292023  \n",
       "2229183  tt0292023  \n",
       "\n",
       "[1476541 rows x 8 columns]"
      ]
     },
     "execution_count": 13,
     "metadata": {},
     "output_type": "execute_result"
    }
   ],
   "source": [
    "unique_persons"
   ]
  },
  {
   "cell_type": "markdown",
   "metadata": {},
   "source": [
    "From the original 12M~ number of unique persons originally present in the _imdb_people_ dataset, we can extract approximately 1.5M that worked, in all fields of the production, on movies that are part of the CMU corpus, based on the matching between Freebase and IMDb IDS."
   ]
  },
  {
   "cell_type": "markdown",
   "metadata": {},
   "source": []
  }
 ],
 "metadata": {
  "kernelspec": {
   "display_name": "Python 3 (ipykernel)",
   "language": "python",
   "name": "python3"
  },
  "language_info": {
   "codemirror_mode": {
    "name": "ipython",
    "version": 3
   },
   "file_extension": ".py",
   "mimetype": "text/x-python",
   "name": "python",
   "nbconvert_exporter": "python",
   "pygments_lexer": "ipython3",
   "version": "3.10.8"
  }
 },
 "nbformat": 4,
 "nbformat_minor": 5
}

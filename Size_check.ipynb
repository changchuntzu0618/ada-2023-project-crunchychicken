{
 "cells": [
  {
   "cell_type": "code",
   "execution_count": 1,
   "id": "d88b3ec6",
   "metadata": {},
   "outputs": [
    {
     "data": {
      "text/html": [
       "<style>.container { width:90% !important; }</style>"
      ],
      "text/plain": [
       "<IPython.core.display.HTML object>"
      ]
     },
     "metadata": {},
     "output_type": "display_data"
    }
   ],
   "source": [
    "# mutliple outputs in cell\n",
    "from IPython.core.interactiveshell import InteractiveShell\n",
    "InteractiveShell.ast_node_interactivity = \"all\"\n",
    "\n",
    "# cell width\n",
    "from IPython.display import display, HTML\n",
    "display(HTML(\"<style>.container { width:90% !important; }</style>\"))"
   ]
  },
  {
   "cell_type": "markdown",
   "id": "1c2c6fb1",
   "metadata": {},
   "source": [
    "### Imports"
   ]
  },
  {
   "cell_type": "code",
   "execution_count": 2,
   "id": "aad6dd93",
   "metadata": {},
   "outputs": [],
   "source": [
    "import pandas as pd\n",
    "import numpy as np"
   ]
  },
  {
   "cell_type": "markdown",
   "id": "5bcaca8d",
   "metadata": {},
   "source": [
    "### Tokens size check"
   ]
  },
  {
   "cell_type": "code",
   "execution_count": 3,
   "id": "767ef861",
   "metadata": {},
   "outputs": [
    {
     "data": {
      "text/plain": [
       "(14905203, 9)"
      ]
     },
     "execution_count": 3,
     "metadata": {},
     "output_type": "execute_result"
    },
    {
     "data": {
      "text/plain": [
       "(14905203, 9)"
      ]
     },
     "execution_count": 3,
     "metadata": {},
     "output_type": "execute_result"
    },
    {
     "data": {
      "text/plain": [
       "(14905203, 9)"
      ]
     },
     "execution_count": 3,
     "metadata": {},
     "output_type": "execute_result"
    },
    {
     "data": {
      "text/plain": [
       "(14905203, 9)"
      ]
     },
     "execution_count": 3,
     "metadata": {},
     "output_type": "execute_result"
    },
    {
     "data": {
      "text/plain": [
       "movie_id        int64\n",
       "sentence_id     int64\n",
       "token_id        int64\n",
       "word           object\n",
       "lemma          object\n",
       "COB             int64\n",
       "COE             int64\n",
       "POS            object\n",
       "NER            object\n",
       "dtype: object"
      ]
     },
     "execution_count": 3,
     "metadata": {},
     "output_type": "execute_result"
    },
    {
     "data": {
      "text/plain": [
       "movie_id        int32\n",
       "sentence_id     int16\n",
       "token_id        int16\n",
       "word           string\n",
       "lemma          string\n",
       "COB             int16\n",
       "COE             int16\n",
       "POS            string\n",
       "NER            string\n",
       "dtype: object"
      ]
     },
     "execution_count": 3,
     "metadata": {},
     "output_type": "execute_result"
    },
    {
     "data": {
      "text/plain": [
       "movie_id        int32\n",
       "sentence_id     int16\n",
       "token_id        int16\n",
       "word           string\n",
       "lemma          string\n",
       "COB             int16\n",
       "COE             int16\n",
       "POS            string\n",
       "NER            string\n",
       "dtype: object"
      ]
     },
     "execution_count": 3,
     "metadata": {},
     "output_type": "execute_result"
    },
    {
     "data": {
      "text/plain": [
       "movie_id        int32\n",
       "sentence_id     int16\n",
       "token_id        int16\n",
       "word           string\n",
       "lemma          string\n",
       "COB             int16\n",
       "COE             int16\n",
       "POS            string\n",
       "NER            string\n",
       "dtype: object"
      ]
     },
     "execution_count": 3,
     "metadata": {},
     "output_type": "execute_result"
    },
    {
     "name": "stdout",
     "output_type": "stream",
     "text": [
      "CSV Memory Usage: 3980.59 MB\n",
      "Parquet Memory Usage: 3582.58 MB\n",
      "Feather Memory Usage: 3582.58 MB\n",
      "Pickle Memory Usage: 3582.58 MB\n"
     ]
    }
   ],
   "source": [
    "tokens_parquet = pd.read_parquet('tokens.parquet')\n",
    "tokens_feather = pd.read_feather('tokens.feather')\n",
    "tokens_pickle = pd.read_pickle('tokens.pkl')\n",
    "tokens_csv = pd.read_csv('tokens.csv')\n",
    "\n",
    "tokens_csv.shape\n",
    "tokens_parquet.shape\n",
    "tokens_feather.shape\n",
    "tokens_pickle.shape\n",
    "\n",
    "tokens_csv.dtypes\n",
    "tokens_parquet.dtypes\n",
    "tokens_feather.dtypes\n",
    "tokens_pickle.dtypes\n",
    "\n",
    "memory_csv = tokens_csv.memory_usage(deep=True).sum() / (1024**2)\n",
    "memory_parquet = tokens_parquet.memory_usage(deep=True).sum() / (1024**2)\n",
    "memory_feather = tokens_feather.memory_usage(deep=True).sum() / (1024**2)\n",
    "memory_pickle = tokens_pickle.memory_usage(deep=True).sum() / (1024**2)\n",
    "\n",
    "print(f\"CSV Memory Usage: {memory_csv:.2f} MB\")\n",
    "print(f\"Parquet Memory Usage: {memory_parquet:.2f} MB\")\n",
    "print(f\"Feather Memory Usage: {memory_feather:.2f} MB\")\n",
    "print(f\"Pickle Memory Usage: {memory_pickle:.2f} MB\")"
   ]
  },
  {
   "cell_type": "code",
   "execution_count": 4,
   "id": "e1213cba",
   "metadata": {},
   "outputs": [
    {
     "name": "stdout",
     "output_type": "stream",
     "text": [
      "Optimized DataFrames are equal: True\n"
     ]
    }
   ],
   "source": [
    "are_all_equal = tokens_feather.equals(tokens_parquet) and tokens_feather.equals(tokens_pickle)\n",
    "\n",
    "print(f\"Optimized Tokens DataFrames are equal: {are_all_equal}\") # false if include csv"
   ]
  },
  {
   "cell_type": "markdown",
   "id": "717a9cc8",
   "metadata": {},
   "source": [
    "### Parses size check"
   ]
  },
  {
   "cell_type": "code",
   "execution_count": 5,
   "id": "1c0ae60e",
   "metadata": {},
   "outputs": [
    {
     "data": {
      "text/plain": [
       "(665586, 3)"
      ]
     },
     "execution_count": 5,
     "metadata": {},
     "output_type": "execute_result"
    },
    {
     "data": {
      "text/plain": [
       "(665586, 3)"
      ]
     },
     "execution_count": 5,
     "metadata": {},
     "output_type": "execute_result"
    },
    {
     "data": {
      "text/plain": [
       "(665586, 3)"
      ]
     },
     "execution_count": 5,
     "metadata": {},
     "output_type": "execute_result"
    },
    {
     "data": {
      "text/plain": [
       "(665586, 3)"
      ]
     },
     "execution_count": 5,
     "metadata": {},
     "output_type": "execute_result"
    },
    {
     "data": {
      "text/plain": [
       "movie_id        int64\n",
       "sentence_id     int64\n",
       "parse          object\n",
       "dtype: object"
      ]
     },
     "execution_count": 5,
     "metadata": {},
     "output_type": "execute_result"
    },
    {
     "data": {
      "text/plain": [
       "movie_id        int32\n",
       "sentence_id     int16\n",
       "parse          string\n",
       "dtype: object"
      ]
     },
     "execution_count": 5,
     "metadata": {},
     "output_type": "execute_result"
    },
    {
     "data": {
      "text/plain": [
       "movie_id        int32\n",
       "sentence_id     int16\n",
       "parse          string\n",
       "dtype: object"
      ]
     },
     "execution_count": 5,
     "metadata": {},
     "output_type": "execute_result"
    },
    {
     "data": {
      "text/plain": [
       "movie_id        int32\n",
       "sentence_id     int16\n",
       "parse          string\n",
       "dtype: object"
      ]
     },
     "execution_count": 5,
     "metadata": {},
     "output_type": "execute_result"
    },
    {
     "name": "stdout",
     "output_type": "stream",
     "text": [
      "CSV Memory Usage: 262.97 MB\n",
      "Parquet Memory Usage: 256.62 MB\n",
      "Feather Memory Usage: 256.62 MB\n",
      "Pickle Memory Usage: 256.62 MB\n"
     ]
    }
   ],
   "source": [
    "parses_parquet = pd.read_parquet('parses.parquet')\n",
    "parses_feather = pd.read_feather('parses.feather')\n",
    "parses_pickle = pd.read_pickle('parses.pkl')\n",
    "parses_csv = pd.read_csv('parses.csv')\n",
    "\n",
    "parses_csv.shape\n",
    "parses_parquet.shape\n",
    "parses_feather.shape\n",
    "parses_pickle.shape\n",
    "\n",
    "parses_csv.dtypes\n",
    "parses_parquet.dtypes\n",
    "parses_feather.dtypes\n",
    "parses_pickle.dtypes\n",
    "\n",
    "memory_csv = parses_csv.memory_usage(deep=True).sum() / (1024**2)\n",
    "memory_parquet = parses_parquet.memory_usage(deep=True).sum() / (1024**2)\n",
    "memory_feather = parses_feather.memory_usage(deep=True).sum() / (1024**2)\n",
    "memory_pickle = parses_pickle.memory_usage(deep=True).sum() / (1024**2)\n",
    "\n",
    "print(f\"CSV Memory Usage: {memory_csv:.2f} MB\")\n",
    "print(f\"Parquet Memory Usage: {memory_parquet:.2f} MB\")\n",
    "print(f\"Feather Memory Usage: {memory_feather:.2f} MB\")\n",
    "print(f\"Pickle Memory Usage: {memory_pickle:.2f} MB\")"
   ]
  },
  {
   "cell_type": "code",
   "execution_count": 6,
   "id": "e1bf8ad4",
   "metadata": {},
   "outputs": [
    {
     "name": "stdout",
     "output_type": "stream",
     "text": [
      "Optimized Parses DataFrames are equal: True\n"
     ]
    }
   ],
   "source": [
    "are_all_equal = parses_feather.equals(parses_parquet) and parses_feather.equals(parses_pickle)\n",
    "\n",
    "print(f\"Optimized Parses DataFrames are equal: {are_all_equal}\") # false if include csv"
   ]
  },
  {
   "cell_type": "markdown",
   "id": "d25692ae",
   "metadata": {},
   "source": [
    "### Dependencies size check"
   ]
  },
  {
   "cell_type": "code",
   "execution_count": 7,
   "id": "d3212dbd",
   "metadata": {},
   "outputs": [
    {
     "data": {
      "text/plain": [
       "(34199068, 8)"
      ]
     },
     "execution_count": 7,
     "metadata": {},
     "output_type": "execute_result"
    },
    {
     "data": {
      "text/plain": [
       "(34199068, 8)"
      ]
     },
     "execution_count": 7,
     "metadata": {},
     "output_type": "execute_result"
    },
    {
     "data": {
      "text/plain": [
       "(34199068, 8)"
      ]
     },
     "execution_count": 7,
     "metadata": {},
     "output_type": "execute_result"
    },
    {
     "data": {
      "text/plain": [
       "(34199068, 8)"
      ]
     },
     "execution_count": 7,
     "metadata": {},
     "output_type": "execute_result"
    },
    {
     "data": {
      "text/plain": [
       "movie_id             int64\n",
       "sentence_id          int64\n",
       "dependency_class    object\n",
       "dependency_type     object\n",
       "governor_id          int64\n",
       "governor_word       object\n",
       "dependent_id         int64\n",
       "dependent_word      object\n",
       "dtype: object"
      ]
     },
     "execution_count": 7,
     "metadata": {},
     "output_type": "execute_result"
    },
    {
     "data": {
      "text/plain": [
       "movie_id             int32\n",
       "sentence_id          int16\n",
       "dependency_class    string\n",
       "dependency_type     string\n",
       "governor_id          int16\n",
       "governor_word       string\n",
       "dependent_id         int16\n",
       "dependent_word      string\n",
       "dtype: object"
      ]
     },
     "execution_count": 7,
     "metadata": {},
     "output_type": "execute_result"
    },
    {
     "data": {
      "text/plain": [
       "movie_id             int32\n",
       "sentence_id          int16\n",
       "dependency_class    string\n",
       "dependency_type     string\n",
       "governor_id          int16\n",
       "governor_word       string\n",
       "dependent_id         int16\n",
       "dependent_word      string\n",
       "dtype: object"
      ]
     },
     "execution_count": 7,
     "metadata": {},
     "output_type": "execute_result"
    },
    {
     "data": {
      "text/plain": [
       "movie_id             int32\n",
       "sentence_id          int16\n",
       "dependency_class    string\n",
       "dependency_type     string\n",
       "governor_id          int16\n",
       "governor_word       string\n",
       "dependent_id         int16\n",
       "dependent_word      string\n",
       "dtype: object"
      ]
     },
     "execution_count": 7,
     "metadata": {},
     "output_type": "execute_result"
    },
    {
     "name": "stdout",
     "output_type": "stream",
     "text": [
      "CSV Memory Usage: 9344.41 MB\n",
      "Parquet Memory Usage: 8626.89 MB\n",
      "Feather Memory Usage: 8626.89 MB\n",
      "Pickle Memory Usage: 8626.89 MB\n"
     ]
    }
   ],
   "source": [
    "dependencies_parquet = pd.read_parquet('dependencies.parquet')\n",
    "dependencies_feather = pd.read_feather('dependencies.feather')\n",
    "dependencies_pickle = pd.read_pickle('dependencies.pkl')\n",
    "dependencies_csv = pd.read_csv('dependencies.csv')\n",
    "\n",
    "dependencies_csv.shape\n",
    "dependencies_parquet.shape\n",
    "dependencies_feather.shape\n",
    "dependencies_pickle.shape\n",
    "\n",
    "dependencies_csv.dtypes\n",
    "dependencies_parquet.dtypes\n",
    "dependencies_feather.dtypes\n",
    "dependencies_pickle.dtypes\n",
    "\n",
    "memory_csv = dependencies_csv.memory_usage(deep=True).sum() / (1024**2)\n",
    "memory_parquet = dependencies_parquet.memory_usage(deep=True).sum() / (1024**2)\n",
    "memory_feather = dependencies_feather.memory_usage(deep=True).sum() / (1024**2)\n",
    "memory_pickle = dependencies_pickle.memory_usage(deep=True).sum() / (1024**2)\n",
    "\n",
    "print(f\"CSV Memory Usage: {memory_csv:.2f} MB\")\n",
    "print(f\"Parquet Memory Usage: {memory_parquet:.2f} MB\")\n",
    "print(f\"Feather Memory Usage: {memory_feather:.2f} MB\")\n",
    "print(f\"Pickle Memory Usage: {memory_pickle:.2f} MB\")"
   ]
  },
  {
   "cell_type": "code",
   "execution_count": 8,
   "id": "af99e9aa",
   "metadata": {},
   "outputs": [
    {
     "name": "stdout",
     "output_type": "stream",
     "text": [
      "Optimized dependencies DataFrames are equal: True\n"
     ]
    }
   ],
   "source": [
    "are_all_equal = dependencies_feather.equals(dependencies_parquet) and dependencies_feather.equals(dependencies_pickle)\n",
    "\n",
    "print(f\"Optimized dependencies DataFrames are equal: {are_all_equal}\") # false if include csv"
   ]
  },
  {
   "cell_type": "markdown",
   "id": "b4a8840f",
   "metadata": {},
   "source": [
    "### Conclusion: Use Apache Parquet"
   ]
  }
 ],
 "metadata": {
  "kernelspec": {
   "display_name": "Python 3 (ipykernel)",
   "language": "python",
   "name": "python3"
  },
  "language_info": {
   "codemirror_mode": {
    "name": "ipython",
    "version": 3
   },
   "file_extension": ".py",
   "mimetype": "text/x-python",
   "name": "python",
   "nbconvert_exporter": "python",
   "pygments_lexer": "ipython3",
   "version": "3.10.11"
  }
 },
 "nbformat": 4,
 "nbformat_minor": 5
}

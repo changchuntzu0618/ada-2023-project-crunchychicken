{
 "cells": [
  {
   "cell_type": "markdown",
   "id": "a0ce2a4f",
   "metadata": {},
   "source": [
    "Based of scores-sepehr, goal is to see how to create an interactive table of top 5 directors per country for the datastory"
   ]
  },
  {
   "cell_type": "code",
   "execution_count": 1,
   "id": "2a8fef00",
   "metadata": {},
   "outputs": [],
   "source": [
    "from helpers.readers import read_dataframe_parquet, read_dataframe"
   ]
  },
  {
   "cell_type": "code",
   "execution_count": 2,
   "id": "bf68dbbc",
   "metadata": {},
   "outputs": [
    {
     "name": "stdout",
     "output_type": "stream",
     "text": [
      "CPU times: total: 422 ms\n",
      "Wall time: 424 ms\n"
     ]
    }
   ],
   "source": [
    "%%time\n",
    "cmu_movies_og = read_dataframe(\"cmu/movies\")"
   ]
  },
  {
   "cell_type": "code",
   "execution_count": 3,
   "id": "e93e305e",
   "metadata": {},
   "outputs": [
    {
     "name": "stdout",
     "output_type": "stream",
     "text": [
      "CPU times: total: 188 ms\n",
      "Wall time: 100 ms\n"
     ]
    }
   ],
   "source": [
    "%%time\n",
    "cmu_movies = read_dataframe_parquet(\"cmu/movies\")"
   ]
  },
  {
   "cell_type": "code",
   "execution_count": 2,
   "id": "14c91f3e",
   "metadata": {},
   "outputs": [],
   "source": [
    "import pandas as pd\n",
    "import numpy as np\n",
    "import seaborn as sns\n",
    "import matplotlib.pyplot as plt\n",
    "\n",
    "from helpers.readers import prepare_dataframes"
   ]
  },
  {
   "cell_type": "code",
   "execution_count": 5,
   "id": "cf53e197",
   "metadata": {},
   "outputs": [
    {
     "name": "stdout",
     "output_type": "stream",
     "text": [
      "Preprocess logs cmu_movies:\n",
      "✅ Fixed Movie Languages inside Movie Countries\n",
      "✅ Removed Deseret characters\n",
      "✅ Movie release date splitted to three columns: Movie release Year, Movie release Month, Movie release Day\n",
      "✅ Fixed 'Hunting Season' release year 1010 => 2010\n",
      "✅ Seperated freebase identifiers from Movie Languages, Movie Countries and Movie Genres\n",
      "✅ Replaced Hariyani with Haryanvi\n",
      "✅ Replaced Saami with Sami\n",
      "✅ The Flying Scotsman (1929 film) country fix\n",
      "✅ Ukranian SSR fix\n",
      "✅ Palestinian territories fix\n",
      "✅ Fixed huge runtimes\n",
      "✅ Removed series\n",
      "Finished loading cmu_movies\n",
      "Preprocess logs imdb_movies:\n",
      "✅ Moved genres from runtimeMinutes to genres column\n",
      "Finished loading imdb_info\n",
      "Finished loading imdb_ratings\n",
      "Finished loading imdb_crew\n",
      "Finished loading imdb_people\n",
      "Finished loading imdb_awards\n",
      "Total loading time: 88.31429779999962 seconds\n",
      "Finished merge 1/6 : cmu imdb movies\n",
      "Finished merge 2/6 : movies with imdb_info\n",
      "Finished merge 3/6 : movies with imdb_ratings\n",
      "Finished merge 4/6 : movies with imdb_crew\n",
      "Finished merge 5/6 : movies and nominations for tconst\n",
      "Finished merge 6/6 : movies and nominations for nconst\n",
      "Total merge time: 225.6339474999986 seconds\n",
      "CPU times: total: 3min 42s\n",
      "Wall time: 3min 47s\n"
     ]
    }
   ],
   "source": [
    "%%time\n",
    "movies, directors, awards = prepare_dataframes(use_parquet=False, save=True)"
   ]
  },
  {
   "cell_type": "code",
   "execution_count": 3,
   "id": "b0ad6b82",
   "metadata": {},
   "outputs": [
    {
     "name": "stdout",
     "output_type": "stream",
     "text": [
      "Finished loading cmu_movies\n",
      "Finished loading imdb_info\n",
      "Finished loading imdb_ratings\n",
      "Finished loading imdb_crew\n",
      "Finished loading imdb_people\n",
      "Finished loading imdb_awards\n",
      "Total loading time: 21.560000599998602 seconds\n",
      "Finished merge 1/6 : cmu imdb movies\n",
      "Finished merge 2/6 : movies with imdb_info\n",
      "Finished merge 3/6 : movies with imdb_ratings\n",
      "Finished merge 4/6 : movies with imdb_crew\n",
      "Finished merge 5/6 : movies and nominations for tconst\n",
      "Finished merge 6/6 : movies and nominations for nconst\n",
      "Total merge time: 172.0607111999998 seconds\n",
      "CPU times: total: 3min 7s\n",
      "Wall time: 2min 55s\n"
     ]
    }
   ],
   "source": [
    "%%time\n",
    "movies, directors, awards = prepare_dataframes(use_parquet=True, save=True)"
   ]
  },
  {
   "cell_type": "code",
   "execution_count": null,
   "id": "2a53427f",
   "metadata": {},
   "outputs": [],
   "source": []
  },
  {
   "cell_type": "code",
   "execution_count": null,
   "id": "277b4a30",
   "metadata": {},
   "outputs": [],
   "source": []
  },
  {
   "cell_type": "code",
   "execution_count": null,
   "id": "4260f483",
   "metadata": {},
   "outputs": [],
   "source": [
    "countries = []\n",
    "for item in movies.countries.str.split(','):\n",
    "    countries.extend(item)\n",
    "countries = set(countries)\n",
    "\n",
    "print(f'We have movies from {len(countries)} countries in the world.')\n",
    "\n",
    "# contains empty country\n",
    "for country in countries:\n",
    "    print(f\"Country: {country}\")"
   ]
  },
  {
   "cell_type": "code",
   "execution_count": null,
   "id": "bf07f4ba",
   "metadata": {},
   "outputs": [],
   "source": [
    "all_countries = movies[\"countries\"]\n",
    "\n",
    "split_countries = all_countries.str.split(',')\n",
    "\n",
    "flat_list = [country.strip() for sublist in split_countries for country in sublist]\n",
    "\n",
    "unique_countries = sorted(set(flat_list))\n",
    "\n",
    "len(unique_countries)\n",
    "#for country in unique_countries:\n",
    "#    print(country)"
   ]
  },
  {
   "cell_type": "code",
   "execution_count": null,
   "id": "de6b9988",
   "metadata": {},
   "outputs": [],
   "source": []
  }
 ],
 "metadata": {
  "kernelspec": {
   "display_name": "Python 3 (ipykernel)",
   "language": "python",
   "name": "python3"
  },
  "language_info": {
   "codemirror_mode": {
    "name": "ipython",
    "version": 3
   },
   "file_extension": ".py",
   "mimetype": "text/x-python",
   "name": "python",
   "nbconvert_exporter": "python",
   "pygments_lexer": "ipython3",
   "version": "3.10.11"
  }
 },
 "nbformat": 4,
 "nbformat_minor": 5
}

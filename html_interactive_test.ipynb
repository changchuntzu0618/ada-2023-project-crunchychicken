{
 "cells": [
  {
   "cell_type": "markdown",
   "id": "a0ce2a4f",
   "metadata": {},
   "source": [
    "Based of scores-sepehr, goal is to see how to create an interactive table of top 5 directors per country for the datastory"
   ]
  },
  {
   "cell_type": "code",
   "execution_count": 1,
   "id": "14c91f3e",
   "metadata": {},
   "outputs": [],
   "source": [
    "import pandas as pd\n",
    "import numpy as np\n",
    "import seaborn as sns\n",
    "import matplotlib.pyplot as plt\n",
    "\n",
    "from helpers.readers import prepare_dataframes"
   ]
  },
  {
   "cell_type": "code",
   "execution_count": null,
   "id": "cf53e197",
   "metadata": {},
   "outputs": [
    {
     "name": "stdout",
     "output_type": "stream",
     "text": [
      "Preprocess logs cmu_movies:\n",
      "✅ Fixed Movie Languages inside Movie Countries\n",
      "✅ Removed Deseret characters\n",
      "✅ Movie release date splitted to three columns: Movie release Year, Movie release Month, Movie release Day\n",
      "✅ Fixed 'Hunting Season' release year 1010 => 2010\n",
      "✅ Seperated freebase identifiers from Movie Languages, Movie Countries and Movie Genres\n",
      "✅ Replaced Hariyani with Haryanvi\n",
      "✅ Replaced Saami with Sami\n",
      "✅ The Flying Scotsman (1929 film) country fix\n",
      "✅ Ukranian SSR fix\n",
      "✅ Palestinian territories fix\n",
      "✅ Fixed huge runtimes\n",
      "✅ Removed series\n",
      "Preprocess logs imdb_movies:\n",
      "✅ Moved genres from runtimeMinutes to genres column\n",
      "Preprocess logs movieLens_movies:\n",
      "✅ Aligned bad rows\n"
     ]
    }
   ],
   "source": [
    "%%time\n",
    "movies, directors, awards = prepare_dataframes()"
   ]
  },
  {
   "cell_type": "code",
   "execution_count": null,
   "id": "4260f483",
   "metadata": {},
   "outputs": [],
   "source": [
    "countries = []\n",
    "for item in movies.countries.str.split(','):\n",
    "    countries.extend(item)\n",
    "countries = set(countries)\n",
    "\n",
    "print(f'We have movies from {len(countries)} countries in the world.')"
   ]
  },
  {
   "cell_type": "code",
   "execution_count": null,
   "id": "bf07f4ba",
   "metadata": {},
   "outputs": [],
   "source": [
    "all_countries = cmu_movies[\"Movie countries\"]\n",
    "\n",
    "split_countries = all_countries.str.split(',')\n",
    "\n",
    "flat_list = [country.strip() for sublist in split_countries for country in sublist]\n",
    "\n",
    "unique_countries = sorted(set(flat_list))\n",
    "\n",
    "for country in unique_countries:\n",
    "    print(country)"
   ]
  }
 ],
 "metadata": {
  "kernelspec": {
   "display_name": "Python 3 (ipykernel)",
   "language": "python",
   "name": "python3"
  },
  "language_info": {
   "codemirror_mode": {
    "name": "ipython",
    "version": 3
   },
   "file_extension": ".py",
   "mimetype": "text/x-python",
   "name": "python",
   "nbconvert_exporter": "python",
   "pygments_lexer": "ipython3",
   "version": "3.10.11"
  }
 },
 "nbformat": 4,
 "nbformat_minor": 5
}

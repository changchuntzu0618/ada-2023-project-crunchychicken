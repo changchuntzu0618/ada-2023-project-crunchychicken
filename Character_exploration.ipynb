{
 "cells": [
  {
   "cell_type": "code",
   "execution_count": 1,
   "id": "8d8eb1da",
   "metadata": {},
   "outputs": [
    {
     "data": {
      "text/html": [
       "<style>.container { width:90% !important; }</style>"
      ],
      "text/plain": [
       "<IPython.core.display.HTML object>"
      ]
     },
     "metadata": {},
     "output_type": "display_data"
    }
   ],
   "source": [
    "# mutliple outputs in cell\n",
    "from IPython.core.interactiveshell import InteractiveShell\n",
    "InteractiveShell.ast_node_interactivity = \"all\"\n",
    "\n",
    "# cell width\n",
    "from IPython.display import display, HTML\n",
    "display(HTML(\"<style>.container { width:90% !important; }</style>\"))"
   ]
  },
  {
   "cell_type": "markdown",
   "id": "ffdf45a9",
   "metadata": {},
   "source": [
    "### Imports and data folder path"
   ]
  },
  {
   "cell_type": "code",
   "execution_count": 2,
   "id": "5067729c",
   "metadata": {},
   "outputs": [],
   "source": [
    "import pandas as pd\n",
    "import os\n",
    "import numpy as np\n",
    "import matplotlib.pyplot as plt\n",
    "import seaborn as sns\n",
    "import ast\n",
    "\n",
    "colors = sns.color_palette(\"colorblind\")\n",
    "sns.set_palette(colors)\n",
    "plt.rcParams['axes.prop_cycle'] = plt.cycler(color=colors)\n",
    "\n",
    "PATH_IN = './Dataset/'"
   ]
  },
  {
   "cell_type": "markdown",
   "id": "8e4922f2",
   "metadata": {},
   "source": [
    "### Parser"
   ]
  },
  {
   "cell_type": "code",
   "execution_count": 3,
   "id": "3ebe4ace",
   "metadata": {},
   "outputs": [],
   "source": [
    "# add parser here"
   ]
  },
  {
   "cell_type": "markdown",
   "id": "6fb4a8bd",
   "metadata": {},
   "source": [
    "### Loading data"
   ]
  },
  {
   "cell_type": "code",
   "execution_count": null,
   "id": "01d9eae1",
   "metadata": {},
   "outputs": [],
   "source": [
    "character_fname = os.path.join(PATH_IN, 'character.metadata.tsv')\n",
    "\n",
    "character_column_names = [\n",
    "    \"Wikipedia Movie ID\",\n",
    "    \"Freebase Movie ID\",\n",
    "    \"Movie release date\",\n",
    "    \"Character Name\",\n",
    "    \"Actor DOB\",\n",
    "    \"Actor gender\",\n",
    "    \"Actor height\",\n",
    "    \"Actor ethnicity\",\n",
    "    \"Actor Name\",\n",
    "    \"Actor age at movie release\",\n",
    "    \"Freebase character map\",\n",
    "]\n",
    "\n",
    "character_data = []\n",
    "\n",
    "with open(character_fname, 'r') as f:\n",
    "    for i, line in enumerate(f): \n",
    "        elements = line.strip().split()\n",
    "        parsed_data = parse_row(elements)\n",
    "        character_data.append(parsed_data)\n",
    "        \n",
    "characters = pd.DataFrame(character_data, columns= character_column_names)\n",
    "\n",
    "characters"
   ]
  },
  {
   "cell_type": "code",
   "execution_count": null,
   "id": "f21f0f61",
   "metadata": {},
   "outputs": [],
   "source": []
  }
 ],
 "metadata": {
  "kernelspec": {
   "display_name": "Python 3 (ipykernel)",
   "language": "python",
   "name": "python3"
  },
  "language_info": {
   "codemirror_mode": {
    "name": "ipython",
    "version": 3
   },
   "file_extension": ".py",
   "mimetype": "text/x-python",
   "name": "python",
   "nbconvert_exporter": "python",
   "pygments_lexer": "ipython3",
   "version": "3.10.11"
  }
 },
 "nbformat": 4,
 "nbformat_minor": 5
}

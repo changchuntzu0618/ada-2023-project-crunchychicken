{
 "cells": [
  {
   "cell_type": "code",
   "execution_count": null,
   "id": "1fb8c22b",
   "metadata": {},
   "outputs": [],
   "source": [
    "import pandas as pd\n",
    "import numpy as np\n",
    "import seaborn as sns\n",
    "import matplotlib.pyplot as plt\n",
    "from tqdm.notebook import tqdm\n",
    "from collections import defaultdict\n",
    "import pickle\n",
    "import gc\n",
    "\n",
    "from helpers.readers import prepare_dataframes, read_dataframe_parquet, read_dataframe\n",
    "from helpers.readers import save_parquet_to_generated, save_dict_to_generated, load_dict_from_generated\n",
    "from helpers.utils import PALETTE_D, PALETTE_C"
   ]
  },
  {
   "cell_type": "markdown",
   "id": "96c9b42a",
   "metadata": {},
   "source": [
    "# Loading dataframes"
   ]
  },
  {
   "cell_type": "code",
   "execution_count": null,
   "id": "3e924880",
   "metadata": {},
   "outputs": [],
   "source": [
    "movies = read_dataframe_parquet(\"merged/movies\")\n",
    "directors = read_dataframe_parquet(\"merged/directors\")\n",
    "awards = read_dataframe_parquet(\"merged/awards\")"
   ]
  },
  {
   "cell_type": "code",
   "execution_count": null,
   "id": "04761c73",
   "metadata": {},
   "outputs": [],
   "source": [
    "all_countries = movies[\"countries\"]\n",
    "split_countries = all_countries.str.split(',')\n",
    "flat_list = [country.strip() for sublist in split_countries for country in sublist]\n",
    "countries = sorted(set(flat_list))\n",
    "print(f'We have movies from {len(countries)} countries in the world.')"
   ]
  },
  {
   "cell_type": "code",
   "execution_count": null,
   "id": "3fc00aba",
   "metadata": {},
   "outputs": [],
   "source": [
    "for country in ['Greece',\"Egypt\"]:#, 'Egypt', 'Argentina', 'Pakistan', 'Philippines']:\n",
    "    g = sns.jointplot(x=movies.rating, y=movies.votes, kind='hex', color=\"#4CB391\", joint_kws={'yscale': 'log'})\n",
    "    g.fig.set_figwidth(3)  \n",
    "    g.fig.set_figheight(3)  \n",
    "    \n",
    "    df = movies[movies.countries.str.contains(country) & ~movies.countries.str.contains(',')]\n",
    "    sns.scatterplot(x=df.rating, y=df.votes, color='r', alpha=.4, s=5, ax=g.ax_joint, label=country)\n",
    "    sns.kdeplot(x=df.rating, y=df.votes, color='r', alpha=.4, ax=g.ax_joint)\n",
    "    g.ax_joint.legend()"
   ]
  },
  {
   "cell_type": "markdown",
   "id": "b518db9f",
   "metadata": {},
   "source": [
    "### Movie score"
   ]
  },
  {
   "cell_type": "code",
   "execution_count": null,
   "id": "8699c109",
   "metadata": {},
   "outputs": [],
   "source": [
    "%%time\n",
    "\n",
    "def compute_score_vectorized(df):\n",
    "    df['score'] = np.log10(df['votes']) * df['rating']\n",
    "    return df\n",
    "\n",
    "movies = compute_score_vectorized(movies)"
   ]
  },
  {
   "cell_type": "code",
   "execution_count": null,
   "id": "a7be2a61",
   "metadata": {},
   "outputs": [],
   "source": [
    "def list_top_movies(country: str, top=5):\n",
    "    cols = ['title', 'score', 'rating', 'votes', 'revenue', 'release', 'genres']\n",
    "    display(movies[movies.countries.str.contains(country)].sort_values(by='score', ascending=False)[:top][cols])\n",
    "    \n",
    "list_top_movies('Iran')"
   ]
  },
  {
   "cell_type": "markdown",
   "id": "0dea42e4",
   "metadata": {},
   "source": [
    "### Score for directors"
   ]
  },
  {
   "cell_type": "code",
   "execution_count": null,
   "id": "18ddf696",
   "metadata": {},
   "outputs": [],
   "source": [
    "len(movies[movies[\"directors\"].str.contains(\",\", na=False)]) # some movies have multiple directors"
   ]
  },
  {
   "cell_type": "code",
   "execution_count": null,
   "id": "448aa1d7",
   "metadata": {},
   "outputs": [],
   "source": [
    "movies_exploded = movies.reset_index(drop=False).copy()\n",
    "\n",
    "movies_exploded['directors'] = movies_exploded['directors'].str.split(',')\n",
    "movies_exploded = movies_exploded.explode('directors')\n",
    "\n",
    "len(movies_exploded[movies_exploded[\"directors\"].str.contains(\",\", na=False)]) # after explode no more duplicates"
   ]
  },
  {
   "cell_type": "markdown",
   "id": "890c4e6c",
   "metadata": {},
   "source": [
    "```python\n",
    "%%time\n",
    "directors.reset_index(inplace=True)\n",
    "\n",
    "\n",
    "def hits_metric(data, threshold):\n",
    "    return data['score'].gt(threshold).sum()\n",
    "\n",
    "def rate_metric(data, rate_threshold, vote_threshold):\n",
    "    return data[(data['rating'] >= rate_threshold) & (data['votes'] >= vote_threshold)].shape[0]\n",
    "\n",
    "def avg_top_n_scores(data, n):\n",
    "    if len(data) >= n:\n",
    "        return data.nlargest(n, 'score')['score'].mean()\n",
    "    return pd.NA\n",
    "\n",
    "grouped = movies_exploded.groupby('directors')\n",
    "director_metrics = pd.DataFrame(index=grouped.groups.keys())\n",
    "\n",
    "# Calculate each metric\n",
    "director_metrics['hits-30'] = grouped.apply(hits_metric, threshold=30)\n",
    "director_metrics['hits-40'] = grouped.apply(hits_metric, threshold=40)\n",
    "director_metrics['hits-45'] = grouped.apply(hits_metric, threshold=45)\n",
    "director_metrics['hits-50'] = grouped.apply(hits_metric, threshold=50)\n",
    "director_metrics['rate-7.0'] = grouped.apply(rate_metric, rate_threshold=7.0, vote_threshold=1000)\n",
    "director_metrics['rate-7.5'] = grouped.apply(rate_metric, rate_threshold=7.5, vote_threshold=1000)\n",
    "director_metrics['rate-8.0'] = grouped.apply(rate_metric, rate_threshold=8.0, vote_threshold=1000)\n",
    "director_metrics['rate-8.5'] = grouped.apply(rate_metric, rate_threshold=8.5, vote_threshold=1000)\n",
    "for n in [3, 5, 10]:\n",
    "    director_metrics[f'avg-{n}'] = grouped.apply(avg_top_n_scores, n=n)\n",
    "\n",
    "director_metrics.reset_index(inplace=True)\n",
    "director_metrics.rename(columns={'index': 'nconst'}, inplace=True)\n",
    "\n",
    "# there is probably a way to optimize even further but for now 20mins => 3mins is sufficient, would probably involve \n",
    "# a smart grouping and mapping to avoid using apply()\n",
    "```"
   ]
  },
  {
   "cell_type": "code",
   "execution_count": null,
   "id": "1c7202e9",
   "metadata": {},
   "outputs": [],
   "source": [
    "# shortcut to not wait 2-3 mins (to remove for final run)\n",
    "directors.reset_index(inplace=True)\n",
    "director_metrics = read_dataframe_parquet(\"directors/metrics\")"
   ]
  },
  {
   "cell_type": "code",
   "execution_count": null,
   "id": "1dc35034",
   "metadata": {},
   "outputs": [],
   "source": [
    "directors_with_country = pd.merge(\n",
    "    director_metrics,\n",
    "    movies_exploded[['directors', 'countries']],\n",
    "    left_on='nconst',\n",
    "    right_on='directors',\n",
    "    how='left'\n",
    ")"
   ]
  },
  {
   "cell_type": "code",
   "execution_count": null,
   "id": "05debb19",
   "metadata": {},
   "outputs": [],
   "source": [
    "# minimal version\n",
    "def list_top_directors(country: str, top=5, score='avg-3'):\n",
    "\n",
    "    directors_in_country = directors_with_country[directors_with_country['countries'].str.contains(country, na=False)]\n",
    "\n",
    "    grouped_directors = directors_in_country.groupby('nconst').agg({score: 'mean'})\n",
    "\n",
    "    top_directors = grouped_directors.sort_values(by=score, ascending=False).head(top)\n",
    "\n",
    "    return top_directors#.index.tolist()\n",
    "\n",
    "list_top_directors('Iran', top=5)"
   ]
  },
  {
   "cell_type": "code",
   "execution_count": null,
   "id": "2ff99360",
   "metadata": {},
   "outputs": [],
   "source": [
    "# as in scores-sepehr\n",
    "def list_top_directors(country: str, top=5, score='avg-3'):\n",
    "    directors_in_country = directors_with_country[directors_with_country['countries'].str.contains(country, na=False)]\n",
    "    grouped_directors = directors_in_country.groupby('nconst').agg({\n",
    "        'hits-30': 'mean', \n",
    "        'hits-40': 'mean', \n",
    "        'hits-45': 'mean', \n",
    "        'hits-50': 'mean', \n",
    "        'rate-7.0': 'mean', \n",
    "        'rate-7.5': 'mean', \n",
    "        'rate-8.0': 'mean', \n",
    "        'rate-8.5': 'mean', \n",
    "        'avg-3': 'mean', \n",
    "        'avg-5': 'mean', \n",
    "        'avg-10': 'mean'\n",
    "    })\n",
    "    top_directors = grouped_directors.sort_values(by=score, ascending=False).head(top)\n",
    "    \n",
    "    top_directors_detailed = pd.merge(\n",
    "        top_directors,\n",
    "        directors[['nconst', 'primaryName', 'birthYear', 'deathYear', 'awardsNominated', 'awardsWon']],\n",
    "        on='nconst',\n",
    "        how='left'\n",
    "    )\n",
    "    columns_order = [\n",
    "        'nconst', 'primaryName', 'birthYear', 'deathYear', 'awardsNominated', 'awardsWon',\n",
    "        'hits-30', 'hits-40', 'hits-45', 'hits-50', \n",
    "        'rate-7.0', 'rate-7.5', 'rate-8.0', 'rate-8.5', \n",
    "        'avg-3', 'avg-5', 'avg-10'\n",
    "    ]\n",
    "    top_directors_detailed = top_directors_detailed[columns_order]\n",
    "    \n",
    "    return top_directors_detailed\n",
    "\n",
    "list_top_directors('Iran', top=5)"
   ]
  },
  {
   "cell_type": "code",
   "execution_count": null,
   "id": "6bb3a2b3",
   "metadata": {},
   "outputs": [],
   "source": [
    "directors = pd.merge(directors, director_metrics, left_on=\"nconst\", right_on=\"nconst\", how=\"left\")"
   ]
  },
  {
   "cell_type": "code",
   "execution_count": null,
   "id": "ce10b38a",
   "metadata": {},
   "outputs": [],
   "source": [
    "directors.set_index('nconst', inplace=True) # needed nconst as column for top_directors_detailed merge of list_top_directors"
   ]
  }
 ],
 "metadata": {
  "kernelspec": {
   "display_name": "Python 3 (ipykernel)",
   "language": "python",
   "name": "python3"
  },
  "language_info": {
   "codemirror_mode": {
    "name": "ipython",
    "version": 3
   },
   "file_extension": ".py",
   "mimetype": "text/x-python",
   "name": "python",
   "nbconvert_exporter": "python",
   "pygments_lexer": "ipython3",
   "version": "3.10.11"
  }
 },
 "nbformat": 4,
 "nbformat_minor": 5
}
